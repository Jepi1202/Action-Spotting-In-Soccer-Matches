{
 "cells": [
  {
   "cell_type": "markdown",
   "metadata": {},
   "source": [
    "### Evaluate thresholds for each classes"
   ]
  },
  {
   "cell_type": "code",
   "execution_count": 51,
   "metadata": {},
   "outputs": [],
   "source": [
    "import numpy as np\n",
    "from tqdm import tqdm\n",
    "import os\n",
    "import json\n",
    "from Network_Copy1 import Network\n",
    "from Evaluator import Evaluator\n",
    "\n",
    "import torch\n",
    "import numpy as np\n",
    "import torch.nn as nn\n",
    "import torch.nn.functional as F\n",
    "import matplotlib.pyplot as plt\n",
    "import torchvision\n",
    "import math\n",
    "import os\n",
    "import copy\n",
    "import time\n",
    "import sqlite3 as sql\n",
    "import cv2\n",
    "from tqdm import tqdm"
   ]
  },
  {
   "cell_type": "code",
   "execution_count": 2,
   "metadata": {},
   "outputs": [
    {
     "name": "stdout",
     "output_type": "stream",
     "text": [
      "20\n",
      "40\n",
      "60\n",
      "80\n",
      "100\n",
      "120\n",
      "140\n",
      "160\n",
      "180\n",
      "200\n",
      "220\n",
      "240\n",
      "260\n",
      "280\n",
      "300\n",
      "320\n",
      "340\n",
      "360\n",
      "380\n",
      "400\n",
      "420\n",
      "440\n",
      "460\n",
      "480\n",
      "500\n"
     ]
    }
   ],
   "source": [
    "features = {}\n",
    "json_paths = {}\n",
    "labels = {}\n",
    "timeLabel = {}\n",
    "\n",
    "features['train'] = []\n",
    "features['validation'] = []\n",
    "features['test'] = []\n",
    "\n",
    "labels['train'] = []\n",
    "labels['validation'] = []\n",
    "labels['test'] = []\n",
    "\n",
    "timeLabel['train'] = []\n",
    "timeLabel['validation'] = []\n",
    "timeLabel['test'] = []\n",
    "\n",
    "json_paths['train'] = []\n",
    "json_paths['validation'] = []\n",
    "json_paths['test'] = []\n",
    "\n",
    "\n",
    "path = '/scratch/users/mdelabrassinne/Database/'\n",
    "\n",
    "nbMatch = 0\n",
    "\n",
    "val = np.zeros((500))\n",
    "val[450:475] = 1\n",
    "val[475:500] = 2\n",
    "val = val.astype(int)\n",
    "np.random.seed(42)\n",
    "np.random.shuffle(val)\n",
    "types = [\"train\", \"validation\", \"test\"]\n",
    "current = types[val[nbMatch]]\n",
    "\n",
    "\n",
    "\n",
    "for root, dirs, files in os.walk(path):\n",
    "    #print(files)\n",
    "    \n",
    "    for file in files:    \n",
    "        if file.endswith(\"Labels-v2.json\"):\n",
    "            json_paths[current].append(os.path.join(root, file))\n",
    "            json_paths[current].append(os.path.join(root, file))\n",
    "            p = os.path.dirname(os.path.join(root, file))\n",
    "            \n",
    "            dire = os.path.basename(p).replace('_', ' ')\n",
    "            p = os.path.join(os.path.dirname(p), dire)\n",
    "            \n",
    "            for r, d, fs in os.walk(p):\n",
    "                for f in fs:\n",
    "                    if f.endswith(\"baidu_soccer_embeddings.npy\"):\n",
    "                        p_current = os.path.join(r, f)\n",
    "                        features[current].append(p_current)\n",
    "                        #print(p_current)\n",
    "\n",
    "            \n",
    "            jsonPath =(os.path.join(root, file))\n",
    "            #print(jsonPath)\n",
    "            \n",
    "            #opening of the json\n",
    "            \n",
    "            f = open(jsonPath)\n",
    "            d = json.load(f)\n",
    "            #print(d)\n",
    "            \n",
    "            #print(jsonPath)\n",
    "            \n",
    "            try:\n",
    "                #print('test')\n",
    "                lab = [d['annotations'][i]['label'] for i in range(len(d['annotations'])) if d['annotations'][i]['gameTime'][0] ==  '1']         # 1fps, don't know if keep \n",
    "                time = [60 * int(d['annotations'][i]['gameTime'].split(':')[0][-2:]) + int(d['annotations'][i]['gameTime'].split(':')[1][:2]) for i in range(len(d['annotations'])) if d['annotations'][i]['gameTime'][0] ==  '1']\n",
    "                #print([d['annotations'][i]['gameTime'] for i in range(len(d['annotations']))])\n",
    "                \n",
    "                #print(time)\n",
    "                \n",
    "                labels[current].append(lab)\n",
    "                timeLabel[current].append(time)\n",
    "                \n",
    "                lab = [d['annotations'][i]['label'] for i in range(len(d['annotations'])) if d['annotations'][i]['gameTime'][0] ==  '2']         # 1fps, don't know if keep \n",
    "                time = [60 * int(d['annotations'][i]['gameTime'].split(':')[0][-2:]) + int(d['annotations'][i]['gameTime'].split(':')[1][:2]) for i in range(len(d['annotations'])) if d['annotations'][i]['gameTime'][0] ==  '2']\n",
    "                \n",
    "                #print(time)\n",
    "                labels[current].append(lab)\n",
    "                timeLabel[current].append(time)\n",
    "                \n",
    "            except:\n",
    "                #print(d)\n",
    "                lab = [d['predictions'][i]['label'] for i in range(len(d['predictions'])) if d['predictions'][i]['gameTime'][0] == '1']         # 1fps, don't know if keep \n",
    "                time = [60 * int(d['predictions'][i]['gameTime'].split(':')[0][-2:]) + int(d['predictions'][i]['gameTime'].split(':')[1][:2]) for i in range(len(d['predictions'])) if d['predictions'][i]['gameTime'][0] == '1']\n",
    "                \n",
    "                labels[current].append(lab)\n",
    "                timeLabel[current].append(time)\n",
    "                \n",
    "                lab = [d['predictions'][i]['label'] for i in range(len(d['predictions'])) if d['predictions'][i]['gameTime'][0] == '2']         # 1fps, don't know if keep \n",
    "                time = [60 * int(d['predictions'][i]['gameTime'].split(':')[0][-2:]) + int(d['predictions'][i]['gameTime'].split(':')[1][:2]) for i in range(len(d['predictions'])) if d['predictions'][i]['gameTime'][0] == '2']\n",
    "                \n",
    "                labels[current].append(lab)\n",
    "                timeLabel[current].append(time)\n",
    "                \n",
    "           \n",
    "            nbMatch += 1     #one more match will be seen\n",
    "            \n",
    "            if (nbMatch >= 500):\n",
    "                current = \"train\"\n",
    "            else:\n",
    "                current = types[val[nbMatch]]\n",
    "            if nbMatch % 20 == 0:\n",
    "                print(nbMatch)\n",
    "            \n",
    "            \n",
    "            \n",
    "\n",
    "            \n",
    "data_l = list(zip(features['train'], labels['train'], timeLabel['train'], json_paths['train']))\n",
    "data_val = list(zip(features['validation'], labels['validation'], timeLabel['validation'], json_paths['validation']))\n",
    "data_test = list(zip(features['test'], labels['test'], timeLabel['test'], json_paths['test']))"
   ]
  },
  {
   "cell_type": "code",
   "execution_count": 3,
   "metadata": {},
   "outputs": [],
   "source": [
    "dataset = data_val # change to data_test for test_set\n",
    "features1 = []\n",
    "features2 = []\n",
    "json_sols = []\n",
    "for i in range(len(dataset)//2):\n",
    "    features1.append(dataset[2 * i][0])\n",
    "    features2.append(dataset[2 * i + 1][0])\n",
    "    json_sols.append(dataset[2 * i][3])\n",
    "    if dataset[2 * i][3] != dataset[2 * i + 1][3]:\n",
    "        print(dataset[2 * i][3])\n",
    "        print(dataset[2 * i + 1][3])"
   ]
  },
  {
   "cell_type": "code",
   "execution_count": 7,
   "metadata": {},
   "outputs": [],
   "source": [
    "classes = ['Kick-off', \n",
    "           'Ball out of play', \n",
    "           'Throw-in', 'Foul', \n",
    "           'Clearance', \n",
    "           'Indirect free-kick', \n",
    "           'Shots on target', \n",
    "           'Corner', \n",
    "           'Shots off target', \n",
    "           'Direct free-kick', \n",
    "           'Yellow card', \n",
    "           'Substitution', \n",
    "           'Red card', \n",
    "           'Offside', \n",
    "           'Goal', \n",
    "           'Penalty', \n",
    "           'Yellow->red card']\n",
    "\n",
    "nms_windows = [20 for i in classes]\n",
    "\n",
    "dir_results = \"/scratch/users/mdelabrassinne/Results\"\n",
    "\n",
    "dir_model = \"/home/mdelabrassinne/DSproject/Milestone3/Time Measures\"\n",
    "conf_mod_path = os.path.join(dir_model, \"confidence_window_64.pt\")\n",
    "disp_mod_path = os.path.join(dir_model, \"disp_window_64.pt\")\n",
    "\n",
    "model = Network(conf_mod_path, disp_mod_path)\n",
    "\n",
    "if not os.path.exists(dir_results):\n",
    "    os.mkdir(dir_results)\n",
    "    "
   ]
  },
  {
   "cell_type": "markdown",
   "metadata": {},
   "source": [
    "##### Start to compute the mAP and determine the threshold based on that"
   ]
  },
  {
   "cell_type": "code",
   "execution_count": 8,
   "metadata": {},
   "outputs": [
    {
     "name": "stderr",
     "output_type": "stream",
     "text": [
      "100%|██████████| 12/12 [00:10<00:00,  1.15it/s]\n"
     ]
    }
   ],
   "source": [
    "SEQUENCE_SIZE = 64\n",
    "\n",
    "evaluator = Evaluator(fps=1, nms_window = nms_windows, classes=classes)\n",
    "dic = evaluator.evaluate_map(model.get_models(), features1, features2, SEQUENCE_SIZE, json_sols, dir_results)"
   ]
  },
  {
   "cell_type": "code",
   "execution_count": 9,
   "metadata": {},
   "outputs": [
    {
     "name": "stdout",
     "output_type": "stream",
     "text": [
      "0.769096113606714\n",
      "[0.9272727272727276, 0.7959608477783278, 0.8578405393154795, 0.8014407300166773, 0.681976021873334, 0.6108227389739063, 0.5666693210154224, 0.7109529714412793, 0.7966062533373252, 0.7975920651775983, 0.7959373878931224, 0.646848845859026, 0.7688468466731909, 0.8647759489743816, 0.8709253964561413, 1.0, 0.5801652892561985]\n"
     ]
    }
   ],
   "source": [
    "res_init = dic['a_mAP_per_class']\n",
    "print(dic['a_mAP'])\n",
    "print(dic['a_mAP_per_class'])"
   ]
  },
  {
   "cell_type": "markdown",
   "metadata": {},
   "source": [
    "Start to initiate thresholds and see if the difference from the res_init is not too big."
   ]
  },
  {
   "cell_type": "code",
   "execution_count": 23,
   "metadata": {},
   "outputs": [],
   "source": [
    "# Soccer net order of action in mAP\n",
    "list_actions = ['Penalty', 'Kick-off', 'Goal', 'Substitution', 'Offside', 'Shots on target', 'Shots off target', 'Clearance','Ball out of play', 'Throw-in', 'Foul', 'Indirect free-kick', 'Direct free-kick', 'Corner', 'Yellow card', 'Red card', 'Yellow->red card']"
   ]
  },
  {
   "cell_type": "code",
   "execution_count": 18,
   "metadata": {},
   "outputs": [],
   "source": [
    "classes = ['Kick-off', \n",
    "           'Ball out of play', \n",
    "           'Throw-in', 'Foul', \n",
    "           'Clearance', \n",
    "           'Indirect free-kick', \n",
    "           'Shots on target', \n",
    "           'Corner', \n",
    "           'Shots off target', \n",
    "           'Direct free-kick', \n",
    "           'Yellow card', \n",
    "           'Substitution', \n",
    "           'Red card', \n",
    "           'Offside', \n",
    "           'Goal', \n",
    "           'Penalty', \n",
    "           'Yellow->red card']\n",
    "\n",
    "nms_windows = [20 for i in classes]\n",
    "\n",
    "dir_results = \"/scratch/users/mdelabrassinne/Results\"\n",
    "\n",
    "dir_model = \"/home/mdelabrassinne/DSproject/Milestone3/Time Measures\"\n",
    "conf_mod_path = os.path.join(dir_model, \"confidence_window_64.pt\")\n",
    "disp_mod_path = os.path.join(dir_model, \"disp_window_64.pt\")\n",
    "\n",
    "model = Network(conf_mod_path, disp_mod_path)\n",
    "\n",
    "if not os.path.exists(dir_results):\n",
    "    os.mkdir(dir_results)\n",
    "    "
   ]
  },
  {
   "cell_type": "markdown",
   "metadata": {},
   "source": [
    "### Kick-off"
   ]
  },
  {
   "cell_type": "code",
   "execution_count": 58,
   "metadata": {},
   "outputs": [],
   "source": [
    "from Evaluator_threshold import EvaluatorThreshold\n",
    "\n",
    "action = 'Kick-off'\n",
    "i = list_actions.index(action)\n",
    "\n",
    "th= [0]\n",
    "MAP = [dic['a_mAP_per_class'][i]]\n",
    "SEQUENCE_SIZE = 64\n",
    "list_th = [0.1, 0.2,0.3,0.4,0.5]"
   ]
  },
  {
   "cell_type": "code",
   "execution_count": 59,
   "metadata": {},
   "outputs": [
    {
     "name": "stderr",
     "output_type": "stream",
     "text": [
      "100%|██████████| 12/12 [00:10<00:00,  1.20it/s]\n",
      "100%|██████████| 12/12 [00:10<00:00,  1.20it/s]\n",
      "100%|██████████| 12/12 [00:10<00:00,  1.19it/s]\n",
      "100%|██████████| 12/12 [00:10<00:00,  1.20it/s]\n",
      "100%|██████████| 12/12 [00:10<00:00,  1.19it/s]\n"
     ]
    }
   ],
   "source": [
    "for threshold in list_th:\n",
    "    th.append(threshold)\n",
    "    evaluatorT = EvaluatorThreshold(fps=1, nms_window = nms_windows, classes=classes, action=action, threshold=threshold)\n",
    "    dic_init = evaluatorT.evaluate_map(model.get_models(), features1, features2, SEQUENCE_SIZE, json_sols, dir_results)\n",
    "    MAP.append(dic_init['a_mAP_per_class'][i])"
   ]
  },
  {
   "cell_type": "code",
   "execution_count": 61,
   "metadata": {},
   "outputs": [
    {
     "name": "stdout",
     "output_type": "stream",
     "text": [
      "[0, 0.1, 0.2, 0.3, 0.4, 0.5] [0.7959608477783278, 0.7688305707744495, 0.7115586123243657, 0.6334648110156029, 0.6299825935395141, 0.5448431814498901]\n"
     ]
    },
    {
     "data": {
      "image/png": "[encoded data removed]",
      "text/plain": [
       "<Figure size 600x400 with 1 Axes>"
      ]
     },
     "metadata": {},
     "output_type": "display_data"
    }
   ],
   "source": [
    "fig = plt.figure(figsize=(6, 4))\n",
    "ax = plt.axes()\n",
    "print(th, MAP)\n",
    "ax.plot(th, MAP)\n",
    "ax.set_ylabel(f\"mAP for {action}\")\n",
    "ax.set_xlabel(f\"Threshold\")\n",
    "plt.grid()\n",
    "plt.show()"
   ]
  },
  {
   "cell_type": "markdown",
   "metadata": {},
   "source": [
    "### Ball out of play"
   ]
  },
  {
   "cell_type": "code",
   "execution_count": 40,
   "metadata": {},
   "outputs": [
    {
     "name": "stderr",
     "output_type": "stream",
     "text": [
      "100%|██████████| 12/12 [00:09<00:00,  1.20it/s]"
     ]
    },
    {
     "name": "stdout",
     "output_type": "stream",
     "text": [
      "mAP = 0.769096113606714\n",
      "Init mAP of Ball out of play is 0.7966062533373252\n",
      "mAP th=0.1 of Ball out of play is 0.7966062533373252\n"
     ]
    },
    {
     "name": "stderr",
     "output_type": "stream",
     "text": [
      "\n"
     ]
    }
   ],
   "source": [
    "action = 'Ball out of play'\n",
    "threshold = 0.1\n",
    "SEQUENCE_SIZE = 64\n",
    "\n",
    "evaluatorT = EvaluatorThreshold(fps=1, nms_window = nms_windows, classes=classes, action=action, threshold=threshold)\n",
    "dic_init = evaluatorT.evaluate_map(model.get_models(), features1, features2, SEQUENCE_SIZE, json_sols, dir_results)\n",
    "\n",
    "print(f\"mAP = {dic_init['a_mAP']}\")\n",
    "i = list_actions.index(action)\n",
    "print(f\"Init mAP of {action} is {dic['a_mAP_per_class'][i]}\")\n",
    "print(f\"mAP th={threshold} of {action} is {dic_init['a_mAP_per_class'][i]}\")"
   ]
  },
  {
   "cell_type": "code",
   "execution_count": 41,
   "metadata": {},
   "outputs": [
    {
     "name": "stderr",
     "output_type": "stream",
     "text": [
      "100%|██████████| 12/12 [00:09<00:00,  1.20it/s]"
     ]
    },
    {
     "name": "stdout",
     "output_type": "stream",
     "text": [
      "mAP = 0.7656851678324156\n",
      "Init mAP of Ball out of play is 0.7966062533373252\n",
      "mAP th=0.5 of Ball out of play is 0.7386201751742543\n"
     ]
    },
    {
     "name": "stderr",
     "output_type": "stream",
     "text": [
      "\n"
     ]
    }
   ],
   "source": [
    "action = 'Ball out of play'\n",
    "threshold = 0.5\n",
    "SEQUENCE_SIZE = 64\n",
    "\n",
    "evaluatorT = EvaluatorThreshold(fps=1, nms_window = nms_windows, classes=classes, action=action, threshold=threshold)\n",
    "dic_init = evaluatorT.evaluate_map(model.get_models(), features1, features2, SEQUENCE_SIZE, json_sols, dir_results)\n",
    "\n",
    "print(f\"mAP = {dic_init['a_mAP']}\")\n",
    "i = list_actions.index(action)\n",
    "print(f\"Init mAP of {action} is {dic['a_mAP_per_class'][i]}\")\n",
    "print(f\"mAP th={threshold} of {action} is {dic_init['a_mAP_per_class'][i]}\")"
   ]
  },
  {
   "cell_type": "code",
   "execution_count": 42,
   "metadata": {},
   "outputs": [
    {
     "name": "stderr",
     "output_type": "stream",
     "text": [
      "100%|██████████| 12/12 [00:09<00:00,  1.20it/s]"
     ]
    },
    {
     "name": "stdout",
     "output_type": "stream",
     "text": [
      "mAP = 0.7686526186177018\n",
      "Init mAP of Ball out of play is 0.7966062533373252\n",
      "mAP th=0.25 of Ball out of play is 0.7890668385241187\n"
     ]
    },
    {
     "name": "stderr",
     "output_type": "stream",
     "text": [
      "\n"
     ]
    }
   ],
   "source": [
    "action = 'Ball out of play'\n",
    "threshold = 0.25\n",
    "SEQUENCE_SIZE = 64\n",
    "\n",
    "evaluatorT = EvaluatorThreshold(fps=1, nms_window = nms_windows, classes=classes, action=action, threshold=threshold)\n",
    "dic_init = evaluatorT.evaluate_map(model.get_models(), features1, features2, SEQUENCE_SIZE, json_sols, dir_results)\n",
    "\n",
    "print(f\"mAP = {dic_init['a_mAP']}\")\n",
    "i = list_actions.index(action)\n",
    "print(f\"Init mAP of {action} is {dic['a_mAP_per_class'][i]}\")\n",
    "print(f\"mAP th={threshold} of {action} is {dic_init['a_mAP_per_class'][i]}\")"
   ]
  },
  {
   "cell_type": "code",
   "execution_count": null,
   "metadata": {},
   "outputs": [],
   "source": []
  }
 ],
 "metadata": {
  "kernelspec": {
   "display_name": "Python [conda env:envDeepLearning]",
   "language": "python",
   "name": "conda-env-envDeepLearning-py"
  },
  "language_info": {
   "codemirror_mode": {
    "name": "ipython",
    "version": 3
   },
   "file_extension": ".py",
   "mimetype": "text/x-python",
   "name": "python",
   "nbconvert_exporter": "python",
   "pygments_lexer": "ipython3",
   "version": "3.9.16"
  }
 },
 "nbformat": 4,
 "nbformat_minor": 4
}
