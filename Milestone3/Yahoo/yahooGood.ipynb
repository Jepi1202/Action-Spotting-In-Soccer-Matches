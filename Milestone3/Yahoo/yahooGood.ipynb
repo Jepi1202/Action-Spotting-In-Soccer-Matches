{
 "cells": [
  {
   "cell_type": "code",
   "execution_count": 1,
   "metadata": {},
   "outputs": [
    {
     "name": "stderr",
     "output_type": "stream",
     "text": [
      "/home/mdelabrassinne/anaconda3/envs/envDeepLearning/lib/python3.9/site-packages/tqdm/auto.py:22: TqdmWarning: IProgress not found. Please update jupyter and ipywidgets. See https://ipywidgets.readthedocs.io/en/stable/user_install.html\n",
      "  from .autonotebook import tqdm as notebook_tqdm\n",
      "/home/mdelabrassinne/anaconda3/envs/envDeepLearning/lib/python3.9/site-packages/torchvision/io/image.py:13: UserWarning: Failed to load image Python extension: /home/mdelabrassinne/anaconda3/envs/envDeepLearning/lib/python3.9/site-packages/torchvision/image.so: undefined symbol: _ZN5torch3jit17parseSchemaOrNameERKNSt7__cxx1112basic_stringIcSt11char_traitsIcESaIcEEE\n",
      "  warn(f\"Failed to load image Python extension: {e}\")\n"
     ]
    }
   ],
   "source": [
    "import numpy as np\n",
    "from tqdm import tqdm\n",
    "import os\n",
    "import json\n",
    "from torch.utils.data import Dataset, Sampler\n",
    "import torch.utils.data as data\n",
    "\n",
    "import torch\n",
    "import numpy as np\n",
    "import torch.nn as nn\n",
    "import torch.nn.functional as F\n",
    "from torch.optim import lr_scheduler\n",
    "import matplotlib.pyplot as plt\n",
    "from sklearn.preprocessing import StandardScaler\n",
    "from sklearn.model_selection import train_test_split\n",
    "import torchvision\n",
    "from torchvision import datasets,models,transforms\n",
    "import torchvision.transforms as transforms\n",
    "from torch.utils.data import Dataset, DataLoader\n",
    "import math\n",
    "import os\n",
    "import copy\n",
    "import time\n",
    "import sqlite3 as sql\n",
    "import cv2\n",
    "from tqdm import tqdm\n",
    "from sam_implem import *\n",
    "from operator import itemgetter"
   ]
  },
  {
   "cell_type": "code",
   "execution_count": 2,
   "metadata": {},
   "outputs": [],
   "source": [
    "!pip install wandb -qU"
   ]
  },
  {
   "cell_type": "code",
   "execution_count": 3,
   "metadata": {},
   "outputs": [],
   "source": [
    "import wandb"
   ]
  },
  {
   "cell_type": "markdown",
   "metadata": {},
   "source": [
    "### Get features, labels and timecodes"
   ]
  },
  {
   "cell_type": "code",
   "execution_count": 4,
   "metadata": {},
   "outputs": [
    {
     "name": "stderr",
     "output_type": "stream",
     "text": [
      "98714it [01:03, 1547.13it/s]\n"
     ]
    }
   ],
   "source": [
    "features = {}\n",
    "labels = {}\n",
    "timeLabel = {}\n",
    "\n",
    "features['train'] = []\n",
    "features['validation'] = []\n",
    "features['test'] = []\n",
    "\n",
    "labels['train'] = []\n",
    "labels['validation'] = []\n",
    "labels['test'] = []\n",
    "\n",
    "timeLabel['train'] = []\n",
    "timeLabel['validation'] = []\n",
    "timeLabel['test'] = []\n",
    "\n",
    "path = '/scratch/users/mdelabrassinne/Database/'\n",
    "\n",
    "nbMatch = 0\n",
    "\n",
    "current = 'train'\n",
    "\n",
    "for root, dirs, files in tqdm(os.walk(path)):\n",
    "    #print(files)\n",
    "    \n",
    "    for file in files:    \n",
    "        if file.endswith(\"Labels-v2.json\"):\n",
    "            p = os.path.dirname(os.path.join(root, file))\n",
    "            dire = os.path.basename(p).replace('_', ' ')\n",
    "            p = os.path.join(os.path.dirname(p), dire)\n",
    "            \n",
    "            for r, d, fs in os.walk(p):\n",
    "                for f in fs:\n",
    "                    if f.endswith(\"baidu_soccer_embeddings.npy\"):\n",
    "                        p_current = os.path.join(r, f)\n",
    "                        features[current].append(p_current)\n",
    "                        #print(p_current)\n",
    "\n",
    "            \n",
    "            jsonPath =(os.path.join(root, file))\n",
    "            #print(jsonPath)\n",
    "            \n",
    "            #opening of the json\n",
    "            \n",
    "            f = open(jsonPath)\n",
    "            d = json.load(f)\n",
    "            #print(d)\n",
    "            \n",
    "            #print(jsonPath)\n",
    "            \n",
    "            try:\n",
    "                #print('test')\n",
    "                lab = [d['annotations'][i]['label'] for i in range(len(d['annotations'])) if d['annotations'][i]['gameTime'][0] ==  '1']         # 1fps, don't know if keep \n",
    "                time = [60 * int(d['annotations'][i]['gameTime'].split(':')[0][-2:]) + int(d['annotations'][i]['gameTime'].split(':')[1][:2]) for i in range(len(d['annotations'])) if d['annotations'][i]['gameTime'][0] ==  '1']\n",
    "                #print([d['annotations'][i]['gameTime'] for i in range(len(d['annotations']))])\n",
    "                \n",
    "                #print(time)\n",
    "                \n",
    "                labels[current].append(lab)\n",
    "                timeLabel[current].append(time)\n",
    "                \n",
    "                lab = [d['annotations'][i]['label'] for i in range(len(d['annotations'])) if d['annotations'][i]['gameTime'][0] ==  '2']         # 1fps, don't know if keep \n",
    "                time = [60 * int(d['annotations'][i]['gameTime'].split(':')[0][-2:]) + int(d['annotations'][i]['gameTime'].split(':')[1][:2]) for i in range(len(d['annotations'])) if d['annotations'][i]['gameTime'][0] ==  '2']\n",
    "                \n",
    "                #print(time)\n",
    "                labels[current].append(lab)\n",
    "                timeLabel[current].append(time)\n",
    "                \n",
    "            except:\n",
    "                #print(d)\n",
    "                lab = [d['predictions'][i]['label'] for i in range(len(d['predictions'])) if d['predictions'][i]['gameTime'][0] == '1']         # 1fps, don't know if keep \n",
    "                time = [60 * int(d['predictions'][i]['gameTime'].split(':')[0][-2:]) + int(d['predictions'][i]['gameTime'].split(':')[1][:2]) for i in range(len(d['predictions'])) if d['predictions'][i]['gameTime'][0] == '1']\n",
    "                \n",
    "                labels[current].append(lab)\n",
    "                timeLabel[current].append(time)\n",
    "                \n",
    "                lab = [d['predictions'][i]['label'] for i in range(len(d['predictions'])) if d['predictions'][i]['gameTime'][0] == '2']         # 1fps, don't know if keep \n",
    "                time = [60 * int(d['predictions'][i]['gameTime'].split(':')[0][-2:]) + int(d['predictions'][i]['gameTime'].split(':')[1][:2]) for i in range(len(d['predictions'])) if d['predictions'][i]['gameTime'][0] == '2']\n",
    "                \n",
    "                labels[current].append(lab)\n",
    "                timeLabel[current].append(time)\n",
    "                \n",
    "           \n",
    "            nbMatch += 1     #one more match will be seen\n",
    "            \n",
    "            if nbMatch >= 450 and nbMatch < 475:\n",
    "                current = 'validation'\n",
    "            elif nbMatch >= 475:\n",
    "                current = 'test'\n",
    "            #print(\"end_1\")\n",
    "            \n",
    "            \n",
    "            \n",
    "\n",
    "            \n",
    "data_l = list(zip(features['train'], labels['train'], timeLabel['train']))\n",
    "data_val = list(zip(features['validation'], labels['validation'], timeLabel['validation']))\n",
    "data_test = list(zip(features['test'], labels['test'], timeLabel['test']))"
   ]
  },
  {
   "cell_type": "code",
   "execution_count": 5,
   "metadata": {},
   "outputs": [
    {
     "name": "stdout",
     "output_type": "stream",
     "text": [
      "900\n",
      "50\n",
      "50\n"
     ]
    }
   ],
   "source": [
    "print(len(data_l))\n",
    "print(len(data_val))\n",
    "print(len(data_test))"
   ]
  },
  {
   "cell_type": "markdown",
   "metadata": {},
   "source": [
    "### Function for the transformation of the ground truths"
   ]
  },
  {
   "cell_type": "code",
   "execution_count": 6,
   "metadata": {},
   "outputs": [],
   "source": [
    "nb = np.array([2566, 31810, 18918, 11674, 7896, 10521, 5820, 4836, 5256, 2200, 2047, 2839, 55, 2098, 1703, 173, 46])"
   ]
  },
  {
   "cell_type": "code",
   "execution_count": 7,
   "metadata": {},
   "outputs": [
    {
     "name": "stdout",
     "output_type": "stream",
     "text": [
      "(array([   0,    1,    2,    3,  130,  131,  132,  133,  134,  135,  136,\n",
      "        146,  147,  148,  149,  150,  151,  152,  153,  154,  155,  156,\n",
      "        157,  158,  159,  179,  180,  181,  182,  183,  184,  185,  243,\n",
      "        244,  245,  246,  247,  248,  249,  255,  256,  257,  258,  259,\n",
      "        260,  261,  267,  268,  268,  269,  269,  270,  270,  271,  271,\n",
      "        272,  272,  273,  273,  274,  289,  290,  291,  292,  293,  294,\n",
      "        295,  316,  317,  318,  319,  320,  321,  322,  344,  345,  346,\n",
      "        347,  348,  349,  350,  392,  393,  394,  395,  396,  397,  398,\n",
      "        418,  419,  420,  421,  422,  423,  424,  437,  438,  439,  440,\n",
      "        441,  442,  443,  452,  453,  454,  455,  456,  457,  458,  459,\n",
      "        460,  461,  462,  463,  464,  464,  465,  465,  466,  467,  468,\n",
      "        469,  470,  536,  537,  538,  539,  540,  541,  542,  559,  560,\n",
      "        561,  562,  563,  564,  565,  565,  566,  567,  568,  569,  570,\n",
      "        571,  582,  583,  584,  584,  585,  585,  586,  586,  587,  587,\n",
      "        588,  588,  589,  590,  599,  600,  601,  602,  603,  604,  604,\n",
      "        605,  605,  606,  607,  608,  609,  610,  621,  622,  623,  624,\n",
      "        625,  626,  627,  657,  658,  659,  660,  661,  662,  663,  664,\n",
      "        665,  666,  667,  668,  669,  670,  685,  686,  687,  688,  689,\n",
      "        690,  691,  710,  711,  712,  713,  714,  715,  716,  746,  747,\n",
      "        748,  749,  750,  751,  752,  787,  788,  789,  790,  791,  792,\n",
      "        793,  840,  841,  842,  843,  844,  845,  846,  863,  864,  865,\n",
      "        866,  866,  867,  867,  868,  868,  869,  869,  870,  871,  872,\n",
      "        877,  878,  879,  880,  881,  882,  883,  893,  894,  895,  896,\n",
      "        897,  898,  899,  900,  901,  902,  903,  904,  905,  906,  946,\n",
      "        947,  948,  949,  950,  951,  952,  968,  969,  970,  971,  972,\n",
      "        973,  974, 1005, 1006, 1007, 1008, 1009, 1010, 1011, 1028, 1029,\n",
      "       1030, 1030, 1031, 1031, 1032, 1032, 1033, 1033, 1034, 1034, 1035,\n",
      "       1036, 1054, 1055, 1056, 1057, 1058, 1059, 1060, 1093, 1094, 1095,\n",
      "       1096, 1097, 1098, 1099, 1123, 1124, 1125, 1126, 1127, 1128, 1129,\n",
      "       1188, 1189, 1190, 1191, 1192, 1193, 1194, 1213, 1214, 1215, 1216,\n",
      "       1217, 1218, 1219, 1229, 1230, 1231, 1232, 1232, 1233, 1233, 1234,\n",
      "       1234, 1235, 1235, 1236, 1237, 1238, 1254, 1255, 1256, 1257, 1258,\n",
      "       1259, 1260, 1269, 1270, 1271, 1272, 1273, 1274, 1275, 1320, 1321,\n",
      "       1322, 1323, 1324, 1325, 1326, 1342, 1343, 1344, 1345, 1346, 1347,\n",
      "       1348, 1437, 1438, 1439, 1440, 1441, 1442, 1443, 1462, 1463, 1464,\n",
      "       1465, 1466, 1467, 1468, 1513, 1514, 1515, 1516, 1517, 1518, 1519,\n",
      "       1541, 1542, 1543, 1544, 1545, 1545, 1546, 1546, 1547, 1547, 1548,\n",
      "       1549, 1550, 1551, 1562, 1563, 1564, 1565, 1566, 1567, 1568, 1629,\n",
      "       1630, 1631, 1632, 1633, 1634, 1635, 1727, 1728, 1729, 1730, 1731,\n",
      "       1732, 1733, 1785, 1786, 1787, 1788, 1789, 1790, 1791, 1823, 1824,\n",
      "       1825, 1826, 1827, 1827, 1828, 1828, 1829, 1829, 1830, 1831, 1832,\n",
      "       1833, 1833, 1834, 1835, 1836, 1837, 1838, 1839, 1853, 1854, 1855,\n",
      "       1856, 1857, 1858, 1859, 1861, 1862, 1863, 1864, 1865, 1866, 1867,\n",
      "       1874, 1875, 1876, 1877, 1878, 1879, 1880, 1913, 1914, 1915, 1916,\n",
      "       1917, 1918, 1919, 1958, 1959, 1960, 1961, 1962, 1963, 1964, 1988,\n",
      "       1989, 1990, 1991, 1992, 1993, 1994, 2018, 2019, 2020, 2021, 2022,\n",
      "       2023, 2024, 2027, 2028, 2029, 2030, 2031, 2032, 2033, 2035, 2036,\n",
      "       2037, 2038, 2039, 2040, 2041, 2051, 2052, 2053, 2054, 2055, 2056,\n",
      "       2057, 2073, 2074, 2075, 2075, 2076, 2076, 2077, 2077, 2078, 2078,\n",
      "       2079, 2079, 2080, 2081, 2098, 2099, 2100, 2101, 2102, 2103, 2104,\n",
      "       2154, 2155, 2156, 2157, 2158, 2159, 2160, 2184, 2185, 2186, 2187,\n",
      "       2188, 2189, 2190, 2206, 2207, 2208, 2209, 2210, 2211, 2212, 2294,\n",
      "       2295, 2296, 2297, 2298, 2299, 2300, 2331, 2332, 2333, 2334, 2335,\n",
      "       2336, 2337, 2341, 2342, 2343, 2344, 2344, 2345, 2345, 2346, 2346,\n",
      "       2347, 2347, 2348, 2349, 2350, 2358, 2359, 2360, 2361, 2362, 2363,\n",
      "       2364, 2397, 2398, 2399, 2400, 2401, 2402, 2403, 2405, 2406, 2407,\n",
      "       2408, 2409, 2410, 2411, 2430, 2431, 2432, 2433, 2434, 2435, 2436,\n",
      "       2437, 2438, 2439, 2440, 2441, 2442, 2443, 2523, 2524, 2525, 2526,\n",
      "       2527, 2528, 2529, 2542, 2543, 2544, 2545, 2546, 2547, 2548, 2601,\n",
      "       2602, 2603, 2603, 2604, 2604, 2605, 2605, 2606, 2606, 2607, 2607,\n",
      "       2608, 2609, 2651, 2652, 2653, 2654, 2655, 2656, 2657, 2686, 2687,\n",
      "       2688, 2689, 2690, 2691, 2692]), array([ 0,  0,  0,  0,  1,  1,  1,  1,  1,  1,  1,  2,  2,  2,  2,  2,  2,\n",
      "        2,  1,  1,  1,  1,  1,  1,  1,  7,  7,  7,  7,  7,  7,  7,  1,  1,\n",
      "        1,  1,  1,  1,  1,  2,  2,  2,  2,  2,  2,  2,  6,  1,  6,  1,  6,\n",
      "        1,  6,  1,  6,  1,  6,  1,  6,  1,  7,  7,  7,  7,  7,  7,  7, 13,\n",
      "       13, 13, 13, 13, 13, 13,  6,  6,  6,  6,  6,  6,  6, 13, 13, 13, 13,\n",
      "       13, 13, 13,  1,  1,  1,  1,  1,  1,  1,  2,  2,  2,  2,  2,  2,  2,\n",
      "        1,  1,  1,  1,  1,  1,  1,  2,  2,  2,  2,  2,  2,  8,  2,  8,  8,\n",
      "        8,  8,  8,  8,  1,  1,  1,  1,  1,  1,  1,  4,  4,  4,  4,  4,  4,\n",
      "        1,  4,  1,  1,  1,  1,  1,  1,  2,  2,  1,  2,  1,  2,  1,  2,  1,\n",
      "        2,  1,  2,  1,  1,  2,  2,  2,  2,  2,  1,  2,  1,  2,  1,  1,  1,\n",
      "        1,  1,  2,  2,  2,  2,  2,  2,  2,  1,  1,  1,  1,  1,  1,  1,  7,\n",
      "        7,  7,  7,  7,  7,  7,  1,  1,  1,  1,  1,  1,  1,  4,  4,  4,  4,\n",
      "        4,  4,  4,  1,  1,  1,  1,  1,  1,  1, 14, 14, 14, 14, 14, 14, 14,\n",
      "        0,  0,  0,  0,  0,  0,  0,  6,  6,  6,  1,  6,  1,  6,  1,  6,  1,\n",
      "        6,  1,  1,  1,  7,  7,  7,  7,  7,  7,  7,  1,  1,  1,  1,  1,  1,\n",
      "        1,  2,  2,  2,  2,  2,  2,  2,  1,  1,  1,  1,  1,  1,  1,  7,  7,\n",
      "        7,  7,  7,  7,  7,  1,  1,  1,  1,  1,  1,  1,  7,  7,  7,  8,  7,\n",
      "        8,  7,  8,  7,  8,  7,  8,  8,  8,  4,  4,  4,  4,  4,  4,  4,  1,\n",
      "        1,  1,  1,  1,  1,  1,  4,  4,  4,  4,  4,  4,  4,  1,  1,  1,  1,\n",
      "        1,  1,  1,  4,  4,  4,  4,  4,  4,  4,  1,  1,  1,  1,  2,  1,  2,\n",
      "        1,  2,  1,  2,  2,  2,  2,  1,  1,  1,  1,  1,  1,  1,  2,  2,  2,\n",
      "        2,  2,  2,  2,  6,  6,  6,  6,  6,  6,  6,  3,  3,  3,  3,  3,  3,\n",
      "        3,  8,  8,  8,  8,  8,  8,  8,  2,  2,  2,  2,  2,  2,  2,  1,  1,\n",
      "        1,  1,  1,  1,  1,  4,  4,  4,  4,  1,  4,  1,  4,  1,  4,  1,  1,\n",
      "        1,  1,  2,  2,  2,  2,  2,  2,  2,  3,  3,  3,  3,  3,  3,  3,  3,\n",
      "        3,  3,  3,  3,  3,  3,  3,  3,  3,  3,  3,  3,  3,  1,  1,  1,  1,\n",
      "        1,  2,  1,  2,  1,  2,  2,  2,  2,  1,  2,  1,  1,  1,  1,  1,  1,\n",
      "        2,  2,  2,  2,  2,  2,  2,  1,  1,  1,  1,  1,  1,  1,  2,  2,  2,\n",
      "        2,  2,  2,  2,  3,  3,  3,  3,  3,  3,  3,  3,  3,  3,  3,  3,  3,\n",
      "        3,  1,  1,  1,  1,  1,  1,  1,  7,  7,  7,  7,  7,  7,  7,  1,  1,\n",
      "        1,  1,  1,  1,  1,  2,  2,  2,  2,  2,  2,  2,  1,  1,  1,  1,  1,\n",
      "        1,  1,  2,  2,  1,  2,  1,  2,  1,  2,  1,  2,  1,  2,  1,  1,  4,\n",
      "        4,  4,  4,  4,  4,  4,  1,  1,  1,  1,  1,  1,  1,  4,  4,  4,  4,\n",
      "        4,  4,  4,  1,  1,  1,  1,  1,  1,  1,  2,  2,  2,  2,  2,  2,  2,\n",
      "        1,  1,  1,  1,  1,  1,  1,  2,  2,  2,  2,  3,  2,  3,  2,  3,  2,\n",
      "        3,  3,  3,  3,  3,  3,  3,  3,  3,  3,  3,  3,  3,  3,  3,  3,  3,\n",
      "        3, 10, 10, 10, 10, 10, 10, 10,  1,  1,  1,  1,  1,  1,  1,  2,  2,\n",
      "        2,  2,  2,  2,  2,  1,  1,  1,  1,  1,  1,  1,  7,  7,  7,  7,  7,\n",
      "        7,  7,  1,  1,  1,  2,  1,  2,  1,  2,  1,  2,  1,  2,  2,  2,  1,\n",
      "        1,  1,  1,  1,  1,  1,  4,  4,  4,  4,  4,  4,  4]))\n",
      "(array([   1,    2,    3, ..., 2693, 2694, 2695]), array([0, 0, 0, ..., 4, 4, 4]))\n",
      "(array([   0,    1,    2, ..., 2693, 2694, 2695]), array([0, 0, 0, ..., 4, 4, 4]))\n",
      "(2700, 17)\n",
      "(2700, 17)\n",
      "(2700, 17)\n"
     ]
    }
   ],
   "source": [
    "cL = ['Kick-off', 'Ball out of play', 'Throw-in', 'Foul', 'Clearance', 'Indirect free-kick', 'Shots on target', 'Corner', 'Shots off target', 'Direct free-kick', 'Yellow card', 'Substitution', 'Red card', 'Offside', 'Goal', 'Penalty', 'Yellow->red card']\n",
    "\n",
    "def getTrueCoef(label, timeCodes, T, nbClasses, r_c = 3, f = 1, r_d = 6):\n",
    "    C = []      #confidence as a 2D np array instead of a list of tupes\n",
    "\n",
    "    ## Init\n",
    "    res_conf = np.zeros((T, nbClasses))         # initialization of the output C\n",
    "    res_disp = np.zeros((T, nbClasses))         # initialization of the output D\n",
    "    domain_disp = np.zeros((T, nbClasses))      # initialization of the domain for D ==> the domain has 1 when the value has to be computed for the loss on the displacement and 0 otherwise\n",
    "    \n",
    "    dictClasses = {}    # dictionnary containing the list wiht the timecodes of the actions for a given class\n",
    "\n",
    "    ## Init of the dictionnary\n",
    "    for c in range(nbClasses):\n",
    "        dictClasses[c] = []\n",
    "\n",
    "    ## Focus on the confidence part\n",
    "    for i in range(len(timeCodes)):        #loop over obtained labels\n",
    "        t = timeCodes[i]\n",
    "        c = label[i]\n",
    "        \n",
    "        if(c in cL):                           # focus on wanted classes\n",
    "            c = cL.index(label[i])\n",
    "\n",
    "            # get the interval on which C contains 1 for a given class\n",
    "            tmin = max(0, t - r_c * f)        # cannot be lower than 0\n",
    "            tmax = min(t + r_c * f, T-1)      # cannot be larger than T-1\n",
    "            inds = np.arange(tmin, tmax+1)    # select the timecodes between tmin and tmax\n",
    "            res_conf[inds, c] = 1             # put 1 in C at the good position\n",
    "            \n",
    "            ## Update the dictionnary\n",
    "            dictClasses[c].append(t)\n",
    "            \n",
    "        ## test for bad cases (don't occur)\n",
    "        if(t > T):\n",
    "            print('\\n\\naie => t = {} -- T = {}\\n\\n'.format(t, T))\n",
    "            \n",
    "        if(i >= 2700):\n",
    "            print(\"possible issue \")\n",
    "            \n",
    "            \n",
    "    ## Focus on the displacement part\n",
    "    for c in range(nbClasses):\n",
    "        ind = np.array(dictClasses[c])       # find the list of timecodes for a given action\n",
    "        \n",
    "        if(len(ind) > 0):\n",
    "            for t in range(T):           # go through all frames\n",
    "\n",
    "                ## Find the frame containing an occurence which is the closest (and get the corresponding index)\n",
    "                try:\n",
    "                    closestInd = np.argmin(np.abs(ind - t))         #take the one that is the most on the left if draw\n",
    "                except:\n",
    "                    print(ind)\n",
    "                    print(t)\n",
    "                    print(len(ind))\n",
    "\n",
    "                ## Check if in the domain\n",
    "                if(np.abs(t - ind[closestInd]) <= r_d * f):\n",
    "                    res_disp[t, c] = t - ind[closestInd]      # put the displacement in the matrix\n",
    "                    domain_disp[t, c] = 1                     # keep the value in the domain\n",
    "            \n",
    "        \n",
    "    return res_conf, res_disp, domain_disp\n",
    "\n",
    "test_C, test_D, dom = getTrueCoef(data_l[0][1],data_l[0][2], np.load(data_l[0][0]).shape[0], len(cL) )\n",
    "\n",
    "print(np.where(test_C != 0))\n",
    "print(np.where(test_D != 0))\n",
    "print(np.where(dom != 0))\n",
    "\n",
    "print(test_C.shape)\n",
    "print(test_D.shape)\n",
    "print(dom.shape)"
   ]
  },
  {
   "cell_type": "markdown",
   "metadata": {},
   "source": [
    "### Dataset, dataloader"
   ]
  },
  {
   "cell_type": "code",
   "execution_count": 8,
   "metadata": {},
   "outputs": [],
   "source": [
    "cL = ['Kick-off', 'Ball out of play', 'Throw-in', 'Foul', 'Clearance', 'Indirect free-kick', 'Shots on target', 'Corner', 'Shots off target', 'Direct free-kick', 'Yellow card', 'Substitution', 'Red card', 'Offside', 'Goal', 'Penalty', 'Yellow->red card']\n",
    "\n",
    "class BaiduDataset(Dataset):    #modifiable\n",
    "    \"\"\"\n",
    "    Class to prepare the data for a neural network in pyTorch. The database is composed of 3 tables:\n",
    "    - Video: to save the video information\n",
    "    - Sequence: to save the sequence information labelled with the soccer actions and record the sound of the sequence\n",
    "    - Image: to save the image information of the sequence\n",
    "    \"\"\"\n",
    "    def __init__(self, data_list, transform=None):\n",
    "        self.data_list = data_list\n",
    "        self.transform = transform\n",
    "        self.seq_length = 112           # number of frames in each sequence\n",
    "        self.nb_per_item = 10           # number of sequences per item selected\n",
    "        self.border = 12\n",
    "        \n",
    "        ## dynamic dictionnary for classes\n",
    "        d = {}\n",
    "        for c in cL:\n",
    "            d[c] = 1\n",
    "        self.dictClasses = d\n",
    "        \n",
    "        \n",
    "    def updateDict(self, labels, timecodes, startTime,endTime):\n",
    "        \n",
    "        indices = np.where(np.logical_and(timecodes>=startTime, timecodes<=endTime))[0]             #indices verifying the condition\n",
    "        seenClasses = labels[indices]                                                         #classes occuring in the sequence   \n",
    "        for classSeen in seenClasses:\n",
    "            self.dictClasses[classSeen] += 1                                                  #adding occurence to the vector\n",
    "            \n",
    "        \n",
    "    def __len__(self):\n",
    "        return len(self.data_list)\n",
    "    \n",
    "    def __getitem__(self, idx):\n",
    "        feat_path = self.data_list[idx][0]                 # path towards Baidu features\n",
    "        label_list = np.array(self.data_list[idx][1])      # list of labels\n",
    "        time_list = np.array(self.data_list[idx][2])       # list of timecodes\n",
    "\n",
    "        features = np.load(feat_path)\n",
    "\n",
    "        features_out_list = []\n",
    "        coef_out_c = []\n",
    "        coef_out_d = []\n",
    "        dom_out_list = []\n",
    "        inf_list = []\n",
    "\n",
    "        for _ in range(self.nb_per_item):\n",
    "            presentLabels = np.unique(label_list)                                        # only focus on current classes\n",
    "                        \n",
    "            weights = np.array(list(itemgetter(*presentLabels)(self.dictClasses)))       # get weights form the dictionnary for those classes\n",
    "                        \n",
    "            weights = weights / sum(weights)                                                      # normalize the associated probability vector\n",
    "            complWeight = 1-weights                                                      # complementary of the probabilities  (more importance for unlikely events)\n",
    "            complWeight /= sum(complWeight)                                              # normalize the new probabilities   \n",
    "                        \n",
    "            selectedClass = presentLabels[np.argmax(np.random.multinomial(1, complWeight, size=1))]         # select the class according to the weights\n",
    "            \n",
    "            events = np.where(label_list == selectedClass)[0]                            # consider the indices of the selected class\n",
    "                        \n",
    "            selectedEvent = events[np.random.randint(0, len(events))]                    # select the event of the class among the different possibilities (and only consider the index)\n",
    "                        \n",
    "            selectedTimestep = time_list[selectedEvent]\n",
    "                                    \n",
    "            \n",
    "            selectedStart = np.random.randint(max(0, selectedTimestep - self.seq_length), min(features.shape[0] - self.seq_length+1, max(1, selectedTimestep)))\n",
    "                        \n",
    "            self.updateDict(label_list, time_list, selectedStart, selectedStart+112)\n",
    "                        \n",
    "            ind = np.array([True if (i >= selectedStart and i < selectedStart + self.seq_length) else False for i in range(features.shape[0])])\n",
    "\n",
    "            coef_c, coef_d, dom = getTrueCoef(label_list, time_list, features.shape[0], len(cL) )\n",
    "\n",
    "            features_out = torch.from_numpy(features[ind,:]).unsqueeze(0)\n",
    "            coef_out_c.append(torch.from_numpy(coef_c[ind, :]).unsqueeze(0))\n",
    "            coef_out_d.append(torch.from_numpy(coef_d[ind, :]).unsqueeze(0))\n",
    "            dom_out_list.append(torch.from_numpy(dom[ind, :]).unsqueeze(0))\n",
    "            features_out_list.append(features_out)\n",
    "\n",
    "        return (torch.cat(features_out_list, dim=0), torch.cat(coef_out_c, dim=0), torch.cat(coef_out_d, dim=0), torch.cat(dom_out_list, dim=0), idx) "
   ]
  },
  {
   "cell_type": "markdown",
   "metadata": {},
   "source": [
    "### Model"
   ]
  },
  {
   "cell_type": "code",
   "execution_count": 9,
   "metadata": {},
   "outputs": [],
   "source": [
    "MLP_KERNEL_SIZE = 1\n",
    "MLP_FILTERS_1 = 256\n",
    "MLP_FILTERS_2 = 64\n",
    "CONTRACTION_RATIO = 2\n",
    "PADDING_METHOD = 'same'\n",
    "UPSAMPLE_MODE = 'nearest'\n",
    "N_FEATURE_EXTRACTED = 8576\n",
    "N_CLASSES = 17\n",
    "SEQUENCE_SIZE = 112\n",
    "BATCH_SIZE = 20\n",
    "BATCH_PER_EPOCH = 1000"
   ]
  },
  {
   "cell_type": "code",
   "execution_count": 10,
   "metadata": {},
   "outputs": [],
   "source": [
    "class MLP2(nn.Module):\n",
    "    def __init__(self,n_features):\n",
    "        super(MLP2,self).__init__()\n",
    "        self.conv1 = nn.Conv1d(n_features,MLP_FILTERS_1,MLP_KERNEL_SIZE)\n",
    "        self.relu = nn.ReLU()\n",
    "        self.conv2 = nn.Conv1d(MLP_FILTERS_1,MLP_FILTERS_2,MLP_KERNEL_SIZE)\n",
    "\n",
    "    def forward(self,x):\n",
    "        out = self.conv1(x)\n",
    "        out = self.relu(out)\n",
    "        out = self.conv2(out)\n",
    "        return out\n"
   ]
  },
  {
   "cell_type": "code",
   "execution_count": 11,
   "metadata": {},
   "outputs": [],
   "source": [
    "class BottleneckResBlockContract(nn.Module):\n",
    "    # Takes as input a feature matrix of size:\n",
    "    #  _____\n",
    "    # |     |\n",
    "    # |     |\n",
    "    # |     |\n",
    "    # |     | T\n",
    "    # |     |\n",
    "    # |_____|\n",
    "    #    P\n",
    "    # Performs a bottleneck Resnetblock:\n",
    "    # BN -> ReLU -> conv(1,P) ->BN ->ReLU -> conv(3,P) -> BN -> ReLU -> conv(1,2P) -> + -> output (of size T,2P)\n",
    "    # |                                                                               ^\n",
    "    # L>    ->  ->  ->  ->  ->  ->  ->  -> conv(1,2P) ->  ->  ->  ->    ->  ->  ->  ->|  \n",
    "    def __init__(self,in_features):\n",
    "        super(BottleneckResBlockContract,self).__init__()\n",
    "        self.bn1 = nn.BatchNorm1d(in_features)\n",
    "        self.relu = nn.ReLU()\n",
    "        self.conv1 = nn.Conv1d(in_features,in_features,1)\n",
    "        self.bn2 = nn.BatchNorm1d(in_features)\n",
    "        self.conv2 = nn.Conv1d(in_features,in_features,3,padding=PADDING_METHOD)\n",
    "        self.bn3 = nn.BatchNorm1d(in_features)\n",
    "        self.conv3 = nn.Conv1d(in_features,in_features*CONTRACTION_RATIO,1)\n",
    "        self.conv_skip = nn.Conv1d(in_features,in_features*CONTRACTION_RATIO,1)\n",
    "\n",
    "    def forward(self,x):\n",
    "        y = self.bn1(x)\n",
    "        y = self.relu(y)\n",
    "        y = self.conv1(y)\n",
    "        y = self.bn2(y)\n",
    "        y = self.relu(y)\n",
    "        y = self.conv2(y)\n",
    "        y = self.bn3(y)\n",
    "        y = self.relu(y)\n",
    "        y = self.conv3(y)\n",
    "        z = self.conv_skip(x)\n",
    "        return y+z\n",
    "    \n",
    "class BottleneckResBlockExpand(nn.Module):\n",
    "    # Takes as input a feature matrix of size:\n",
    "    #  _____\n",
    "    # |     |\n",
    "    # |     |\n",
    "    # |     |\n",
    "    # |     | T\n",
    "    # |     |\n",
    "    # |_____|\n",
    "    #    P\n",
    "    # Performs a bottleneck Resnetblock:\n",
    "    # BN -> ReLU -> conv(1,P/2) ->BN ->ReLU -> conv(3,P/2) -> BN -> ReLU -> conv(1,P/2) -> + -> output (of size T,P/2)\n",
    "    # |                                                                               ^\n",
    "    # L>    ->  ->  ->  ->  ->  ->  ->  -> conv(1,P/2) ->  ->  ->  ->    ->  ->  ->  ->|  \n",
    "    def __init__(self,in_features):\n",
    "        in_features = int(in_features)\n",
    "        super(BottleneckResBlockExpand,self).__init__()\n",
    "        self.bn1 = nn.BatchNorm1d(int(in_features))\n",
    "        self.relu = nn.ReLU()\n",
    "        self.conv1 = nn.Conv1d(in_features,int(in_features/CONTRACTION_RATIO),1)\n",
    "        self.bn2 = nn.BatchNorm1d(int(in_features/CONTRACTION_RATIO))\n",
    "        self.conv2 = nn.Conv1d(int(in_features/CONTRACTION_RATIO),int(in_features/CONTRACTION_RATIO),3,padding=PADDING_METHOD)\n",
    "        self.bn3 = nn.BatchNorm1d(int(in_features/CONTRACTION_RATIO))\n",
    "        self.conv3 = nn.Conv1d(int(in_features/CONTRACTION_RATIO),int(in_features/CONTRACTION_RATIO),1)\n",
    "        self.conv_skip = nn.Conv1d(in_features,int(in_features/CONTRACTION_RATIO),1)\n",
    "\n",
    "    def forward(self,x):\n",
    "        y = self.bn1(x)\n",
    "        y = self.relu(y)\n",
    "        y = self.conv1(y)\n",
    "        y = self.bn2(y)\n",
    "        y = self.relu(y)\n",
    "        y = self.conv2(y)\n",
    "        y = self.bn3(y)\n",
    "        y = self.relu(y)\n",
    "        y = self.conv3(y)\n",
    "        z = self.conv_skip(x)\n",
    "        return y+z\n",
    "\n",
    "class UpsamplingBlock(nn.Module):\n",
    "# Takes as input a feature matrix of size (with ncol: nFeatures and nrow: nTimePoints) :\n",
    "    #  _____\n",
    "    # |     |\n",
    "    # |     |\n",
    "    # |     |\n",
    "    # |     | T\n",
    "    # |     |\n",
    "    # |_____|\n",
    "    #    P\n",
    "# Upsample uses nearest neighbor to output a 2TxP matrix\n",
    "# a Conv(2,P/2) is then applied with padding = same\n",
    "    \n",
    "    def __init__(self,in_feature):\n",
    "        super(UpsamplingBlock,self).__init__()\n",
    "        in_feature = int(in_feature)\n",
    "        self.upsample = nn.Upsample(scale_factor=2,mode=UPSAMPLE_MODE)\n",
    "        self.conv = nn.Conv1d(in_feature, int(in_feature/2),kernel_size=2, padding=PADDING_METHOD)\n",
    "    \n",
    "    def forward(self,x):\n",
    "        out = self.upsample(x)\n",
    "        out = self.conv(out)\n",
    "        return out\n",
    "    \n",
    "\n",
    "class Unet1D(nn.Module):\n",
    "    def __init__(self,in_feature):\n",
    "        super(Unet1D,self).__init__()\n",
    "\n",
    "        #LEFT PART\n",
    "        self.maxpool = nn.MaxPool1d(2)\n",
    "\n",
    "        self.contr1 = BottleneckResBlockContract(in_feature)\n",
    "        #self.maxpool\n",
    "        nb_f = in_feature*2\n",
    "        self.contr2 = BottleneckResBlockContract(nb_f)\n",
    "        #self.maxpool\n",
    "        nb_f = nb_f*2\n",
    "        self.contr3 = BottleneckResBlockContract(nb_f)\n",
    "        #self.maxpool\n",
    "        nb_f = nb_f*2\n",
    "        #self.contr4 = BottleneckResBlockContract(nb_f)\n",
    "        #self.maxpool\n",
    "        #nb_f = nb_f*2\n",
    "        ##############################################\n",
    "\n",
    "        #DOWN PART\n",
    "        \n",
    "        self.contr5 = BottleneckResBlockContract(nb_f)\n",
    "        nb_f = nb_f*2\n",
    "        ##############################################\n",
    "\n",
    "        #RIGHT PART\n",
    "\n",
    "        #self.upsample4 = UpsamplingBlock(nb_f)\n",
    "        #nb_f = nb_f/2\n",
    "        #concat\n",
    "        #nb_f = nb_f*2\n",
    "        #self.expand4 = BottleneckResBlockExpand(nb_f)\n",
    "        #nb_f = nb_f/2\n",
    "\n",
    "        self.upsample3 = UpsamplingBlock(nb_f)\n",
    "        nb_f = nb_f/2\n",
    "        #concat\n",
    "        nb_f = nb_f*2\n",
    "        self.expand3 = BottleneckResBlockExpand(nb_f)\n",
    "        nb_f = nb_f/2\n",
    "\n",
    "        self.upsample2 = UpsamplingBlock(nb_f)\n",
    "        nb_f = nb_f/2\n",
    "        #concat\n",
    "        nb_f = nb_f*2\n",
    "        self.expand2 = BottleneckResBlockExpand(nb_f)\n",
    "        nb_f = nb_f/2\n",
    "\n",
    "        self.upsample1 = UpsamplingBlock(nb_f)\n",
    "        nb_f = nb_f/2\n",
    "        #concat\n",
    "        nb_f = nb_f*2\n",
    "        self.expand1 = BottleneckResBlockExpand(nb_f)\n",
    "        nb_f = nb_f/2\n",
    "\n",
    "        self.upsample0 = UpsamplingBlock(nb_f)\n",
    "        nb_f = nb_f/2\n",
    "        #concat\n",
    "        nb_f = nb_f*2\n",
    "        self.expand0 = BottleneckResBlockExpand(nb_f)\n",
    "        nb_f = nb_f/2\n",
    "\n",
    "    def forward(self,x):\n",
    "        # X is of shape [nbatch,64,224]\n",
    "\n",
    "        # LEFT PART\n",
    "        l0 = x #[P,T]           #Output shape\n",
    "        a = self.maxpool(l0)    #[P,T/2]\n",
    "        l1 = self.contr1(a)     #[P*2,T/2]\n",
    "        b = self.maxpool(l1)    #[P*2,T/4]\n",
    "        l2 = self.contr2(b)     #[P*4,T/4]\n",
    "        c = self.maxpool(l2)    #[P*4,T/8]\n",
    "        l3 = self.contr3(c)     #[P*8,T/8]\n",
    "        d = self.maxpool(l3)    #[P*8,T/16]\n",
    "        #l4 = self.contr4(d)     #[P*16,T/16]\n",
    "        #e = self.maxpool(l4)    #[P*16, T/32]\n",
    "\n",
    "        # DOWN PART\n",
    "        l5 = self.contr5(d)     #[P*32,T/32]\n",
    "\n",
    "        # RIGHT PART\n",
    "        #r4 = self.upsample4(l5)     #[P*16,T/16]\n",
    "        #t4 = torch.cat((l4,r4),1)   #[P*32,T/16]\n",
    "        #t4 = self.expand4(t4)       #[P*16,T/16]\n",
    "        r3 = self.upsample3(l5)     #[P*8,T/8]\n",
    "        t3 = torch.cat((l3,r3),1)   #[P*16,T/8]\n",
    "        t3 = self.expand3(t3)       #[P*8,T/8]\n",
    "        r2 = self.upsample2(t3)     #[P*4,T/4]\n",
    "        t2 = torch.cat((l2,r2),1)   #[P*8,T/4]\n",
    "        t2 = self.expand2(t2)       #[P*4,T/4]\n",
    "        r1 = self.upsample1(t2)     #[P*2,T/2]\n",
    "        t1 = torch.cat((l1,r1),1)   #[P*4,T/2]\n",
    "        t1 = self.expand1(t1)       #[P*2,T/2]\n",
    "        r0 = self.upsample0(t1)     #[P,T]\n",
    "        t0 = torch.concat((l0,r0),1)#[P*2,T]\n",
    "        t0 = self.expand0(t0)       #[P,T]\n",
    "\n",
    "        return t0 # P features, T points"
   ]
  },
  {
   "cell_type": "code",
   "execution_count": 12,
   "metadata": {},
   "outputs": [],
   "source": [
    "class PredictionHead(nn.Sequential):\n",
    "    def __init__(self,n_features):\n",
    "        super(PredictionHead,self).__init__()\n",
    "        self.mlp = MLP2(n_features)\n",
    "        self.unet = Unet1D(MLP_FILTERS_2)\n",
    "        self.convHead = nn.Conv1d(MLP_FILTERS_2,N_CLASSES,kernel_size=3,padding=PADDING_METHOD)\n"
   ]
  },
  {
   "cell_type": "code",
   "execution_count": 13,
   "metadata": {},
   "outputs": [],
   "source": [
    "class TemporalHead(nn.Sequential):\n",
    "    def __init__(self,n_features):\n",
    "        super(TemporalHead,self).__init__()   \n",
    "        self.mlp = MLP2(n_features)\n",
    "        self.unet = Unet1D(MLP_FILTERS_2)\n",
    "        self.convHead = nn.Conv1d(MLP_FILTERS_2,N_CLASSES,kernel_size=3,padding=PADDING_METHOD)\n"
   ]
  },
  {
   "cell_type": "markdown",
   "metadata": {},
   "source": [
    "### test loss"
   ]
  },
  {
   "cell_type": "code",
   "execution_count": 14,
   "metadata": {},
   "outputs": [],
   "source": [
    "import torch.nn as nn"
   ]
  },
  {
   "cell_type": "code",
   "execution_count": 15,
   "metadata": {},
   "outputs": [],
   "source": [
    "def huberLoss(pred, gTruth, treshold=0.5):\n",
    "    res = pred - gTruth\n",
    "    \n",
    "    abs_res = torch.abs(res)\n",
    "    quadratic_loss = 0.5 * torch.square(res)\n",
    "    linear_loss = treshold * (abs_res - 0.5 * treshold)\n",
    "    \n",
    "    loss = torch.where(abs_res <= treshold, quadratic_loss, linear_loss)\n",
    "    return torch.sum(loss)"
   ]
  },
  {
   "cell_type": "code",
   "execution_count": 16,
   "metadata": {},
   "outputs": [],
   "source": [
    "def confLoss2(c_preds, c_truths):\n",
    "    criterion = nn.BCEWithLogitsLoss(reduction='none')\n",
    "    \n",
    "    c_preds = c_preds.reshape(-1)\n",
    "    c_truths = c_truths.reshape(-1)\n",
    "    \n",
    "    loss = criterion(c_preds, c_truths)\n",
    "    total_loss = loss.sum()\n",
    "    \n",
    "    return total_loss\n",
    "\n",
    "def dispLoss2(d_preds, d_truths, dom):\n",
    "    #optimized version \n",
    "    \n",
    "    dom = dom.bool()   # convert the domain mask to boolean tensor\n",
    "    dp = torch.masked_select(d_preds, dom)   # select the predicted values where the mask is True\n",
    "    dt = torch.masked_select(d_truths, dom)  # select the ground truth values where the mask is True\n",
    "    loss = huberLoss(dp, dt)\n",
    "    return loss"
   ]
  },
  {
   "cell_type": "markdown",
   "metadata": {},
   "source": [
    "### Data loader"
   ]
  },
  {
   "cell_type": "code",
   "execution_count": 17,
   "metadata": {},
   "outputs": [],
   "source": [
    "nbPerBatch = 20\n",
    "nbPerSequence = 10\n",
    "nbcL = len(cL)\n"
   ]
  },
  {
   "cell_type": "code",
   "execution_count": 18,
   "metadata": {},
   "outputs": [],
   "source": [
    "dataLearning = BaiduDataset(data_l)\n",
    "loaderLearning = data.DataLoader(dataLearning, batch_size = nbPerBatch, shuffle= True, num_workers = 1)"
   ]
  },
  {
   "cell_type": "markdown",
   "metadata": {},
   "source": [
    "### Confidence"
   ]
  },
  {
   "cell_type": "code",
   "execution_count": 19,
   "metadata": {},
   "outputs": [],
   "source": [
    "device = 'cuda'\n",
    "model = PredictionHead(N_FEATURE_EXTRACTED)"
   ]
  },
  {
   "cell_type": "code",
   "execution_count": 20,
   "metadata": {},
   "outputs": [
    {
     "name": "stderr",
     "output_type": "stream",
     "text": [
      "Failed to detect the name of this notebook, you can set it manually with the WANDB_NOTEBOOK_NAME environment variable to enable code saving.\n",
      "\u001b[34m\u001b[1mwandb\u001b[0m: Currently logged in as: \u001b[33mjepi1202\u001b[0m (\u001b[33muliege_action_spotting_2022_2023_context\u001b[0m). Use \u001b[1m`wandb login --relogin`\u001b[0m to force relogin\n"
     ]
    },
    {
     "data": {
      "text/html": [
       "Tracking run with wandb version 0.14.2"
      ],
      "text/plain": [
       "<IPython.core.display.HTML object>"
      ]
     },
     "metadata": {},
     "output_type": "display_data"
    },
    {
     "data": {
      "text/html": [
       "Run data is saved locally in <code>/home/mdelabrassinne/DSproject/yahoo/Reproducing/wandb/run-20230410_215138-kqba31dv</code>"
      ],
      "text/plain": [
       "<IPython.core.display.HTML object>"
      ]
     },
     "metadata": {},
     "output_type": "display_data"
    },
    {
     "data": {
      "text/html": [
       "Syncing run <strong><a href='https://wandb.ai/uliege_action_spotting_2022_2023_context/test_1/runs/kqba31dv' target=\"_blank\">test_new_dataset</a></strong> to <a href='https://wandb.ai/uliege_action_spotting_2022_2023_context/test_1' target=\"_blank\">Weights & Biases</a> (<a href='https://wandb.me/run' target=\"_blank\">docs</a>)<br/>"
      ],
      "text/plain": [
       "<IPython.core.display.HTML object>"
      ]
     },
     "metadata": {},
     "output_type": "display_data"
    },
    {
     "data": {
      "text/html": [
       " View project at <a href='https://wandb.ai/uliege_action_spotting_2022_2023_context/test_1' target=\"_blank\">https://wandb.ai/uliege_action_spotting_2022_2023_context/test_1</a>"
      ],
      "text/plain": [
       "<IPython.core.display.HTML object>"
      ]
     },
     "metadata": {},
     "output_type": "display_data"
    },
    {
     "data": {
      "text/html": [
       " View run at <a href='https://wandb.ai/uliege_action_spotting_2022_2023_context/test_1/runs/kqba31dv' target=\"_blank\">https://wandb.ai/uliege_action_spotting_2022_2023_context/test_1/runs/kqba31dv</a>"
      ],
      "text/plain": [
       "<IPython.core.display.HTML object>"
      ]
     },
     "metadata": {},
     "output_type": "display_data"
    },
    {
     "data": {
      "text/plain": [
       "[]"
      ]
     },
     "execution_count": 20,
     "metadata": {},
     "output_type": "execute_result"
    }
   ],
   "source": [
    "wandb.init(project = 'test_1', entity = \"uliege_action_spotting_2022_2023_context\", name = \"test_new_dataset\")\n",
    "wandb.watch(model, confLoss2, log=\"all\", log_freq=10)\n",
    "#torch.onnx.export(model, images, \"model_confidence.onnx\")\n",
    "#wandb.save(\"model_confidence.onnx\")"
   ]
  },
  {
   "cell_type": "code",
   "execution_count": null,
   "metadata": {},
   "outputs": [
    {
     "name": "stderr",
     "output_type": "stream",
     "text": [
      "\r",
      "  0%|          | 0/45 [00:00<?, ?it/s]"
     ]
    },
    {
     "name": "stdout",
     "output_type": "stream",
     "text": [
      "torch.Size([200, 8576, 112])\n"
     ]
    },
    {
     "name": "stderr",
     "output_type": "stream",
     "text": [
      "/home/mdelabrassinne/anaconda3/envs/envDeepLearning/lib/python3.9/site-packages/torch/nn/modules/conv.py:309: UserWarning: Using padding='same' with even kernel lengths and odd dilation may require a zero-padded copy of the input be created (Triggered internally at /opt/conda/conda-bld/pytorch_1670525551200/work/aten/src/ATen/native/Convolution.cpp:895.)\n",
      "  return F.conv1d(input, weight, bias, self.stride,\n",
      "  2%|▏         | 1/45 [00:49<36:21, 49.57s/it]"
     ]
    },
    {
     "name": "stdout",
     "output_type": "stream",
     "text": [
      "test\n",
      "torch.Size([200, 8576, 112])\n"
     ]
    },
    {
     "name": "stderr",
     "output_type": "stream",
     "text": [
      "\r",
      "  4%|▍         | 2/45 [01:32<32:42, 45.63s/it]"
     ]
    },
    {
     "name": "stdout",
     "output_type": "stream",
     "text": [
      "test\n",
      "torch.Size([200, 8576, 112])\n"
     ]
    },
    {
     "name": "stderr",
     "output_type": "stream",
     "text": [
      "\r",
      "  7%|▋         | 3/45 [02:22<33:13, 47.45s/it]"
     ]
    },
    {
     "name": "stdout",
     "output_type": "stream",
     "text": [
      "test\n",
      "torch.Size([200, 8576, 112])\n"
     ]
    },
    {
     "name": "stderr",
     "output_type": "stream",
     "text": [
      "\r",
      "  9%|▉         | 4/45 [03:11<32:58, 48.25s/it]"
     ]
    },
    {
     "name": "stdout",
     "output_type": "stream",
     "text": [
      "test\n",
      "torch.Size([200, 8576, 112])\n"
     ]
    },
    {
     "name": "stderr",
     "output_type": "stream",
     "text": [
      "\r",
      " 11%|█         | 5/45 [03:59<32:10, 48.26s/it]"
     ]
    },
    {
     "name": "stdout",
     "output_type": "stream",
     "text": [
      "test\n",
      "torch.Size([200, 8576, 112])\n"
     ]
    },
    {
     "name": "stderr",
     "output_type": "stream",
     "text": [
      "\r",
      " 13%|█▎        | 6/45 [04:50<31:56, 49.15s/it]"
     ]
    },
    {
     "name": "stdout",
     "output_type": "stream",
     "text": [
      "test\n",
      "torch.Size([200, 8576, 112])\n"
     ]
    },
    {
     "name": "stderr",
     "output_type": "stream",
     "text": [
      "\r",
      " 16%|█▌        | 7/45 [05:42<31:45, 50.15s/it]"
     ]
    },
    {
     "name": "stdout",
     "output_type": "stream",
     "text": [
      "test\n",
      "torch.Size([200, 8576, 112])\n"
     ]
    },
    {
     "name": "stderr",
     "output_type": "stream",
     "text": [
      "\r",
      " 18%|█▊        | 8/45 [06:35<31:24, 50.94s/it]"
     ]
    },
    {
     "name": "stdout",
     "output_type": "stream",
     "text": [
      "test\n",
      "torch.Size([200, 8576, 112])\n"
     ]
    },
    {
     "name": "stderr",
     "output_type": "stream",
     "text": [
      "\r",
      " 20%|██        | 9/45 [07:26<30:32, 50.91s/it]"
     ]
    },
    {
     "name": "stdout",
     "output_type": "stream",
     "text": [
      "test\n",
      "torch.Size([200, 8576, 112])\n"
     ]
    },
    {
     "name": "stderr",
     "output_type": "stream",
     "text": [
      "\r",
      " 22%|██▏       | 10/45 [08:18<30:00, 51.43s/it]"
     ]
    },
    {
     "name": "stdout",
     "output_type": "stream",
     "text": [
      "test\n",
      "torch.Size([200, 8576, 112])\n"
     ]
    },
    {
     "name": "stderr",
     "output_type": "stream",
     "text": [
      "\r",
      " 24%|██▍       | 11/45 [09:09<28:59, 51.16s/it]"
     ]
    },
    {
     "name": "stdout",
     "output_type": "stream",
     "text": [
      "test\n",
      "torch.Size([200, 8576, 112])\n"
     ]
    },
    {
     "name": "stderr",
     "output_type": "stream",
     "text": [
      "\r",
      " 27%|██▋       | 12/45 [10:00<28:07, 51.14s/it]"
     ]
    },
    {
     "name": "stdout",
     "output_type": "stream",
     "text": [
      "test\n",
      "torch.Size([200, 8576, 112])\n"
     ]
    },
    {
     "name": "stderr",
     "output_type": "stream",
     "text": [
      "\r",
      " 29%|██▉       | 13/45 [10:51<27:12, 51.02s/it]"
     ]
    },
    {
     "name": "stdout",
     "output_type": "stream",
     "text": [
      "test\n",
      "torch.Size([200, 8576, 112])\n"
     ]
    },
    {
     "name": "stderr",
     "output_type": "stream",
     "text": [
      "\r",
      " 31%|███       | 14/45 [11:43<26:33, 51.39s/it]"
     ]
    },
    {
     "name": "stdout",
     "output_type": "stream",
     "text": [
      "test\n",
      "torch.Size([200, 8576, 112])\n"
     ]
    },
    {
     "name": "stderr",
     "output_type": "stream",
     "text": [
      "\r",
      " 33%|███▎      | 15/45 [12:35<25:43, 51.45s/it]"
     ]
    },
    {
     "name": "stdout",
     "output_type": "stream",
     "text": [
      "test\n",
      "torch.Size([200, 8576, 112])\n"
     ]
    },
    {
     "name": "stderr",
     "output_type": "stream",
     "text": [
      "\r",
      " 36%|███▌      | 16/45 [13:26<24:48, 51.32s/it]"
     ]
    },
    {
     "name": "stdout",
     "output_type": "stream",
     "text": [
      "test\n",
      "torch.Size([200, 8576, 112])\n"
     ]
    },
    {
     "name": "stderr",
     "output_type": "stream",
     "text": [
      "\r",
      " 38%|███▊      | 17/45 [14:17<23:54, 51.23s/it]"
     ]
    },
    {
     "name": "stdout",
     "output_type": "stream",
     "text": [
      "test\n",
      "torch.Size([200, 8576, 112])\n"
     ]
    },
    {
     "name": "stderr",
     "output_type": "stream",
     "text": [
      "\r",
      " 40%|████      | 18/45 [15:08<23:00, 51.14s/it]"
     ]
    },
    {
     "name": "stdout",
     "output_type": "stream",
     "text": [
      "test\n",
      "torch.Size([200, 8576, 112])\n"
     ]
    },
    {
     "name": "stderr",
     "output_type": "stream",
     "text": [
      "\r",
      " 42%|████▏     | 19/45 [15:57<21:56, 50.63s/it]"
     ]
    },
    {
     "name": "stdout",
     "output_type": "stream",
     "text": [
      "test\n",
      "torch.Size([200, 8576, 112])\n"
     ]
    },
    {
     "name": "stderr",
     "output_type": "stream",
     "text": [
      "\r",
      " 44%|████▍     | 20/45 [16:48<21:10, 50.84s/it]"
     ]
    },
    {
     "name": "stdout",
     "output_type": "stream",
     "text": [
      "test\n",
      "torch.Size([200, 8576, 112])\n"
     ]
    },
    {
     "name": "stderr",
     "output_type": "stream",
     "text": [
      "\r",
      " 47%|████▋     | 21/45 [17:37<20:03, 50.17s/it]"
     ]
    },
    {
     "name": "stdout",
     "output_type": "stream",
     "text": [
      "test\n",
      "torch.Size([200, 8576, 112])\n"
     ]
    },
    {
     "name": "stderr",
     "output_type": "stream",
     "text": [
      "\r",
      " 49%|████▉     | 22/45 [18:23<18:41, 48.77s/it]"
     ]
    },
    {
     "name": "stdout",
     "output_type": "stream",
     "text": [
      "test\n",
      "torch.Size([200, 8576, 112])\n"
     ]
    },
    {
     "name": "stderr",
     "output_type": "stream",
     "text": [
      "\r",
      " 51%|█████     | 23/45 [19:12<17:59, 49.06s/it]"
     ]
    },
    {
     "name": "stdout",
     "output_type": "stream",
     "text": [
      "test\n",
      "torch.Size([200, 8576, 112])\n"
     ]
    },
    {
     "name": "stderr",
     "output_type": "stream",
     "text": [
      "\r",
      " 53%|█████▎    | 24/45 [20:03<17:22, 49.63s/it]"
     ]
    },
    {
     "name": "stdout",
     "output_type": "stream",
     "text": [
      "test\n",
      "torch.Size([200, 8576, 112])\n"
     ]
    },
    {
     "name": "stderr",
     "output_type": "stream",
     "text": [
      "\r",
      " 56%|█████▌    | 25/45 [20:54<16:40, 50.03s/it]"
     ]
    },
    {
     "name": "stdout",
     "output_type": "stream",
     "text": [
      "test\n",
      "torch.Size([200, 8576, 112])\n"
     ]
    },
    {
     "name": "stderr",
     "output_type": "stream",
     "text": [
      "\r",
      " 58%|█████▊    | 26/45 [21:46<15:58, 50.44s/it]"
     ]
    },
    {
     "name": "stdout",
     "output_type": "stream",
     "text": [
      "test\n",
      "torch.Size([200, 8576, 112])\n"
     ]
    },
    {
     "name": "stderr",
     "output_type": "stream",
     "text": [
      "\r",
      " 60%|██████    | 27/45 [22:36<15:06, 50.38s/it]"
     ]
    },
    {
     "name": "stdout",
     "output_type": "stream",
     "text": [
      "test\n",
      "torch.Size([200, 8576, 112])\n"
     ]
    },
    {
     "name": "stderr",
     "output_type": "stream",
     "text": [
      "\r",
      " 62%|██████▏   | 28/45 [23:26<14:17, 50.42s/it]"
     ]
    },
    {
     "name": "stdout",
     "output_type": "stream",
     "text": [
      "test\n",
      "torch.Size([200, 8576, 112])\n"
     ]
    },
    {
     "name": "stderr",
     "output_type": "stream",
     "text": [
      "\r",
      " 64%|██████▍   | 29/45 [24:16<13:24, 50.28s/it]"
     ]
    },
    {
     "name": "stdout",
     "output_type": "stream",
     "text": [
      "test\n",
      "torch.Size([200, 8576, 112])\n"
     ]
    },
    {
     "name": "stderr",
     "output_type": "stream",
     "text": [
      "\r",
      " 67%|██████▋   | 30/45 [25:08<12:39, 50.62s/it]"
     ]
    },
    {
     "name": "stdout",
     "output_type": "stream",
     "text": [
      "test\n",
      "torch.Size([200, 8576, 112])\n"
     ]
    },
    {
     "name": "stderr",
     "output_type": "stream",
     "text": [
      "\r",
      " 69%|██████▉   | 31/45 [25:58<11:46, 50.45s/it]"
     ]
    },
    {
     "name": "stdout",
     "output_type": "stream",
     "text": [
      "test\n",
      "torch.Size([200, 8576, 112])\n"
     ]
    },
    {
     "name": "stderr",
     "output_type": "stream",
     "text": [
      "\r",
      " 71%|███████   | 32/45 [26:48<10:53, 50.30s/it]"
     ]
    },
    {
     "name": "stdout",
     "output_type": "stream",
     "text": [
      "test\n",
      "torch.Size([200, 8576, 112])\n"
     ]
    },
    {
     "name": "stderr",
     "output_type": "stream",
     "text": [
      "\r",
      " 73%|███████▎  | 33/45 [27:40<10:10, 50.84s/it]"
     ]
    },
    {
     "name": "stdout",
     "output_type": "stream",
     "text": [
      "test\n",
      "torch.Size([200, 8576, 112])\n"
     ]
    },
    {
     "name": "stderr",
     "output_type": "stream",
     "text": [
      "\r",
      " 76%|███████▌  | 34/45 [28:31<09:18, 50.81s/it]"
     ]
    },
    {
     "name": "stdout",
     "output_type": "stream",
     "text": [
      "test\n",
      "torch.Size([200, 8576, 112])\n"
     ]
    },
    {
     "name": "stderr",
     "output_type": "stream",
     "text": [
      "\r",
      " 78%|███████▊  | 35/45 [29:21<08:28, 50.84s/it]"
     ]
    },
    {
     "name": "stdout",
     "output_type": "stream",
     "text": [
      "test\n",
      "torch.Size([200, 8576, 112])\n"
     ]
    },
    {
     "name": "stderr",
     "output_type": "stream",
     "text": [
      "\r",
      " 80%|████████  | 36/45 [30:12<07:36, 50.74s/it]"
     ]
    },
    {
     "name": "stdout",
     "output_type": "stream",
     "text": [
      "test\n",
      "torch.Size([200, 8576, 112])\n"
     ]
    },
    {
     "name": "stderr",
     "output_type": "stream",
     "text": [
      "\r",
      " 82%|████████▏ | 37/45 [31:05<06:52, 51.50s/it]"
     ]
    },
    {
     "name": "stdout",
     "output_type": "stream",
     "text": [
      "test\n",
      "torch.Size([200, 8576, 112])\n"
     ]
    },
    {
     "name": "stderr",
     "output_type": "stream",
     "text": [
      "\r",
      " 84%|████████▍ | 38/45 [31:56<05:59, 51.30s/it]"
     ]
    },
    {
     "name": "stdout",
     "output_type": "stream",
     "text": [
      "test\n",
      "torch.Size([200, 8576, 112])\n"
     ]
    },
    {
     "name": "stderr",
     "output_type": "stream",
     "text": [
      "\r",
      " 87%|████████▋ | 39/45 [32:50<05:11, 51.96s/it]"
     ]
    },
    {
     "name": "stdout",
     "output_type": "stream",
     "text": [
      "test\n",
      "torch.Size([200, 8576, 112])\n"
     ]
    },
    {
     "name": "stderr",
     "output_type": "stream",
     "text": [
      "\r",
      " 89%|████████▉ | 40/45 [33:41<04:19, 51.93s/it]"
     ]
    },
    {
     "name": "stdout",
     "output_type": "stream",
     "text": [
      "test\n",
      "torch.Size([200, 8576, 112])\n"
     ]
    },
    {
     "name": "stderr",
     "output_type": "stream",
     "text": [
      "\r",
      " 91%|█████████ | 41/45 [34:33<03:26, 51.69s/it]"
     ]
    },
    {
     "name": "stdout",
     "output_type": "stream",
     "text": [
      "test\n",
      "torch.Size([200, 8576, 112])\n"
     ]
    },
    {
     "name": "stderr",
     "output_type": "stream",
     "text": [
      "\r",
      " 93%|█████████▎| 42/45 [35:23<02:33, 51.28s/it]"
     ]
    },
    {
     "name": "stdout",
     "output_type": "stream",
     "text": [
      "test\n",
      "torch.Size([200, 8576, 112])\n"
     ]
    },
    {
     "name": "stderr",
     "output_type": "stream",
     "text": [
      "\r",
      " 96%|█████████▌| 43/45 [36:14<01:42, 51.17s/it]"
     ]
    },
    {
     "name": "stdout",
     "output_type": "stream",
     "text": [
      "test\n",
      "torch.Size([200, 8576, 112])\n"
     ]
    },
    {
     "name": "stderr",
     "output_type": "stream",
     "text": [
      "\r",
      " 98%|█████████▊| 44/45 [37:04<00:50, 50.88s/it]"
     ]
    },
    {
     "name": "stdout",
     "output_type": "stream",
     "text": [
      "test\n",
      "torch.Size([200, 8576, 112])\n"
     ]
    },
    {
     "name": "stderr",
     "output_type": "stream",
     "text": [
      "100%|██████████| 45/45 [37:49<00:00, 50.43s/it]\n"
     ]
    },
    {
     "name": "stdout",
     "output_type": "stream",
     "text": [
      "test\n",
      "Epoch [1/1000], Loss: 18133.8544\n"
     ]
    },
    {
     "name": "stderr",
     "output_type": "stream",
     "text": [
      "\r",
      "  0%|          | 0/45 [00:00<?, ?it/s]"
     ]
    },
    {
     "name": "stdout",
     "output_type": "stream",
     "text": [
      "torch.Size([200, 8576, 112])\n"
     ]
    },
    {
     "name": "stderr",
     "output_type": "stream",
     "text": [
      "\r",
      "  2%|▏         | 1/45 [00:50<36:53, 50.30s/it]"
     ]
    },
    {
     "name": "stdout",
     "output_type": "stream",
     "text": [
      "test\n",
      "torch.Size([200, 8576, 112])\n"
     ]
    },
    {
     "name": "stderr",
     "output_type": "stream",
     "text": [
      "\r",
      "  4%|▍         | 2/45 [01:41<36:23, 50.79s/it]"
     ]
    },
    {
     "name": "stdout",
     "output_type": "stream",
     "text": [
      "test\n",
      "torch.Size([200, 8576, 112])\n"
     ]
    },
    {
     "name": "stderr",
     "output_type": "stream",
     "text": [
      "\r",
      "  7%|▋         | 3/45 [02:32<35:47, 51.14s/it]"
     ]
    },
    {
     "name": "stdout",
     "output_type": "stream",
     "text": [
      "test\n",
      "torch.Size([200, 8576, 112])\n"
     ]
    },
    {
     "name": "stderr",
     "output_type": "stream",
     "text": [
      "\r",
      "  9%|▉         | 4/45 [03:22<34:37, 50.68s/it]"
     ]
    },
    {
     "name": "stdout",
     "output_type": "stream",
     "text": [
      "test\n",
      "torch.Size([200, 8576, 112])\n"
     ]
    },
    {
     "name": "stderr",
     "output_type": "stream",
     "text": [
      "\r",
      " 11%|█         | 5/45 [04:13<33:42, 50.56s/it]"
     ]
    },
    {
     "name": "stdout",
     "output_type": "stream",
     "text": [
      "test\n",
      "torch.Size([200, 8576, 112])\n"
     ]
    },
    {
     "name": "stderr",
     "output_type": "stream",
     "text": [
      "\r",
      " 13%|█▎        | 6/45 [05:04<32:58, 50.74s/it]"
     ]
    },
    {
     "name": "stdout",
     "output_type": "stream",
     "text": [
      "test\n",
      "torch.Size([200, 8576, 112])\n"
     ]
    },
    {
     "name": "stderr",
     "output_type": "stream",
     "text": [
      "\r",
      " 16%|█▌        | 7/45 [05:53<31:50, 50.27s/it]"
     ]
    },
    {
     "name": "stdout",
     "output_type": "stream",
     "text": [
      "test\n",
      "torch.Size([200, 8576, 112])\n"
     ]
    },
    {
     "name": "stderr",
     "output_type": "stream",
     "text": [
      "\r",
      " 18%|█▊        | 8/45 [06:42<30:42, 49.79s/it]"
     ]
    },
    {
     "name": "stdout",
     "output_type": "stream",
     "text": [
      "test\n",
      "torch.Size([200, 8576, 112])\n"
     ]
    },
    {
     "name": "stderr",
     "output_type": "stream",
     "text": [
      "\r",
      " 20%|██        | 9/45 [07:31<29:47, 49.65s/it]"
     ]
    },
    {
     "name": "stdout",
     "output_type": "stream",
     "text": [
      "test\n",
      "torch.Size([200, 8576, 112])\n"
     ]
    },
    {
     "name": "stderr",
     "output_type": "stream",
     "text": [
      "\r",
      " 22%|██▏       | 10/45 [08:22<29:14, 50.13s/it]"
     ]
    },
    {
     "name": "stdout",
     "output_type": "stream",
     "text": [
      "test\n",
      "torch.Size([200, 8576, 112])\n"
     ]
    },
    {
     "name": "stderr",
     "output_type": "stream",
     "text": [
      "\r",
      " 24%|██▍       | 11/45 [09:12<28:22, 50.07s/it]"
     ]
    },
    {
     "name": "stdout",
     "output_type": "stream",
     "text": [
      "test\n",
      "torch.Size([200, 8576, 112])\n"
     ]
    },
    {
     "name": "stderr",
     "output_type": "stream",
     "text": [
      "\r",
      " 27%|██▋       | 12/45 [10:03<27:38, 50.24s/it]"
     ]
    },
    {
     "name": "stdout",
     "output_type": "stream",
     "text": [
      "test\n",
      "torch.Size([200, 8576, 112])\n"
     ]
    },
    {
     "name": "stderr",
     "output_type": "stream",
     "text": [
      "\r",
      " 29%|██▉       | 13/45 [10:53<26:46, 50.19s/it]"
     ]
    },
    {
     "name": "stdout",
     "output_type": "stream",
     "text": [
      "test\n",
      "torch.Size([200, 8576, 112])\n"
     ]
    },
    {
     "name": "stderr",
     "output_type": "stream",
     "text": [
      "\r",
      " 31%|███       | 14/45 [11:41<25:35, 49.54s/it]"
     ]
    },
    {
     "name": "stdout",
     "output_type": "stream",
     "text": [
      "test\n",
      "torch.Size([200, 8576, 112])\n"
     ]
    },
    {
     "name": "stderr",
     "output_type": "stream",
     "text": [
      "\r",
      " 33%|███▎      | 15/45 [12:32<24:54, 49.83s/it]"
     ]
    },
    {
     "name": "stdout",
     "output_type": "stream",
     "text": [
      "test\n",
      "torch.Size([200, 8576, 112])\n"
     ]
    },
    {
     "name": "stderr",
     "output_type": "stream",
     "text": [
      "\r",
      " 36%|███▌      | 16/45 [13:22<24:09, 49.97s/it]"
     ]
    },
    {
     "name": "stdout",
     "output_type": "stream",
     "text": [
      "test\n",
      "torch.Size([200, 8576, 112])\n"
     ]
    },
    {
     "name": "stderr",
     "output_type": "stream",
     "text": [
      "\r",
      " 38%|███▊      | 17/45 [14:14<23:35, 50.54s/it]"
     ]
    },
    {
     "name": "stdout",
     "output_type": "stream",
     "text": [
      "test\n",
      "torch.Size([200, 8576, 112])\n"
     ]
    },
    {
     "name": "stderr",
     "output_type": "stream",
     "text": [
      "\r",
      " 40%|████      | 18/45 [15:03<22:35, 50.19s/it]"
     ]
    },
    {
     "name": "stdout",
     "output_type": "stream",
     "text": [
      "test\n",
      "torch.Size([200, 8576, 112])\n"
     ]
    },
    {
     "name": "stderr",
     "output_type": "stream",
     "text": [
      "\r",
      " 42%|████▏     | 19/45 [15:56<22:03, 50.91s/it]"
     ]
    },
    {
     "name": "stdout",
     "output_type": "stream",
     "text": [
      "test\n",
      "torch.Size([200, 8576, 112])\n"
     ]
    },
    {
     "name": "stderr",
     "output_type": "stream",
     "text": [
      "\r",
      " 44%|████▍     | 20/45 [16:48<21:19, 51.16s/it]"
     ]
    },
    {
     "name": "stdout",
     "output_type": "stream",
     "text": [
      "test\n",
      "torch.Size([200, 8576, 112])\n"
     ]
    },
    {
     "name": "stderr",
     "output_type": "stream",
     "text": [
      "\r",
      " 47%|████▋     | 21/45 [17:36<20:11, 50.46s/it]"
     ]
    },
    {
     "name": "stdout",
     "output_type": "stream",
     "text": [
      "test\n",
      "torch.Size([200, 8576, 112])\n"
     ]
    },
    {
     "name": "stderr",
     "output_type": "stream",
     "text": [
      "\r",
      " 49%|████▉     | 22/45 [18:28<19:31, 50.92s/it]"
     ]
    },
    {
     "name": "stdout",
     "output_type": "stream",
     "text": [
      "test\n",
      "torch.Size([200, 8576, 112])\n"
     ]
    },
    {
     "name": "stderr",
     "output_type": "stream",
     "text": [
      "\r",
      " 51%|█████     | 23/45 [19:16<18:20, 50.03s/it]"
     ]
    },
    {
     "name": "stdout",
     "output_type": "stream",
     "text": [
      "test\n",
      "torch.Size([200, 8576, 112])\n"
     ]
    },
    {
     "name": "stderr",
     "output_type": "stream",
     "text": [
      "\r",
      " 53%|█████▎    | 24/45 [20:02<17:01, 48.66s/it]"
     ]
    },
    {
     "name": "stdout",
     "output_type": "stream",
     "text": [
      "test\n",
      "torch.Size([200, 8576, 112])\n"
     ]
    },
    {
     "name": "stderr",
     "output_type": "stream",
     "text": [
      "\r",
      " 56%|█████▌    | 25/45 [20:51<16:16, 48.81s/it]"
     ]
    },
    {
     "name": "stdout",
     "output_type": "stream",
     "text": [
      "test\n",
      "torch.Size([200, 8576, 112])\n"
     ]
    },
    {
     "name": "stderr",
     "output_type": "stream",
     "text": [
      "\r",
      " 58%|█████▊    | 26/45 [21:40<15:29, 48.90s/it]"
     ]
    },
    {
     "name": "stdout",
     "output_type": "stream",
     "text": [
      "test\n",
      "torch.Size([200, 8576, 112])\n"
     ]
    },
    {
     "name": "stderr",
     "output_type": "stream",
     "text": [
      "\r",
      " 60%|██████    | 27/45 [22:29<14:41, 48.96s/it]"
     ]
    },
    {
     "name": "stdout",
     "output_type": "stream",
     "text": [
      "test\n",
      "torch.Size([200, 8576, 112])\n"
     ]
    },
    {
     "name": "stderr",
     "output_type": "stream",
     "text": [
      "\r",
      " 62%|██████▏   | 28/45 [23:21<14:07, 49.85s/it]"
     ]
    },
    {
     "name": "stdout",
     "output_type": "stream",
     "text": [
      "test\n",
      "torch.Size([200, 8576, 112])\n"
     ]
    },
    {
     "name": "stderr",
     "output_type": "stream",
     "text": [
      "\r",
      " 64%|██████▍   | 29/45 [24:09<13:09, 49.34s/it]"
     ]
    },
    {
     "name": "stdout",
     "output_type": "stream",
     "text": [
      "test\n",
      "torch.Size([200, 8576, 112])\n"
     ]
    },
    {
     "name": "stderr",
     "output_type": "stream",
     "text": [
      "\r",
      " 67%|██████▋   | 30/45 [25:02<12:35, 50.34s/it]"
     ]
    },
    {
     "name": "stdout",
     "output_type": "stream",
     "text": [
      "test\n",
      "torch.Size([200, 8576, 112])\n"
     ]
    },
    {
     "name": "stderr",
     "output_type": "stream",
     "text": [
      "\r",
      " 69%|██████▉   | 31/45 [25:50<11:37, 49.80s/it]"
     ]
    },
    {
     "name": "stdout",
     "output_type": "stream",
     "text": [
      "test\n",
      "torch.Size([200, 8576, 112])\n"
     ]
    },
    {
     "name": "stderr",
     "output_type": "stream",
     "text": [
      "\r",
      " 71%|███████   | 32/45 [26:43<10:56, 50.50s/it]"
     ]
    },
    {
     "name": "stdout",
     "output_type": "stream",
     "text": [
      "test\n",
      "torch.Size([200, 8576, 112])\n"
     ]
    },
    {
     "name": "stderr",
     "output_type": "stream",
     "text": [
      "\r",
      " 73%|███████▎  | 33/45 [27:33<10:04, 50.37s/it]"
     ]
    },
    {
     "name": "stdout",
     "output_type": "stream",
     "text": [
      "test\n",
      "torch.Size([200, 8576, 112])\n"
     ]
    },
    {
     "name": "stderr",
     "output_type": "stream",
     "text": [
      "\r",
      " 76%|███████▌  | 34/45 [28:22<09:11, 50.10s/it]"
     ]
    },
    {
     "name": "stdout",
     "output_type": "stream",
     "text": [
      "test\n",
      "torch.Size([200, 8576, 112])\n"
     ]
    },
    {
     "name": "stderr",
     "output_type": "stream",
     "text": [
      "\r",
      " 78%|███████▊  | 35/45 [29:14<08:25, 50.55s/it]"
     ]
    },
    {
     "name": "stdout",
     "output_type": "stream",
     "text": [
      "test\n",
      "torch.Size([200, 8576, 112])\n"
     ]
    },
    {
     "name": "stderr",
     "output_type": "stream",
     "text": [
      "\r",
      " 80%|████████  | 36/45 [30:02<07:29, 49.93s/it]"
     ]
    },
    {
     "name": "stdout",
     "output_type": "stream",
     "text": [
      "test\n",
      "torch.Size([200, 8576, 112])\n"
     ]
    },
    {
     "name": "stderr",
     "output_type": "stream",
     "text": [
      "\r",
      " 82%|████████▏ | 37/45 [30:51<06:36, 49.60s/it]"
     ]
    },
    {
     "name": "stdout",
     "output_type": "stream",
     "text": [
      "test\n",
      "torch.Size([200, 8576, 112])\n"
     ]
    },
    {
     "name": "stderr",
     "output_type": "stream",
     "text": [
      "\r",
      " 84%|████████▍ | 38/45 [31:41<05:48, 49.74s/it]"
     ]
    },
    {
     "name": "stdout",
     "output_type": "stream",
     "text": [
      "test\n",
      "torch.Size([200, 8576, 112])\n"
     ]
    },
    {
     "name": "stderr",
     "output_type": "stream",
     "text": [
      "\r",
      " 87%|████████▋ | 39/45 [32:32<04:59, 49.96s/it]"
     ]
    },
    {
     "name": "stdout",
     "output_type": "stream",
     "text": [
      "test\n",
      "torch.Size([200, 8576, 112])\n"
     ]
    },
    {
     "name": "stderr",
     "output_type": "stream",
     "text": [
      "\r",
      " 89%|████████▉ | 40/45 [33:22<04:11, 50.25s/it]"
     ]
    },
    {
     "name": "stdout",
     "output_type": "stream",
     "text": [
      "test\n",
      "torch.Size([200, 8576, 112])\n"
     ]
    },
    {
     "name": "stderr",
     "output_type": "stream",
     "text": [
      "\r",
      " 91%|█████████ | 41/45 [34:10<03:17, 49.47s/it]"
     ]
    },
    {
     "name": "stdout",
     "output_type": "stream",
     "text": [
      "test\n",
      "torch.Size([200, 8576, 112])\n"
     ]
    },
    {
     "name": "stderr",
     "output_type": "stream",
     "text": [
      "\r",
      " 93%|█████████▎| 42/45 [35:00<02:29, 49.72s/it]"
     ]
    },
    {
     "name": "stdout",
     "output_type": "stream",
     "text": [
      "test\n",
      "torch.Size([200, 8576, 112])\n"
     ]
    },
    {
     "name": "stderr",
     "output_type": "stream",
     "text": [
      "\r",
      " 96%|█████████▌| 43/45 [35:51<01:40, 50.08s/it]"
     ]
    },
    {
     "name": "stdout",
     "output_type": "stream",
     "text": [
      "test\n",
      "torch.Size([200, 8576, 112])\n"
     ]
    },
    {
     "name": "stderr",
     "output_type": "stream",
     "text": [
      "\r",
      " 98%|█████████▊| 44/45 [36:40<00:49, 49.63s/it]"
     ]
    },
    {
     "name": "stdout",
     "output_type": "stream",
     "text": [
      "test\n",
      "torch.Size([200, 8576, 112])\n"
     ]
    },
    {
     "name": "stderr",
     "output_type": "stream",
     "text": [
      "100%|██████████| 45/45 [37:30<00:00, 50.02s/it]\n"
     ]
    },
    {
     "name": "stdout",
     "output_type": "stream",
     "text": [
      "test\n",
      "Epoch [2/1000], Loss: 11938.7614\n"
     ]
    },
    {
     "name": "stderr",
     "output_type": "stream",
     "text": [
      "\r",
      "  0%|          | 0/45 [00:00<?, ?it/s]"
     ]
    },
    {
     "name": "stdout",
     "output_type": "stream",
     "text": [
      "torch.Size([200, 8576, 112])\n"
     ]
    },
    {
     "name": "stderr",
     "output_type": "stream",
     "text": [
      "\r",
      "  2%|▏         | 1/45 [00:51<37:30, 51.14s/it]"
     ]
    },
    {
     "name": "stdout",
     "output_type": "stream",
     "text": [
      "test\n",
      "torch.Size([200, 8576, 112])\n"
     ]
    },
    {
     "name": "stderr",
     "output_type": "stream",
     "text": [
      "\r",
      "  4%|▍         | 2/45 [01:36<34:01, 47.47s/it]"
     ]
    },
    {
     "name": "stdout",
     "output_type": "stream",
     "text": [
      "test\n",
      "torch.Size([200, 8576, 112])\n"
     ]
    },
    {
     "name": "stderr",
     "output_type": "stream",
     "text": [
      "\r",
      "  7%|▋         | 3/45 [02:27<34:23, 49.12s/it]"
     ]
    },
    {
     "name": "stdout",
     "output_type": "stream",
     "text": [
      "test\n",
      "torch.Size([200, 8576, 112])\n"
     ]
    },
    {
     "name": "stderr",
     "output_type": "stream",
     "text": [
      "\r",
      "  9%|▉         | 4/45 [03:18<34:07, 49.94s/it]"
     ]
    },
    {
     "name": "stdout",
     "output_type": "stream",
     "text": [
      "test\n",
      "torch.Size([200, 8576, 112])\n"
     ]
    },
    {
     "name": "stderr",
     "output_type": "stream",
     "text": [
      "\r",
      " 11%|█         | 5/45 [04:09<33:38, 50.47s/it]"
     ]
    },
    {
     "name": "stdout",
     "output_type": "stream",
     "text": [
      "test\n",
      "torch.Size([200, 8576, 112])\n"
     ]
    },
    {
     "name": "stderr",
     "output_type": "stream",
     "text": [
      "\r",
      " 13%|█▎        | 6/45 [05:00<32:47, 50.44s/it]"
     ]
    },
    {
     "name": "stdout",
     "output_type": "stream",
     "text": [
      "test\n",
      "torch.Size([200, 8576, 112])\n"
     ]
    },
    {
     "name": "stderr",
     "output_type": "stream",
     "text": [
      "\r",
      " 16%|█▌        | 7/45 [05:50<31:56, 50.42s/it]"
     ]
    },
    {
     "name": "stdout",
     "output_type": "stream",
     "text": [
      "test\n",
      "torch.Size([200, 8576, 112])\n"
     ]
    },
    {
     "name": "stderr",
     "output_type": "stream",
     "text": [
      "\r",
      " 18%|█▊        | 8/45 [06:39<30:51, 50.05s/it]"
     ]
    },
    {
     "name": "stdout",
     "output_type": "stream",
     "text": [
      "test\n",
      "torch.Size([200, 8576, 112])\n"
     ]
    },
    {
     "name": "stderr",
     "output_type": "stream",
     "text": [
      "\r",
      " 20%|██        | 9/45 [07:30<30:08, 50.23s/it]"
     ]
    },
    {
     "name": "stdout",
     "output_type": "stream",
     "text": [
      "test\n",
      "torch.Size([200, 8576, 112])\n"
     ]
    },
    {
     "name": "stderr",
     "output_type": "stream",
     "text": [
      "\r",
      " 22%|██▏       | 10/45 [08:20<29:15, 50.17s/it]"
     ]
    },
    {
     "name": "stdout",
     "output_type": "stream",
     "text": [
      "test\n",
      "torch.Size([200, 8576, 112])\n"
     ]
    },
    {
     "name": "stderr",
     "output_type": "stream",
     "text": [
      "\r",
      " 24%|██▍       | 11/45 [09:11<28:31, 50.33s/it]"
     ]
    },
    {
     "name": "stdout",
     "output_type": "stream",
     "text": [
      "test\n",
      "torch.Size([200, 8576, 112])\n"
     ]
    },
    {
     "name": "stderr",
     "output_type": "stream",
     "text": [
      "\r",
      " 27%|██▋       | 12/45 [10:01<27:40, 50.30s/it]"
     ]
    },
    {
     "name": "stdout",
     "output_type": "stream",
     "text": [
      "test\n",
      "torch.Size([200, 8576, 112])\n"
     ]
    },
    {
     "name": "stderr",
     "output_type": "stream",
     "text": [
      "\r",
      " 29%|██▉       | 13/45 [10:51<26:45, 50.18s/it]"
     ]
    },
    {
     "name": "stdout",
     "output_type": "stream",
     "text": [
      "test\n",
      "torch.Size([200, 8576, 112])\n"
     ]
    },
    {
     "name": "stderr",
     "output_type": "stream",
     "text": [
      "\r",
      " 31%|███       | 14/45 [11:42<26:05, 50.49s/it]"
     ]
    },
    {
     "name": "stdout",
     "output_type": "stream",
     "text": [
      "test\n",
      "torch.Size([200, 8576, 112])\n"
     ]
    },
    {
     "name": "stderr",
     "output_type": "stream",
     "text": [
      "\r",
      " 33%|███▎      | 15/45 [12:31<25:00, 50.01s/it]"
     ]
    },
    {
     "name": "stdout",
     "output_type": "stream",
     "text": [
      "test\n",
      "torch.Size([200, 8576, 112])\n"
     ]
    },
    {
     "name": "stderr",
     "output_type": "stream",
     "text": [
      "\r",
      " 36%|███▌      | 16/45 [13:20<24:00, 49.68s/it]"
     ]
    },
    {
     "name": "stdout",
     "output_type": "stream",
     "text": [
      "test\n",
      "torch.Size([200, 8576, 112])\n"
     ]
    },
    {
     "name": "stderr",
     "output_type": "stream",
     "text": [
      "\r",
      " 38%|███▊      | 17/45 [14:10<23:17, 49.92s/it]"
     ]
    },
    {
     "name": "stdout",
     "output_type": "stream",
     "text": [
      "test\n",
      "torch.Size([200, 8576, 112])\n"
     ]
    },
    {
     "name": "stderr",
     "output_type": "stream",
     "text": [
      "\r",
      " 40%|████      | 18/45 [15:01<22:33, 50.14s/it]"
     ]
    },
    {
     "name": "stdout",
     "output_type": "stream",
     "text": [
      "test\n",
      "torch.Size([200, 8576, 112])\n"
     ]
    },
    {
     "name": "stderr",
     "output_type": "stream",
     "text": [
      "\r",
      " 42%|████▏     | 19/45 [15:51<21:42, 50.10s/it]"
     ]
    },
    {
     "name": "stdout",
     "output_type": "stream",
     "text": [
      "test\n",
      "torch.Size([200, 8576, 112])\n"
     ]
    },
    {
     "name": "stderr",
     "output_type": "stream",
     "text": [
      "\r",
      " 44%|████▍     | 20/45 [16:41<20:49, 49.96s/it]"
     ]
    },
    {
     "name": "stdout",
     "output_type": "stream",
     "text": [
      "test\n",
      "torch.Size([200, 8576, 112])\n"
     ]
    },
    {
     "name": "stderr",
     "output_type": "stream",
     "text": [
      "\r",
      " 47%|████▋     | 21/45 [17:31<19:59, 49.99s/it]"
     ]
    },
    {
     "name": "stdout",
     "output_type": "stream",
     "text": [
      "test\n",
      "torch.Size([200, 8576, 112])\n"
     ]
    },
    {
     "name": "stderr",
     "output_type": "stream",
     "text": [
      "\r",
      " 49%|████▉     | 22/45 [18:22<19:16, 50.28s/it]"
     ]
    },
    {
     "name": "stdout",
     "output_type": "stream",
     "text": [
      "test\n",
      "torch.Size([200, 8576, 112])\n"
     ]
    },
    {
     "name": "stderr",
     "output_type": "stream",
     "text": [
      "\r",
      " 51%|█████     | 23/45 [19:10<18:14, 49.73s/it]"
     ]
    },
    {
     "name": "stdout",
     "output_type": "stream",
     "text": [
      "test\n",
      "torch.Size([200, 8576, 112])\n"
     ]
    },
    {
     "name": "stderr",
     "output_type": "stream",
     "text": [
      "\r",
      " 53%|█████▎    | 24/45 [20:01<17:29, 49.98s/it]"
     ]
    },
    {
     "name": "stdout",
     "output_type": "stream",
     "text": [
      "test\n",
      "torch.Size([200, 8576, 112])\n"
     ]
    },
    {
     "name": "stderr",
     "output_type": "stream",
     "text": [
      "\r",
      " 56%|█████▌    | 25/45 [20:51<16:39, 49.97s/it]"
     ]
    },
    {
     "name": "stdout",
     "output_type": "stream",
     "text": [
      "test\n",
      "torch.Size([200, 8576, 112])\n"
     ]
    },
    {
     "name": "stderr",
     "output_type": "stream",
     "text": [
      "\r",
      " 58%|█████▊    | 26/45 [21:32<15:01, 47.46s/it]"
     ]
    },
    {
     "name": "stdout",
     "output_type": "stream",
     "text": [
      "test\n",
      "torch.Size([200, 8576, 112])\n"
     ]
    },
    {
     "name": "stderr",
     "output_type": "stream",
     "text": [
      "\r",
      " 60%|██████    | 27/45 [22:23<14:30, 48.37s/it]"
     ]
    },
    {
     "name": "stdout",
     "output_type": "stream",
     "text": [
      "test\n",
      "torch.Size([200, 8576, 112])\n"
     ]
    },
    {
     "name": "stderr",
     "output_type": "stream",
     "text": [
      "\r",
      " 62%|██████▏   | 28/45 [23:12<13:48, 48.72s/it]"
     ]
    },
    {
     "name": "stdout",
     "output_type": "stream",
     "text": [
      "test\n",
      "torch.Size([200, 8576, 112])\n"
     ]
    },
    {
     "name": "stderr",
     "output_type": "stream",
     "text": [
      "\r",
      " 64%|██████▍   | 29/45 [24:01<12:58, 48.66s/it]"
     ]
    },
    {
     "name": "stdout",
     "output_type": "stream",
     "text": [
      "test\n",
      "torch.Size([200, 8576, 112])\n"
     ]
    },
    {
     "name": "stderr",
     "output_type": "stream",
     "text": [
      "\r",
      " 67%|██████▋   | 30/45 [24:53<12:24, 49.66s/it]"
     ]
    },
    {
     "name": "stdout",
     "output_type": "stream",
     "text": [
      "test\n",
      "torch.Size([200, 8576, 112])\n"
     ]
    },
    {
     "name": "stderr",
     "output_type": "stream",
     "text": [
      "\r",
      " 69%|██████▉   | 31/45 [25:41<11:31, 49.37s/it]"
     ]
    },
    {
     "name": "stdout",
     "output_type": "stream",
     "text": [
      "test\n",
      "torch.Size([200, 8576, 112])\n"
     ]
    },
    {
     "name": "stderr",
     "output_type": "stream",
     "text": [
      "\r",
      " 71%|███████   | 32/45 [26:30<10:40, 49.25s/it]"
     ]
    },
    {
     "name": "stdout",
     "output_type": "stream",
     "text": [
      "test\n",
      "torch.Size([200, 8576, 112])\n"
     ]
    },
    {
     "name": "stderr",
     "output_type": "stream",
     "text": [
      "\r",
      " 73%|███████▎  | 33/45 [27:21<09:56, 49.72s/it]"
     ]
    },
    {
     "name": "stdout",
     "output_type": "stream",
     "text": [
      "test\n",
      "torch.Size([200, 8576, 112])\n"
     ]
    },
    {
     "name": "stderr",
     "output_type": "stream",
     "text": [
      "\r",
      " 76%|███████▌  | 34/45 [28:10<09:03, 49.41s/it]"
     ]
    },
    {
     "name": "stdout",
     "output_type": "stream",
     "text": [
      "test\n",
      "torch.Size([200, 8576, 112])\n"
     ]
    },
    {
     "name": "stderr",
     "output_type": "stream",
     "text": [
      "\r",
      " 78%|███████▊  | 35/45 [28:59<08:14, 49.42s/it]"
     ]
    },
    {
     "name": "stdout",
     "output_type": "stream",
     "text": [
      "test\n",
      "torch.Size([200, 8576, 112])\n"
     ]
    },
    {
     "name": "stderr",
     "output_type": "stream",
     "text": [
      "\r",
      " 80%|████████  | 36/45 [29:50<07:28, 49.78s/it]"
     ]
    },
    {
     "name": "stdout",
     "output_type": "stream",
     "text": [
      "test\n",
      "torch.Size([200, 8576, 112])\n"
     ]
    },
    {
     "name": "stderr",
     "output_type": "stream",
     "text": [
      "\r",
      " 82%|████████▏ | 37/45 [30:40<06:40, 50.02s/it]"
     ]
    },
    {
     "name": "stdout",
     "output_type": "stream",
     "text": [
      "test\n",
      "torch.Size([200, 8576, 112])\n"
     ]
    },
    {
     "name": "stderr",
     "output_type": "stream",
     "text": [
      "\r",
      " 84%|████████▍ | 38/45 [31:32<05:53, 50.46s/it]"
     ]
    },
    {
     "name": "stdout",
     "output_type": "stream",
     "text": [
      "test\n",
      "torch.Size([200, 8576, 112])\n"
     ]
    },
    {
     "name": "stderr",
     "output_type": "stream",
     "text": [
      "\r",
      " 87%|████████▋ | 39/45 [32:21<05:00, 50.10s/it]"
     ]
    },
    {
     "name": "stdout",
     "output_type": "stream",
     "text": [
      "test\n",
      "torch.Size([200, 8576, 112])\n"
     ]
    },
    {
     "name": "stderr",
     "output_type": "stream",
     "text": [
      "\r",
      " 89%|████████▉ | 40/45 [33:13<04:13, 50.68s/it]"
     ]
    },
    {
     "name": "stdout",
     "output_type": "stream",
     "text": [
      "test\n",
      "torch.Size([200, 8576, 112])\n"
     ]
    },
    {
     "name": "stderr",
     "output_type": "stream",
     "text": [
      "\r",
      " 91%|█████████ | 41/45 [34:05<03:23, 50.90s/it]"
     ]
    },
    {
     "name": "stdout",
     "output_type": "stream",
     "text": [
      "test\n",
      "torch.Size([200, 8576, 112])\n"
     ]
    },
    {
     "name": "stderr",
     "output_type": "stream",
     "text": [
      "\r",
      " 93%|█████████▎| 42/45 [34:55<02:31, 50.63s/it]"
     ]
    },
    {
     "name": "stdout",
     "output_type": "stream",
     "text": [
      "test\n",
      "torch.Size([200, 8576, 112])\n"
     ]
    },
    {
     "name": "stderr",
     "output_type": "stream",
     "text": [
      "\r",
      " 96%|█████████▌| 43/45 [35:43<01:40, 50.09s/it]"
     ]
    },
    {
     "name": "stdout",
     "output_type": "stream",
     "text": [
      "test\n",
      "torch.Size([200, 8576, 112])\n"
     ]
    },
    {
     "name": "stderr",
     "output_type": "stream",
     "text": [
      "\r",
      " 98%|█████████▊| 44/45 [36:32<00:49, 49.58s/it]"
     ]
    },
    {
     "name": "stdout",
     "output_type": "stream",
     "text": [
      "test\n",
      "torch.Size([200, 8576, 112])\n"
     ]
    },
    {
     "name": "stderr",
     "output_type": "stream",
     "text": [
      "100%|██████████| 45/45 [37:22<00:00, 49.83s/it]\n"
     ]
    },
    {
     "name": "stdout",
     "output_type": "stream",
     "text": [
      "test\n",
      "Epoch [3/1000], Loss: 11798.3992\n"
     ]
    },
    {
     "name": "stderr",
     "output_type": "stream",
     "text": [
      "\r",
      "  0%|          | 0/45 [00:00<?, ?it/s]"
     ]
    },
    {
     "name": "stdout",
     "output_type": "stream",
     "text": [
      "torch.Size([200, 8576, 112])\n"
     ]
    },
    {
     "name": "stderr",
     "output_type": "stream",
     "text": [
      "\r",
      "  2%|▏         | 1/45 [00:51<37:50, 51.59s/it]"
     ]
    },
    {
     "name": "stdout",
     "output_type": "stream",
     "text": [
      "test\n",
      "torch.Size([200, 8576, 112])\n"
     ]
    },
    {
     "name": "stderr",
     "output_type": "stream",
     "text": [
      "\r",
      "  4%|▍         | 2/45 [01:44<37:25, 52.21s/it]"
     ]
    },
    {
     "name": "stdout",
     "output_type": "stream",
     "text": [
      "test\n",
      "torch.Size([200, 8576, 112])\n"
     ]
    },
    {
     "name": "stderr",
     "output_type": "stream",
     "text": [
      "\r",
      "  7%|▋         | 3/45 [02:37<37:00, 52.86s/it]"
     ]
    },
    {
     "name": "stdout",
     "output_type": "stream",
     "text": [
      "test\n",
      "torch.Size([200, 8576, 112])\n"
     ]
    },
    {
     "name": "stderr",
     "output_type": "stream",
     "text": [
      "\r",
      "  9%|▉         | 4/45 [03:23<34:02, 49.83s/it]"
     ]
    },
    {
     "name": "stdout",
     "output_type": "stream",
     "text": [
      "test\n",
      "torch.Size([200, 8576, 112])\n"
     ]
    },
    {
     "name": "stderr",
     "output_type": "stream",
     "text": [
      "\r",
      " 11%|█         | 5/45 [04:13<33:21, 50.04s/it]"
     ]
    },
    {
     "name": "stdout",
     "output_type": "stream",
     "text": [
      "test\n",
      "torch.Size([200, 8576, 112])\n"
     ]
    },
    {
     "name": "stderr",
     "output_type": "stream",
     "text": [
      "\r",
      " 13%|█▎        | 6/45 [05:05<32:54, 50.64s/it]"
     ]
    },
    {
     "name": "stdout",
     "output_type": "stream",
     "text": [
      "test\n",
      "torch.Size([200, 8576, 112])\n"
     ]
    },
    {
     "name": "stderr",
     "output_type": "stream",
     "text": [
      "\r",
      " 16%|█▌        | 7/45 [05:55<31:57, 50.47s/it]"
     ]
    },
    {
     "name": "stdout",
     "output_type": "stream",
     "text": [
      "test\n",
      "torch.Size([200, 8576, 112])\n"
     ]
    },
    {
     "name": "stderr",
     "output_type": "stream",
     "text": [
      "\r",
      " 18%|█▊        | 8/45 [06:46<31:19, 50.80s/it]"
     ]
    },
    {
     "name": "stdout",
     "output_type": "stream",
     "text": [
      "test\n",
      "torch.Size([200, 8576, 112])\n"
     ]
    },
    {
     "name": "stderr",
     "output_type": "stream",
     "text": [
      "\r",
      " 20%|██        | 9/45 [07:37<30:30, 50.84s/it]"
     ]
    },
    {
     "name": "stdout",
     "output_type": "stream",
     "text": [
      "test\n",
      "torch.Size([200, 8576, 112])\n"
     ]
    },
    {
     "name": "stderr",
     "output_type": "stream",
     "text": [
      "\r",
      " 22%|██▏       | 10/45 [08:28<29:33, 50.67s/it]"
     ]
    },
    {
     "name": "stdout",
     "output_type": "stream",
     "text": [
      "test\n",
      "torch.Size([200, 8576, 112])\n"
     ]
    },
    {
     "name": "stderr",
     "output_type": "stream",
     "text": [
      "\r",
      " 24%|██▍       | 11/45 [09:17<28:31, 50.35s/it]"
     ]
    },
    {
     "name": "stdout",
     "output_type": "stream",
     "text": [
      "test\n",
      "torch.Size([200, 8576, 112])\n"
     ]
    },
    {
     "name": "stderr",
     "output_type": "stream",
     "text": [
      "\r",
      " 27%|██▋       | 12/45 [10:07<27:36, 50.21s/it]"
     ]
    },
    {
     "name": "stdout",
     "output_type": "stream",
     "text": [
      "test\n",
      "torch.Size([200, 8576, 112])\n"
     ]
    },
    {
     "name": "stderr",
     "output_type": "stream",
     "text": [
      "\r",
      " 29%|██▉       | 13/45 [10:58<26:53, 50.42s/it]"
     ]
    },
    {
     "name": "stdout",
     "output_type": "stream",
     "text": [
      "test\n",
      "torch.Size([200, 8576, 112])\n"
     ]
    },
    {
     "name": "stderr",
     "output_type": "stream",
     "text": [
      "\r",
      " 31%|███       | 14/45 [11:44<25:26, 49.23s/it]"
     ]
    },
    {
     "name": "stdout",
     "output_type": "stream",
     "text": [
      "test\n",
      "torch.Size([200, 8576, 112])\n"
     ]
    },
    {
     "name": "stderr",
     "output_type": "stream",
     "text": [
      "\r",
      " 33%|███▎      | 15/45 [12:34<24:37, 49.26s/it]"
     ]
    },
    {
     "name": "stdout",
     "output_type": "stream",
     "text": [
      "test\n",
      "torch.Size([200, 8576, 112])\n"
     ]
    },
    {
     "name": "stderr",
     "output_type": "stream",
     "text": [
      "\r",
      " 36%|███▌      | 16/45 [13:22<23:36, 48.85s/it]"
     ]
    },
    {
     "name": "stdout",
     "output_type": "stream",
     "text": [
      "test\n",
      "torch.Size([200, 8576, 112])\n"
     ]
    },
    {
     "name": "stderr",
     "output_type": "stream",
     "text": [
      "\r",
      " 38%|███▊      | 17/45 [14:12<22:57, 49.18s/it]"
     ]
    },
    {
     "name": "stdout",
     "output_type": "stream",
     "text": [
      "test\n",
      "torch.Size([200, 8576, 112])\n"
     ]
    },
    {
     "name": "stderr",
     "output_type": "stream",
     "text": [
      "\r",
      " 40%|████      | 18/45 [15:02<22:18, 49.58s/it]"
     ]
    },
    {
     "name": "stdout",
     "output_type": "stream",
     "text": [
      "test\n",
      "torch.Size([200, 8576, 112])\n"
     ]
    },
    {
     "name": "stderr",
     "output_type": "stream",
     "text": [
      "\r",
      " 42%|████▏     | 19/45 [15:52<21:31, 49.69s/it]"
     ]
    },
    {
     "name": "stdout",
     "output_type": "stream",
     "text": [
      "test\n",
      "torch.Size([200, 8576, 112])\n"
     ]
    },
    {
     "name": "stderr",
     "output_type": "stream",
     "text": [
      "\r",
      " 44%|████▍     | 20/45 [16:44<21:01, 50.46s/it]"
     ]
    },
    {
     "name": "stdout",
     "output_type": "stream",
     "text": [
      "test\n",
      "torch.Size([200, 8576, 112])\n"
     ]
    },
    {
     "name": "stderr",
     "output_type": "stream",
     "text": [
      "\r",
      " 47%|████▋     | 21/45 [17:32<19:54, 49.75s/it]"
     ]
    },
    {
     "name": "stdout",
     "output_type": "stream",
     "text": [
      "test\n",
      "torch.Size([200, 8576, 112])\n"
     ]
    },
    {
     "name": "stderr",
     "output_type": "stream",
     "text": [
      "\r",
      " 49%|████▉     | 22/45 [18:23<19:07, 49.90s/it]"
     ]
    },
    {
     "name": "stdout",
     "output_type": "stream",
     "text": [
      "test\n",
      "torch.Size([200, 8576, 112])\n"
     ]
    },
    {
     "name": "stderr",
     "output_type": "stream",
     "text": [
      "\r",
      " 51%|█████     | 23/45 [19:14<18:24, 50.23s/it]"
     ]
    },
    {
     "name": "stdout",
     "output_type": "stream",
     "text": [
      "test\n",
      "torch.Size([200, 8576, 112])\n"
     ]
    },
    {
     "name": "stderr",
     "output_type": "stream",
     "text": [
      "\r",
      " 53%|█████▎    | 24/45 [20:04<17:33, 50.18s/it]"
     ]
    },
    {
     "name": "stdout",
     "output_type": "stream",
     "text": [
      "test\n",
      "torch.Size([200, 8576, 112])\n"
     ]
    },
    {
     "name": "stderr",
     "output_type": "stream",
     "text": [
      "\r",
      " 56%|█████▌    | 25/45 [20:53<16:35, 49.78s/it]"
     ]
    },
    {
     "name": "stdout",
     "output_type": "stream",
     "text": [
      "test\n",
      "torch.Size([200, 8576, 112])\n"
     ]
    },
    {
     "name": "stderr",
     "output_type": "stream",
     "text": [
      "\r",
      " 58%|█████▊    | 26/45 [21:43<15:48, 49.93s/it]"
     ]
    },
    {
     "name": "stdout",
     "output_type": "stream",
     "text": [
      "test\n",
      "torch.Size([200, 8576, 112])\n"
     ]
    },
    {
     "name": "stderr",
     "output_type": "stream",
     "text": [
      "\r",
      " 60%|██████    | 27/45 [22:32<14:54, 49.67s/it]"
     ]
    },
    {
     "name": "stdout",
     "output_type": "stream",
     "text": [
      "test\n",
      "torch.Size([200, 8576, 112])\n"
     ]
    },
    {
     "name": "stderr",
     "output_type": "stream",
     "text": [
      "\r",
      " 62%|██████▏   | 28/45 [23:19<13:49, 48.80s/it]"
     ]
    },
    {
     "name": "stdout",
     "output_type": "stream",
     "text": [
      "test\n",
      "torch.Size([200, 8576, 112])\n"
     ]
    },
    {
     "name": "stderr",
     "output_type": "stream",
     "text": [
      "\r",
      " 64%|██████▍   | 29/45 [24:08<13:03, 48.95s/it]"
     ]
    },
    {
     "name": "stdout",
     "output_type": "stream",
     "text": [
      "test\n",
      "torch.Size([200, 8576, 112])\n"
     ]
    },
    {
     "name": "stderr",
     "output_type": "stream",
     "text": [
      "\r",
      " 67%|██████▋   | 30/45 [24:56<12:08, 48.59s/it]"
     ]
    },
    {
     "name": "stdout",
     "output_type": "stream",
     "text": [
      "test\n",
      "torch.Size([200, 8576, 112])\n"
     ]
    },
    {
     "name": "stderr",
     "output_type": "stream",
     "text": [
      "\r",
      " 69%|██████▉   | 31/45 [25:43<11:16, 48.29s/it]"
     ]
    },
    {
     "name": "stdout",
     "output_type": "stream",
     "text": [
      "test\n",
      "torch.Size([200, 8576, 112])\n"
     ]
    },
    {
     "name": "stderr",
     "output_type": "stream",
     "text": [
      "\r",
      " 71%|███████   | 32/45 [26:33<10:34, 48.82s/it]"
     ]
    },
    {
     "name": "stdout",
     "output_type": "stream",
     "text": [
      "test\n",
      "torch.Size([200, 8576, 112])\n"
     ]
    },
    {
     "name": "stderr",
     "output_type": "stream",
     "text": [
      "\r",
      " 73%|███████▎  | 33/45 [27:23<09:46, 48.90s/it]"
     ]
    },
    {
     "name": "stdout",
     "output_type": "stream",
     "text": [
      "test\n",
      "torch.Size([200, 8576, 112])\n"
     ]
    },
    {
     "name": "stderr",
     "output_type": "stream",
     "text": [
      "\r",
      " 76%|███████▌  | 34/45 [28:13<09:02, 49.32s/it]"
     ]
    },
    {
     "name": "stdout",
     "output_type": "stream",
     "text": [
      "test\n",
      "torch.Size([200, 8576, 112])\n"
     ]
    },
    {
     "name": "stderr",
     "output_type": "stream",
     "text": [
      "\r",
      " 78%|███████▊  | 35/45 [29:04<08:17, 49.78s/it]"
     ]
    },
    {
     "name": "stdout",
     "output_type": "stream",
     "text": [
      "test\n",
      "torch.Size([200, 8576, 112])\n"
     ]
    },
    {
     "name": "stderr",
     "output_type": "stream",
     "text": [
      "\r",
      " 80%|████████  | 36/45 [29:54<07:28, 49.85s/it]"
     ]
    },
    {
     "name": "stdout",
     "output_type": "stream",
     "text": [
      "test\n",
      "torch.Size([200, 8576, 112])\n"
     ]
    },
    {
     "name": "stderr",
     "output_type": "stream",
     "text": [
      "\r",
      " 82%|████████▏ | 37/45 [30:43<06:37, 49.74s/it]"
     ]
    },
    {
     "name": "stdout",
     "output_type": "stream",
     "text": [
      "test\n",
      "torch.Size([200, 8576, 112])\n"
     ]
    },
    {
     "name": "stderr",
     "output_type": "stream",
     "text": [
      "\r",
      " 84%|████████▍ | 38/45 [31:33<05:47, 49.64s/it]"
     ]
    },
    {
     "name": "stdout",
     "output_type": "stream",
     "text": [
      "test\n",
      "torch.Size([200, 8576, 112])\n"
     ]
    },
    {
     "name": "stderr",
     "output_type": "stream",
     "text": [
      "\r",
      " 87%|████████▋ | 39/45 [32:21<04:55, 49.24s/it]"
     ]
    },
    {
     "name": "stdout",
     "output_type": "stream",
     "text": [
      "test\n",
      "torch.Size([200, 8576, 112])\n"
     ]
    },
    {
     "name": "stderr",
     "output_type": "stream",
     "text": [
      "\r",
      " 89%|████████▉ | 40/45 [33:11<04:06, 49.35s/it]"
     ]
    },
    {
     "name": "stdout",
     "output_type": "stream",
     "text": [
      "test\n",
      "torch.Size([200, 8576, 112])\n"
     ]
    },
    {
     "name": "stderr",
     "output_type": "stream",
     "text": [
      "\r",
      " 91%|█████████ | 41/45 [34:01<03:18, 49.56s/it]"
     ]
    },
    {
     "name": "stdout",
     "output_type": "stream",
     "text": [
      "test\n",
      "torch.Size([200, 8576, 112])\n"
     ]
    },
    {
     "name": "stderr",
     "output_type": "stream",
     "text": [
      "\r",
      " 93%|█████████▎| 42/45 [34:51<02:29, 49.82s/it]"
     ]
    },
    {
     "name": "stdout",
     "output_type": "stream",
     "text": [
      "test\n",
      "torch.Size([200, 8576, 112])\n"
     ]
    },
    {
     "name": "stderr",
     "output_type": "stream",
     "text": [
      "\r",
      " 96%|█████████▌| 43/45 [35:40<01:39, 49.56s/it]"
     ]
    },
    {
     "name": "stdout",
     "output_type": "stream",
     "text": [
      "test\n",
      "torch.Size([200, 8576, 112])\n"
     ]
    },
    {
     "name": "stderr",
     "output_type": "stream",
     "text": [
      "\r",
      " 98%|█████████▊| 44/45 [36:29<00:49, 49.49s/it]"
     ]
    },
    {
     "name": "stdout",
     "output_type": "stream",
     "text": [
      "test\n",
      "torch.Size([200, 8576, 112])\n"
     ]
    },
    {
     "name": "stderr",
     "output_type": "stream",
     "text": [
      "100%|██████████| 45/45 [37:19<00:00, 49.77s/it]\n"
     ]
    },
    {
     "name": "stdout",
     "output_type": "stream",
     "text": [
      "test\n",
      "Epoch [4/1000], Loss: 8615.3479\n"
     ]
    },
    {
     "name": "stderr",
     "output_type": "stream",
     "text": [
      "\r",
      "  0%|          | 0/45 [00:00<?, ?it/s]"
     ]
    },
    {
     "name": "stdout",
     "output_type": "stream",
     "text": [
      "torch.Size([200, 8576, 112])\n"
     ]
    },
    {
     "name": "stderr",
     "output_type": "stream",
     "text": [
      "\r",
      "  2%|▏         | 1/45 [00:49<36:36, 49.92s/it]"
     ]
    },
    {
     "name": "stdout",
     "output_type": "stream",
     "text": [
      "test\n",
      "torch.Size([200, 8576, 112])\n"
     ]
    },
    {
     "name": "stderr",
     "output_type": "stream",
     "text": [
      "\r",
      "  4%|▍         | 2/45 [01:37<34:50, 48.62s/it]"
     ]
    },
    {
     "name": "stdout",
     "output_type": "stream",
     "text": [
      "test\n",
      "torch.Size([200, 8576, 112])\n"
     ]
    },
    {
     "name": "stderr",
     "output_type": "stream",
     "text": [
      "\r",
      "  7%|▋         | 3/45 [02:29<34:59, 49.98s/it]"
     ]
    },
    {
     "name": "stdout",
     "output_type": "stream",
     "text": [
      "test\n",
      "torch.Size([200, 8576, 112])\n"
     ]
    },
    {
     "name": "stderr",
     "output_type": "stream",
     "text": [
      "\r",
      "  9%|▉         | 4/45 [03:20<34:23, 50.32s/it]"
     ]
    },
    {
     "name": "stdout",
     "output_type": "stream",
     "text": [
      "test\n",
      "torch.Size([200, 8576, 112])\n"
     ]
    },
    {
     "name": "stderr",
     "output_type": "stream",
     "text": [
      "\r",
      " 11%|█         | 5/45 [04:11<33:54, 50.87s/it]"
     ]
    },
    {
     "name": "stdout",
     "output_type": "stream",
     "text": [
      "test\n",
      "torch.Size([200, 8576, 112])\n"
     ]
    },
    {
     "name": "stderr",
     "output_type": "stream",
     "text": [
      "\r",
      " 13%|█▎        | 6/45 [04:57<31:51, 49.00s/it]"
     ]
    },
    {
     "name": "stdout",
     "output_type": "stream",
     "text": [
      "test\n",
      "torch.Size([200, 8576, 112])\n"
     ]
    },
    {
     "name": "stderr",
     "output_type": "stream",
     "text": [
      "\r",
      " 16%|█▌        | 7/45 [05:46<31:05, 49.09s/it]"
     ]
    },
    {
     "name": "stdout",
     "output_type": "stream",
     "text": [
      "test\n",
      "torch.Size([200, 8576, 112])\n"
     ]
    },
    {
     "name": "stderr",
     "output_type": "stream",
     "text": [
      "\r",
      " 18%|█▊        | 8/45 [06:37<30:37, 49.67s/it]"
     ]
    },
    {
     "name": "stdout",
     "output_type": "stream",
     "text": [
      "test\n",
      "torch.Size([200, 8576, 112])\n"
     ]
    },
    {
     "name": "stderr",
     "output_type": "stream",
     "text": [
      "\r",
      " 20%|██        | 9/45 [07:27<29:50, 49.74s/it]"
     ]
    },
    {
     "name": "stdout",
     "output_type": "stream",
     "text": [
      "test\n",
      "torch.Size([200, 8576, 112])\n"
     ]
    },
    {
     "name": "stderr",
     "output_type": "stream",
     "text": [
      "\r",
      " 22%|██▏       | 10/45 [08:20<29:33, 50.68s/it]"
     ]
    },
    {
     "name": "stdout",
     "output_type": "stream",
     "text": [
      "test\n",
      "torch.Size([200, 8576, 112])\n"
     ]
    },
    {
     "name": "stderr",
     "output_type": "stream",
     "text": [
      "\r",
      " 24%|██▍       | 11/45 [09:08<28:19, 49.99s/it]"
     ]
    },
    {
     "name": "stdout",
     "output_type": "stream",
     "text": [
      "test\n",
      "torch.Size([200, 8576, 112])\n"
     ]
    },
    {
     "name": "stderr",
     "output_type": "stream",
     "text": [
      "\r",
      " 27%|██▋       | 12/45 [09:58<27:31, 50.03s/it]"
     ]
    },
    {
     "name": "stdout",
     "output_type": "stream",
     "text": [
      "test\n",
      "torch.Size([200, 8576, 112])\n"
     ]
    },
    {
     "name": "stderr",
     "output_type": "stream",
     "text": [
      "\r",
      " 29%|██▉       | 13/45 [10:48<26:35, 49.85s/it]"
     ]
    },
    {
     "name": "stdout",
     "output_type": "stream",
     "text": [
      "test\n",
      "torch.Size([200, 8576, 112])\n"
     ]
    },
    {
     "name": "stderr",
     "output_type": "stream",
     "text": [
      "\r",
      " 31%|███       | 14/45 [11:36<25:29, 49.35s/it]"
     ]
    },
    {
     "name": "stdout",
     "output_type": "stream",
     "text": [
      "test\n",
      "torch.Size([200, 8576, 112])\n"
     ]
    },
    {
     "name": "stderr",
     "output_type": "stream",
     "text": [
      "\r",
      " 33%|███▎      | 15/45 [12:25<24:39, 49.31s/it]"
     ]
    },
    {
     "name": "stdout",
     "output_type": "stream",
     "text": [
      "test\n",
      "torch.Size([200, 8576, 112])\n"
     ]
    },
    {
     "name": "stderr",
     "output_type": "stream",
     "text": [
      "\r",
      " 36%|███▌      | 16/45 [13:15<23:57, 49.57s/it]"
     ]
    },
    {
     "name": "stdout",
     "output_type": "stream",
     "text": [
      "test\n",
      "torch.Size([200, 8576, 112])\n"
     ]
    },
    {
     "name": "stderr",
     "output_type": "stream",
     "text": [
      "\r",
      " 38%|███▊      | 17/45 [14:06<23:21, 50.07s/it]"
     ]
    },
    {
     "name": "stdout",
     "output_type": "stream",
     "text": [
      "test\n",
      "torch.Size([200, 8576, 112])\n"
     ]
    },
    {
     "name": "stderr",
     "output_type": "stream",
     "text": [
      "\r",
      " 40%|████      | 18/45 [14:57<22:36, 50.23s/it]"
     ]
    },
    {
     "name": "stdout",
     "output_type": "stream",
     "text": [
      "test\n",
      "torch.Size([200, 8576, 112])\n"
     ]
    },
    {
     "name": "stderr",
     "output_type": "stream",
     "text": [
      "\r",
      " 42%|████▏     | 19/45 [15:46<21:38, 49.92s/it]"
     ]
    },
    {
     "name": "stdout",
     "output_type": "stream",
     "text": [
      "test\n",
      "torch.Size([200, 8576, 112])\n"
     ]
    },
    {
     "name": "stderr",
     "output_type": "stream",
     "text": [
      "\r",
      " 44%|████▍     | 20/45 [16:36<20:50, 50.01s/it]"
     ]
    },
    {
     "name": "stdout",
     "output_type": "stream",
     "text": [
      "test\n",
      "torch.Size([200, 8576, 112])\n"
     ]
    },
    {
     "name": "stderr",
     "output_type": "stream",
     "text": [
      "\r",
      " 47%|████▋     | 21/45 [17:27<20:01, 50.06s/it]"
     ]
    },
    {
     "name": "stdout",
     "output_type": "stream",
     "text": [
      "test\n",
      "torch.Size([200, 8576, 112])\n"
     ]
    },
    {
     "name": "stderr",
     "output_type": "stream",
     "text": [
      "\r",
      " 49%|████▉     | 22/45 [18:18<19:19, 50.43s/it]"
     ]
    },
    {
     "name": "stdout",
     "output_type": "stream",
     "text": [
      "test\n",
      "torch.Size([200, 8576, 112])\n"
     ]
    },
    {
     "name": "stderr",
     "output_type": "stream",
     "text": [
      "\r",
      " 51%|█████     | 23/45 [19:10<18:38, 50.83s/it]"
     ]
    },
    {
     "name": "stdout",
     "output_type": "stream",
     "text": [
      "test\n",
      "torch.Size([200, 8576, 112])\n"
     ]
    },
    {
     "name": "stderr",
     "output_type": "stream",
     "text": [
      "\r",
      " 53%|█████▎    | 24/45 [19:57<17:25, 49.77s/it]"
     ]
    },
    {
     "name": "stdout",
     "output_type": "stream",
     "text": [
      "test\n",
      "torch.Size([200, 8576, 112])\n"
     ]
    },
    {
     "name": "stderr",
     "output_type": "stream",
     "text": [
      "\r",
      " 56%|█████▌    | 25/45 [20:47<16:36, 49.84s/it]"
     ]
    },
    {
     "name": "stdout",
     "output_type": "stream",
     "text": [
      "test\n",
      "torch.Size([200, 8576, 112])\n"
     ]
    },
    {
     "name": "stderr",
     "output_type": "stream",
     "text": [
      "\r",
      " 58%|█████▊    | 26/45 [21:37<15:46, 49.80s/it]"
     ]
    },
    {
     "name": "stdout",
     "output_type": "stream",
     "text": [
      "test\n",
      "torch.Size([200, 8576, 112])\n"
     ]
    },
    {
     "name": "stderr",
     "output_type": "stream",
     "text": [
      "\r",
      " 60%|██████    | 27/45 [22:27<14:57, 49.86s/it]"
     ]
    },
    {
     "name": "stdout",
     "output_type": "stream",
     "text": [
      "test\n",
      "torch.Size([200, 8576, 112])\n"
     ]
    },
    {
     "name": "stderr",
     "output_type": "stream",
     "text": [
      "\r",
      " 62%|██████▏   | 28/45 [23:15<14:01, 49.50s/it]"
     ]
    },
    {
     "name": "stdout",
     "output_type": "stream",
     "text": [
      "test\n",
      "torch.Size([200, 8576, 112])\n"
     ]
    },
    {
     "name": "stderr",
     "output_type": "stream",
     "text": [
      "\r",
      " 64%|██████▍   | 29/45 [24:02<12:56, 48.50s/it]"
     ]
    },
    {
     "name": "stdout",
     "output_type": "stream",
     "text": [
      "test\n",
      "torch.Size([200, 8576, 112])\n"
     ]
    },
    {
     "name": "stderr",
     "output_type": "stream",
     "text": [
      "\r",
      " 67%|██████▋   | 30/45 [24:51<12:13, 48.93s/it]"
     ]
    },
    {
     "name": "stdout",
     "output_type": "stream",
     "text": [
      "test\n",
      "torch.Size([200, 8576, 112])\n"
     ]
    },
    {
     "name": "stderr",
     "output_type": "stream",
     "text": [
      "\r",
      " 69%|██████▉   | 31/45 [25:41<11:28, 49.20s/it]"
     ]
    },
    {
     "name": "stdout",
     "output_type": "stream",
     "text": [
      "test\n",
      "torch.Size([200, 8576, 112])\n"
     ]
    },
    {
     "name": "stderr",
     "output_type": "stream",
     "text": [
      "\r",
      " 71%|███████   | 32/45 [26:33<10:51, 50.09s/it]"
     ]
    },
    {
     "name": "stdout",
     "output_type": "stream",
     "text": [
      "test\n",
      "torch.Size([200, 8576, 112])\n"
     ]
    },
    {
     "name": "stderr",
     "output_type": "stream",
     "text": [
      "\r",
      " 73%|███████▎  | 33/45 [27:22<09:56, 49.67s/it]"
     ]
    },
    {
     "name": "stdout",
     "output_type": "stream",
     "text": [
      "test\n",
      "torch.Size([200, 8576, 112])\n"
     ]
    },
    {
     "name": "stderr",
     "output_type": "stream",
     "text": [
      "\r",
      " 76%|███████▌  | 34/45 [28:12<09:07, 49.76s/it]"
     ]
    },
    {
     "name": "stdout",
     "output_type": "stream",
     "text": [
      "test\n",
      "torch.Size([200, 8576, 112])\n"
     ]
    },
    {
     "name": "stderr",
     "output_type": "stream",
     "text": [
      "\r",
      " 78%|███████▊  | 35/45 [29:01<08:15, 49.55s/it]"
     ]
    },
    {
     "name": "stdout",
     "output_type": "stream",
     "text": [
      "test\n",
      "torch.Size([200, 8576, 112])\n"
     ]
    },
    {
     "name": "stderr",
     "output_type": "stream",
     "text": [
      "\r",
      " 80%|████████  | 36/45 [29:50<07:23, 49.26s/it]"
     ]
    },
    {
     "name": "stdout",
     "output_type": "stream",
     "text": [
      "test\n",
      "torch.Size([200, 8576, 112])\n"
     ]
    },
    {
     "name": "stderr",
     "output_type": "stream",
     "text": [
      "\r",
      " 82%|████████▏ | 37/45 [30:43<06:42, 50.32s/it]"
     ]
    },
    {
     "name": "stdout",
     "output_type": "stream",
     "text": [
      "test\n",
      "torch.Size([200, 8576, 112])\n"
     ]
    },
    {
     "name": "stderr",
     "output_type": "stream",
     "text": [
      "\r",
      " 84%|████████▍ | 38/45 [31:33<05:53, 50.46s/it]"
     ]
    },
    {
     "name": "stdout",
     "output_type": "stream",
     "text": [
      "test\n",
      "torch.Size([200, 8576, 112])\n"
     ]
    },
    {
     "name": "stderr",
     "output_type": "stream",
     "text": [
      "\r",
      " 87%|████████▋ | 39/45 [32:23<05:01, 50.17s/it]"
     ]
    },
    {
     "name": "stdout",
     "output_type": "stream",
     "text": [
      "test\n",
      "torch.Size([200, 8576, 112])\n"
     ]
    },
    {
     "name": "stderr",
     "output_type": "stream",
     "text": [
      "\r",
      " 89%|████████▉ | 40/45 [33:16<04:15, 51.07s/it]"
     ]
    },
    {
     "name": "stdout",
     "output_type": "stream",
     "text": [
      "test\n",
      "torch.Size([200, 8576, 112])\n"
     ]
    },
    {
     "name": "stderr",
     "output_type": "stream",
     "text": [
      "\r",
      " 91%|█████████ | 41/45 [34:07<03:23, 50.93s/it]"
     ]
    },
    {
     "name": "stdout",
     "output_type": "stream",
     "text": [
      "test\n",
      "torch.Size([200, 8576, 112])\n"
     ]
    },
    {
     "name": "stderr",
     "output_type": "stream",
     "text": [
      "\r",
      " 93%|█████████▎| 42/45 [34:56<02:31, 50.52s/it]"
     ]
    },
    {
     "name": "stdout",
     "output_type": "stream",
     "text": [
      "test\n",
      "torch.Size([200, 8576, 112])\n"
     ]
    },
    {
     "name": "stderr",
     "output_type": "stream",
     "text": [
      "\r",
      " 96%|█████████▌| 43/45 [35:48<01:41, 50.96s/it]"
     ]
    },
    {
     "name": "stdout",
     "output_type": "stream",
     "text": [
      "test\n",
      "torch.Size([200, 8576, 112])\n"
     ]
    },
    {
     "name": "stderr",
     "output_type": "stream",
     "text": [
      "\r",
      " 98%|█████████▊| 44/45 [36:38<00:50, 50.64s/it]"
     ]
    },
    {
     "name": "stdout",
     "output_type": "stream",
     "text": [
      "test\n",
      "torch.Size([200, 8576, 112])\n"
     ]
    },
    {
     "name": "stderr",
     "output_type": "stream",
     "text": [
      "100%|██████████| 45/45 [37:27<00:00, 49.95s/it]\n"
     ]
    },
    {
     "name": "stdout",
     "output_type": "stream",
     "text": [
      "test\n",
      "Epoch [5/1000], Loss: 7655.1746\n"
     ]
    },
    {
     "name": "stderr",
     "output_type": "stream",
     "text": [
      "\r",
      "  0%|          | 0/45 [00:00<?, ?it/s]"
     ]
    },
    {
     "name": "stdout",
     "output_type": "stream",
     "text": [
      "torch.Size([200, 8576, 112])\n"
     ]
    },
    {
     "name": "stderr",
     "output_type": "stream",
     "text": [
      "\r",
      "  2%|▏         | 1/45 [00:51<37:59, 51.81s/it]"
     ]
    },
    {
     "name": "stdout",
     "output_type": "stream",
     "text": [
      "test\n",
      "torch.Size([200, 8576, 112])\n"
     ]
    },
    {
     "name": "stderr",
     "output_type": "stream",
     "text": [
      "\r",
      "  4%|▍         | 2/45 [01:43<37:05, 51.75s/it]"
     ]
    },
    {
     "name": "stdout",
     "output_type": "stream",
     "text": [
      "test\n",
      "torch.Size([200, 8576, 112])\n"
     ]
    },
    {
     "name": "stderr",
     "output_type": "stream",
     "text": [
      "\r",
      "  7%|▋         | 3/45 [02:35<36:11, 51.70s/it]"
     ]
    },
    {
     "name": "stdout",
     "output_type": "stream",
     "text": [
      "test\n",
      "torch.Size([200, 8576, 112])\n"
     ]
    },
    {
     "name": "stderr",
     "output_type": "stream",
     "text": [
      "\r",
      "  9%|▉         | 4/45 [03:26<35:11, 51.50s/it]"
     ]
    },
    {
     "name": "stdout",
     "output_type": "stream",
     "text": [
      "test\n",
      "torch.Size([200, 8576, 112])\n"
     ]
    },
    {
     "name": "stderr",
     "output_type": "stream",
     "text": [
      "\r",
      " 11%|█         | 5/45 [04:19<34:37, 51.94s/it]"
     ]
    },
    {
     "name": "stdout",
     "output_type": "stream",
     "text": [
      "test\n",
      "torch.Size([200, 8576, 112])\n"
     ]
    },
    {
     "name": "stderr",
     "output_type": "stream",
     "text": [
      "\r",
      " 13%|█▎        | 6/45 [05:08<33:12, 51.10s/it]"
     ]
    },
    {
     "name": "stdout",
     "output_type": "stream",
     "text": [
      "test\n",
      "torch.Size([200, 8576, 112])\n"
     ]
    },
    {
     "name": "stderr",
     "output_type": "stream",
     "text": [
      "\r",
      " 16%|█▌        | 7/45 [05:53<31:04, 49.06s/it]"
     ]
    },
    {
     "name": "stdout",
     "output_type": "stream",
     "text": [
      "test\n",
      "torch.Size([200, 8576, 112])\n"
     ]
    },
    {
     "name": "stderr",
     "output_type": "stream",
     "text": [
      "\r",
      " 18%|█▊        | 8/45 [06:42<30:20, 49.21s/it]"
     ]
    },
    {
     "name": "stdout",
     "output_type": "stream",
     "text": [
      "test\n",
      "torch.Size([200, 8576, 112])\n"
     ]
    },
    {
     "name": "stderr",
     "output_type": "stream",
     "text": [
      "\r",
      " 20%|██        | 9/45 [07:33<29:42, 49.50s/it]"
     ]
    },
    {
     "name": "stdout",
     "output_type": "stream",
     "text": [
      "test\n",
      "torch.Size([200, 8576, 112])\n"
     ]
    },
    {
     "name": "stderr",
     "output_type": "stream",
     "text": [
      "\r",
      " 22%|██▏       | 10/45 [08:22<28:51, 49.47s/it]"
     ]
    },
    {
     "name": "stdout",
     "output_type": "stream",
     "text": [
      "test\n",
      "torch.Size([200, 8576, 112])\n"
     ]
    },
    {
     "name": "stderr",
     "output_type": "stream",
     "text": [
      "\r",
      " 24%|██▍       | 11/45 [09:11<27:56, 49.30s/it]"
     ]
    },
    {
     "name": "stdout",
     "output_type": "stream",
     "text": [
      "test\n",
      "torch.Size([200, 8576, 112])\n"
     ]
    },
    {
     "name": "stderr",
     "output_type": "stream",
     "text": [
      "\r",
      " 27%|██▋       | 12/45 [10:03<27:34, 50.14s/it]"
     ]
    },
    {
     "name": "stdout",
     "output_type": "stream",
     "text": [
      "test\n",
      "torch.Size([200, 8576, 112])\n"
     ]
    },
    {
     "name": "stderr",
     "output_type": "stream",
     "text": [
      "\r",
      " 29%|██▉       | 13/45 [10:51<26:27, 49.60s/it]"
     ]
    },
    {
     "name": "stdout",
     "output_type": "stream",
     "text": [
      "test\n",
      "torch.Size([200, 8576, 112])\n"
     ]
    },
    {
     "name": "stderr",
     "output_type": "stream",
     "text": [
      "\r",
      " 31%|███       | 14/45 [11:42<25:50, 50.02s/it]"
     ]
    },
    {
     "name": "stdout",
     "output_type": "stream",
     "text": [
      "test\n",
      "torch.Size([200, 8576, 112])\n"
     ]
    },
    {
     "name": "stderr",
     "output_type": "stream",
     "text": [
      "\r",
      " 33%|███▎      | 15/45 [12:33<25:03, 50.11s/it]"
     ]
    },
    {
     "name": "stdout",
     "output_type": "stream",
     "text": [
      "test\n",
      "torch.Size([200, 8576, 112])\n"
     ]
    },
    {
     "name": "stderr",
     "output_type": "stream",
     "text": [
      "\r",
      " 36%|███▌      | 16/45 [13:23<24:18, 50.29s/it]"
     ]
    },
    {
     "name": "stdout",
     "output_type": "stream",
     "text": [
      "test\n",
      "torch.Size([200, 8576, 112])\n"
     ]
    },
    {
     "name": "stderr",
     "output_type": "stream",
     "text": [
      "\r",
      " 38%|███▊      | 17/45 [14:11<23:07, 49.56s/it]"
     ]
    },
    {
     "name": "stdout",
     "output_type": "stream",
     "text": [
      "test\n",
      "torch.Size([200, 8576, 112])\n"
     ]
    },
    {
     "name": "stderr",
     "output_type": "stream",
     "text": [
      "\r",
      " 40%|████      | 18/45 [15:00<22:08, 49.21s/it]"
     ]
    },
    {
     "name": "stdout",
     "output_type": "stream",
     "text": [
      "test\n",
      "torch.Size([200, 8576, 112])\n"
     ]
    },
    {
     "name": "stderr",
     "output_type": "stream",
     "text": [
      "\r",
      " 42%|████▏     | 19/45 [15:48<21:16, 49.08s/it]"
     ]
    },
    {
     "name": "stdout",
     "output_type": "stream",
     "text": [
      "test\n",
      "torch.Size([200, 8576, 112])\n"
     ]
    },
    {
     "name": "stderr",
     "output_type": "stream",
     "text": [
      "\r",
      " 44%|████▍     | 20/45 [16:38<20:29, 49.19s/it]"
     ]
    },
    {
     "name": "stdout",
     "output_type": "stream",
     "text": [
      "test\n",
      "torch.Size([200, 8576, 112])\n"
     ]
    },
    {
     "name": "stderr",
     "output_type": "stream",
     "text": [
      "\r",
      " 47%|████▋     | 21/45 [17:29<19:56, 49.86s/it]"
     ]
    },
    {
     "name": "stdout",
     "output_type": "stream",
     "text": [
      "test\n",
      "torch.Size([200, 8576, 112])\n"
     ]
    },
    {
     "name": "stderr",
     "output_type": "stream",
     "text": [
      "\r",
      " 49%|████▉     | 22/45 [18:19<19:08, 49.93s/it]"
     ]
    },
    {
     "name": "stdout",
     "output_type": "stream",
     "text": [
      "test\n",
      "torch.Size([200, 8576, 112])\n"
     ]
    },
    {
     "name": "stderr",
     "output_type": "stream",
     "text": [
      "\r",
      " 51%|█████     | 23/45 [19:11<18:31, 50.54s/it]"
     ]
    },
    {
     "name": "stdout",
     "output_type": "stream",
     "text": [
      "test\n",
      "torch.Size([200, 8576, 112])\n"
     ]
    },
    {
     "name": "stderr",
     "output_type": "stream",
     "text": [
      "\r",
      " 53%|█████▎    | 24/45 [20:02<17:42, 50.61s/it]"
     ]
    },
    {
     "name": "stdout",
     "output_type": "stream",
     "text": [
      "test\n",
      "torch.Size([200, 8576, 112])\n"
     ]
    },
    {
     "name": "stderr",
     "output_type": "stream",
     "text": [
      "\r",
      " 56%|█████▌    | 25/45 [20:52<16:47, 50.37s/it]"
     ]
    },
    {
     "name": "stdout",
     "output_type": "stream",
     "text": [
      "test\n",
      "torch.Size([200, 8576, 112])\n"
     ]
    },
    {
     "name": "stderr",
     "output_type": "stream",
     "text": [
      "\r",
      " 58%|█████▊    | 26/45 [21:43<16:03, 50.69s/it]"
     ]
    },
    {
     "name": "stdout",
     "output_type": "stream",
     "text": [
      "test\n",
      "torch.Size([200, 8576, 112])\n"
     ]
    },
    {
     "name": "stderr",
     "output_type": "stream",
     "text": [
      "\r",
      " 60%|██████    | 27/45 [22:31<14:56, 49.83s/it]"
     ]
    },
    {
     "name": "stdout",
     "output_type": "stream",
     "text": [
      "test\n",
      "torch.Size([200, 8576, 112])\n"
     ]
    },
    {
     "name": "stderr",
     "output_type": "stream",
     "text": [
      "\r",
      " 62%|██████▏   | 28/45 [23:22<14:11, 50.12s/it]"
     ]
    },
    {
     "name": "stdout",
     "output_type": "stream",
     "text": [
      "test\n",
      "torch.Size([200, 8576, 112])\n"
     ]
    },
    {
     "name": "stderr",
     "output_type": "stream",
     "text": [
      "\r",
      " 64%|██████▍   | 29/45 [24:09<13:07, 49.24s/it]"
     ]
    },
    {
     "name": "stdout",
     "output_type": "stream",
     "text": [
      "test\n",
      "torch.Size([200, 8576, 112])\n"
     ]
    },
    {
     "name": "stderr",
     "output_type": "stream",
     "text": [
      "\r",
      " 67%|██████▋   | 30/45 [24:54<11:59, 47.94s/it]"
     ]
    },
    {
     "name": "stdout",
     "output_type": "stream",
     "text": [
      "test\n",
      "torch.Size([200, 8576, 112])\n"
     ]
    },
    {
     "name": "stderr",
     "output_type": "stream",
     "text": [
      "\r",
      " 69%|██████▉   | 31/45 [25:43<11:15, 48.27s/it]"
     ]
    },
    {
     "name": "stdout",
     "output_type": "stream",
     "text": [
      "test\n",
      "torch.Size([200, 8576, 112])\n"
     ]
    },
    {
     "name": "stderr",
     "output_type": "stream",
     "text": [
      "\r",
      " 71%|███████   | 32/45 [26:34<10:37, 49.05s/it]"
     ]
    },
    {
     "name": "stdout",
     "output_type": "stream",
     "text": [
      "test\n",
      "torch.Size([200, 8576, 112])\n"
     ]
    },
    {
     "name": "stderr",
     "output_type": "stream",
     "text": [
      "\r",
      " 73%|███████▎  | 33/45 [27:24<09:53, 49.42s/it]"
     ]
    },
    {
     "name": "stdout",
     "output_type": "stream",
     "text": [
      "test\n",
      "torch.Size([200, 8576, 112])\n"
     ]
    },
    {
     "name": "stderr",
     "output_type": "stream",
     "text": [
      "\r",
      " 76%|███████▌  | 34/45 [28:15<09:08, 49.84s/it]"
     ]
    },
    {
     "name": "stdout",
     "output_type": "stream",
     "text": [
      "test\n",
      "torch.Size([200, 8576, 112])\n"
     ]
    },
    {
     "name": "stderr",
     "output_type": "stream",
     "text": [
      "\r",
      " 78%|███████▊  | 35/45 [29:05<08:20, 50.03s/it]"
     ]
    },
    {
     "name": "stdout",
     "output_type": "stream",
     "text": [
      "test\n",
      "torch.Size([200, 8576, 112])\n"
     ]
    },
    {
     "name": "stderr",
     "output_type": "stream",
     "text": [
      "\r",
      " 80%|████████  | 36/45 [29:57<07:33, 50.34s/it]"
     ]
    },
    {
     "name": "stdout",
     "output_type": "stream",
     "text": [
      "test\n",
      "torch.Size([200, 8576, 112])\n"
     ]
    },
    {
     "name": "stderr",
     "output_type": "stream",
     "text": [
      "\r",
      " 82%|████████▏ | 37/45 [30:45<06:38, 49.84s/it]"
     ]
    },
    {
     "name": "stdout",
     "output_type": "stream",
     "text": [
      "test\n",
      "torch.Size([200, 8576, 112])\n"
     ]
    },
    {
     "name": "stderr",
     "output_type": "stream",
     "text": [
      "\r",
      " 84%|████████▍ | 38/45 [31:35<05:48, 49.85s/it]"
     ]
    },
    {
     "name": "stdout",
     "output_type": "stream",
     "text": [
      "test\n",
      "torch.Size([200, 8576, 112])\n"
     ]
    },
    {
     "name": "stderr",
     "output_type": "stream",
     "text": [
      "\r",
      " 87%|████████▋ | 39/45 [32:27<05:03, 50.58s/it]"
     ]
    },
    {
     "name": "stdout",
     "output_type": "stream",
     "text": [
      "test\n",
      "torch.Size([200, 8576, 112])\n"
     ]
    },
    {
     "name": "stderr",
     "output_type": "stream",
     "text": [
      "\r",
      " 89%|████████▉ | 40/45 [33:19<04:14, 50.97s/it]"
     ]
    },
    {
     "name": "stdout",
     "output_type": "stream",
     "text": [
      "test\n",
      "torch.Size([200, 8576, 112])\n"
     ]
    },
    {
     "name": "stderr",
     "output_type": "stream",
     "text": [
      "\r",
      " 91%|█████████ | 41/45 [34:09<03:21, 50.47s/it]"
     ]
    },
    {
     "name": "stdout",
     "output_type": "stream",
     "text": [
      "test\n",
      "torch.Size([200, 8576, 112])\n"
     ]
    },
    {
     "name": "stderr",
     "output_type": "stream",
     "text": [
      "\r",
      " 93%|█████████▎| 42/45 [34:58<02:30, 50.13s/it]"
     ]
    },
    {
     "name": "stdout",
     "output_type": "stream",
     "text": [
      "test\n",
      "torch.Size([200, 8576, 112])\n"
     ]
    },
    {
     "name": "stderr",
     "output_type": "stream",
     "text": [
      "\r",
      " 96%|█████████▌| 43/45 [35:49<01:40, 50.29s/it]"
     ]
    },
    {
     "name": "stdout",
     "output_type": "stream",
     "text": [
      "test\n",
      "torch.Size([200, 8576, 112])\n"
     ]
    },
    {
     "name": "stderr",
     "output_type": "stream",
     "text": [
      "\r",
      " 98%|█████████▊| 44/45 [36:38<00:50, 50.14s/it]"
     ]
    },
    {
     "name": "stdout",
     "output_type": "stream",
     "text": [
      "test\n",
      "torch.Size([200, 8576, 112])\n"
     ]
    },
    {
     "name": "stderr",
     "output_type": "stream",
     "text": [
      "100%|██████████| 45/45 [37:31<00:00, 50.03s/it]\n"
     ]
    },
    {
     "name": "stdout",
     "output_type": "stream",
     "text": [
      "test\n",
      "Epoch [6/1000], Loss: 9374.9829\n"
     ]
    },
    {
     "name": "stderr",
     "output_type": "stream",
     "text": [
      "\r",
      "  0%|          | 0/45 [00:00<?, ?it/s]"
     ]
    },
    {
     "name": "stdout",
     "output_type": "stream",
     "text": [
      "torch.Size([200, 8576, 112])\n"
     ]
    },
    {
     "name": "stderr",
     "output_type": "stream",
     "text": [
      "\r",
      "  2%|▏         | 1/45 [00:52<38:16, 52.19s/it]"
     ]
    },
    {
     "name": "stdout",
     "output_type": "stream",
     "text": [
      "test\n",
      "torch.Size([200, 8576, 112])\n"
     ]
    },
    {
     "name": "stderr",
     "output_type": "stream",
     "text": [
      "\r",
      "  4%|▍         | 2/45 [01:46<38:06, 53.18s/it]"
     ]
    },
    {
     "name": "stdout",
     "output_type": "stream",
     "text": [
      "test\n",
      "torch.Size([200, 8576, 112])\n"
     ]
    },
    {
     "name": "stderr",
     "output_type": "stream",
     "text": [
      "\r",
      "  7%|▋         | 3/45 [02:34<35:51, 51.23s/it]"
     ]
    },
    {
     "name": "stdout",
     "output_type": "stream",
     "text": [
      "test\n",
      "torch.Size([200, 8576, 112])\n"
     ]
    },
    {
     "name": "stderr",
     "output_type": "stream",
     "text": [
      "\r",
      "  9%|▉         | 4/45 [03:23<34:15, 50.14s/it]"
     ]
    },
    {
     "name": "stdout",
     "output_type": "stream",
     "text": [
      "test\n",
      "torch.Size([200, 8576, 112])\n"
     ]
    },
    {
     "name": "stderr",
     "output_type": "stream",
     "text": [
      "\r",
      " 11%|█         | 5/45 [04:15<33:59, 50.99s/it]"
     ]
    },
    {
     "name": "stdout",
     "output_type": "stream",
     "text": [
      "test\n",
      "torch.Size([200, 8576, 112])\n"
     ]
    },
    {
     "name": "stderr",
     "output_type": "stream",
     "text": [
      "\r",
      " 13%|█▎        | 6/45 [05:05<32:44, 50.38s/it]"
     ]
    },
    {
     "name": "stdout",
     "output_type": "stream",
     "text": [
      "test\n",
      "torch.Size([200, 8576, 112])\n"
     ]
    },
    {
     "name": "stderr",
     "output_type": "stream",
     "text": [
      "\r",
      " 16%|█▌        | 7/45 [05:52<31:19, 49.46s/it]"
     ]
    },
    {
     "name": "stdout",
     "output_type": "stream",
     "text": [
      "test\n"
     ]
    }
   ],
   "source": [
    "## Define loss\n",
    "#loss_confidence = confLoss2\n",
    "\n",
    "## Define optimizer\n",
    "base_optimizer = torch.optim.Adam\n",
    "optimizer = SAM(model.parameters(), base_optimizer, lr=0.001)\n",
    "\n",
    "## put model on GPU\n",
    "model.to(device)\n",
    "\n",
    "## Train the model\n",
    "num_epochs = 1000\n",
    "for epoch in range(num_epochs):\n",
    "    for features, coef_conf, coef_disp, dom, _ in tqdm(loaderLearning):\n",
    "        \n",
    "        features = features.view(nbPerBatch*nbPerSequence, 112, 8576)\n",
    "        coef_conf = coef_conf.view(nbPerBatch*nbPerSequence, 112, nbcL)\n",
    "        coef_disp = coef_disp.view(nbPerBatch*nbPerSequence, 112, nbcL)\n",
    "        dom = dom.view(nbPerBatch*nbPerSequence, 112, nbcL)\n",
    "        \n",
    "        \n",
    "        features, coef_conf, coef_disp, dom  = features.to(device), coef_conf.to(device), coef_disp.to(device), dom.to(device)  #check si obligé de tout mettre\n",
    "\n",
    "        # Transpose for the way the NN is built\n",
    "        dom = dom.transpose(1,2)\n",
    "        coef_conf = coef_conf.transpose(1,2)\n",
    "        coef_disp = coef_disp.transpose(1,2)\n",
    "        \n",
    "        T = features.shape[1]\n",
    "        features = features.transpose(1, 2)\n",
    "        \n",
    "        print(features.shape)\n",
    "        # Forward pass\n",
    "        outputs = model(features)\n",
    "        \n",
    "        # Apply the loss\n",
    "        loss = confLoss2(outputs, coef_conf)\n",
    "        \n",
    "        wandb.log({\"epoch\": epoch, \"loss_confidence\": loss})\n",
    "        \n",
    "        \n",
    "        # Backward and optimize\n",
    "        \n",
    "        # first step\n",
    "        #optimizer.zero_grad()\n",
    "        loss.backward()\n",
    "        optimizer.first_step(zero_grad=True)\n",
    "        #optimizer.step(closure)\n",
    "        \n",
    "        # second step\n",
    "        \n",
    "        confLoss2(model(features), coef_conf).backward()\n",
    "        optimizer.second_step(zero_grad=True)\n",
    "\n",
    "        #val = val.to(\"cpu\")\n",
    "        #images = images.to(\"cpu\")\n",
    "        \n",
    "        print(\"test\")\n",
    "\n",
    "    # Print training loss after every epoch\n",
    "    print(f'Epoch [{epoch+1}/{num_epochs}], Loss: {loss.item():.4f}')\n",
    "    \n",
    "    if((epoch+1)%10 == 0):\n",
    "        #torch.save(model.state_dict(), \"confidence_head_test0.pt\")"
   ]
  },
  {
   "cell_type": "markdown",
   "metadata": {},
   "source": [
    "### Displacement"
   ]
  },
  {
   "cell_type": "code",
   "execution_count": null,
   "metadata": {},
   "outputs": [],
   "source": []
  },
  {
   "cell_type": "code",
   "execution_count": 30,
   "metadata": {},
   "outputs": [],
   "source": [
    "#torch.save(model.state_dict(), \"confidence_head_test1.pt\")"
   ]
  },
  {
   "cell_type": "code",
   "execution_count": 19,
   "metadata": {},
   "outputs": [
    {
     "name": "stderr",
     "output_type": "stream",
     "text": [
      "Failed to detect the name of this notebook, you can set it manually with the WANDB_NOTEBOOK_NAME environment variable to enable code saving.\n",
      "\u001b[34m\u001b[1mwandb\u001b[0m: Currently logged in as: \u001b[33mjepi1202\u001b[0m (\u001b[33muliege_action_spotting_2022_2023_context\u001b[0m). Use \u001b[1m`wandb login --relogin`\u001b[0m to force relogin\n"
     ]
    },
    {
     "data": {
      "text/html": [
       "Tracking run with wandb version 0.14.2"
      ],
      "text/plain": [
       "<IPython.core.display.HTML object>"
      ]
     },
     "metadata": {},
     "output_type": "display_data"
    },
    {
     "data": {
      "text/html": [
       "Run data is saved locally in <code>/home/mdelabrassinne/DSproject/yahoo/Reproducing/wandb/run-20230412_160631-60fmpu7v</code>"
      ],
      "text/plain": [
       "<IPython.core.display.HTML object>"
      ]
     },
     "metadata": {},
     "output_type": "display_data"
    },
    {
     "data": {
      "text/html": [
       "Syncing run <strong><a href='https://wandb.ai/uliege_action_spotting_2022_2023_context/test_1/runs/60fmpu7v' target=\"_blank\">test_v1_disp</a></strong> to <a href='https://wandb.ai/uliege_action_spotting_2022_2023_context/test_1' target=\"_blank\">Weights & Biases</a> (<a href='https://wandb.me/run' target=\"_blank\">docs</a>)<br/>"
      ],
      "text/plain": [
       "<IPython.core.display.HTML object>"
      ]
     },
     "metadata": {},
     "output_type": "display_data"
    },
    {
     "data": {
      "text/html": [
       " View project at <a href='https://wandb.ai/uliege_action_spotting_2022_2023_context/test_1' target=\"_blank\">https://wandb.ai/uliege_action_spotting_2022_2023_context/test_1</a>"
      ],
      "text/plain": [
       "<IPython.core.display.HTML object>"
      ]
     },
     "metadata": {},
     "output_type": "display_data"
    },
    {
     "data": {
      "text/html": [
       " View run at <a href='https://wandb.ai/uliege_action_spotting_2022_2023_context/test_1/runs/60fmpu7v' target=\"_blank\">https://wandb.ai/uliege_action_spotting_2022_2023_context/test_1/runs/60fmpu7v</a>"
      ],
      "text/plain": [
       "<IPython.core.display.HTML object>"
      ]
     },
     "metadata": {},
     "output_type": "display_data"
    },
    {
     "data": {
      "text/plain": [
       "[]"
      ]
     },
     "execution_count": 19,
     "metadata": {},
     "output_type": "execute_result"
    }
   ],
   "source": [
    "model = TemporalHead(N_FEATURE_EXTRACTED)\n",
    "device = 'cuda'\n",
    "\n",
    "wandb.init(project = 'test_1', entity = \"uliege_action_spotting_2022_2023_context\", name = \"test_v1_disp\")\n",
    "wandb.watch(model, dispLoss2, log=\"all\", log_freq=10)\n",
    "#torch.onnx.export(model, images, \"model_confidence.onnx\")\n",
    "#wandb.save(\"model_confidence.onnx\")"
   ]
  },
  {
   "cell_type": "code",
   "execution_count": null,
   "metadata": {},
   "outputs": [
    {
     "name": "stderr",
     "output_type": "stream",
     "text": [
      "  0%|          | 0/45 [00:00<?, ?it/s]/home/mdelabrassinne/anaconda3/envs/envDeepLearning/lib/python3.9/site-packages/torch/nn/modules/conv.py:309: UserWarning: Using padding='same' with even kernel lengths and odd dilation may require a zero-padded copy of the input be created (Triggered internally at /opt/conda/conda-bld/pytorch_1670525551200/work/aten/src/ATen/native/Convolution.cpp:895.)\n",
      "  return F.conv1d(input, weight, bias, self.stride,\n",
      "100%|██████████| 45/45 [36:30<00:00, 48.68s/it]\n"
     ]
    },
    {
     "name": "stdout",
     "output_type": "stream",
     "text": [
      "Epoch [1/1000], Loss: 4827.4772\n"
     ]
    },
    {
     "name": "stderr",
     "output_type": "stream",
     "text": [
      "100%|██████████| 45/45 [36:38<00:00, 48.86s/it]\n"
     ]
    },
    {
     "name": "stdout",
     "output_type": "stream",
     "text": [
      "Epoch [2/1000], Loss: 4710.2542\n"
     ]
    },
    {
     "name": "stderr",
     "output_type": "stream",
     "text": [
      "100%|██████████| 45/45 [36:15<00:00, 48.35s/it]\n"
     ]
    },
    {
     "name": "stdout",
     "output_type": "stream",
     "text": [
      "Epoch [3/1000], Loss: 4174.1290\n"
     ]
    },
    {
     "name": "stderr",
     "output_type": "stream",
     "text": [
      "100%|██████████| 45/45 [37:27<00:00, 49.94s/it]\n"
     ]
    },
    {
     "name": "stdout",
     "output_type": "stream",
     "text": [
      "Epoch [4/1000], Loss: 4470.4191\n"
     ]
    },
    {
     "name": "stderr",
     "output_type": "stream",
     "text": [
      " 33%|███▎      | 15/45 [12:13<24:19, 48.64s/it]"
     ]
    }
   ],
   "source": [
    "\n",
    "## Define loss\n",
    "#loss_confidence = confLoss2\n",
    "\n",
    "## Define optimizer\n",
    "base_optimizer = torch.optim.Adam\n",
    "optimizer = SAM(model.parameters(), base_optimizer, lr=0.001)\n",
    "\n",
    "## put model on GPU\n",
    "model.to(device)\n",
    "\n",
    "## Train the model\n",
    "num_epochs = 1000\n",
    "for epoch in range(num_epochs):\n",
    "    for features, coef_conf, coef_disp, dom, _ in tqdm(loaderLearning):\n",
    "        features, coef_conf, coef_disp, dom  = features.to(device), coef_conf.to(device), coef_disp.to(device), dom.to(device)  #check si obligé de tout mettre\n",
    "        \n",
    "        features = features.view(nbPerBatch*nbPerSequence, 112, 8576)\n",
    "        coef_conf = coef_conf.view(nbPerBatch*nbPerSequence, 112, nbcL)\n",
    "        coef_disp = coef_disp.view(nbPerBatch*nbPerSequence, 112, nbcL)\n",
    "        dom = dom.view(nbPerBatch*nbPerSequence, 112, nbcL)\n",
    "        \n",
    "        # Transpose for the way the NN is built\n",
    "        dom = dom.transpose(1,2)\n",
    "        coef_conf = coef_conf.transpose(1,2)\n",
    "        coef_disp = coef_disp.transpose(1,2)\n",
    "        \n",
    "        T = features.shape[1]\n",
    "        features = features.transpose(1, 2)\n",
    "        \n",
    "        \n",
    "        # Forward pass\n",
    "        outputs = model(features)\n",
    "        \n",
    "        # Compute the loss\n",
    "        loss = dispLoss2(outputs, coef_disp, dom)\n",
    "        \n",
    "        wandb.log({\"epoch\": epoch, \"loss_disp\": loss})\n",
    "        \n",
    "        \n",
    "        # Backward and optimize\n",
    "        \n",
    "        \n",
    "         # first step\n",
    "        #optimizer.zero_grad()\n",
    "        loss.backward()\n",
    "        optimizer.first_step(zero_grad=True)\n",
    "        #optimizer.step(closure)\n",
    "        \n",
    "        # second step\n",
    "        \n",
    "        dispLoss2(model(features), coef_disp, dom).backward()\n",
    "        optimizer.second_step(zero_grad=True)\n",
    "\n",
    "    # Print training loss after every epoch\n",
    "    print(f'Epoch [{epoch+1}/{num_epochs}], Loss: {loss.item():.4f}')\n",
    "    \n",
    "    if((epoch+1)%5 == 0):\n",
    "        torch.save(model.state_dict(), \"disp_head_test0.pt\")\n",
    "        \n",
    "\n",
    "torch.save(model.state_dict(), \"disp_head_test0_last.pt\")"
   ]
  },
  {
   "cell_type": "code",
   "execution_count": 27,
   "metadata": {},
   "outputs": [],
   "source": [
    "torch.save(model.state_dict(), \"disp_head_test0.pt\")"
   ]
  },
  {
   "cell_type": "markdown",
   "metadata": {},
   "source": [
    "### Training"
   ]
  },
  {
   "cell_type": "code",
   "execution_count": 60,
   "metadata": {},
   "outputs": [
    {
     "ename": "NameError",
     "evalue": "name 'loaderValidation' is not defined",
     "output_type": "error",
     "traceback": [
      "\u001b[0;31m---------------------------------------------------------------------------\u001b[0m",
      "\u001b[0;31mNameError\u001b[0m                                 Traceback (most recent call last)",
      "Cell \u001b[0;32mIn[60], line 6\u001b[0m\n\u001b[1;32m      1\u001b[0m config \u001b[38;5;241m=\u001b[39m \u001b[38;5;28mdict\u001b[39m(\n\u001b[1;32m      2\u001b[0m     epochs\u001b[38;5;241m=\u001b[39m\u001b[38;5;241m30\u001b[39m,\n\u001b[1;32m      3\u001b[0m     classes\u001b[38;5;241m=\u001b[39m\u001b[38;5;241m17\u001b[39m,\n\u001b[1;32m      4\u001b[0m     learning_rate\u001b[38;5;241m=\u001b[39m\u001b[38;5;241m0.0001\u001b[39m,\n\u001b[1;32m      5\u001b[0m     loaderLearning \u001b[38;5;241m=\u001b[39m loaderLearning,\n\u001b[0;32m----> 6\u001b[0m     loaderValidation \u001b[38;5;241m=\u001b[39m \u001b[43mloaderValidation\u001b[49m,\n\u001b[1;32m      7\u001b[0m     loaderTest \u001b[38;5;241m=\u001b[39m loaderTest)\n",
      "\u001b[0;31mNameError\u001b[0m: name 'loaderValidation' is not defined"
     ]
    }
   ],
   "source": [
    "config = dict(\n",
    "    epochs=30,\n",
    "    classes=17,\n",
    "    learning_rate=0.0001,\n",
    "    loaderLearning = loaderLearning,\n",
    "    loaderValidation = loaderValidation,\n",
    "    loaderTest = loaderTest)"
   ]
  },
  {
   "cell_type": "code",
   "execution_count": null,
   "metadata": {},
   "outputs": [],
   "source": [
    "def make():\n",
    "    # Make the model\n",
    "    mod = model.to(device)                                     #model variable globale\n",
    "\n",
    "    # Make the loss and optimizer\n",
    "    criterion = nn.CrossEntropyLoss()\n",
    "    optimizer = torch.optim.Adam(model.parameters(), lr=learning_rate)\n",
    "    scheduler = torch.optim.lr_scheduler.ReduceLROnPlateau(optimizer, threshold  = .01, threshold_mode = \"abs\", mode='max', factor=0.2, patience=5)\n",
    "    \n",
    "    return criterion, optimizer, scheduler"
   ]
  },
  {
   "cell_type": "code",
   "execution_count": null,
   "metadata": {},
   "outputs": [],
   "source": [
    "def train_log(loss_conf, loss_disp, example_ct, epoch):\n",
    "    # Where the magic happens\n",
    "    wandb.log({\"epoch\": epoch, \"loss_confidence\": loss_conf}, step=example_ct)\n",
    "    wandb.log({\"epoch\": epoch, \"loss_disp\": loss_disp}, step=example_ct)\n",
    "    print(f\"Loss after {str(example_ct).zfill(5)} examples: {loss:.3f}\")"
   ]
  },
  {
   "cell_type": "code",
   "execution_count": null,
   "metadata": {},
   "outputs": [],
   "source": [
    "def test():\n",
    "    model.eval()\n",
    "\n",
    "    # Run the model on some test examples\n",
    "    with torch.no_grad():\n",
    "        correct, total = 0, 0\n",
    "        correct_class = [0 for i in range(n_classes)]\n",
    "        total_class = [0 for i in range(n_classes)]\n",
    "        for features, coef_conf, coef_disp, dom, _ in loaderValidation:\n",
    "           \n",
    "            features, coef_conf, coef_disp, dom  = features.to(device), coef_conf.to(device), coef_disp.to(device), dom.to(device)  #check si obligé de tout mettre\n",
    "        \n",
    "            outputs = model(features)\n",
    "            _, predicted = torch.max(outputs.data, 1)      # marche peut-être pas ...\n",
    "            \n",
    "            # COMPUTE THE PREDICTIONS FOR A MEASURE OF THE ACCURACY\n",
    "            total += labels.size(0)\n",
    "            correct += (predicted == labels).sum().item()\n",
    "            \n",
    "            # Compute accuracy per class\n",
    "            for i in range(len(labels)):\n",
    "                label = labels[i]\n",
    "                pred = predicted[i]\n",
    "                total_class[label] += 1\n",
    "                if label == pred:\n",
    "                    correct_class[label] += 1\n",
    "            torch.cuda.empty_cache()\n",
    "\n",
    "        \n",
    "        test_acc = 0.\n",
    "        for i in range(n_classes):\n",
    "            test_acc += correct_class[i] / total_class[i]\n",
    "            wandb.log({f\"Accuracy of {c[i]}\": correct_class[i] / total_class[i]})\n",
    "        test_acc /= n_classes\n",
    "        \n",
    "        print(f\"Accuracy of the model on the {total} \" +\n",
    "              f\"test images: {test_acc:%}\")\n",
    "        \n",
    "        wandb.log({\"test_accuracy\": test_acc})\n",
    "\n",
    "        \n",
    "        \n",
    "    # Save the model in the exchangeable ONNX format\n",
    "    torch.onnx.export(model, images, \"model.onnx\")\n",
    "    wandb.save(\"model.onnx\")\n",
    "    return correct / total"
   ]
  },
  {
   "cell_type": "code",
   "execution_count": null,
   "metadata": {},
   "outputs": [],
   "source": [
    "def train(criterion, optimizer, scheduler, test_set = True):\n",
    "    # Tell wandb to watch what the model gets up to: gradients, weights, and more!\n",
    "    wandb.watch(model, criterion, log=\"all\", log_freq=10)\n",
    "\n",
    "    # Run training and track with wandb\n",
    "    total_batches = len(loaderLearning) * epochs\n",
    "    example_ct = 0  # number of examples seen\n",
    "    batch_ct = 0\n",
    "        \n",
    "    for epoch in tqdm(range(epochs)):\n",
    "        for features, coef_conf, coef_disp, dom, _ in loaderLearning:\n",
    "            \n",
    "            #images = images.to(device)\n",
    "            \n",
    "            loss = train_batch(features, coef_conf, coef_disp, dom, model, optimizer, criterion)\n",
    "            #example_ct +=  len(images)\n",
    "            #batch_ct += 1\n",
    "\n",
    "            # Report metrics every 25th batch\n",
    "            if ((batch_ct + 1) % 25) == 0:\n",
    "                train_log(loss_conf, loss_disp, example_ct, epoch)\n",
    "                \n",
    "            torch.cuda.empty_cache()\n",
    "\n",
    "        if test_set:\n",
    "            acc = test()\n",
    "            scheduler.step(acc)\n",
    "            \n",
    "\n",
    "\n",
    "def train_batch(features, coef_conf, coef_disp, dom, model, optimizer, criterion):\n",
    "    \n",
    "    features, coef_conf, coef_disp, dom  = features.to(device), coef_conf.to(device), coef_disp.to(device), dom.to(device)  #check si obligé de tout mettre\n",
    "        \n",
    "    # Forward pass ➡\n",
    "    outputs = model(images)\n",
    "    loss = criterion(outputs, labels)\n",
    "    \n",
    "    # Backward pass ⬅\n",
    "    optimizer.zero_grad()\n",
    "    loss.backward()\n",
    "\n",
    "    # Step with optimizer\n",
    "    optimizer.step()\n",
    "\n",
    "    return loss"
   ]
  },
  {
   "cell_type": "code",
   "execution_count": null,
   "metadata": {},
   "outputs": [],
   "source": [
    "config = dict(\n",
    "    epochs=30,\n",
    "    classes=6,\n",
    "    learning_rate=0.0001,\n",
    "    loaderLearning = loaderLearning,\n",
    "    loaderValidation = loaderValidation,\n",
    "    loaderTest = loaderTest)"
   ]
  },
  {
   "cell_type": "code",
   "execution_count": null,
   "metadata": {},
   "outputs": [],
   "source": [
    "def model_pipeline(config=None, project_name=\"action_spotting_context\"):\n",
    "\n",
    "    # tell wandb to get started\n",
    "    with wandb.init(config=config):\n",
    "      # access all HPs through wandb.config, so logging matches execution!\n",
    "      config = wandb.config\n",
    "\n",
    "      # data, and optimization problem\n",
    "      criterion, optimizer, scheduler  = make()  \n",
    "      # and use them to train the model\n",
    "      train(criterion, optimizer, scheduler)\n",
    "\n",
    "    return model"
   ]
  },
  {
   "cell_type": "code",
   "execution_count": null,
   "metadata": {},
   "outputs": [],
   "source": [
    "sweep_config = {\n",
    "    \"name\": \"action_spotting\",\n",
    "    \"method\": \"random\",\n",
    "    \"metric\": {\"name\": \"test_accuracy\", \"goal\": \"maximize\"},\n",
    "    \"parameters\":\n",
    "    {\n",
    "        \"learning_rate\": {\"values\": [0.01]},\n",
    "        \"batch_size\": {\"values\": [100]},\n",
    "    }\n",
    "}\n",
    "# sweep_id = wandb.sweep(sweep_config, project=\"action_spotting\")\n",
    "\n",
    "wandb.login()"
   ]
  }
 ],
 "metadata": {
  "kernelspec": {
   "display_name": "Python [conda env:envDeepLearning]",
   "language": "python",
   "name": "conda-env-envDeepLearning-py"
  },
  "language_info": {
   "codemirror_mode": {
    "name": "ipython",
    "version": 3
   },
   "file_extension": ".py",
   "mimetype": "text/x-python",
   "name": "python",
   "nbconvert_exporter": "python",
   "pygments_lexer": "ipython3",
   "version": "3.9.16"
  }
 },
 "nbformat": 4,
 "nbformat_minor": 4
}
