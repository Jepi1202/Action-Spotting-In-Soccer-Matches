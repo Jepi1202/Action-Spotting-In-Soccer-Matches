{
 "cells": [
  {
   "cell_type": "markdown",
   "metadata": {},
   "source": [
    "# Measure time\n",
    "\n",
    "### Latence Video to frames"
   ]
  },
  {
   "cell_type": "code",
   "execution_count": 1,
   "metadata": {},
   "outputs": [],
   "source": [
    "import time\n",
    "from LatenceMeasure import videoToFramesTIME_1, videoToFramesTIME_2, videoToFramesTIME_3, videoToFramesTIME_4\n",
    "game = '/scratch/users/mdelabrassinne/Database/england_epl/2014-2015/2015-02-21_-_18-00_Chelsea_1_-_1_Burnley/1_224p.mkv'"
   ]
  },
  {
   "cell_type": "code",
   "execution_count": 2,
   "metadata": {},
   "outputs": [],
   "source": [
    "game1 ='/scratch/users/mdelabrassinne/Database/england_epl/2014-2015/2015-02-21_-_18-00_Chelsea_1_-_1_Burnley/2_224p.mkv'\n",
    "game2 ='/scratch/users/mdelabrassinne/Database/england_epl/2014-2015/2015-02-21_-_18-00_Chelsea_1_-_1_Burnley/1_224p.mkv'\n",
    "game3 ='/scratch/users/mdelabrassinne/Database/germany_bundesliga/2015-2016/2015-08-22_-_16-30_Hoffenheim_1_-_2_Bayern_Munich/1_224p.mkv'\n",
    "game4 ='/scratch/users/mdelabrassinne/Database/germany_bundesliga/2015-2016/2015-08-22_-_16-30_Hoffenheim_1_-_2_Bayern_Munich/2_224p.mkv'\n",
    "game5 ='/scratch/users/mdelabrassinne/Database/germany_bundesliga/2015-2016/2015-09-20_-_18-30_Dortmund_3_-_0_Bayer_Leverkusen/2_224p.mkv'"
   ]
  },
  {
   "cell_type": "code",
   "execution_count": 2,
   "metadata": {},
   "outputs": [
    {
     "name": "stdout",
     "output_type": "stream",
     "text": [
      "Folder Test_Frames removed.\n",
      "0:07:47.156199\n"
     ]
    }
   ],
   "source": [
    "# Test 1\n",
    "time = videoToFramesTIME_1(game)\n",
    "print(time)"
   ]
  },
  {
   "cell_type": "code",
   "execution_count": 3,
   "metadata": {},
   "outputs": [
    {
     "name": "stdout",
     "output_type": "stream",
     "text": [
      "Folder Test_Frames removed.\n",
      "0:08:08.130359\n",
      "Folder Test_Frames removed.\n",
      "0:08:01.833090\n",
      "Folder Test_Frames removed.\n",
      "0:07:46.231922\n",
      "Folder Test_Frames removed.\n",
      "0:08:07.273747\n",
      "Folder Test_Frames removed.\n",
      "0:08:43.983727\n"
     ]
    }
   ],
   "source": [
    "# Test on multiple videos\n",
    "time = videoToFramesTIME_1(game1)\n",
    "print(time)\n",
    "time = videoToFramesTIME_1(game2)\n",
    "print(time)\n",
    "time = videoToFramesTIME_1(game3)\n",
    "print(time)\n",
    "time = videoToFramesTIME_1(game4)\n",
    "print(time)\n",
    "time = videoToFramesTIME_1(game5)\n",
    "print(time)"
   ]
  },
  {
   "cell_type": "code",
   "execution_count": 12,
   "metadata": {},
   "outputs": [
    {
     "name": "stdout",
     "output_type": "stream",
     "text": [
      "489.0\n",
      "8 min 9.0 sec\n"
     ]
    }
   ],
   "source": [
    "t = (8+8*60+8*60+1+7*60+46+8*60+7+8*60+43)/5\n",
    "print(t)\n",
    "print(8,\"min\", t-8*60, \"sec\")"
   ]
  },
  {
   "cell_type": "code",
   "execution_count": 5,
   "metadata": {},
   "outputs": [
    {
     "name": "stdout",
     "output_type": "stream",
     "text": [
      "Frames extraction ended.\n",
      "Folder Test_Frames removed.\n",
      "0:08:54.839921\n"
     ]
    }
   ],
   "source": [
    "# Test 2\n",
    "time = videoToFramesTIME_2(game)\n",
    "print(time)"
   ]
  },
  {
   "cell_type": "code",
   "execution_count": 3,
   "metadata": {},
   "outputs": [
    {
     "name": "stdout",
     "output_type": "stream",
     "text": [
      "Frames extraction ended.\n",
      "Folder Test_Frames removed.\n",
      "0:08:35.139115\n",
      "Frames extraction ended.\n",
      "Folder Test_Frames removed.\n",
      "0:08:14.116510\n",
      "Frames extraction ended.\n",
      "Folder Test_Frames removed.\n",
      "0:08:28.707916\n",
      "Frames extraction ended.\n",
      "Folder Test_Frames removed.\n",
      "0:07:35.653772\n",
      "Frames extraction ended.\n",
      "Folder Test_Frames removed.\n",
      "0:11:22.685895\n"
     ]
    }
   ],
   "source": [
    "time = videoToFramesTIME_2(game1)\n",
    "print(time)\n",
    "time = videoToFramesTIME_2(game2)\n",
    "print(time)\n",
    "time = videoToFramesTIME_2(game3)\n",
    "print(time)\n",
    "time = videoToFramesTIME_2(game4)\n",
    "print(time)\n",
    "time = videoToFramesTIME_2(game5)\n",
    "print(time)"
   ]
  },
  {
   "cell_type": "code",
   "execution_count": 13,
   "metadata": {},
   "outputs": [
    {
     "name": "stdout",
     "output_type": "stream",
     "text": [
      "530.8\n",
      "8 min 50.799999999999955 sec\n"
     ]
    }
   ],
   "source": [
    "t = (8*60*3+7*60+11*60+35+14+28+35+22)/5\n",
    "print(t)\n",
    "print(8,\"min\", t-8*60, \"sec\")"
   ]
  },
  {
   "cell_type": "markdown",
   "metadata": {},
   "source": [
    "The first test uses the cv2 library while le second one uses the moviepy.editor. Both have been tested with the same video, a game of 45 min in real conditions. Comparing the two methods, we conclude that the first one seems faxter than the second."
   ]
  },
  {
   "cell_type": "code",
   "execution_count": 2,
   "metadata": {},
   "outputs": [
    {
     "name": "stdout",
     "output_type": "stream",
     "text": [
      "Frames extraction ended.\n",
      "Folder Test_Frames removed.\n",
      "0:01:15.803788\n"
     ]
    }
   ],
   "source": [
    "# Test 3\n",
    "time = videoToFramesTIME_3(game)\n",
    "print(time)"
   ]
  },
  {
   "cell_type": "markdown",
   "metadata": {},
   "source": [
    "A thirs library have been used to extract the frames bu this one is much more slower. For the first 500 frames, 1 min and 15 seconds are necessary while it was was around 6-7 seconds for the two other above.\n",
    "\n",
    "The library that we will consider for this action of extraction is the open-cv one. It is said that for a 45 min game video, Less than 8 min are necessary to extract all the frames."
   ]
  },
  {
   "cell_type": "code",
   "execution_count": 2,
   "metadata": {},
   "outputs": [
    {
     "name": "stdout",
     "output_type": "stream",
     "text": [
      "Folder Test_Frames removed.\n",
      "0:00:05.369473\n",
      "Frames extraction ended.\n",
      "Folder Test_Frames removed.\n",
      "0:00:05.605115\n"
     ]
    }
   ],
   "source": [
    "# sur 1000 frames\n",
    "time = videoToFramesTIME_1(game)\n",
    "print(time)\n",
    "\n",
    "time = videoToFramesTIME_2(game)\n",
    "print(time)"
   ]
  },
  {
   "cell_type": "code",
   "execution_count": 2,
   "metadata": {},
   "outputs": [
    {
     "name": "stdout",
     "output_type": "stream",
     "text": [
      "Frames extraction ended.\n",
      "Folder Test_Frames removed.\n",
      "0:00:44.379960\n"
     ]
    }
   ],
   "source": [
    "# Test 4 - sur 1500 frames\n",
    "time = videoToFramesTIME_4(game)\n",
    "print(time)"
   ]
  },
  {
   "cell_type": "markdown",
   "metadata": {},
   "source": [
    "Une dernière méthode a été utilisée et elle n'est absolument pas concluante lorsqu'on compère les temps avec les deux premières"
   ]
  },
  {
   "cell_type": "markdown",
   "metadata": {},
   "source": [
    "### Latence of the model\n",
    "\n",
    "Measure the latence between the send of a sequence of a game and the reception of the answer by the model."
   ]
  },
  {
   "cell_type": "code",
   "execution_count": 1,
   "metadata": {},
   "outputs": [],
   "source": [
    "import numpy as np\n",
    "from tqdm import tqdm\n",
    "import os\n",
    "import json\n",
    "from Network import Network\n",
    "\n",
    "import torch\n",
    "import numpy as np\n",
    "import torch.nn as nn\n",
    "import torch.nn.functional as F\n",
    "import matplotlib.pyplot as plt\n",
    "import torchvision\n",
    "import math\n",
    "import os\n",
    "import copy\n",
    "import time\n",
    "import sqlite3 as sql\n",
    "import cv2\n",
    "from tqdm import tqdm\n",
    "from FeaturesData import getPathFeatures, getFeatures, getFeaturesWindow\n",
    "#from LatenceMeasure import displayMeasureTime, measureTimeWindows"
   ]
  },
  {
   "cell_type": "code",
   "execution_count": 2,
   "metadata": {},
   "outputs": [],
   "source": [
    "# Select a footblall game in the database\n",
    "db_path = \"/scratch/users/mdelabrassinne/Database/SoccerDB.db\"\n",
    "#game = '/scratch/users/mdelabrassinne/Database/england_epl/2014-2015/2015-02-21_-_18-00_Chelsea_1_-_1_Burnley/1_224p.mkv'\n",
    "# A game in the test set"
   ]
  },
  {
   "cell_type": "code",
   "execution_count": 50,
   "metadata": {},
   "outputs": [],
   "source": [
    "import copy\n",
    "import json\n",
    "import os\n",
    "import numpy as np\n",
    "import torch\n",
    "import timeit\n",
    "from timeit import default_timer as timer\n",
    "from datetime import timedelta\n",
    "\n",
    "class Results:\n",
    "\n",
    "    def __init__(self, dir_model, features, window_size, classes, nms_window,fps=1):\n",
    "        self.dir_model = dir_model\n",
    "        self.features = features\n",
    "        self.window_size = window_size\n",
    "        self.nb_classes = len(classes)\n",
    "        self.classes = classes\n",
    "        self.nms_window = nms_window\n",
    "        self.fps = fps\n",
    "\n",
    "    def ResultsMeasureTime(self, disp_path, conf_path):\n",
    "        dir_results = \"/scratch/users/mdelabrassinne/Results_Test\"\n",
    "        \n",
    "        conf_mod_path = os.path.join(self.dir_model, conf_path)\n",
    "        disp_mod_path = os.path.join(self.dir_model, disp_path)\n",
    "        model = Network(conf_mod_path, disp_mod_path)\n",
    "        models = model.get_models()\n",
    "        \n",
    "        if not os.path.exists(dir_results):\n",
    "            os.mkdir(dir_results)\n",
    "            \n",
    "        pred_files = []\n",
    "        features = np.load(self.features)    \n",
    "        \n",
    "        count = 0\n",
    "        for i in range(0, features.shape[0], self.window_size):\n",
    "            if count > 5:\n",
    "                break\n",
    "            start = timer()\n",
    "            conf1 = self.compute_confidences(features, i, models)\n",
    "\n",
    "            # write the results in a json file\n",
    "            dir_match = os.path.dirname(\"test\")\n",
    "            json_file_name = self.writeResults(conf1, dir_results, dir_match)\n",
    "            pred_files.append(json_file_name)\n",
    "            \n",
    "            end = timer()\n",
    "            print(f\"Time: {timedelta(seconds=end-start)}\")\n",
    "            \n",
    "            # Wait for the time to get futur features of match\n",
    "            #ime.sleep(self.window_size)\n",
    "            count += 1\n",
    "        \n",
    "    def compute_confidences(self, features, i, models):\n",
    "        conf = np.zeros((features.shape[0], self.nb_classes))\n",
    "        # Make the predictions\n",
    "        if i+self.window_size >= features.shape[0]:\n",
    "            seq = features[-self.window_size:]\n",
    "            seq = np.expand_dims(seq, axis=0)\n",
    "            seq = torch.Tensor(seq)\n",
    "            seq = seq.transpose(1, 2)\n",
    "            confidences = (\n",
    "                (models[0](seq)).detach().numpy()).transpose()\n",
    "            confidences = np.squeeze(confidences, axis=2)\n",
    "            confidences = 1 / (1 + np.exp(-confidences))\n",
    "            displacements = (\n",
    "                (models[1](seq)).detach().numpy()).transpose()\n",
    "            displacements = np.squeeze(displacements, axis=2)\n",
    "            end = features.shape[0] - i\n",
    "            conf[i:] = self.merge_nms(\n",
    "                confidences[-end:], displacements[-end:])\n",
    "        else:\n",
    "            seq = features[i:i+self.window_size]\n",
    "            seq = np.expand_dims(seq, axis=0)\n",
    "            seq = torch.Tensor(seq)\n",
    "            seq = seq.transpose(1, 2)\n",
    "            confidences = (\n",
    "                (models[0](seq)).detach().numpy()).transpose()\n",
    "            confidences = np.squeeze(confidences, axis=2)\n",
    "            confidences = 1 / (1 + np.exp(-confidences))\n",
    "            displacements = (\n",
    "                (models[1](seq)).detach().numpy()).transpose()\n",
    "            displacements = np.squeeze(displacements, axis=2)\n",
    "            conf[i:i +\n",
    "                 self.window_size] = self.merge_nms(confidences, displacements)\n",
    "            \n",
    "        return conf\n",
    "\n",
    "    \n",
    "    def writeResults(self, conf: np.ndarray,  dir_results: str, dir_match: str):\n",
    "        \"\"\"\n",
    "        Write the results in a JSON file.\n",
    "\n",
    "        Args:\n",
    "            param conf: confidence of the model\n",
    "            param dir_results: directory of the results\n",
    "        \"\"\"\n",
    "\n",
    "        def add_action(self, actions: list, confidences: np.ndarray, half: int) -> list:\n",
    "            for i in range(len(confidences)):\n",
    "                probas = confidences[i]\n",
    "                time = i / self.fps\n",
    "                min = int(time/60)\n",
    "                sec = int((time) % 60)\n",
    "                for c, proba in enumerate(probas):\n",
    "                    if proba != 0.0:\n",
    "                        gt = str(half) + \" - \" + str(min).zfill(2) + \\\n",
    "                            \":\" + str(sec).zfill(2)\n",
    "                        name_action = self.classes[c]\n",
    "                        actions.append({})\n",
    "                        actions[-1][\"label\"] = name_action\n",
    "                        actions[-1][\"position\"] = time * \\\n",
    "                            1000  # time in millseconds\n",
    "                        actions[-1][\"half\"] = half\n",
    "                        actions[-1][\"confidence\"] = proba\n",
    "                        actions[-1][\"gameTime\"] = gt\n",
    "\n",
    "            return actions\n",
    "\n",
    "        my_path = dir_results\n",
    "        match_name = \"\"\n",
    "        league_names = [\"england_epl\", \"europe_uefa-champions-league\",\n",
    "                        \"france_ligue-1\", \"germany_bundesliga\", \"italy_serie-a\"]\n",
    "        for league in league_names:\n",
    "            if league in dir_match:\n",
    "                match_name = league\n",
    "                break\n",
    "\n",
    "        season_year = [\"2014-2015\", \"2015-2016\", \"2016-2017\",\n",
    "                       \"2017-2018\", \"2018-2019\", \"2019-2020\"]\n",
    "        for season in season_year:\n",
    "            if season in dir_match:\n",
    "                my_path = os.path.join(my_path, season)\n",
    "                match_name = os.path.join(match_name, season)\n",
    "                break\n",
    "        match_string = copy.deepcopy(dir_match[(len(my_path)+1):-11])\n",
    "        match_string = match_string.replace(\"_\", \" \")\n",
    "\n",
    "        my_path = os.path.join(my_path, match_string)\n",
    "        match_name = os.path.join(match_name, match_string)\n",
    "\n",
    "        json_dict = {}\n",
    "\n",
    "        # Define the half based on the name of the video that is being processed\n",
    "        half = 1 if \"1_224p.mkv\" or \"1_720p.mkv\" in dir_match else 2\n",
    "\n",
    "        json_dict[\"UrlLocal\"] = match_name\n",
    "        json_dict[\"predictions\"] = add_action(self, [], conf, half)\n",
    "\n",
    "        json_object = json.dumps(json_dict, indent=4)\n",
    "\n",
    "        json_file_name = os.path.join(dir_match, f\"{match_name}.json\")\n",
    "        # match name equals to path of last folder\n",
    "        match_name = match_name.split(\"/\")[-1]\n",
    "\n",
    "        # Writing\n",
    "        json_file_name = os.path.join(dir_results, f\"{match_name}.json\")\n",
    "\n",
    "        # Writing\n",
    "        with open(json_file_name, \"w\") as outfile:\n",
    "            outfile.write(json_object)\n",
    "\n",
    "        return json_file_name\n",
    "    \n",
    "    def compute_update_confidence(self, confidences: np.ndarray, displacements: np.ndarray) -> np.ndarray:\n",
    "        \"\"\"\n",
    "        Computes the updated confidences using the displacements.\n",
    "\n",
    "        Args:\n",
    "            confidences (np.ndarray): Confidence of each class for each time step of each video.\n",
    "            displacements (np.ndarray): Displacement of each class for each time step of each video.\n",
    "\n",
    "        Returns:\n",
    "            np.ndarray: Updated confidences of each class for each time step of each video.\n",
    "        \"\"\"\n",
    "        T = confidences.shape[0]\n",
    "        K = confidences.shape[1]\n",
    "\n",
    "        displacements = np.round(displacements * self.fps).astype(int)\n",
    "        output = np.zeros_like(confidences)\n",
    "        classes = np.arange(K)\n",
    "\n",
    "        for t in range(T):\n",
    "            disp = displacements[t, :]\n",
    "            idx = t - disp\n",
    "            idx = np.clip(idx, 0, T - 1)\n",
    "            output[idx, classes] = np.maximum(output[idx, classes], confidences[t, classes])\n",
    "        \n",
    "        return output    \n",
    "    \n",
    "    def merge_nms(self, confidences: np.ndarray, displacements: np.ndarray) -> np.ndarray:\n",
    "        \"\"\"\n",
    "        Evaluates the updated confidences using the displacements and Normalized Maximum Suppression (NMS) on time series.\n",
    "\n",
    "        Args:\n",
    "            confidences (np.ndarray): Confidence of each class for each time step of each video.\n",
    "            displacements (np.ndarray): Displacement of each class for each time step of each video. The displacements \n",
    "                are in seconds.\n",
    "        Returns:\n",
    "            np.ndarray: Updated confidences of each class for each time step of each video.\n",
    "        \"\"\"\n",
    "\n",
    "        # Check the shape of the confidences and displacements\n",
    "        assert confidences.shape == displacements.shape, \"The shape of the confidences and displacements should be the same.\"\n",
    "\n",
    "        # 1. Compute the updated confidences using the displacements\n",
    "        # 2. Compute the NMS on the time series\n",
    "\n",
    "        # 1. Compute the updated confidences using the displacements\n",
    "        updated_confidences = self.compute_update_confidence(confidences, displacements)\n",
    "\n",
    "        # 2. Compute the NMS on the time series\n",
    "        nms_confidences = self.compute_nms(updated_confidences)\n",
    "        return nms_confidences\n",
    "       \n",
    "\n",
    "    def compute_nms(self, confidences: np.ndarray) -> np.ndarray:\n",
    "        \"\"\"\n",
    "        Computes the NMS on the time series for each class seperately.\n",
    "\n",
    "        Args:\n",
    "            confidences (np.ndarray): Updated confidences of each class for each time step of each video.\n",
    "\n",
    "        Returns:\n",
    "            np.ndarray: NMS confidences of each class for each time step of each video.\n",
    "        \"\"\"\n",
    "        T = confidences.shape[0]\n",
    "        K = confidences.shape[1]\n",
    "\n",
    "        output = confidences.copy()\n",
    "\n",
    "        for k in range(K):\n",
    "            nms_window = self.nms_window[k]\n",
    "            nms_window = int(nms_window * self.fps)\n",
    "            preds = confidences[:, k]\n",
    "            copy_preds = preds.copy()\n",
    "\n",
    "            # Apply NMS for a window of size nms_window seconds\n",
    "            max_idx = np.argmax(copy_preds)\n",
    "            max_val = copy_preds[max_idx]\n",
    "\n",
    "            while max_val > 0:\n",
    "                start = max(0, max_idx - nms_window)\n",
    "                end = min(T, max_idx + nms_window + 1)\n",
    "\n",
    "                preds[start:end] = 0\n",
    "                preds[max_idx] = max_val\n",
    "\n",
    "                copy_preds[start:end] = 0\n",
    "                max_idx = np.argmax(copy_preds)\n",
    "                max_val = copy_preds[max_idx]\n",
    "            \n",
    "            output[:, k] = preds\n",
    "        \n",
    "        return output"
   ]
  },
  {
   "cell_type": "code",
   "execution_count": 51,
   "metadata": {},
   "outputs": [],
   "source": [
    "dir_model = \"/home/mdelabrassinne/DSproject/Milestone3/Time Measures\"\n",
    "classes = ['Kick-off', \n",
    "           'Ball out of play', \n",
    "           'Throw-in', 'Foul', \n",
    "           'Clearance', \n",
    "           'Indirect free-kick', \n",
    "           'Shots on target', \n",
    "           'Corner', \n",
    "           'Shots off target', \n",
    "           'Direct free-kick', \n",
    "           'Yellow card', \n",
    "           'Substitution', \n",
    "           'Red card', \n",
    "           'Offside', \n",
    "           'Goal', \n",
    "           'Penalty', \n",
    "           'Yellow->red card']\n",
    "\n",
    "game1 = '/scratch/users/mdelabrassinne/Database/england_epl/2015-2016/2016-01-03_-_16-30_Crystal_Palace_0_-_3_Chelsea/1_224p.mkv'\n",
    "game2 = '/scratch/users/mdelabrassinne/Database/england_epl/2015-2016/2016-01-03_-_16-30_Crystal_Palace_0_-_3_Chelsea/2_224p.mkv'\n",
    "game3 = '/scratch/users/mdelabrassinne/Database/england_epl/2015-2016/2016-03-02_-_23-00_Liverpool_3_-_0_Manchester_City/1_224p.mkv'\n",
    "game4 = '/scratch/users/mdelabrassinne/Database/england_epl/2015-2016/2016-03-02_-_23-00_Liverpool_3_-_0_Manchester_City/2_224p.mkv'\n",
    "game5 = '/scratch/users/mdelabrassinne/Database/italy_serie-a/2016-2017/2017-04-30_-_21-45_Inter_0_-_1_Napoli/2_720p.mkv'\n",
    "\n",
    "games = [game1, game2, game3, game4, game5]\n",
    "\n",
    "nms_windows = [20 for i in classes]"
   ]
  },
  {
   "cell_type": "code",
   "execution_count": 52,
   "metadata": {},
   "outputs": [
    {
     "name": "stdout",
     "output_type": "stream",
     "text": [
      "0\n",
      "Time: 0:00:00.087865\n",
      "Time: 0:00:00.087808\n",
      "Time: 0:00:00.088771\n",
      "Time: 0:00:00.088727\n",
      "Time: 0:00:00.087732\n",
      "Time: 0:00:00.087578\n",
      "1\n",
      "Time: 0:00:00.088967\n",
      "Time: 0:00:00.088592\n",
      "Time: 0:00:00.088398\n",
      "Time: 0:00:00.090602\n",
      "Time: 0:00:00.089313\n",
      "Time: 0:00:00.087397\n",
      "2\n",
      "Time: 0:00:00.087509\n",
      "Time: 0:00:00.087993\n",
      "Time: 0:00:00.087289\n",
      "Time: 0:00:00.089631\n",
      "Time: 0:00:00.087535\n",
      "Time: 0:00:00.088601\n",
      "3\n",
      "Time: 0:00:00.122962\n",
      "Time: 0:00:00.101883\n",
      "Time: 0:00:00.118056\n",
      "Time: 0:00:00.120906\n",
      "Time: 0:00:00.125097\n",
      "Time: 0:00:00.103672\n",
      "4\n",
      "Time: 0:00:00.124112\n",
      "Time: 0:00:00.108663\n",
      "Time: 0:00:00.112843\n",
      "Time: 0:00:00.113727\n",
      "Time: 0:00:00.087336\n",
      "Time: 0:00:00.089417\n"
     ]
    }
   ],
   "source": [
    "from timeit import default_timer as timer\n",
    "from datetime import timedelta\n",
    "\n",
    "#Measure the time necessary for an entire half-time for 64 seconds window\n",
    "\n",
    "conf = \"confidence_window_64.pt\"\n",
    "disp = \"disp_window_64.pt\"\n",
    "window_size = 64\n",
    "\n",
    "for game in games:\n",
    "    print(games.index(game))\n",
    "    features = getPathFeatures(game)\n",
    "    res = Results(dir_model, features, window_size, classes, nms_windows)\n",
    "    res.ResultsMeasureTime(disp,conf)\n",
    "    "
   ]
  },
  {
   "cell_type": "code",
   "execution_count": 56,
   "metadata": {},
   "outputs": [
    {
     "data": {
      "text/plain": [
       "0.09549999999999999"
      ]
     },
     "execution_count": 56,
     "metadata": {},
     "output_type": "execute_result"
    }
   ],
   "source": [
    "((0.087 * 4 + 0.088 * 2)/6 + (0.088 * 3 + 0.09 + 0.089 + 0.087)/6 + (0.088+ 0.089 + 0.087*4)/6 + (0.12*3+0.11+0.10*2)/6 + (0.12+0.10+0.11*2+0.087+0.089)/6) / 5"
   ]
  },
  {
   "cell_type": "code",
   "execution_count": 53,
   "metadata": {},
   "outputs": [
    {
     "name": "stdout",
     "output_type": "stream",
     "text": [
      "0\n",
      "Time: 0:00:00.141851\n",
      "Time: 0:00:00.142116\n",
      "Time: 0:00:00.127915\n",
      "Time: 0:00:00.139105\n",
      "Time: 0:00:00.144810\n",
      "Time: 0:00:00.141799\n",
      "1\n",
      "Time: 0:00:00.127874\n",
      "Time: 0:00:00.123921\n",
      "Time: 0:00:00.147409\n",
      "Time: 0:00:00.116441\n",
      "Time: 0:00:00.111870\n",
      "Time: 0:00:00.110445\n",
      "2\n",
      "Time: 0:00:00.118502\n",
      "Time: 0:00:00.112254\n",
      "Time: 0:00:00.114726\n",
      "Time: 0:00:00.112082\n",
      "Time: 0:00:00.113401\n",
      "Time: 0:00:00.111067\n",
      "3\n",
      "Time: 0:00:00.109731\n",
      "Time: 0:00:00.109343\n",
      "Time: 0:00:00.113543\n",
      "Time: 0:00:00.109401\n",
      "Time: 0:00:00.111699\n",
      "Time: 0:00:00.110644\n",
      "4\n",
      "Time: 0:00:00.109474\n",
      "Time: 0:00:00.111711\n",
      "Time: 0:00:00.111846\n",
      "Time: 0:00:00.109461\n",
      "Time: 0:00:00.112186\n",
      "Time: 0:00:00.109957\n"
     ]
    }
   ],
   "source": [
    "conf = \"confidence_window_112.pt\"\n",
    "disp = \"disp_window_112.pt\"\n",
    "window_size = 112\n",
    "\n",
    "for game in games:\n",
    "    print(games.index(game))\n",
    "    features = getPathFeatures(game)\n",
    "    res = Results(dir_model, features, window_size, classes, nms_windows)\n",
    "    res.ResultsMeasureTime(disp,conf)"
   ]
  },
  {
   "cell_type": "code",
   "execution_count": 57,
   "metadata": {},
   "outputs": [
    {
     "data": {
      "text/plain": [
       "0.11757666666666669"
      ]
     },
     "execution_count": 57,
     "metadata": {},
     "output_type": "execute_result"
    }
   ],
   "source": [
    "( (0.14*4+0.12+0.13)/6 + (0.12*2+0.11*3+0.14)/6 + (0.118+0.112+0.114+0.112+0.113+0.111)/6 + (0.109+0.109+0.113+0.1109+0.111+0.1106)/6 + (0.109+0.1117+0.1118+0.1094+0.112+0.1099)/6 )/5"
   ]
  },
  {
   "cell_type": "code",
   "execution_count": 54,
   "metadata": {},
   "outputs": [
    {
     "name": "stdout",
     "output_type": "stream",
     "text": [
      "0\n",
      "Time: 0:00:00.077210\n",
      "Time: 0:00:00.076466\n",
      "Time: 0:00:00.075749\n",
      "Time: 0:00:00.077634\n",
      "Time: 0:00:00.075485\n",
      "Time: 0:00:00.076246\n",
      "1\n",
      "Time: 0:00:00.073899\n",
      "Time: 0:00:00.075747\n",
      "Time: 0:00:00.076204\n",
      "Time: 0:00:00.076518\n",
      "Time: 0:00:00.075433\n",
      "Time: 0:00:00.076104\n",
      "2\n",
      "Time: 0:00:00.074964\n",
      "Time: 0:00:00.075967\n",
      "Time: 0:00:00.076354\n",
      "Time: 0:00:00.078829\n",
      "Time: 0:00:00.076930\n",
      "Time: 0:00:00.076476\n",
      "3\n",
      "Time: 0:00:00.075116\n",
      "Time: 0:00:00.075943\n",
      "Time: 0:00:00.075692\n",
      "Time: 0:00:00.078085\n",
      "Time: 0:00:00.074653\n",
      "Time: 0:00:00.077221\n",
      "4\n",
      "Time: 0:00:00.075053\n",
      "Time: 0:00:00.076739\n",
      "Time: 0:00:00.076798\n",
      "Time: 0:00:00.077583\n",
      "Time: 0:00:00.076041\n",
      "Time: 0:00:00.077463\n"
     ]
    }
   ],
   "source": [
    "conf = \"confidence_window_32.pt\"\n",
    "disp = \"disp_window_32.pt\"\n",
    "window_size = 32\n",
    "\n",
    "for game in games:\n",
    "    print(games.index(game))\n",
    "    features = getPathFeatures(game)\n",
    "    res = Results(dir_model, features, window_size, classes, nms_windows)\n",
    "    res.ResultsMeasureTime(disp,conf)"
   ]
  },
  {
   "cell_type": "code",
   "execution_count": 58,
   "metadata": {},
   "outputs": [
    {
     "data": {
      "text/plain": [
       "0.07610493333333333"
      ]
     },
     "execution_count": 58,
     "metadata": {},
     "output_type": "execute_result"
    }
   ],
   "source": [
    "((0.077*2+0.076*2+0.075*2)/6+(0.076*3+0.075*2+0.073)/6+(0.0749+0.0759+0.0769+0.0788+0.0769+0.0764)/6+(0.07511+0.07594+0.07569+0.07808+0.07465+0.07722)/6+(0.07505+0.07673+0.076798+0.07758+0.07604+0.07746)/6)/5"
   ]
  },
  {
   "cell_type": "code",
   "execution_count": null,
   "metadata": {},
   "outputs": [],
   "source": []
  }
 ],
 "metadata": {
  "kernelspec": {
   "display_name": "Python 3",
   "language": "python",
   "name": "python3"
  },
  "language_info": {
   "codemirror_mode": {
    "name": "ipython",
    "version": 3
   },
   "file_extension": ".py",
   "mimetype": "text/x-python",
   "name": "python",
   "nbconvert_exporter": "python",
   "pygments_lexer": "ipython3",
   "version": "3.8.3"
  }
 },
 "nbformat": 4,
 "nbformat_minor": 2
}
