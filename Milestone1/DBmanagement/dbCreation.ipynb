{
 "cells": [
  {
   "cell_type": "code",
   "execution_count": 1,
   "metadata": {},
   "outputs": [],
   "source": [
    "# Imports and packages\n",
    "import DBmanagement.DBsave as dbs"
   ]
  },
  {
   "cell_type": "code",
   "execution_count": 2,
   "metadata": {},
   "outputs": [],
   "source": [
    "# DB creation\n",
    "db = dbs.DBsaver.createDB(path = \"DBmanagement/Database/\", name = \"SoccerDB.db\")\n",
    "dbs.DBsaver.createTables(db)\n",
    "dbSaver = dbs.DBsaver(db)"
   ]
  },
  {
   "cell_type": "code",
   "execution_count": 4,
   "metadata": {},
   "outputs": [],
   "source": [
    "# Create video DB\n",
    "import random\n",
    "\n",
    "files = dbs.DBsaver.getMkvFiles(\"Training\")\n",
    "# shuffle the files to have a random order\n",
    "random.shuffle(files)\n",
    "count = 1\n",
    "for file in files:\n",
    "    video = dbs.DBsaver.generateVideoDB(file)\n",
    "    if count <= 1:\n",
    "        dbSaver.insertVideoDB(video, training_stage = \"Training\")\n",
    "    elif count <= 2:\n",
    "        dbSaver.insertVideoDB(video, training_stage = \"Validation\")\n",
    "    else:\n",
    "        dbSaver.insertVideoDB(video, training_stage = \"Test\")\n",
    "    count += 1"
   ]
  },
  {
   "cell_type": "code",
   "execution_count": 3,
   "metadata": {},
   "outputs": [],
   "source": [
    "import DBmanagement.DBsave as dbs\n",
    "# Create sequence and images\n",
    "\n",
    "directories = dbs.DBsaver.getVideoDirectories(\"Training\")\n",
    "\n",
    "for directory in directories:\n",
    "    sequences = dbs.DBsaver.generateSequenceDB(directory)\n",
    "    dbSaver.updatePathVideo(sequences)"
   ]
  },
  {
   "cell_type": "code",
   "execution_count": null,
   "metadata": {},
   "outputs": [],
   "source": []
  },
  {
   "cell_type": "code",
   "execution_count": null,
   "metadata": {},
   "outputs": [],
   "source": [
    "# get the number of sequence in the database\n",
    "dbSaver.getNbSequences()\n"
   ]
  },
  {
   "cell_type": "code",
   "execution_count": null,
   "metadata": {},
   "outputs": [],
   "source": [
    "# Close the database\n",
    "db.close()"
   ]
  }
 ],
 "metadata": {
  "kernelspec": {
   "display_name": "DSproject",
   "language": "python",
   "name": "python3"
  },
  "language_info": {
   "codemirror_mode": {
    "name": "ipython",
    "version": 3
   },
   "file_extension": ".py",
   "mimetype": "text/x-python",
   "name": "python",
   "nbconvert_exporter": "python",
   "pygments_lexer": "ipython3",
   "version": "3.10.9"
  },
  "orig_nbformat": 4,
  "vscode": {
   "interpreter": {
    "hash": "63f6de972f1f5378848a54932a6755f1cde9535b48a9891453b507f425c565ad"
   }
  }
 },
 "nbformat": 4,
 "nbformat_minor": 2
}
