{
 "cells": [
  {
   "cell_type": "code",
   "execution_count": 3,
   "metadata": {},
   "outputs": [],
   "source": [
    "import cv2\n",
    "\n",
    "def imagesFromMkv(mkvFile: str, time_min: int, time_sec: int, n_frames: int, dest_file: str):\n",
    "    \"\"\"_summary_\n",
    "\n",
    "    Args:\n",
    "        mkvFile (str): mkv file path\n",
    "        time_min (int): minutes of the images in the mkv file\n",
    "        time_sec (int): seconds of the images in the mkv file\n",
    "        fps (int, optional): frame per second of the mkv file. Defaults to 25.\n",
    "\n",
    "    Returns:\n",
    "        list: the images of the corresponding time stamp\n",
    "    \"\"\"\n",
    "    cap = cv2.VideoCapture(mkvFile)\n",
    "    cap.set(cv2.CAP_PROP_POS_MSEC, (time_min * 60 + time_sec) * 1000)\n",
    "    images = []\n",
    "    for i in range(n_frames):\n",
    "        ret, frame = cap.read()\n",
    "        frame_path = dest_file + \"/\" + str(i+1) + \".jpg\"\n",
    "        cv2.imwrite(frame_path,frame)"
   ]
  },
  {
   "cell_type": "code",
   "execution_count": 8,
   "metadata": {},
   "outputs": [
    {
     "name": "stdout",
     "output_type": "stream",
     "text": [
      "None\n",
      "/home/mdelabrassinne/DSproject/Database/england_epl/2014-2015/2015-02-21_-_18-00_Chelsea_1_-_1_Burnley/sequences/Kick-off/1/1.jpg\n"
     ]
    },
    {
     "name": "stderr",
     "output_type": "stream",
     "text": [
      "[ WARN:0@1186.901] global /opt/conda/conda-bld/opencv-suite_1664548337286/work/modules/videoio/src/cap_gstreamer.cpp (1127) open OpenCV | GStreamer warning: Error opening bin: empty pipeline not allowed\n",
      "[ WARN:0@1186.901] global /opt/conda/conda-bld/opencv-suite_1664548337286/work/modules/videoio/src/cap_gstreamer.cpp (862) isPipelinePlaying OpenCV | GStreamer warning: GStreamer: pipeline have not been created\n",
      "[ERROR:0@1186.901] global /opt/conda/conda-bld/opencv-suite_1664548337286/work/modules/videoio/src/cap.cpp (164) open VIDEOIO(CV_IMAGES): raised OpenCV exception:\n",
      "\n",
      "OpenCV(4.6.0) /opt/conda/conda-bld/opencv-suite_1664548337286/work/modules/videoio/src/cap_images.cpp:293: error: (-215:Assertion failed) !_filename.empty() in function 'open'\n",
      "\n",
      "\n"
     ]
    },
    {
     "ename": "error",
     "evalue": "OpenCV(4.6.0) /opt/conda/conda-bld/opencv-suite_1664548337286/work/modules/imgcodecs/src/loadsave.cpp:801: error: (-215:Assertion failed) !_img.empty() in function 'imwrite'\n",
     "output_type": "error",
     "traceback": [
      "\u001b[0;31m---------------------------------------------------------------------------\u001b[0m",
      "\u001b[0;31merror\u001b[0m                                     Traceback (most recent call last)",
      "Cell \u001b[0;32mIn[8], line 50\u001b[0m\n\u001b[1;32m     47\u001b[0m         \u001b[38;5;28;01mif\u001b[39;00m \u001b[38;5;129;01mnot\u001b[39;00m os\u001b[38;5;241m.\u001b[39mpath\u001b[38;5;241m.\u001b[39misdir(event_folder):\n\u001b[1;32m     48\u001b[0m                 os\u001b[38;5;241m.\u001b[39mmakedirs(event_folder)\n\u001b[0;32m---> 50\u001b[0m         \u001b[43mimagesFromMkv\u001b[49m\u001b[43m(\u001b[49m\u001b[43mvideo_path\u001b[49m\u001b[43m,\u001b[49m\u001b[43mminutes\u001b[49m\u001b[43m,\u001b[49m\u001b[43msecondes\u001b[49m\u001b[43m,\u001b[49m\u001b[38;5;241;43m25\u001b[39;49m\u001b[43m,\u001b[49m\u001b[43mevent_folder\u001b[49m\u001b[43m)\u001b[49m\n\u001b[1;32m     52\u001b[0m json_file\u001b[38;5;241m.\u001b[39mclose()\n",
      "Cell \u001b[0;32mIn[3], line 22\u001b[0m, in \u001b[0;36mimagesFromMkv\u001b[0;34m(mkvFile, time_min, time_sec, n_frames, dest_file)\u001b[0m\n\u001b[1;32m     20\u001b[0m frame_path \u001b[38;5;241m=\u001b[39m dest_file \u001b[38;5;241m+\u001b[39m \u001b[38;5;124m\"\u001b[39m\u001b[38;5;124m/\u001b[39m\u001b[38;5;124m\"\u001b[39m \u001b[38;5;241m+\u001b[39m \u001b[38;5;28mstr\u001b[39m(i\u001b[38;5;241m+\u001b[39m\u001b[38;5;241m1\u001b[39m) \u001b[38;5;241m+\u001b[39m \u001b[38;5;124m\"\u001b[39m\u001b[38;5;124m.jpg\u001b[39m\u001b[38;5;124m\"\u001b[39m\n\u001b[1;32m     21\u001b[0m \u001b[38;5;28mprint\u001b[39m(frame_path)\n\u001b[0;32m---> 22\u001b[0m \u001b[43mcv2\u001b[49m\u001b[38;5;241;43m.\u001b[39;49m\u001b[43mimwrite\u001b[49m\u001b[43m(\u001b[49m\u001b[43mframe_path\u001b[49m\u001b[43m,\u001b[49m\u001b[43mframe\u001b[49m\u001b[43m)\u001b[49m\n",
      "\u001b[0;31merror\u001b[0m: OpenCV(4.6.0) /opt/conda/conda-bld/opencv-suite_1664548337286/work/modules/imgcodecs/src/loadsave.cpp:801: error: (-215:Assertion failed) !_img.empty() in function 'imwrite'\n"
     ]
    }
   ],
   "source": [
    "import os\n",
    "import json\n",
    "\n",
    "for (root,dirs,files) in os.walk(\"/home/mdelabrassinne/DSproject/Database\"):\n",
    "    \n",
    "    leaf = 0\n",
    "    \n",
    "    file_count = 0\n",
    "    for name in files:\n",
    "        videos = [None] * 2\n",
    "        if name.endswith(\".mkv\") and name.startswith(\"1\"):\n",
    "            videos[0] = root + \"/\" + name\n",
    "        elif name.endswith(\".mkv\") and name.startswith(\"2\"):\n",
    "            videos[1] = root + \"/\" + name\n",
    "        elif name.endswith(\".json\"):\n",
    "            leaf = 1\n",
    "            json_file_name = root + \"/\" + name\n",
    "    \n",
    "    if leaf == 1:\n",
    "        print(videos[0])\n",
    "        sequence_folder = root + \"/sequences\"\n",
    "        if not os.path.isdir(sequence_folder):\n",
    "            os.makedirs(sequence_folder)\n",
    "        \n",
    "        json_file = open(json_file_name)\n",
    "        data = json.load(json_file)\n",
    "        \n",
    "        label_count = {}\n",
    "        \n",
    "        for event in data[\"annotations\"]:\n",
    "            label = event['label']\n",
    "            if event['visibility'] == 'visible':\n",
    "                if label in label_count.keys():\n",
    "                    label_count[label] += 1\n",
    "                else:\n",
    "                    label_count[label] = 1\n",
    "                    event_type_folder = sequence_folder + \"/\" + label\n",
    "                    if not os.path.isdir(event_type_folder):\n",
    "                        os.makedirs(event_type_folder)\n",
    "                \n",
    "                time = event['gameTime']\n",
    "                video_path = videos[int(time[0])-1]\n",
    "                \n",
    "                minutes = int(time[4:6])\n",
    "                secondes = int(time[7:9])\n",
    "                event_folder = event_type_folder + \"/\" + str(label_count[label])\n",
    "                if not os.path.isdir(event_folder):\n",
    "                        os.makedirs(event_folder)\n",
    "                        \n",
    "                imagesFromMkv(video_path,minutes,secondes,25,event_folder)\n",
    "                \n",
    "        json_file.close()"
   ]
  }
 ],
 "metadata": {
  "kernelspec": {
   "display_name": "DSproject",
   "language": "python",
   "name": "python3"
  },
  "language_info": {
   "codemirror_mode": {
    "name": "ipython",
    "version": 3
   },
   "file_extension": ".py",
   "mimetype": "text/x-python",
   "name": "python",
   "nbconvert_exporter": "python",
   "pygments_lexer": "ipython3",
   "version": "3.10.9"
  },
  "vscode": {
   "interpreter": {
    "hash": "63f6de972f1f5378848a54932a6755f1cde9535b48a9891453b507f425c565ad"
   }
  }
 },
 "nbformat": 4,
 "nbformat_minor": 4
}
