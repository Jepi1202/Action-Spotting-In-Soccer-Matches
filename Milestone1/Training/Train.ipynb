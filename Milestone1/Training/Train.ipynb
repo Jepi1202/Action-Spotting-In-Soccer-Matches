{
 "cells": [
  {
   "cell_type": "code",
   "execution_count": 1,
   "metadata": {},
   "outputs": [],
   "source": [
    "import FootballDataset as fd"
   ]
  },
  {
   "cell_type": "code",
   "execution_count": null,
   "metadata": {},
   "outputs": [],
   "source": [
    "# Get the images from the dataset and the labels\n",
    "path_db = \"/scratch/users/mdelabrassinne/Database/SoccerDB.db\"\n",
    "data = fd.FootballDataset.get_images(path_db, classes=[\"Corner\"], type_=\"Training\")"
   ]
  },
  {
   "cell_type": "code",
   "execution_count": null,
   "metadata": {},
   "outputs": [],
   "source": [
    "conn = sqlite3.connect(db_path)\n",
    "c = conn.cursor()\n",
    "\n",
    "c.execute(\"SELECT seq.Path_sequence, seq.VideoPath FROM SEQUENCE seq\")\n",
    "data = c.fetchall()\n",
    "\n",
    "# removes \"...sequences/...\" from the string VideoPath. It can appear anywhere in the string\n",
    "params = []\n",
    "for i in range(len(data)):\n",
    "    data[i][1] = str.replace(data[i][1], \"sequences/\", \"\")\n",
    "    params.append((data[i][1], data[i][0]))\n",
    "\n",
    "c.executemany(\"UPDATE SEQUENCE SET VideoPath = ? WHERE Path_sequence = ?\", params)\n",
    "conn.commit()\n"
   ]
  }
 ],
 "metadata": {
  "kernelspec": {
   "display_name": "deep",
   "language": "python",
   "name": "python3"
  },
  "language_info": {
   "codemirror_mode": {
    "name": "ipython",
    "version": 3
   },
   "file_extension": ".py",
   "mimetype": "text/x-python",
   "name": "python",
   "nbconvert_exporter": "python",
   "pygments_lexer": "ipython3",
   "version": "3.9.16"
  },
  "orig_nbformat": 4,
  "vscode": {
   "interpreter": {
    "hash": "46bfc2a88593d628c8447d1d5a3b90d041f86a433782f77c5a11154f4ca9d878"
   }
  }
 },
 "nbformat": 4,
 "nbformat_minor": 2
}
