{
 "cells": [
  {
   "cell_type": "code",
   "execution_count": null,
   "metadata": {},
   "outputs": [],
   "source": [
    "import os\n",
    "import random\n",
    "import torch\n",
    "import torchvision.transforms as transforms\n",
    "from torch.utils.data import Dataset, Sampler"
   ]
  },
  {
   "cell_type": "code",
   "execution_count": null,
   "metadata": {},
   "outputs": [],
   "source": [
    "def getVideoList(db_path: str, classes: list = [\"Corner\"], type_: str = \"Training\", limits: list = {\"Corner\": None, \"NoClass\": None}) -> list:\n",
    "    \"\"\"\n",
    "        Connects to the database and returns the videos and associated labels.\n",
    "\n",
    "        Args:\n",
    "            db_path (str): Path to the database.\n",
    "            classes (list, optional): List of classes to be considered. Defaults to [\"Corner\"].\n",
    "            type_ (str, optional): Type of the video. Defaults to \"Training\".\n",
    "            limits (list, optional): Limits of the number of images per class to be considered. Defaults to [None, None]. If None, all the images are considered.\n",
    "\n",
    "        Returns:\n",
    "            list: List of tuples with the image path and the label.\n",
    "        \"\"\"\n",
    "    \n",
    "    # connect to the database\n",
    "    conn = sqlite3.connect(db_path)\n",
    "    c = conn.cursor()\n",
    "\n",
    "    # get the images and labels\n",
    "    #c.execute(\"SELECT im.Path, seq.Label FROM IMAGE im INNER JOIN Sequence seq ON im.SequencePath = seq.Path_sequence INNER JOIN VIDEO vid ON seq.VideoPath = vid.Path_video WHERE vid.training_stage = ?\", (type_,))\n",
    "    seq_classes = c.fetchall()\n",
    "\n",
    "    conn.close()\n",
    "    \n",
    "    \n",
    "    "
   ]
  },
  {
   "cell_type": "code",
   "execution_count": null,
   "metadata": {},
   "outputs": [],
   "source": [
    "data_list = getVideoList(db_path=\"/scratch/users/mdelabrassinne/Database/SoccerDB.db\", classes = cL,limits = limits_train, type_=\"Training\")"
   ]
  },
  {
   "cell_type": "code",
   "execution_count": null,
   "metadata": {},
   "outputs": [],
   "source": [
    "class VideoDataset(Dataset):\n",
    "    def __init__(self, self, data_list, labelList, transform=None):\n",
    "        self.videoList = data_list    # list of path towards videos\n",
    "        self.labelList = labelList    # contains the matrices that allow to get c[t, k] and d[t, k] and also a dict with the timing of the actions (for the time domain)\n",
    "        self.transform = transform    # transformation to apply (see later maybe ?)\n",
    "        \n",
    "        \n",
    "    def __len__(self):\n",
    "        return len(self.video_list)\n",
    "    \n",
    "    def __getitem__(self, idx):\n",
    "        video_file = self.videoList[idx]\n",
    "        data = self.labelList[idx]\n",
    "        \n",
    "        \"\"\"\n",
    "        if self.transform:\n",
    "            proba = 1 / (len(self.transform))\n",
    "            val = random.random()\n",
    "            for i in range(len(self.transform)):\n",
    "                if val < proba:\n",
    "                    video_frames = self.transform(load_video(video_file))\n",
    "                    \n",
    "            return video_frames, data\n",
    "        else:                \n",
    "            return video_frames, data\n",
    "        \"\"\"\n",
    "        return video_frames, data\n",
    "        "
   ]
  },
  {
   "cell_type": "code",
   "execution_count": null,
   "metadata": {},
   "outputs": [],
   "source": [
    "class RandomSampler(Sampler):\n",
    "    def __init__(self, data_source, seq_length):\n",
    "        self.data_source = data_source\n",
    "        self.seq_length = seq_length\n",
    "    \n",
    "    def __iter__(self):\n",
    "        for idx in range(len(self.data_source)):\n",
    "            start = random.randint(0, len(self.data_source[idx]) - self.seq_length)\n",
    "            yield (idx, start)\n",
    "    \n",
    "    def __len__(self):\n",
    "        return len(self.data_source)\n",
    "\n",
    "def load_video(video_file):\n",
    "    # Function to load video frames from file\n",
    "    pass"
   ]
  }
 ],
 "metadata": {
  "kernelspec": {
   "display_name": "Python [conda env:envDeepLearning]",
   "language": "python",
   "name": "conda-env-envDeepLearning-py"
  },
  "language_info": {
   "codemirror_mode": {
    "name": "ipython",
    "version": 3
   },
   "file_extension": ".py",
   "mimetype": "text/x-python",
   "name": "python",
   "nbconvert_exporter": "python",
   "pygments_lexer": "ipython3",
   "version": "3.9.16"
  }
 },
 "nbformat": 4,
 "nbformat_minor": 4
}
