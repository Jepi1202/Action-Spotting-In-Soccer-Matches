{
 "cells": [
  {
   "cell_type": "code",
   "execution_count": 1,
   "metadata": {},
   "outputs": [
    {
     "name": "stderr",
     "output_type": "stream",
     "text": [
      "/home/mdelabrassinne/anaconda3/envs/envDeepLearning/lib/python3.9/site-packages/tqdm/auto.py:22: TqdmWarning: IProgress not found. Please update jupyter and ipywidgets. See https://ipywidgets.readthedocs.io/en/stable/user_install.html\n",
      "  from .autonotebook import tqdm as notebook_tqdm\n"
     ]
    }
   ],
   "source": [
    "import numpy as np\n",
    "from tqdm import tqdm\n",
    "import os\n",
    "import json\n",
    "from torch.utils.data import Dataset, Sampler\n",
    "import torch.utils.data as data"
   ]
  },
  {
   "cell_type": "code",
   "execution_count": 12,
   "metadata": {},
   "outputs": [],
   "source": [
    "path = \"/scratch/users/mdelabrassinne/Database/england_epl/2014-2015/2015-02-21 - 18-00 Chelsea 1 - 1 Burnley/2_baidu_soccer_embeddings.npy\"\n",
    "\n",
    "ar = np.load(path)"
   ]
  },
  {
   "cell_type": "code",
   "execution_count": 13,
   "metadata": {},
   "outputs": [
    {
     "data": {
      "text/plain": [
       "(2700, 8576)"
      ]
     },
     "execution_count": 13,
     "metadata": {},
     "output_type": "execute_result"
    }
   ],
   "source": [
    "ar.shape"
   ]
  },
  {
   "cell_type": "code",
   "execution_count": 4,
   "metadata": {},
   "outputs": [
    {
     "name": "stdout",
     "output_type": "stream",
     "text": [
      "[[0.38118884 0.02770964 0.00367757 ... 0.17223546 0.09156295 0.02553807]\n",
      " [0.42885312 0.01224316 0.         ... 0.20666476 0.17031477 0.12626918]\n",
      " [0.2583254  0.00581192 0.02311912 ... 0.282737   0.14367244 0.10988639]\n",
      " ...\n",
      " [0.04447667 0.3821194  0.1784471  ... 0.01555356 0.04229367 0.35579708]\n",
      " [0.01905869 0.26908693 0.23427132 ... 0.1827074  0.12168921 0.61314577]\n",
      " [0.00867339 0.18794657 0.29181525 ... 0.31754282 0.14958553 0.5993214 ]]\n"
     ]
    }
   ],
   "source": [
    "print(ar[:100, :100])"
   ]
  },
  {
   "cell_type": "code",
   "execution_count": 5,
   "metadata": {},
   "outputs": [],
   "source": [
    "path = '/scratch/users/mdelabrassinne/Database/'"
   ]
  },
  {
   "cell_type": "code",
   "execution_count": 52,
   "metadata": {},
   "outputs": [
    {
     "name": "stderr",
     "output_type": "stream",
     "text": [
      "98714it [00:59, 1649.02it/s]\n"
     ]
    }
   ],
   "source": [
    "features =[]\n",
    "jsonList = []\n",
    "for root, dirs, files in tqdm(os.walk(path)):\n",
    "    #print(files)\n",
    "    for file in files:\n",
    "        if file.endswith(\"baidu_soccer_embeddings.npy\"):\n",
    "            features.append(os.path.join(root, file))\n",
    "        if file.endswith(\".json\"):\n",
    "            jsonList.append(os.path.join(root, file))\n",
    "\n",
    "            \n",
    "data = list(zip(features, jsonList))"
   ]
  },
  {
   "cell_type": "code",
   "execution_count": 53,
   "metadata": {},
   "outputs": [
    {
     "name": "stdout",
     "output_type": "stream",
     "text": [
      "1100\n",
      "[[3.8118884e-01 2.7709639e-02 3.6775670e-03 ... 3.6195982e-03\n",
      "  0.0000000e+00 2.9661678e-04]\n",
      " [4.2885312e-01 1.2243160e-02 0.0000000e+00 ... 3.3716105e-03\n",
      "  0.0000000e+00 1.4415581e-04]\n",
      " [2.5832540e-01 5.8119199e-03 2.3119124e-02 ... 3.9737178e-03\n",
      "  0.0000000e+00 1.3890492e-05]\n",
      " ...\n",
      " [5.2272514e-03 2.9039851e-01 2.2069754e-01 ... 3.0468414e-03\n",
      "  0.0000000e+00 7.2249270e-05]\n",
      " [3.9711028e-02 2.4259840e-01 2.3015372e-01 ... 3.1011349e-03\n",
      "  0.0000000e+00 3.6978102e-04]\n",
      " [5.4142091e-02 2.1650633e-01 1.8599744e-01 ... 1.7698978e-03\n",
      "  0.0000000e+00 5.4636848e-04]]\n",
      "('/scratch/users/mdelabrassinne/Database/england_epl/2014-2015/2015-02-21 - 18-00 Chelsea 1 - 1 Burnley/1_baidu_soccer_embeddings.npy', '/scratch/users/mdelabrassinne/Database/england_epl/2014-2015/2015-02-21_-_18-00_Chelsea_1_-_1_Burnley/Labels-v2.json')\n",
      "Kick-off\n",
      "1 - 02:13\n",
      "02\n",
      "13\n",
      "190\n"
     ]
    }
   ],
   "source": [
    "print(len(features))\n",
    "print(np.load(features[0]))\n",
    "print(data[0])\n",
    "\n",
    "f = open(data[0][1])\n",
    "d = json.load(f)\n",
    "print(d['annotations'][0]['label'])\n",
    "print(d['annotations'][1]['gameTime'])\n",
    "print(d['annotations'][1]['gameTime'][4:6])\n",
    "print(d['annotations'][1]['gameTime'][7:9])\n",
    "\n",
    "print(len(d['annotations']))"
   ]
  },
  {
   "cell_type": "code",
   "execution_count": null,
   "metadata": {},
   "outputs": [],
   "source": [
    "class BaiduDataset(Dataset):    #modifiable\n",
    "    \"\"\"\n",
    "    Class to prepare the data for a neural network in pyTorch. The database is composed of 3 tables:\n",
    "    - Video: to save the video information\n",
    "    - Sequence: to save the sequence information labelled with the soccer actions and record the sound of the sequence\n",
    "    - Image: to save the image information of the sequence\n",
    "    \"\"\"\n",
    "    def __init__(self, data_list, transform=None):\n",
    "        self.data_list = data_list\n",
    "        self.transform = transform\n",
    "        \n",
    "    def __len__(self):\n",
    "        return len(self.data_list)\n",
    "    \n",
    "    def __getitem__(self, idx):\n",
    "        feat_path = self.data_list[idx][0]       # path towards Baidu features\n",
    "        label_path = self.data_list[idx][1]      # path towards associated json\n",
    "        \n",
    "        features = np.load(feat_path)\n",
    "        \n",
    "        \n",
    "        if self.transform:\n",
    "            proba = 1 / (len(self.transform))\n",
    "            val = random.random()\n",
    "            current = 0\n",
    "            for i in range(len(self.transform)):\n",
    "                if val < current + proba:\n",
    "                    image = self.transform[i](image)\n",
    "                    return image, label\n",
    "            return self.transform[-1](image), label\n",
    "        else:                \n",
    "            return image, label"
   ]
  },
  {
   "cell_type": "code",
   "execution_count": 78,
   "metadata": {
    "scrolled": true
   },
   "outputs": [
    {
     "name": "stderr",
     "output_type": "stream",
     "text": [
      "260it [00:00, 1304.25it/s]"
     ]
    },
    {
     "name": "stdout",
     "output_type": "stream",
     "text": [
      "/scratch/users/mdelabrassinne/Database/england_epl/2014-2015/2015-02-21_-_18-00_Chelsea_1_-_1_Burnley/Labels-v2.json\n",
      "/scratch/users/mdelabrassinne/Database/england_epl/2014-2015/2015-02-21_-_18-00_Crystal_Palace_1_-_2_Arsenal/Labels-v2.json\n"
     ]
    },
    {
     "name": "stderr",
     "output_type": "stream",
     "text": [
      "647it [00:00, 1267.79it/s]"
     ]
    },
    {
     "name": "stdout",
     "output_type": "stream",
     "text": [
      "/scratch/users/mdelabrassinne/Database/england_epl/2014-2015/2015-02-21_-_18-00_Swansea_2_-_1_Manchester_United/Labels-v2.json\n",
      "/scratch/users/mdelabrassinne/Database/england_epl/2014-2015/2015-02-22_-_19-15_Southampton_0_-_2_Liverpool/Labels-v2.json\n"
     ]
    },
    {
     "name": "stderr",
     "output_type": "stream",
     "text": [
      "908it [00:00, 1286.64it/s]"
     ]
    },
    {
     "name": "stdout",
     "output_type": "stream",
     "text": [
      "/scratch/users/mdelabrassinne/Database/england_epl/2014-2015/2015-04-11_-_19-30_Burnley_0_-_1_Arsenal/Labels-v2.json\n",
      "/scratch/users/mdelabrassinne/Database/england_epl/2014-2015/2015-05-17_-_18-00_Manchester_United_1_-_1_Arsenal/Labels-v2.json\n"
     ]
    },
    {
     "name": "stderr",
     "output_type": "stream",
     "text": [
      "1310it [00:01, 1324.26it/s]"
     ]
    },
    {
     "name": "stdout",
     "output_type": "stream",
     "text": [
      "/scratch/users/mdelabrassinne/Database/england_epl/2014-2015/2015-02-21 - 18-00 Chelsea 1 - 1 Burnley/1_baidu_soccer_embeddings.npy\n",
      "/scratch/users/mdelabrassinne/Database/england_epl/2014-2015/2015-02-21 - 18-00 Chelsea 1 - 1 Burnley/2_baidu_soccer_embeddings.npy\n",
      "/scratch/users/mdelabrassinne/Database/england_epl/2014-2015/2015-02-21 - 18-00 Crystal Palace 1 - 2 Arsenal/1_baidu_soccer_embeddings.npy\n",
      "/scratch/users/mdelabrassinne/Database/england_epl/2014-2015/2015-02-21 - 18-00 Crystal Palace 1 - 2 Arsenal/2_baidu_soccer_embeddings.npy\n",
      "/scratch/users/mdelabrassinne/Database/england_epl/2014-2015/2015-02-21 - 18-00 Swansea 2 - 1 Manchester United/1_baidu_soccer_embeddings.npy\n",
      "/scratch/users/mdelabrassinne/Database/england_epl/2014-2015/2015-02-21 - 18-00 Swansea 2 - 1 Manchester United/2_baidu_soccer_embeddings.npy\n",
      "/scratch/users/mdelabrassinne/Database/england_epl/2014-2015/2015-02-22 - 19-15 Southampton 0 - 2 Liverpool/1_baidu_soccer_embeddings.npy\n",
      "/scratch/users/mdelabrassinne/Database/england_epl/2014-2015/2015-02-22 - 19-15 Southampton 0 - 2 Liverpool/2_baidu_soccer_embeddings.npy\n",
      "/scratch/users/mdelabrassinne/Database/england_epl/2014-2015/2015-04-11 - 19-30 Burnley 0 - 1 Arsenal/1_baidu_soccer_embeddings.npy\n",
      "/scratch/users/mdelabrassinne/Database/england_epl/2014-2015/2015-04-11 - 19-30 Burnley 0 - 1 Arsenal/2_baidu_soccer_embeddings.npy\n",
      "/scratch/users/mdelabrassinne/Database/england_epl/2014-2015/2015-05-17 - 18-00 Manchester United 1 - 1 Arsenal/1_baidu_soccer_embeddings.npy\n",
      "/scratch/users/mdelabrassinne/Database/england_epl/2014-2015/2015-05-17 - 18-00 Manchester United 1 - 1 Arsenal/2_baidu_soccer_embeddings.npy\n",
      "/scratch/users/mdelabrassinne/Database/england_epl/2015-2016/2015-09-19_-_19-30_Manchester_City_1_-_2_West_Ham/Labels-v2.json\n",
      "/scratch/users/mdelabrassinne/Database/england_epl/2015-2016/2015-09-26_-_17-00_Liverpool_3_-_2_Aston_Villa/Labels-v2.json\n"
     ]
    },
    {
     "name": "stderr",
     "output_type": "stream",
     "text": [
      "1717it [00:01, 1337.94it/s]"
     ]
    },
    {
     "name": "stdout",
     "output_type": "stream",
     "text": [
      "/scratch/users/mdelabrassinne/Database/england_epl/2015-2016/2015-10-17_-_17-00_Chelsea_2_-_0_Aston_Villa/Labels-v2.json\n",
      "/scratch/users/mdelabrassinne/Database/england_epl/2015-2016/2015-10-31_-_15-45_Chelsea_1_-_3_Liverpool/Labels-v2.json\n"
     ]
    },
    {
     "name": "stderr",
     "output_type": "stream",
     "text": [
      "2115it [00:01, 1302.63it/s]"
     ]
    },
    {
     "name": "stdout",
     "output_type": "stream",
     "text": [
      "/scratch/users/mdelabrassinne/Database/england_epl/2015-2016/2015-11-07_-_18-00_Manchester_United_2_-_0_West_Brom/Labels-v2.json\n",
      "/scratch/users/mdelabrassinne/Database/england_epl/2015-2016/2015-11-21_-_20-30_Manchester_City_1_-_4_Liverpool/Labels-v2.json\n"
     ]
    },
    {
     "name": "stderr",
     "output_type": "stream",
     "text": [
      "2520it [00:01, 1334.71it/s]"
     ]
    },
    {
     "name": "stdout",
     "output_type": "stream",
     "text": [
      "/scratch/users/mdelabrassinne/Database/england_epl/2015-2016/2015-11-29_-_15-00_Tottenham_0_-_0_Chelsea/Labels-v2.json\n",
      "/scratch/users/mdelabrassinne/Database/england_epl/2015-2016/2015-12-05_-_20-30_Chelsea_0_-_1_Bournemouth/Labels-v2.json\n"
     ]
    },
    {
     "name": "stderr",
     "output_type": "stream",
     "text": [
      "2925it [00:02, 1333.68it/s]"
     ]
    },
    {
     "name": "stdout",
     "output_type": "stream",
     "text": [
      "/scratch/users/mdelabrassinne/Database/england_epl/2015-2016/2015-12-19_-_18-00_Chelsea_3_-_1_Sunderland/Labels-v2.json\n",
      "/scratch/users/mdelabrassinne/Database/england_epl/2015-2016/2015-12-26_-_18-00_Manchester_City_4_-_1_Sunderland/Labels-v2.json\n"
     ]
    },
    {
     "name": "stderr",
     "output_type": "stream",
     "text": [
      "3200it [00:02, 1350.18it/s]"
     ]
    },
    {
     "name": "stdout",
     "output_type": "stream",
     "text": [
      "/scratch/users/mdelabrassinne/Database/england_epl/2015-2016/2016-01-03_-_16-30_Crystal_Palace_0_-_3_Chelsea/Labels-v2.json\n",
      "/scratch/users/mdelabrassinne/Database/england_epl/2015-2016/2016-01-13_-_22-45_Chelsea_2_-_2_West_Brom/Labels-v2.json\n"
     ]
    },
    {
     "name": "stderr",
     "output_type": "stream",
     "text": [
      "3619it [00:02, 1378.11it/s]"
     ]
    },
    {
     "name": "stdout",
     "output_type": "stream",
     "text": [
      "/scratch/users/mdelabrassinne/Database/england_epl/2015-2016/2016-02-07_-_19-00_Chelsea_1_-_1_Manchester_United/Labels-v2.json\n",
      "/scratch/users/mdelabrassinne/Database/england_epl/2015-2016/2016-02-14_-_19-15_Manchester_City_1_-_2_Tottenham/Labels-v2.json\n"
     ]
    },
    {
     "name": "stderr",
     "output_type": "stream",
     "text": [
      "4039it [00:03, 1383.44it/s]"
     ]
    },
    {
     "name": "stdout",
     "output_type": "stream",
     "text": [
      "/scratch/users/mdelabrassinne/Database/england_epl/2015-2016/2016-03-02_-_23-00_Liverpool_3_-_0_Manchester_City/Labels-v2.json\n",
      "/scratch/users/mdelabrassinne/Database/england_epl/2015-2016/2016-03-05_-_18-00_Chelsea_1_-_1_Stoke_City/Labels-v2.json\n"
     ]
    },
    {
     "name": "stderr",
     "output_type": "stream",
     "text": [
      "4322it [00:03, 1393.92it/s]"
     ]
    },
    {
     "name": "stdout",
     "output_type": "stream",
     "text": [
      "/scratch/users/mdelabrassinne/Database/england_epl/2015-2016/2016-03-19_-_18-00_Chelsea_2_-_2_West_Ham/Labels-v2.json\n",
      "/scratch/users/mdelabrassinne/Database/england_epl/2015-2016/2016-04-09_-_17-00_Swansea_1_-_0_Chelsea/Labels-v2.json\n"
     ]
    },
    {
     "name": "stderr",
     "output_type": "stream",
     "text": [
      "4740it [00:03, 1380.33it/s]"
     ]
    },
    {
     "name": "stdout",
     "output_type": "stream",
     "text": [
      "/scratch/users/mdelabrassinne/Database/england_epl/2015-2016/2016-04-09_-_19-30_Manchester_City_2_-_1_West_Brom/Labels-v2.json\n",
      "/scratch/users/mdelabrassinne/Database/england_epl/2015-2016/2016-05-07_-_17-00_Sunderland_3_-_2_Chelsea/Labels-v2.json\n"
     ]
    },
    {
     "name": "stderr",
     "output_type": "stream",
     "text": [
      "5023it [00:03, 1390.64it/s]"
     ]
    },
    {
     "name": "stdout",
     "output_type": "stream",
     "text": [
      "/scratch/users/mdelabrassinne/Database/england_epl/2015-2016/2015-08-30_-_18-00_Swansea_2_-_1_Manchester_United/Labels-v2.json\n",
      "/scratch/users/mdelabrassinne/Database/england_epl/2015-2016/2015-09-26_-_17-00_Leicester_2_-_5_Arsenal/Labels-v2.json\n"
     ]
    },
    {
     "name": "stderr",
     "output_type": "stream",
     "text": [
      "5449it [00:04, 1381.85it/s]"
     ]
    },
    {
     "name": "stdout",
     "output_type": "stream",
     "text": [
      "/scratch/users/mdelabrassinne/Database/england_epl/2015-2016/2015-09-26_-_17-00_Manchester_United_3_-_0_Sunderland/Labels-v2.json\n",
      "/scratch/users/mdelabrassinne/Database/england_epl/2015-2016/2015-10-03_-_17-00_Manchester_City_6_-_1_Newcastle_Utd/Labels-v2.json\n"
     ]
    },
    {
     "name": "stderr",
     "output_type": "stream",
     "text": [
      "5732it [00:04, 1392.99it/s]"
     ]
    },
    {
     "name": "stdout",
     "output_type": "stream",
     "text": [
      "/scratch/users/mdelabrassinne/Database/england_epl/2015-2016/2015-12-26_-_18-00_Chelsea_2_-_2_Watford/Labels-v2.json\n",
      "/scratch/users/mdelabrassinne/Database/england_epl/2015-2016/2016-01-23_-_20-30_West_Ham_2_-_2_Manchester_City/Labels-v2.json\n"
     ]
    },
    {
     "name": "stderr",
     "output_type": "stream",
     "text": [
      "6155it [00:04, 1385.51it/s]"
     ]
    },
    {
     "name": "stdout",
     "output_type": "stream",
     "text": [
      "/scratch/users/mdelabrassinne/Database/england_epl/2015-2016/2016-01-24_-_19-00_Arsenal_0_-_1_Chelsea/Labels-v2.json\n",
      "/scratch/users/mdelabrassinne/Database/england_epl/2015-2016/2016-02-13_-_20-30_Chelsea_5_-_1_Newcastle_Utd/Labels-v2.json\n"
     ]
    },
    {
     "name": "stderr",
     "output_type": "stream",
     "text": [
      "6430it [00:04, 1324.21it/s]"
     ]
    },
    {
     "name": "stdout",
     "output_type": "stream",
     "text": [
      "/scratch/users/mdelabrassinne/Database/england_epl/2015-2016/2016-02-27_-_18-00_Southampton_1_-_2_Chelsea/Labels-v2.json\n",
      "/scratch/users/mdelabrassinne/Database/england_epl/2015-2016/2016-03-05_-_18-00_Manchester_City_4_-_0_Aston_Villa/Labels-v2.json\n"
     ]
    },
    {
     "name": "stderr",
     "output_type": "stream",
     "text": [
      "6691it [00:05, 1240.24it/s]"
     ]
    },
    {
     "name": "stdout",
     "output_type": "stream",
     "text": [
      "/scratch/users/mdelabrassinne/Database/england_epl/2015-2016/2016-03-20_-_19-00_Manchester_City_0_-_1_Manchester_United/Labels-v2.json\n",
      "/scratch/users/mdelabrassinne/Database/england_epl/2015-2016/2016-04-23_-_17-00_Bournemouth_1_-_4_Chelsea/Labels-v2.json\n"
     ]
    },
    {
     "name": "stderr",
     "output_type": "stream",
     "text": [
      "7091it [00:05, 1305.06it/s]"
     ]
    },
    {
     "name": "stdout",
     "output_type": "stream",
     "text": [
      "/scratch/users/mdelabrassinne/Database/england_epl/2015-2016/2015-08-16_-_18-00_Manchester_City_3_-_0_Chelsea/Labels-v2.json\n",
      "/scratch/users/mdelabrassinne/Database/england_epl/2015-2016/2015-08-23_-_15-30_West_Brom_2_-_3_Chelsea/Labels-v2.json\n"
     ]
    },
    {
     "name": "stderr",
     "output_type": "stream",
     "text": [
      "7494it [00:05, 1327.92it/s]"
     ]
    },
    {
     "name": "stdout",
     "output_type": "stream",
     "text": [
      "/scratch/users/mdelabrassinne/Database/england_epl/2015-2016/2015-08-29_-_17-00_Liverpool_0_-_3_West_Ham/Labels-v2.json\n",
      "/scratch/users/mdelabrassinne/Database/england_epl/2015-2016/2015-09-20_-_18-00_Southampton_2_-_3_Manchester_United/Labels-v2.json\n"
     ]
    },
    {
     "name": "stderr",
     "output_type": "stream",
     "text": [
      "7897it [00:05, 1328.01it/s]"
     ]
    },
    {
     "name": "stdout",
     "output_type": "stream",
     "text": [
      "/scratch/users/mdelabrassinne/Database/england_epl/2015-2016/2015-09-26_-_19-30_Newcastle_Utd_2_-_2_Chelsea/Labels-v2.json\n",
      "/scratch/users/mdelabrassinne/Database/england_epl/2015-2016/2015-10-03_-_19-30_Chelsea_1_-_3_Southampton/Labels-v2.json\n"
     ]
    },
    {
     "name": "stderr",
     "output_type": "stream",
     "text": [
      "8310it [00:06, 1359.08it/s]"
     ]
    },
    {
     "name": "stdout",
     "output_type": "stream",
     "text": [
      "/scratch/users/mdelabrassinne/Database/england_epl/2015-2016/2015-10-24_-_17-00_West_Ham_2_-_1_Chelsea/Labels-v2.json\n",
      "/scratch/users/mdelabrassinne/Database/england_epl/2015-2016/2015-11-07_-_20-30_Stoke_City_1_-_0_Chelsea/Labels-v2.json\n"
     ]
    },
    {
     "name": "stderr",
     "output_type": "stream",
     "text": [
      "8729it [00:06, 1367.89it/s]"
     ]
    },
    {
     "name": "stdout",
     "output_type": "stream",
     "text": [
      "/scratch/users/mdelabrassinne/Database/england_epl/2015-2016/2015-11-08_-_19-00_Arsenal_1_-_1_Tottenham/Labels-v2.json\n",
      "/scratch/users/mdelabrassinne/Database/england_epl/2015-2016/2015-12-28_-_20-30_Manchester_United_0_-_0_Chelsea/Labels-v2.json\n"
     ]
    },
    {
     "name": "stderr",
     "output_type": "stream",
     "text": [
      "9148it [00:06, 1370.66it/s]"
     ]
    },
    {
     "name": "stdout",
     "output_type": "stream",
     "text": [
      "/scratch/users/mdelabrassinne/Database/england_epl/2015-2016/2016-02-03_-_22-45_Watford_0_-_0_Chelsea/Labels-v2.json\n",
      "/scratch/users/mdelabrassinne/Database/england_epl/2015-2016/2016-03-01_-_22-45_Norwich_1_-_2_Chelsea/Labels-v2.json\n"
     ]
    },
    {
     "name": "stderr",
     "output_type": "stream",
     "text": [
      "9562it [00:07, 1366.73it/s]"
     ]
    },
    {
     "name": "stdout",
     "output_type": "stream",
     "text": [
      "/scratch/users/mdelabrassinne/Database/england_epl/2015-2016/2015-08-08_-_19-30_Chelsea_2_-_2_Swansea/Labels-v2.json\n",
      "/scratch/users/mdelabrassinne/Database/england_epl/2015-2016/2015-08-29_-_17-00_Chelsea_1_-_2_Crystal_Palace/Labels-v2.json\n"
     ]
    },
    {
     "name": "stderr",
     "output_type": "stream",
     "text": [
      "9974it [00:07, 1348.38it/s]"
     ]
    },
    {
     "name": "stdout",
     "output_type": "stream",
     "text": [
      "/scratch/users/mdelabrassinne/Database/england_epl/2015-2016/2015-08-29_-_17-00_Manchester_City_2_-_0_Watford/Labels-v2.json\n",
      "/scratch/users/mdelabrassinne/Database/england_epl/2015-2016/2015-09-12_-_14-45_Everton_3_-_1_Chelsea/Labels-v2.json\n"
     ]
    },
    {
     "name": "stderr",
     "output_type": "stream",
     "text": [
      "10390it [00:07, 1374.49it/s]"
     ]
    },
    {
     "name": "stdout",
     "output_type": "stream",
     "text": [
      "/scratch/users/mdelabrassinne/Database/england_epl/2015-2016/2015-09-12_-_17-00_Crystal_Palace_0_-_1_Manchester_City/Labels-v2.json\n",
      "/scratch/users/mdelabrassinne/Database/england_epl/2015-2016/2015-08-08 - 19-30 Chelsea 2 - 2 Swansea/1_baidu_soccer_embeddings.npy\n",
      "/scratch/users/mdelabrassinne/Database/england_epl/2015-2016/2015-08-08 - 19-30 Chelsea 2 - 2 Swansea/2_baidu_soccer_embeddings.npy\n",
      "/scratch/users/mdelabrassinne/Database/england_epl/2015-2016/2015-08-29 - 17-00 Chelsea 1 - 2 Crystal Palace/1_baidu_soccer_embeddings.npy\n",
      "/scratch/users/mdelabrassinne/Database/england_epl/2015-2016/2015-08-29 - 17-00 Chelsea 1 - 2 Crystal Palace/2_baidu_soccer_embeddings.npy\n",
      "/scratch/users/mdelabrassinne/Database/england_epl/2015-2016/2015-08-29 - 17-00 Manchester City 2 - 0 Watford/1_baidu_soccer_embeddings.npy\n",
      "/scratch/users/mdelabrassinne/Database/england_epl/2015-2016/2015-08-29 - 17-00 Manchester City 2 - 0 Watford/2_baidu_soccer_embeddings.npy\n",
      "/scratch/users/mdelabrassinne/Database/england_epl/2015-2016/2015-09-12 - 14-45 Everton 3 - 1 Chelsea/1_baidu_soccer_embeddings.npy\n",
      "/scratch/users/mdelabrassinne/Database/england_epl/2015-2016/2015-09-12 - 14-45 Everton 3 - 1 Chelsea/2_baidu_soccer_embeddings.npy\n",
      "/scratch/users/mdelabrassinne/Database/england_epl/2015-2016/2015-09-12 - 17-00 Crystal Palace 0 - 1 Manchester City/1_baidu_soccer_embeddings.npy\n",
      "/scratch/users/mdelabrassinne/Database/england_epl/2015-2016/2015-09-12 - 17-00 Crystal Palace 0 - 1 Manchester City/2_baidu_soccer_embeddings.npy\n",
      "/scratch/users/mdelabrassinne/Database/england_epl/2015-2016/2015-09-19 - 19-30 Manchester City 1 - 2 West Ham/1_baidu_soccer_embeddings.npy\n",
      "/scratch/users/mdelabrassinne/Database/england_epl/2015-2016/2015-09-19 - 19-30 Manchester City 1 - 2 West Ham/2_baidu_soccer_embeddings.npy\n",
      "/scratch/users/mdelabrassinne/Database/england_epl/2015-2016/2015-09-26 - 17-00 Liverpool 3 - 2 Aston Villa/1_baidu_soccer_embeddings.npy\n",
      "/scratch/users/mdelabrassinne/Database/england_epl/2015-2016/2015-09-26 - 17-00 Liverpool 3 - 2 Aston Villa/2_baidu_soccer_embeddings.npy\n",
      "/scratch/users/mdelabrassinne/Database/england_epl/2015-2016/2015-10-17 - 17-00 Chelsea 2 - 0 Aston Villa/1_baidu_soccer_embeddings.npy\n",
      "/scratch/users/mdelabrassinne/Database/england_epl/2015-2016/2015-10-17 - 17-00 Chelsea 2 - 0 Aston Villa/2_baidu_soccer_embeddings.npy\n",
      "/scratch/users/mdelabrassinne/Database/england_epl/2015-2016/2015-10-31 - 15-45 Chelsea 1 - 3 Liverpool/1_baidu_soccer_embeddings.npy\n",
      "/scratch/users/mdelabrassinne/Database/england_epl/2015-2016/2015-10-31 - 15-45 Chelsea 1 - 3 Liverpool/2_baidu_soccer_embeddings.npy\n",
      "/scratch/users/mdelabrassinne/Database/england_epl/2015-2016/2015-11-07 - 18-00 Manchester United 2 - 0 West Brom/1_baidu_soccer_embeddings.npy\n",
      "/scratch/users/mdelabrassinne/Database/england_epl/2015-2016/2015-11-07 - 18-00 Manchester United 2 - 0 West Brom/2_baidu_soccer_embeddings.npy\n",
      "/scratch/users/mdelabrassinne/Database/england_epl/2015-2016/2015-11-21 - 20-30 Manchester City 1 - 4 Liverpool/1_baidu_soccer_embeddings.npy\n",
      "/scratch/users/mdelabrassinne/Database/england_epl/2015-2016/2015-11-21 - 20-30 Manchester City 1 - 4 Liverpool/2_baidu_soccer_embeddings.npy\n",
      "/scratch/users/mdelabrassinne/Database/england_epl/2015-2016/2015-11-29 - 15-00 Tottenham 0 - 0 Chelsea/1_baidu_soccer_embeddings.npy\n",
      "/scratch/users/mdelabrassinne/Database/england_epl/2015-2016/2015-11-29 - 15-00 Tottenham 0 - 0 Chelsea/2_baidu_soccer_embeddings.npy\n",
      "/scratch/users/mdelabrassinne/Database/england_epl/2015-2016/2015-12-05 - 20-30 Chelsea 0 - 1 Bournemouth/1_baidu_soccer_embeddings.npy\n",
      "/scratch/users/mdelabrassinne/Database/england_epl/2015-2016/2015-12-05 - 20-30 Chelsea 0 - 1 Bournemouth/2_baidu_soccer_embeddings.npy\n",
      "/scratch/users/mdelabrassinne/Database/england_epl/2015-2016/2015-12-19 - 18-00 Chelsea 3 - 1 Sunderland/1_baidu_soccer_embeddings.npy\n",
      "/scratch/users/mdelabrassinne/Database/england_epl/2015-2016/2015-12-19 - 18-00 Chelsea 3 - 1 Sunderland/2_baidu_soccer_embeddings.npy\n",
      "/scratch/users/mdelabrassinne/Database/england_epl/2015-2016/2015-12-26 - 18-00 Manchester City 4 - 1 Sunderland/1_baidu_soccer_embeddings.npy\n",
      "/scratch/users/mdelabrassinne/Database/england_epl/2015-2016/2015-12-26 - 18-00 Manchester City 4 - 1 Sunderland/2_baidu_soccer_embeddings.npy\n",
      "/scratch/users/mdelabrassinne/Database/england_epl/2015-2016/2016-01-03 - 16-30 Crystal Palace 0 - 3 Chelsea/1_baidu_soccer_embeddings.npy\n",
      "/scratch/users/mdelabrassinne/Database/england_epl/2015-2016/2016-01-03 - 16-30 Crystal Palace 0 - 3 Chelsea/2_baidu_soccer_embeddings.npy\n",
      "/scratch/users/mdelabrassinne/Database/england_epl/2015-2016/2016-01-13 - 22-45 Chelsea 2 - 2 West Brom/1_baidu_soccer_embeddings.npy\n",
      "/scratch/users/mdelabrassinne/Database/england_epl/2015-2016/2016-01-13 - 22-45 Chelsea 2 - 2 West Brom/2_baidu_soccer_embeddings.npy\n",
      "/scratch/users/mdelabrassinne/Database/england_epl/2015-2016/2016-02-07 - 19-00 Chelsea 1 - 1 Manchester United/1_baidu_soccer_embeddings.npy\n",
      "/scratch/users/mdelabrassinne/Database/england_epl/2015-2016/2016-02-07 - 19-00 Chelsea 1 - 1 Manchester United/2_baidu_soccer_embeddings.npy\n",
      "/scratch/users/mdelabrassinne/Database/england_epl/2015-2016/2016-02-14 - 19-15 Manchester City 1 - 2 Tottenham/1_baidu_soccer_embeddings.npy\n",
      "/scratch/users/mdelabrassinne/Database/england_epl/2015-2016/2016-02-14 - 19-15 Manchester City 1 - 2 Tottenham/2_baidu_soccer_embeddings.npy\n",
      "/scratch/users/mdelabrassinne/Database/england_epl/2015-2016/2016-03-02 - 23-00 Liverpool 3 - 0 Manchester City/1_baidu_soccer_embeddings.npy\n",
      "/scratch/users/mdelabrassinne/Database/england_epl/2015-2016/2016-03-02 - 23-00 Liverpool 3 - 0 Manchester City/2_baidu_soccer_embeddings.npy\n",
      "/scratch/users/mdelabrassinne/Database/england_epl/2015-2016/2016-03-05 - 18-00 Chelsea 1 - 1 Stoke City/1_baidu_soccer_embeddings.npy\n",
      "/scratch/users/mdelabrassinne/Database/england_epl/2015-2016/2016-03-05 - 18-00 Chelsea 1 - 1 Stoke City/2_baidu_soccer_embeddings.npy\n",
      "/scratch/users/mdelabrassinne/Database/england_epl/2015-2016/2016-03-19 - 18-00 Chelsea 2 - 2 West Ham/1_baidu_soccer_embeddings.npy\n",
      "/scratch/users/mdelabrassinne/Database/england_epl/2015-2016/2016-03-19 - 18-00 Chelsea 2 - 2 West Ham/2_baidu_soccer_embeddings.npy\n",
      "/scratch/users/mdelabrassinne/Database/england_epl/2015-2016/2016-04-09 - 17-00 Swansea 1 - 0 Chelsea/1_baidu_soccer_embeddings.npy\n",
      "/scratch/users/mdelabrassinne/Database/england_epl/2015-2016/2016-04-09 - 17-00 Swansea 1 - 0 Chelsea/2_baidu_soccer_embeddings.npy\n",
      "/scratch/users/mdelabrassinne/Database/england_epl/2015-2016/2016-04-09 - 19-30 Manchester City 2 - 1 West Brom/1_baidu_soccer_embeddings.npy\n",
      "/scratch/users/mdelabrassinne/Database/england_epl/2015-2016/2016-04-09 - 19-30 Manchester City 2 - 1 West Brom/2_baidu_soccer_embeddings.npy\n",
      "/scratch/users/mdelabrassinne/Database/england_epl/2015-2016/2016-05-07 - 17-00 Sunderland 3 - 2 Chelsea/1_baidu_soccer_embeddings.npy\n",
      "/scratch/users/mdelabrassinne/Database/england_epl/2015-2016/2016-05-07 - 17-00 Sunderland 3 - 2 Chelsea/2_baidu_soccer_embeddings.npy\n",
      "/scratch/users/mdelabrassinne/Database/england_epl/2015-2016/2015-08-30 - 18-00 Swansea 2 - 1 Manchester United/1_baidu_soccer_embeddings.npy\n",
      "/scratch/users/mdelabrassinne/Database/england_epl/2015-2016/2015-08-30 - 18-00 Swansea 2 - 1 Manchester United/2_baidu_soccer_embeddings.npy\n",
      "/scratch/users/mdelabrassinne/Database/england_epl/2015-2016/2015-09-26 - 17-00 Leicester 2 - 5 Arsenal/1_baidu_soccer_embeddings.npy\n",
      "/scratch/users/mdelabrassinne/Database/england_epl/2015-2016/2015-09-26 - 17-00 Leicester 2 - 5 Arsenal/2_baidu_soccer_embeddings.npy\n",
      "/scratch/users/mdelabrassinne/Database/england_epl/2015-2016/2015-09-26 - 17-00 Manchester United 3 - 0 Sunderland/1_baidu_soccer_embeddings.npy\n",
      "/scratch/users/mdelabrassinne/Database/england_epl/2015-2016/2015-09-26 - 17-00 Manchester United 3 - 0 Sunderland/2_baidu_soccer_embeddings.npy\n",
      "/scratch/users/mdelabrassinne/Database/england_epl/2015-2016/2015-10-03 - 17-00 Manchester City 6 - 1 Newcastle Utd/1_baidu_soccer_embeddings.npy\n",
      "/scratch/users/mdelabrassinne/Database/england_epl/2015-2016/2015-10-03 - 17-00 Manchester City 6 - 1 Newcastle Utd/2_baidu_soccer_embeddings.npy\n",
      "/scratch/users/mdelabrassinne/Database/england_epl/2015-2016/2015-12-26 - 18-00 Chelsea 2 - 2 Watford/1_baidu_soccer_embeddings.npy\n",
      "/scratch/users/mdelabrassinne/Database/england_epl/2015-2016/2015-12-26 - 18-00 Chelsea 2 - 2 Watford/2_baidu_soccer_embeddings.npy\n",
      "/scratch/users/mdelabrassinne/Database/england_epl/2015-2016/2016-01-23 - 20-30 West Ham 2 - 2 Manchester City/1_baidu_soccer_embeddings.npy\n",
      "/scratch/users/mdelabrassinne/Database/england_epl/2015-2016/2016-01-23 - 20-30 West Ham 2 - 2 Manchester City/2_baidu_soccer_embeddings.npy\n",
      "/scratch/users/mdelabrassinne/Database/england_epl/2015-2016/2016-01-24 - 19-00 Arsenal 0 - 1 Chelsea/1_baidu_soccer_embeddings.npy\n",
      "/scratch/users/mdelabrassinne/Database/england_epl/2015-2016/2016-01-24 - 19-00 Arsenal 0 - 1 Chelsea/2_baidu_soccer_embeddings.npy\n",
      "/scratch/users/mdelabrassinne/Database/england_epl/2015-2016/2016-02-13 - 20-30 Chelsea 5 - 1 Newcastle Utd/1_baidu_soccer_embeddings.npy\n",
      "/scratch/users/mdelabrassinne/Database/england_epl/2015-2016/2016-02-13 - 20-30 Chelsea 5 - 1 Newcastle Utd/2_baidu_soccer_embeddings.npy\n",
      "/scratch/users/mdelabrassinne/Database/england_epl/2015-2016/2016-02-27 - 18-00 Southampton 1 - 2 Chelsea/1_baidu_soccer_embeddings.npy\n",
      "/scratch/users/mdelabrassinne/Database/england_epl/2015-2016/2016-02-27 - 18-00 Southampton 1 - 2 Chelsea/2_baidu_soccer_embeddings.npy\n",
      "/scratch/users/mdelabrassinne/Database/england_epl/2015-2016/2016-03-05 - 18-00 Manchester City 4 - 0 Aston Villa/1_baidu_soccer_embeddings.npy\n",
      "/scratch/users/mdelabrassinne/Database/england_epl/2015-2016/2016-03-05 - 18-00 Manchester City 4 - 0 Aston Villa/2_baidu_soccer_embeddings.npy\n",
      "/scratch/users/mdelabrassinne/Database/england_epl/2015-2016/2016-03-20 - 19-00 Manchester City 0 - 1 Manchester United/1_baidu_soccer_embeddings.npy\n",
      "/scratch/users/mdelabrassinne/Database/england_epl/2015-2016/2016-03-20 - 19-00 Manchester City 0 - 1 Manchester United/2_baidu_soccer_embeddings.npy\n",
      "/scratch/users/mdelabrassinne/Database/england_epl/2015-2016/2016-04-23 - 17-00 Bournemouth 1 - 4 Chelsea/1_baidu_soccer_embeddings.npy\n",
      "/scratch/users/mdelabrassinne/Database/england_epl/2015-2016/2016-04-23 - 17-00 Bournemouth 1 - 4 Chelsea/2_baidu_soccer_embeddings.npy\n",
      "/scratch/users/mdelabrassinne/Database/england_epl/2015-2016/2015-08-16 - 18-00 Manchester City 3 - 0 Chelsea/1_baidu_soccer_embeddings.npy\n",
      "/scratch/users/mdelabrassinne/Database/england_epl/2015-2016/2015-08-16 - 18-00 Manchester City 3 - 0 Chelsea/2_baidu_soccer_embeddings.npy\n",
      "/scratch/users/mdelabrassinne/Database/england_epl/2015-2016/2015-08-23 - 15-30 West Brom 2 - 3 Chelsea/1_baidu_soccer_embeddings.npy\n",
      "/scratch/users/mdelabrassinne/Database/england_epl/2015-2016/2015-08-23 - 15-30 West Brom 2 - 3 Chelsea/2_baidu_soccer_embeddings.npy\n",
      "/scratch/users/mdelabrassinne/Database/england_epl/2015-2016/2015-08-29 - 17-00 Liverpool 0 - 3 West Ham/1_baidu_soccer_embeddings.npy\n",
      "/scratch/users/mdelabrassinne/Database/england_epl/2015-2016/2015-08-29 - 17-00 Liverpool 0 - 3 West Ham/2_baidu_soccer_embeddings.npy\n",
      "/scratch/users/mdelabrassinne/Database/england_epl/2015-2016/2015-09-20 - 18-00 Southampton 2 - 3 Manchester United/1_baidu_soccer_embeddings.npy\n",
      "/scratch/users/mdelabrassinne/Database/england_epl/2015-2016/2015-09-20 - 18-00 Southampton 2 - 3 Manchester United/2_baidu_soccer_embeddings.npy\n",
      "/scratch/users/mdelabrassinne/Database/england_epl/2015-2016/2015-09-26 - 19-30 Newcastle Utd 2 - 2 Chelsea/1_baidu_soccer_embeddings.npy\n",
      "/scratch/users/mdelabrassinne/Database/england_epl/2015-2016/2015-09-26 - 19-30 Newcastle Utd 2 - 2 Chelsea/2_baidu_soccer_embeddings.npy\n",
      "/scratch/users/mdelabrassinne/Database/england_epl/2015-2016/2015-10-03 - 19-30 Chelsea 1 - 3 Southampton/1_baidu_soccer_embeddings.npy\n",
      "/scratch/users/mdelabrassinne/Database/england_epl/2015-2016/2015-10-03 - 19-30 Chelsea 1 - 3 Southampton/2_baidu_soccer_embeddings.npy\n",
      "/scratch/users/mdelabrassinne/Database/england_epl/2015-2016/2015-10-24 - 17-00 West Ham 2 - 1 Chelsea/1_baidu_soccer_embeddings.npy\n",
      "/scratch/users/mdelabrassinne/Database/england_epl/2015-2016/2015-10-24 - 17-00 West Ham 2 - 1 Chelsea/2_baidu_soccer_embeddings.npy\n",
      "/scratch/users/mdelabrassinne/Database/england_epl/2015-2016/2015-11-07 - 20-30 Stoke City 1 - 0 Chelsea/1_baidu_soccer_embeddings.npy\n",
      "/scratch/users/mdelabrassinne/Database/england_epl/2015-2016/2015-11-07 - 20-30 Stoke City 1 - 0 Chelsea/2_baidu_soccer_embeddings.npy\n",
      "/scratch/users/mdelabrassinne/Database/england_epl/2015-2016/2015-11-08 - 19-00 Arsenal 1 - 1 Tottenham/1_baidu_soccer_embeddings.npy\n",
      "/scratch/users/mdelabrassinne/Database/england_epl/2015-2016/2015-11-08 - 19-00 Arsenal 1 - 1 Tottenham/2_baidu_soccer_embeddings.npy\n",
      "/scratch/users/mdelabrassinne/Database/england_epl/2015-2016/2015-12-28 - 20-30 Manchester United 0 - 0 Chelsea/1_baidu_soccer_embeddings.npy\n",
      "/scratch/users/mdelabrassinne/Database/england_epl/2015-2016/2015-12-28 - 20-30 Manchester United 0 - 0 Chelsea/2_baidu_soccer_embeddings.npy\n",
      "/scratch/users/mdelabrassinne/Database/england_epl/2015-2016/2016-02-03 - 22-45 Watford 0 - 0 Chelsea/1_baidu_soccer_embeddings.npy\n",
      "/scratch/users/mdelabrassinne/Database/england_epl/2015-2016/2016-02-03 - 22-45 Watford 0 - 0 Chelsea/2_baidu_soccer_embeddings.npy\n",
      "/scratch/users/mdelabrassinne/Database/england_epl/2015-2016/2016-03-01 - 22-45 Norwich 1 - 2 Chelsea/1_baidu_soccer_embeddings.npy\n",
      "/scratch/users/mdelabrassinne/Database/england_epl/2015-2016/2016-03-01 - 22-45 Norwich 1 - 2 Chelsea/2_baidu_soccer_embeddings.npy\n",
      "/scratch/users/mdelabrassinne/Database/england_epl/2016-2017/2016-10-17_-_22-00_Liverpool_0_-_0_Manchester_United/Labels-v2.json\n"
     ]
    },
    {
     "name": "stderr",
     "output_type": "stream",
     "text": [
      "10820it [00:08, 1393.40it/s]"
     ]
    },
    {
     "name": "stdout",
     "output_type": "stream",
     "text": [
      "/scratch/users/mdelabrassinne/Database/england_epl/2016-2017/2016-10-22_-_19-30_Liverpool_2_-_1_West_Brom/Labels-v2.json\n",
      "/scratch/users/mdelabrassinne/Database/england_epl/2016-2017/2016-10-29_-_14-30_Sunderland_1_-_4_Arsenal/Labels-v2.json\n"
     ]
    },
    {
     "name": "stderr",
     "output_type": "stream",
     "text": [
      "11106it [00:08, 1407.07it/s]"
     ]
    },
    {
     "name": "stdout",
     "output_type": "stream",
     "text": [
      "/scratch/users/mdelabrassinne/Database/england_epl/2016-2017/2016-10-29_-_17-00_Tottenham_1_-_1_Leicester/Labels-v2.json\n",
      "/scratch/users/mdelabrassinne/Database/england_epl/2016-2017/2016-11-06_-_17-15_Liverpool_6_-_1_Watford/Labels-v2.json\n"
     ]
    },
    {
     "name": "stderr",
     "output_type": "stream",
     "text": [
      "11523it [00:08, 1369.17it/s]"
     ]
    },
    {
     "name": "stdout",
     "output_type": "stream",
     "text": [
      "/scratch/users/mdelabrassinne/Database/england_epl/2016-2017/2016-11-06_-_19-30_Leicester_1_-_2_West_Brom/Labels-v2.json\n",
      "/scratch/users/mdelabrassinne/Database/england_epl/2016-2017/2016-11-19_-_18-00_Southampton_0_-_0_Liverpool/Labels-v2.json\n"
     ]
    },
    {
     "name": "stderr",
     "output_type": "stream",
     "text": [
      "11939it [00:08, 1346.36it/s]"
     ]
    },
    {
     "name": "stdout",
     "output_type": "stream",
     "text": [
      "/scratch/users/mdelabrassinne/Database/england_epl/2016-2017/2016-11-26_-_18-00_Liverpool_2_-_0_Sunderland/Labels-v2.json\n",
      "/scratch/users/mdelabrassinne/Database/england_epl/2016-2017/2016-12-10_-_20-30_Leicester_4_-_2_Manchester_City/Labels-v2.json\n"
     ]
    },
    {
     "name": "stderr",
     "output_type": "stream",
     "text": [
      "12340it [00:09, 1310.32it/s]"
     ]
    },
    {
     "name": "stdout",
     "output_type": "stream",
     "text": [
      "/scratch/users/mdelabrassinne/Database/england_epl/2016-2017/2016-12-11_-_19-30_Liverpool_2_-_2_West_Ham/Labels-v2.json\n",
      "/scratch/users/mdelabrassinne/Database/england_epl/2016-2017/2016-12-14_-_22-45_Middlesbrough_0_-_3_Liverpool/Labels-v2.json\n"
     ]
    },
    {
     "name": "stderr",
     "output_type": "stream",
     "text": [
      "12741it [00:09, 1316.01it/s]"
     ]
    },
    {
     "name": "stdout",
     "output_type": "stream",
     "text": [
      "/scratch/users/mdelabrassinne/Database/england_epl/2016-2017/2016-12-19_-_23-00_Everton_0_-_1_Liverpool/Labels-v2.json\n",
      "/scratch/users/mdelabrassinne/Database/england_epl/2016-2017/2016-12-27_-_20-15_Liverpool_4_-_1_Stoke_City/Labels-v2.json\n"
     ]
    },
    {
     "name": "stderr",
     "output_type": "stream",
     "text": [
      "13137it [00:09, 1265.59it/s]"
     ]
    },
    {
     "name": "stdout",
     "output_type": "stream",
     "text": [
      "/scratch/users/mdelabrassinne/Database/england_epl/2016-2017/2016-12-31_-_20-30_Liverpool_1_-_0_Manchester_City/Labels-v2.json\n",
      "/scratch/users/mdelabrassinne/Database/england_epl/2016-2017/2017-01-02_-_15-30_Middlesbrough_0_-_0_Leicester/Labels-v2.json\n"
     ]
    },
    {
     "name": "stderr",
     "output_type": "stream",
     "text": [
      "13529it [00:10, 1288.48it/s]"
     ]
    },
    {
     "name": "stdout",
     "output_type": "stream",
     "text": [
      "/scratch/users/mdelabrassinne/Database/england_epl/2016-2017/2017-01-02_-_18-00_Sunderland_2_-_2_Liverpool/Labels-v2.json\n",
      "/scratch/users/mdelabrassinne/Database/england_epl/2016-2017/2017-01-14_-_20-30_Leicester_0_-_3_Chelsea/Labels-v2.json\n"
     ]
    },
    {
     "name": "stderr",
     "output_type": "stream",
     "text": [
      "13927it [00:10, 1315.23it/s]"
     ]
    },
    {
     "name": "stdout",
     "output_type": "stream",
     "text": [
      "/scratch/users/mdelabrassinne/Database/england_epl/2016-2017/2017-01-15_-_19-00_Manchester_United_1_-_1_Liverpool/Labels-v2.json\n",
      "/scratch/users/mdelabrassinne/Database/england_epl/2016-2017/2017-01-31_-_23-00_Liverpool_1_-_1_Chelsea/Labels-v2.json\n"
     ]
    },
    {
     "name": "stderr",
     "output_type": "stream",
     "text": [
      "14332it [00:10, 1329.21it/s]"
     ]
    },
    {
     "name": "stdout",
     "output_type": "stream",
     "text": [
      "/scratch/users/mdelabrassinne/Database/england_epl/2016-2017/2017-02-27_-_23-00_Leicester_3_-_1_Liverpool/Labels-v2.json\n",
      "/scratch/users/mdelabrassinne/Database/england_epl/2016-2017/2017-04-26_-_21-45_Arsenal_1_-_0_Leicester/Labels-v2.json\n"
     ]
    },
    {
     "name": "stderr",
     "output_type": "stream",
     "text": [
      "14739it [00:11, 1323.99it/s]"
     ]
    },
    {
     "name": "stdout",
     "output_type": "stream",
     "text": [
      "/scratch/users/mdelabrassinne/Database/england_epl/2016-2017/2017-05-13_-_14-30_Manchester_City_2_-_1_Leicester/Labels-v2.json\n",
      "/scratch/users/mdelabrassinne/Database/england_epl/2016-2017/2016-10-01_-_14-30_Swansea_1_-_2_Liverpool/Labels-v2.json\n"
     ]
    },
    {
     "name": "stderr",
     "output_type": "stream",
     "text": [
      "15292it [00:11, 1358.18it/s]"
     ]
    },
    {
     "name": "stdout",
     "output_type": "stream",
     "text": [
      "/scratch/users/mdelabrassinne/Database/england_epl/2016-2017/2016-10-02_-_18-30_Burnley_0_-_1_Arsenal/Labels-v2.json\n",
      "/scratch/users/mdelabrassinne/Database/england_epl/2016-2017/2016-10-22_-_17-00_Arsenal_0_-_0_Middlesbrough/Labels-v2.json\n"
     ]
    },
    {
     "name": "stderr",
     "output_type": "stream",
     "text": [
      "15571it [00:11, 1371.39it/s]"
     ]
    },
    {
     "name": "stdout",
     "output_type": "stream",
     "text": [
      "/scratch/users/mdelabrassinne/Database/england_epl/2016-2017/2016-10-29_-_19-30_Crystal_Palace_2_-_4_Liverpool/Labels-v2.json\n",
      "/scratch/users/mdelabrassinne/Database/england_epl/2016-2017/2016-12-04_-_16-30_Bournemouth_4_-_3_Liverpool/Labels-v2.json\n"
     ]
    },
    {
     "name": "stderr",
     "output_type": "stream",
     "text": [
      "15982it [00:11, 1349.15it/s]"
     ]
    },
    {
     "name": "stdout",
     "output_type": "stream",
     "text": [
      "/scratch/users/mdelabrassinne/Database/england_epl/2016-2017/2017-04-09_-_18-00_Everton_4_-_2_Leicester/Labels-v2.json\n",
      "/scratch/users/mdelabrassinne/Database/england_epl/2016-2017/2016-08-27_-_14-30_Tottenham_1_-_1_Liverpool/Labels-v2.json\n"
     ]
    },
    {
     "name": "stderr",
     "output_type": "stream",
     "text": [
      "16391it [00:12, 1330.09it/s]"
     ]
    },
    {
     "name": "stdout",
     "output_type": "stream",
     "text": [
      "/scratch/users/mdelabrassinne/Database/england_epl/2016-2017/2016-09-24_-_14-30_Manchester_United_4_-_1_Leicester/Labels-v2.json\n",
      "/scratch/users/mdelabrassinne/Database/england_epl/2016-2017/2016-10-15_-_14-30_Chelsea_3_-_0_Leicester/Labels-v2.json\n"
     ]
    },
    {
     "name": "stderr",
     "output_type": "stream",
     "text": [
      "16794it [00:12, 1334.63it/s]"
     ]
    },
    {
     "name": "stdout",
     "output_type": "stream",
     "text": [
      "/scratch/users/mdelabrassinne/Database/england_epl/2016-2017/2017-01-21_-_15-30_Liverpool_2_-_3_Swansea/Labels-v2.json\n",
      "/scratch/users/mdelabrassinne/Database/england_epl/2016-2017/2017-05-06_-_17-00_Leicester_3_-_0_Watford/Labels-v2.json\n"
     ]
    },
    {
     "name": "stderr",
     "output_type": "stream",
     "text": [
      "17215it [00:12, 1376.52it/s]"
     ]
    },
    {
     "name": "stdout",
     "output_type": "stream",
     "text": [
      "/scratch/users/mdelabrassinne/Database/england_epl/2016-2017/2016-08-14_-_18-00_Arsenal_3_-_4_Liverpool/Labels-v2.json\n",
      "/scratch/users/mdelabrassinne/Database/england_epl/2016-2017/2016-08-20_-_17-00_Burnley_2_-_0_Liverpool/Labels-v2.json\n"
     ]
    },
    {
     "name": "stderr",
     "output_type": "stream",
     "text": [
      "17633it [00:13, 1370.79it/s]"
     ]
    },
    {
     "name": "stdout",
     "output_type": "stream",
     "text": [
      "/scratch/users/mdelabrassinne/Database/england_epl/2016-2017/2016-08-20_-_19-30_Leicester_0_-_0_Arsenal/Labels-v2.json\n",
      "/scratch/users/mdelabrassinne/Database/england_epl/2016-2017/2016-09-10_-_17-00_Arsenal_2_-_1_Southampton/Labels-v2.json\n"
     ]
    },
    {
     "name": "stderr",
     "output_type": "stream",
     "text": [
      "18051it [00:13, 1368.37it/s]"
     ]
    },
    {
     "name": "stdout",
     "output_type": "stream",
     "text": [
      "/scratch/users/mdelabrassinne/Database/england_epl/2016-2017/2016-09-16_-_22-00_Chelsea_1_-_2_Liverpool/Labels-v2.json\n",
      "/scratch/users/mdelabrassinne/Database/england_epl/2016-2017/2016-09-17_-_17-00_Hull_City_1_-_4_Arsenal/Labels-v2.json\n"
     ]
    },
    {
     "name": "stderr",
     "output_type": "stream",
     "text": [
      "18478it [00:13, 1401.40it/s]"
     ]
    },
    {
     "name": "stdout",
     "output_type": "stream",
     "text": [
      "/scratch/users/mdelabrassinne/Database/england_epl/2016-2017/2016-09-24_-_19-30_Arsenal_3_-_0_Chelsea/Labels-v2.json\n",
      "/scratch/users/mdelabrassinne/Database/england_epl/2016-2017/2016-08-14 - 18-00 Arsenal 3 - 4 Liverpool/1_baidu_soccer_embeddings.npy\n",
      "/scratch/users/mdelabrassinne/Database/england_epl/2016-2017/2016-08-14 - 18-00 Arsenal 3 - 4 Liverpool/2_baidu_soccer_embeddings.npy\n",
      "/scratch/users/mdelabrassinne/Database/england_epl/2016-2017/2016-08-20 - 17-00 Burnley 2 - 0 Liverpool/1_baidu_soccer_embeddings.npy\n",
      "/scratch/users/mdelabrassinne/Database/england_epl/2016-2017/2016-08-20 - 17-00 Burnley 2 - 0 Liverpool/2_baidu_soccer_embeddings.npy\n",
      "/scratch/users/mdelabrassinne/Database/england_epl/2016-2017/2016-08-20 - 19-30 Leicester 0 - 0 Arsenal/1_baidu_soccer_embeddings.npy\n",
      "/scratch/users/mdelabrassinne/Database/england_epl/2016-2017/2016-08-20 - 19-30 Leicester 0 - 0 Arsenal/2_baidu_soccer_embeddings.npy\n",
      "/scratch/users/mdelabrassinne/Database/england_epl/2016-2017/2016-09-10 - 17-00 Arsenal 2 - 1 Southampton/1_baidu_soccer_embeddings.npy\n",
      "/scratch/users/mdelabrassinne/Database/england_epl/2016-2017/2016-09-10 - 17-00 Arsenal 2 - 1 Southampton/2_baidu_soccer_embeddings.npy\n",
      "/scratch/users/mdelabrassinne/Database/england_epl/2016-2017/2016-09-16 - 22-00 Chelsea 1 - 2 Liverpool/1_baidu_soccer_embeddings.npy\n",
      "/scratch/users/mdelabrassinne/Database/england_epl/2016-2017/2016-09-16 - 22-00 Chelsea 1 - 2 Liverpool/2_baidu_soccer_embeddings.npy\n",
      "/scratch/users/mdelabrassinne/Database/england_epl/2016-2017/2016-09-17 - 17-00 Hull City 1 - 4 Arsenal/1_baidu_soccer_embeddings.npy\n",
      "/scratch/users/mdelabrassinne/Database/england_epl/2016-2017/2016-09-17 - 17-00 Hull City 1 - 4 Arsenal/2_baidu_soccer_embeddings.npy\n",
      "/scratch/users/mdelabrassinne/Database/england_epl/2016-2017/2016-09-24 - 19-30 Arsenal 3 - 0 Chelsea/1_baidu_soccer_embeddings.npy\n",
      "/scratch/users/mdelabrassinne/Database/england_epl/2016-2017/2016-09-24 - 19-30 Arsenal 3 - 0 Chelsea/2_baidu_soccer_embeddings.npy\n",
      "/scratch/users/mdelabrassinne/Database/england_epl/2016-2017/2016-10-17 - 22-00 Liverpool 0 - 0 Manchester United/1_baidu_soccer_embeddings.npy\n",
      "/scratch/users/mdelabrassinne/Database/england_epl/2016-2017/2016-10-17 - 22-00 Liverpool 0 - 0 Manchester United/2_baidu_soccer_embeddings.npy\n",
      "/scratch/users/mdelabrassinne/Database/england_epl/2016-2017/2016-10-22 - 19-30 Liverpool 2 - 1 West Brom/1_baidu_soccer_embeddings.npy\n",
      "/scratch/users/mdelabrassinne/Database/england_epl/2016-2017/2016-10-22 - 19-30 Liverpool 2 - 1 West Brom/2_baidu_soccer_embeddings.npy\n",
      "/scratch/users/mdelabrassinne/Database/england_epl/2016-2017/2016-10-29 - 14-30 Sunderland 1 - 4 Arsenal/1_baidu_soccer_embeddings.npy\n",
      "/scratch/users/mdelabrassinne/Database/england_epl/2016-2017/2016-10-29 - 14-30 Sunderland 1 - 4 Arsenal/2_baidu_soccer_embeddings.npy\n",
      "/scratch/users/mdelabrassinne/Database/england_epl/2016-2017/2016-10-29 - 17-00 Tottenham 1 - 1 Leicester/1_baidu_soccer_embeddings.npy\n",
      "/scratch/users/mdelabrassinne/Database/england_epl/2016-2017/2016-10-29 - 17-00 Tottenham 1 - 1 Leicester/2_baidu_soccer_embeddings.npy\n",
      "/scratch/users/mdelabrassinne/Database/england_epl/2016-2017/2016-11-06 - 17-15 Liverpool 6 - 1 Watford/1_baidu_soccer_embeddings.npy\n",
      "/scratch/users/mdelabrassinne/Database/england_epl/2016-2017/2016-11-06 - 17-15 Liverpool 6 - 1 Watford/2_baidu_soccer_embeddings.npy\n",
      "/scratch/users/mdelabrassinne/Database/england_epl/2016-2017/2016-11-06 - 19-30 Leicester 1 - 2 West Brom/1_baidu_soccer_embeddings.npy\n",
      "/scratch/users/mdelabrassinne/Database/england_epl/2016-2017/2016-11-06 - 19-30 Leicester 1 - 2 West Brom/2_baidu_soccer_embeddings.npy\n",
      "/scratch/users/mdelabrassinne/Database/england_epl/2016-2017/2016-11-19 - 18-00 Southampton 0 - 0 Liverpool/1_baidu_soccer_embeddings.npy\n",
      "/scratch/users/mdelabrassinne/Database/england_epl/2016-2017/2016-11-19 - 18-00 Southampton 0 - 0 Liverpool/2_baidu_soccer_embeddings.npy\n",
      "/scratch/users/mdelabrassinne/Database/england_epl/2016-2017/2016-11-26 - 18-00 Liverpool 2 - 0 Sunderland/1_baidu_soccer_embeddings.npy\n",
      "/scratch/users/mdelabrassinne/Database/england_epl/2016-2017/2016-11-26 - 18-00 Liverpool 2 - 0 Sunderland/2_baidu_soccer_embeddings.npy\n",
      "/scratch/users/mdelabrassinne/Database/england_epl/2016-2017/2016-12-10 - 20-30 Leicester 4 - 2 Manchester City/1_baidu_soccer_embeddings.npy\n",
      "/scratch/users/mdelabrassinne/Database/england_epl/2016-2017/2016-12-10 - 20-30 Leicester 4 - 2 Manchester City/2_baidu_soccer_embeddings.npy\n",
      "/scratch/users/mdelabrassinne/Database/england_epl/2016-2017/2016-12-11 - 19-30 Liverpool 2 - 2 West Ham/1_baidu_soccer_embeddings.npy\n",
      "/scratch/users/mdelabrassinne/Database/england_epl/2016-2017/2016-12-11 - 19-30 Liverpool 2 - 2 West Ham/2_baidu_soccer_embeddings.npy\n",
      "/scratch/users/mdelabrassinne/Database/england_epl/2016-2017/2016-12-14 - 22-45 Middlesbrough 0 - 3 Liverpool/1_baidu_soccer_embeddings.npy\n",
      "/scratch/users/mdelabrassinne/Database/england_epl/2016-2017/2016-12-14 - 22-45 Middlesbrough 0 - 3 Liverpool/2_baidu_soccer_embeddings.npy\n",
      "/scratch/users/mdelabrassinne/Database/england_epl/2016-2017/2016-12-19 - 23-00 Everton 0 - 1 Liverpool/1_baidu_soccer_embeddings.npy\n",
      "/scratch/users/mdelabrassinne/Database/england_epl/2016-2017/2016-12-19 - 23-00 Everton 0 - 1 Liverpool/2_baidu_soccer_embeddings.npy\n",
      "/scratch/users/mdelabrassinne/Database/england_epl/2016-2017/2016-12-27 - 20-15 Liverpool 4 - 1 Stoke City/1_baidu_soccer_embeddings.npy\n",
      "/scratch/users/mdelabrassinne/Database/england_epl/2016-2017/2016-12-27 - 20-15 Liverpool 4 - 1 Stoke City/2_baidu_soccer_embeddings.npy\n",
      "/scratch/users/mdelabrassinne/Database/england_epl/2016-2017/2016-12-31 - 20-30 Liverpool 1 - 0 Manchester City/1_baidu_soccer_embeddings.npy\n",
      "/scratch/users/mdelabrassinne/Database/england_epl/2016-2017/2016-12-31 - 20-30 Liverpool 1 - 0 Manchester City/2_baidu_soccer_embeddings.npy\n",
      "/scratch/users/mdelabrassinne/Database/england_epl/2016-2017/2017-01-02 - 15-30 Middlesbrough 0 - 0 Leicester/1_baidu_soccer_embeddings.npy\n",
      "/scratch/users/mdelabrassinne/Database/england_epl/2016-2017/2017-01-02 - 15-30 Middlesbrough 0 - 0 Leicester/2_baidu_soccer_embeddings.npy\n",
      "/scratch/users/mdelabrassinne/Database/england_epl/2016-2017/2017-01-02 - 18-00 Sunderland 2 - 2 Liverpool/1_baidu_soccer_embeddings.npy\n",
      "/scratch/users/mdelabrassinne/Database/england_epl/2016-2017/2017-01-02 - 18-00 Sunderland 2 - 2 Liverpool/2_baidu_soccer_embeddings.npy\n",
      "/scratch/users/mdelabrassinne/Database/england_epl/2016-2017/2017-01-14 - 20-30 Leicester 0 - 3 Chelsea/1_baidu_soccer_embeddings.npy\n",
      "/scratch/users/mdelabrassinne/Database/england_epl/2016-2017/2017-01-14 - 20-30 Leicester 0 - 3 Chelsea/2_baidu_soccer_embeddings.npy\n",
      "/scratch/users/mdelabrassinne/Database/england_epl/2016-2017/2017-01-15 - 19-00 Manchester United 1 - 1 Liverpool/1_baidu_soccer_embeddings.npy\n",
      "/scratch/users/mdelabrassinne/Database/england_epl/2016-2017/2017-01-15 - 19-00 Manchester United 1 - 1 Liverpool/2_baidu_soccer_embeddings.npy\n",
      "/scratch/users/mdelabrassinne/Database/england_epl/2016-2017/2017-01-31 - 23-00 Liverpool 1 - 1 Chelsea/1_baidu_soccer_embeddings.npy\n",
      "/scratch/users/mdelabrassinne/Database/england_epl/2016-2017/2017-01-31 - 23-00 Liverpool 1 - 1 Chelsea/2_baidu_soccer_embeddings.npy\n",
      "/scratch/users/mdelabrassinne/Database/england_epl/2016-2017/2017-02-27 - 23-00 Leicester 3 - 1 Liverpool/1_baidu_soccer_embeddings.npy\n",
      "/scratch/users/mdelabrassinne/Database/england_epl/2016-2017/2017-02-27 - 23-00 Leicester 3 - 1 Liverpool/2_baidu_soccer_embeddings.npy\n",
      "/scratch/users/mdelabrassinne/Database/england_epl/2016-2017/2017-04-26 - 21-45 Arsenal 1 - 0 Leicester/1_baidu_soccer_embeddings.npy\n",
      "/scratch/users/mdelabrassinne/Database/england_epl/2016-2017/2017-04-26 - 21-45 Arsenal 1 - 0 Leicester/2_baidu_soccer_embeddings.npy\n",
      "/scratch/users/mdelabrassinne/Database/england_epl/2016-2017/2017-05-13 - 14-30 Manchester City 2 - 1 Leicester/1_baidu_soccer_embeddings.npy\n",
      "/scratch/users/mdelabrassinne/Database/england_epl/2016-2017/2017-05-13 - 14-30 Manchester City 2 - 1 Leicester/2_baidu_soccer_embeddings.npy\n",
      "/scratch/users/mdelabrassinne/Database/england_epl/2016-2017/2016-10-01 - 14-30 Swansea 1 - 2 Liverpool/1_baidu_soccer_embeddings.npy\n",
      "/scratch/users/mdelabrassinne/Database/england_epl/2016-2017/2016-10-01 - 14-30 Swansea 1 - 2 Liverpool/2_baidu_soccer_embeddings.npy\n",
      "/scratch/users/mdelabrassinne/Database/england_epl/2016-2017/2016-10-02 - 18-30 Burnley 0 - 1 Arsenal/1_baidu_soccer_embeddings.npy\n",
      "/scratch/users/mdelabrassinne/Database/england_epl/2016-2017/2016-10-02 - 18-30 Burnley 0 - 1 Arsenal/2_baidu_soccer_embeddings.npy\n",
      "/scratch/users/mdelabrassinne/Database/england_epl/2016-2017/2016-10-22 - 17-00 Arsenal 0 - 0 Middlesbrough/1_baidu_soccer_embeddings.npy\n",
      "/scratch/users/mdelabrassinne/Database/england_epl/2016-2017/2016-10-22 - 17-00 Arsenal 0 - 0 Middlesbrough/2_baidu_soccer_embeddings.npy\n",
      "/scratch/users/mdelabrassinne/Database/england_epl/2016-2017/2016-10-29 - 19-30 Crystal Palace 2 - 4 Liverpool/1_baidu_soccer_embeddings.npy\n",
      "/scratch/users/mdelabrassinne/Database/england_epl/2016-2017/2016-10-29 - 19-30 Crystal Palace 2 - 4 Liverpool/2_baidu_soccer_embeddings.npy\n",
      "/scratch/users/mdelabrassinne/Database/england_epl/2016-2017/2016-12-04 - 16-30 Bournemouth 4 - 3 Liverpool/1_baidu_soccer_embeddings.npy\n",
      "/scratch/users/mdelabrassinne/Database/england_epl/2016-2017/2016-12-04 - 16-30 Bournemouth 4 - 3 Liverpool/2_baidu_soccer_embeddings.npy\n",
      "/scratch/users/mdelabrassinne/Database/england_epl/2016-2017/2017-04-09 - 18-00 Everton 4 - 2 Leicester/1_baidu_soccer_embeddings.npy\n",
      "/scratch/users/mdelabrassinne/Database/england_epl/2016-2017/2017-04-09 - 18-00 Everton 4 - 2 Leicester/2_baidu_soccer_embeddings.npy\n",
      "/scratch/users/mdelabrassinne/Database/england_epl/2016-2017/2016-08-27 - 14-30 Tottenham 1 - 1 Liverpool/1_baidu_soccer_embeddings.npy\n",
      "/scratch/users/mdelabrassinne/Database/england_epl/2016-2017/2016-08-27 - 14-30 Tottenham 1 - 1 Liverpool/2_baidu_soccer_embeddings.npy\n",
      "/scratch/users/mdelabrassinne/Database/england_epl/2016-2017/2016-09-24 - 14-30 Manchester United 4 - 1 Leicester/1_baidu_soccer_embeddings.npy\n",
      "/scratch/users/mdelabrassinne/Database/england_epl/2016-2017/2016-09-24 - 14-30 Manchester United 4 - 1 Leicester/2_baidu_soccer_embeddings.npy\n",
      "/scratch/users/mdelabrassinne/Database/england_epl/2016-2017/2016-10-15 - 14-30 Chelsea 3 - 0 Leicester/1_baidu_soccer_embeddings.npy\n",
      "/scratch/users/mdelabrassinne/Database/england_epl/2016-2017/2016-10-15 - 14-30 Chelsea 3 - 0 Leicester/2_baidu_soccer_embeddings.npy\n",
      "/scratch/users/mdelabrassinne/Database/england_epl/2016-2017/2017-01-21 - 15-30 Liverpool 2 - 3 Swansea/1_baidu_soccer_embeddings.npy\n",
      "/scratch/users/mdelabrassinne/Database/england_epl/2016-2017/2017-01-21 - 15-30 Liverpool 2 - 3 Swansea/2_baidu_soccer_embeddings.npy\n",
      "/scratch/users/mdelabrassinne/Database/england_epl/2016-2017/2017-05-06 - 17-00 Leicester 3 - 0 Watford/1_baidu_soccer_embeddings.npy\n",
      "/scratch/users/mdelabrassinne/Database/england_epl/2016-2017/2017-05-06 - 17-00 Leicester 3 - 0 Watford/2_baidu_soccer_embeddings.npy\n",
      "/scratch/users/mdelabrassinne/Database/england_epl/2016-2017/2017-05-13 - 18-00 Stoke City 1 - 4 Arsenal/1_baidu_soccer_embeddings.npy\n",
      "/scratch/users/mdelabrassinne/Database/england_epl/2016-2017/2017-05-13 - 18-00 Stoke City 1 - 4 Arsenal/2_baidu_soccer_embeddings.npy\n",
      "/scratch/users/mdelabrassinne/Database/england_epl/2016-2017/2017-04-30 - 18-00 Tottenham 2 - 0 Arsenal/1_baidu_soccer_embeddings.npy\n",
      "/scratch/users/mdelabrassinne/Database/england_epl/2016-2017/2017-04-30 - 18-00 Tottenham 2 - 0 Arsenal/2_baidu_soccer_embeddings.npy\n",
      "/scratch/users/mdelabrassinne/Database/england_epl/2016-2017/2017-04-10 - 18-00 Crystal Palace 3 - 0 Arsenal/1_baidu_soccer_embeddings.npy\n",
      "/scratch/users/mdelabrassinne/Database/england_epl/2016-2017/2017-04-10 - 18-00 Crystal Palace 3 - 0 Arsenal/2_baidu_soccer_embeddings.npy\n",
      "/scratch/users/mdelabrassinne/Database/england_epl/2016-2017/2017-04-02 - 18-00 Arsenal 2 - 2 Manchester City/1_baidu_soccer_embeddings.npy\n",
      "/scratch/users/mdelabrassinne/Database/england_epl/2016-2017/2017-04-02 - 18-00 Arsenal 2 - 2 Manchester City/2_baidu_soccer_embeddings.npy\n",
      "/scratch/users/mdelabrassinne/Database/england_epl/2016-2017/2017-03-18 - 18-00 West Brom 3 - 1 Arsenal/1_baidu_soccer_embeddings.npy\n",
      "/scratch/users/mdelabrassinne/Database/england_epl/2016-2017/2017-03-18 - 18-00 West Brom 3 - 1 Arsenal/2_baidu_soccer_embeddings.npy\n",
      "/scratch/users/mdelabrassinne/Database/england_epl/2016-2017/2017-02-04 - 18-00 Chelsea 3 - 1 Arsenal/1_baidu_soccer_embeddings.npy\n",
      "/scratch/users/mdelabrassinne/Database/england_epl/2016-2017/2017-02-04 - 18-00 Chelsea 3 - 1 Arsenal/2_baidu_soccer_embeddings.npy\n",
      "/scratch/users/mdelabrassinne/Database/england_epl/2016-2017/2017-01-22 - 18-00 Arsenal 2 - 1 Burnley/1_baidu_soccer_embeddings.npy\n",
      "/scratch/users/mdelabrassinne/Database/england_epl/2016-2017/2017-01-22 - 18-00 Arsenal 2 - 1 Burnley/2_baidu_soccer_embeddings.npy\n",
      "/scratch/users/mdelabrassinne/Database/england_epl/2016-2017/2017-01-03 - 18-00 Bournemouth 3 - 3 Arsenal/1_baidu_soccer_embeddings.npy\n",
      "/scratch/users/mdelabrassinne/Database/england_epl/2016-2017/2017-01-03 - 18-00 Bournemouth 3 - 3 Arsenal/2_baidu_soccer_embeddings.npy\n",
      "/scratch/users/mdelabrassinne/Database/england_epl/2016-2017/2016-11-19 - 18-00 Manchester United 1 - 1 Arsenal/1_baidu_soccer_embeddings.npy\n",
      "/scratch/users/mdelabrassinne/Database/england_epl/2016-2017/2016-11-19 - 18-00 Manchester United 1 - 1 Arsenal/2_baidu_soccer_embeddings.npy\n",
      "/scratch/users/mdelabrassinne/Database/europe_uefa-champions-league/2014-2015/2015-02-25_-_22-45_Bayer_Leverkusen_1_-_0_Atl._Madrid/Labels-v2.json\n"
     ]
    },
    {
     "name": "stderr",
     "output_type": "stream",
     "text": [
      "18907it [00:14, 1394.06it/s]"
     ]
    },
    {
     "name": "stdout",
     "output_type": "stream",
     "text": [
      "/scratch/users/mdelabrassinne/Database/europe_uefa-champions-league/2014-2015/2015-03-10_-_22-45_FC_Porto_4_-_0_Basel/Labels-v2.json\n",
      "/scratch/users/mdelabrassinne/Database/europe_uefa-champions-league/2014-2015/2015-03-18_-_22-45_Barcelona_1_-_0_Manchester_City/Labels-v2.json\n"
     ]
    },
    {
     "name": "stderr",
     "output_type": "stream",
     "text": [
      "19333it [00:14, 1402.35it/s]"
     ]
    },
    {
     "name": "stdout",
     "output_type": "stream",
     "text": [
      "/scratch/users/mdelabrassinne/Database/europe_uefa-champions-league/2014-2015/2015-03-18_-_22-45_Dortmund_0_-_3_Juventus/Labels-v2.json\n",
      "/scratch/users/mdelabrassinne/Database/europe_uefa-champions-league/2014-2015/2015-04-14_-_21-45_Atl._Madrid_0_-_0_Real_Madrid/Labels-v2.json\n"
     ]
    },
    {
     "name": "stderr",
     "output_type": "stream",
     "text": [
      "19616it [00:14, 1404.29it/s]"
     ]
    },
    {
     "name": "stdout",
     "output_type": "stream",
     "text": [
      "/scratch/users/mdelabrassinne/Database/europe_uefa-champions-league/2014-2015/2015-04-14_-_21-45_Juventus_1_-_0_Monaco/Labels-v2.json\n",
      "/scratch/users/mdelabrassinne/Database/europe_uefa-champions-league/2014-2015/2015-04-21_-_21-45_Bayern_Munich_6_-_1_FC_Porto/Labels-v2.json\n"
     ]
    },
    {
     "name": "stderr",
     "output_type": "stream",
     "text": [
      "20036it [00:14, 1381.03it/s]"
     ]
    },
    {
     "name": "stdout",
     "output_type": "stream",
     "text": [
      "/scratch/users/mdelabrassinne/Database/europe_uefa-champions-league/2014-2015/2015-04-22_-_21-45_Monaco_0_-_0_Juventus/Labels-v2.json\n",
      "/scratch/users/mdelabrassinne/Database/europe_uefa-champions-league/2014-2015/2015-05-06_-_21-45_Barcelona_3_-_0_Bayern_Munich/Labels-v2.json\n"
     ]
    },
    {
     "name": "stderr",
     "output_type": "stream",
     "text": [
      "20452it [00:15, 1367.42it/s]"
     ]
    },
    {
     "name": "stdout",
     "output_type": "stream",
     "text": [
      "/scratch/users/mdelabrassinne/Database/europe_uefa-champions-league/2014-2015/2015-05-12_-_21-45_Bayern_Munich_3_-_2_Barcelona/Labels-v2.json\n",
      "/scratch/users/mdelabrassinne/Database/europe_uefa-champions-league/2014-2015/2014-11-04_-_22-45_Real_Madrid_1_-_0_Liverpool/Labels-v2.json\n"
     ]
    },
    {
     "name": "stderr",
     "output_type": "stream",
     "text": [
      "20872it [00:15, 1369.05it/s]"
     ]
    },
    {
     "name": "stdout",
     "output_type": "stream",
     "text": [
      "/scratch/users/mdelabrassinne/Database/europe_uefa-champions-league/2014-2015/2014-11-05_-_22-45_Ajax_0_-_2_Barcelona/Labels-v2.json\n",
      "/scratch/users/mdelabrassinne/Database/europe_uefa-champions-league/2014-2015/2014-11-05_-_22-45_Manchester_City_1_-_2_CSKA_Moscow/Labels-v2.json\n"
     ]
    },
    {
     "name": "stderr",
     "output_type": "stream",
     "text": [
      "21280it [00:15, 1339.61it/s]"
     ]
    },
    {
     "name": "stdout",
     "output_type": "stream",
     "text": [
      "/scratch/users/mdelabrassinne/Database/europe_uefa-champions-league/2014-2015/2014-12-09_-_22-45_Galatasaray_1_-_4_Arsenal/Labels-v2.json\n",
      "/scratch/users/mdelabrassinne/Database/europe_uefa-champions-league/2014-2015/2014-12-09_-_22-45_Real_Madrid_4_-_0_Ludogorets/Labels-v2.json\n"
     ]
    },
    {
     "name": "stderr",
     "output_type": "stream",
     "text": [
      "21553it [00:16, 1350.36it/s]"
     ]
    },
    {
     "name": "stdout",
     "output_type": "stream",
     "text": [
      "/scratch/users/mdelabrassinne/Database/europe_uefa-champions-league/2014-2015/2015-03-11_-_22-45_Bayern_Munich_7_-_0_Shakhtar_Donetsk/Labels-v2.json\n",
      "/scratch/users/mdelabrassinne/Database/europe_uefa-champions-league/2014-2015/2015-04-15_-_21-45_Paris_SG_1_-_3_Barcelona/Labels-v2.json\n"
     ]
    },
    {
     "name": "stderr",
     "output_type": "stream",
     "text": [
      "21968it [00:16, 1361.39it/s]"
     ]
    },
    {
     "name": "stdout",
     "output_type": "stream",
     "text": [
      "/scratch/users/mdelabrassinne/Database/europe_uefa-champions-league/2014-2015/2015-04-21_-_21-45_Barcelona_2_-_0_Paris_SG/Labels-v2.json\n",
      "/scratch/users/mdelabrassinne/Database/europe_uefa-champions-league/2014-2015/2014-11-04_-_20-00_Zenit_Petersburg_1_-_2_Bayer_Leverkusen/Labels-v2.json\n"
     ]
    },
    {
     "name": "stderr",
     "output_type": "stream",
     "text": [
      "22381it [00:16, 1366.96it/s]"
     ]
    },
    {
     "name": "stdout",
     "output_type": "stream",
     "text": [
      "/scratch/users/mdelabrassinne/Database/europe_uefa-champions-league/2014-2015/2015-02-24_-_22-45_Manchester_City_1_-_2_Barcelona/Labels-v2.json\n",
      "/scratch/users/mdelabrassinne/Database/europe_uefa-champions-league/2014-2015/2015-03-10_-_22-45_Real_Madrid_3_-_4_Schalke/Labels-v2.json\n"
     ]
    },
    {
     "name": "stderr",
     "output_type": "stream",
     "text": [
      "22656it [00:16, 1361.85it/s]"
     ]
    },
    {
     "name": "stdout",
     "output_type": "stream",
     "text": [
      "/scratch/users/mdelabrassinne/Database/europe_uefa-champions-league/2014-2015/2015-03-17_-_22-45_Monaco_0_-_2_Arsenal/Labels-v2.json\n",
      "/scratch/users/mdelabrassinne/Database/europe_uefa-champions-league/2014-2015/2015-04-15_-_21-45_FC_Porto_3_-_1_Bayern_Munich/Labels-v2.json\n"
     ]
    },
    {
     "name": "stderr",
     "output_type": "stream",
     "text": [
      "23082it [00:17, 1400.97it/s]"
     ]
    },
    {
     "name": "stdout",
     "output_type": "stream",
     "text": [
      "/scratch/users/mdelabrassinne/Database/europe_uefa-champions-league/2014-2015/2015-04-22_-_21-45_Real_Madrid_1_-_0_Atl._Madrid/Labels-v2.json\n",
      "/scratch/users/mdelabrassinne/Database/europe_uefa-champions-league/2014-2015/2015-05-05_-_21-45_Juventus_2_-_1_Real_Madrid/Labels-v2.json\n"
     ]
    },
    {
     "name": "stderr",
     "output_type": "stream",
     "text": [
      "23509it [00:17, 1399.52it/s]"
     ]
    },
    {
     "name": "stdout",
     "output_type": "stream",
     "text": [
      "/scratch/users/mdelabrassinne/Database/europe_uefa-champions-league/2014-2015/2014-11-04_-_22-45_Arsenal_3_-_3_Anderlecht/Labels-v2.json\n",
      "/scratch/users/mdelabrassinne/Database/europe_uefa-champions-league/2014-2015/2014-11-04_-_22-45_Dortmund_4_-_1_Galatasaray/Labels-v2.json\n"
     ]
    },
    {
     "name": "stderr",
     "output_type": "stream",
     "text": [
      "23929it [00:17, 1389.81it/s]"
     ]
    },
    {
     "name": "stdout",
     "output_type": "stream",
     "text": [
      "/scratch/users/mdelabrassinne/Database/europe_uefa-champions-league/2014-2015/2014-11-05_-_22-45_Bayern_Munich_2_-_0_AS_Roma/Labels-v2.json\n",
      "/scratch/users/mdelabrassinne/Database/europe_uefa-champions-league/2014-2015/2014-12-09_-_22-45_Benfica_0_-_0_Bayer_Leverkusen/Labels-v2.json\n"
     ]
    },
    {
     "name": "stderr",
     "output_type": "stream",
     "text": [
      "24205it [00:17, 1362.33it/s]"
     ]
    },
    {
     "name": "stdout",
     "output_type": "stream",
     "text": [
      "/scratch/users/mdelabrassinne/Database/europe_uefa-champions-league/2014-2015/2014-12-09_-_22-45_Dortmund_1_-_1_Anderlecht/Labels-v2.json\n",
      "/scratch/users/mdelabrassinne/Database/europe_uefa-champions-league/2014-2015/2014-12-09_-_22-45_Liverpool_1_-_1_Basel/Labels-v2.json\n"
     ]
    },
    {
     "name": "stderr",
     "output_type": "stream",
     "text": [
      "24630it [00:18, 1397.26it/s]"
     ]
    },
    {
     "name": "stdout",
     "output_type": "stream",
     "text": [
      "/scratch/users/mdelabrassinne/Database/europe_uefa-champions-league/2014-2015/2014-12-10_-_22-45_Barcelona_3_-_1_Paris_SG/Labels-v2.json\n",
      "/scratch/users/mdelabrassinne/Database/europe_uefa-champions-league/2014-2015/2014-12-10_-_22-45_Bayern_Munich_3_-_0_CSKA_Moscow/Labels-v2.json\n"
     ]
    },
    {
     "name": "stderr",
     "output_type": "stream",
     "text": [
      "24911it [00:18, 1397.35it/s]"
     ]
    },
    {
     "name": "stdout",
     "output_type": "stream",
     "text": [
      "/scratch/users/mdelabrassinne/Database/europe_uefa-champions-league/2014-2015/2015-02-17_-_22-45_Paris_SG_1_-_1_Chelsea/Labels-v2.json\n",
      "/scratch/users/mdelabrassinne/Database/europe_uefa-champions-league/2014-2015/2015-02-17_-_22-45_Shakhtar_Donetsk_0_-_0_Bayern_Munich/Labels-v2.json\n"
     ]
    },
    {
     "name": "stderr",
     "output_type": "stream",
     "text": [
      "25194it [00:18, 1394.18it/s]"
     ]
    },
    {
     "name": "stdout",
     "output_type": "stream",
     "text": [
      "/scratch/users/mdelabrassinne/Database/europe_uefa-champions-league/2014-2015/2015-02-18_-_22-45_Schalke_0_-_2_Real_Madrid/Labels-v2.json\n",
      "/scratch/users/mdelabrassinne/Database/europe_uefa-champions-league/2014-2015/2015-02-25_-_22-45_Arsenal_1_-_3_Monaco/Labels-v2.json\n"
     ]
    },
    {
     "name": "stderr",
     "output_type": "stream",
     "text": [
      "25638it [00:18, 1448.69it/s]"
     ]
    },
    {
     "name": "stdout",
     "output_type": "stream",
     "text": [
      "/scratch/users/mdelabrassinne/Database/europe_uefa-champions-league/2014-2015/2014-11-04 - 22-45 Arsenal 3 - 3 Anderlecht/1_baidu_soccer_embeddings.npy\n",
      "/scratch/users/mdelabrassinne/Database/europe_uefa-champions-league/2014-2015/2014-11-04 - 22-45 Arsenal 3 - 3 Anderlecht/2_baidu_soccer_embeddings.npy\n",
      "/scratch/users/mdelabrassinne/Database/europe_uefa-champions-league/2014-2015/2014-11-04 - 22-45 Dortmund 4 - 1 Galatasaray/1_baidu_soccer_embeddings.npy\n",
      "/scratch/users/mdelabrassinne/Database/europe_uefa-champions-league/2014-2015/2014-11-04 - 22-45 Dortmund 4 - 1 Galatasaray/2_baidu_soccer_embeddings.npy\n",
      "/scratch/users/mdelabrassinne/Database/europe_uefa-champions-league/2014-2015/2014-11-05 - 22-45 Bayern Munich 2 - 0 AS Roma/1_baidu_soccer_embeddings.npy\n",
      "/scratch/users/mdelabrassinne/Database/europe_uefa-champions-league/2014-2015/2014-11-05 - 22-45 Bayern Munich 2 - 0 AS Roma/2_baidu_soccer_embeddings.npy\n",
      "/scratch/users/mdelabrassinne/Database/europe_uefa-champions-league/2014-2015/2014-12-09 - 22-45 Benfica 0 - 0 Bayer Leverkusen/1_baidu_soccer_embeddings.npy\n",
      "/scratch/users/mdelabrassinne/Database/europe_uefa-champions-league/2014-2015/2014-12-09 - 22-45 Benfica 0 - 0 Bayer Leverkusen/2_baidu_soccer_embeddings.npy\n",
      "/scratch/users/mdelabrassinne/Database/europe_uefa-champions-league/2014-2015/2014-12-09 - 22-45 Dortmund 1 - 1 Anderlecht/1_baidu_soccer_embeddings.npy\n",
      "/scratch/users/mdelabrassinne/Database/europe_uefa-champions-league/2014-2015/2014-12-09 - 22-45 Dortmund 1 - 1 Anderlecht/2_baidu_soccer_embeddings.npy\n",
      "/scratch/users/mdelabrassinne/Database/europe_uefa-champions-league/2014-2015/2014-12-09 - 22-45 Liverpool 1 - 1 Basel/1_baidu_soccer_embeddings.npy\n",
      "/scratch/users/mdelabrassinne/Database/europe_uefa-champions-league/2014-2015/2014-12-09 - 22-45 Liverpool 1 - 1 Basel/2_baidu_soccer_embeddings.npy\n",
      "/scratch/users/mdelabrassinne/Database/europe_uefa-champions-league/2014-2015/2014-12-10 - 22-45 Barcelona 3 - 1 Paris SG/1_baidu_soccer_embeddings.npy\n",
      "/scratch/users/mdelabrassinne/Database/europe_uefa-champions-league/2014-2015/2014-12-10 - 22-45 Barcelona 3 - 1 Paris SG/2_baidu_soccer_embeddings.npy\n",
      "/scratch/users/mdelabrassinne/Database/europe_uefa-champions-league/2014-2015/2014-12-10 - 22-45 Bayern Munich 3 - 0 CSKA Moscow/1_baidu_soccer_embeddings.npy\n",
      "/scratch/users/mdelabrassinne/Database/europe_uefa-champions-league/2014-2015/2014-12-10 - 22-45 Bayern Munich 3 - 0 CSKA Moscow/2_baidu_soccer_embeddings.npy\n",
      "/scratch/users/mdelabrassinne/Database/europe_uefa-champions-league/2014-2015/2015-02-17 - 22-45 Paris SG 1 - 1 Chelsea/1_baidu_soccer_embeddings.npy\n",
      "/scratch/users/mdelabrassinne/Database/europe_uefa-champions-league/2014-2015/2015-02-17 - 22-45 Paris SG 1 - 1 Chelsea/2_baidu_soccer_embeddings.npy\n",
      "/scratch/users/mdelabrassinne/Database/europe_uefa-champions-league/2014-2015/2015-02-17 - 22-45 Shakhtar Donetsk 0 - 0 Bayern Munich/1_baidu_soccer_embeddings.npy\n",
      "/scratch/users/mdelabrassinne/Database/europe_uefa-champions-league/2014-2015/2015-02-17 - 22-45 Shakhtar Donetsk 0 - 0 Bayern Munich/2_baidu_soccer_embeddings.npy\n",
      "/scratch/users/mdelabrassinne/Database/europe_uefa-champions-league/2014-2015/2015-02-18 - 22-45 Schalke 0 - 2 Real Madrid/1_baidu_soccer_embeddings.npy\n",
      "/scratch/users/mdelabrassinne/Database/europe_uefa-champions-league/2014-2015/2015-02-18 - 22-45 Schalke 0 - 2 Real Madrid/2_baidu_soccer_embeddings.npy\n",
      "/scratch/users/mdelabrassinne/Database/europe_uefa-champions-league/2014-2015/2015-02-25 - 22-45 Arsenal 1 - 3 Monaco/1_baidu_soccer_embeddings.npy\n",
      "/scratch/users/mdelabrassinne/Database/europe_uefa-champions-league/2014-2015/2015-02-25 - 22-45 Arsenal 1 - 3 Monaco/2_baidu_soccer_embeddings.npy\n",
      "/scratch/users/mdelabrassinne/Database/europe_uefa-champions-league/2014-2015/2015-02-25 - 22-45 Bayer Leverkusen 1 - 0 Atl. Madrid/1_baidu_soccer_embeddings.npy\n",
      "/scratch/users/mdelabrassinne/Database/europe_uefa-champions-league/2014-2015/2015-02-25 - 22-45 Bayer Leverkusen 1 - 0 Atl. Madrid/2_baidu_soccer_embeddings.npy\n",
      "/scratch/users/mdelabrassinne/Database/europe_uefa-champions-league/2014-2015/2015-03-10 - 22-45 FC Porto 4 - 0 Basel/1_baidu_soccer_embeddings.npy\n",
      "/scratch/users/mdelabrassinne/Database/europe_uefa-champions-league/2014-2015/2015-03-10 - 22-45 FC Porto 4 - 0 Basel/2_baidu_soccer_embeddings.npy\n",
      "/scratch/users/mdelabrassinne/Database/europe_uefa-champions-league/2014-2015/2015-03-18 - 22-45 Barcelona 1 - 0 Manchester City/1_baidu_soccer_embeddings.npy\n",
      "/scratch/users/mdelabrassinne/Database/europe_uefa-champions-league/2014-2015/2015-03-18 - 22-45 Barcelona 1 - 0 Manchester City/2_baidu_soccer_embeddings.npy\n",
      "/scratch/users/mdelabrassinne/Database/europe_uefa-champions-league/2014-2015/2015-03-18 - 22-45 Dortmund 0 - 3 Juventus/1_baidu_soccer_embeddings.npy\n",
      "/scratch/users/mdelabrassinne/Database/europe_uefa-champions-league/2014-2015/2015-03-18 - 22-45 Dortmund 0 - 3 Juventus/2_baidu_soccer_embeddings.npy\n",
      "/scratch/users/mdelabrassinne/Database/europe_uefa-champions-league/2014-2015/2015-04-14 - 21-45 Atl. Madrid 0 - 0 Real Madrid/1_baidu_soccer_embeddings.npy\n",
      "/scratch/users/mdelabrassinne/Database/europe_uefa-champions-league/2014-2015/2015-04-14 - 21-45 Atl. Madrid 0 - 0 Real Madrid/2_baidu_soccer_embeddings.npy\n",
      "/scratch/users/mdelabrassinne/Database/europe_uefa-champions-league/2014-2015/2015-04-14 - 21-45 Juventus 1 - 0 Monaco/1_baidu_soccer_embeddings.npy\n",
      "/scratch/users/mdelabrassinne/Database/europe_uefa-champions-league/2014-2015/2015-04-14 - 21-45 Juventus 1 - 0 Monaco/2_baidu_soccer_embeddings.npy\n",
      "/scratch/users/mdelabrassinne/Database/europe_uefa-champions-league/2014-2015/2015-04-21 - 21-45 Bayern Munich 6 - 1 FC Porto/1_baidu_soccer_embeddings.npy\n",
      "/scratch/users/mdelabrassinne/Database/europe_uefa-champions-league/2014-2015/2015-04-21 - 21-45 Bayern Munich 6 - 1 FC Porto/2_baidu_soccer_embeddings.npy\n",
      "/scratch/users/mdelabrassinne/Database/europe_uefa-champions-league/2014-2015/2015-04-22 - 21-45 Monaco 0 - 0 Juventus/1_baidu_soccer_embeddings.npy\n",
      "/scratch/users/mdelabrassinne/Database/europe_uefa-champions-league/2014-2015/2015-04-22 - 21-45 Monaco 0 - 0 Juventus/2_baidu_soccer_embeddings.npy\n",
      "/scratch/users/mdelabrassinne/Database/europe_uefa-champions-league/2014-2015/2015-05-06 - 21-45 Barcelona 3 - 0 Bayern Munich/1_baidu_soccer_embeddings.npy\n",
      "/scratch/users/mdelabrassinne/Database/europe_uefa-champions-league/2014-2015/2015-05-06 - 21-45 Barcelona 3 - 0 Bayern Munich/2_baidu_soccer_embeddings.npy\n",
      "/scratch/users/mdelabrassinne/Database/europe_uefa-champions-league/2014-2015/2015-05-12 - 21-45 Bayern Munich 3 - 2 Barcelona/1_baidu_soccer_embeddings.npy\n",
      "/scratch/users/mdelabrassinne/Database/europe_uefa-champions-league/2014-2015/2015-05-12 - 21-45 Bayern Munich 3 - 2 Barcelona/2_baidu_soccer_embeddings.npy\n",
      "/scratch/users/mdelabrassinne/Database/europe_uefa-champions-league/2014-2015/2014-11-04 - 22-45 Real Madrid 1 - 0 Liverpool/1_baidu_soccer_embeddings.npy\n",
      "/scratch/users/mdelabrassinne/Database/europe_uefa-champions-league/2014-2015/2014-11-04 - 22-45 Real Madrid 1 - 0 Liverpool/2_baidu_soccer_embeddings.npy\n",
      "/scratch/users/mdelabrassinne/Database/europe_uefa-champions-league/2014-2015/2014-11-05 - 22-45 Ajax 0 - 2 Barcelona/1_baidu_soccer_embeddings.npy\n",
      "/scratch/users/mdelabrassinne/Database/europe_uefa-champions-league/2014-2015/2014-11-05 - 22-45 Ajax 0 - 2 Barcelona/2_baidu_soccer_embeddings.npy\n",
      "/scratch/users/mdelabrassinne/Database/europe_uefa-champions-league/2014-2015/2014-11-05 - 22-45 Manchester City 1 - 2 CSKA Moscow/1_baidu_soccer_embeddings.npy\n",
      "/scratch/users/mdelabrassinne/Database/europe_uefa-champions-league/2014-2015/2014-11-05 - 22-45 Manchester City 1 - 2 CSKA Moscow/2_baidu_soccer_embeddings.npy\n",
      "/scratch/users/mdelabrassinne/Database/europe_uefa-champions-league/2014-2015/2014-12-09 - 22-45 Galatasaray 1 - 4 Arsenal/1_baidu_soccer_embeddings.npy\n",
      "/scratch/users/mdelabrassinne/Database/europe_uefa-champions-league/2014-2015/2014-12-09 - 22-45 Galatasaray 1 - 4 Arsenal/2_baidu_soccer_embeddings.npy\n",
      "/scratch/users/mdelabrassinne/Database/europe_uefa-champions-league/2014-2015/2014-12-09 - 22-45 Real Madrid 4 - 0 Ludogorets/1_baidu_soccer_embeddings.npy\n",
      "/scratch/users/mdelabrassinne/Database/europe_uefa-champions-league/2014-2015/2014-12-09 - 22-45 Real Madrid 4 - 0 Ludogorets/2_baidu_soccer_embeddings.npy\n",
      "/scratch/users/mdelabrassinne/Database/europe_uefa-champions-league/2014-2015/2015-03-11 - 22-45 Bayern Munich 7 - 0 Shakhtar Donetsk/1_baidu_soccer_embeddings.npy\n",
      "/scratch/users/mdelabrassinne/Database/europe_uefa-champions-league/2014-2015/2015-03-11 - 22-45 Bayern Munich 7 - 0 Shakhtar Donetsk/2_baidu_soccer_embeddings.npy\n",
      "/scratch/users/mdelabrassinne/Database/europe_uefa-champions-league/2014-2015/2015-04-15 - 21-45 Paris SG 1 - 3 Barcelona/1_baidu_soccer_embeddings.npy\n",
      "/scratch/users/mdelabrassinne/Database/europe_uefa-champions-league/2014-2015/2015-04-15 - 21-45 Paris SG 1 - 3 Barcelona/2_baidu_soccer_embeddings.npy\n",
      "/scratch/users/mdelabrassinne/Database/europe_uefa-champions-league/2014-2015/2015-04-21 - 21-45 Barcelona 2 - 0 Paris SG/1_baidu_soccer_embeddings.npy\n",
      "/scratch/users/mdelabrassinne/Database/europe_uefa-champions-league/2014-2015/2015-04-21 - 21-45 Barcelona 2 - 0 Paris SG/2_baidu_soccer_embeddings.npy\n",
      "/scratch/users/mdelabrassinne/Database/europe_uefa-champions-league/2014-2015/2014-11-04 - 20-00 Zenit Petersburg 1 - 2 Bayer Leverkusen/1_baidu_soccer_embeddings.npy\n",
      "/scratch/users/mdelabrassinne/Database/europe_uefa-champions-league/2014-2015/2014-11-04 - 20-00 Zenit Petersburg 1 - 2 Bayer Leverkusen/2_baidu_soccer_embeddings.npy\n",
      "/scratch/users/mdelabrassinne/Database/europe_uefa-champions-league/2014-2015/2015-02-24 - 22-45 Manchester City 1 - 2 Barcelona/1_baidu_soccer_embeddings.npy\n",
      "/scratch/users/mdelabrassinne/Database/europe_uefa-champions-league/2014-2015/2015-02-24 - 22-45 Manchester City 1 - 2 Barcelona/2_baidu_soccer_embeddings.npy\n",
      "/scratch/users/mdelabrassinne/Database/europe_uefa-champions-league/2014-2015/2015-03-10 - 22-45 Real Madrid 3 - 4 Schalke/1_baidu_soccer_embeddings.npy\n",
      "/scratch/users/mdelabrassinne/Database/europe_uefa-champions-league/2014-2015/2015-03-10 - 22-45 Real Madrid 3 - 4 Schalke/2_baidu_soccer_embeddings.npy\n",
      "/scratch/users/mdelabrassinne/Database/europe_uefa-champions-league/2014-2015/2015-03-17 - 22-45 Monaco 0 - 2 Arsenal/1_baidu_soccer_embeddings.npy\n",
      "/scratch/users/mdelabrassinne/Database/europe_uefa-champions-league/2014-2015/2015-03-17 - 22-45 Monaco 0 - 2 Arsenal/2_baidu_soccer_embeddings.npy\n",
      "/scratch/users/mdelabrassinne/Database/europe_uefa-champions-league/2014-2015/2015-04-15 - 21-45 FC Porto 3 - 1 Bayern Munich/1_baidu_soccer_embeddings.npy\n",
      "/scratch/users/mdelabrassinne/Database/europe_uefa-champions-league/2014-2015/2015-04-15 - 21-45 FC Porto 3 - 1 Bayern Munich/2_baidu_soccer_embeddings.npy\n",
      "/scratch/users/mdelabrassinne/Database/europe_uefa-champions-league/2014-2015/2015-04-22 - 21-45 Real Madrid 1 - 0 Atl. Madrid/1_baidu_soccer_embeddings.npy\n",
      "/scratch/users/mdelabrassinne/Database/europe_uefa-champions-league/2014-2015/2015-04-22 - 21-45 Real Madrid 1 - 0 Atl. Madrid/2_baidu_soccer_embeddings.npy\n",
      "/scratch/users/mdelabrassinne/Database/europe_uefa-champions-league/2014-2015/2015-05-05 - 21-45 Juventus 2 - 1 Real Madrid/1_baidu_soccer_embeddings.npy\n",
      "/scratch/users/mdelabrassinne/Database/europe_uefa-champions-league/2014-2015/2015-05-05 - 21-45 Juventus 2 - 1 Real Madrid/2_baidu_soccer_embeddings.npy\n",
      "/scratch/users/mdelabrassinne/Database/europe_uefa-champions-league/2015-2016/2015-09-16_-_21-45_Gent_1_-_1_Lyon/Labels-v2.json\n",
      "/scratch/users/mdelabrassinne/Database/europe_uefa-champions-league/2015-2016/2015-09-29_-_21-45_Arsenal_2_-_3_Olympiakos_Piraeus/Labels-v2.json\n"
     ]
    },
    {
     "name": "stderr",
     "output_type": "stream",
     "text": [
      "26075it [00:19, 1428.87it/s]"
     ]
    },
    {
     "name": "stdout",
     "output_type": "stream",
     "text": [
      "/scratch/users/mdelabrassinne/Database/europe_uefa-champions-league/2015-2016/2015-09-29_-_21-45_Lyon_0_-_1_Valencia/Labels-v2.json\n",
      "/scratch/users/mdelabrassinne/Database/europe_uefa-champions-league/2015-2016/2015-10-20_-_21-45_Arsenal_2_-_0_Bayern_Munich/Labels-v2.json\n"
     ]
    },
    {
     "name": "stderr",
     "output_type": "stream",
     "text": [
      "26357it [00:19, 1313.79it/s]"
     ]
    },
    {
     "name": "stdout",
     "output_type": "stream",
     "text": [
      "/scratch/users/mdelabrassinne/Database/europe_uefa-champions-league/2015-2016/2015-11-03_-_18-00_FC_Astana_0_-_0_Atl._Madrid/Labels-v2.json\n",
      "/scratch/users/mdelabrassinne/Database/europe_uefa-champions-league/2015-2016/2015-11-03_-_22-45_B._Monchengladbach_1_-_1_Juventus/Labels-v2.json\n"
     ]
    },
    {
     "name": "stderr",
     "output_type": "stream",
     "text": [
      "26875it [00:19, 1172.85it/s]"
     ]
    },
    {
     "name": "stdout",
     "output_type": "stream",
     "text": [
      "/scratch/users/mdelabrassinne/Database/europe_uefa-champions-league/2015-2016/2015-11-03_-_22-45_Manchester_United_1_-_0_CSKA_Moscow/Labels-v2.json\n"
     ]
    },
    {
     "name": "stderr",
     "output_type": "stream",
     "text": [
      "26994it [00:20, 1124.56it/s]"
     ]
    },
    {
     "name": "stdout",
     "output_type": "stream",
     "text": [
      "/scratch/users/mdelabrassinne/Database/europe_uefa-champions-league/2015-2016/2015-11-03_-_22-45_PSV_2_-_0_Wolfsburg/Labels-v2.json\n",
      "/scratch/users/mdelabrassinne/Database/europe_uefa-champions-league/2015-2016/2015-11-04_-_22-45_Bayern_Munich_5_-_1_Arsenal/Labels-v2.json\n"
     ]
    },
    {
     "name": "stderr",
     "output_type": "stream",
     "text": [
      "27438it [00:20, 1083.10it/s]"
     ]
    },
    {
     "name": "stdout",
     "output_type": "stream",
     "text": [
      "/scratch/users/mdelabrassinne/Database/europe_uefa-champions-league/2015-2016/2015-11-04_-_22-45_Gent_1_-_0_Valencia/Labels-v2.json\n"
     ]
    },
    {
     "name": "stderr",
     "output_type": "stream",
     "text": [
      "27666it [00:20, 1111.46it/s]"
     ]
    },
    {
     "name": "stdout",
     "output_type": "stream",
     "text": [
      "/scratch/users/mdelabrassinne/Database/europe_uefa-champions-league/2015-2016/2015-11-04_-_22-45_Lyon_0_-_2_Zenit_Petersburg/Labels-v2.json\n",
      "/scratch/users/mdelabrassinne/Database/europe_uefa-champions-league/2015-2016/2015-11-04_-_22-45_Maccabi_Tel_Aviv_1_-_3_FC_Porto/Labels-v2.json\n"
     ]
    },
    {
     "name": "stderr",
     "output_type": "stream",
     "text": [
      "28014it [00:20, 1138.84it/s]"
     ]
    },
    {
     "name": "stdout",
     "output_type": "stream",
     "text": [
      "/scratch/users/mdelabrassinne/Database/europe_uefa-champions-league/2015-2016/2015-11-24_-_20-00_Zenit_Petersburg_2_-_0_Valencia/Labels-v2.json\n",
      "/scratch/users/mdelabrassinne/Database/europe_uefa-champions-league/2015-2016/2015-11-24_-_22-45_Barcelona_6_-_1_AS_Roma/Labels-v2.json\n"
     ]
    },
    {
     "name": "stderr",
     "output_type": "stream",
     "text": [
      "28483it [00:21, 1153.47it/s]"
     ]
    },
    {
     "name": "stdout",
     "output_type": "stream",
     "text": [
      "/scratch/users/mdelabrassinne/Database/europe_uefa-champions-league/2015-2016/2015-11-24_-_22-45_Bayern_Munich_4_-_0_Olympiakos_Piraeus/Labels-v2.json\n",
      "/scratch/users/mdelabrassinne/Database/europe_uefa-champions-league/2015-2016/2015-11-24_-_22-45_FC_Porto_0_-_2_Dyn._Kiev/Labels-v2.json\n"
     ]
    },
    {
     "name": "stderr",
     "output_type": "stream",
     "text": [
      "28835it [00:21, 1151.18it/s]"
     ]
    },
    {
     "name": "stdout",
     "output_type": "stream",
     "text": [
      "/scratch/users/mdelabrassinne/Database/europe_uefa-champions-league/2015-2016/2015-11-24_-_22-45_Maccabi_Tel_Aviv_0_-_4_Chelsea/Labels-v2.json\n",
      "/scratch/users/mdelabrassinne/Database/europe_uefa-champions-league/2015-2016/2015-11-25_-_20-00_CSKA_Moscow_0_-_2_Wolfsburg/Labels-v2.json\n"
     ]
    },
    {
     "name": "stderr",
     "output_type": "stream",
     "text": [
      "29180it [00:22, 1114.67it/s]"
     ]
    },
    {
     "name": "stdout",
     "output_type": "stream",
     "text": [
      "/scratch/users/mdelabrassinne/Database/europe_uefa-champions-league/2015-2016/2015-11-25_-_22-45_Atl._Madrid_2_-_0_Galatasaray/Labels-v2.json\n",
      "/scratch/users/mdelabrassinne/Database/europe_uefa-champions-league/2015-2016/2015-11-25_-_22-45_B._Monchengladbach_4_-_2_Sevilla/Labels-v2.json\n"
     ]
    },
    {
     "name": "stderr",
     "output_type": "stream",
     "text": [
      "29514it [00:22, 1104.23it/s]"
     ]
    },
    {
     "name": "stdout",
     "output_type": "stream",
     "text": [
      "/scratch/users/mdelabrassinne/Database/europe_uefa-champions-league/2015-2016/2015-11-25_-_22-45_Malmo_FF_0_-_5_Paris_SG/Labels-v2.json\n",
      "/scratch/users/mdelabrassinne/Database/europe_uefa-champions-league/2015-2016/2015-12-09_-_22-45_D._Zagreb_0_-_2_Bayern_Munich/Labels-v2.json\n"
     ]
    },
    {
     "name": "stderr",
     "output_type": "stream",
     "text": [
      "29865it [00:22, 1137.35it/s]"
     ]
    },
    {
     "name": "stdout",
     "output_type": "stream",
     "text": [
      "/scratch/users/mdelabrassinne/Database/europe_uefa-champions-league/2015-2016/2015-09-15_-_21-45_PSV_2_-_1_Manchester_United/Labels-v2.json\n",
      "/scratch/users/mdelabrassinne/Database/europe_uefa-champions-league/2015-2016/2015-09-16_-_21-45_Chelsea_4_-_0_Maccabi_Tel_Aviv/Labels-v2.json\n"
     ]
    },
    {
     "name": "stderr",
     "output_type": "stream",
     "text": [
      "30340it [00:23, 1179.37it/s]"
     ]
    },
    {
     "name": "stdout",
     "output_type": "stream",
     "text": [
      "/scratch/users/mdelabrassinne/Database/europe_uefa-champions-league/2015-2016/2015-09-16_-_21-45_Dyn._Kiev_2_-_2_FC_Porto/Labels-v2.json\n",
      "/scratch/users/mdelabrassinne/Database/europe_uefa-champions-league/2015-2016/2015-09-16_-_21-45_Olympiakos_Piraeus_0_-_3_Bayern_Munich/Labels-v2.json\n"
     ]
    },
    {
     "name": "stderr",
     "output_type": "stream",
     "text": [
      "30721it [00:23, 1237.23it/s]"
     ]
    },
    {
     "name": "stdout",
     "output_type": "stream",
     "text": [
      "/scratch/users/mdelabrassinne/Database/europe_uefa-champions-league/2015-2016/2015-09-29_-_21-45_Barcelona_2_-_1_Bayer_Leverkusen/Labels-v2.json\n",
      "/scratch/users/mdelabrassinne/Database/europe_uefa-champions-league/2015-2016/2015-09-29_-_21-45_FC_Porto_2_-_1_Chelsea/Labels-v2.json\n"
     ]
    },
    {
     "name": "stderr",
     "output_type": "stream",
     "text": [
      "31270it [00:23, 1339.81it/s]"
     ]
    },
    {
     "name": "stdout",
     "output_type": "stream",
     "text": [
      "/scratch/users/mdelabrassinne/Database/europe_uefa-champions-league/2015-2016/2015-11-03_-_22-45_Benfica_2_-_1_Galatasaray/Labels-v2.json\n",
      "/scratch/users/mdelabrassinne/Database/europe_uefa-champions-league/2015-2016/2015-11-04_-_22-45_Barcelona_3_-_0_BATE/Labels-v2.json\n"
     ]
    },
    {
     "name": "stderr",
     "output_type": "stream",
     "text": [
      "31556it [00:23, 1382.98it/s]"
     ]
    },
    {
     "name": "stdout",
     "output_type": "stream",
     "text": [
      "/scratch/users/mdelabrassinne/Database/europe_uefa-champions-league/2015-2016/2015-11-24_-_20-00_BATE_1_-_1_Bayer_Leverkusen/Labels-v2.json\n",
      "/scratch/users/mdelabrassinne/Database/europe_uefa-champions-league/2015-2016/2015-11-25_-_22-45_Juventus_1_-_0_Manchester_City/Labels-v2.json\n"
     ]
    },
    {
     "name": "stderr",
     "output_type": "stream",
     "text": [
      "31967it [00:24, 1348.77it/s]"
     ]
    },
    {
     "name": "stdout",
     "output_type": "stream",
     "text": [
      "/scratch/users/mdelabrassinne/Database/europe_uefa-champions-league/2015-2016/2015-09-29_-_21-45_Bayern_Munich_5_-_0_D._Zagreb/Labels-v2.json\n",
      "/scratch/users/mdelabrassinne/Database/europe_uefa-champions-league/2015-2016/2015-11-03_-_22-45_Real_Madrid_1_-_0_Paris_SG/Labels-v2.json\n"
     ]
    },
    {
     "name": "stderr",
     "output_type": "stream",
     "text": [
      "32376it [00:24, 1351.40it/s]"
     ]
    },
    {
     "name": "stdout",
     "output_type": "stream",
     "text": [
      "/scratch/users/mdelabrassinne/Database/europe_uefa-champions-league/2015-2016/2015-11-03_-_22-45_Sevilla_1_-_3_Manchester_City/Labels-v2.json\n",
      "/scratch/users/mdelabrassinne/Database/europe_uefa-champions-league/2015-2016/2015-11-03_-_22-45_Shakhtar_Donetsk_4_-_0_Malmo_FF/Labels-v2.json\n"
     ]
    },
    {
     "name": "stderr",
     "output_type": "stream",
     "text": [
      "32780it [00:24, 1327.44it/s]"
     ]
    },
    {
     "name": "stdout",
     "output_type": "stream",
     "text": [
      "/scratch/users/mdelabrassinne/Database/europe_uefa-champions-league/2015-2016/2015-11-25_-_22-45_Shakhtar_Donetsk_3_-_4_Real_Madrid/Labels-v2.json\n",
      "/scratch/users/mdelabrassinne/Database/europe_uefa-champions-league/2015-2016/2016-04-05_-_21-45_Bayern_Munich_1_-_0_Benfica/Labels-v2.json\n"
     ]
    },
    {
     "name": "stderr",
     "output_type": "stream",
     "text": [
      "33046it [00:25, 1320.48it/s]"
     ]
    },
    {
     "name": "stdout",
     "output_type": "stream",
     "text": [
      "/scratch/users/mdelabrassinne/Database/europe_uefa-champions-league/2015-2016/2015-09-15_-_21-45_Galatasaray_0_-_2_Atl._Madrid/Labels-v2.json\n",
      "/scratch/users/mdelabrassinne/Database/europe_uefa-champions-league/2015-2016/2015-09-15_-_21-45_Manchester_City_1_-_2_Juventus/Labels-v2.json\n"
     ]
    },
    {
     "name": "stderr",
     "output_type": "stream",
     "text": [
      "33437it [00:25, 1226.71it/s]"
     ]
    },
    {
     "name": "stdout",
     "output_type": "stream",
     "text": [
      "/scratch/users/mdelabrassinne/Database/europe_uefa-champions-league/2015-2016/2015-09-15_-_21-45_Paris_SG_2_-_0_Malmo_FF/Labels-v2.json\n",
      "/scratch/users/mdelabrassinne/Database/europe_uefa-champions-league/2015-2016/2015-09-15_-_21-45_Real_Madrid_4_-_0_Shakhtar_Donetsk/Labels-v2.json\n"
     ]
    },
    {
     "name": "stderr",
     "output_type": "stream",
     "text": [
      "33810it [00:25, 1214.77it/s]"
     ]
    },
    {
     "name": "stdout",
     "output_type": "stream",
     "text": [
      "/scratch/users/mdelabrassinne/Database/europe_uefa-champions-league/2015-2016/2015-09-15_-_21-45_Sevilla_3_-_0_B._Monchengladbach/Labels-v2.json\n",
      "/scratch/users/mdelabrassinne/Database/europe_uefa-champions-league/2015-2016/2015-09-16_-_21-45_AS_Roma_1_-_1_Barcelona/Labels-v2.json\n"
     ]
    },
    {
     "name": "stderr",
     "output_type": "stream",
     "text": [
      "34187it [00:25, 1241.66it/s]"
     ]
    },
    {
     "name": "stdout",
     "output_type": "stream",
     "text": [
      "/scratch/users/mdelabrassinne/Database/europe_uefa-champions-league/2015-2016/2015-09-16_-_21-45_Bayer_Leverkusen_4_-_1_BATE/Labels-v2.json\n",
      "/scratch/users/mdelabrassinne/Database/europe_uefa-champions-league/2015-2016/2015-09-15 - 21-45 Galatasaray 0 - 2 Atl. Madrid/1_baidu_soccer_embeddings.npy\n",
      "/scratch/users/mdelabrassinne/Database/europe_uefa-champions-league/2015-2016/2015-09-15 - 21-45 Galatasaray 0 - 2 Atl. Madrid/2_baidu_soccer_embeddings.npy\n",
      "/scratch/users/mdelabrassinne/Database/europe_uefa-champions-league/2015-2016/2015-09-15 - 21-45 Manchester City 1 - 2 Juventus/1_baidu_soccer_embeddings.npy\n",
      "/scratch/users/mdelabrassinne/Database/europe_uefa-champions-league/2015-2016/2015-09-15 - 21-45 Manchester City 1 - 2 Juventus/2_baidu_soccer_embeddings.npy\n",
      "/scratch/users/mdelabrassinne/Database/europe_uefa-champions-league/2015-2016/2015-09-15 - 21-45 Paris SG 2 - 0 Malmo FF/1_baidu_soccer_embeddings.npy\n",
      "/scratch/users/mdelabrassinne/Database/europe_uefa-champions-league/2015-2016/2015-09-15 - 21-45 Paris SG 2 - 0 Malmo FF/2_baidu_soccer_embeddings.npy\n",
      "/scratch/users/mdelabrassinne/Database/europe_uefa-champions-league/2015-2016/2015-09-15 - 21-45 Real Madrid 4 - 0 Shakhtar Donetsk/1_baidu_soccer_embeddings.npy\n",
      "/scratch/users/mdelabrassinne/Database/europe_uefa-champions-league/2015-2016/2015-09-15 - 21-45 Real Madrid 4 - 0 Shakhtar Donetsk/2_baidu_soccer_embeddings.npy\n",
      "/scratch/users/mdelabrassinne/Database/europe_uefa-champions-league/2015-2016/2015-09-15 - 21-45 Sevilla 3 - 0 B. Monchengladbach/1_baidu_soccer_embeddings.npy\n",
      "/scratch/users/mdelabrassinne/Database/europe_uefa-champions-league/2015-2016/2015-09-15 - 21-45 Sevilla 3 - 0 B. Monchengladbach/2_baidu_soccer_embeddings.npy\n",
      "/scratch/users/mdelabrassinne/Database/europe_uefa-champions-league/2015-2016/2015-09-16 - 21-45 AS Roma 1 - 1 Barcelona/1_baidu_soccer_embeddings.npy\n",
      "/scratch/users/mdelabrassinne/Database/europe_uefa-champions-league/2015-2016/2015-09-16 - 21-45 AS Roma 1 - 1 Barcelona/2_baidu_soccer_embeddings.npy\n",
      "/scratch/users/mdelabrassinne/Database/europe_uefa-champions-league/2015-2016/2015-09-16 - 21-45 Bayer Leverkusen 4 - 1 BATE/1_baidu_soccer_embeddings.npy\n",
      "/scratch/users/mdelabrassinne/Database/europe_uefa-champions-league/2015-2016/2015-09-16 - 21-45 Bayer Leverkusen 4 - 1 BATE/2_baidu_soccer_embeddings.npy\n",
      "/scratch/users/mdelabrassinne/Database/europe_uefa-champions-league/2015-2016/2015-09-16 - 21-45 Gent 1 - 1 Lyon/1_baidu_soccer_embeddings.npy\n",
      "/scratch/users/mdelabrassinne/Database/europe_uefa-champions-league/2015-2016/2015-09-16 - 21-45 Gent 1 - 1 Lyon/2_baidu_soccer_embeddings.npy\n",
      "/scratch/users/mdelabrassinne/Database/europe_uefa-champions-league/2015-2016/2015-09-29 - 21-45 Arsenal 2 - 3 Olympiakos Piraeus/1_baidu_soccer_embeddings.npy\n",
      "/scratch/users/mdelabrassinne/Database/europe_uefa-champions-league/2015-2016/2015-09-29 - 21-45 Arsenal 2 - 3 Olympiakos Piraeus/2_baidu_soccer_embeddings.npy\n",
      "/scratch/users/mdelabrassinne/Database/europe_uefa-champions-league/2015-2016/2015-09-29 - 21-45 Lyon 0 - 1 Valencia/1_baidu_soccer_embeddings.npy\n",
      "/scratch/users/mdelabrassinne/Database/europe_uefa-champions-league/2015-2016/2015-09-29 - 21-45 Lyon 0 - 1 Valencia/2_baidu_soccer_embeddings.npy\n",
      "/scratch/users/mdelabrassinne/Database/europe_uefa-champions-league/2015-2016/2015-10-20 - 21-45 Arsenal 2 - 0 Bayern Munich/1_baidu_soccer_embeddings.npy\n",
      "/scratch/users/mdelabrassinne/Database/europe_uefa-champions-league/2015-2016/2015-10-20 - 21-45 Arsenal 2 - 0 Bayern Munich/2_baidu_soccer_embeddings.npy\n",
      "/scratch/users/mdelabrassinne/Database/europe_uefa-champions-league/2015-2016/2015-11-03 - 18-00 FC Astana 0 - 0 Atl. Madrid/1_baidu_soccer_embeddings.npy\n",
      "/scratch/users/mdelabrassinne/Database/europe_uefa-champions-league/2015-2016/2015-11-03 - 18-00 FC Astana 0 - 0 Atl. Madrid/2_baidu_soccer_embeddings.npy\n",
      "/scratch/users/mdelabrassinne/Database/europe_uefa-champions-league/2015-2016/2015-11-03 - 22-45 B. Monchengladbach 1 - 1 Juventus/1_baidu_soccer_embeddings.npy\n",
      "/scratch/users/mdelabrassinne/Database/europe_uefa-champions-league/2015-2016/2015-11-03 - 22-45 B. Monchengladbach 1 - 1 Juventus/2_baidu_soccer_embeddings.npy\n",
      "/scratch/users/mdelabrassinne/Database/europe_uefa-champions-league/2015-2016/2015-11-03 - 22-45 Manchester United 1 - 0 CSKA Moscow/1_baidu_soccer_embeddings.npy\n",
      "/scratch/users/mdelabrassinne/Database/europe_uefa-champions-league/2015-2016/2015-11-03 - 22-45 Manchester United 1 - 0 CSKA Moscow/2_baidu_soccer_embeddings.npy\n",
      "/scratch/users/mdelabrassinne/Database/europe_uefa-champions-league/2015-2016/2015-11-03 - 22-45 PSV 2 - 0 Wolfsburg/1_baidu_soccer_embeddings.npy\n",
      "/scratch/users/mdelabrassinne/Database/europe_uefa-champions-league/2015-2016/2015-11-03 - 22-45 PSV 2 - 0 Wolfsburg/2_baidu_soccer_embeddings.npy\n",
      "/scratch/users/mdelabrassinne/Database/europe_uefa-champions-league/2015-2016/2015-11-04 - 22-45 Bayern Munich 5 - 1 Arsenal/1_baidu_soccer_embeddings.npy\n",
      "/scratch/users/mdelabrassinne/Database/europe_uefa-champions-league/2015-2016/2015-11-04 - 22-45 Bayern Munich 5 - 1 Arsenal/2_baidu_soccer_embeddings.npy\n",
      "/scratch/users/mdelabrassinne/Database/europe_uefa-champions-league/2015-2016/2015-11-04 - 22-45 Gent 1 - 0 Valencia/1_baidu_soccer_embeddings.npy\n",
      "/scratch/users/mdelabrassinne/Database/europe_uefa-champions-league/2015-2016/2015-11-04 - 22-45 Gent 1 - 0 Valencia/2_baidu_soccer_embeddings.npy\n",
      "/scratch/users/mdelabrassinne/Database/europe_uefa-champions-league/2015-2016/2015-11-04 - 22-45 Lyon 0 - 2 Zenit Petersburg/1_baidu_soccer_embeddings.npy\n",
      "/scratch/users/mdelabrassinne/Database/europe_uefa-champions-league/2015-2016/2015-11-04 - 22-45 Lyon 0 - 2 Zenit Petersburg/2_baidu_soccer_embeddings.npy\n",
      "/scratch/users/mdelabrassinne/Database/europe_uefa-champions-league/2015-2016/2015-11-24 - 22-45 Barcelona 6 - 1 AS Roma/1_baidu_soccer_embeddings.npy\n",
      "/scratch/users/mdelabrassinne/Database/europe_uefa-champions-league/2015-2016/2015-11-24 - 22-45 Barcelona 6 - 1 AS Roma/2_baidu_soccer_embeddings.npy\n",
      "/scratch/users/mdelabrassinne/Database/europe_uefa-champions-league/2015-2016/2015-11-04 - 22-45 Maccabi Tel Aviv 1 - 3 FC Porto/1_baidu_soccer_embeddings.npy\n",
      "/scratch/users/mdelabrassinne/Database/europe_uefa-champions-league/2015-2016/2015-11-04 - 22-45 Maccabi Tel Aviv 1 - 3 FC Porto/2_baidu_soccer_embeddings.npy\n",
      "/scratch/users/mdelabrassinne/Database/europe_uefa-champions-league/2015-2016/2015-11-24 - 20-00 Zenit Petersburg 2 - 0 Valencia/1_baidu_soccer_embeddings.npy\n",
      "/scratch/users/mdelabrassinne/Database/europe_uefa-champions-league/2015-2016/2015-11-24 - 20-00 Zenit Petersburg 2 - 0 Valencia/2_baidu_soccer_embeddings.npy\n",
      "/scratch/users/mdelabrassinne/Database/europe_uefa-champions-league/2015-2016/2015-11-24 - 22-45 Bayern Munich 4 - 0 Olympiakos Piraeus/1_baidu_soccer_embeddings.npy\n",
      "/scratch/users/mdelabrassinne/Database/europe_uefa-champions-league/2015-2016/2015-11-24 - 22-45 Bayern Munich 4 - 0 Olympiakos Piraeus/2_baidu_soccer_embeddings.npy\n",
      "/scratch/users/mdelabrassinne/Database/europe_uefa-champions-league/2015-2016/2015-11-24 - 22-45 FC Porto 0 - 2 Dyn. Kiev/1_baidu_soccer_embeddings.npy\n",
      "/scratch/users/mdelabrassinne/Database/europe_uefa-champions-league/2015-2016/2015-11-24 - 22-45 FC Porto 0 - 2 Dyn. Kiev/2_baidu_soccer_embeddings.npy\n",
      "/scratch/users/mdelabrassinne/Database/europe_uefa-champions-league/2015-2016/2015-11-24 - 22-45 Maccabi Tel Aviv 0 - 4 Chelsea/1_baidu_soccer_embeddings.npy\n",
      "/scratch/users/mdelabrassinne/Database/europe_uefa-champions-league/2015-2016/2015-11-24 - 22-45 Maccabi Tel Aviv 0 - 4 Chelsea/2_baidu_soccer_embeddings.npy\n",
      "/scratch/users/mdelabrassinne/Database/europe_uefa-champions-league/2015-2016/2015-11-25 - 20-00 CSKA Moscow 0 - 2 Wolfsburg/1_baidu_soccer_embeddings.npy\n",
      "/scratch/users/mdelabrassinne/Database/europe_uefa-champions-league/2015-2016/2015-11-25 - 20-00 CSKA Moscow 0 - 2 Wolfsburg/2_baidu_soccer_embeddings.npy\n",
      "/scratch/users/mdelabrassinne/Database/europe_uefa-champions-league/2015-2016/2015-11-25 - 22-45 Atl. Madrid 2 - 0 Galatasaray/1_baidu_soccer_embeddings.npy\n",
      "/scratch/users/mdelabrassinne/Database/europe_uefa-champions-league/2015-2016/2015-11-25 - 22-45 Atl. Madrid 2 - 0 Galatasaray/2_baidu_soccer_embeddings.npy\n",
      "/scratch/users/mdelabrassinne/Database/europe_uefa-champions-league/2015-2016/2015-11-25 - 22-45 B. Monchengladbach 4 - 2 Sevilla/1_baidu_soccer_embeddings.npy\n",
      "/scratch/users/mdelabrassinne/Database/europe_uefa-champions-league/2015-2016/2015-11-25 - 22-45 B. Monchengladbach 4 - 2 Sevilla/2_baidu_soccer_embeddings.npy\n",
      "/scratch/users/mdelabrassinne/Database/europe_uefa-champions-league/2015-2016/2015-11-25 - 22-45 Malmo FF 0 - 5 Paris SG/1_baidu_soccer_embeddings.npy\n",
      "/scratch/users/mdelabrassinne/Database/europe_uefa-champions-league/2015-2016/2015-11-25 - 22-45 Malmo FF 0 - 5 Paris SG/2_baidu_soccer_embeddings.npy\n",
      "/scratch/users/mdelabrassinne/Database/europe_uefa-champions-league/2015-2016/2015-12-09 - 22-45 D. Zagreb 0 - 2 Bayern Munich/1_baidu_soccer_embeddings.npy\n",
      "/scratch/users/mdelabrassinne/Database/europe_uefa-champions-league/2015-2016/2015-12-09 - 22-45 D. Zagreb 0 - 2 Bayern Munich/2_baidu_soccer_embeddings.npy\n",
      "/scratch/users/mdelabrassinne/Database/europe_uefa-champions-league/2015-2016/2015-09-15 - 21-45 PSV 2 - 1 Manchester United/1_baidu_soccer_embeddings.npy\n",
      "/scratch/users/mdelabrassinne/Database/europe_uefa-champions-league/2015-2016/2015-09-15 - 21-45 PSV 2 - 1 Manchester United/2_baidu_soccer_embeddings.npy\n",
      "/scratch/users/mdelabrassinne/Database/europe_uefa-champions-league/2015-2016/2015-09-16 - 21-45 Chelsea 4 - 0 Maccabi Tel Aviv/1_baidu_soccer_embeddings.npy\n",
      "/scratch/users/mdelabrassinne/Database/europe_uefa-champions-league/2015-2016/2015-09-16 - 21-45 Chelsea 4 - 0 Maccabi Tel Aviv/2_baidu_soccer_embeddings.npy\n",
      "/scratch/users/mdelabrassinne/Database/europe_uefa-champions-league/2015-2016/2015-09-16 - 21-45 Dyn. Kiev 2 - 2 FC Porto/1_baidu_soccer_embeddings.npy\n",
      "/scratch/users/mdelabrassinne/Database/europe_uefa-champions-league/2015-2016/2015-09-16 - 21-45 Dyn. Kiev 2 - 2 FC Porto/2_baidu_soccer_embeddings.npy\n",
      "/scratch/users/mdelabrassinne/Database/europe_uefa-champions-league/2015-2016/2015-09-16 - 21-45 Olympiakos Piraeus 0 - 3 Bayern Munich/1_baidu_soccer_embeddings.npy\n",
      "/scratch/users/mdelabrassinne/Database/europe_uefa-champions-league/2015-2016/2015-09-16 - 21-45 Olympiakos Piraeus 0 - 3 Bayern Munich/2_baidu_soccer_embeddings.npy\n",
      "/scratch/users/mdelabrassinne/Database/europe_uefa-champions-league/2015-2016/2015-09-29 - 21-45 Barcelona 2 - 1 Bayer Leverkusen/1_baidu_soccer_embeddings.npy\n",
      "/scratch/users/mdelabrassinne/Database/europe_uefa-champions-league/2015-2016/2015-09-29 - 21-45 Barcelona 2 - 1 Bayer Leverkusen/2_baidu_soccer_embeddings.npy\n",
      "/scratch/users/mdelabrassinne/Database/europe_uefa-champions-league/2015-2016/2015-09-29 - 21-45 FC Porto 2 - 1 Chelsea/1_baidu_soccer_embeddings.npy\n",
      "/scratch/users/mdelabrassinne/Database/europe_uefa-champions-league/2015-2016/2015-09-29 - 21-45 FC Porto 2 - 1 Chelsea/2_baidu_soccer_embeddings.npy\n",
      "/scratch/users/mdelabrassinne/Database/europe_uefa-champions-league/2015-2016/2015-11-03 - 22-45 Benfica 2 - 1 Galatasaray/1_baidu_soccer_embeddings.npy\n",
      "/scratch/users/mdelabrassinne/Database/europe_uefa-champions-league/2015-2016/2015-11-03 - 22-45 Benfica 2 - 1 Galatasaray/2_baidu_soccer_embeddings.npy\n",
      "/scratch/users/mdelabrassinne/Database/europe_uefa-champions-league/2015-2016/2015-11-04 - 22-45 Barcelona 3 - 0 BATE/1_baidu_soccer_embeddings.npy\n",
      "/scratch/users/mdelabrassinne/Database/europe_uefa-champions-league/2015-2016/2015-11-04 - 22-45 Barcelona 3 - 0 BATE/2_baidu_soccer_embeddings.npy\n",
      "/scratch/users/mdelabrassinne/Database/europe_uefa-champions-league/2015-2016/2015-11-24 - 20-00 BATE 1 - 1 Bayer Leverkusen/1_baidu_soccer_embeddings.npy\n",
      "/scratch/users/mdelabrassinne/Database/europe_uefa-champions-league/2015-2016/2015-11-24 - 20-00 BATE 1 - 1 Bayer Leverkusen/2_baidu_soccer_embeddings.npy\n",
      "/scratch/users/mdelabrassinne/Database/europe_uefa-champions-league/2015-2016/2015-11-25 - 22-45 Juventus 1 - 0 Manchester City/1_baidu_soccer_embeddings.npy\n",
      "/scratch/users/mdelabrassinne/Database/europe_uefa-champions-league/2015-2016/2015-11-25 - 22-45 Juventus 1 - 0 Manchester City/2_baidu_soccer_embeddings.npy\n",
      "/scratch/users/mdelabrassinne/Database/europe_uefa-champions-league/2015-2016/2015-09-29 - 21-45 Bayern Munich 5 - 0 D. Zagreb/1_baidu_soccer_embeddings.npy\n",
      "/scratch/users/mdelabrassinne/Database/europe_uefa-champions-league/2015-2016/2015-09-29 - 21-45 Bayern Munich 5 - 0 D. Zagreb/2_baidu_soccer_embeddings.npy\n",
      "/scratch/users/mdelabrassinne/Database/europe_uefa-champions-league/2015-2016/2015-11-03 - 22-45 Real Madrid 1 - 0 Paris SG/1_baidu_soccer_embeddings.npy\n",
      "/scratch/users/mdelabrassinne/Database/europe_uefa-champions-league/2015-2016/2015-11-03 - 22-45 Real Madrid 1 - 0 Paris SG/2_baidu_soccer_embeddings.npy\n",
      "/scratch/users/mdelabrassinne/Database/europe_uefa-champions-league/2015-2016/2015-11-03 - 22-45 Sevilla 1 - 3 Manchester City/1_baidu_soccer_embeddings.npy\n",
      "/scratch/users/mdelabrassinne/Database/europe_uefa-champions-league/2015-2016/2015-11-03 - 22-45 Sevilla 1 - 3 Manchester City/2_baidu_soccer_embeddings.npy\n",
      "/scratch/users/mdelabrassinne/Database/europe_uefa-champions-league/2015-2016/2015-11-03 - 22-45 Shakhtar Donetsk 4 - 0 Malmo FF/1_baidu_soccer_embeddings.npy\n",
      "/scratch/users/mdelabrassinne/Database/europe_uefa-champions-league/2015-2016/2015-11-03 - 22-45 Shakhtar Donetsk 4 - 0 Malmo FF/2_baidu_soccer_embeddings.npy\n",
      "/scratch/users/mdelabrassinne/Database/europe_uefa-champions-league/2015-2016/2015-11-25 - 22-45 Shakhtar Donetsk 3 - 4 Real Madrid/1_baidu_soccer_embeddings.npy\n",
      "/scratch/users/mdelabrassinne/Database/europe_uefa-champions-league/2015-2016/2015-11-25 - 22-45 Shakhtar Donetsk 3 - 4 Real Madrid/2_baidu_soccer_embeddings.npy\n",
      "/scratch/users/mdelabrassinne/Database/europe_uefa-champions-league/2015-2016/2016-04-05 - 21-45 Bayern Munich 1 - 0 Benfica/1_baidu_soccer_embeddings.npy\n",
      "/scratch/users/mdelabrassinne/Database/europe_uefa-champions-league/2015-2016/2016-04-05 - 21-45 Bayern Munich 1 - 0 Benfica/2_baidu_soccer_embeddings.npy\n",
      "/scratch/users/mdelabrassinne/Database/europe_uefa-champions-league/2016-2017/2016-09-13_-_21-45_Barcelona_7_-_0_Celtic/Labels-v2.json\n"
     ]
    },
    {
     "name": "stderr",
     "output_type": "stream",
     "text": [
      "34571it [00:26, 1261.84it/s]"
     ]
    },
    {
     "name": "stdout",
     "output_type": "stream",
     "text": [
      "/scratch/users/mdelabrassinne/Database/europe_uefa-champions-league/2016-2017/2016-09-13_-_21-45_Dyn._Kiev_1_-_2_Napoli/Labels-v2.json\n",
      "/scratch/users/mdelabrassinne/Database/europe_uefa-champions-league/2016-2017/2016-09-28_-_21-45_Ludogorets_1_-_3_Paris_SG/Labels-v2.json\n"
     ]
    },
    {
     "name": "stderr",
     "output_type": "stream",
     "text": [
      "34977it [00:26, 1320.29it/s]"
     ]
    },
    {
     "name": "stdout",
     "output_type": "stream",
     "text": [
      "/scratch/users/mdelabrassinne/Database/europe_uefa-champions-league/2016-2017/2016-10-19_-_21-45_Barcelona_4_-_0_Manchester_City/Labels-v2.json\n",
      "/scratch/users/mdelabrassinne/Database/europe_uefa-champions-league/2016-2017/2016-11-23_-_22-45_Celtic_0_-_2_Barcelona/Labels-v2.json\n"
     ]
    },
    {
     "name": "stderr",
     "output_type": "stream",
     "text": [
      "35379it [00:26, 1239.60it/s]"
     ]
    },
    {
     "name": "stdout",
     "output_type": "stream",
     "text": [
      "/scratch/users/mdelabrassinne/Database/europe_uefa-champions-league/2016-2017/2016-11-23_-_22-45_Napoli_0_-_0_Dyn._Kiev/Labels-v2.json\n"
     ]
    },
    {
     "name": "stderr",
     "output_type": "stream",
     "text": [
      "35504it [00:27, 1189.00it/s]"
     ]
    },
    {
     "name": "stdout",
     "output_type": "stream",
     "text": [
      "/scratch/users/mdelabrassinne/Database/europe_uefa-champions-league/2016-2017/2016-12-06_-_22-45_Benfica_1_-_2_Napoli/Labels-v2.json\n",
      "/scratch/users/mdelabrassinne/Database/europe_uefa-champions-league/2016-2017/2017-02-14_-_22-45_Paris_SG_4_-_0_Barcelona/Labels-v2.json\n"
     ]
    },
    {
     "name": "stderr",
     "output_type": "stream",
     "text": [
      "36010it [00:27, 1249.51it/s]"
     ]
    },
    {
     "name": "stdout",
     "output_type": "stream",
     "text": [
      "/scratch/users/mdelabrassinne/Database/europe_uefa-champions-league/2016-2017/2017-02-15_-_22-45_Real_Madrid_3_-_1_Napoli/Labels-v2.json\n",
      "/scratch/users/mdelabrassinne/Database/europe_uefa-champions-league/2016-2017/2017-03-07_-_22-45_Napoli_1_-_3_Real_Madrid/Labels-v2.json\n"
     ]
    },
    {
     "name": "stderr",
     "output_type": "stream",
     "text": [
      "36399it [00:27, 1259.09it/s]"
     ]
    },
    {
     "name": "stdout",
     "output_type": "stream",
     "text": [
      "/scratch/users/mdelabrassinne/Database/europe_uefa-champions-league/2016-2017/2017-04-18_-_21-45_Real_Madrid_4_-_2_Bayern_Munich/Labels-v2.json\n",
      "/scratch/users/mdelabrassinne/Database/europe_uefa-champions-league/2016-2017/2016-09-28_-_21-45_Napoli_4_-_2_Benfica/Labels-v2.json\n"
     ]
    },
    {
     "name": "stderr",
     "output_type": "stream",
     "text": [
      "36668it [00:27, 1298.25it/s]"
     ]
    },
    {
     "name": "stdout",
     "output_type": "stream",
     "text": [
      "/scratch/users/mdelabrassinne/Database/europe_uefa-champions-league/2016-2017/2016-10-19_-_21-45_Paris_SG_3_-_0_Basel/Labels-v2.json\n",
      "/scratch/users/mdelabrassinne/Database/europe_uefa-champions-league/2016-2017/2016-11-01_-_20-45_Besiktas_1_-_1_Napoli/Labels-v2.json\n"
     ]
    },
    {
     "name": "stderr",
     "output_type": "stream",
     "text": [
      "37082it [00:28, 1318.13it/s]"
     ]
    },
    {
     "name": "stdout",
     "output_type": "stream",
     "text": [
      "/scratch/users/mdelabrassinne/Database/europe_uefa-champions-league/2016-2017/2016-11-01_-_22-45_Manchester_City_3_-_1_Barcelona/Labels-v2.json\n",
      "/scratch/users/mdelabrassinne/Database/europe_uefa-champions-league/2016-2017/2016-11-23_-_22-45_Arsenal_2_-_2_Paris_SG/Labels-v2.json\n"
     ]
    },
    {
     "name": "stderr",
     "output_type": "stream",
     "text": [
      "37477it [00:28, 1285.90it/s]"
     ]
    },
    {
     "name": "stdout",
     "output_type": "stream",
     "text": [
      "/scratch/users/mdelabrassinne/Database/europe_uefa-champions-league/2016-2017/2017-03-08_-_22-45_Barcelona_6_-_1_Paris_SG/Labels-v2.json\n",
      "/scratch/users/mdelabrassinne/Database/europe_uefa-champions-league/2016-2017/2017-04-12_-_21-45_Bayern_Munich_1_-_2_Real_Madrid/Labels-v2.json\n"
     ]
    },
    {
     "name": "stderr",
     "output_type": "stream",
     "text": [
      "37879it [00:28, 1318.18it/s]"
     ]
    },
    {
     "name": "stdout",
     "output_type": "stream",
     "text": [
      "/scratch/users/mdelabrassinne/Database/europe_uefa-champions-league/2016-2017/2017-05-02_-_21-45_Real_Madrid_3_-_0_Atl._Madrid/Labels-v2.json\n",
      "/scratch/users/mdelabrassinne/Database/europe_uefa-champions-league/2016-2017/2016-09-13 - 21-45 Barcelona 7 - 0 Celtic/1_baidu_soccer_embeddings.npy\n",
      "/scratch/users/mdelabrassinne/Database/europe_uefa-champions-league/2016-2017/2016-09-13 - 21-45 Barcelona 7 - 0 Celtic/2_baidu_soccer_embeddings.npy\n",
      "/scratch/users/mdelabrassinne/Database/europe_uefa-champions-league/2016-2017/2016-09-13 - 21-45 Dyn. Kiev 1 - 2 Napoli/1_baidu_soccer_embeddings.npy\n",
      "/scratch/users/mdelabrassinne/Database/europe_uefa-champions-league/2016-2017/2016-09-13 - 21-45 Dyn. Kiev 1 - 2 Napoli/2_baidu_soccer_embeddings.npy\n",
      "/scratch/users/mdelabrassinne/Database/europe_uefa-champions-league/2016-2017/2016-09-28 - 21-45 Ludogorets 1 - 3 Paris SG/1_baidu_soccer_embeddings.npy\n",
      "/scratch/users/mdelabrassinne/Database/europe_uefa-champions-league/2016-2017/2016-09-28 - 21-45 Ludogorets 1 - 3 Paris SG/2_baidu_soccer_embeddings.npy\n",
      "/scratch/users/mdelabrassinne/Database/europe_uefa-champions-league/2016-2017/2016-10-19 - 21-45 Barcelona 4 - 0 Manchester City/1_baidu_soccer_embeddings.npy\n",
      "/scratch/users/mdelabrassinne/Database/europe_uefa-champions-league/2016-2017/2016-10-19 - 21-45 Barcelona 4 - 0 Manchester City/2_baidu_soccer_embeddings.npy\n",
      "/scratch/users/mdelabrassinne/Database/europe_uefa-champions-league/2016-2017/2016-11-23 - 22-45 Celtic 0 - 2 Barcelona/1_baidu_soccer_embeddings.npy\n",
      "/scratch/users/mdelabrassinne/Database/europe_uefa-champions-league/2016-2017/2016-11-23 - 22-45 Celtic 0 - 2 Barcelona/2_baidu_soccer_embeddings.npy\n",
      "/scratch/users/mdelabrassinne/Database/europe_uefa-champions-league/2016-2017/2016-11-23 - 22-45 Napoli 0 - 0 Dyn. Kiev/1_baidu_soccer_embeddings.npy\n",
      "/scratch/users/mdelabrassinne/Database/europe_uefa-champions-league/2016-2017/2016-11-23 - 22-45 Napoli 0 - 0 Dyn. Kiev/2_baidu_soccer_embeddings.npy\n",
      "/scratch/users/mdelabrassinne/Database/europe_uefa-champions-league/2016-2017/2016-12-06 - 22-45 Benfica 1 - 2 Napoli/1_baidu_soccer_embeddings.npy\n",
      "/scratch/users/mdelabrassinne/Database/europe_uefa-champions-league/2016-2017/2016-12-06 - 22-45 Benfica 1 - 2 Napoli/2_baidu_soccer_embeddings.npy\n",
      "/scratch/users/mdelabrassinne/Database/europe_uefa-champions-league/2016-2017/2017-02-14 - 22-45 Paris SG 4 - 0 Barcelona/1_baidu_soccer_embeddings.npy\n",
      "/scratch/users/mdelabrassinne/Database/europe_uefa-champions-league/2016-2017/2017-02-14 - 22-45 Paris SG 4 - 0 Barcelona/2_baidu_soccer_embeddings.npy\n",
      "/scratch/users/mdelabrassinne/Database/europe_uefa-champions-league/2016-2017/2017-02-15 - 22-45 Real Madrid 3 - 1 Napoli/1_baidu_soccer_embeddings.npy\n",
      "/scratch/users/mdelabrassinne/Database/europe_uefa-champions-league/2016-2017/2017-02-15 - 22-45 Real Madrid 3 - 1 Napoli/2_baidu_soccer_embeddings.npy\n",
      "/scratch/users/mdelabrassinne/Database/europe_uefa-champions-league/2016-2017/2017-03-07 - 22-45 Napoli 1 - 3 Real Madrid/1_baidu_soccer_embeddings.npy\n",
      "/scratch/users/mdelabrassinne/Database/europe_uefa-champions-league/2016-2017/2017-03-07 - 22-45 Napoli 1 - 3 Real Madrid/2_baidu_soccer_embeddings.npy\n",
      "/scratch/users/mdelabrassinne/Database/europe_uefa-champions-league/2016-2017/2017-04-18 - 21-45 Real Madrid 4 - 2 Bayern Munich/1_baidu_soccer_embeddings.npy\n",
      "/scratch/users/mdelabrassinne/Database/europe_uefa-champions-league/2016-2017/2017-04-18 - 21-45 Real Madrid 4 - 2 Bayern Munich/2_baidu_soccer_embeddings.npy\n",
      "/scratch/users/mdelabrassinne/Database/europe_uefa-champions-league/2016-2017/2016-09-28 - 21-45 Napoli 4 - 2 Benfica/1_baidu_soccer_embeddings.npy\n",
      "/scratch/users/mdelabrassinne/Database/europe_uefa-champions-league/2016-2017/2016-09-28 - 21-45 Napoli 4 - 2 Benfica/2_baidu_soccer_embeddings.npy\n",
      "/scratch/users/mdelabrassinne/Database/europe_uefa-champions-league/2016-2017/2016-10-19 - 21-45 Paris SG 3 - 0 Basel/1_baidu_soccer_embeddings.npy\n",
      "/scratch/users/mdelabrassinne/Database/europe_uefa-champions-league/2016-2017/2016-10-19 - 21-45 Paris SG 3 - 0 Basel/2_baidu_soccer_embeddings.npy\n",
      "/scratch/users/mdelabrassinne/Database/europe_uefa-champions-league/2016-2017/2016-11-01 - 20-45 Besiktas 1 - 1 Napoli/1_baidu_soccer_embeddings.npy\n",
      "/scratch/users/mdelabrassinne/Database/europe_uefa-champions-league/2016-2017/2016-11-01 - 20-45 Besiktas 1 - 1 Napoli/2_baidu_soccer_embeddings.npy\n",
      "/scratch/users/mdelabrassinne/Database/europe_uefa-champions-league/2016-2017/2016-11-01 - 22-45 Manchester City 3 - 1 Barcelona/1_baidu_soccer_embeddings.npy\n",
      "/scratch/users/mdelabrassinne/Database/europe_uefa-champions-league/2016-2017/2016-11-01 - 22-45 Manchester City 3 - 1 Barcelona/2_baidu_soccer_embeddings.npy\n",
      "/scratch/users/mdelabrassinne/Database/europe_uefa-champions-league/2016-2017/2016-11-23 - 22-45 Arsenal 2 - 2 Paris SG/1_baidu_soccer_embeddings.npy\n",
      "/scratch/users/mdelabrassinne/Database/europe_uefa-champions-league/2016-2017/2016-11-23 - 22-45 Arsenal 2 - 2 Paris SG/2_baidu_soccer_embeddings.npy\n",
      "/scratch/users/mdelabrassinne/Database/europe_uefa-champions-league/2016-2017/2017-03-08 - 22-45 Barcelona 6 - 1 Paris SG/1_baidu_soccer_embeddings.npy\n",
      "/scratch/users/mdelabrassinne/Database/europe_uefa-champions-league/2016-2017/2017-03-08 - 22-45 Barcelona 6 - 1 Paris SG/2_baidu_soccer_embeddings.npy\n",
      "/scratch/users/mdelabrassinne/Database/europe_uefa-champions-league/2016-2017/2017-04-12 - 21-45 Bayern Munich 1 - 2 Real Madrid/1_baidu_soccer_embeddings.npy\n",
      "/scratch/users/mdelabrassinne/Database/europe_uefa-champions-league/2016-2017/2017-04-12 - 21-45 Bayern Munich 1 - 2 Real Madrid/2_baidu_soccer_embeddings.npy\n",
      "/scratch/users/mdelabrassinne/Database/europe_uefa-champions-league/2016-2017/2017-05-02 - 21-45 Real Madrid 3 - 0 Atl. Madrid/1_baidu_soccer_embeddings.npy\n",
      "/scratch/users/mdelabrassinne/Database/europe_uefa-champions-league/2016-2017/2017-05-02 - 21-45 Real Madrid 3 - 0 Atl. Madrid/2_baidu_soccer_embeddings.npy\n",
      "/scratch/users/mdelabrassinne/Database/europe_uefa-champions-league/2016-2017/2017-05-09 - 18-00 Juventus 2 - 1 Monaco/1_baidu_soccer_embeddings.npy\n",
      "/scratch/users/mdelabrassinne/Database/europe_uefa-champions-league/2016-2017/2017-05-09 - 18-00 Juventus 2 - 1 Monaco/2_baidu_soccer_embeddings.npy\n",
      "/scratch/users/mdelabrassinne/Database/europe_uefa-champions-league/2016-2017/2017-04-11 - 18-00 Juventus 3 - 0 Barcelona/1_baidu_soccer_embeddings.npy\n",
      "/scratch/users/mdelabrassinne/Database/europe_uefa-champions-league/2016-2017/2017-04-11 - 18-00 Juventus 3 - 0 Barcelona/2_baidu_soccer_embeddings.npy\n",
      "/scratch/users/mdelabrassinne/Database/europe_uefa-champions-league/2016-2017/2017-03-07 - 18-00 Arsenal 1 - 5 Bayern/1_baidu_soccer_embeddings.npy\n",
      "/scratch/users/mdelabrassinne/Database/europe_uefa-champions-league/2016-2017/2017-03-07 - 18-00 Arsenal 1 - 5 Bayern/2_baidu_soccer_embeddings.npy\n",
      "/scratch/users/mdelabrassinne/Database/europe_uefa-champions-league/2016-2017/2017-02-15 - 18-00 Bayern 5 - 1 Arsenal/1_baidu_soccer_embeddings.npy\n",
      "/scratch/users/mdelabrassinne/Database/europe_uefa-champions-league/2016-2017/2017-02-15 - 18-00 Bayern 5 - 1 Arsenal/2_baidu_soccer_embeddings.npy\n",
      "/scratch/users/mdelabrassinne/Database/europe_uefa-champions-league/2016-2017/2016-12-06 - 18-00 Basel 1 - 4 Arsenal/1_baidu_soccer_embeddings.npy\n",
      "/scratch/users/mdelabrassinne/Database/europe_uefa-champions-league/2016-2017/2016-12-06 - 18-00 Basel 1 - 4 Arsenal/2_baidu_soccer_embeddings.npy\n",
      "/scratch/users/mdelabrassinne/Database/europe_uefa-champions-league/2016-2017/2016-11-06 - 18-00 Ludogorets Razgrad 2 - 3 Arsenal/1_baidu_soccer_embeddings.npy\n",
      "/scratch/users/mdelabrassinne/Database/europe_uefa-champions-league/2016-2017/2016-11-06 - 18-00 Ludogorets Razgrad 2 - 3 Arsenal/2_baidu_soccer_embeddings.npy\n",
      "/scratch/users/mdelabrassinne/Database/europe_uefa-champions-league/2016-2017/2016-09-26 - 18-00 Arsenal 2 - 0 Basel/1_baidu_soccer_embeddings.npy\n",
      "/scratch/users/mdelabrassinne/Database/europe_uefa-champions-league/2016-2017/2016-09-26 - 18-00 Arsenal 2 - 0 Basel/2_baidu_soccer_embeddings.npy\n",
      "/scratch/users/mdelabrassinne/Database/france_ligue-1/2014-2015/2015-04-05_-_22-00_Marseille_2_-_3_Paris_SG/Labels-v2.json\n"
     ]
    },
    {
     "name": "stderr",
     "output_type": "stream",
     "text": [
      "38141it [00:29, 1298.00it/s]"
     ]
    },
    {
     "name": "stdout",
     "output_type": "stream",
     "text": [
      "/scratch/users/mdelabrassinne/Database/france_ligue-1/2014-2015/2015-04-05 - 22-00 Marseille 2 - 3 Paris SG/1_baidu_soccer_embeddings.npy\n",
      "/scratch/users/mdelabrassinne/Database/france_ligue-1/2014-2015/2015-04-05 - 22-00 Marseille 2 - 3 Paris SG/2_baidu_soccer_embeddings.npy\n",
      "/scratch/users/mdelabrassinne/Database/france_ligue-1/2015-2016/2015-09-26_-_18-30_Nantes_1_-_4_Paris_SG/Labels-v2.json\n",
      "/scratch/users/mdelabrassinne/Database/france_ligue-1/2015-2016/2015-11-07_-_19-00_Paris_SG_5_-_0_Toulouse/Labels-v2.json\n"
     ]
    },
    {
     "name": "stderr",
     "output_type": "stream",
     "text": [
      "38538it [00:29, 1306.09it/s]"
     ]
    },
    {
     "name": "stdout",
     "output_type": "stream",
     "text": [
      "/scratch/users/mdelabrassinne/Database/france_ligue-1/2015-2016/2015-09-19_-_18-30_Reims_1_-_1_Paris_SG/Labels-v2.json\n",
      "/scratch/users/mdelabrassinne/Database/france_ligue-1/2015-2016/2015-09-26 - 18-30 Nantes 1 - 4 Paris SG/1_baidu_soccer_embeddings.npy\n",
      "/scratch/users/mdelabrassinne/Database/france_ligue-1/2015-2016/2015-09-26 - 18-30 Nantes 1 - 4 Paris SG/2_baidu_soccer_embeddings.npy\n",
      "/scratch/users/mdelabrassinne/Database/france_ligue-1/2015-2016/2015-11-07 - 19-00 Paris SG 5 - 0 Toulouse/1_baidu_soccer_embeddings.npy\n",
      "/scratch/users/mdelabrassinne/Database/france_ligue-1/2015-2016/2015-11-07 - 19-00 Paris SG 5 - 0 Toulouse/2_baidu_soccer_embeddings.npy\n",
      "/scratch/users/mdelabrassinne/Database/france_ligue-1/2015-2016/2015-09-19 - 18-30 Reims 1 - 1 Paris SG/1_baidu_soccer_embeddings.npy\n",
      "/scratch/users/mdelabrassinne/Database/france_ligue-1/2015-2016/2015-09-19 - 18-30 Reims 1 - 1 Paris SG/2_baidu_soccer_embeddings.npy\n",
      "/scratch/users/mdelabrassinne/Database/france_ligue-1/2016-2017/2016-12-21_-_22-50_Paris_SG_5_-_0_Lorient/Labels-v2.json\n"
     ]
    },
    {
     "name": "stderr",
     "output_type": "stream",
     "text": [
      "38942it [00:29, 1328.11it/s]"
     ]
    },
    {
     "name": "stdout",
     "output_type": "stream",
     "text": [
      "/scratch/users/mdelabrassinne/Database/france_ligue-1/2016-2017/2017-01-21_-_19-00_Nantes_0_-_2_Paris_SG/Labels-v2.json\n",
      "/scratch/users/mdelabrassinne/Database/france_ligue-1/2016-2017/2017-02-10_-_22-45_Bordeaux_0_-_3_Paris_SG/Labels-v2.json\n"
     ]
    },
    {
     "name": "stderr",
     "output_type": "stream",
     "text": [
      "39206it [00:29, 1302.02it/s]"
     ]
    },
    {
     "name": "stdout",
     "output_type": "stream",
     "text": [
      "/scratch/users/mdelabrassinne/Database/france_ligue-1/2016-2017/2017-02-19_-_23-00_Paris_SG_0_-_0_Toulouse/Labels-v2.json\n",
      "/scratch/users/mdelabrassinne/Database/france_ligue-1/2016-2017/2017-02-26_-_23-00_Marseille_1_-_5_Paris_SG/Labels-v2.json\n"
     ]
    },
    {
     "name": "stderr",
     "output_type": "stream",
     "text": [
      "39599it [00:30, 1302.23it/s]"
     ]
    },
    {
     "name": "stdout",
     "output_type": "stream",
     "text": [
      "/scratch/users/mdelabrassinne/Database/france_ligue-1/2016-2017/2017-03-12_-_23-00_Lorient_1_-_2_Paris_SG/Labels-v2.json\n",
      "/scratch/users/mdelabrassinne/Database/france_ligue-1/2016-2017/2017-03-19_-_23-00_Paris_SG_2_-_1_Lyon/Labels-v2.json\n"
     ]
    },
    {
     "name": "stderr",
     "output_type": "stream",
     "text": [
      "39824it [00:30, 1311.37it/s]\n"
     ]
    },
    {
     "name": "stdout",
     "output_type": "stream",
     "text": [
      "/scratch/users/mdelabrassinne/Database/france_ligue-1/2016-2017/2017-04-14_-_21-45_Angers_0_-_2_Paris_SG/Labels-v2.json\n"
     ]
    },
    {
     "ename": "KeyboardInterrupt",
     "evalue": "",
     "output_type": "error",
     "traceback": [
      "\u001b[0;31m---------------------------------------------------------------------------\u001b[0m",
      "\u001b[0;31mKeyboardInterrupt\u001b[0m                         Traceback (most recent call last)",
      "Cell \u001b[0;32mIn[78], line 8\u001b[0m\n\u001b[1;32m      3\u001b[0m timeLabel \u001b[38;5;241m=\u001b[39m []\n\u001b[1;32m      5\u001b[0m path \u001b[38;5;241m=\u001b[39m \u001b[38;5;124m'\u001b[39m\u001b[38;5;124m/scratch/users/mdelabrassinne/Database/\u001b[39m\u001b[38;5;124m'\u001b[39m\n\u001b[0;32m----> 8\u001b[0m \u001b[38;5;28;01mfor\u001b[39;00m root, dirs, files \u001b[38;5;129;01min\u001b[39;00m tqdm(os\u001b[38;5;241m.\u001b[39mwalk(path)):\n\u001b[1;32m      9\u001b[0m     \u001b[38;5;66;03m#print(files)\u001b[39;00m\n\u001b[1;32m     10\u001b[0m     \u001b[38;5;28;01mfor\u001b[39;00m file \u001b[38;5;129;01min\u001b[39;00m files:\n\u001b[1;32m     11\u001b[0m         \u001b[38;5;28;01mif\u001b[39;00m file\u001b[38;5;241m.\u001b[39mendswith(\u001b[38;5;124m\"\u001b[39m\u001b[38;5;124mbaidu_soccer_embeddings.npy\u001b[39m\u001b[38;5;124m\"\u001b[39m):\n",
      "File \u001b[0;32m~/anaconda3/envs/envDeepLearning/lib/python3.9/site-packages/tqdm/std.py:1195\u001b[0m, in \u001b[0;36mtqdm.__iter__\u001b[0;34m(self)\u001b[0m\n\u001b[1;32m   1192\u001b[0m time \u001b[38;5;241m=\u001b[39m \u001b[38;5;28mself\u001b[39m\u001b[38;5;241m.\u001b[39m_time\n\u001b[1;32m   1194\u001b[0m \u001b[38;5;28;01mtry\u001b[39;00m:\n\u001b[0;32m-> 1195\u001b[0m     \u001b[38;5;28;01mfor\u001b[39;00m obj \u001b[38;5;129;01min\u001b[39;00m iterable:\n\u001b[1;32m   1196\u001b[0m         \u001b[38;5;28;01myield\u001b[39;00m obj\n\u001b[1;32m   1197\u001b[0m         \u001b[38;5;66;03m# Update and possibly print the progressbar.\u001b[39;00m\n\u001b[1;32m   1198\u001b[0m         \u001b[38;5;66;03m# Note: does not call self.update(1) for speed optimisation.\u001b[39;00m\n",
      "File \u001b[0;32m~/anaconda3/envs/envDeepLearning/lib/python3.9/os.py:418\u001b[0m, in \u001b[0;36m_walk\u001b[0;34m(top, topdown, onerror, followlinks)\u001b[0m\n\u001b[1;32m    413\u001b[0m         \u001b[38;5;66;03m# Issue #23605: os.path.islink() is used instead of caching\u001b[39;00m\n\u001b[1;32m    414\u001b[0m         \u001b[38;5;66;03m# entry.is_symlink() result during the loop on os.scandir() because\u001b[39;00m\n\u001b[1;32m    415\u001b[0m         \u001b[38;5;66;03m# the caller can replace the directory entry during the \"yield\"\u001b[39;00m\n\u001b[1;32m    416\u001b[0m         \u001b[38;5;66;03m# above.\u001b[39;00m\n\u001b[1;32m    417\u001b[0m         \u001b[38;5;28;01mif\u001b[39;00m followlinks \u001b[38;5;129;01mor\u001b[39;00m \u001b[38;5;129;01mnot\u001b[39;00m islink(new_path):\n\u001b[0;32m--> 418\u001b[0m             \u001b[38;5;28;01myield from\u001b[39;00m _walk(new_path, topdown, onerror, followlinks)\n\u001b[1;32m    419\u001b[0m \u001b[38;5;28;01melse\u001b[39;00m:\n\u001b[1;32m    420\u001b[0m     \u001b[38;5;66;03m# Recurse into sub-directories\u001b[39;00m\n\u001b[1;32m    421\u001b[0m     \u001b[38;5;28;01mfor\u001b[39;00m new_path \u001b[38;5;129;01min\u001b[39;00m walk_dirs:\n",
      "File \u001b[0;32m~/anaconda3/envs/envDeepLearning/lib/python3.9/os.py:418\u001b[0m, in \u001b[0;36m_walk\u001b[0;34m(top, topdown, onerror, followlinks)\u001b[0m\n\u001b[1;32m    413\u001b[0m         \u001b[38;5;66;03m# Issue #23605: os.path.islink() is used instead of caching\u001b[39;00m\n\u001b[1;32m    414\u001b[0m         \u001b[38;5;66;03m# entry.is_symlink() result during the loop on os.scandir() because\u001b[39;00m\n\u001b[1;32m    415\u001b[0m         \u001b[38;5;66;03m# the caller can replace the directory entry during the \"yield\"\u001b[39;00m\n\u001b[1;32m    416\u001b[0m         \u001b[38;5;66;03m# above.\u001b[39;00m\n\u001b[1;32m    417\u001b[0m         \u001b[38;5;28;01mif\u001b[39;00m followlinks \u001b[38;5;129;01mor\u001b[39;00m \u001b[38;5;129;01mnot\u001b[39;00m islink(new_path):\n\u001b[0;32m--> 418\u001b[0m             \u001b[38;5;28;01myield from\u001b[39;00m _walk(new_path, topdown, onerror, followlinks)\n\u001b[1;32m    419\u001b[0m \u001b[38;5;28;01melse\u001b[39;00m:\n\u001b[1;32m    420\u001b[0m     \u001b[38;5;66;03m# Recurse into sub-directories\u001b[39;00m\n\u001b[1;32m    421\u001b[0m     \u001b[38;5;28;01mfor\u001b[39;00m new_path \u001b[38;5;129;01min\u001b[39;00m walk_dirs:\n",
      "    \u001b[0;31m[... skipping similar frames: _walk at line 418 (2 times)]\u001b[0m\n",
      "File \u001b[0;32m~/anaconda3/envs/envDeepLearning/lib/python3.9/os.py:418\u001b[0m, in \u001b[0;36m_walk\u001b[0;34m(top, topdown, onerror, followlinks)\u001b[0m\n\u001b[1;32m    413\u001b[0m         \u001b[38;5;66;03m# Issue #23605: os.path.islink() is used instead of caching\u001b[39;00m\n\u001b[1;32m    414\u001b[0m         \u001b[38;5;66;03m# entry.is_symlink() result during the loop on os.scandir() because\u001b[39;00m\n\u001b[1;32m    415\u001b[0m         \u001b[38;5;66;03m# the caller can replace the directory entry during the \"yield\"\u001b[39;00m\n\u001b[1;32m    416\u001b[0m         \u001b[38;5;66;03m# above.\u001b[39;00m\n\u001b[1;32m    417\u001b[0m         \u001b[38;5;28;01mif\u001b[39;00m followlinks \u001b[38;5;129;01mor\u001b[39;00m \u001b[38;5;129;01mnot\u001b[39;00m islink(new_path):\n\u001b[0;32m--> 418\u001b[0m             \u001b[38;5;28;01myield from\u001b[39;00m _walk(new_path, topdown, onerror, followlinks)\n\u001b[1;32m    419\u001b[0m \u001b[38;5;28;01melse\u001b[39;00m:\n\u001b[1;32m    420\u001b[0m     \u001b[38;5;66;03m# Recurse into sub-directories\u001b[39;00m\n\u001b[1;32m    421\u001b[0m     \u001b[38;5;28;01mfor\u001b[39;00m new_path \u001b[38;5;129;01min\u001b[39;00m walk_dirs:\n",
      "File \u001b[0;32m~/anaconda3/envs/envDeepLearning/lib/python3.9/os.py:417\u001b[0m, in \u001b[0;36m_walk\u001b[0;34m(top, topdown, onerror, followlinks)\u001b[0m\n\u001b[1;32m    412\u001b[0m         new_path \u001b[38;5;241m=\u001b[39m join(top, dirname)\n\u001b[1;32m    413\u001b[0m         \u001b[38;5;66;03m# Issue #23605: os.path.islink() is used instead of caching\u001b[39;00m\n\u001b[1;32m    414\u001b[0m         \u001b[38;5;66;03m# entry.is_symlink() result during the loop on os.scandir() because\u001b[39;00m\n\u001b[1;32m    415\u001b[0m         \u001b[38;5;66;03m# the caller can replace the directory entry during the \"yield\"\u001b[39;00m\n\u001b[1;32m    416\u001b[0m         \u001b[38;5;66;03m# above.\u001b[39;00m\n\u001b[0;32m--> 417\u001b[0m         \u001b[38;5;28;01mif\u001b[39;00m followlinks \u001b[38;5;129;01mor\u001b[39;00m \u001b[38;5;129;01mnot\u001b[39;00m \u001b[43mislink\u001b[49m\u001b[43m(\u001b[49m\u001b[43mnew_path\u001b[49m\u001b[43m)\u001b[49m:\n\u001b[1;32m    418\u001b[0m             \u001b[38;5;28;01myield from\u001b[39;00m _walk(new_path, topdown, onerror, followlinks)\n\u001b[1;32m    419\u001b[0m \u001b[38;5;28;01melse\u001b[39;00m:\n\u001b[1;32m    420\u001b[0m     \u001b[38;5;66;03m# Recurse into sub-directories\u001b[39;00m\n",
      "File \u001b[0;32m~/anaconda3/envs/envDeepLearning/lib/python3.9/posixpath.py:167\u001b[0m, in \u001b[0;36mislink\u001b[0;34m(path)\u001b[0m\n\u001b[1;32m    165\u001b[0m \u001b[38;5;124;03m\"\"\"Test whether a path is a symbolic link\"\"\"\u001b[39;00m\n\u001b[1;32m    166\u001b[0m \u001b[38;5;28;01mtry\u001b[39;00m:\n\u001b[0;32m--> 167\u001b[0m     st \u001b[38;5;241m=\u001b[39m \u001b[43mos\u001b[49m\u001b[38;5;241;43m.\u001b[39;49m\u001b[43mlstat\u001b[49m\u001b[43m(\u001b[49m\u001b[43mpath\u001b[49m\u001b[43m)\u001b[49m\n\u001b[1;32m    168\u001b[0m \u001b[38;5;28;01mexcept\u001b[39;00m (\u001b[38;5;167;01mOSError\u001b[39;00m, \u001b[38;5;167;01mValueError\u001b[39;00m, \u001b[38;5;167;01mAttributeError\u001b[39;00m):\n\u001b[1;32m    169\u001b[0m     \u001b[38;5;28;01mreturn\u001b[39;00m \u001b[38;5;28;01mFalse\u001b[39;00m\n",
      "\u001b[0;31mKeyboardInterrupt\u001b[0m: "
     ]
    }
   ],
   "source": [
    "features =[]\n",
    "labels = []\n",
    "timeLabel = []\n",
    "\n",
    "path = '/scratch/users/mdelabrassinne/Database/'\n",
    "\n",
    "\n",
    "for root, dirs, files in tqdm(os.walk(path)):\n",
    "    #print(files)\n",
    "    for file in files:\n",
    "        if file.endswith(\"baidu_soccer_embeddings.npy\"):\n",
    "            features.append(os.path.join(root, file))\n",
    "            print(os.path.join(root, file))\n",
    "            \n",
    "        if file.endswith(\"Labels-v2.json\"):\n",
    "            jsonPath =(os.path.join(root, file))\n",
    "            print(jsonPath)\n",
    "            f = open(jsonPath)\n",
    "            d = json.load(f)\n",
    "            \n",
    "            try:\n",
    "                #print('test')\n",
    "                lab = [d['annotations'][i]['label'] for i in range(len(d['annotations']))]         # 1fps, don't know if keep \n",
    "                time = [60 * int(d['annotations'][i]['gameTime'].split(':')[0][-2:]) + int(d['annotations'][i]['gameTime'].split(':')[1][:2]) for i in range(len(d['annotations']))]\n",
    "            \n",
    "            except:\n",
    "                #print(d)\n",
    "                lab = [d['predictions'][i]['label'] for i in range(len(d['predictions']))]         # 1fps, don't know if keep \n",
    "                time = [60 * int(d['predictions'][i]['gameTime'].split(':')[0][-2:]) + int(d['predictions'][i]['gameTime'].split(':')[1][:2]) for i in range(len(d['predictions']))]\n",
    "                \n",
    "                #print(\"\\n\\n\")\n",
    "            labels.append(lab)\n",
    "            timeLabel.append(time)\n",
    "            \n",
    "\n",
    "            \n",
    "data_l = list(zip(features, labels, timeLabel))"
   ]
  },
  {
   "cell_type": "code",
   "execution_count": 79,
   "metadata": {
    "collapsed": true,
    "jupyter": {
     "outputs_hidden": true
    }
   },
   "outputs": [
    {
     "name": "stderr",
     "output_type": "stream",
     "text": [
      "270it [00:00, 1325.86it/s]"
     ]
    },
    {
     "name": "stdout",
     "output_type": "stream",
     "text": [
      "/scratch/users/mdelabrassinne/Database/england_epl/2014-2015/2015-02-21 - 18-00 Chelsea 1 - 1 Burnley/1_baidu_soccer_embeddings.npy\n",
      "/scratch/users/mdelabrassinne/Database/england_epl/2014-2015/2015-02-21 - 18-00 Chelsea 1 - 1 Burnley/2_baidu_soccer_embeddings.npy\n",
      "/scratch/users/mdelabrassinne/Database/england_epl/2014-2015/2015-02-21_-_18-00_Chelsea_1_-_1_Burnley/Labels-v2.json\n",
      "/scratch/users/mdelabrassinne/Database/england_epl/2014-2015/2015-02-21 - 18-00 Crystal Palace 1 - 2 Arsenal/1_baidu_soccer_embeddings.npy\n",
      "/scratch/users/mdelabrassinne/Database/england_epl/2014-2015/2015-02-21 - 18-00 Crystal Palace 1 - 2 Arsenal/2_baidu_soccer_embeddings.npy\n",
      "/scratch/users/mdelabrassinne/Database/england_epl/2014-2015/2015-02-21_-_18-00_Crystal_Palace_1_-_2_Arsenal/Labels-v2.json\n"
     ]
    },
    {
     "name": "stderr",
     "output_type": "stream",
     "text": [
      "676it [00:00, 1340.73it/s]"
     ]
    },
    {
     "name": "stdout",
     "output_type": "stream",
     "text": [
      "/scratch/users/mdelabrassinne/Database/england_epl/2014-2015/2015-02-21 - 18-00 Swansea 2 - 1 Manchester United/1_baidu_soccer_embeddings.npy\n",
      "/scratch/users/mdelabrassinne/Database/england_epl/2014-2015/2015-02-21 - 18-00 Swansea 2 - 1 Manchester United/2_baidu_soccer_embeddings.npy\n",
      "/scratch/users/mdelabrassinne/Database/england_epl/2014-2015/2015-02-21_-_18-00_Swansea_2_-_1_Manchester_United/Labels-v2.json\n",
      "/scratch/users/mdelabrassinne/Database/england_epl/2014-2015/2015-02-22 - 19-15 Southampton 0 - 2 Liverpool/1_baidu_soccer_embeddings.npy\n",
      "/scratch/users/mdelabrassinne/Database/england_epl/2014-2015/2015-02-22 - 19-15 Southampton 0 - 2 Liverpool/2_baidu_soccer_embeddings.npy\n",
      "/scratch/users/mdelabrassinne/Database/england_epl/2014-2015/2015-02-22_-_19-15_Southampton_0_-_2_Liverpool/Labels-v2.json\n"
     ]
    },
    {
     "name": "stderr",
     "output_type": "stream",
     "text": [
      "953it [00:00, 1346.06it/s]"
     ]
    },
    {
     "name": "stdout",
     "output_type": "stream",
     "text": [
      "/scratch/users/mdelabrassinne/Database/england_epl/2014-2015/2015-04-11 - 19-30 Burnley 0 - 1 Arsenal/1_baidu_soccer_embeddings.npy\n",
      "/scratch/users/mdelabrassinne/Database/england_epl/2014-2015/2015-04-11 - 19-30 Burnley 0 - 1 Arsenal/2_baidu_soccer_embeddings.npy\n",
      "/scratch/users/mdelabrassinne/Database/england_epl/2014-2015/2015-04-11_-_19-30_Burnley_0_-_1_Arsenal/Labels-v2.json\n",
      "/scratch/users/mdelabrassinne/Database/england_epl/2014-2015/2015-05-17 - 18-00 Manchester United 1 - 1 Arsenal/1_baidu_soccer_embeddings.npy\n",
      "/scratch/users/mdelabrassinne/Database/england_epl/2014-2015/2015-05-17 - 18-00 Manchester United 1 - 1 Arsenal/2_baidu_soccer_embeddings.npy\n",
      "/scratch/users/mdelabrassinne/Database/england_epl/2014-2015/2015-05-17_-_18-00_Manchester_United_1_-_1_Arsenal/Labels-v2.json\n"
     ]
    },
    {
     "name": "stderr",
     "output_type": "stream",
     "text": [
      "1376it [00:01, 1369.99it/s]"
     ]
    },
    {
     "name": "stdout",
     "output_type": "stream",
     "text": [
      "/scratch/users/mdelabrassinne/Database/england_epl/2015-2016/2015-09-19 - 19-30 Manchester City 1 - 2 West Ham/1_baidu_soccer_embeddings.npy\n",
      "/scratch/users/mdelabrassinne/Database/england_epl/2015-2016/2015-09-19 - 19-30 Manchester City 1 - 2 West Ham/2_baidu_soccer_embeddings.npy\n",
      "/scratch/users/mdelabrassinne/Database/england_epl/2015-2016/2015-09-19_-_19-30_Manchester_City_1_-_2_West_Ham/Labels-v2.json\n",
      "/scratch/users/mdelabrassinne/Database/england_epl/2015-2016/2015-09-26 - 17-00 Liverpool 3 - 2 Aston Villa/1_baidu_soccer_embeddings.npy\n",
      "/scratch/users/mdelabrassinne/Database/england_epl/2015-2016/2015-09-26 - 17-00 Liverpool 3 - 2 Aston Villa/2_baidu_soccer_embeddings.npy\n",
      "/scratch/users/mdelabrassinne/Database/england_epl/2015-2016/2015-09-26_-_17-00_Liverpool_3_-_2_Aston_Villa/Labels-v2.json\n"
     ]
    },
    {
     "name": "stderr",
     "output_type": "stream",
     "text": [
      "1651it [00:01, 1356.89it/s]"
     ]
    },
    {
     "name": "stdout",
     "output_type": "stream",
     "text": [
      "/scratch/users/mdelabrassinne/Database/england_epl/2015-2016/2015-10-17 - 17-00 Chelsea 2 - 0 Aston Villa/1_baidu_soccer_embeddings.npy\n",
      "/scratch/users/mdelabrassinne/Database/england_epl/2015-2016/2015-10-17 - 17-00 Chelsea 2 - 0 Aston Villa/2_baidu_soccer_embeddings.npy\n",
      "/scratch/users/mdelabrassinne/Database/england_epl/2015-2016/2015-10-17_-_17-00_Chelsea_2_-_0_Aston_Villa/Labels-v2.json\n",
      "/scratch/users/mdelabrassinne/Database/england_epl/2015-2016/2015-10-31 - 15-45 Chelsea 1 - 3 Liverpool/1_baidu_soccer_embeddings.npy\n",
      "/scratch/users/mdelabrassinne/Database/england_epl/2015-2016/2015-10-31 - 15-45 Chelsea 1 - 3 Liverpool/2_baidu_soccer_embeddings.npy\n",
      "/scratch/users/mdelabrassinne/Database/england_epl/2015-2016/2015-10-31_-_15-45_Chelsea_1_-_3_Liverpool/Labels-v2.json\n"
     ]
    },
    {
     "name": "stderr",
     "output_type": "stream",
     "text": [
      "2199it [00:01, 1337.81it/s]"
     ]
    },
    {
     "name": "stdout",
     "output_type": "stream",
     "text": [
      "/scratch/users/mdelabrassinne/Database/england_epl/2015-2016/2015-11-07 - 18-00 Manchester United 2 - 0 West Brom/1_baidu_soccer_embeddings.npy\n",
      "/scratch/users/mdelabrassinne/Database/england_epl/2015-2016/2015-11-07 - 18-00 Manchester United 2 - 0 West Brom/2_baidu_soccer_embeddings.npy\n",
      "/scratch/users/mdelabrassinne/Database/england_epl/2015-2016/2015-11-07_-_18-00_Manchester_United_2_-_0_West_Brom/Labels-v2.json\n",
      "/scratch/users/mdelabrassinne/Database/england_epl/2015-2016/2015-11-21 - 20-30 Manchester City 1 - 4 Liverpool/1_baidu_soccer_embeddings.npy\n",
      "/scratch/users/mdelabrassinne/Database/england_epl/2015-2016/2015-11-21 - 20-30 Manchester City 1 - 4 Liverpool/2_baidu_soccer_embeddings.npy\n",
      "/scratch/users/mdelabrassinne/Database/england_epl/2015-2016/2015-11-21_-_20-30_Manchester_City_1_-_4_Liverpool/Labels-v2.json\n"
     ]
    },
    {
     "name": "stderr",
     "output_type": "stream",
     "text": [
      "2472it [00:01, 1345.11it/s]"
     ]
    },
    {
     "name": "stdout",
     "output_type": "stream",
     "text": [
      "/scratch/users/mdelabrassinne/Database/england_epl/2015-2016/2015-11-29 - 15-00 Tottenham 0 - 0 Chelsea/1_baidu_soccer_embeddings.npy\n",
      "/scratch/users/mdelabrassinne/Database/england_epl/2015-2016/2015-11-29 - 15-00 Tottenham 0 - 0 Chelsea/2_baidu_soccer_embeddings.npy\n",
      "/scratch/users/mdelabrassinne/Database/england_epl/2015-2016/2015-11-29_-_15-00_Tottenham_0_-_0_Chelsea/Labels-v2.json\n",
      "/scratch/users/mdelabrassinne/Database/england_epl/2015-2016/2015-12-05 - 20-30 Chelsea 0 - 1 Bournemouth/1_baidu_soccer_embeddings.npy\n",
      "/scratch/users/mdelabrassinne/Database/england_epl/2015-2016/2015-12-05 - 20-30 Chelsea 0 - 1 Bournemouth/2_baidu_soccer_embeddings.npy\n",
      "/scratch/users/mdelabrassinne/Database/england_epl/2015-2016/2015-12-05_-_20-30_Chelsea_0_-_1_Bournemouth/Labels-v2.json\n"
     ]
    },
    {
     "name": "stderr",
     "output_type": "stream",
     "text": [
      "2874it [00:02, 1314.27it/s]"
     ]
    },
    {
     "name": "stdout",
     "output_type": "stream",
     "text": [
      "/scratch/users/mdelabrassinne/Database/england_epl/2015-2016/2015-12-19 - 18-00 Chelsea 3 - 1 Sunderland/1_baidu_soccer_embeddings.npy\n",
      "/scratch/users/mdelabrassinne/Database/england_epl/2015-2016/2015-12-19 - 18-00 Chelsea 3 - 1 Sunderland/2_baidu_soccer_embeddings.npy\n",
      "/scratch/users/mdelabrassinne/Database/england_epl/2015-2016/2015-12-19_-_18-00_Chelsea_3_-_1_Sunderland/Labels-v2.json\n",
      "/scratch/users/mdelabrassinne/Database/england_epl/2015-2016/2015-12-26 - 18-00 Manchester City 4 - 1 Sunderland/1_baidu_soccer_embeddings.npy\n",
      "/scratch/users/mdelabrassinne/Database/england_epl/2015-2016/2015-12-26 - 18-00 Manchester City 4 - 1 Sunderland/2_baidu_soccer_embeddings.npy\n",
      "/scratch/users/mdelabrassinne/Database/england_epl/2015-2016/2015-12-26_-_18-00_Manchester_City_4_-_1_Sunderland/Labels-v2.json\n"
     ]
    },
    {
     "name": "stderr",
     "output_type": "stream",
     "text": [
      "3284it [00:02, 1330.24it/s]"
     ]
    },
    {
     "name": "stdout",
     "output_type": "stream",
     "text": [
      "/scratch/users/mdelabrassinne/Database/england_epl/2015-2016/2016-01-03 - 16-30 Crystal Palace 0 - 3 Chelsea/1_baidu_soccer_embeddings.npy\n",
      "/scratch/users/mdelabrassinne/Database/england_epl/2015-2016/2016-01-03 - 16-30 Crystal Palace 0 - 3 Chelsea/2_baidu_soccer_embeddings.npy\n",
      "/scratch/users/mdelabrassinne/Database/england_epl/2015-2016/2016-01-03_-_16-30_Crystal_Palace_0_-_3_Chelsea/Labels-v2.json\n",
      "/scratch/users/mdelabrassinne/Database/england_epl/2015-2016/2016-01-13 - 22-45 Chelsea 2 - 2 West Brom/1_baidu_soccer_embeddings.npy\n",
      "/scratch/users/mdelabrassinne/Database/england_epl/2015-2016/2016-01-13 - 22-45 Chelsea 2 - 2 West Brom/2_baidu_soccer_embeddings.npy\n",
      "/scratch/users/mdelabrassinne/Database/england_epl/2015-2016/2016-01-13_-_22-45_Chelsea_2_-_2_West_Brom/Labels-v2.json\n"
     ]
    },
    {
     "name": "stderr",
     "output_type": "stream",
     "text": [
      "3557it [00:02, 1344.90it/s]"
     ]
    },
    {
     "name": "stdout",
     "output_type": "stream",
     "text": [
      "/scratch/users/mdelabrassinne/Database/england_epl/2015-2016/2016-02-07 - 19-00 Chelsea 1 - 1 Manchester United/1_baidu_soccer_embeddings.npy\n",
      "/scratch/users/mdelabrassinne/Database/england_epl/2015-2016/2016-02-07 - 19-00 Chelsea 1 - 1 Manchester United/2_baidu_soccer_embeddings.npy\n",
      "/scratch/users/mdelabrassinne/Database/england_epl/2015-2016/2016-02-07_-_19-00_Chelsea_1_-_1_Manchester_United/Labels-v2.json\n",
      "/scratch/users/mdelabrassinne/Database/england_epl/2015-2016/2016-02-14 - 19-15 Manchester City 1 - 2 Tottenham/1_baidu_soccer_embeddings.npy\n",
      "/scratch/users/mdelabrassinne/Database/england_epl/2015-2016/2016-02-14 - 19-15 Manchester City 1 - 2 Tottenham/2_baidu_soccer_embeddings.npy\n",
      "/scratch/users/mdelabrassinne/Database/england_epl/2015-2016/2016-02-14_-_19-15_Manchester_City_1_-_2_Tottenham/Labels-v2.json\n"
     ]
    },
    {
     "name": "stderr",
     "output_type": "stream",
     "text": [
      "3970it [00:02, 1365.60it/s]"
     ]
    },
    {
     "name": "stdout",
     "output_type": "stream",
     "text": [
      "/scratch/users/mdelabrassinne/Database/england_epl/2015-2016/2016-03-02 - 23-00 Liverpool 3 - 0 Manchester City/1_baidu_soccer_embeddings.npy\n",
      "/scratch/users/mdelabrassinne/Database/england_epl/2015-2016/2016-03-02 - 23-00 Liverpool 3 - 0 Manchester City/2_baidu_soccer_embeddings.npy\n",
      "/scratch/users/mdelabrassinne/Database/england_epl/2015-2016/2016-03-02_-_23-00_Liverpool_3_-_0_Manchester_City/Labels-v2.json\n",
      "/scratch/users/mdelabrassinne/Database/england_epl/2015-2016/2016-03-05 - 18-00 Chelsea 1 - 1 Stoke City/1_baidu_soccer_embeddings.npy\n",
      "/scratch/users/mdelabrassinne/Database/england_epl/2015-2016/2016-03-05 - 18-00 Chelsea 1 - 1 Stoke City/2_baidu_soccer_embeddings.npy\n",
      "/scratch/users/mdelabrassinne/Database/england_epl/2015-2016/2016-03-05_-_18-00_Chelsea_1_-_1_Stoke_City/Labels-v2.json\n"
     ]
    },
    {
     "name": "stderr",
     "output_type": "stream",
     "text": [
      "4388it [00:03, 1379.42it/s]"
     ]
    },
    {
     "name": "stdout",
     "output_type": "stream",
     "text": [
      "/scratch/users/mdelabrassinne/Database/england_epl/2015-2016/2016-03-19 - 18-00 Chelsea 2 - 2 West Ham/1_baidu_soccer_embeddings.npy\n",
      "/scratch/users/mdelabrassinne/Database/england_epl/2015-2016/2016-03-19 - 18-00 Chelsea 2 - 2 West Ham/2_baidu_soccer_embeddings.npy\n",
      "/scratch/users/mdelabrassinne/Database/england_epl/2015-2016/2016-03-19_-_18-00_Chelsea_2_-_2_West_Ham/Labels-v2.json\n",
      "/scratch/users/mdelabrassinne/Database/england_epl/2015-2016/2016-04-09 - 17-00 Swansea 1 - 0 Chelsea/1_baidu_soccer_embeddings.npy\n",
      "/scratch/users/mdelabrassinne/Database/england_epl/2015-2016/2016-04-09 - 17-00 Swansea 1 - 0 Chelsea/2_baidu_soccer_embeddings.npy\n",
      "/scratch/users/mdelabrassinne/Database/england_epl/2015-2016/2016-04-09_-_17-00_Swansea_1_-_0_Chelsea/Labels-v2.json\n"
     ]
    },
    {
     "name": "stderr",
     "output_type": "stream",
     "text": [
      "4672it [00:03, 1388.15it/s]"
     ]
    },
    {
     "name": "stdout",
     "output_type": "stream",
     "text": [
      "/scratch/users/mdelabrassinne/Database/england_epl/2015-2016/2016-04-09 - 19-30 Manchester City 2 - 1 West Brom/1_baidu_soccer_embeddings.npy\n",
      "/scratch/users/mdelabrassinne/Database/england_epl/2015-2016/2016-04-09 - 19-30 Manchester City 2 - 1 West Brom/2_baidu_soccer_embeddings.npy\n",
      "/scratch/users/mdelabrassinne/Database/england_epl/2015-2016/2016-04-09_-_19-30_Manchester_City_2_-_1_West_Brom/Labels-v2.json\n",
      "/scratch/users/mdelabrassinne/Database/england_epl/2015-2016/2016-05-07 - 17-00 Sunderland 3 - 2 Chelsea/1_baidu_soccer_embeddings.npy\n",
      "/scratch/users/mdelabrassinne/Database/england_epl/2015-2016/2016-05-07 - 17-00 Sunderland 3 - 2 Chelsea/2_baidu_soccer_embeddings.npy\n",
      "/scratch/users/mdelabrassinne/Database/england_epl/2015-2016/2016-05-07_-_17-00_Sunderland_3_-_2_Chelsea/Labels-v2.json\n"
     ]
    },
    {
     "name": "stderr",
     "output_type": "stream",
     "text": [
      "5094it [00:03, 1372.64it/s]"
     ]
    },
    {
     "name": "stdout",
     "output_type": "stream",
     "text": [
      "/scratch/users/mdelabrassinne/Database/england_epl/2015-2016/2015-08-30 - 18-00 Swansea 2 - 1 Manchester United/1_baidu_soccer_embeddings.npy\n",
      "/scratch/users/mdelabrassinne/Database/england_epl/2015-2016/2015-08-30 - 18-00 Swansea 2 - 1 Manchester United/2_baidu_soccer_embeddings.npy\n",
      "/scratch/users/mdelabrassinne/Database/england_epl/2015-2016/2015-08-30_-_18-00_Swansea_2_-_1_Manchester_United/Labels-v2.json\n",
      "/scratch/users/mdelabrassinne/Database/england_epl/2015-2016/2015-09-26 - 17-00 Leicester 2 - 5 Arsenal/1_baidu_soccer_embeddings.npy\n",
      "/scratch/users/mdelabrassinne/Database/england_epl/2015-2016/2015-09-26 - 17-00 Leicester 2 - 5 Arsenal/2_baidu_soccer_embeddings.npy\n",
      "/scratch/users/mdelabrassinne/Database/england_epl/2015-2016/2015-09-26_-_17-00_Leicester_2_-_5_Arsenal/Labels-v2.json\n"
     ]
    },
    {
     "name": "stderr",
     "output_type": "stream",
     "text": [
      "5376it [00:03, 1391.39it/s]"
     ]
    },
    {
     "name": "stdout",
     "output_type": "stream",
     "text": [
      "/scratch/users/mdelabrassinne/Database/england_epl/2015-2016/2015-09-26 - 17-00 Manchester United 3 - 0 Sunderland/1_baidu_soccer_embeddings.npy\n",
      "/scratch/users/mdelabrassinne/Database/england_epl/2015-2016/2015-09-26 - 17-00 Manchester United 3 - 0 Sunderland/2_baidu_soccer_embeddings.npy\n",
      "/scratch/users/mdelabrassinne/Database/england_epl/2015-2016/2015-09-26_-_17-00_Manchester_United_3_-_0_Sunderland/Labels-v2.json\n",
      "/scratch/users/mdelabrassinne/Database/england_epl/2015-2016/2015-10-03 - 17-00 Manchester City 6 - 1 Newcastle Utd/1_baidu_soccer_embeddings.npy\n",
      "/scratch/users/mdelabrassinne/Database/england_epl/2015-2016/2015-10-03 - 17-00 Manchester City 6 - 1 Newcastle Utd/2_baidu_soccer_embeddings.npy\n",
      "/scratch/users/mdelabrassinne/Database/england_epl/2015-2016/2015-10-03_-_17-00_Manchester_City_6_-_1_Newcastle_Utd/Labels-v2.json\n"
     ]
    },
    {
     "name": "stderr",
     "output_type": "stream",
     "text": [
      "5804it [00:04, 1410.82it/s]"
     ]
    },
    {
     "name": "stdout",
     "output_type": "stream",
     "text": [
      "/scratch/users/mdelabrassinne/Database/england_epl/2015-2016/2015-12-26 - 18-00 Chelsea 2 - 2 Watford/1_baidu_soccer_embeddings.npy\n",
      "/scratch/users/mdelabrassinne/Database/england_epl/2015-2016/2015-12-26 - 18-00 Chelsea 2 - 2 Watford/2_baidu_soccer_embeddings.npy\n",
      "/scratch/users/mdelabrassinne/Database/england_epl/2015-2016/2015-12-26_-_18-00_Chelsea_2_-_2_Watford/Labels-v2.json\n",
      "/scratch/users/mdelabrassinne/Database/england_epl/2015-2016/2016-01-23 - 20-30 West Ham 2 - 2 Manchester City/1_baidu_soccer_embeddings.npy\n",
      "/scratch/users/mdelabrassinne/Database/england_epl/2015-2016/2016-01-23 - 20-30 West Ham 2 - 2 Manchester City/2_baidu_soccer_embeddings.npy\n",
      "/scratch/users/mdelabrassinne/Database/england_epl/2015-2016/2016-01-23_-_20-30_West_Ham_2_-_2_Manchester_City/Labels-v2.json\n"
     ]
    },
    {
     "name": "stderr",
     "output_type": "stream",
     "text": [
      "6086it [00:04, 1387.28it/s]"
     ]
    },
    {
     "name": "stdout",
     "output_type": "stream",
     "text": [
      "/scratch/users/mdelabrassinne/Database/england_epl/2015-2016/2016-01-24 - 19-00 Arsenal 0 - 1 Chelsea/1_baidu_soccer_embeddings.npy\n",
      "/scratch/users/mdelabrassinne/Database/england_epl/2015-2016/2016-01-24 - 19-00 Arsenal 0 - 1 Chelsea/2_baidu_soccer_embeddings.npy\n",
      "/scratch/users/mdelabrassinne/Database/england_epl/2015-2016/2016-01-24_-_19-00_Arsenal_0_-_1_Chelsea/Labels-v2.json\n",
      "/scratch/users/mdelabrassinne/Database/england_epl/2015-2016/2016-02-13 - 20-30 Chelsea 5 - 1 Newcastle Utd/1_baidu_soccer_embeddings.npy\n",
      "/scratch/users/mdelabrassinne/Database/england_epl/2015-2016/2016-02-13 - 20-30 Chelsea 5 - 1 Newcastle Utd/2_baidu_soccer_embeddings.npy\n",
      "/scratch/users/mdelabrassinne/Database/england_epl/2015-2016/2016-02-13_-_20-30_Chelsea_5_-_1_Newcastle_Utd/Labels-v2.json\n"
     ]
    },
    {
     "name": "stderr",
     "output_type": "stream",
     "text": [
      "6513it [00:04, 1393.30it/s]"
     ]
    },
    {
     "name": "stdout",
     "output_type": "stream",
     "text": [
      "/scratch/users/mdelabrassinne/Database/england_epl/2015-2016/2016-02-27 - 18-00 Southampton 1 - 2 Chelsea/1_baidu_soccer_embeddings.npy\n",
      "/scratch/users/mdelabrassinne/Database/england_epl/2015-2016/2016-02-27 - 18-00 Southampton 1 - 2 Chelsea/2_baidu_soccer_embeddings.npy\n",
      "/scratch/users/mdelabrassinne/Database/england_epl/2015-2016/2016-02-27_-_18-00_Southampton_1_-_2_Chelsea/Labels-v2.json\n",
      "/scratch/users/mdelabrassinne/Database/england_epl/2015-2016/2016-03-05 - 18-00 Manchester City 4 - 0 Aston Villa/1_baidu_soccer_embeddings.npy\n",
      "/scratch/users/mdelabrassinne/Database/england_epl/2015-2016/2016-03-05 - 18-00 Manchester City 4 - 0 Aston Villa/2_baidu_soccer_embeddings.npy\n",
      "/scratch/users/mdelabrassinne/Database/england_epl/2015-2016/2016-03-05_-_18-00_Manchester_City_4_-_0_Aston_Villa/Labels-v2.json\n"
     ]
    },
    {
     "name": "stderr",
     "output_type": "stream",
     "text": [
      "6794it [00:04, 1383.90it/s]"
     ]
    },
    {
     "name": "stdout",
     "output_type": "stream",
     "text": [
      "/scratch/users/mdelabrassinne/Database/england_epl/2015-2016/2016-03-20 - 19-00 Manchester City 0 - 1 Manchester United/1_baidu_soccer_embeddings.npy\n",
      "/scratch/users/mdelabrassinne/Database/england_epl/2015-2016/2016-03-20 - 19-00 Manchester City 0 - 1 Manchester United/2_baidu_soccer_embeddings.npy\n",
      "/scratch/users/mdelabrassinne/Database/england_epl/2015-2016/2016-03-20_-_19-00_Manchester_City_0_-_1_Manchester_United/Labels-v2.json\n",
      "/scratch/users/mdelabrassinne/Database/england_epl/2015-2016/2016-04-23 - 17-00 Bournemouth 1 - 4 Chelsea/1_baidu_soccer_embeddings.npy\n",
      "/scratch/users/mdelabrassinne/Database/england_epl/2015-2016/2016-04-23 - 17-00 Bournemouth 1 - 4 Chelsea/2_baidu_soccer_embeddings.npy\n",
      "/scratch/users/mdelabrassinne/Database/england_epl/2015-2016/2016-04-23_-_17-00_Bournemouth_1_-_4_Chelsea/Labels-v2.json\n"
     ]
    },
    {
     "name": "stderr",
     "output_type": "stream",
     "text": [
      "7211it [00:05, 1364.48it/s]"
     ]
    },
    {
     "name": "stdout",
     "output_type": "stream",
     "text": [
      "/scratch/users/mdelabrassinne/Database/england_epl/2015-2016/2015-08-16 - 18-00 Manchester City 3 - 0 Chelsea/1_baidu_soccer_embeddings.npy\n",
      "/scratch/users/mdelabrassinne/Database/england_epl/2015-2016/2015-08-16 - 18-00 Manchester City 3 - 0 Chelsea/2_baidu_soccer_embeddings.npy\n",
      "/scratch/users/mdelabrassinne/Database/england_epl/2015-2016/2015-08-16_-_18-00_Manchester_City_3_-_0_Chelsea/Labels-v2.json\n",
      "/scratch/users/mdelabrassinne/Database/england_epl/2015-2016/2015-08-23 - 15-30 West Brom 2 - 3 Chelsea/1_baidu_soccer_embeddings.npy\n",
      "/scratch/users/mdelabrassinne/Database/england_epl/2015-2016/2015-08-23 - 15-30 West Brom 2 - 3 Chelsea/2_baidu_soccer_embeddings.npy\n",
      "/scratch/users/mdelabrassinne/Database/england_epl/2015-2016/2015-08-23_-_15-30_West_Brom_2_-_3_Chelsea/Labels-v2.json\n"
     ]
    },
    {
     "name": "stderr",
     "output_type": "stream",
     "text": [
      "7489it [00:05, 1363.24it/s]"
     ]
    },
    {
     "name": "stdout",
     "output_type": "stream",
     "text": [
      "/scratch/users/mdelabrassinne/Database/england_epl/2015-2016/2015-08-29 - 17-00 Liverpool 0 - 3 West Ham/1_baidu_soccer_embeddings.npy\n",
      "/scratch/users/mdelabrassinne/Database/england_epl/2015-2016/2015-08-29 - 17-00 Liverpool 0 - 3 West Ham/2_baidu_soccer_embeddings.npy\n",
      "/scratch/users/mdelabrassinne/Database/england_epl/2015-2016/2015-08-29_-_17-00_Liverpool_0_-_3_West_Ham/Labels-v2.json\n",
      "/scratch/users/mdelabrassinne/Database/england_epl/2015-2016/2015-09-20 - 18-00 Southampton 2 - 3 Manchester United/1_baidu_soccer_embeddings.npy\n",
      "/scratch/users/mdelabrassinne/Database/england_epl/2015-2016/2015-09-20 - 18-00 Southampton 2 - 3 Manchester United/2_baidu_soccer_embeddings.npy\n",
      "/scratch/users/mdelabrassinne/Database/england_epl/2015-2016/2015-09-20_-_18-00_Southampton_2_-_3_Manchester_United/Labels-v2.json\n"
     ]
    },
    {
     "name": "stderr",
     "output_type": "stream",
     "text": [
      "7899it [00:05, 1349.64it/s]"
     ]
    },
    {
     "name": "stdout",
     "output_type": "stream",
     "text": [
      "/scratch/users/mdelabrassinne/Database/england_epl/2015-2016/2015-09-26 - 19-30 Newcastle Utd 2 - 2 Chelsea/1_baidu_soccer_embeddings.npy\n",
      "/scratch/users/mdelabrassinne/Database/england_epl/2015-2016/2015-09-26 - 19-30 Newcastle Utd 2 - 2 Chelsea/2_baidu_soccer_embeddings.npy\n",
      "/scratch/users/mdelabrassinne/Database/england_epl/2015-2016/2015-09-26_-_19-30_Newcastle_Utd_2_-_2_Chelsea/Labels-v2.json\n",
      "/scratch/users/mdelabrassinne/Database/england_epl/2015-2016/2015-10-03 - 19-30 Chelsea 1 - 3 Southampton/1_baidu_soccer_embeddings.npy\n",
      "/scratch/users/mdelabrassinne/Database/england_epl/2015-2016/2015-10-03 - 19-30 Chelsea 1 - 3 Southampton/2_baidu_soccer_embeddings.npy\n",
      "/scratch/users/mdelabrassinne/Database/england_epl/2015-2016/2015-10-03_-_19-30_Chelsea_1_-_3_Southampton/Labels-v2.json\n"
     ]
    },
    {
     "name": "stderr",
     "output_type": "stream",
     "text": [
      "8313it [00:06, 1366.12it/s]"
     ]
    },
    {
     "name": "stdout",
     "output_type": "stream",
     "text": [
      "/scratch/users/mdelabrassinne/Database/england_epl/2015-2016/2015-10-24 - 17-00 West Ham 2 - 1 Chelsea/1_baidu_soccer_embeddings.npy\n",
      "/scratch/users/mdelabrassinne/Database/england_epl/2015-2016/2015-10-24 - 17-00 West Ham 2 - 1 Chelsea/2_baidu_soccer_embeddings.npy\n",
      "/scratch/users/mdelabrassinne/Database/england_epl/2015-2016/2015-10-24_-_17-00_West_Ham_2_-_1_Chelsea/Labels-v2.json\n",
      "/scratch/users/mdelabrassinne/Database/england_epl/2015-2016/2015-11-07 - 20-30 Stoke City 1 - 0 Chelsea/1_baidu_soccer_embeddings.npy\n",
      "/scratch/users/mdelabrassinne/Database/england_epl/2015-2016/2015-11-07 - 20-30 Stoke City 1 - 0 Chelsea/2_baidu_soccer_embeddings.npy\n",
      "/scratch/users/mdelabrassinne/Database/england_epl/2015-2016/2015-11-07_-_20-30_Stoke_City_1_-_0_Chelsea/Labels-v2.json\n"
     ]
    },
    {
     "name": "stderr",
     "output_type": "stream",
     "text": [
      "8730it [00:06, 1369.23it/s]"
     ]
    },
    {
     "name": "stdout",
     "output_type": "stream",
     "text": [
      "/scratch/users/mdelabrassinne/Database/england_epl/2015-2016/2015-11-08 - 19-00 Arsenal 1 - 1 Tottenham/1_baidu_soccer_embeddings.npy\n",
      "/scratch/users/mdelabrassinne/Database/england_epl/2015-2016/2015-11-08 - 19-00 Arsenal 1 - 1 Tottenham/2_baidu_soccer_embeddings.npy\n",
      "/scratch/users/mdelabrassinne/Database/england_epl/2015-2016/2015-11-08_-_19-00_Arsenal_1_-_1_Tottenham/Labels-v2.json\n",
      "/scratch/users/mdelabrassinne/Database/england_epl/2015-2016/2015-12-28 - 20-30 Manchester United 0 - 0 Chelsea/1_baidu_soccer_embeddings.npy\n",
      "/scratch/users/mdelabrassinne/Database/england_epl/2015-2016/2015-12-28 - 20-30 Manchester United 0 - 0 Chelsea/2_baidu_soccer_embeddings.npy\n",
      "/scratch/users/mdelabrassinne/Database/england_epl/2015-2016/2015-12-28_-_20-30_Manchester_United_0_-_0_Chelsea/Labels-v2.json\n"
     ]
    },
    {
     "name": "stderr",
     "output_type": "stream",
     "text": [
      "9144it [00:06, 1370.13it/s]"
     ]
    },
    {
     "name": "stdout",
     "output_type": "stream",
     "text": [
      "/scratch/users/mdelabrassinne/Database/england_epl/2015-2016/2016-02-03 - 22-45 Watford 0 - 0 Chelsea/1_baidu_soccer_embeddings.npy\n",
      "/scratch/users/mdelabrassinne/Database/england_epl/2015-2016/2016-02-03 - 22-45 Watford 0 - 0 Chelsea/2_baidu_soccer_embeddings.npy\n",
      "/scratch/users/mdelabrassinne/Database/england_epl/2015-2016/2016-02-03_-_22-45_Watford_0_-_0_Chelsea/Labels-v2.json\n",
      "/scratch/users/mdelabrassinne/Database/england_epl/2015-2016/2016-03-01 - 22-45 Norwich 1 - 2 Chelsea/1_baidu_soccer_embeddings.npy\n",
      "/scratch/users/mdelabrassinne/Database/england_epl/2015-2016/2016-03-01 - 22-45 Norwich 1 - 2 Chelsea/2_baidu_soccer_embeddings.npy\n",
      "/scratch/users/mdelabrassinne/Database/england_epl/2015-2016/2016-03-01_-_22-45_Norwich_1_-_2_Chelsea/Labels-v2.json\n"
     ]
    },
    {
     "name": "stderr",
     "output_type": "stream",
     "text": [
      "9558it [00:07, 1371.43it/s]"
     ]
    },
    {
     "name": "stdout",
     "output_type": "stream",
     "text": [
      "/scratch/users/mdelabrassinne/Database/england_epl/2015-2016/2015-08-08 - 19-30 Chelsea 2 - 2 Swansea/1_baidu_soccer_embeddings.npy\n",
      "/scratch/users/mdelabrassinne/Database/england_epl/2015-2016/2015-08-08 - 19-30 Chelsea 2 - 2 Swansea/2_baidu_soccer_embeddings.npy\n",
      "/scratch/users/mdelabrassinne/Database/england_epl/2015-2016/2015-08-08_-_19-30_Chelsea_2_-_2_Swansea/Labels-v2.json\n",
      "/scratch/users/mdelabrassinne/Database/england_epl/2015-2016/2015-08-29 - 17-00 Chelsea 1 - 2 Crystal Palace/1_baidu_soccer_embeddings.npy\n",
      "/scratch/users/mdelabrassinne/Database/england_epl/2015-2016/2015-08-29 - 17-00 Chelsea 1 - 2 Crystal Palace/2_baidu_soccer_embeddings.npy\n",
      "/scratch/users/mdelabrassinne/Database/england_epl/2015-2016/2015-08-29_-_17-00_Chelsea_1_-_2_Crystal_Palace/Labels-v2.json\n"
     ]
    },
    {
     "name": "stderr",
     "output_type": "stream",
     "text": [
      "9969it [00:07, 1351.74it/s]"
     ]
    },
    {
     "name": "stdout",
     "output_type": "stream",
     "text": [
      "/scratch/users/mdelabrassinne/Database/england_epl/2015-2016/2015-08-29 - 17-00 Manchester City 2 - 0 Watford/1_baidu_soccer_embeddings.npy\n",
      "/scratch/users/mdelabrassinne/Database/england_epl/2015-2016/2015-08-29 - 17-00 Manchester City 2 - 0 Watford/2_baidu_soccer_embeddings.npy\n",
      "/scratch/users/mdelabrassinne/Database/england_epl/2015-2016/2015-08-29_-_17-00_Manchester_City_2_-_0_Watford/Labels-v2.json\n",
      "/scratch/users/mdelabrassinne/Database/england_epl/2015-2016/2015-09-12 - 14-45 Everton 3 - 1 Chelsea/1_baidu_soccer_embeddings.npy\n",
      "/scratch/users/mdelabrassinne/Database/england_epl/2015-2016/2015-09-12 - 14-45 Everton 3 - 1 Chelsea/2_baidu_soccer_embeddings.npy\n",
      "/scratch/users/mdelabrassinne/Database/england_epl/2015-2016/2015-09-12_-_14-45_Everton_3_-_1_Chelsea/Labels-v2.json\n"
     ]
    },
    {
     "name": "stderr",
     "output_type": "stream",
     "text": [
      "10400it [00:07, 1415.70it/s]"
     ]
    },
    {
     "name": "stdout",
     "output_type": "stream",
     "text": [
      "/scratch/users/mdelabrassinne/Database/england_epl/2015-2016/2015-09-12 - 17-00 Crystal Palace 0 - 1 Manchester City/1_baidu_soccer_embeddings.npy\n",
      "/scratch/users/mdelabrassinne/Database/england_epl/2015-2016/2015-09-12 - 17-00 Crystal Palace 0 - 1 Manchester City/2_baidu_soccer_embeddings.npy\n",
      "/scratch/users/mdelabrassinne/Database/england_epl/2015-2016/2015-09-12_-_17-00_Crystal_Palace_0_-_1_Manchester_City/Labels-v2.json\n",
      "/scratch/users/mdelabrassinne/Database/england_epl/2016-2017/2016-10-17 - 22-00 Liverpool 0 - 0 Manchester United/1_baidu_soccer_embeddings.npy\n",
      "/scratch/users/mdelabrassinne/Database/england_epl/2016-2017/2016-10-17 - 22-00 Liverpool 0 - 0 Manchester United/2_baidu_soccer_embeddings.npy\n",
      "/scratch/users/mdelabrassinne/Database/england_epl/2016-2017/2016-10-17_-_22-00_Liverpool_0_-_0_Manchester_United/Labels-v2.json\n"
     ]
    },
    {
     "name": "stderr",
     "output_type": "stream",
     "text": [
      "10688it [00:07, 1415.40it/s]"
     ]
    },
    {
     "name": "stdout",
     "output_type": "stream",
     "text": [
      "/scratch/users/mdelabrassinne/Database/england_epl/2016-2017/2016-10-22 - 19-30 Liverpool 2 - 1 West Brom/1_baidu_soccer_embeddings.npy\n",
      "/scratch/users/mdelabrassinne/Database/england_epl/2016-2017/2016-10-22 - 19-30 Liverpool 2 - 1 West Brom/2_baidu_soccer_embeddings.npy\n",
      "/scratch/users/mdelabrassinne/Database/england_epl/2016-2017/2016-10-22_-_19-30_Liverpool_2_-_1_West_Brom/Labels-v2.json\n",
      "/scratch/users/mdelabrassinne/Database/england_epl/2016-2017/2016-10-29 - 14-30 Sunderland 1 - 4 Arsenal/1_baidu_soccer_embeddings.npy\n",
      "/scratch/users/mdelabrassinne/Database/england_epl/2016-2017/2016-10-29 - 14-30 Sunderland 1 - 4 Arsenal/2_baidu_soccer_embeddings.npy\n",
      "/scratch/users/mdelabrassinne/Database/england_epl/2016-2017/2016-10-29_-_14-30_Sunderland_1_-_4_Arsenal/Labels-v2.json\n"
     ]
    },
    {
     "name": "stderr",
     "output_type": "stream",
     "text": [
      "11119it [00:08, 1407.89it/s]"
     ]
    },
    {
     "name": "stdout",
     "output_type": "stream",
     "text": [
      "/scratch/users/mdelabrassinne/Database/england_epl/2016-2017/2016-10-29 - 17-00 Tottenham 1 - 1 Leicester/1_baidu_soccer_embeddings.npy\n",
      "/scratch/users/mdelabrassinne/Database/england_epl/2016-2017/2016-10-29 - 17-00 Tottenham 1 - 1 Leicester/2_baidu_soccer_embeddings.npy\n",
      "/scratch/users/mdelabrassinne/Database/england_epl/2016-2017/2016-10-29_-_17-00_Tottenham_1_-_1_Leicester/Labels-v2.json\n",
      "/scratch/users/mdelabrassinne/Database/england_epl/2016-2017/2016-11-06 - 17-15 Liverpool 6 - 1 Watford/1_baidu_soccer_embeddings.npy\n",
      "/scratch/users/mdelabrassinne/Database/england_epl/2016-2017/2016-11-06 - 17-15 Liverpool 6 - 1 Watford/2_baidu_soccer_embeddings.npy\n",
      "/scratch/users/mdelabrassinne/Database/england_epl/2016-2017/2016-11-06_-_17-15_Liverpool_6_-_1_Watford/Labels-v2.json\n"
     ]
    },
    {
     "name": "stderr",
     "output_type": "stream",
     "text": [
      "11534it [00:08, 1339.02it/s]"
     ]
    },
    {
     "name": "stdout",
     "output_type": "stream",
     "text": [
      "/scratch/users/mdelabrassinne/Database/england_epl/2016-2017/2016-11-06 - 19-30 Leicester 1 - 2 West Brom/1_baidu_soccer_embeddings.npy\n",
      "/scratch/users/mdelabrassinne/Database/england_epl/2016-2017/2016-11-06 - 19-30 Leicester 1 - 2 West Brom/2_baidu_soccer_embeddings.npy\n",
      "/scratch/users/mdelabrassinne/Database/england_epl/2016-2017/2016-11-06_-_19-30_Leicester_1_-_2_West_Brom/Labels-v2.json\n",
      "/scratch/users/mdelabrassinne/Database/england_epl/2016-2017/2016-11-19 - 18-00 Southampton 0 - 0 Liverpool/1_baidu_soccer_embeddings.npy\n",
      "/scratch/users/mdelabrassinne/Database/england_epl/2016-2017/2016-11-19 - 18-00 Southampton 0 - 0 Liverpool/2_baidu_soccer_embeddings.npy\n",
      "/scratch/users/mdelabrassinne/Database/england_epl/2016-2017/2016-11-19_-_18-00_Southampton_0_-_0_Liverpool/Labels-v2.json\n"
     ]
    },
    {
     "name": "stderr",
     "output_type": "stream",
     "text": [
      "11946it [00:08, 1346.54it/s]"
     ]
    },
    {
     "name": "stdout",
     "output_type": "stream",
     "text": [
      "/scratch/users/mdelabrassinne/Database/england_epl/2016-2017/2016-11-26 - 18-00 Liverpool 2 - 0 Sunderland/1_baidu_soccer_embeddings.npy\n",
      "/scratch/users/mdelabrassinne/Database/england_epl/2016-2017/2016-11-26 - 18-00 Liverpool 2 - 0 Sunderland/2_baidu_soccer_embeddings.npy\n",
      "/scratch/users/mdelabrassinne/Database/england_epl/2016-2017/2016-11-26_-_18-00_Liverpool_2_-_0_Sunderland/Labels-v2.json\n",
      "/scratch/users/mdelabrassinne/Database/england_epl/2016-2017/2016-12-10 - 20-30 Leicester 4 - 2 Manchester City/1_baidu_soccer_embeddings.npy\n",
      "/scratch/users/mdelabrassinne/Database/england_epl/2016-2017/2016-12-10 - 20-30 Leicester 4 - 2 Manchester City/2_baidu_soccer_embeddings.npy\n",
      "/scratch/users/mdelabrassinne/Database/england_epl/2016-2017/2016-12-10_-_20-30_Leicester_4_-_2_Manchester_City/Labels-v2.json\n"
     ]
    },
    {
     "name": "stderr",
     "output_type": "stream",
     "text": [
      "12353it [00:09, 1343.08it/s]"
     ]
    },
    {
     "name": "stdout",
     "output_type": "stream",
     "text": [
      "/scratch/users/mdelabrassinne/Database/england_epl/2016-2017/2016-12-11 - 19-30 Liverpool 2 - 2 West Ham/1_baidu_soccer_embeddings.npy\n",
      "/scratch/users/mdelabrassinne/Database/england_epl/2016-2017/2016-12-11 - 19-30 Liverpool 2 - 2 West Ham/2_baidu_soccer_embeddings.npy\n",
      "/scratch/users/mdelabrassinne/Database/england_epl/2016-2017/2016-12-11_-_19-30_Liverpool_2_-_2_West_Ham/Labels-v2.json\n",
      "/scratch/users/mdelabrassinne/Database/england_epl/2016-2017/2016-12-14 - 22-45 Middlesbrough 0 - 3 Liverpool/1_baidu_soccer_embeddings.npy\n",
      "/scratch/users/mdelabrassinne/Database/england_epl/2016-2017/2016-12-14 - 22-45 Middlesbrough 0 - 3 Liverpool/2_baidu_soccer_embeddings.npy\n",
      "/scratch/users/mdelabrassinne/Database/england_epl/2016-2017/2016-12-14_-_22-45_Middlesbrough_0_-_3_Liverpool/Labels-v2.json\n"
     ]
    },
    {
     "name": "stderr",
     "output_type": "stream",
     "text": [
      "12755it [00:09, 1322.83it/s]"
     ]
    },
    {
     "name": "stdout",
     "output_type": "stream",
     "text": [
      "/scratch/users/mdelabrassinne/Database/england_epl/2016-2017/2016-12-19 - 23-00 Everton 0 - 1 Liverpool/1_baidu_soccer_embeddings.npy\n",
      "/scratch/users/mdelabrassinne/Database/england_epl/2016-2017/2016-12-19 - 23-00 Everton 0 - 1 Liverpool/2_baidu_soccer_embeddings.npy\n",
      "/scratch/users/mdelabrassinne/Database/england_epl/2016-2017/2016-12-19_-_23-00_Everton_0_-_1_Liverpool/Labels-v2.json\n",
      "/scratch/users/mdelabrassinne/Database/england_epl/2016-2017/2016-12-27 - 20-15 Liverpool 4 - 1 Stoke City/1_baidu_soccer_embeddings.npy\n",
      "/scratch/users/mdelabrassinne/Database/england_epl/2016-2017/2016-12-27 - 20-15 Liverpool 4 - 1 Stoke City/2_baidu_soccer_embeddings.npy\n",
      "/scratch/users/mdelabrassinne/Database/england_epl/2016-2017/2016-12-27_-_20-15_Liverpool_4_-_1_Stoke_City/Labels-v2.json\n"
     ]
    },
    {
     "name": "stderr",
     "output_type": "stream",
     "text": [
      "13171it [00:09, 1339.05it/s]"
     ]
    },
    {
     "name": "stdout",
     "output_type": "stream",
     "text": [
      "/scratch/users/mdelabrassinne/Database/england_epl/2016-2017/2016-12-31 - 20-30 Liverpool 1 - 0 Manchester City/1_baidu_soccer_embeddings.npy\n",
      "/scratch/users/mdelabrassinne/Database/england_epl/2016-2017/2016-12-31 - 20-30 Liverpool 1 - 0 Manchester City/2_baidu_soccer_embeddings.npy\n",
      "/scratch/users/mdelabrassinne/Database/england_epl/2016-2017/2016-12-31_-_20-30_Liverpool_1_-_0_Manchester_City/Labels-v2.json\n",
      "/scratch/users/mdelabrassinne/Database/england_epl/2016-2017/2017-01-02 - 15-30 Middlesbrough 0 - 0 Leicester/1_baidu_soccer_embeddings.npy\n",
      "/scratch/users/mdelabrassinne/Database/england_epl/2016-2017/2017-01-02 - 15-30 Middlesbrough 0 - 0 Leicester/2_baidu_soccer_embeddings.npy\n",
      "/scratch/users/mdelabrassinne/Database/england_epl/2016-2017/2017-01-02_-_15-30_Middlesbrough_0_-_0_Leicester/Labels-v2.json\n"
     ]
    },
    {
     "name": "stderr",
     "output_type": "stream",
     "text": [
      "13581it [00:09, 1338.78it/s]"
     ]
    },
    {
     "name": "stdout",
     "output_type": "stream",
     "text": [
      "/scratch/users/mdelabrassinne/Database/england_epl/2016-2017/2017-01-02 - 18-00 Sunderland 2 - 2 Liverpool/1_baidu_soccer_embeddings.npy\n",
      "/scratch/users/mdelabrassinne/Database/england_epl/2016-2017/2017-01-02 - 18-00 Sunderland 2 - 2 Liverpool/2_baidu_soccer_embeddings.npy\n",
      "/scratch/users/mdelabrassinne/Database/england_epl/2016-2017/2017-01-02_-_18-00_Sunderland_2_-_2_Liverpool/Labels-v2.json\n",
      "/scratch/users/mdelabrassinne/Database/england_epl/2016-2017/2017-01-14 - 20-30 Leicester 0 - 3 Chelsea/1_baidu_soccer_embeddings.npy\n",
      "/scratch/users/mdelabrassinne/Database/england_epl/2016-2017/2017-01-14 - 20-30 Leicester 0 - 3 Chelsea/2_baidu_soccer_embeddings.npy\n",
      "/scratch/users/mdelabrassinne/Database/england_epl/2016-2017/2017-01-14_-_20-30_Leicester_0_-_3_Chelsea/Labels-v2.json\n"
     ]
    },
    {
     "name": "stderr",
     "output_type": "stream",
     "text": [
      "13987it [00:10, 1338.91it/s]"
     ]
    },
    {
     "name": "stdout",
     "output_type": "stream",
     "text": [
      "/scratch/users/mdelabrassinne/Database/england_epl/2016-2017/2017-01-15 - 19-00 Manchester United 1 - 1 Liverpool/1_baidu_soccer_embeddings.npy\n",
      "/scratch/users/mdelabrassinne/Database/england_epl/2016-2017/2017-01-15 - 19-00 Manchester United 1 - 1 Liverpool/2_baidu_soccer_embeddings.npy\n",
      "/scratch/users/mdelabrassinne/Database/england_epl/2016-2017/2017-01-15_-_19-00_Manchester_United_1_-_1_Liverpool/Labels-v2.json\n",
      "/scratch/users/mdelabrassinne/Database/england_epl/2016-2017/2017-01-31 - 23-00 Liverpool 1 - 1 Chelsea/1_baidu_soccer_embeddings.npy\n",
      "/scratch/users/mdelabrassinne/Database/england_epl/2016-2017/2017-01-31 - 23-00 Liverpool 1 - 1 Chelsea/2_baidu_soccer_embeddings.npy\n",
      "/scratch/users/mdelabrassinne/Database/england_epl/2016-2017/2017-01-31_-_23-00_Liverpool_1_-_1_Chelsea/Labels-v2.json\n"
     ]
    },
    {
     "name": "stderr",
     "output_type": "stream",
     "text": [
      "14421it [00:10, 1385.12it/s]"
     ]
    },
    {
     "name": "stdout",
     "output_type": "stream",
     "text": [
      "/scratch/users/mdelabrassinne/Database/england_epl/2016-2017/2017-02-27 - 23-00 Leicester 3 - 1 Liverpool/1_baidu_soccer_embeddings.npy\n",
      "/scratch/users/mdelabrassinne/Database/england_epl/2016-2017/2017-02-27 - 23-00 Leicester 3 - 1 Liverpool/2_baidu_soccer_embeddings.npy\n",
      "/scratch/users/mdelabrassinne/Database/england_epl/2016-2017/2017-02-27_-_23-00_Leicester_3_-_1_Liverpool/Labels-v2.json\n",
      "/scratch/users/mdelabrassinne/Database/england_epl/2016-2017/2017-04-26 - 21-45 Arsenal 1 - 0 Leicester/1_baidu_soccer_embeddings.npy\n",
      "/scratch/users/mdelabrassinne/Database/england_epl/2016-2017/2017-04-26 - 21-45 Arsenal 1 - 0 Leicester/2_baidu_soccer_embeddings.npy\n",
      "/scratch/users/mdelabrassinne/Database/england_epl/2016-2017/2017-04-26_-_21-45_Arsenal_1_-_0_Leicester/Labels-v2.json\n"
     ]
    },
    {
     "name": "stderr",
     "output_type": "stream",
     "text": [
      "14843it [00:10, 1378.30it/s]"
     ]
    },
    {
     "name": "stdout",
     "output_type": "stream",
     "text": [
      "/scratch/users/mdelabrassinne/Database/england_epl/2016-2017/2017-05-13 - 14-30 Manchester City 2 - 1 Leicester/1_baidu_soccer_embeddings.npy\n",
      "/scratch/users/mdelabrassinne/Database/england_epl/2016-2017/2017-05-13 - 14-30 Manchester City 2 - 1 Leicester/2_baidu_soccer_embeddings.npy\n",
      "/scratch/users/mdelabrassinne/Database/england_epl/2016-2017/2017-05-13_-_14-30_Manchester_City_2_-_1_Leicester/Labels-v2.json\n",
      "/scratch/users/mdelabrassinne/Database/england_epl/2016-2017/2016-10-01 - 14-30 Swansea 1 - 2 Liverpool/1_baidu_soccer_embeddings.npy\n",
      "/scratch/users/mdelabrassinne/Database/england_epl/2016-2017/2016-10-01 - 14-30 Swansea 1 - 2 Liverpool/2_baidu_soccer_embeddings.npy\n",
      "/scratch/users/mdelabrassinne/Database/england_epl/2016-2017/2016-10-01_-_14-30_Swansea_1_-_2_Liverpool/Labels-v2.json\n"
     ]
    },
    {
     "name": "stderr",
     "output_type": "stream",
     "text": [
      "15265it [00:11, 1384.07it/s]"
     ]
    },
    {
     "name": "stdout",
     "output_type": "stream",
     "text": [
      "/scratch/users/mdelabrassinne/Database/england_epl/2016-2017/2016-10-02 - 18-30 Burnley 0 - 1 Arsenal/1_baidu_soccer_embeddings.npy\n",
      "/scratch/users/mdelabrassinne/Database/england_epl/2016-2017/2016-10-02 - 18-30 Burnley 0 - 1 Arsenal/2_baidu_soccer_embeddings.npy\n",
      "/scratch/users/mdelabrassinne/Database/england_epl/2016-2017/2016-10-02_-_18-30_Burnley_0_-_1_Arsenal/Labels-v2.json\n",
      "/scratch/users/mdelabrassinne/Database/england_epl/2016-2017/2016-10-22 - 17-00 Arsenal 0 - 0 Middlesbrough/1_baidu_soccer_embeddings.npy\n",
      "/scratch/users/mdelabrassinne/Database/england_epl/2016-2017/2016-10-22 - 17-00 Arsenal 0 - 0 Middlesbrough/2_baidu_soccer_embeddings.npy\n",
      "/scratch/users/mdelabrassinne/Database/england_epl/2016-2017/2016-10-22_-_17-00_Arsenal_0_-_0_Middlesbrough/Labels-v2.json\n"
     ]
    },
    {
     "name": "stderr",
     "output_type": "stream",
     "text": [
      "15542it [00:11, 1366.12it/s]"
     ]
    },
    {
     "name": "stdout",
     "output_type": "stream",
     "text": [
      "/scratch/users/mdelabrassinne/Database/england_epl/2016-2017/2016-10-29 - 19-30 Crystal Palace 2 - 4 Liverpool/1_baidu_soccer_embeddings.npy\n",
      "/scratch/users/mdelabrassinne/Database/england_epl/2016-2017/2016-10-29 - 19-30 Crystal Palace 2 - 4 Liverpool/2_baidu_soccer_embeddings.npy\n",
      "/scratch/users/mdelabrassinne/Database/england_epl/2016-2017/2016-10-29_-_19-30_Crystal_Palace_2_-_4_Liverpool/Labels-v2.json\n",
      "/scratch/users/mdelabrassinne/Database/england_epl/2016-2017/2016-12-04 - 16-30 Bournemouth 4 - 3 Liverpool/1_baidu_soccer_embeddings.npy\n",
      "/scratch/users/mdelabrassinne/Database/england_epl/2016-2017/2016-12-04 - 16-30 Bournemouth 4 - 3 Liverpool/2_baidu_soccer_embeddings.npy\n",
      "/scratch/users/mdelabrassinne/Database/england_epl/2016-2017/2016-12-04_-_16-30_Bournemouth_4_-_3_Liverpool/Labels-v2.json\n"
     ]
    },
    {
     "name": "stderr",
     "output_type": "stream",
     "text": [
      "15963it [00:11, 1391.50it/s]"
     ]
    },
    {
     "name": "stdout",
     "output_type": "stream",
     "text": [
      "/scratch/users/mdelabrassinne/Database/england_epl/2016-2017/2017-04-09 - 18-00 Everton 4 - 2 Leicester/1_baidu_soccer_embeddings.npy\n",
      "/scratch/users/mdelabrassinne/Database/england_epl/2016-2017/2017-04-09 - 18-00 Everton 4 - 2 Leicester/2_baidu_soccer_embeddings.npy\n",
      "/scratch/users/mdelabrassinne/Database/england_epl/2016-2017/2017-04-09_-_18-00_Everton_4_-_2_Leicester/Labels-v2.json\n",
      "/scratch/users/mdelabrassinne/Database/england_epl/2016-2017/2016-08-27 - 14-30 Tottenham 1 - 1 Liverpool/1_baidu_soccer_embeddings.npy\n",
      "/scratch/users/mdelabrassinne/Database/england_epl/2016-2017/2016-08-27 - 14-30 Tottenham 1 - 1 Liverpool/2_baidu_soccer_embeddings.npy\n",
      "/scratch/users/mdelabrassinne/Database/england_epl/2016-2017/2016-08-27_-_14-30_Tottenham_1_-_1_Liverpool/Labels-v2.json\n"
     ]
    },
    {
     "name": "stderr",
     "output_type": "stream",
     "text": [
      "16390it [00:12, 1387.04it/s]"
     ]
    },
    {
     "name": "stdout",
     "output_type": "stream",
     "text": [
      "/scratch/users/mdelabrassinne/Database/england_epl/2016-2017/2016-09-24 - 14-30 Manchester United 4 - 1 Leicester/1_baidu_soccer_embeddings.npy\n",
      "/scratch/users/mdelabrassinne/Database/england_epl/2016-2017/2016-09-24 - 14-30 Manchester United 4 - 1 Leicester/2_baidu_soccer_embeddings.npy\n",
      "/scratch/users/mdelabrassinne/Database/england_epl/2016-2017/2016-09-24_-_14-30_Manchester_United_4_-_1_Leicester/Labels-v2.json\n",
      "/scratch/users/mdelabrassinne/Database/england_epl/2016-2017/2016-10-15 - 14-30 Chelsea 3 - 0 Leicester/1_baidu_soccer_embeddings.npy\n",
      "/scratch/users/mdelabrassinne/Database/england_epl/2016-2017/2016-10-15 - 14-30 Chelsea 3 - 0 Leicester/2_baidu_soccer_embeddings.npy\n",
      "/scratch/users/mdelabrassinne/Database/england_epl/2016-2017/2016-10-15_-_14-30_Chelsea_3_-_0_Leicester/Labels-v2.json\n"
     ]
    },
    {
     "name": "stderr",
     "output_type": "stream",
     "text": [
      "16812it [00:12, 1378.23it/s]"
     ]
    },
    {
     "name": "stdout",
     "output_type": "stream",
     "text": [
      "/scratch/users/mdelabrassinne/Database/england_epl/2016-2017/2017-01-21 - 15-30 Liverpool 2 - 3 Swansea/1_baidu_soccer_embeddings.npy\n",
      "/scratch/users/mdelabrassinne/Database/england_epl/2016-2017/2017-01-21 - 15-30 Liverpool 2 - 3 Swansea/2_baidu_soccer_embeddings.npy\n",
      "/scratch/users/mdelabrassinne/Database/england_epl/2016-2017/2017-01-21_-_15-30_Liverpool_2_-_3_Swansea/Labels-v2.json\n",
      "/scratch/users/mdelabrassinne/Database/england_epl/2016-2017/2017-05-06 - 17-00 Leicester 3 - 0 Watford/1_baidu_soccer_embeddings.npy\n",
      "/scratch/users/mdelabrassinne/Database/england_epl/2016-2017/2017-05-06 - 17-00 Leicester 3 - 0 Watford/2_baidu_soccer_embeddings.npy\n",
      "/scratch/users/mdelabrassinne/Database/england_epl/2016-2017/2017-05-06_-_17-00_Leicester_3_-_0_Watford/Labels-v2.json\n"
     ]
    },
    {
     "name": "stderr",
     "output_type": "stream",
     "text": [
      "17230it [00:12, 1374.64it/s]"
     ]
    },
    {
     "name": "stdout",
     "output_type": "stream",
     "text": [
      "/scratch/users/mdelabrassinne/Database/england_epl/2016-2017/2016-08-14 - 18-00 Arsenal 3 - 4 Liverpool/1_baidu_soccer_embeddings.npy\n",
      "/scratch/users/mdelabrassinne/Database/england_epl/2016-2017/2016-08-14 - 18-00 Arsenal 3 - 4 Liverpool/2_baidu_soccer_embeddings.npy\n",
      "/scratch/users/mdelabrassinne/Database/england_epl/2016-2017/2016-08-14_-_18-00_Arsenal_3_-_4_Liverpool/Labels-v2.json\n",
      "/scratch/users/mdelabrassinne/Database/england_epl/2016-2017/2016-08-20 - 17-00 Burnley 2 - 0 Liverpool/1_baidu_soccer_embeddings.npy\n",
      "/scratch/users/mdelabrassinne/Database/england_epl/2016-2017/2016-08-20 - 17-00 Burnley 2 - 0 Liverpool/2_baidu_soccer_embeddings.npy\n",
      "/scratch/users/mdelabrassinne/Database/england_epl/2016-2017/2016-08-20_-_17-00_Burnley_2_-_0_Liverpool/Labels-v2.json\n"
     ]
    },
    {
     "name": "stderr",
     "output_type": "stream",
     "text": [
      "17646it [00:12, 1367.34it/s]"
     ]
    },
    {
     "name": "stdout",
     "output_type": "stream",
     "text": [
      "/scratch/users/mdelabrassinne/Database/england_epl/2016-2017/2016-08-20 - 19-30 Leicester 0 - 0 Arsenal/1_baidu_soccer_embeddings.npy\n",
      "/scratch/users/mdelabrassinne/Database/england_epl/2016-2017/2016-08-20 - 19-30 Leicester 0 - 0 Arsenal/2_baidu_soccer_embeddings.npy\n",
      "/scratch/users/mdelabrassinne/Database/england_epl/2016-2017/2016-08-20_-_19-30_Leicester_0_-_0_Arsenal/Labels-v2.json\n",
      "/scratch/users/mdelabrassinne/Database/england_epl/2016-2017/2016-09-10 - 17-00 Arsenal 2 - 1 Southampton/1_baidu_soccer_embeddings.npy\n",
      "/scratch/users/mdelabrassinne/Database/england_epl/2016-2017/2016-09-10 - 17-00 Arsenal 2 - 1 Southampton/2_baidu_soccer_embeddings.npy\n",
      "/scratch/users/mdelabrassinne/Database/england_epl/2016-2017/2016-09-10_-_17-00_Arsenal_2_-_1_Southampton/Labels-v2.json\n"
     ]
    },
    {
     "name": "stderr",
     "output_type": "stream",
     "text": [
      "18057it [00:13, 1346.18it/s]"
     ]
    },
    {
     "name": "stdout",
     "output_type": "stream",
     "text": [
      "/scratch/users/mdelabrassinne/Database/england_epl/2016-2017/2016-09-16 - 22-00 Chelsea 1 - 2 Liverpool/1_baidu_soccer_embeddings.npy\n",
      "/scratch/users/mdelabrassinne/Database/england_epl/2016-2017/2016-09-16 - 22-00 Chelsea 1 - 2 Liverpool/2_baidu_soccer_embeddings.npy\n",
      "/scratch/users/mdelabrassinne/Database/england_epl/2016-2017/2016-09-16_-_22-00_Chelsea_1_-_2_Liverpool/Labels-v2.json\n",
      "/scratch/users/mdelabrassinne/Database/england_epl/2016-2017/2016-09-17 - 17-00 Hull City 1 - 4 Arsenal/1_baidu_soccer_embeddings.npy\n",
      "/scratch/users/mdelabrassinne/Database/england_epl/2016-2017/2016-09-17 - 17-00 Hull City 1 - 4 Arsenal/2_baidu_soccer_embeddings.npy\n",
      "/scratch/users/mdelabrassinne/Database/england_epl/2016-2017/2016-09-17_-_17-00_Hull_City_1_-_4_Arsenal/Labels-v2.json\n"
     ]
    },
    {
     "name": "stderr",
     "output_type": "stream",
     "text": [
      "18478it [00:13, 1364.79it/s]"
     ]
    },
    {
     "name": "stdout",
     "output_type": "stream",
     "text": [
      "/scratch/users/mdelabrassinne/Database/england_epl/2016-2017/2016-09-24 - 19-30 Arsenal 3 - 0 Chelsea/1_baidu_soccer_embeddings.npy\n",
      "/scratch/users/mdelabrassinne/Database/england_epl/2016-2017/2016-09-24 - 19-30 Arsenal 3 - 0 Chelsea/2_baidu_soccer_embeddings.npy\n",
      "/scratch/users/mdelabrassinne/Database/england_epl/2016-2017/2016-09-24_-_19-30_Arsenal_3_-_0_Chelsea/Labels-v2.json\n",
      "/scratch/users/mdelabrassinne/Database/europe_uefa-champions-league/2014-2015/2015-02-25 - 22-45 Bayer Leverkusen 1 - 0 Atl. Madrid/1_baidu_soccer_embeddings.npy\n",
      "/scratch/users/mdelabrassinne/Database/europe_uefa-champions-league/2014-2015/2015-02-25 - 22-45 Bayer Leverkusen 1 - 0 Atl. Madrid/2_baidu_soccer_embeddings.npy\n",
      "/scratch/users/mdelabrassinne/Database/europe_uefa-champions-league/2014-2015/2015-02-25_-_22-45_Bayer_Leverkusen_1_-_0_Atl._Madrid/Labels-v2.json\n"
     ]
    },
    {
     "name": "stderr",
     "output_type": "stream",
     "text": [
      "18895it [00:13, 1370.10it/s]"
     ]
    },
    {
     "name": "stdout",
     "output_type": "stream",
     "text": [
      "/scratch/users/mdelabrassinne/Database/europe_uefa-champions-league/2014-2015/2015-03-10 - 22-45 FC Porto 4 - 0 Basel/1_baidu_soccer_embeddings.npy\n",
      "/scratch/users/mdelabrassinne/Database/europe_uefa-champions-league/2014-2015/2015-03-10 - 22-45 FC Porto 4 - 0 Basel/2_baidu_soccer_embeddings.npy\n",
      "/scratch/users/mdelabrassinne/Database/europe_uefa-champions-league/2014-2015/2015-03-10_-_22-45_FC_Porto_4_-_0_Basel/Labels-v2.json\n",
      "/scratch/users/mdelabrassinne/Database/europe_uefa-champions-league/2014-2015/2015-03-18 - 22-45 Barcelona 1 - 0 Manchester City/1_baidu_soccer_embeddings.npy\n",
      "/scratch/users/mdelabrassinne/Database/europe_uefa-champions-league/2014-2015/2015-03-18 - 22-45 Barcelona 1 - 0 Manchester City/2_baidu_soccer_embeddings.npy\n",
      "/scratch/users/mdelabrassinne/Database/europe_uefa-champions-league/2014-2015/2015-03-18_-_22-45_Barcelona_1_-_0_Manchester_City/Labels-v2.json\n"
     ]
    },
    {
     "name": "stderr",
     "output_type": "stream",
     "text": [
      "19313it [00:14, 1347.21it/s]"
     ]
    },
    {
     "name": "stdout",
     "output_type": "stream",
     "text": [
      "/scratch/users/mdelabrassinne/Database/europe_uefa-champions-league/2014-2015/2015-03-18 - 22-45 Dortmund 0 - 3 Juventus/1_baidu_soccer_embeddings.npy\n",
      "/scratch/users/mdelabrassinne/Database/europe_uefa-champions-league/2014-2015/2015-03-18 - 22-45 Dortmund 0 - 3 Juventus/2_baidu_soccer_embeddings.npy\n",
      "/scratch/users/mdelabrassinne/Database/europe_uefa-champions-league/2014-2015/2015-03-18_-_22-45_Dortmund_0_-_3_Juventus/Labels-v2.json\n",
      "/scratch/users/mdelabrassinne/Database/europe_uefa-champions-league/2014-2015/2015-04-14 - 21-45 Atl. Madrid 0 - 0 Real Madrid/1_baidu_soccer_embeddings.npy\n",
      "/scratch/users/mdelabrassinne/Database/europe_uefa-champions-league/2014-2015/2015-04-14 - 21-45 Atl. Madrid 0 - 0 Real Madrid/2_baidu_soccer_embeddings.npy\n",
      "/scratch/users/mdelabrassinne/Database/europe_uefa-champions-league/2014-2015/2015-04-14_-_21-45_Atl._Madrid_0_-_0_Real_Madrid/Labels-v2.json\n"
     ]
    },
    {
     "name": "stderr",
     "output_type": "stream",
     "text": [
      "19582it [00:14, 1325.44it/s]"
     ]
    },
    {
     "name": "stdout",
     "output_type": "stream",
     "text": [
      "/scratch/users/mdelabrassinne/Database/europe_uefa-champions-league/2014-2015/2015-04-14 - 21-45 Juventus 1 - 0 Monaco/1_baidu_soccer_embeddings.npy\n",
      "/scratch/users/mdelabrassinne/Database/europe_uefa-champions-league/2014-2015/2015-04-14 - 21-45 Juventus 1 - 0 Monaco/2_baidu_soccer_embeddings.npy\n",
      "/scratch/users/mdelabrassinne/Database/europe_uefa-champions-league/2014-2015/2015-04-14_-_21-45_Juventus_1_-_0_Monaco/Labels-v2.json\n",
      "/scratch/users/mdelabrassinne/Database/europe_uefa-champions-league/2014-2015/2015-04-21 - 21-45 Bayern Munich 6 - 1 FC Porto/1_baidu_soccer_embeddings.npy\n",
      "/scratch/users/mdelabrassinne/Database/europe_uefa-champions-league/2014-2015/2015-04-21 - 21-45 Bayern Munich 6 - 1 FC Porto/2_baidu_soccer_embeddings.npy\n",
      "/scratch/users/mdelabrassinne/Database/europe_uefa-champions-league/2014-2015/2015-04-21_-_21-45_Bayern_Munich_6_-_1_FC_Porto/Labels-v2.json\n"
     ]
    },
    {
     "name": "stderr",
     "output_type": "stream",
     "text": [
      "20004it [00:14, 1375.07it/s]"
     ]
    },
    {
     "name": "stdout",
     "output_type": "stream",
     "text": [
      "/scratch/users/mdelabrassinne/Database/europe_uefa-champions-league/2014-2015/2015-04-22 - 21-45 Monaco 0 - 0 Juventus/1_baidu_soccer_embeddings.npy\n",
      "/scratch/users/mdelabrassinne/Database/europe_uefa-champions-league/2014-2015/2015-04-22 - 21-45 Monaco 0 - 0 Juventus/2_baidu_soccer_embeddings.npy\n",
      "/scratch/users/mdelabrassinne/Database/europe_uefa-champions-league/2014-2015/2015-04-22_-_21-45_Monaco_0_-_0_Juventus/Labels-v2.json\n",
      "/scratch/users/mdelabrassinne/Database/europe_uefa-champions-league/2014-2015/2015-05-06 - 21-45 Barcelona 3 - 0 Bayern Munich/1_baidu_soccer_embeddings.npy\n",
      "/scratch/users/mdelabrassinne/Database/europe_uefa-champions-league/2014-2015/2015-05-06 - 21-45 Barcelona 3 - 0 Bayern Munich/2_baidu_soccer_embeddings.npy\n",
      "/scratch/users/mdelabrassinne/Database/europe_uefa-champions-league/2014-2015/2015-05-06_-_21-45_Barcelona_3_-_0_Bayern_Munich/Labels-v2.json\n"
     ]
    },
    {
     "name": "stderr",
     "output_type": "stream",
     "text": [
      "20563it [00:15, 1374.96it/s]"
     ]
    },
    {
     "name": "stdout",
     "output_type": "stream",
     "text": [
      "/scratch/users/mdelabrassinne/Database/europe_uefa-champions-league/2014-2015/2015-05-12 - 21-45 Bayern Munich 3 - 2 Barcelona/1_baidu_soccer_embeddings.npy\n",
      "/scratch/users/mdelabrassinne/Database/europe_uefa-champions-league/2014-2015/2015-05-12 - 21-45 Bayern Munich 3 - 2 Barcelona/2_baidu_soccer_embeddings.npy\n",
      "/scratch/users/mdelabrassinne/Database/europe_uefa-champions-league/2014-2015/2015-05-12_-_21-45_Bayern_Munich_3_-_2_Barcelona/Labels-v2.json\n",
      "/scratch/users/mdelabrassinne/Database/europe_uefa-champions-league/2014-2015/2014-11-04 - 22-45 Real Madrid 1 - 0 Liverpool/1_baidu_soccer_embeddings.npy\n",
      "/scratch/users/mdelabrassinne/Database/europe_uefa-champions-league/2014-2015/2014-11-04 - 22-45 Real Madrid 1 - 0 Liverpool/2_baidu_soccer_embeddings.npy\n",
      "/scratch/users/mdelabrassinne/Database/europe_uefa-champions-league/2014-2015/2014-11-04_-_22-45_Real_Madrid_1_-_0_Liverpool/Labels-v2.json\n"
     ]
    },
    {
     "name": "stderr",
     "output_type": "stream",
     "text": [
      "20840it [00:15, 1378.78it/s]"
     ]
    },
    {
     "name": "stdout",
     "output_type": "stream",
     "text": [
      "/scratch/users/mdelabrassinne/Database/europe_uefa-champions-league/2014-2015/2014-11-05 - 22-45 Ajax 0 - 2 Barcelona/1_baidu_soccer_embeddings.npy\n",
      "/scratch/users/mdelabrassinne/Database/europe_uefa-champions-league/2014-2015/2014-11-05 - 22-45 Ajax 0 - 2 Barcelona/2_baidu_soccer_embeddings.npy\n",
      "/scratch/users/mdelabrassinne/Database/europe_uefa-champions-league/2014-2015/2014-11-05_-_22-45_Ajax_0_-_2_Barcelona/Labels-v2.json\n",
      "/scratch/users/mdelabrassinne/Database/europe_uefa-champions-league/2014-2015/2014-11-05 - 22-45 Manchester City 1 - 2 CSKA Moscow/1_baidu_soccer_embeddings.npy\n",
      "/scratch/users/mdelabrassinne/Database/europe_uefa-champions-league/2014-2015/2014-11-05 - 22-45 Manchester City 1 - 2 CSKA Moscow/2_baidu_soccer_embeddings.npy\n",
      "/scratch/users/mdelabrassinne/Database/europe_uefa-champions-league/2014-2015/2014-11-05_-_22-45_Manchester_City_1_-_2_CSKA_Moscow/Labels-v2.json\n"
     ]
    },
    {
     "name": "stderr",
     "output_type": "stream",
     "text": [
      "21260it [00:15, 1362.40it/s]"
     ]
    },
    {
     "name": "stdout",
     "output_type": "stream",
     "text": [
      "/scratch/users/mdelabrassinne/Database/europe_uefa-champions-league/2014-2015/2014-12-09 - 22-45 Galatasaray 1 - 4 Arsenal/1_baidu_soccer_embeddings.npy\n",
      "/scratch/users/mdelabrassinne/Database/europe_uefa-champions-league/2014-2015/2014-12-09 - 22-45 Galatasaray 1 - 4 Arsenal/2_baidu_soccer_embeddings.npy\n",
      "/scratch/users/mdelabrassinne/Database/europe_uefa-champions-league/2014-2015/2014-12-09_-_22-45_Galatasaray_1_-_4_Arsenal/Labels-v2.json\n",
      "/scratch/users/mdelabrassinne/Database/europe_uefa-champions-league/2014-2015/2014-12-09 - 22-45 Real Madrid 4 - 0 Ludogorets/1_baidu_soccer_embeddings.npy\n",
      "/scratch/users/mdelabrassinne/Database/europe_uefa-champions-league/2014-2015/2014-12-09 - 22-45 Real Madrid 4 - 0 Ludogorets/2_baidu_soccer_embeddings.npy\n",
      "/scratch/users/mdelabrassinne/Database/europe_uefa-champions-league/2014-2015/2014-12-09_-_22-45_Real_Madrid_4_-_0_Ludogorets/Labels-v2.json\n"
     ]
    },
    {
     "name": "stderr",
     "output_type": "stream",
     "text": [
      "21539it [00:15, 1375.82it/s]"
     ]
    },
    {
     "name": "stdout",
     "output_type": "stream",
     "text": [
      "/scratch/users/mdelabrassinne/Database/europe_uefa-champions-league/2014-2015/2015-03-11 - 22-45 Bayern Munich 7 - 0 Shakhtar Donetsk/1_baidu_soccer_embeddings.npy\n",
      "/scratch/users/mdelabrassinne/Database/europe_uefa-champions-league/2014-2015/2015-03-11 - 22-45 Bayern Munich 7 - 0 Shakhtar Donetsk/2_baidu_soccer_embeddings.npy\n",
      "/scratch/users/mdelabrassinne/Database/europe_uefa-champions-league/2014-2015/2015-03-11_-_22-45_Bayern_Munich_7_-_0_Shakhtar_Donetsk/Labels-v2.json\n",
      "/scratch/users/mdelabrassinne/Database/europe_uefa-champions-league/2014-2015/2015-04-15 - 21-45 Paris SG 1 - 3 Barcelona/1_baidu_soccer_embeddings.npy\n",
      "/scratch/users/mdelabrassinne/Database/europe_uefa-champions-league/2014-2015/2015-04-15 - 21-45 Paris SG 1 - 3 Barcelona/2_baidu_soccer_embeddings.npy\n",
      "/scratch/users/mdelabrassinne/Database/europe_uefa-champions-league/2014-2015/2015-04-15_-_21-45_Paris_SG_1_-_3_Barcelona/Labels-v2.json\n"
     ]
    },
    {
     "name": "stderr",
     "output_type": "stream",
     "text": [
      "21956it [00:16, 1378.98it/s]"
     ]
    },
    {
     "name": "stdout",
     "output_type": "stream",
     "text": [
      "/scratch/users/mdelabrassinne/Database/europe_uefa-champions-league/2014-2015/2015-04-21 - 21-45 Barcelona 2 - 0 Paris SG/1_baidu_soccer_embeddings.npy\n",
      "/scratch/users/mdelabrassinne/Database/europe_uefa-champions-league/2014-2015/2015-04-21 - 21-45 Barcelona 2 - 0 Paris SG/2_baidu_soccer_embeddings.npy\n",
      "/scratch/users/mdelabrassinne/Database/europe_uefa-champions-league/2014-2015/2015-04-21_-_21-45_Barcelona_2_-_0_Paris_SG/Labels-v2.json\n",
      "/scratch/users/mdelabrassinne/Database/europe_uefa-champions-league/2014-2015/2014-11-04 - 20-00 Zenit Petersburg 1 - 2 Bayer Leverkusen/1_baidu_soccer_embeddings.npy\n",
      "/scratch/users/mdelabrassinne/Database/europe_uefa-champions-league/2014-2015/2014-11-04 - 20-00 Zenit Petersburg 1 - 2 Bayer Leverkusen/2_baidu_soccer_embeddings.npy\n",
      "/scratch/users/mdelabrassinne/Database/europe_uefa-champions-league/2014-2015/2014-11-04_-_20-00_Zenit_Petersburg_1_-_2_Bayer_Leverkusen/Labels-v2.json\n"
     ]
    },
    {
     "name": "stderr",
     "output_type": "stream",
     "text": [
      "22377it [00:16, 1388.35it/s]"
     ]
    },
    {
     "name": "stdout",
     "output_type": "stream",
     "text": [
      "/scratch/users/mdelabrassinne/Database/europe_uefa-champions-league/2014-2015/2015-02-24 - 22-45 Manchester City 1 - 2 Barcelona/1_baidu_soccer_embeddings.npy\n",
      "/scratch/users/mdelabrassinne/Database/europe_uefa-champions-league/2014-2015/2015-02-24 - 22-45 Manchester City 1 - 2 Barcelona/2_baidu_soccer_embeddings.npy\n",
      "/scratch/users/mdelabrassinne/Database/europe_uefa-champions-league/2014-2015/2015-02-24_-_22-45_Manchester_City_1_-_2_Barcelona/Labels-v2.json\n",
      "/scratch/users/mdelabrassinne/Database/europe_uefa-champions-league/2014-2015/2015-03-10 - 22-45 Real Madrid 3 - 4 Schalke/1_baidu_soccer_embeddings.npy\n",
      "/scratch/users/mdelabrassinne/Database/europe_uefa-champions-league/2014-2015/2015-03-10 - 22-45 Real Madrid 3 - 4 Schalke/2_baidu_soccer_embeddings.npy\n",
      "/scratch/users/mdelabrassinne/Database/europe_uefa-champions-league/2014-2015/2015-03-10_-_22-45_Real_Madrid_3_-_4_Schalke/Labels-v2.json\n"
     ]
    },
    {
     "name": "stderr",
     "output_type": "stream",
     "text": [
      "22656it [00:16, 1371.62it/s]"
     ]
    },
    {
     "name": "stdout",
     "output_type": "stream",
     "text": [
      "/scratch/users/mdelabrassinne/Database/europe_uefa-champions-league/2014-2015/2015-03-17 - 22-45 Monaco 0 - 2 Arsenal/1_baidu_soccer_embeddings.npy\n",
      "/scratch/users/mdelabrassinne/Database/europe_uefa-champions-league/2014-2015/2015-03-17 - 22-45 Monaco 0 - 2 Arsenal/2_baidu_soccer_embeddings.npy\n",
      "/scratch/users/mdelabrassinne/Database/europe_uefa-champions-league/2014-2015/2015-03-17_-_22-45_Monaco_0_-_2_Arsenal/Labels-v2.json\n",
      "/scratch/users/mdelabrassinne/Database/europe_uefa-champions-league/2014-2015/2015-04-15 - 21-45 FC Porto 3 - 1 Bayern Munich/1_baidu_soccer_embeddings.npy\n",
      "/scratch/users/mdelabrassinne/Database/europe_uefa-champions-league/2014-2015/2015-04-15 - 21-45 FC Porto 3 - 1 Bayern Munich/2_baidu_soccer_embeddings.npy\n",
      "/scratch/users/mdelabrassinne/Database/europe_uefa-champions-league/2014-2015/2015-04-15_-_21-45_FC_Porto_3_-_1_Bayern_Munich/Labels-v2.json\n"
     ]
    },
    {
     "name": "stderr",
     "output_type": "stream",
     "text": [
      "23087it [00:16, 1399.87it/s]"
     ]
    },
    {
     "name": "stdout",
     "output_type": "stream",
     "text": [
      "/scratch/users/mdelabrassinne/Database/europe_uefa-champions-league/2014-2015/2015-04-22 - 21-45 Real Madrid 1 - 0 Atl. Madrid/1_baidu_soccer_embeddings.npy\n",
      "/scratch/users/mdelabrassinne/Database/europe_uefa-champions-league/2014-2015/2015-04-22 - 21-45 Real Madrid 1 - 0 Atl. Madrid/2_baidu_soccer_embeddings.npy\n",
      "/scratch/users/mdelabrassinne/Database/europe_uefa-champions-league/2014-2015/2015-04-22_-_21-45_Real_Madrid_1_-_0_Atl._Madrid/Labels-v2.json\n",
      "/scratch/users/mdelabrassinne/Database/europe_uefa-champions-league/2014-2015/2015-05-05 - 21-45 Juventus 2 - 1 Real Madrid/1_baidu_soccer_embeddings.npy\n",
      "/scratch/users/mdelabrassinne/Database/europe_uefa-champions-league/2014-2015/2015-05-05 - 21-45 Juventus 2 - 1 Real Madrid/2_baidu_soccer_embeddings.npy\n",
      "/scratch/users/mdelabrassinne/Database/europe_uefa-champions-league/2014-2015/2015-05-05_-_21-45_Juventus_2_-_1_Real_Madrid/Labels-v2.json\n"
     ]
    },
    {
     "name": "stderr",
     "output_type": "stream",
     "text": [
      "23508it [00:17, 1393.66it/s]"
     ]
    },
    {
     "name": "stdout",
     "output_type": "stream",
     "text": [
      "/scratch/users/mdelabrassinne/Database/europe_uefa-champions-league/2014-2015/2014-11-04 - 22-45 Arsenal 3 - 3 Anderlecht/1_baidu_soccer_embeddings.npy\n",
      "/scratch/users/mdelabrassinne/Database/europe_uefa-champions-league/2014-2015/2014-11-04 - 22-45 Arsenal 3 - 3 Anderlecht/2_baidu_soccer_embeddings.npy\n",
      "/scratch/users/mdelabrassinne/Database/europe_uefa-champions-league/2014-2015/2014-11-04_-_22-45_Arsenal_3_-_3_Anderlecht/Labels-v2.json\n",
      "/scratch/users/mdelabrassinne/Database/europe_uefa-champions-league/2014-2015/2014-11-04 - 22-45 Dortmund 4 - 1 Galatasaray/1_baidu_soccer_embeddings.npy\n",
      "/scratch/users/mdelabrassinne/Database/europe_uefa-champions-league/2014-2015/2014-11-04 - 22-45 Dortmund 4 - 1 Galatasaray/2_baidu_soccer_embeddings.npy\n",
      "/scratch/users/mdelabrassinne/Database/europe_uefa-champions-league/2014-2015/2014-11-04_-_22-45_Dortmund_4_-_1_Galatasaray/Labels-v2.json\n"
     ]
    },
    {
     "name": "stderr",
     "output_type": "stream",
     "text": [
      "23966it [00:17, 1463.18it/s]"
     ]
    },
    {
     "name": "stdout",
     "output_type": "stream",
     "text": [
      "/scratch/users/mdelabrassinne/Database/europe_uefa-champions-league/2014-2015/2014-11-05 - 22-45 Bayern Munich 2 - 0 AS Roma/1_baidu_soccer_embeddings.npy\n",
      "/scratch/users/mdelabrassinne/Database/europe_uefa-champions-league/2014-2015/2014-11-05 - 22-45 Bayern Munich 2 - 0 AS Roma/2_baidu_soccer_embeddings.npy\n",
      "/scratch/users/mdelabrassinne/Database/europe_uefa-champions-league/2014-2015/2014-11-05_-_22-45_Bayern_Munich_2_-_0_AS_Roma/Labels-v2.json\n",
      "/scratch/users/mdelabrassinne/Database/europe_uefa-champions-league/2014-2015/2014-12-09 - 22-45 Benfica 0 - 0 Bayer Leverkusen/1_baidu_soccer_embeddings.npy\n",
      "/scratch/users/mdelabrassinne/Database/europe_uefa-champions-league/2014-2015/2014-12-09 - 22-45 Benfica 0 - 0 Bayer Leverkusen/2_baidu_soccer_embeddings.npy\n",
      "/scratch/users/mdelabrassinne/Database/europe_uefa-champions-league/2014-2015/2014-12-09_-_22-45_Benfica_0_-_0_Bayer_Leverkusen/Labels-v2.json\n"
     ]
    },
    {
     "name": "stderr",
     "output_type": "stream",
     "text": [
      "24257it [00:17, 1420.29it/s]"
     ]
    },
    {
     "name": "stdout",
     "output_type": "stream",
     "text": [
      "/scratch/users/mdelabrassinne/Database/europe_uefa-champions-league/2014-2015/2014-12-09 - 22-45 Dortmund 1 - 1 Anderlecht/1_baidu_soccer_embeddings.npy\n",
      "/scratch/users/mdelabrassinne/Database/europe_uefa-champions-league/2014-2015/2014-12-09 - 22-45 Dortmund 1 - 1 Anderlecht/2_baidu_soccer_embeddings.npy\n",
      "/scratch/users/mdelabrassinne/Database/europe_uefa-champions-league/2014-2015/2014-12-09_-_22-45_Dortmund_1_-_1_Anderlecht/Labels-v2.json\n",
      "/scratch/users/mdelabrassinne/Database/europe_uefa-champions-league/2014-2015/2014-12-09 - 22-45 Liverpool 1 - 1 Basel/1_baidu_soccer_embeddings.npy\n",
      "/scratch/users/mdelabrassinne/Database/europe_uefa-champions-league/2014-2015/2014-12-09 - 22-45 Liverpool 1 - 1 Basel/2_baidu_soccer_embeddings.npy\n",
      "/scratch/users/mdelabrassinne/Database/europe_uefa-champions-league/2014-2015/2014-12-09_-_22-45_Liverpool_1_-_1_Basel/Labels-v2.json\n"
     ]
    },
    {
     "name": "stderr",
     "output_type": "stream",
     "text": [
      "24687it [00:18, 1406.20it/s]"
     ]
    },
    {
     "name": "stdout",
     "output_type": "stream",
     "text": [
      "/scratch/users/mdelabrassinne/Database/europe_uefa-champions-league/2014-2015/2014-12-10 - 22-45 Barcelona 3 - 1 Paris SG/1_baidu_soccer_embeddings.npy\n",
      "/scratch/users/mdelabrassinne/Database/europe_uefa-champions-league/2014-2015/2014-12-10 - 22-45 Barcelona 3 - 1 Paris SG/2_baidu_soccer_embeddings.npy\n",
      "/scratch/users/mdelabrassinne/Database/europe_uefa-champions-league/2014-2015/2014-12-10_-_22-45_Barcelona_3_-_1_Paris_SG/Labels-v2.json\n",
      "/scratch/users/mdelabrassinne/Database/europe_uefa-champions-league/2014-2015/2014-12-10 - 22-45 Bayern Munich 3 - 0 CSKA Moscow/1_baidu_soccer_embeddings.npy\n",
      "/scratch/users/mdelabrassinne/Database/europe_uefa-champions-league/2014-2015/2014-12-10 - 22-45 Bayern Munich 3 - 0 CSKA Moscow/2_baidu_soccer_embeddings.npy\n",
      "/scratch/users/mdelabrassinne/Database/europe_uefa-champions-league/2014-2015/2014-12-10_-_22-45_Bayern_Munich_3_-_0_CSKA_Moscow/Labels-v2.json\n"
     ]
    },
    {
     "name": "stderr",
     "output_type": "stream",
     "text": [
      "24970it [00:18, 1403.42it/s]"
     ]
    },
    {
     "name": "stdout",
     "output_type": "stream",
     "text": [
      "/scratch/users/mdelabrassinne/Database/europe_uefa-champions-league/2014-2015/2015-02-17 - 22-45 Paris SG 1 - 1 Chelsea/1_baidu_soccer_embeddings.npy\n",
      "/scratch/users/mdelabrassinne/Database/europe_uefa-champions-league/2014-2015/2015-02-17 - 22-45 Paris SG 1 - 1 Chelsea/2_baidu_soccer_embeddings.npy\n",
      "/scratch/users/mdelabrassinne/Database/europe_uefa-champions-league/2014-2015/2015-02-17_-_22-45_Paris_SG_1_-_1_Chelsea/Labels-v2.json\n",
      "/scratch/users/mdelabrassinne/Database/europe_uefa-champions-league/2014-2015/2015-02-17 - 22-45 Shakhtar Donetsk 0 - 0 Bayern Munich/1_baidu_soccer_embeddings.npy\n",
      "/scratch/users/mdelabrassinne/Database/europe_uefa-champions-league/2014-2015/2015-02-17 - 22-45 Shakhtar Donetsk 0 - 0 Bayern Munich/2_baidu_soccer_embeddings.npy\n",
      "/scratch/users/mdelabrassinne/Database/europe_uefa-champions-league/2014-2015/2015-02-17_-_22-45_Shakhtar_Donetsk_0_-_0_Bayern_Munich/Labels-v2.json\n"
     ]
    },
    {
     "name": "stderr",
     "output_type": "stream",
     "text": [
      "25250it [00:18, 1360.33it/s]"
     ]
    },
    {
     "name": "stdout",
     "output_type": "stream",
     "text": [
      "/scratch/users/mdelabrassinne/Database/europe_uefa-champions-league/2014-2015/2015-02-18 - 22-45 Schalke 0 - 2 Real Madrid/1_baidu_soccer_embeddings.npy\n",
      "/scratch/users/mdelabrassinne/Database/europe_uefa-champions-league/2014-2015/2015-02-18 - 22-45 Schalke 0 - 2 Real Madrid/2_baidu_soccer_embeddings.npy\n",
      "/scratch/users/mdelabrassinne/Database/europe_uefa-champions-league/2014-2015/2015-02-18_-_22-45_Schalke_0_-_2_Real_Madrid/Labels-v2.json\n",
      "/scratch/users/mdelabrassinne/Database/europe_uefa-champions-league/2014-2015/2015-02-25 - 22-45 Arsenal 1 - 3 Monaco/1_baidu_soccer_embeddings.npy\n",
      "/scratch/users/mdelabrassinne/Database/europe_uefa-champions-league/2014-2015/2015-02-25 - 22-45 Arsenal 1 - 3 Monaco/2_baidu_soccer_embeddings.npy\n",
      "/scratch/users/mdelabrassinne/Database/europe_uefa-champions-league/2014-2015/2015-02-25_-_22-45_Arsenal_1_-_3_Monaco/Labels-v2.json\n"
     ]
    },
    {
     "name": "stderr",
     "output_type": "stream",
     "text": [
      "25688it [00:18, 1386.77it/s]"
     ]
    },
    {
     "name": "stdout",
     "output_type": "stream",
     "text": [
      "/scratch/users/mdelabrassinne/Database/europe_uefa-champions-league/2015-2016/2015-09-16 - 21-45 Gent 1 - 1 Lyon/1_baidu_soccer_embeddings.npy\n",
      "/scratch/users/mdelabrassinne/Database/europe_uefa-champions-league/2015-2016/2015-09-16 - 21-45 Gent 1 - 1 Lyon/2_baidu_soccer_embeddings.npy\n",
      "/scratch/users/mdelabrassinne/Database/europe_uefa-champions-league/2015-2016/2015-09-16_-_21-45_Gent_1_-_1_Lyon/Labels-v2.json\n",
      "/scratch/users/mdelabrassinne/Database/europe_uefa-champions-league/2015-2016/2015-09-29 - 21-45 Arsenal 2 - 3 Olympiakos Piraeus/1_baidu_soccer_embeddings.npy\n",
      "/scratch/users/mdelabrassinne/Database/europe_uefa-champions-league/2015-2016/2015-09-29 - 21-45 Arsenal 2 - 3 Olympiakos Piraeus/2_baidu_soccer_embeddings.npy\n",
      "/scratch/users/mdelabrassinne/Database/europe_uefa-champions-league/2015-2016/2015-09-29_-_21-45_Arsenal_2_-_3_Olympiakos_Piraeus/Labels-v2.json\n"
     ]
    },
    {
     "name": "stderr",
     "output_type": "stream",
     "text": [
      "25988it [00:18, 1436.06it/s]"
     ]
    },
    {
     "name": "stdout",
     "output_type": "stream",
     "text": [
      "/scratch/users/mdelabrassinne/Database/europe_uefa-champions-league/2015-2016/2015-09-29 - 21-45 Lyon 0 - 1 Valencia/1_baidu_soccer_embeddings.npy\n",
      "/scratch/users/mdelabrassinne/Database/europe_uefa-champions-league/2015-2016/2015-09-29 - 21-45 Lyon 0 - 1 Valencia/2_baidu_soccer_embeddings.npy\n",
      "/scratch/users/mdelabrassinne/Database/europe_uefa-champions-league/2015-2016/2015-09-29_-_21-45_Lyon_0_-_1_Valencia/Labels-v2.json\n",
      "/scratch/users/mdelabrassinne/Database/europe_uefa-champions-league/2015-2016/2015-10-20 - 21-45 Arsenal 2 - 0 Bayern Munich/1_baidu_soccer_embeddings.npy\n",
      "/scratch/users/mdelabrassinne/Database/europe_uefa-champions-league/2015-2016/2015-10-20 - 21-45 Arsenal 2 - 0 Bayern Munich/2_baidu_soccer_embeddings.npy\n",
      "/scratch/users/mdelabrassinne/Database/europe_uefa-champions-league/2015-2016/2015-10-20_-_21-45_Arsenal_2_-_0_Bayern_Munich/Labels-v2.json\n"
     ]
    },
    {
     "name": "stderr",
     "output_type": "stream",
     "text": [
      "26422it [00:19, 1427.00it/s]"
     ]
    },
    {
     "name": "stdout",
     "output_type": "stream",
     "text": [
      "/scratch/users/mdelabrassinne/Database/europe_uefa-champions-league/2015-2016/2015-11-03 - 18-00 FC Astana 0 - 0 Atl. Madrid/1_baidu_soccer_embeddings.npy\n",
      "/scratch/users/mdelabrassinne/Database/europe_uefa-champions-league/2015-2016/2015-11-03 - 18-00 FC Astana 0 - 0 Atl. Madrid/2_baidu_soccer_embeddings.npy\n",
      "/scratch/users/mdelabrassinne/Database/europe_uefa-champions-league/2015-2016/2015-11-03_-_18-00_FC_Astana_0_-_0_Atl._Madrid/Labels-v2.json\n",
      "/scratch/users/mdelabrassinne/Database/europe_uefa-champions-league/2015-2016/2015-11-03 - 22-45 B. Monchengladbach 1 - 1 Juventus/1_baidu_soccer_embeddings.npy\n",
      "/scratch/users/mdelabrassinne/Database/europe_uefa-champions-league/2015-2016/2015-11-03 - 22-45 B. Monchengladbach 1 - 1 Juventus/2_baidu_soccer_embeddings.npy\n",
      "/scratch/users/mdelabrassinne/Database/europe_uefa-champions-league/2015-2016/2015-11-03_-_22-45_B._Monchengladbach_1_-_1_Juventus/Labels-v2.json\n"
     ]
    },
    {
     "name": "stderr",
     "output_type": "stream",
     "text": [
      "26851it [00:19, 1408.62it/s]"
     ]
    },
    {
     "name": "stdout",
     "output_type": "stream",
     "text": [
      "/scratch/users/mdelabrassinne/Database/europe_uefa-champions-league/2015-2016/2015-11-03 - 22-45 Manchester United 1 - 0 CSKA Moscow/1_baidu_soccer_embeddings.npy\n",
      "/scratch/users/mdelabrassinne/Database/europe_uefa-champions-league/2015-2016/2015-11-03 - 22-45 Manchester United 1 - 0 CSKA Moscow/2_baidu_soccer_embeddings.npy\n",
      "/scratch/users/mdelabrassinne/Database/europe_uefa-champions-league/2015-2016/2015-11-03_-_22-45_Manchester_United_1_-_0_CSKA_Moscow/Labels-v2.json\n",
      "/scratch/users/mdelabrassinne/Database/europe_uefa-champions-league/2015-2016/2015-11-03 - 22-45 PSV 2 - 0 Wolfsburg/1_baidu_soccer_embeddings.npy\n",
      "/scratch/users/mdelabrassinne/Database/europe_uefa-champions-league/2015-2016/2015-11-03 - 22-45 PSV 2 - 0 Wolfsburg/2_baidu_soccer_embeddings.npy\n",
      "/scratch/users/mdelabrassinne/Database/europe_uefa-champions-league/2015-2016/2015-11-03_-_22-45_PSV_2_-_0_Wolfsburg/Labels-v2.json\n"
     ]
    },
    {
     "name": "stderr",
     "output_type": "stream",
     "text": [
      "27279it [00:19, 1411.12it/s]"
     ]
    },
    {
     "name": "stdout",
     "output_type": "stream",
     "text": [
      "/scratch/users/mdelabrassinne/Database/europe_uefa-champions-league/2015-2016/2015-11-04 - 22-45 Bayern Munich 5 - 1 Arsenal/1_baidu_soccer_embeddings.npy\n",
      "/scratch/users/mdelabrassinne/Database/europe_uefa-champions-league/2015-2016/2015-11-04 - 22-45 Bayern Munich 5 - 1 Arsenal/2_baidu_soccer_embeddings.npy\n",
      "/scratch/users/mdelabrassinne/Database/europe_uefa-champions-league/2015-2016/2015-11-04_-_22-45_Bayern_Munich_5_-_1_Arsenal/Labels-v2.json\n",
      "/scratch/users/mdelabrassinne/Database/europe_uefa-champions-league/2015-2016/2015-11-04 - 22-45 Gent 1 - 0 Valencia/1_baidu_soccer_embeddings.npy\n",
      "/scratch/users/mdelabrassinne/Database/europe_uefa-champions-league/2015-2016/2015-11-04 - 22-45 Gent 1 - 0 Valencia/2_baidu_soccer_embeddings.npy\n",
      "/scratch/users/mdelabrassinne/Database/europe_uefa-champions-league/2015-2016/2015-11-04_-_22-45_Gent_1_-_0_Valencia/Labels-v2.json\n"
     ]
    },
    {
     "name": "stderr",
     "output_type": "stream",
     "text": [
      "27713it [00:20, 1418.59it/s]"
     ]
    },
    {
     "name": "stdout",
     "output_type": "stream",
     "text": [
      "/scratch/users/mdelabrassinne/Database/europe_uefa-champions-league/2015-2016/2015-11-04 - 22-45 Lyon 0 - 2 Zenit Petersburg/1_baidu_soccer_embeddings.npy\n",
      "/scratch/users/mdelabrassinne/Database/europe_uefa-champions-league/2015-2016/2015-11-04 - 22-45 Lyon 0 - 2 Zenit Petersburg/2_baidu_soccer_embeddings.npy\n",
      "/scratch/users/mdelabrassinne/Database/europe_uefa-champions-league/2015-2016/2015-11-04_-_22-45_Lyon_0_-_2_Zenit_Petersburg/Labels-v2.json\n",
      "/scratch/users/mdelabrassinne/Database/europe_uefa-champions-league/2015-2016/2015-11-04 - 22-45 Maccabi Tel Aviv 1 - 3 FC Porto/1_baidu_soccer_embeddings.npy\n",
      "/scratch/users/mdelabrassinne/Database/europe_uefa-champions-league/2015-2016/2015-11-04 - 22-45 Maccabi Tel Aviv 1 - 3 FC Porto/2_baidu_soccer_embeddings.npy\n",
      "/scratch/users/mdelabrassinne/Database/europe_uefa-champions-league/2015-2016/2015-11-04_-_22-45_Maccabi_Tel_Aviv_1_-_3_FC_Porto/Labels-v2.json\n"
     ]
    },
    {
     "name": "stderr",
     "output_type": "stream",
     "text": [
      "28138it [00:20, 1402.14it/s]"
     ]
    },
    {
     "name": "stdout",
     "output_type": "stream",
     "text": [
      "/scratch/users/mdelabrassinne/Database/europe_uefa-champions-league/2015-2016/2015-11-24 - 20-00 Zenit Petersburg 2 - 0 Valencia/1_baidu_soccer_embeddings.npy\n",
      "/scratch/users/mdelabrassinne/Database/europe_uefa-champions-league/2015-2016/2015-11-24 - 20-00 Zenit Petersburg 2 - 0 Valencia/2_baidu_soccer_embeddings.npy\n",
      "/scratch/users/mdelabrassinne/Database/europe_uefa-champions-league/2015-2016/2015-11-24_-_20-00_Zenit_Petersburg_2_-_0_Valencia/Labels-v2.json\n",
      "/scratch/users/mdelabrassinne/Database/europe_uefa-champions-league/2015-2016/2015-11-24 - 22-45 Barcelona 6 - 1 AS Roma/1_baidu_soccer_embeddings.npy\n",
      "/scratch/users/mdelabrassinne/Database/europe_uefa-champions-league/2015-2016/2015-11-24 - 22-45 Barcelona 6 - 1 AS Roma/2_baidu_soccer_embeddings.npy\n",
      "/scratch/users/mdelabrassinne/Database/europe_uefa-champions-league/2015-2016/2015-11-24_-_22-45_Barcelona_6_-_1_AS_Roma/Labels-v2.json\n"
     ]
    },
    {
     "name": "stderr",
     "output_type": "stream",
     "text": [
      "28423it [00:20, 1402.61it/s]"
     ]
    },
    {
     "name": "stdout",
     "output_type": "stream",
     "text": [
      "/scratch/users/mdelabrassinne/Database/europe_uefa-champions-league/2015-2016/2015-11-24 - 22-45 Bayern Munich 4 - 0 Olympiakos Piraeus/1_baidu_soccer_embeddings.npy\n",
      "/scratch/users/mdelabrassinne/Database/europe_uefa-champions-league/2015-2016/2015-11-24 - 22-45 Bayern Munich 4 - 0 Olympiakos Piraeus/2_baidu_soccer_embeddings.npy\n",
      "/scratch/users/mdelabrassinne/Database/europe_uefa-champions-league/2015-2016/2015-11-24_-_22-45_Bayern_Munich_4_-_0_Olympiakos_Piraeus/Labels-v2.json\n",
      "/scratch/users/mdelabrassinne/Database/europe_uefa-champions-league/2015-2016/2015-11-24 - 22-45 FC Porto 0 - 2 Dyn. Kiev/1_baidu_soccer_embeddings.npy\n",
      "/scratch/users/mdelabrassinne/Database/europe_uefa-champions-league/2015-2016/2015-11-24 - 22-45 FC Porto 0 - 2 Dyn. Kiev/2_baidu_soccer_embeddings.npy\n",
      "/scratch/users/mdelabrassinne/Database/europe_uefa-champions-league/2015-2016/2015-11-24_-_22-45_FC_Porto_0_-_2_Dyn._Kiev/Labels-v2.json\n"
     ]
    },
    {
     "name": "stderr",
     "output_type": "stream",
     "text": [
      "28842it [00:21, 1367.89it/s]"
     ]
    },
    {
     "name": "stdout",
     "output_type": "stream",
     "text": [
      "/scratch/users/mdelabrassinne/Database/europe_uefa-champions-league/2015-2016/2015-11-24 - 22-45 Maccabi Tel Aviv 0 - 4 Chelsea/1_baidu_soccer_embeddings.npy\n",
      "/scratch/users/mdelabrassinne/Database/europe_uefa-champions-league/2015-2016/2015-11-24 - 22-45 Maccabi Tel Aviv 0 - 4 Chelsea/2_baidu_soccer_embeddings.npy\n",
      "/scratch/users/mdelabrassinne/Database/europe_uefa-champions-league/2015-2016/2015-11-24_-_22-45_Maccabi_Tel_Aviv_0_-_4_Chelsea/Labels-v2.json\n",
      "/scratch/users/mdelabrassinne/Database/europe_uefa-champions-league/2015-2016/2015-11-25 - 20-00 CSKA Moscow 0 - 2 Wolfsburg/1_baidu_soccer_embeddings.npy\n",
      "/scratch/users/mdelabrassinne/Database/europe_uefa-champions-league/2015-2016/2015-11-25 - 20-00 CSKA Moscow 0 - 2 Wolfsburg/2_baidu_soccer_embeddings.npy\n",
      "/scratch/users/mdelabrassinne/Database/europe_uefa-champions-league/2015-2016/2015-11-25_-_20-00_CSKA_Moscow_0_-_2_Wolfsburg/Labels-v2.json\n"
     ]
    },
    {
     "name": "stderr",
     "output_type": "stream",
     "text": [
      "29273it [00:21, 1400.52it/s]"
     ]
    },
    {
     "name": "stdout",
     "output_type": "stream",
     "text": [
      "/scratch/users/mdelabrassinne/Database/europe_uefa-champions-league/2015-2016/2015-11-25 - 22-45 Atl. Madrid 2 - 0 Galatasaray/1_baidu_soccer_embeddings.npy\n",
      "/scratch/users/mdelabrassinne/Database/europe_uefa-champions-league/2015-2016/2015-11-25 - 22-45 Atl. Madrid 2 - 0 Galatasaray/2_baidu_soccer_embeddings.npy\n",
      "/scratch/users/mdelabrassinne/Database/europe_uefa-champions-league/2015-2016/2015-11-25_-_22-45_Atl._Madrid_2_-_0_Galatasaray/Labels-v2.json\n",
      "/scratch/users/mdelabrassinne/Database/europe_uefa-champions-league/2015-2016/2015-11-25 - 22-45 B. Monchengladbach 4 - 2 Sevilla/1_baidu_soccer_embeddings.npy\n",
      "/scratch/users/mdelabrassinne/Database/europe_uefa-champions-league/2015-2016/2015-11-25 - 22-45 B. Monchengladbach 4 - 2 Sevilla/2_baidu_soccer_embeddings.npy\n",
      "/scratch/users/mdelabrassinne/Database/europe_uefa-champions-league/2015-2016/2015-11-25_-_22-45_B._Monchengladbach_4_-_2_Sevilla/Labels-v2.json\n"
     ]
    },
    {
     "name": "stderr",
     "output_type": "stream",
     "text": [
      "29566it [00:21, 1426.15it/s]"
     ]
    },
    {
     "name": "stdout",
     "output_type": "stream",
     "text": [
      "/scratch/users/mdelabrassinne/Database/europe_uefa-champions-league/2015-2016/2015-11-25 - 22-45 Malmo FF 0 - 5 Paris SG/1_baidu_soccer_embeddings.npy\n",
      "/scratch/users/mdelabrassinne/Database/europe_uefa-champions-league/2015-2016/2015-11-25 - 22-45 Malmo FF 0 - 5 Paris SG/2_baidu_soccer_embeddings.npy\n",
      "/scratch/users/mdelabrassinne/Database/europe_uefa-champions-league/2015-2016/2015-11-25_-_22-45_Malmo_FF_0_-_5_Paris_SG/Labels-v2.json\n",
      "/scratch/users/mdelabrassinne/Database/europe_uefa-champions-league/2015-2016/2015-12-09 - 22-45 D. Zagreb 0 - 2 Bayern Munich/1_baidu_soccer_embeddings.npy\n",
      "/scratch/users/mdelabrassinne/Database/europe_uefa-champions-league/2015-2016/2015-12-09 - 22-45 D. Zagreb 0 - 2 Bayern Munich/2_baidu_soccer_embeddings.npy\n",
      "/scratch/users/mdelabrassinne/Database/europe_uefa-champions-league/2015-2016/2015-12-09_-_22-45_D._Zagreb_0_-_2_Bayern_Munich/Labels-v2.json\n"
     ]
    },
    {
     "name": "stderr",
     "output_type": "stream",
     "text": [
      "30001it [00:21, 1436.93it/s]"
     ]
    },
    {
     "name": "stdout",
     "output_type": "stream",
     "text": [
      "/scratch/users/mdelabrassinne/Database/europe_uefa-champions-league/2015-2016/2015-09-15 - 21-45 PSV 2 - 1 Manchester United/1_baidu_soccer_embeddings.npy\n",
      "/scratch/users/mdelabrassinne/Database/europe_uefa-champions-league/2015-2016/2015-09-15 - 21-45 PSV 2 - 1 Manchester United/2_baidu_soccer_embeddings.npy\n",
      "/scratch/users/mdelabrassinne/Database/europe_uefa-champions-league/2015-2016/2015-09-15_-_21-45_PSV_2_-_1_Manchester_United/Labels-v2.json\n",
      "/scratch/users/mdelabrassinne/Database/europe_uefa-champions-league/2015-2016/2015-09-16 - 21-45 Chelsea 4 - 0 Maccabi Tel Aviv/1_baidu_soccer_embeddings.npy\n",
      "/scratch/users/mdelabrassinne/Database/europe_uefa-champions-league/2015-2016/2015-09-16 - 21-45 Chelsea 4 - 0 Maccabi Tel Aviv/2_baidu_soccer_embeddings.npy\n",
      "/scratch/users/mdelabrassinne/Database/europe_uefa-champions-league/2015-2016/2015-09-16_-_21-45_Chelsea_4_-_0_Maccabi_Tel_Aviv/Labels-v2.json\n"
     ]
    },
    {
     "name": "stderr",
     "output_type": "stream",
     "text": [
      "30437it [00:22, 1432.15it/s]"
     ]
    },
    {
     "name": "stdout",
     "output_type": "stream",
     "text": [
      "/scratch/users/mdelabrassinne/Database/europe_uefa-champions-league/2015-2016/2015-09-16 - 21-45 Dyn. Kiev 2 - 2 FC Porto/1_baidu_soccer_embeddings.npy\n",
      "/scratch/users/mdelabrassinne/Database/europe_uefa-champions-league/2015-2016/2015-09-16 - 21-45 Dyn. Kiev 2 - 2 FC Porto/2_baidu_soccer_embeddings.npy\n",
      "/scratch/users/mdelabrassinne/Database/europe_uefa-champions-league/2015-2016/2015-09-16_-_21-45_Dyn._Kiev_2_-_2_FC_Porto/Labels-v2.json\n",
      "/scratch/users/mdelabrassinne/Database/europe_uefa-champions-league/2015-2016/2015-09-16 - 21-45 Olympiakos Piraeus 0 - 3 Bayern Munich/1_baidu_soccer_embeddings.npy\n",
      "/scratch/users/mdelabrassinne/Database/europe_uefa-champions-league/2015-2016/2015-09-16 - 21-45 Olympiakos Piraeus 0 - 3 Bayern Munich/2_baidu_soccer_embeddings.npy\n",
      "/scratch/users/mdelabrassinne/Database/europe_uefa-champions-league/2015-2016/2015-09-16_-_21-45_Olympiakos_Piraeus_0_-_3_Bayern_Munich/Labels-v2.json\n"
     ]
    },
    {
     "name": "stderr",
     "output_type": "stream",
     "text": [
      "30732it [00:22, 1441.96it/s]"
     ]
    },
    {
     "name": "stdout",
     "output_type": "stream",
     "text": [
      "/scratch/users/mdelabrassinne/Database/europe_uefa-champions-league/2015-2016/2015-09-29 - 21-45 Barcelona 2 - 1 Bayer Leverkusen/1_baidu_soccer_embeddings.npy\n",
      "/scratch/users/mdelabrassinne/Database/europe_uefa-champions-league/2015-2016/2015-09-29 - 21-45 Barcelona 2 - 1 Bayer Leverkusen/2_baidu_soccer_embeddings.npy\n",
      "/scratch/users/mdelabrassinne/Database/europe_uefa-champions-league/2015-2016/2015-09-29_-_21-45_Barcelona_2_-_1_Bayer_Leverkusen/Labels-v2.json\n",
      "/scratch/users/mdelabrassinne/Database/europe_uefa-champions-league/2015-2016/2015-09-29 - 21-45 FC Porto 2 - 1 Chelsea/1_baidu_soccer_embeddings.npy\n",
      "/scratch/users/mdelabrassinne/Database/europe_uefa-champions-league/2015-2016/2015-09-29 - 21-45 FC Porto 2 - 1 Chelsea/2_baidu_soccer_embeddings.npy\n",
      "/scratch/users/mdelabrassinne/Database/europe_uefa-champions-league/2015-2016/2015-09-29_-_21-45_FC_Porto_2_-_1_Chelsea/Labels-v2.json\n"
     ]
    },
    {
     "name": "stderr",
     "output_type": "stream",
     "text": [
      "31167it [00:22, 1434.73it/s]"
     ]
    },
    {
     "name": "stdout",
     "output_type": "stream",
     "text": [
      "/scratch/users/mdelabrassinne/Database/europe_uefa-champions-league/2015-2016/2015-11-03 - 22-45 Benfica 2 - 1 Galatasaray/1_baidu_soccer_embeddings.npy\n",
      "/scratch/users/mdelabrassinne/Database/europe_uefa-champions-league/2015-2016/2015-11-03 - 22-45 Benfica 2 - 1 Galatasaray/2_baidu_soccer_embeddings.npy\n",
      "/scratch/users/mdelabrassinne/Database/europe_uefa-champions-league/2015-2016/2015-11-03_-_22-45_Benfica_2_-_1_Galatasaray/Labels-v2.json\n",
      "/scratch/users/mdelabrassinne/Database/europe_uefa-champions-league/2015-2016/2015-11-04 - 22-45 Barcelona 3 - 0 BATE/1_baidu_soccer_embeddings.npy\n",
      "/scratch/users/mdelabrassinne/Database/europe_uefa-champions-league/2015-2016/2015-11-04 - 22-45 Barcelona 3 - 0 BATE/2_baidu_soccer_embeddings.npy\n",
      "/scratch/users/mdelabrassinne/Database/europe_uefa-champions-league/2015-2016/2015-11-04_-_22-45_Barcelona_3_-_0_BATE/Labels-v2.json\n"
     ]
    },
    {
     "name": "stderr",
     "output_type": "stream",
     "text": [
      "31607it [00:22, 1451.43it/s]"
     ]
    },
    {
     "name": "stdout",
     "output_type": "stream",
     "text": [
      "/scratch/users/mdelabrassinne/Database/europe_uefa-champions-league/2015-2016/2015-11-24 - 20-00 BATE 1 - 1 Bayer Leverkusen/1_baidu_soccer_embeddings.npy\n",
      "/scratch/users/mdelabrassinne/Database/europe_uefa-champions-league/2015-2016/2015-11-24 - 20-00 BATE 1 - 1 Bayer Leverkusen/2_baidu_soccer_embeddings.npy\n",
      "/scratch/users/mdelabrassinne/Database/europe_uefa-champions-league/2015-2016/2015-11-24_-_20-00_BATE_1_-_1_Bayer_Leverkusen/Labels-v2.json\n",
      "/scratch/users/mdelabrassinne/Database/europe_uefa-champions-league/2015-2016/2015-11-25 - 22-45 Juventus 1 - 0 Manchester City/1_baidu_soccer_embeddings.npy\n",
      "/scratch/users/mdelabrassinne/Database/europe_uefa-champions-league/2015-2016/2015-11-25 - 22-45 Juventus 1 - 0 Manchester City/2_baidu_soccer_embeddings.npy\n",
      "/scratch/users/mdelabrassinne/Database/europe_uefa-champions-league/2015-2016/2015-11-25_-_22-45_Juventus_1_-_0_Manchester_City/Labels-v2.json\n"
     ]
    },
    {
     "name": "stderr",
     "output_type": "stream",
     "text": [
      "32049it [00:23, 1438.86it/s]"
     ]
    },
    {
     "name": "stdout",
     "output_type": "stream",
     "text": [
      "/scratch/users/mdelabrassinne/Database/europe_uefa-champions-league/2015-2016/2015-09-29 - 21-45 Bayern Munich 5 - 0 D. Zagreb/1_baidu_soccer_embeddings.npy\n",
      "/scratch/users/mdelabrassinne/Database/europe_uefa-champions-league/2015-2016/2015-09-29 - 21-45 Bayern Munich 5 - 0 D. Zagreb/2_baidu_soccer_embeddings.npy\n",
      "/scratch/users/mdelabrassinne/Database/europe_uefa-champions-league/2015-2016/2015-09-29_-_21-45_Bayern_Munich_5_-_0_D._Zagreb/Labels-v2.json\n",
      "/scratch/users/mdelabrassinne/Database/europe_uefa-champions-league/2015-2016/2015-11-03 - 22-45 Real Madrid 1 - 0 Paris SG/1_baidu_soccer_embeddings.npy\n",
      "/scratch/users/mdelabrassinne/Database/europe_uefa-champions-league/2015-2016/2015-11-03 - 22-45 Real Madrid 1 - 0 Paris SG/2_baidu_soccer_embeddings.npy\n",
      "/scratch/users/mdelabrassinne/Database/europe_uefa-champions-league/2015-2016/2015-11-03_-_22-45_Real_Madrid_1_-_0_Paris_SG/Labels-v2.json\n"
     ]
    },
    {
     "name": "stderr",
     "output_type": "stream",
     "text": [
      "32346it [00:23, 1447.87it/s]"
     ]
    },
    {
     "name": "stdout",
     "output_type": "stream",
     "text": [
      "/scratch/users/mdelabrassinne/Database/europe_uefa-champions-league/2015-2016/2015-11-03 - 22-45 Sevilla 1 - 3 Manchester City/1_baidu_soccer_embeddings.npy\n",
      "/scratch/users/mdelabrassinne/Database/europe_uefa-champions-league/2015-2016/2015-11-03 - 22-45 Sevilla 1 - 3 Manchester City/2_baidu_soccer_embeddings.npy\n",
      "/scratch/users/mdelabrassinne/Database/europe_uefa-champions-league/2015-2016/2015-11-03_-_22-45_Sevilla_1_-_3_Manchester_City/Labels-v2.json\n",
      "/scratch/users/mdelabrassinne/Database/europe_uefa-champions-league/2015-2016/2015-11-03 - 22-45 Shakhtar Donetsk 4 - 0 Malmo FF/1_baidu_soccer_embeddings.npy\n",
      "/scratch/users/mdelabrassinne/Database/europe_uefa-champions-league/2015-2016/2015-11-03 - 22-45 Shakhtar Donetsk 4 - 0 Malmo FF/2_baidu_soccer_embeddings.npy\n",
      "/scratch/users/mdelabrassinne/Database/europe_uefa-champions-league/2015-2016/2015-11-03_-_22-45_Shakhtar_Donetsk_4_-_0_Malmo_FF/Labels-v2.json\n"
     ]
    },
    {
     "name": "stderr",
     "output_type": "stream",
     "text": [
      "32784it [00:23, 1443.29it/s]"
     ]
    },
    {
     "name": "stdout",
     "output_type": "stream",
     "text": [
      "/scratch/users/mdelabrassinne/Database/europe_uefa-champions-league/2015-2016/2015-11-25 - 22-45 Shakhtar Donetsk 3 - 4 Real Madrid/1_baidu_soccer_embeddings.npy\n",
      "/scratch/users/mdelabrassinne/Database/europe_uefa-champions-league/2015-2016/2015-11-25 - 22-45 Shakhtar Donetsk 3 - 4 Real Madrid/2_baidu_soccer_embeddings.npy\n",
      "/scratch/users/mdelabrassinne/Database/europe_uefa-champions-league/2015-2016/2015-11-25_-_22-45_Shakhtar_Donetsk_3_-_4_Real_Madrid/Labels-v2.json\n",
      "/scratch/users/mdelabrassinne/Database/europe_uefa-champions-league/2015-2016/2016-04-05 - 21-45 Bayern Munich 1 - 0 Benfica/1_baidu_soccer_embeddings.npy\n",
      "/scratch/users/mdelabrassinne/Database/europe_uefa-champions-league/2015-2016/2016-04-05 - 21-45 Bayern Munich 1 - 0 Benfica/2_baidu_soccer_embeddings.npy\n",
      "/scratch/users/mdelabrassinne/Database/europe_uefa-champions-league/2015-2016/2016-04-05_-_21-45_Bayern_Munich_1_-_0_Benfica/Labels-v2.json\n"
     ]
    },
    {
     "name": "stderr",
     "output_type": "stream",
     "text": [
      "33074it [00:23, 1439.05it/s]"
     ]
    },
    {
     "name": "stdout",
     "output_type": "stream",
     "text": [
      "/scratch/users/mdelabrassinne/Database/europe_uefa-champions-league/2015-2016/2015-09-15 - 21-45 Galatasaray 0 - 2 Atl. Madrid/1_baidu_soccer_embeddings.npy\n",
      "/scratch/users/mdelabrassinne/Database/europe_uefa-champions-league/2015-2016/2015-09-15 - 21-45 Galatasaray 0 - 2 Atl. Madrid/2_baidu_soccer_embeddings.npy\n",
      "/scratch/users/mdelabrassinne/Database/europe_uefa-champions-league/2015-2016/2015-09-15_-_21-45_Galatasaray_0_-_2_Atl._Madrid/Labels-v2.json\n",
      "/scratch/users/mdelabrassinne/Database/europe_uefa-champions-league/2015-2016/2015-09-15 - 21-45 Manchester City 1 - 2 Juventus/1_baidu_soccer_embeddings.npy\n",
      "/scratch/users/mdelabrassinne/Database/europe_uefa-champions-league/2015-2016/2015-09-15 - 21-45 Manchester City 1 - 2 Juventus/2_baidu_soccer_embeddings.npy\n",
      "/scratch/users/mdelabrassinne/Database/europe_uefa-champions-league/2015-2016/2015-09-15_-_21-45_Manchester_City_1_-_2_Juventus/Labels-v2.json\n"
     ]
    },
    {
     "name": "stderr",
     "output_type": "stream",
     "text": [
      "33524it [00:24, 1470.25it/s]"
     ]
    },
    {
     "name": "stdout",
     "output_type": "stream",
     "text": [
      "/scratch/users/mdelabrassinne/Database/europe_uefa-champions-league/2015-2016/2015-09-15 - 21-45 Paris SG 2 - 0 Malmo FF/1_baidu_soccer_embeddings.npy\n",
      "/scratch/users/mdelabrassinne/Database/europe_uefa-champions-league/2015-2016/2015-09-15 - 21-45 Paris SG 2 - 0 Malmo FF/2_baidu_soccer_embeddings.npy\n",
      "/scratch/users/mdelabrassinne/Database/europe_uefa-champions-league/2015-2016/2015-09-15_-_21-45_Paris_SG_2_-_0_Malmo_FF/Labels-v2.json\n",
      "/scratch/users/mdelabrassinne/Database/europe_uefa-champions-league/2015-2016/2015-09-15 - 21-45 Real Madrid 4 - 0 Shakhtar Donetsk/1_baidu_soccer_embeddings.npy\n",
      "/scratch/users/mdelabrassinne/Database/europe_uefa-champions-league/2015-2016/2015-09-15 - 21-45 Real Madrid 4 - 0 Shakhtar Donetsk/2_baidu_soccer_embeddings.npy\n",
      "/scratch/users/mdelabrassinne/Database/europe_uefa-champions-league/2015-2016/2015-09-15_-_21-45_Real_Madrid_4_-_0_Shakhtar_Donetsk/Labels-v2.json\n"
     ]
    },
    {
     "name": "stderr",
     "output_type": "stream",
     "text": [
      "33829it [00:24, 1494.14it/s]"
     ]
    },
    {
     "name": "stdout",
     "output_type": "stream",
     "text": [
      "/scratch/users/mdelabrassinne/Database/europe_uefa-champions-league/2015-2016/2015-09-15 - 21-45 Sevilla 3 - 0 B. Monchengladbach/1_baidu_soccer_embeddings.npy\n",
      "/scratch/users/mdelabrassinne/Database/europe_uefa-champions-league/2015-2016/2015-09-15 - 21-45 Sevilla 3 - 0 B. Monchengladbach/2_baidu_soccer_embeddings.npy\n",
      "/scratch/users/mdelabrassinne/Database/europe_uefa-champions-league/2015-2016/2015-09-15_-_21-45_Sevilla_3_-_0_B._Monchengladbach/Labels-v2.json\n",
      "/scratch/users/mdelabrassinne/Database/europe_uefa-champions-league/2015-2016/2015-09-16 - 21-45 AS Roma 1 - 1 Barcelona/1_baidu_soccer_embeddings.npy\n",
      "/scratch/users/mdelabrassinne/Database/europe_uefa-champions-league/2015-2016/2015-09-16 - 21-45 AS Roma 1 - 1 Barcelona/2_baidu_soccer_embeddings.npy\n",
      "/scratch/users/mdelabrassinne/Database/europe_uefa-champions-league/2015-2016/2015-09-16_-_21-45_AS_Roma_1_-_1_Barcelona/Labels-v2.json\n"
     ]
    },
    {
     "name": "stderr",
     "output_type": "stream",
     "text": [
      "34294it [00:24, 1535.70it/s]"
     ]
    },
    {
     "name": "stdout",
     "output_type": "stream",
     "text": [
      "/scratch/users/mdelabrassinne/Database/europe_uefa-champions-league/2015-2016/2015-09-16 - 21-45 Bayer Leverkusen 4 - 1 BATE/1_baidu_soccer_embeddings.npy\n",
      "/scratch/users/mdelabrassinne/Database/europe_uefa-champions-league/2015-2016/2015-09-16 - 21-45 Bayer Leverkusen 4 - 1 BATE/2_baidu_soccer_embeddings.npy\n",
      "/scratch/users/mdelabrassinne/Database/europe_uefa-champions-league/2015-2016/2015-09-16_-_21-45_Bayer_Leverkusen_4_-_1_BATE/Labels-v2.json\n",
      "/scratch/users/mdelabrassinne/Database/europe_uefa-champions-league/2016-2017/2016-09-13 - 21-45 Barcelona 7 - 0 Celtic/1_baidu_soccer_embeddings.npy\n",
      "/scratch/users/mdelabrassinne/Database/europe_uefa-champions-league/2016-2017/2016-09-13 - 21-45 Barcelona 7 - 0 Celtic/2_baidu_soccer_embeddings.npy\n",
      "/scratch/users/mdelabrassinne/Database/europe_uefa-champions-league/2016-2017/2016-09-13_-_21-45_Barcelona_7_-_0_Celtic/Labels-v2.json\n"
     ]
    },
    {
     "name": "stderr",
     "output_type": "stream",
     "text": [
      "34599it [00:24, 1485.30it/s]"
     ]
    },
    {
     "name": "stdout",
     "output_type": "stream",
     "text": [
      "/scratch/users/mdelabrassinne/Database/europe_uefa-champions-league/2016-2017/2016-09-13 - 21-45 Dyn. Kiev 1 - 2 Napoli/1_baidu_soccer_embeddings.npy\n",
      "/scratch/users/mdelabrassinne/Database/europe_uefa-champions-league/2016-2017/2016-09-13 - 21-45 Dyn. Kiev 1 - 2 Napoli/2_baidu_soccer_embeddings.npy\n",
      "/scratch/users/mdelabrassinne/Database/europe_uefa-champions-league/2016-2017/2016-09-13_-_21-45_Dyn._Kiev_1_-_2_Napoli/Labels-v2.json\n",
      "/scratch/users/mdelabrassinne/Database/europe_uefa-champions-league/2016-2017/2016-09-28 - 21-45 Ludogorets 1 - 3 Paris SG/1_baidu_soccer_embeddings.npy\n",
      "/scratch/users/mdelabrassinne/Database/europe_uefa-champions-league/2016-2017/2016-09-28 - 21-45 Ludogorets 1 - 3 Paris SG/2_baidu_soccer_embeddings.npy\n",
      "/scratch/users/mdelabrassinne/Database/europe_uefa-champions-league/2016-2017/2016-09-28_-_21-45_Ludogorets_1_-_3_Paris_SG/Labels-v2.json\n"
     ]
    },
    {
     "name": "stderr",
     "output_type": "stream",
     "text": [
      "35045it [00:25, 1476.10it/s]"
     ]
    },
    {
     "name": "stdout",
     "output_type": "stream",
     "text": [
      "/scratch/users/mdelabrassinne/Database/europe_uefa-champions-league/2016-2017/2016-10-19 - 21-45 Barcelona 4 - 0 Manchester City/1_baidu_soccer_embeddings.npy\n",
      "/scratch/users/mdelabrassinne/Database/europe_uefa-champions-league/2016-2017/2016-10-19 - 21-45 Barcelona 4 - 0 Manchester City/2_baidu_soccer_embeddings.npy\n",
      "/scratch/users/mdelabrassinne/Database/europe_uefa-champions-league/2016-2017/2016-10-19_-_21-45_Barcelona_4_-_0_Manchester_City/Labels-v2.json\n",
      "/scratch/users/mdelabrassinne/Database/europe_uefa-champions-league/2016-2017/2016-11-23 - 22-45 Celtic 0 - 2 Barcelona/1_baidu_soccer_embeddings.npy\n",
      "/scratch/users/mdelabrassinne/Database/europe_uefa-champions-league/2016-2017/2016-11-23 - 22-45 Celtic 0 - 2 Barcelona/2_baidu_soccer_embeddings.npy\n",
      "/scratch/users/mdelabrassinne/Database/europe_uefa-champions-league/2016-2017/2016-11-23_-_22-45_Celtic_0_-_2_Barcelona/Labels-v2.json\n"
     ]
    },
    {
     "name": "stderr",
     "output_type": "stream",
     "text": [
      "35346it [00:25, 1471.53it/s]"
     ]
    },
    {
     "name": "stdout",
     "output_type": "stream",
     "text": [
      "/scratch/users/mdelabrassinne/Database/europe_uefa-champions-league/2016-2017/2016-11-23 - 22-45 Napoli 0 - 0 Dyn. Kiev/1_baidu_soccer_embeddings.npy\n",
      "/scratch/users/mdelabrassinne/Database/europe_uefa-champions-league/2016-2017/2016-11-23 - 22-45 Napoli 0 - 0 Dyn. Kiev/2_baidu_soccer_embeddings.npy\n",
      "/scratch/users/mdelabrassinne/Database/europe_uefa-champions-league/2016-2017/2016-11-23_-_22-45_Napoli_0_-_0_Dyn._Kiev/Labels-v2.json\n",
      "/scratch/users/mdelabrassinne/Database/europe_uefa-champions-league/2016-2017/2016-12-06 - 22-45 Benfica 1 - 2 Napoli/1_baidu_soccer_embeddings.npy\n",
      "/scratch/users/mdelabrassinne/Database/europe_uefa-champions-league/2016-2017/2016-12-06 - 22-45 Benfica 1 - 2 Napoli/2_baidu_soccer_embeddings.npy\n",
      "/scratch/users/mdelabrassinne/Database/europe_uefa-champions-league/2016-2017/2016-12-06_-_22-45_Benfica_1_-_2_Napoli/Labels-v2.json\n"
     ]
    },
    {
     "name": "stderr",
     "output_type": "stream",
     "text": [
      "35786it [00:25, 1454.00it/s]"
     ]
    },
    {
     "name": "stdout",
     "output_type": "stream",
     "text": [
      "/scratch/users/mdelabrassinne/Database/europe_uefa-champions-league/2016-2017/2017-02-14 - 22-45 Paris SG 4 - 0 Barcelona/1_baidu_soccer_embeddings.npy\n",
      "/scratch/users/mdelabrassinne/Database/europe_uefa-champions-league/2016-2017/2017-02-14 - 22-45 Paris SG 4 - 0 Barcelona/2_baidu_soccer_embeddings.npy\n",
      "/scratch/users/mdelabrassinne/Database/europe_uefa-champions-league/2016-2017/2017-02-14_-_22-45_Paris_SG_4_-_0_Barcelona/Labels-v2.json\n",
      "/scratch/users/mdelabrassinne/Database/europe_uefa-champions-league/2016-2017/2017-02-15 - 22-45 Real Madrid 3 - 1 Napoli/1_baidu_soccer_embeddings.npy\n",
      "/scratch/users/mdelabrassinne/Database/europe_uefa-champions-league/2016-2017/2017-02-15 - 22-45 Real Madrid 3 - 1 Napoli/2_baidu_soccer_embeddings.npy\n",
      "/scratch/users/mdelabrassinne/Database/europe_uefa-champions-league/2016-2017/2017-02-15_-_22-45_Real_Madrid_3_-_1_Napoli/Labels-v2.json\n"
     ]
    },
    {
     "name": "stderr",
     "output_type": "stream",
     "text": [
      "36225it [00:26, 1429.41it/s]"
     ]
    },
    {
     "name": "stdout",
     "output_type": "stream",
     "text": [
      "/scratch/users/mdelabrassinne/Database/europe_uefa-champions-league/2016-2017/2017-03-07 - 22-45 Napoli 1 - 3 Real Madrid/1_baidu_soccer_embeddings.npy\n",
      "/scratch/users/mdelabrassinne/Database/europe_uefa-champions-league/2016-2017/2017-03-07 - 22-45 Napoli 1 - 3 Real Madrid/2_baidu_soccer_embeddings.npy\n",
      "/scratch/users/mdelabrassinne/Database/europe_uefa-champions-league/2016-2017/2017-03-07_-_22-45_Napoli_1_-_3_Real_Madrid/Labels-v2.json\n",
      "/scratch/users/mdelabrassinne/Database/europe_uefa-champions-league/2016-2017/2017-04-18 - 21-45 Real Madrid 4 - 2 Bayern Munich/1_baidu_soccer_embeddings.npy\n",
      "/scratch/users/mdelabrassinne/Database/europe_uefa-champions-league/2016-2017/2017-04-18 - 21-45 Real Madrid 4 - 2 Bayern Munich/2_baidu_soccer_embeddings.npy\n",
      "/scratch/users/mdelabrassinne/Database/europe_uefa-champions-league/2016-2017/2017-04-18_-_21-45_Real_Madrid_4_-_2_Bayern_Munich/Labels-v2.json\n"
     ]
    },
    {
     "name": "stderr",
     "output_type": "stream",
     "text": [
      "36518it [00:26, 1433.74it/s]"
     ]
    },
    {
     "name": "stdout",
     "output_type": "stream",
     "text": [
      "/scratch/users/mdelabrassinne/Database/europe_uefa-champions-league/2016-2017/2016-09-28 - 21-45 Napoli 4 - 2 Benfica/1_baidu_soccer_embeddings.npy\n",
      "/scratch/users/mdelabrassinne/Database/europe_uefa-champions-league/2016-2017/2016-09-28 - 21-45 Napoli 4 - 2 Benfica/2_baidu_soccer_embeddings.npy\n",
      "/scratch/users/mdelabrassinne/Database/europe_uefa-champions-league/2016-2017/2016-09-28_-_21-45_Napoli_4_-_2_Benfica/Labels-v2.json\n",
      "/scratch/users/mdelabrassinne/Database/europe_uefa-champions-league/2016-2017/2016-10-19 - 21-45 Paris SG 3 - 0 Basel/1_baidu_soccer_embeddings.npy\n",
      "/scratch/users/mdelabrassinne/Database/europe_uefa-champions-league/2016-2017/2016-10-19 - 21-45 Paris SG 3 - 0 Basel/2_baidu_soccer_embeddings.npy\n",
      "/scratch/users/mdelabrassinne/Database/europe_uefa-champions-league/2016-2017/2016-10-19_-_21-45_Paris_SG_3_-_0_Basel/Labels-v2.json\n"
     ]
    },
    {
     "name": "stderr",
     "output_type": "stream",
     "text": [
      "36956it [00:26, 1451.71it/s]"
     ]
    },
    {
     "name": "stdout",
     "output_type": "stream",
     "text": [
      "/scratch/users/mdelabrassinne/Database/europe_uefa-champions-league/2016-2017/2016-11-01 - 20-45 Besiktas 1 - 1 Napoli/1_baidu_soccer_embeddings.npy\n",
      "/scratch/users/mdelabrassinne/Database/europe_uefa-champions-league/2016-2017/2016-11-01 - 20-45 Besiktas 1 - 1 Napoli/2_baidu_soccer_embeddings.npy\n",
      "/scratch/users/mdelabrassinne/Database/europe_uefa-champions-league/2016-2017/2016-11-01_-_20-45_Besiktas_1_-_1_Napoli/Labels-v2.json\n",
      "/scratch/users/mdelabrassinne/Database/europe_uefa-champions-league/2016-2017/2016-11-01 - 22-45 Manchester City 3 - 1 Barcelona/1_baidu_soccer_embeddings.npy\n",
      "/scratch/users/mdelabrassinne/Database/europe_uefa-champions-league/2016-2017/2016-11-01 - 22-45 Manchester City 3 - 1 Barcelona/2_baidu_soccer_embeddings.npy\n",
      "/scratch/users/mdelabrassinne/Database/europe_uefa-champions-league/2016-2017/2016-11-01_-_22-45_Manchester_City_3_-_1_Barcelona/Labels-v2.json\n"
     ]
    },
    {
     "name": "stderr",
     "output_type": "stream",
     "text": [
      "37246it [00:26, 1421.08it/s]"
     ]
    },
    {
     "name": "stdout",
     "output_type": "stream",
     "text": [
      "/scratch/users/mdelabrassinne/Database/europe_uefa-champions-league/2016-2017/2016-11-23 - 22-45 Arsenal 2 - 2 Paris SG/1_baidu_soccer_embeddings.npy\n",
      "/scratch/users/mdelabrassinne/Database/europe_uefa-champions-league/2016-2017/2016-11-23 - 22-45 Arsenal 2 - 2 Paris SG/2_baidu_soccer_embeddings.npy\n",
      "/scratch/users/mdelabrassinne/Database/europe_uefa-champions-league/2016-2017/2016-11-23_-_22-45_Arsenal_2_-_2_Paris_SG/Labels-v2.json\n",
      "/scratch/users/mdelabrassinne/Database/europe_uefa-champions-league/2016-2017/2017-03-08 - 22-45 Barcelona 6 - 1 Paris SG/1_baidu_soccer_embeddings.npy\n",
      "/scratch/users/mdelabrassinne/Database/europe_uefa-champions-league/2016-2017/2017-03-08 - 22-45 Barcelona 6 - 1 Paris SG/2_baidu_soccer_embeddings.npy\n",
      "/scratch/users/mdelabrassinne/Database/europe_uefa-champions-league/2016-2017/2017-03-08_-_22-45_Barcelona_6_-_1_Paris_SG/Labels-v2.json\n"
     ]
    },
    {
     "name": "stderr",
     "output_type": "stream",
     "text": [
      "37674it [00:27, 1406.77it/s]"
     ]
    },
    {
     "name": "stdout",
     "output_type": "stream",
     "text": [
      "/scratch/users/mdelabrassinne/Database/europe_uefa-champions-league/2016-2017/2017-04-12 - 21-45 Bayern Munich 1 - 2 Real Madrid/1_baidu_soccer_embeddings.npy\n",
      "/scratch/users/mdelabrassinne/Database/europe_uefa-champions-league/2016-2017/2017-04-12 - 21-45 Bayern Munich 1 - 2 Real Madrid/2_baidu_soccer_embeddings.npy\n",
      "/scratch/users/mdelabrassinne/Database/europe_uefa-champions-league/2016-2017/2017-04-12_-_21-45_Bayern_Munich_1_-_2_Real_Madrid/Labels-v2.json\n",
      "/scratch/users/mdelabrassinne/Database/europe_uefa-champions-league/2016-2017/2017-05-02 - 21-45 Real Madrid 3 - 0 Atl. Madrid/1_baidu_soccer_embeddings.npy\n",
      "/scratch/users/mdelabrassinne/Database/europe_uefa-champions-league/2016-2017/2017-05-02 - 21-45 Real Madrid 3 - 0 Atl. Madrid/2_baidu_soccer_embeddings.npy\n",
      "/scratch/users/mdelabrassinne/Database/europe_uefa-champions-league/2016-2017/2017-05-02_-_21-45_Real_Madrid_3_-_0_Atl._Madrid/Labels-v2.json\n"
     ]
    },
    {
     "name": "stderr",
     "output_type": "stream",
     "text": [
      "37974it [00:27, 1453.02it/s]"
     ]
    },
    {
     "name": "stdout",
     "output_type": "stream",
     "text": [
      "/scratch/users/mdelabrassinne/Database/france_ligue-1/2014-2015/2015-04-05 - 22-00 Marseille 2 - 3 Paris SG/1_baidu_soccer_embeddings.npy\n",
      "/scratch/users/mdelabrassinne/Database/france_ligue-1/2014-2015/2015-04-05 - 22-00 Marseille 2 - 3 Paris SG/2_baidu_soccer_embeddings.npy\n",
      "/scratch/users/mdelabrassinne/Database/france_ligue-1/2014-2015/2015-04-05_-_22-00_Marseille_2_-_3_Paris_SG/Labels-v2.json\n",
      "/scratch/users/mdelabrassinne/Database/france_ligue-1/2015-2016/2015-09-26 - 18-30 Nantes 1 - 4 Paris SG/1_baidu_soccer_embeddings.npy\n",
      "/scratch/users/mdelabrassinne/Database/france_ligue-1/2015-2016/2015-09-26 - 18-30 Nantes 1 - 4 Paris SG/2_baidu_soccer_embeddings.npy\n",
      "/scratch/users/mdelabrassinne/Database/france_ligue-1/2015-2016/2015-09-26_-_18-30_Nantes_1_-_4_Paris_SG/Labels-v2.json\n"
     ]
    },
    {
     "name": "stderr",
     "output_type": "stream",
     "text": [
      "38407it [00:27, 1389.55it/s]"
     ]
    },
    {
     "name": "stdout",
     "output_type": "stream",
     "text": [
      "/scratch/users/mdelabrassinne/Database/france_ligue-1/2015-2016/2015-11-07 - 19-00 Paris SG 5 - 0 Toulouse/1_baidu_soccer_embeddings.npy\n",
      "/scratch/users/mdelabrassinne/Database/france_ligue-1/2015-2016/2015-11-07 - 19-00 Paris SG 5 - 0 Toulouse/2_baidu_soccer_embeddings.npy\n",
      "/scratch/users/mdelabrassinne/Database/france_ligue-1/2015-2016/2015-11-07_-_19-00_Paris_SG_5_-_0_Toulouse/Labels-v2.json\n",
      "/scratch/users/mdelabrassinne/Database/france_ligue-1/2015-2016/2015-09-19 - 18-30 Reims 1 - 1 Paris SG/1_baidu_soccer_embeddings.npy\n",
      "/scratch/users/mdelabrassinne/Database/france_ligue-1/2015-2016/2015-09-19 - 18-30 Reims 1 - 1 Paris SG/2_baidu_soccer_embeddings.npy\n",
      "/scratch/users/mdelabrassinne/Database/france_ligue-1/2015-2016/2015-09-19_-_18-30_Reims_1_-_1_Paris_SG/Labels-v2.json\n"
     ]
    },
    {
     "name": "stderr",
     "output_type": "stream",
     "text": [
      "38685it [00:27, 1366.93it/s]"
     ]
    },
    {
     "name": "stdout",
     "output_type": "stream",
     "text": [
      "/scratch/users/mdelabrassinne/Database/france_ligue-1/2016-2017/2016-12-21 - 22-50 Paris SG 5 - 0 Lorient/1_baidu_soccer_embeddings.npy\n",
      "/scratch/users/mdelabrassinne/Database/france_ligue-1/2016-2017/2016-12-21 - 22-50 Paris SG 5 - 0 Lorient/2_baidu_soccer_embeddings.npy\n",
      "/scratch/users/mdelabrassinne/Database/france_ligue-1/2016-2017/2016-12-21_-_22-50_Paris_SG_5_-_0_Lorient/Labels-v2.json\n",
      "/scratch/users/mdelabrassinne/Database/france_ligue-1/2016-2017/2017-01-21 - 19-00 Nantes 0 - 2 Paris SG/1_baidu_soccer_embeddings.npy\n",
      "/scratch/users/mdelabrassinne/Database/france_ligue-1/2016-2017/2017-01-21 - 19-00 Nantes 0 - 2 Paris SG/2_baidu_soccer_embeddings.npy\n",
      "/scratch/users/mdelabrassinne/Database/france_ligue-1/2016-2017/2017-01-21_-_19-00_Nantes_0_-_2_Paris_SG/Labels-v2.json\n"
     ]
    },
    {
     "name": "stderr",
     "output_type": "stream",
     "text": [
      "39104it [00:28, 1386.70it/s]"
     ]
    },
    {
     "name": "stdout",
     "output_type": "stream",
     "text": [
      "/scratch/users/mdelabrassinne/Database/france_ligue-1/2016-2017/2017-02-10 - 22-45 Bordeaux 0 - 3 Paris SG/1_baidu_soccer_embeddings.npy\n",
      "/scratch/users/mdelabrassinne/Database/france_ligue-1/2016-2017/2017-02-10 - 22-45 Bordeaux 0 - 3 Paris SG/2_baidu_soccer_embeddings.npy\n",
      "/scratch/users/mdelabrassinne/Database/france_ligue-1/2016-2017/2017-02-10_-_22-45_Bordeaux_0_-_3_Paris_SG/Labels-v2.json\n",
      "/scratch/users/mdelabrassinne/Database/france_ligue-1/2016-2017/2017-02-19 - 23-00 Paris SG 0 - 0 Toulouse/1_baidu_soccer_embeddings.npy\n",
      "/scratch/users/mdelabrassinne/Database/france_ligue-1/2016-2017/2017-02-19 - 23-00 Paris SG 0 - 0 Toulouse/2_baidu_soccer_embeddings.npy\n",
      "/scratch/users/mdelabrassinne/Database/france_ligue-1/2016-2017/2017-02-19_-_23-00_Paris_SG_0_-_0_Toulouse/Labels-v2.json\n"
     ]
    },
    {
     "name": "stderr",
     "output_type": "stream",
     "text": [
      "39393it [00:28, 1400.23it/s]"
     ]
    },
    {
     "name": "stdout",
     "output_type": "stream",
     "text": [
      "/scratch/users/mdelabrassinne/Database/france_ligue-1/2016-2017/2017-02-26 - 23-00 Marseille 1 - 5 Paris SG/1_baidu_soccer_embeddings.npy\n",
      "/scratch/users/mdelabrassinne/Database/france_ligue-1/2016-2017/2017-02-26 - 23-00 Marseille 1 - 5 Paris SG/2_baidu_soccer_embeddings.npy\n",
      "/scratch/users/mdelabrassinne/Database/france_ligue-1/2016-2017/2017-02-26_-_23-00_Marseille_1_-_5_Paris_SG/Labels-v2.json\n",
      "/scratch/users/mdelabrassinne/Database/france_ligue-1/2016-2017/2017-03-12 - 23-00 Lorient 1 - 2 Paris SG/1_baidu_soccer_embeddings.npy\n",
      "/scratch/users/mdelabrassinne/Database/france_ligue-1/2016-2017/2017-03-12 - 23-00 Lorient 1 - 2 Paris SG/2_baidu_soccer_embeddings.npy\n",
      "/scratch/users/mdelabrassinne/Database/france_ligue-1/2016-2017/2017-03-12_-_23-00_Lorient_1_-_2_Paris_SG/Labels-v2.json\n"
     ]
    },
    {
     "name": "stderr",
     "output_type": "stream",
     "text": [
      "39847it [00:28, 1461.76it/s]"
     ]
    },
    {
     "name": "stdout",
     "output_type": "stream",
     "text": [
      "/scratch/users/mdelabrassinne/Database/france_ligue-1/2016-2017/2017-03-19 - 23-00 Paris SG 2 - 1 Lyon/1_baidu_soccer_embeddings.npy\n",
      "/scratch/users/mdelabrassinne/Database/france_ligue-1/2016-2017/2017-03-19 - 23-00 Paris SG 2 - 1 Lyon/2_baidu_soccer_embeddings.npy\n",
      "/scratch/users/mdelabrassinne/Database/france_ligue-1/2016-2017/2017-03-19_-_23-00_Paris_SG_2_-_1_Lyon/Labels-v2.json\n",
      "/scratch/users/mdelabrassinne/Database/france_ligue-1/2016-2017/2017-04-14 - 21-45 Angers 0 - 2 Paris SG/1_baidu_soccer_embeddings.npy\n",
      "/scratch/users/mdelabrassinne/Database/france_ligue-1/2016-2017/2017-04-14 - 21-45 Angers 0 - 2 Paris SG/2_baidu_soccer_embeddings.npy\n",
      "/scratch/users/mdelabrassinne/Database/france_ligue-1/2016-2017/2017-04-14_-_21-45_Angers_0_-_2_Paris_SG/Labels-v2.json\n"
     ]
    },
    {
     "name": "stderr",
     "output_type": "stream",
     "text": [
      "40138it [00:28, 1394.92it/s]"
     ]
    },
    {
     "name": "stdout",
     "output_type": "stream",
     "text": [
      "/scratch/users/mdelabrassinne/Database/france_ligue-1/2016-2017/2017-04-18 - 19-30 Metz 2 - 3 Paris SG/1_baidu_soccer_embeddings.npy\n",
      "/scratch/users/mdelabrassinne/Database/france_ligue-1/2016-2017/2017-04-18 - 19-30 Metz 2 - 3 Paris SG/2_baidu_soccer_embeddings.npy\n",
      "/scratch/users/mdelabrassinne/Database/france_ligue-1/2016-2017/2017-04-18_-_19-30_Metz_2_-_3_Paris_SG/Labels-v2.json\n",
      "/scratch/users/mdelabrassinne/Database/france_ligue-1/2016-2017/2017-04-22 - 18-00 Paris SG 2 - 0 Montpellier/1_baidu_soccer_embeddings.npy\n",
      "/scratch/users/mdelabrassinne/Database/france_ligue-1/2016-2017/2017-04-22 - 18-00 Paris SG 2 - 0 Montpellier/2_baidu_soccer_embeddings.npy\n",
      "/scratch/users/mdelabrassinne/Database/france_ligue-1/2016-2017/2017-04-22_-_18-00_Paris_SG_2_-_0_Montpellier/Labels-v2.json\n"
     ]
    },
    {
     "name": "stderr",
     "output_type": "stream",
     "text": [
      "40423it [00:29, 1392.07it/s]"
     ]
    },
    {
     "name": "stdout",
     "output_type": "stream",
     "text": [
      "/scratch/users/mdelabrassinne/Database/france_ligue-1/2016-2017/2017-04-30 - 22-00 Nice 3 - 1 Paris SG/1_baidu_soccer_embeddings.npy\n",
      "/scratch/users/mdelabrassinne/Database/france_ligue-1/2016-2017/2017-04-30 - 22-00 Nice 3 - 1 Paris SG/2_baidu_soccer_embeddings.npy\n",
      "/scratch/users/mdelabrassinne/Database/france_ligue-1/2016-2017/2017-04-30_-_22-00_Nice_3_-_1_Paris_SG/Labels-v2.json\n",
      "/scratch/users/mdelabrassinne/Database/france_ligue-1/2016-2017/2017-05-06 - 18-00 Paris SG 5 - 0 Bastia/1_baidu_soccer_embeddings.npy\n",
      "/scratch/users/mdelabrassinne/Database/france_ligue-1/2016-2017/2017-05-06 - 18-00 Paris SG 5 - 0 Bastia/2_baidu_soccer_embeddings.npy\n",
      "/scratch/users/mdelabrassinne/Database/france_ligue-1/2016-2017/2017-05-06_-_18-00_Paris_SG_5_-_0_Bastia/Labels-v2.json\n"
     ]
    },
    {
     "name": "stderr",
     "output_type": "stream",
     "text": [
      "40838it [00:29, 1350.25it/s]"
     ]
    },
    {
     "name": "stdout",
     "output_type": "stream",
     "text": [
      "/scratch/users/mdelabrassinne/Database/france_ligue-1/2016-2017/2017-05-20 - 22-00 Paris SG 1 - 1 Caen/1_baidu_soccer_embeddings.npy\n",
      "/scratch/users/mdelabrassinne/Database/france_ligue-1/2016-2017/2017-05-20 - 22-00 Paris SG 1 - 1 Caen/2_baidu_soccer_embeddings.npy\n",
      "/scratch/users/mdelabrassinne/Database/france_ligue-1/2016-2017/2017-05-20_-_22-00_Paris_SG_1_-_1_Caen/Labels-v2.json\n",
      "/scratch/users/mdelabrassinne/Database/france_ligue-1/2016-2017/2016-08-21 - 21-45 Paris SG 3 - 0 Metz/1_baidu_soccer_embeddings.npy\n",
      "/scratch/users/mdelabrassinne/Database/france_ligue-1/2016-2017/2016-08-21 - 21-45 Paris SG 3 - 0 Metz/2_baidu_soccer_embeddings.npy\n",
      "/scratch/users/mdelabrassinne/Database/france_ligue-1/2016-2017/2016-08-21_-_21-45_Paris_SG_3_-_0_Metz/Labels-v2.json\n"
     ]
    },
    {
     "name": "stderr",
     "output_type": "stream",
     "text": [
      "41275it [00:29, 1422.92it/s]"
     ]
    },
    {
     "name": "stdout",
     "output_type": "stream",
     "text": [
      "/scratch/users/mdelabrassinne/Database/france_ligue-1/2016-2017/2016-09-09 - 21-45 Paris SG 1 - 1 St Etienne/1_baidu_soccer_embeddings.npy\n",
      "/scratch/users/mdelabrassinne/Database/france_ligue-1/2016-2017/2016-09-09 - 21-45 Paris SG 1 - 1 St Etienne/2_baidu_soccer_embeddings.npy\n",
      "/scratch/users/mdelabrassinne/Database/france_ligue-1/2016-2017/2016-09-09_-_21-45_Paris_SG_1_-_1_St_Etienne/Labels-v2.json\n",
      "/scratch/users/mdelabrassinne/Database/france_ligue-1/2016-2017/2016-09-20 - 22-00 Paris SG 3 - 0 Dijon/1_baidu_soccer_embeddings.npy\n",
      "/scratch/users/mdelabrassinne/Database/france_ligue-1/2016-2017/2016-09-20 - 22-00 Paris SG 3 - 0 Dijon/2_baidu_soccer_embeddings.npy\n",
      "/scratch/users/mdelabrassinne/Database/france_ligue-1/2016-2017/2016-09-20_-_22-00_Paris_SG_3_-_0_Dijon/Labels-v2.json\n"
     ]
    },
    {
     "name": "stderr",
     "output_type": "stream",
     "text": [
      "41567it [00:29, 1443.35it/s]"
     ]
    },
    {
     "name": "stdout",
     "output_type": "stream",
     "text": [
      "/scratch/users/mdelabrassinne/Database/france_ligue-1/2016-2017/2016-10-23 - 21-45 Paris SG 0 - 0 Marseille/1_baidu_soccer_embeddings.npy\n",
      "/scratch/users/mdelabrassinne/Database/france_ligue-1/2016-2017/2016-10-23 - 21-45 Paris SG 0 - 0 Marseille/2_baidu_soccer_embeddings.npy\n",
      "/scratch/users/mdelabrassinne/Database/france_ligue-1/2016-2017/2016-10-23_-_21-45_Paris_SG_0_-_0_Marseille/Labels-v2.json\n",
      "/scratch/users/mdelabrassinne/Database/france_ligue-1/2016-2017/2016-12-03 - 19-00 Montpellier 3 - 0 Paris SG/1_baidu_soccer_embeddings.npy\n",
      "/scratch/users/mdelabrassinne/Database/france_ligue-1/2016-2017/2016-12-03 - 19-00 Montpellier 3 - 0 Paris SG/2_baidu_soccer_embeddings.npy\n",
      "/scratch/users/mdelabrassinne/Database/france_ligue-1/2016-2017/2016-12-03_-_19-00_Montpellier_3_-_0_Paris_SG/Labels-v2.json\n"
     ]
    },
    {
     "name": "stderr",
     "output_type": "stream",
     "text": [
      "41863it [00:30, 1452.78it/s]"
     ]
    },
    {
     "name": "stdout",
     "output_type": "stream",
     "text": [
      "/scratch/users/mdelabrassinne/Database/france_ligue-1/2016-2017/2017-03-04 - 19-00 Paris SG 1 - 0 Nancy/1_baidu_soccer_embeddings.npy\n",
      "/scratch/users/mdelabrassinne/Database/france_ligue-1/2016-2017/2017-03-04 - 19-00 Paris SG 1 - 0 Nancy/2_baidu_soccer_embeddings.npy\n",
      "/scratch/users/mdelabrassinne/Database/france_ligue-1/2016-2017/2017-03-04_-_19-00_Paris_SG_1_-_0_Nancy/Labels-v2.json\n",
      "/scratch/users/mdelabrassinne/Database/france_ligue-1/2016-2017/2017-04-09 - 22-00 Paris SG 4 - 0 Guingamp/1_baidu_soccer_embeddings.npy\n",
      "/scratch/users/mdelabrassinne/Database/france_ligue-1/2016-2017/2017-04-09 - 22-00 Paris SG 4 - 0 Guingamp/2_baidu_soccer_embeddings.npy\n",
      "/scratch/users/mdelabrassinne/Database/france_ligue-1/2016-2017/2017-04-09_-_22-00_Paris_SG_4_-_0_Guingamp/Labels-v2.json\n"
     ]
    },
    {
     "name": "stderr",
     "output_type": "stream",
     "text": [
      "42296it [00:30, 1420.17it/s]"
     ]
    },
    {
     "name": "stdout",
     "output_type": "stream",
     "text": [
      "/scratch/users/mdelabrassinne/Database/france_ligue-1/2016-2017/2017-05-14 - 22-00 St Etienne 0 - 5 Paris SG/1_baidu_soccer_embeddings.npy\n",
      "/scratch/users/mdelabrassinne/Database/france_ligue-1/2016-2017/2017-05-14 - 22-00 St Etienne 0 - 5 Paris SG/2_baidu_soccer_embeddings.npy\n",
      "/scratch/users/mdelabrassinne/Database/france_ligue-1/2016-2017/2017-05-14_-_22-00_St_Etienne_0_-_5_Paris_SG/Labels-v2.json\n",
      "/scratch/users/mdelabrassinne/Database/france_ligue-1/2016-2017/2016-08-28 - 21-45 Monaco 3 - 1 Paris SG/1_baidu_soccer_embeddings.npy\n",
      "/scratch/users/mdelabrassinne/Database/france_ligue-1/2016-2017/2016-08-28 - 21-45 Monaco 3 - 1 Paris SG/2_baidu_soccer_embeddings.npy\n",
      "/scratch/users/mdelabrassinne/Database/france_ligue-1/2016-2017/2016-08-28_-_21-45_Monaco_3_-_1_Paris_SG/Labels-v2.json\n"
     ]
    },
    {
     "name": "stderr",
     "output_type": "stream",
     "text": [
      "42581it [00:30, 1393.72it/s]"
     ]
    },
    {
     "name": "stdout",
     "output_type": "stream",
     "text": [
      "/scratch/users/mdelabrassinne/Database/france_ligue-1/2016-2017/2016-11-30 - 23-00 Paris SG 2 - 0 Angers/1_baidu_soccer_embeddings.npy\n",
      "/scratch/users/mdelabrassinne/Database/france_ligue-1/2016-2017/2016-11-30 - 23-00 Paris SG 2 - 0 Angers/2_baidu_soccer_embeddings.npy\n",
      "/scratch/users/mdelabrassinne/Database/france_ligue-1/2016-2017/2016-11-30_-_23-00_Paris_SG_2_-_0_Angers/Labels-v2.json\n",
      "/scratch/users/mdelabrassinne/Database/france_ligue-1/2016-2017/2016-08-12 - 21-00 Bastia 0 - 1 Paris SG/1_baidu_soccer_embeddings.npy\n",
      "/scratch/users/mdelabrassinne/Database/france_ligue-1/2016-2017/2016-08-12 - 21-00 Bastia 0 - 1 Paris SG/2_baidu_soccer_embeddings.npy\n",
      "/scratch/users/mdelabrassinne/Database/france_ligue-1/2016-2017/2016-08-12_-_21-00_Bastia_0_-_1_Paris_SG/Labels-v2.json\n"
     ]
    },
    {
     "name": "stderr",
     "output_type": "stream",
     "text": [
      "42989it [00:30, 1307.00it/s]"
     ]
    },
    {
     "name": "stdout",
     "output_type": "stream",
     "text": [
      "/scratch/users/mdelabrassinne/Database/france_ligue-1/2016-2017/2016-09-16 - 21-45 Caen 0 - 6 Paris SG/1_baidu_soccer_embeddings.npy\n",
      "/scratch/users/mdelabrassinne/Database/france_ligue-1/2016-2017/2016-09-16 - 21-45 Caen 0 - 6 Paris SG/2_baidu_soccer_embeddings.npy\n",
      "/scratch/users/mdelabrassinne/Database/france_ligue-1/2016-2017/2016-09-16_-_21-45_Caen_0_-_6_Paris_SG/Labels-v2.json\n",
      "/scratch/users/mdelabrassinne/Database/france_ligue-1/2016-2017/2016-09-23 - 21-45 Toulouse 2 - 0 Paris SG/1_baidu_soccer_embeddings.npy\n",
      "/scratch/users/mdelabrassinne/Database/france_ligue-1/2016-2017/2016-09-23 - 21-45 Toulouse 2 - 0 Paris SG/2_baidu_soccer_embeddings.npy\n",
      "/scratch/users/mdelabrassinne/Database/france_ligue-1/2016-2017/2016-09-23_-_21-45_Toulouse_2_-_0_Paris_SG/Labels-v2.json\n"
     ]
    },
    {
     "name": "stderr",
     "output_type": "stream",
     "text": [
      "43383it [00:31, 1291.71it/s]"
     ]
    },
    {
     "name": "stdout",
     "output_type": "stream",
     "text": [
      "/scratch/users/mdelabrassinne/Database/france_ligue-1/2016-2017/2016-10-01 - 18-00 Paris SG 2 - 0 Bordeaux/1_baidu_soccer_embeddings.npy\n",
      "/scratch/users/mdelabrassinne/Database/france_ligue-1/2016-2017/2016-10-01 - 18-00 Paris SG 2 - 0 Bordeaux/2_baidu_soccer_embeddings.npy\n",
      "/scratch/users/mdelabrassinne/Database/france_ligue-1/2016-2017/2016-10-01_-_18-00_Paris_SG_2_-_0_Bordeaux/Labels-v2.json\n",
      "/scratch/users/mdelabrassinne/Database/france_ligue-1/2016-2017/2016-10-15 - 18-00 Nancy 1 - 2 Paris SG/1_baidu_soccer_embeddings.npy\n",
      "/scratch/users/mdelabrassinne/Database/france_ligue-1/2016-2017/2016-10-15 - 18-00 Nancy 1 - 2 Paris SG/2_baidu_soccer_embeddings.npy\n",
      "/scratch/users/mdelabrassinne/Database/france_ligue-1/2016-2017/2016-10-15_-_18-00_Nancy_1_-_2_Paris_SG/Labels-v2.json\n"
     ]
    },
    {
     "name": "stderr",
     "output_type": "stream",
     "text": [
      "43781it [00:31, 1299.19it/s]"
     ]
    },
    {
     "name": "stdout",
     "output_type": "stream",
     "text": [
      "/scratch/users/mdelabrassinne/Database/france_ligue-1/2016-2017/2016-10-28 - 21-45 Lille 0 - 1 Paris SG/1_baidu_soccer_embeddings.npy\n",
      "/scratch/users/mdelabrassinne/Database/france_ligue-1/2016-2017/2016-10-28 - 21-45 Lille 0 - 1 Paris SG/2_baidu_soccer_embeddings.npy\n",
      "/scratch/users/mdelabrassinne/Database/france_ligue-1/2016-2017/2016-10-28_-_21-45_Lille_0_-_1_Paris_SG/Labels-v2.json\n",
      "/scratch/users/mdelabrassinne/Database/france_ligue-1/2016-2017/2016-11-06 - 22-45 Paris SG 4 - 0 Rennes/1_baidu_soccer_embeddings.npy\n",
      "/scratch/users/mdelabrassinne/Database/france_ligue-1/2016-2017/2016-11-06 - 22-45 Paris SG 4 - 0 Rennes/2_baidu_soccer_embeddings.npy\n",
      "/scratch/users/mdelabrassinne/Database/france_ligue-1/2016-2017/2016-11-06_-_22-45_Paris_SG_4_-_0_Rennes/Labels-v2.json\n"
     ]
    },
    {
     "name": "stderr",
     "output_type": "stream",
     "text": [
      "44066it [00:31, 1362.71it/s]"
     ]
    },
    {
     "name": "stdout",
     "output_type": "stream",
     "text": [
      "/scratch/users/mdelabrassinne/Database/france_ligue-1/2016-2017/2016-11-19 - 19-00 Paris SG 2 - 0 Nantes/1_baidu_soccer_embeddings.npy\n",
      "/scratch/users/mdelabrassinne/Database/france_ligue-1/2016-2017/2016-11-19 - 19-00 Paris SG 2 - 0 Nantes/2_baidu_soccer_embeddings.npy\n",
      "/scratch/users/mdelabrassinne/Database/france_ligue-1/2016-2017/2016-11-19_-_19-00_Paris_SG_2_-_0_Nantes/Labels-v2.json\n",
      "/scratch/users/mdelabrassinne/Database/france_ligue-1/2016-2017/2016-11-27 - 22-45 Lyon 1 - 2 Paris SG/1_baidu_soccer_embeddings.npy\n",
      "/scratch/users/mdelabrassinne/Database/france_ligue-1/2016-2017/2016-11-27 - 22-45 Lyon 1 - 2 Paris SG/2_baidu_soccer_embeddings.npy\n",
      "/scratch/users/mdelabrassinne/Database/france_ligue-1/2016-2017/2016-11-27_-_22-45_Lyon_1_-_2_Paris_SG/Labels-v2.json\n"
     ]
    },
    {
     "name": "stderr",
     "output_type": "stream",
     "text": [
      "44478it [00:32, 1358.66it/s]"
     ]
    },
    {
     "name": "stdout",
     "output_type": "stream",
     "text": [
      "/scratch/users/mdelabrassinne/Database/france_ligue-1/2016-2017/2016-12-11 - 22-45 Paris SG 2 - 2 Nice/1_baidu_soccer_embeddings.npy\n",
      "/scratch/users/mdelabrassinne/Database/france_ligue-1/2016-2017/2016-12-11 - 22-45 Paris SG 2 - 2 Nice/2_baidu_soccer_embeddings.npy\n",
      "/scratch/users/mdelabrassinne/Database/france_ligue-1/2016-2017/2016-12-11_-_22-45_Paris_SG_2_-_2_Nice/Labels-v2.json\n",
      "/scratch/users/mdelabrassinne/Database/france_ligue-1/2016-2017/2016-12-17 - 19-00 Guingamp 2 - 1 Paris SG/1_baidu_soccer_embeddings.npy\n",
      "/scratch/users/mdelabrassinne/Database/france_ligue-1/2016-2017/2016-12-17 - 19-00 Guingamp 2 - 1 Paris SG/2_baidu_soccer_embeddings.npy\n",
      "/scratch/users/mdelabrassinne/Database/france_ligue-1/2016-2017/2016-12-17_-_19-00_Guingamp_2_-_1_Paris_SG/Labels-v2.json\n"
     ]
    },
    {
     "name": "stderr",
     "output_type": "stream",
     "text": [
      "44915it [00:32, 1359.65it/s]"
     ]
    },
    {
     "name": "stdout",
     "output_type": "stream",
     "text": [
      "/scratch/users/mdelabrassinne/Database/germany_bundesliga/2014-2015/2015-02-21 - 17-30 Paderborn 0 - 6 Bayern Munich/1_baidu_soccer_embeddings.npy\n",
      "/scratch/users/mdelabrassinne/Database/germany_bundesliga/2014-2015/2015-02-21 - 17-30 Paderborn 0 - 6 Bayern Munich/2_baidu_soccer_embeddings.npy\n",
      "/scratch/users/mdelabrassinne/Database/germany_bundesliga/2014-2015/2015-02-21_-_17-30_Paderborn_0_-_6_Bayern_Munich/Labels-v2.json\n",
      "/scratch/users/mdelabrassinne/Database/germany_bundesliga/2014-2015/2015-04-11 - 16-30 Bayern Munich 3 - 0 Eintracht Frankfurt/1_baidu_soccer_embeddings.npy\n",
      "/scratch/users/mdelabrassinne/Database/germany_bundesliga/2014-2015/2015-04-11 - 16-30 Bayern Munich 3 - 0 Eintracht Frankfurt/2_baidu_soccer_embeddings.npy\n",
      "/scratch/users/mdelabrassinne/Database/germany_bundesliga/2014-2015/2015-04-11_-_16-30_Bayern_Munich_3_-_0_Eintracht_Frankfurt/Labels-v2.json\n"
     ]
    },
    {
     "name": "stderr",
     "output_type": "stream",
     "text": [
      "45183it [00:32, 1264.59it/s]"
     ]
    },
    {
     "name": "stdout",
     "output_type": "stream",
     "text": [
      "/scratch/users/mdelabrassinne/Database/germany_bundesliga/2014-2015/2015-04-25 - 16-30 Dortmund 2 - 0 Eintracht Frankfurt/1_baidu_soccer_embeddings.npy\n",
      "/scratch/users/mdelabrassinne/Database/germany_bundesliga/2014-2015/2015-04-25 - 16-30 Dortmund 2 - 0 Eintracht Frankfurt/2_baidu_soccer_embeddings.npy\n",
      "/scratch/users/mdelabrassinne/Database/germany_bundesliga/2014-2015/2015-04-25_-_16-30_Dortmund_2_-_0_Eintracht_Frankfurt/Labels-v2.json\n",
      "/scratch/users/mdelabrassinne/Database/germany_bundesliga/2014-2015/2015-05-09 - 16-30 Dortmund 2 - 0 Hertha Berlin/1_baidu_soccer_embeddings.npy\n",
      "/scratch/users/mdelabrassinne/Database/germany_bundesliga/2014-2015/2015-05-09 - 16-30 Dortmund 2 - 0 Hertha Berlin/2_baidu_soccer_embeddings.npy\n",
      "/scratch/users/mdelabrassinne/Database/germany_bundesliga/2014-2015/2015-05-09_-_16-30_Dortmund_2_-_0_Hertha_Berlin/Labels-v2.json\n"
     ]
    },
    {
     "name": "stderr",
     "output_type": "stream",
     "text": [
      "45703it [00:33, 1277.45it/s]"
     ]
    },
    {
     "name": "stdout",
     "output_type": "stream",
     "text": [
      "/scratch/users/mdelabrassinne/Database/germany_bundesliga/2014-2015/2015-05-16 - 16-30 Wolfsburg 2 - 1 Dortmund/1_baidu_soccer_embeddings.npy\n",
      "/scratch/users/mdelabrassinne/Database/germany_bundesliga/2014-2015/2015-05-16 - 16-30 Wolfsburg 2 - 1 Dortmund/2_baidu_soccer_embeddings.npy\n",
      "/scratch/users/mdelabrassinne/Database/germany_bundesliga/2014-2015/2015-05-16_-_16-30_Wolfsburg_2_-_1_Dortmund/Labels-v2.json\n",
      "/scratch/users/mdelabrassinne/Database/germany_bundesliga/2014-2015/2015-04-25 - 19-30 Bayern Munich 1 - 0 Hertha Berlin/1_baidu_soccer_embeddings.npy\n",
      "/scratch/users/mdelabrassinne/Database/germany_bundesliga/2014-2015/2015-04-25 - 19-30 Bayern Munich 1 - 0 Hertha Berlin/2_baidu_soccer_embeddings.npy\n",
      "/scratch/users/mdelabrassinne/Database/germany_bundesliga/2014-2015/2015-04-25_-_19-30_Bayern_Munich_1_-_0_Hertha_Berlin/Labels-v2.json\n"
     ]
    },
    {
     "name": "stderr",
     "output_type": "stream",
     "text": [
      "46105it [00:33, 1312.69it/s]"
     ]
    },
    {
     "name": "stdout",
     "output_type": "stream",
     "text": [
      "/scratch/users/mdelabrassinne/Database/germany_bundesliga/2014-2015/2015-05-02 - 16-30 Hoffenheim 1 - 1 Dortmund/1_baidu_soccer_embeddings.npy\n",
      "/scratch/users/mdelabrassinne/Database/germany_bundesliga/2014-2015/2015-05-02 - 16-30 Hoffenheim 1 - 1 Dortmund/2_baidu_soccer_embeddings.npy\n",
      "/scratch/users/mdelabrassinne/Database/germany_bundesliga/2014-2015/2015-05-02_-_16-30_Hoffenheim_1_-_1_Dortmund/Labels-v2.json\n",
      "/scratch/users/mdelabrassinne/Database/germany_bundesliga/2014-2015/2015-05-09 - 16-30 Bayern Munich 0 - 1 FC Augsburg/1_baidu_soccer_embeddings.npy\n",
      "/scratch/users/mdelabrassinne/Database/germany_bundesliga/2014-2015/2015-05-09 - 16-30 Bayern Munich 0 - 1 FC Augsburg/2_baidu_soccer_embeddings.npy\n",
      "/scratch/users/mdelabrassinne/Database/germany_bundesliga/2014-2015/2015-05-09_-_16-30_Bayern_Munich_0_-_1_FC_Augsburg/Labels-v2.json\n"
     ]
    },
    {
     "name": "stderr",
     "output_type": "stream",
     "text": [
      "46505it [00:33, 1322.87it/s]"
     ]
    },
    {
     "name": "stdout",
     "output_type": "stream",
     "text": [
      "/scratch/users/mdelabrassinne/Database/germany_bundesliga/2015-2016/2015-08-22 - 16-30 Hoffenheim 1 - 2 Bayern Munich/1_baidu_soccer_embeddings.npy\n",
      "/scratch/users/mdelabrassinne/Database/germany_bundesliga/2015-2016/2015-08-22 - 16-30 Hoffenheim 1 - 2 Bayern Munich/2_baidu_soccer_embeddings.npy\n",
      "/scratch/users/mdelabrassinne/Database/germany_bundesliga/2015-2016/2015-08-22_-_16-30_Hoffenheim_1_-_2_Bayern_Munich/Labels-v2.json\n",
      "/scratch/users/mdelabrassinne/Database/germany_bundesliga/2015-2016/2015-08-30 - 16-30 Dortmund 3 - 1 Hertha Berlin/1_baidu_soccer_embeddings.npy\n",
      "/scratch/users/mdelabrassinne/Database/germany_bundesliga/2015-2016/2015-08-30 - 16-30 Dortmund 3 - 1 Hertha Berlin/2_baidu_soccer_embeddings.npy\n",
      "/scratch/users/mdelabrassinne/Database/germany_bundesliga/2015-2016/2015-08-30_-_16-30_Dortmund_3_-_1_Hertha_Berlin/Labels-v2.json\n"
     ]
    },
    {
     "name": "stderr",
     "output_type": "stream",
     "text": [
      "46927it [00:33, 1374.93it/s]"
     ]
    },
    {
     "name": "stdout",
     "output_type": "stream",
     "text": [
      "/scratch/users/mdelabrassinne/Database/germany_bundesliga/2015-2016/2015-09-19 - 16-30 Darmstadt 0 - 3 Bayern Munich/1_baidu_soccer_embeddings.npy\n",
      "/scratch/users/mdelabrassinne/Database/germany_bundesliga/2015-2016/2015-09-19 - 16-30 Darmstadt 0 - 3 Bayern Munich/2_baidu_soccer_embeddings.npy\n",
      "/scratch/users/mdelabrassinne/Database/germany_bundesliga/2015-2016/2015-09-19_-_16-30_Darmstadt_0_-_3_Bayern_Munich/Labels-v2.json\n",
      "/scratch/users/mdelabrassinne/Database/germany_bundesliga/2015-2016/2015-09-22 - 21-00 Bayern Munich 5 - 1 Wolfsburg/1_baidu_soccer_embeddings.npy\n",
      "/scratch/users/mdelabrassinne/Database/germany_bundesliga/2015-2016/2015-09-22 - 21-00 Bayern Munich 5 - 1 Wolfsburg/2_baidu_soccer_embeddings.npy\n",
      "/scratch/users/mdelabrassinne/Database/germany_bundesliga/2015-2016/2015-09-22_-_21-00_Bayern_Munich_5_-_1_Wolfsburg/Labels-v2.json\n"
     ]
    },
    {
     "name": "stderr",
     "output_type": "stream",
     "text": [
      "47325it [00:34, 1268.91it/s]"
     ]
    },
    {
     "name": "stdout",
     "output_type": "stream",
     "text": [
      "/scratch/users/mdelabrassinne/Database/germany_bundesliga/2015-2016/2015-09-26 - 16-30 1. FSV Mainz 05 0 - 3 Bayern Munich/1_baidu_soccer_embeddings.npy\n",
      "/scratch/users/mdelabrassinne/Database/germany_bundesliga/2015-2016/2015-09-26 - 16-30 1. FSV Mainz 05 0 - 3 Bayern Munich/2_baidu_soccer_embeddings.npy\n",
      "/scratch/users/mdelabrassinne/Database/germany_bundesliga/2015-2016/2015-09-26_-_16-30_1._FSV_Mainz_05_0_-_3_Bayern_Munich/Labels-v2.json\n",
      "/scratch/users/mdelabrassinne/Database/germany_bundesliga/2015-2016/2015-12-12 - 17-30 Bayern Munich 2 - 0 Ingolstadt/1_baidu_soccer_embeddings.npy\n",
      "/scratch/users/mdelabrassinne/Database/germany_bundesliga/2015-2016/2015-12-12 - 17-30 Bayern Munich 2 - 0 Ingolstadt/2_baidu_soccer_embeddings.npy\n",
      "/scratch/users/mdelabrassinne/Database/germany_bundesliga/2015-2016/2015-12-12_-_17-30_Bayern_Munich_2_-_0_Ingolstadt/Labels-v2.json\n"
     ]
    },
    {
     "name": "stderr",
     "output_type": "stream",
     "text": [
      "47735it [00:34, 1331.02it/s]"
     ]
    },
    {
     "name": "stdout",
     "output_type": "stream",
     "text": [
      "/scratch/users/mdelabrassinne/Database/germany_bundesliga/2015-2016/2016-01-31 - 19-30 Bayern Munich 2 - 0 Hoffenheim/1_baidu_soccer_embeddings.npy\n",
      "/scratch/users/mdelabrassinne/Database/germany_bundesliga/2015-2016/2016-01-31 - 19-30 Bayern Munich 2 - 0 Hoffenheim/2_baidu_soccer_embeddings.npy\n",
      "/scratch/users/mdelabrassinne/Database/germany_bundesliga/2015-2016/2016-01-31_-_19-30_Bayern_Munich_2_-_0_Hoffenheim/Labels-v2.json\n",
      "/scratch/users/mdelabrassinne/Database/germany_bundesliga/2015-2016/2016-04-02 - 16-30 Bayern Munich 1 - 0 Eintracht Frankfurt/1_baidu_soccer_embeddings.npy\n",
      "/scratch/users/mdelabrassinne/Database/germany_bundesliga/2015-2016/2016-04-02 - 16-30 Bayern Munich 1 - 0 Eintracht Frankfurt/2_baidu_soccer_embeddings.npy\n",
      "/scratch/users/mdelabrassinne/Database/germany_bundesliga/2015-2016/2016-04-02_-_16-30_Bayern_Munich_1_-_0_Eintracht_Frankfurt/Labels-v2.json\n"
     ]
    },
    {
     "name": "stderr",
     "output_type": "stream",
     "text": [
      "48161it [00:34, 1388.21it/s]"
     ]
    },
    {
     "name": "stdout",
     "output_type": "stream",
     "text": [
      "/scratch/users/mdelabrassinne/Database/germany_bundesliga/2015-2016/2016-04-09 - 16-30 VfB Stuttgart 1 - 3 Bayern Munich/1_baidu_soccer_embeddings.npy\n",
      "/scratch/users/mdelabrassinne/Database/germany_bundesliga/2015-2016/2016-04-09 - 16-30 VfB Stuttgart 1 - 3 Bayern Munich/2_baidu_soccer_embeddings.npy\n",
      "/scratch/users/mdelabrassinne/Database/germany_bundesliga/2015-2016/2016-04-09_-_16-30_VfB_Stuttgart_1_-_3_Bayern_Munich/Labels-v2.json\n",
      "/scratch/users/mdelabrassinne/Database/germany_bundesliga/2015-2016/2016-04-16 - 19-30 Bayern Munich 3 - 0 Schalke/1_baidu_soccer_embeddings.npy\n",
      "/scratch/users/mdelabrassinne/Database/germany_bundesliga/2015-2016/2016-04-16 - 19-30 Bayern Munich 3 - 0 Schalke/2_baidu_soccer_embeddings.npy\n",
      "/scratch/users/mdelabrassinne/Database/germany_bundesliga/2015-2016/2016-04-16_-_19-30_Bayern_Munich_3_-_0_Schalke/Labels-v2.json\n"
     ]
    },
    {
     "name": "stderr",
     "output_type": "stream",
     "text": [
      "48447it [00:35, 1394.89it/s]"
     ]
    },
    {
     "name": "stdout",
     "output_type": "stream",
     "text": [
      "/scratch/users/mdelabrassinne/Database/germany_bundesliga/2015-2016/2015-09-20 - 18-30 Dortmund 3 - 0 Bayer Leverkusen/1_baidu_soccer_embeddings.npy\n",
      "/scratch/users/mdelabrassinne/Database/germany_bundesliga/2015-2016/2015-09-20 - 18-30 Dortmund 3 - 0 Bayer Leverkusen/2_baidu_soccer_embeddings.npy\n",
      "/scratch/users/mdelabrassinne/Database/germany_bundesliga/2015-2016/2015-09-20_-_18-30_Dortmund_3_-_0_Bayer_Leverkusen/Labels-v2.json\n",
      "/scratch/users/mdelabrassinne/Database/germany_bundesliga/2015-2016/2015-10-04 - 18-30 Bayern Munich 5 - 1 Dortmund/1_baidu_soccer_embeddings.npy\n",
      "/scratch/users/mdelabrassinne/Database/germany_bundesliga/2015-2016/2015-10-04 - 18-30 Bayern Munich 5 - 1 Dortmund/2_baidu_soccer_embeddings.npy\n",
      "/scratch/users/mdelabrassinne/Database/germany_bundesliga/2015-2016/2015-10-04_-_18-30_Bayern_Munich_5_-_1_Dortmund/Labels-v2.json\n"
     ]
    },
    {
     "name": "stderr",
     "output_type": "stream",
     "text": [
      "48860it [00:35, 1304.51it/s]"
     ]
    },
    {
     "name": "stdout",
     "output_type": "stream",
     "text": [
      "/scratch/users/mdelabrassinne/Database/germany_bundesliga/2015-2016/2015-11-07 - 17-30 Bayern Munich 4 - 0 VfB Stuttgart/1_baidu_soccer_embeddings.npy\n",
      "/scratch/users/mdelabrassinne/Database/germany_bundesliga/2015-2016/2015-11-07 - 17-30 Bayern Munich 4 - 0 VfB Stuttgart/2_baidu_soccer_embeddings.npy\n",
      "/scratch/users/mdelabrassinne/Database/germany_bundesliga/2015-2016/2015-11-07_-_17-30_Bayern_Munich_4_-_0_VfB_Stuttgart/Labels-v2.json\n",
      "/scratch/users/mdelabrassinne/Database/germany_bundesliga/2015-2016/2016-04-23 - 16-30 Hertha Berlin 0 - 2 Bayern Munich/1_baidu_soccer_embeddings.npy\n",
      "/scratch/users/mdelabrassinne/Database/germany_bundesliga/2015-2016/2016-04-23 - 16-30 Hertha Berlin 0 - 2 Bayern Munich/2_baidu_soccer_embeddings.npy\n",
      "/scratch/users/mdelabrassinne/Database/germany_bundesliga/2015-2016/2016-04-23_-_16-30_Hertha_Berlin_0_-_2_Bayern_Munich/Labels-v2.json\n"
     ]
    },
    {
     "name": "stderr",
     "output_type": "stream",
     "text": [
      "49269it [00:35, 1311.77it/s]"
     ]
    },
    {
     "name": "stdout",
     "output_type": "stream",
     "text": [
      "/scratch/users/mdelabrassinne/Database/germany_bundesliga/2015-2016/2015-08-29 - 19-30 Bayern Munich 3 - 0 Bayer Leverkusen/1_baidu_soccer_embeddings.npy\n",
      "/scratch/users/mdelabrassinne/Database/germany_bundesliga/2015-2016/2015-08-29 - 19-30 Bayern Munich 3 - 0 Bayer Leverkusen/2_baidu_soccer_embeddings.npy\n",
      "/scratch/users/mdelabrassinne/Database/germany_bundesliga/2015-2016/2015-08-29_-_19-30_Bayern_Munich_3_-_0_Bayer_Leverkusen/Labels-v2.json\n",
      "/scratch/users/mdelabrassinne/Database/germany_bundesliga/2015-2016/2015-09-12 - 16-30 Bayern Munich 2 - 1 FC Augsburg/1_baidu_soccer_embeddings.npy\n",
      "/scratch/users/mdelabrassinne/Database/germany_bundesliga/2015-2016/2015-09-12 - 16-30 Bayern Munich 2 - 1 FC Augsburg/2_baidu_soccer_embeddings.npy\n",
      "/scratch/users/mdelabrassinne/Database/germany_bundesliga/2015-2016/2015-09-12_-_16-30_Bayern_Munich_2_-_1_FC_Augsburg/Labels-v2.json\n"
     ]
    },
    {
     "name": "stderr",
     "output_type": "stream",
     "text": [
      "49669it [00:36, 1322.25it/s]"
     ]
    },
    {
     "name": "stdout",
     "output_type": "stream",
     "text": [
      "/scratch/users/mdelabrassinne/Database/germany_bundesliga/2015-2016/2015-10-24 - 16-30 Bayern Munich 4 - 0 FC Koln/1_baidu_soccer_embeddings.npy\n",
      "/scratch/users/mdelabrassinne/Database/germany_bundesliga/2015-2016/2015-10-24 - 16-30 Bayern Munich 4 - 0 FC Koln/2_baidu_soccer_embeddings.npy\n",
      "/scratch/users/mdelabrassinne/Database/germany_bundesliga/2015-2016/2015-10-24_-_16-30_Bayern_Munich_4_-_0_FC_Koln/Labels-v2.json\n",
      "/scratch/users/mdelabrassinne/Database/germany_bundesliga/2015-2016/2015-11-08 - 17-30 Dortmund 3 - 2 Schalke/1_baidu_soccer_embeddings.npy\n",
      "/scratch/users/mdelabrassinne/Database/germany_bundesliga/2015-2016/2015-11-08 - 17-30 Dortmund 3 - 2 Schalke/2_baidu_soccer_embeddings.npy\n",
      "/scratch/users/mdelabrassinne/Database/germany_bundesliga/2015-2016/2015-11-08_-_17-30_Dortmund_3_-_2_Schalke/Labels-v2.json\n"
     ]
    },
    {
     "name": "stderr",
     "output_type": "stream",
     "text": [
      "49954it [00:36, 1361.06it/s]"
     ]
    },
    {
     "name": "stdout",
     "output_type": "stream",
     "text": [
      "/scratch/users/mdelabrassinne/Database/germany_bundesliga/2016-2017/2017-04-15 - 16-30 Dortmund 3 - 1 Eintracht Frankfurt/1_baidu_soccer_embeddings.npy\n",
      "/scratch/users/mdelabrassinne/Database/germany_bundesliga/2016-2017/2017-04-15 - 16-30 Dortmund 3 - 1 Eintracht Frankfurt/2_baidu_soccer_embeddings.npy\n",
      "/scratch/users/mdelabrassinne/Database/germany_bundesliga/2016-2017/2017-04-15_-_16-30_Dortmund_3_-_1_Eintracht_Frankfurt/Labels-v2.json\n",
      "/scratch/users/mdelabrassinne/Database/germany_bundesliga/2016-2017/2017-05-13 - 16-30 FC Augsburg 1 - 1 Dortmund/1_baidu_soccer_embeddings.npy\n",
      "/scratch/users/mdelabrassinne/Database/germany_bundesliga/2016-2017/2017-05-13 - 16-30 FC Augsburg 1 - 1 Dortmund/2_baidu_soccer_embeddings.npy\n",
      "/scratch/users/mdelabrassinne/Database/germany_bundesliga/2016-2017/2017-05-13_-_16-30_FC_Augsburg_1_-_1_Dortmund/Labels-v2.json\n"
     ]
    },
    {
     "name": "stderr",
     "output_type": "stream",
     "text": [
      "50363it [00:36, 1345.09it/s]"
     ]
    },
    {
     "name": "stdout",
     "output_type": "stream",
     "text": [
      "/scratch/users/mdelabrassinne/Database/germany_bundesliga/2016-2017/2016-12-03 - 17-30 Dortmund 4 - 1 B. Monchengladbach/1_baidu_soccer_embeddings.npy\n",
      "/scratch/users/mdelabrassinne/Database/germany_bundesliga/2016-2017/2016-12-03 - 17-30 Dortmund 4 - 1 B. Monchengladbach/2_baidu_soccer_embeddings.npy\n",
      "/scratch/users/mdelabrassinne/Database/germany_bundesliga/2016-2017/2016-12-03_-_17-30_Dortmund_4_-_1_B._Monchengladbach/Labels-v2.json\n",
      "/scratch/users/mdelabrassinne/Database/germany_bundesliga/2016-2017/2017-02-25 - 17-30 SC Freiburg 0 - 3 Dortmund/1_baidu_soccer_embeddings.npy\n",
      "/scratch/users/mdelabrassinne/Database/germany_bundesliga/2016-2017/2017-02-25 - 17-30 SC Freiburg 0 - 3 Dortmund/2_baidu_soccer_embeddings.npy\n",
      "/scratch/users/mdelabrassinne/Database/germany_bundesliga/2016-2017/2017-02-25_-_17-30_SC_Freiburg_0_-_3_Dortmund/Labels-v2.json\n"
     ]
    },
    {
     "name": "stderr",
     "output_type": "stream",
     "text": [
      "50768it [00:36, 1319.34it/s]"
     ]
    },
    {
     "name": "stdout",
     "output_type": "stream",
     "text": [
      "/scratch/users/mdelabrassinne/Database/germany_bundesliga/2016-2017/2016-09-10 - 19-30 RB Leipzig 1 - 0 Dortmund/1_baidu_soccer_embeddings.npy\n",
      "/scratch/users/mdelabrassinne/Database/germany_bundesliga/2016-2017/2016-09-10 - 19-30 RB Leipzig 1 - 0 Dortmund/2_baidu_soccer_embeddings.npy\n",
      "/scratch/users/mdelabrassinne/Database/germany_bundesliga/2016-2017/2016-09-10_-_19-30_RB_Leipzig_1_-_0_Dortmund/Labels-v2.json\n",
      "/scratch/users/mdelabrassinne/Database/germany_bundesliga/2016-2017/2016-10-01 - 19-30 Bayer Leverkusen 2 - 0 Dortmund/1_baidu_soccer_embeddings.npy\n",
      "/scratch/users/mdelabrassinne/Database/germany_bundesliga/2016-2017/2016-10-01 - 19-30 Bayer Leverkusen 2 - 0 Dortmund/2_baidu_soccer_embeddings.npy\n",
      "/scratch/users/mdelabrassinne/Database/germany_bundesliga/2016-2017/2016-10-01_-_19-30_Bayer_Leverkusen_2_-_0_Dortmund/Labels-v2.json\n"
     ]
    },
    {
     "name": "stderr",
     "output_type": "stream",
     "text": [
      "51165it [00:37, 1307.77it/s]"
     ]
    },
    {
     "name": "stdout",
     "output_type": "stream",
     "text": [
      "/scratch/users/mdelabrassinne/Database/germany_bundesliga/2016-2017/2016-11-05 - 17-30 Hamburger SV 2 - 5 Dortmund/1_baidu_soccer_embeddings.npy\n",
      "/scratch/users/mdelabrassinne/Database/germany_bundesliga/2016-2017/2016-11-05 - 17-30 Hamburger SV 2 - 5 Dortmund/2_baidu_soccer_embeddings.npy\n",
      "/scratch/users/mdelabrassinne/Database/germany_bundesliga/2016-2017/2016-11-05_-_17-30_Hamburger_SV_2_-_5_Dortmund/Labels-v2.json\n"
     ]
    },
    {
     "name": "stderr",
     "output_type": "stream",
     "text": [
      "51424it [00:37, 1247.33it/s]"
     ]
    },
    {
     "name": "stdout",
     "output_type": "stream",
     "text": [
      "/scratch/users/mdelabrassinne/Database/germany_bundesliga/2016-2017/2016-11-19 - 20-30 Dortmund 1 - 0 Bayern Munich/1_baidu_soccer_embeddings.npy\n",
      "/scratch/users/mdelabrassinne/Database/germany_bundesliga/2016-2017/2016-11-19 - 20-30 Dortmund 1 - 0 Bayern Munich/2_baidu_soccer_embeddings.npy\n",
      "/scratch/users/mdelabrassinne/Database/germany_bundesliga/2016-2017/2016-11-19_-_20-30_Dortmund_1_-_0_Bayern_Munich/Labels-v2.json\n",
      "/scratch/users/mdelabrassinne/Database/germany_bundesliga/2016-2017/2016-12-16 - 22-30 Hoffenheim 2 - 2 Dortmund/1_baidu_soccer_embeddings.npy\n",
      "/scratch/users/mdelabrassinne/Database/germany_bundesliga/2016-2017/2016-12-16 - 22-30 Hoffenheim 2 - 2 Dortmund/2_baidu_soccer_embeddings.npy\n",
      "/scratch/users/mdelabrassinne/Database/germany_bundesliga/2016-2017/2016-12-16_-_22-30_Hoffenheim_2_-_2_Dortmund/Labels-v2.json\n"
     ]
    },
    {
     "name": "stderr",
     "output_type": "stream",
     "text": [
      "51969it [00:37, 1336.19it/s]"
     ]
    },
    {
     "name": "stdout",
     "output_type": "stream",
     "text": [
      "/scratch/users/mdelabrassinne/Database/germany_bundesliga/2016-2017/2017-01-21 - 17-30 SV Werder Bremen 1 - 2 Dortmund/1_baidu_soccer_embeddings.npy\n",
      "/scratch/users/mdelabrassinne/Database/germany_bundesliga/2016-2017/2017-01-21 - 17-30 SV Werder Bremen 1 - 2 Dortmund/2_baidu_soccer_embeddings.npy\n",
      "/scratch/users/mdelabrassinne/Database/germany_bundesliga/2016-2017/2017-01-21_-_17-30_SV_Werder_Bremen_1_-_2_Dortmund/Labels-v2.json\n",
      "/scratch/users/mdelabrassinne/Database/germany_bundesliga/2016-2017/2017-01-29 - 19-30 1. FSV Mainz 05 1 - 1 Dortmund/1_baidu_soccer_embeddings.npy\n",
      "/scratch/users/mdelabrassinne/Database/germany_bundesliga/2016-2017/2017-01-29 - 19-30 1. FSV Mainz 05 1 - 1 Dortmund/2_baidu_soccer_embeddings.npy\n",
      "/scratch/users/mdelabrassinne/Database/germany_bundesliga/2016-2017/2017-01-29_-_19-30_1._FSV_Mainz_05_1_-_1_Dortmund/Labels-v2.json\n"
     ]
    },
    {
     "name": "stderr",
     "output_type": "stream",
     "text": [
      "52389it [00:38, 1371.23it/s]"
     ]
    },
    {
     "name": "stdout",
     "output_type": "stream",
     "text": [
      "/scratch/users/mdelabrassinne/Database/germany_bundesliga/2016-2017/2017-03-04 - 17-30 Dortmund 6 - 2 Bayer Leverkusen/1_baidu_soccer_embeddings.npy\n",
      "/scratch/users/mdelabrassinne/Database/germany_bundesliga/2016-2017/2017-03-04 - 17-30 Dortmund 6 - 2 Bayer Leverkusen/2_baidu_soccer_embeddings.npy\n",
      "/scratch/users/mdelabrassinne/Database/germany_bundesliga/2016-2017/2017-03-04_-_17-30_Dortmund_6_-_2_Bayer_Leverkusen/Labels-v2.json\n",
      "/scratch/users/mdelabrassinne/Database/germany_bundesliga/2016-2017/2017-04-29 - 16-30 Dortmund 0 - 0 FC Koln/1_baidu_soccer_embeddings.npy\n",
      "/scratch/users/mdelabrassinne/Database/germany_bundesliga/2016-2017/2017-04-29 - 16-30 Dortmund 0 - 0 FC Koln/2_baidu_soccer_embeddings.npy\n",
      "/scratch/users/mdelabrassinne/Database/germany_bundesliga/2016-2017/2017-04-29_-_16-30_Dortmund_0_-_0_FC_Koln/Labels-v2.json\n"
     ]
    },
    {
     "name": "stderr",
     "output_type": "stream",
     "text": [
      "52806it [00:38, 1374.34it/s]"
     ]
    },
    {
     "name": "stdout",
     "output_type": "stream",
     "text": [
      "/scratch/users/mdelabrassinne/Database/germany_bundesliga/2016-2017/2016-09-17 - 16-30 Dortmund 6 - 0 Darmstadt/1_baidu_soccer_embeddings.npy\n",
      "/scratch/users/mdelabrassinne/Database/germany_bundesliga/2016-2017/2016-09-17 - 16-30 Dortmund 6 - 0 Darmstadt/2_baidu_soccer_embeddings.npy\n",
      "/scratch/users/mdelabrassinne/Database/germany_bundesliga/2016-2017/2016-09-17_-_16-30_Dortmund_6_-_0_Darmstadt/Labels-v2.json\n",
      "/scratch/users/mdelabrassinne/Database/germany_bundesliga/2016-2017/2016-09-20 - 21-00 Wolfsburg 1 - 5 Dortmund/1_baidu_soccer_embeddings.npy\n",
      "/scratch/users/mdelabrassinne/Database/germany_bundesliga/2016-2017/2016-09-20 - 21-00 Wolfsburg 1 - 5 Dortmund/2_baidu_soccer_embeddings.npy\n",
      "/scratch/users/mdelabrassinne/Database/germany_bundesliga/2016-2017/2016-09-20_-_21-00_Wolfsburg_1_-_5_Dortmund/Labels-v2.json\n"
     ]
    },
    {
     "name": "stderr",
     "output_type": "stream",
     "text": [
      "53219it [00:38, 1367.50it/s]"
     ]
    },
    {
     "name": "stdout",
     "output_type": "stream",
     "text": [
      "/scratch/users/mdelabrassinne/Database/germany_bundesliga/2016-2017/2016-09-23 - 21-30 Dortmund 3 - 1 SC Freiburg/1_baidu_soccer_embeddings.npy\n",
      "/scratch/users/mdelabrassinne/Database/germany_bundesliga/2016-2017/2016-09-23 - 21-30 Dortmund 3 - 1 SC Freiburg/2_baidu_soccer_embeddings.npy\n",
      "/scratch/users/mdelabrassinne/Database/germany_bundesliga/2016-2017/2016-09-23_-_21-30_Dortmund_3_-_1_SC_Freiburg/Labels-v2.json\n",
      "/scratch/users/mdelabrassinne/Database/germany_bundesliga/2016-2017/2016-10-14 - 21-30 Dortmund 1 - 1 Hertha Berlin/1_baidu_soccer_embeddings.npy\n",
      "/scratch/users/mdelabrassinne/Database/germany_bundesliga/2016-2017/2016-10-14 - 21-30 Dortmund 1 - 1 Hertha Berlin/2_baidu_soccer_embeddings.npy\n",
      "/scratch/users/mdelabrassinne/Database/germany_bundesliga/2016-2017/2016-10-14_-_21-30_Dortmund_1_-_1_Hertha_Berlin/Labels-v2.json\n"
     ]
    },
    {
     "name": "stderr",
     "output_type": "stream",
     "text": [
      "53775it [00:39, 1350.38it/s]"
     ]
    },
    {
     "name": "stdout",
     "output_type": "stream",
     "text": [
      "/scratch/users/mdelabrassinne/Database/germany_bundesliga/2016-2017/2016-10-22 - 16-30 Ingolstadt 3 - 3 Dortmund/1_baidu_soccer_embeddings.npy\n",
      "/scratch/users/mdelabrassinne/Database/germany_bundesliga/2016-2017/2016-10-22 - 16-30 Ingolstadt 3 - 3 Dortmund/2_baidu_soccer_embeddings.npy\n",
      "/scratch/users/mdelabrassinne/Database/germany_bundesliga/2016-2017/2016-10-22_-_16-30_Ingolstadt_3_-_3_Dortmund/Labels-v2.json\n",
      "/scratch/users/mdelabrassinne/Database/germany_bundesliga/2016-2017/2016-10-29 - 19-30 Dortmund 0 - 0 Schalke/1_baidu_soccer_embeddings.npy\n",
      "/scratch/users/mdelabrassinne/Database/germany_bundesliga/2016-2017/2016-10-29 - 19-30 Dortmund 0 - 0 Schalke/2_baidu_soccer_embeddings.npy\n",
      "/scratch/users/mdelabrassinne/Database/germany_bundesliga/2016-2017/2016-10-29_-_19-30_Dortmund_0_-_0_Schalke/Labels-v2.json\n",
      "/scratch/users/mdelabrassinne/Database/germany_bundesliga/2016-2017/2016-11-26 - 17-30 Eintracht Frankfurt 2 - 1 Dortmund/1_baidu_soccer_embeddings.npy\n",
      "/scratch/users/mdelabrassinne/Database/germany_bundesliga/2016-2017/2016-11-26 - 17-30 Eintracht Frankfurt 2 - 1 Dortmund/2_baidu_soccer_embeddings.npy\n",
      "/scratch/users/mdelabrassinne/Database/germany_bundesliga/2016-2017/2016-11-26_-_17-30_Eintracht_Frankfurt_2_-_1_Dortmund/Labels-v2.json\n"
     ]
    },
    {
     "name": "stderr",
     "output_type": "stream",
     "text": [
      "54046it [00:39, 1339.06it/s]"
     ]
    },
    {
     "name": "stdout",
     "output_type": "stream",
     "text": [
      "/scratch/users/mdelabrassinne/Database/germany_bundesliga/2016-2017/2016-12-10 - 17-30 FC Koln 1 - 1 Dortmund/1_baidu_soccer_embeddings.npy\n",
      "/scratch/users/mdelabrassinne/Database/germany_bundesliga/2016-2017/2016-12-10 - 17-30 FC Koln 1 - 1 Dortmund/2_baidu_soccer_embeddings.npy\n",
      "/scratch/users/mdelabrassinne/Database/germany_bundesliga/2016-2017/2016-12-10_-_17-30_FC_Koln_1_-_1_Dortmund/Labels-v2.json\n",
      "/scratch/users/mdelabrassinne/Database/germany_bundesliga/2016-2017/2016-12-20 - 22-00 Dortmund 1 - 1 FC Augsburg/1_baidu_soccer_embeddings.npy\n",
      "/scratch/users/mdelabrassinne/Database/germany_bundesliga/2016-2017/2016-12-20 - 22-00 Dortmund 1 - 1 FC Augsburg/2_baidu_soccer_embeddings.npy\n",
      "/scratch/users/mdelabrassinne/Database/germany_bundesliga/2016-2017/2016-12-20_-_22-00_Dortmund_1_-_1_FC_Augsburg/Labels-v2.json\n"
     ]
    },
    {
     "name": "stderr",
     "output_type": "stream",
     "text": [
      "54601it [00:39, 1358.89it/s]"
     ]
    },
    {
     "name": "stdout",
     "output_type": "stream",
     "text": [
      "/scratch/users/mdelabrassinne/Database/germany_bundesliga/2016-2017/2017-02-04 - 20-30 Dortmund 1 - 0 RB Leipzig/1_baidu_soccer_embeddings.npy\n",
      "/scratch/users/mdelabrassinne/Database/germany_bundesliga/2016-2017/2017-02-04 - 20-30 Dortmund 1 - 0 RB Leipzig/2_baidu_soccer_embeddings.npy\n",
      "/scratch/users/mdelabrassinne/Database/germany_bundesliga/2016-2017/2017-02-04_-_20-30_Dortmund_1_-_0_RB_Leipzig/Labels-v2.json\n",
      "/scratch/users/mdelabrassinne/Database/germany_bundesliga/2016-2017/2017-02-11 - 17-30 Darmstadt 2 - 1 Dortmund/1_baidu_soccer_embeddings.npy\n",
      "/scratch/users/mdelabrassinne/Database/germany_bundesliga/2016-2017/2017-02-11 - 17-30 Darmstadt 2 - 1 Dortmund/2_baidu_soccer_embeddings.npy\n",
      "/scratch/users/mdelabrassinne/Database/germany_bundesliga/2016-2017/2017-02-11_-_17-30_Darmstadt_2_-_1_Dortmund/Labels-v2.json\n"
     ]
    },
    {
     "name": "stderr",
     "output_type": "stream",
     "text": [
      "55004it [00:40, 1315.44it/s]"
     ]
    },
    {
     "name": "stdout",
     "output_type": "stream",
     "text": [
      "/scratch/users/mdelabrassinne/Database/germany_bundesliga/2016-2017/2017-02-18 - 17-30 Dortmund 3 - 0 Wolfsburg/1_baidu_soccer_embeddings.npy\n",
      "/scratch/users/mdelabrassinne/Database/germany_bundesliga/2016-2017/2017-02-18 - 17-30 Dortmund 3 - 0 Wolfsburg/2_baidu_soccer_embeddings.npy\n",
      "/scratch/users/mdelabrassinne/Database/germany_bundesliga/2016-2017/2017-02-18_-_17-30_Dortmund_3_-_0_Wolfsburg/Labels-v2.json\n",
      "/scratch/users/mdelabrassinne/Database/germany_bundesliga/2016-2017/2017-03-17 - 22-30 Dortmund 1 - 0 Ingolstadt/1_baidu_soccer_embeddings.npy\n",
      "/scratch/users/mdelabrassinne/Database/germany_bundesliga/2016-2017/2017-03-17 - 22-30 Dortmund 1 - 0 Ingolstadt/2_baidu_soccer_embeddings.npy\n",
      "/scratch/users/mdelabrassinne/Database/germany_bundesliga/2016-2017/2017-03-17_-_22-30_Dortmund_1_-_0_Ingolstadt/Labels-v2.json\n"
     ]
    },
    {
     "name": "stderr",
     "output_type": "stream",
     "text": [
      "55538it [00:40, 1327.13it/s]"
     ]
    },
    {
     "name": "stdout",
     "output_type": "stream",
     "text": [
      "/scratch/users/mdelabrassinne/Database/germany_bundesliga/2016-2017/2017-04-01 - 16-30 Schalke 1 - 1 Dortmund/1_baidu_soccer_embeddings.npy\n",
      "/scratch/users/mdelabrassinne/Database/germany_bundesliga/2016-2017/2017-04-01 - 16-30 Schalke 1 - 1 Dortmund/2_baidu_soccer_embeddings.npy\n",
      "/scratch/users/mdelabrassinne/Database/germany_bundesliga/2016-2017/2017-04-01_-_16-30_Schalke_1_-_1_Dortmund/Labels-v2.json\n",
      "/scratch/users/mdelabrassinne/Database/italy_serie-a/2014-2015/2015-02-15 - 14-30 AC Milan 1 - 1 Empoli/1_baidu_soccer_embeddings.npy\n",
      "/scratch/users/mdelabrassinne/Database/italy_serie-a/2014-2015/2015-02-15 - 14-30 AC Milan 1 - 1 Empoli/2_baidu_soccer_embeddings.npy\n",
      "/scratch/users/mdelabrassinne/Database/italy_serie-a/2014-2015/2015-02-15_-_14-30_AC_Milan_1_-_1_Empoli/Labels-v2.json\n"
     ]
    },
    {
     "name": "stderr",
     "output_type": "stream",
     "text": [
      "55962it [00:40, 1375.94it/s]"
     ]
    },
    {
     "name": "stdout",
     "output_type": "stream",
     "text": [
      "/scratch/users/mdelabrassinne/Database/italy_serie-a/2014-2015/2015-04-11 - 21-45 Verona 0 - 3 Inter/1_baidu_soccer_embeddings.npy\n",
      "/scratch/users/mdelabrassinne/Database/italy_serie-a/2014-2015/2015-04-11 - 21-45 Verona 0 - 3 Inter/2_baidu_soccer_embeddings.npy\n",
      "/scratch/users/mdelabrassinne/Database/italy_serie-a/2014-2015/2015-04-11_-_21-45_Verona_0_-_3_Inter/Labels-v2.json\n",
      "/scratch/users/mdelabrassinne/Database/italy_serie-a/2014-2015/2015-04-19 - 21-45 Inter 0 - 0 AC Milan/1_baidu_soccer_embeddings.npy\n",
      "/scratch/users/mdelabrassinne/Database/italy_serie-a/2014-2015/2015-04-19 - 21-45 Inter 0 - 0 AC Milan/2_baidu_soccer_embeddings.npy\n",
      "/scratch/users/mdelabrassinne/Database/italy_serie-a/2014-2015/2015-04-19_-_21-45_Inter_0_-_0_AC_Milan/Labels-v2.json\n"
     ]
    },
    {
     "name": "stderr",
     "output_type": "stream",
     "text": [
      "56372it [00:41, 1349.84it/s]"
     ]
    },
    {
     "name": "stdout",
     "output_type": "stream",
     "text": [
      "/scratch/users/mdelabrassinne/Database/italy_serie-a/2014-2015/2015-04-25 - 21-45 Inter 2 - 1 AS Roma/1_baidu_soccer_embeddings.npy\n",
      "/scratch/users/mdelabrassinne/Database/italy_serie-a/2014-2015/2015-04-25 - 21-45 Inter 2 - 1 AS Roma/2_baidu_soccer_embeddings.npy\n",
      "/scratch/users/mdelabrassinne/Database/italy_serie-a/2014-2015/2015-04-25_-_21-45_Inter_2_-_1_AS_Roma/Labels-v2.json\n",
      "/scratch/users/mdelabrassinne/Database/italy_serie-a/2014-2015/2015-04-26 - 16-00 Torino 2 - 1 Juventus/1_baidu_soccer_embeddings.npy\n",
      "/scratch/users/mdelabrassinne/Database/italy_serie-a/2014-2015/2015-04-26 - 16-00 Torino 2 - 1 Juventus/2_baidu_soccer_embeddings.npy\n",
      "/scratch/users/mdelabrassinne/Database/italy_serie-a/2014-2015/2015-04-26_-_16-00_Torino_2_-_1_Juventus/Labels-v2.json\n"
     ]
    },
    {
     "name": "stderr",
     "output_type": "stream",
     "text": [
      "56781it [00:41, 1342.19it/s]"
     ]
    },
    {
     "name": "stdout",
     "output_type": "stream",
     "text": [
      "/scratch/users/mdelabrassinne/Database/italy_serie-a/2014-2015/2015-05-03 - 21-45 Napoli 3 - 0 AC Milan/1_baidu_soccer_embeddings.npy\n",
      "/scratch/users/mdelabrassinne/Database/italy_serie-a/2014-2015/2015-05-03 - 21-45 Napoli 3 - 0 AC Milan/2_baidu_soccer_embeddings.npy\n",
      "/scratch/users/mdelabrassinne/Database/italy_serie-a/2014-2015/2015-05-03_-_21-45_Napoli_3_-_0_AC_Milan/Labels-v2.json\n",
      "/scratch/users/mdelabrassinne/Database/italy_serie-a/2014-2015/2015-05-16 - 19-00 Inter 1 - 2 Juventus/1_baidu_soccer_embeddings.npy\n",
      "/scratch/users/mdelabrassinne/Database/italy_serie-a/2014-2015/2015-05-16 - 19-00 Inter 1 - 2 Juventus/2_baidu_soccer_embeddings.npy\n",
      "/scratch/users/mdelabrassinne/Database/italy_serie-a/2014-2015/2015-05-16_-_19-00_Inter_1_-_2_Juventus/Labels-v2.json\n"
     ]
    },
    {
     "name": "stderr",
     "output_type": "stream",
     "text": [
      "57192it [00:41, 1353.10it/s]"
     ]
    },
    {
     "name": "stdout",
     "output_type": "stream",
     "text": [
      "/scratch/users/mdelabrassinne/Database/italy_serie-a/2014-2015/2015-04-25 - 19-00 Udinese 2 - 1 AC Milan/1_baidu_soccer_embeddings.npy\n",
      "/scratch/users/mdelabrassinne/Database/italy_serie-a/2014-2015/2015-04-25 - 19-00 Udinese 2 - 1 AC Milan/2_baidu_soccer_embeddings.npy\n",
      "/scratch/users/mdelabrassinne/Database/italy_serie-a/2014-2015/2015-04-25_-_19-00_Udinese_2_-_1_AC_Milan/Labels-v2.json\n",
      "/scratch/users/mdelabrassinne/Database/italy_serie-a/2014-2015/2015-05-10 - 21-45 Lazio 1 - 2 Inter/1_baidu_soccer_embeddings.npy\n",
      "/scratch/users/mdelabrassinne/Database/italy_serie-a/2014-2015/2015-05-10 - 21-45 Lazio 1 - 2 Inter/2_baidu_soccer_embeddings.npy\n",
      "/scratch/users/mdelabrassinne/Database/italy_serie-a/2014-2015/2015-05-10_-_21-45_Lazio_1_-_2_Inter/Labels-v2.json\n"
     ]
    },
    {
     "name": "stderr",
     "output_type": "stream",
     "text": [
      "57739it [00:42, 1353.43it/s]"
     ]
    },
    {
     "name": "stdout",
     "output_type": "stream",
     "text": [
      "/scratch/users/mdelabrassinne/Database/italy_serie-a/2014-2015/2015-05-17 - 13-30 Sassuolo 3 - 2 AC Milan/1_baidu_soccer_embeddings.npy\n",
      "/scratch/users/mdelabrassinne/Database/italy_serie-a/2014-2015/2015-05-17 - 13-30 Sassuolo 3 - 2 AC Milan/2_baidu_soccer_embeddings.npy\n",
      "/scratch/users/mdelabrassinne/Database/italy_serie-a/2014-2015/2015-05-17_-_13-30_Sassuolo_3_-_2_AC_Milan/Labels-v2.json\n",
      "/scratch/users/mdelabrassinne/Database/italy_serie-a/2014-2015/2015-04-29 - 21-45 Juventus 3 - 2 Fiorentina/1_baidu_soccer_embeddings.npy\n",
      "/scratch/users/mdelabrassinne/Database/italy_serie-a/2014-2015/2015-04-29 - 21-45 Juventus 3 - 2 Fiorentina/2_baidu_soccer_embeddings.npy\n",
      "/scratch/users/mdelabrassinne/Database/italy_serie-a/2014-2015/2015-04-29_-_21-45_Juventus_3_-_2_Fiorentina/Labels-v2.json\n"
     ]
    },
    {
     "name": "stderr",
     "output_type": "stream",
     "text": [
      "58018it [00:42, 1370.66it/s]"
     ]
    },
    {
     "name": "stdout",
     "output_type": "stream",
     "text": [
      "/scratch/users/mdelabrassinne/Database/italy_serie-a/2015-2016/2015-09-20 - 13-30 Chievo 0 - 1 Inter/1_baidu_soccer_embeddings.npy\n",
      "/scratch/users/mdelabrassinne/Database/italy_serie-a/2015-2016/2015-09-20 - 13-30 Chievo 0 - 1 Inter/2_baidu_soccer_embeddings.npy\n",
      "/scratch/users/mdelabrassinne/Database/italy_serie-a/2015-2016/2015-09-20_-_13-30_Chievo_0_-_1_Inter/Labels-v2.json\n",
      "/scratch/users/mdelabrassinne/Database/italy_serie-a/2015-2016/2015-09-22 - 21-45 Udinese 2 - 3 AC Milan/1_baidu_soccer_embeddings.npy\n",
      "/scratch/users/mdelabrassinne/Database/italy_serie-a/2015-2016/2015-09-22 - 21-45 Udinese 2 - 3 AC Milan/2_baidu_soccer_embeddings.npy\n",
      "/scratch/users/mdelabrassinne/Database/italy_serie-a/2015-2016/2015-09-22_-_21-45_Udinese_2_-_3_AC_Milan/Labels-v2.json\n"
     ]
    },
    {
     "name": "stderr",
     "output_type": "stream",
     "text": [
      "58588it [00:42, 1408.33it/s]"
     ]
    },
    {
     "name": "stdout",
     "output_type": "stream",
     "text": [
      "/scratch/users/mdelabrassinne/Database/italy_serie-a/2015-2016/2015-11-01 - 22-45 Lazio 1 - 3 AC Milan/1_baidu_soccer_embeddings.npy\n",
      "/scratch/users/mdelabrassinne/Database/italy_serie-a/2015-2016/2015-11-01 - 22-45 Lazio 1 - 3 AC Milan/2_baidu_soccer_embeddings.npy\n",
      "/scratch/users/mdelabrassinne/Database/italy_serie-a/2015-2016/2015-11-01_-_22-45_Lazio_1_-_3_AC_Milan/Labels-v2.json\n",
      "/scratch/users/mdelabrassinne/Database/italy_serie-a/2015-2016/2015-11-07 - 22-45 AC Milan 0 - 0 Atalanta/1_baidu_soccer_embeddings.npy\n",
      "/scratch/users/mdelabrassinne/Database/italy_serie-a/2015-2016/2015-11-07 - 22-45 AC Milan 0 - 0 Atalanta/2_baidu_soccer_embeddings.npy\n",
      "/scratch/users/mdelabrassinne/Database/italy_serie-a/2015-2016/2015-11-07_-_22-45_AC_Milan_0_-_0_Atalanta/Labels-v2.json\n"
     ]
    },
    {
     "name": "stderr",
     "output_type": "stream",
     "text": [
      "59006it [00:42, 1371.24it/s]"
     ]
    },
    {
     "name": "stdout",
     "output_type": "stream",
     "text": [
      "/scratch/users/mdelabrassinne/Database/italy_serie-a/2015-2016/2015-11-22 - 22-45 Inter 4 - 0 Frosinone/1_baidu_soccer_embeddings.npy\n",
      "/scratch/users/mdelabrassinne/Database/italy_serie-a/2015-2016/2015-11-22 - 22-45 Inter 4 - 0 Frosinone/2_baidu_soccer_embeddings.npy\n",
      "/scratch/users/mdelabrassinne/Database/italy_serie-a/2015-2016/2015-11-22_-_22-45_Inter_4_-_0_Frosinone/Labels-v2.json\n",
      "/scratch/users/mdelabrassinne/Database/italy_serie-a/2015-2016/2015-09-26 - 21-45 Napoli 2 - 1 Juventus/1_baidu_soccer_embeddings.npy\n",
      "/scratch/users/mdelabrassinne/Database/italy_serie-a/2015-2016/2015-09-26 - 21-45 Napoli 2 - 1 Juventus/2_baidu_soccer_embeddings.npy\n",
      "/scratch/users/mdelabrassinne/Database/italy_serie-a/2015-2016/2015-09-26_-_21-45_Napoli_2_-_1_Juventus/Labels-v2.json\n"
     ]
    },
    {
     "name": "stderr",
     "output_type": "stream",
     "text": [
      "59575it [00:43, 1394.85it/s]"
     ]
    },
    {
     "name": "stdout",
     "output_type": "stream",
     "text": [
      "/scratch/users/mdelabrassinne/Database/italy_serie-a/2015-2016/2015-08-29 - 21-45 AC Milan 2 - 1 Empoli/1_baidu_soccer_embeddings.npy\n",
      "/scratch/users/mdelabrassinne/Database/italy_serie-a/2015-2016/2015-08-29 - 21-45 AC Milan 2 - 1 Empoli/2_baidu_soccer_embeddings.npy\n",
      "/scratch/users/mdelabrassinne/Database/italy_serie-a/2015-2016/2015-08-29_-_21-45_AC_Milan_2_-_1_Empoli/Labels-v2.json\n",
      "/scratch/users/mdelabrassinne/Database/italy_serie-a/2015-2016/2015-09-20 - 16-00 Genoa 0 - 2 Juventus/1_baidu_soccer_embeddings.npy\n",
      "/scratch/users/mdelabrassinne/Database/italy_serie-a/2015-2016/2015-09-20 - 16-00 Genoa 0 - 2 Juventus/2_baidu_soccer_embeddings.npy\n",
      "/scratch/users/mdelabrassinne/Database/italy_serie-a/2015-2016/2015-09-20_-_16-00_Genoa_0_-_2_Juventus/Labels-v2.json\n"
     ]
    },
    {
     "name": "stderr",
     "output_type": "stream",
     "text": [
      "59992it [00:43, 1362.20it/s]"
     ]
    },
    {
     "name": "stdout",
     "output_type": "stream",
     "text": [
      "/scratch/users/mdelabrassinne/Database/italy_serie-a/2015-2016/2015-09-27 - 21-45 Inter 1 - 4 Fiorentina/1_baidu_soccer_embeddings.npy\n",
      "/scratch/users/mdelabrassinne/Database/italy_serie-a/2015-2016/2015-09-27 - 21-45 Inter 1 - 4 Fiorentina/2_baidu_soccer_embeddings.npy\n",
      "/scratch/users/mdelabrassinne/Database/italy_serie-a/2015-2016/2015-09-27_-_21-45_Inter_1_-_4_Fiorentina/Labels-v2.json\n",
      "/scratch/users/mdelabrassinne/Database/italy_serie-a/2016-2017/2016-08-28 - 21-45 Cagliari 2 - 2 AS Roma/1_baidu_soccer_embeddings.npy\n",
      "/scratch/users/mdelabrassinne/Database/italy_serie-a/2016-2017/2016-08-28 - 21-45 Cagliari 2 - 2 AS Roma/2_baidu_soccer_embeddings.npy\n",
      "/scratch/users/mdelabrassinne/Database/italy_serie-a/2016-2017/2016-08-28_-_21-45_Cagliari_2_-_2_AS_Roma/Labels-v2.json\n"
     ]
    },
    {
     "name": "stderr",
     "output_type": "stream",
     "text": [
      "60411it [00:43, 1358.90it/s]"
     ]
    },
    {
     "name": "stdout",
     "output_type": "stream",
     "text": [
      "/scratch/users/mdelabrassinne/Database/italy_serie-a/2016-2017/2016-09-10 - 21-45 Palermo 0 - 3 Napoli/1_baidu_soccer_embeddings.npy\n",
      "/scratch/users/mdelabrassinne/Database/italy_serie-a/2016-2017/2016-09-10 - 21-45 Palermo 0 - 3 Napoli/2_baidu_soccer_embeddings.npy\n",
      "/scratch/users/mdelabrassinne/Database/italy_serie-a/2016-2017/2016-09-10_-_21-45_Palermo_0_-_3_Napoli/Labels-v2.json\n",
      "/scratch/users/mdelabrassinne/Database/italy_serie-a/2016-2017/2016-09-16 - 21-45 Sampdoria 0 - 1 AC Milan/1_baidu_soccer_embeddings.npy\n",
      "/scratch/users/mdelabrassinne/Database/italy_serie-a/2016-2017/2016-09-16 - 21-45 Sampdoria 0 - 1 AC Milan/2_baidu_soccer_embeddings.npy\n",
      "/scratch/users/mdelabrassinne/Database/italy_serie-a/2016-2017/2016-09-16_-_21-45_Sampdoria_0_-_1_AC_Milan/Labels-v2.json\n"
     ]
    },
    {
     "name": "stderr",
     "output_type": "stream",
     "text": [
      "60819it [00:44, 1343.93it/s]"
     ]
    },
    {
     "name": "stdout",
     "output_type": "stream",
     "text": [
      "/scratch/users/mdelabrassinne/Database/italy_serie-a/2016-2017/2016-09-17 - 21-45 Napoli 3 - 1 Bologna/1_baidu_soccer_embeddings.npy\n",
      "/scratch/users/mdelabrassinne/Database/italy_serie-a/2016-2017/2016-09-17 - 21-45 Napoli 3 - 1 Bologna/2_baidu_soccer_embeddings.npy\n",
      "/scratch/users/mdelabrassinne/Database/italy_serie-a/2016-2017/2016-09-17_-_21-45_Napoli_3_-_1_Bologna/Labels-v2.json\n",
      "/scratch/users/mdelabrassinne/Database/italy_serie-a/2016-2017/2016-09-21 - 21-45 AS Roma 4 - 0 Crotone/1_baidu_soccer_embeddings.npy\n",
      "/scratch/users/mdelabrassinne/Database/italy_serie-a/2016-2017/2016-09-21 - 21-45 AS Roma 4 - 0 Crotone/2_baidu_soccer_embeddings.npy\n",
      "/scratch/users/mdelabrassinne/Database/italy_serie-a/2016-2017/2016-09-21_-_21-45_AS_Roma_4_-_0_Crotone/Labels-v2.json\n"
     ]
    },
    {
     "name": "stderr",
     "output_type": "stream",
     "text": [
      "61232it [00:44, 1362.88it/s]"
     ]
    },
    {
     "name": "stdout",
     "output_type": "stream",
     "text": [
      "/scratch/users/mdelabrassinne/Database/italy_serie-a/2016-2017/2016-10-15 - 16-00 Napoli 1 - 3 AS Roma/1_baidu_soccer_embeddings.npy\n",
      "/scratch/users/mdelabrassinne/Database/italy_serie-a/2016-2017/2016-10-15 - 16-00 Napoli 1 - 3 AS Roma/2_baidu_soccer_embeddings.npy\n",
      "/scratch/users/mdelabrassinne/Database/italy_serie-a/2016-2017/2016-10-15_-_16-00_Napoli_1_-_3_AS_Roma/Labels-v2.json\n",
      "/scratch/users/mdelabrassinne/Database/italy_serie-a/2016-2017/2016-10-23 - 16-00 Crotone 1 - 2 Napoli/1_baidu_soccer_embeddings.npy\n",
      "/scratch/users/mdelabrassinne/Database/italy_serie-a/2016-2017/2016-10-23 - 16-00 Crotone 1 - 2 Napoli/2_baidu_soccer_embeddings.npy\n",
      "/scratch/users/mdelabrassinne/Database/italy_serie-a/2016-2017/2016-10-23_-_16-00_Crotone_1_-_2_Napoli/Labels-v2.json\n"
     ]
    },
    {
     "name": "stderr",
     "output_type": "stream",
     "text": [
      "61647it [00:44, 1362.51it/s]"
     ]
    },
    {
     "name": "stdout",
     "output_type": "stream",
     "text": [
      "/scratch/users/mdelabrassinne/Database/italy_serie-a/2016-2017/2016-10-23 - 21-45 AS Roma 4 - 1 Palermo/1_baidu_soccer_embeddings.npy\n",
      "/scratch/users/mdelabrassinne/Database/italy_serie-a/2016-2017/2016-10-23 - 21-45 AS Roma 4 - 1 Palermo/2_baidu_soccer_embeddings.npy\n",
      "/scratch/users/mdelabrassinne/Database/italy_serie-a/2016-2017/2016-10-23_-_21-45_AS_Roma_4_-_1_Palermo/Labels-v2.json\n",
      "/scratch/users/mdelabrassinne/Database/italy_serie-a/2016-2017/2016-10-25 - 21-45 Genoa 3 - 0 AC Milan/1_baidu_soccer_embeddings.npy\n",
      "/scratch/users/mdelabrassinne/Database/italy_serie-a/2016-2017/2016-10-25 - 21-45 Genoa 3 - 0 AC Milan/2_baidu_soccer_embeddings.npy\n",
      "/scratch/users/mdelabrassinne/Database/italy_serie-a/2016-2017/2016-10-25_-_21-45_Genoa_3_-_0_AC_Milan/Labels-v2.json\n"
     ]
    },
    {
     "name": "stderr",
     "output_type": "stream",
     "text": [
      "61927it [00:45, 1377.63it/s]"
     ]
    },
    {
     "name": "stdout",
     "output_type": "stream",
     "text": [
      "/scratch/users/mdelabrassinne/Database/italy_serie-a/2016-2017/2016-10-26 - 21-45 Napoli 2 - 0 Empoli/1_baidu_soccer_embeddings.npy\n",
      "/scratch/users/mdelabrassinne/Database/italy_serie-a/2016-2017/2016-10-26 - 21-45 Napoli 2 - 0 Empoli/2_baidu_soccer_embeddings.npy\n",
      "/scratch/users/mdelabrassinne/Database/italy_serie-a/2016-2017/2016-10-26_-_21-45_Napoli_2_-_0_Empoli/Labels-v2.json\n",
      "/scratch/users/mdelabrassinne/Database/italy_serie-a/2016-2017/2016-10-26 - 21-45 Sassuolo 1 - 3 AS Roma/1_baidu_soccer_embeddings.npy\n",
      "/scratch/users/mdelabrassinne/Database/italy_serie-a/2016-2017/2016-10-26 - 21-45 Sassuolo 1 - 3 AS Roma/2_baidu_soccer_embeddings.npy\n",
      "/scratch/users/mdelabrassinne/Database/italy_serie-a/2016-2017/2016-10-26_-_21-45_Sassuolo_1_-_3_AS_Roma/Labels-v2.json\n"
     ]
    },
    {
     "name": "stderr",
     "output_type": "stream",
     "text": [
      "62341it [00:45, 1360.90it/s]"
     ]
    },
    {
     "name": "stdout",
     "output_type": "stream",
     "text": [
      "/scratch/users/mdelabrassinne/Database/italy_serie-a/2016-2017/2016-10-30 - 17-00 AC Milan 1 - 0 Pescara/1_baidu_soccer_embeddings.npy\n",
      "/scratch/users/mdelabrassinne/Database/italy_serie-a/2016-2017/2016-10-30 - 17-00 AC Milan 1 - 0 Pescara/2_baidu_soccer_embeddings.npy\n",
      "/scratch/users/mdelabrassinne/Database/italy_serie-a/2016-2017/2016-10-30_-_17-00_AC_Milan_1_-_0_Pescara/Labels-v2.json\n",
      "/scratch/users/mdelabrassinne/Database/italy_serie-a/2016-2017/2016-10-30 - 17-00 Empoli 0 - 0 AS Roma/1_baidu_soccer_embeddings.npy\n",
      "/scratch/users/mdelabrassinne/Database/italy_serie-a/2016-2017/2016-10-30 - 17-00 Empoli 0 - 0 AS Roma/2_baidu_soccer_embeddings.npy\n",
      "/scratch/users/mdelabrassinne/Database/italy_serie-a/2016-2017/2016-10-30_-_17-00_Empoli_0_-_0_AS_Roma/Labels-v2.json\n"
     ]
    },
    {
     "name": "stderr",
     "output_type": "stream",
     "text": [
      "62897it [00:45, 1376.74it/s]"
     ]
    },
    {
     "name": "stdout",
     "output_type": "stream",
     "text": [
      "/scratch/users/mdelabrassinne/Database/italy_serie-a/2016-2017/2016-11-06 - 17-00 Palermo 1 - 2 AC Milan/1_baidu_soccer_embeddings.npy\n",
      "/scratch/users/mdelabrassinne/Database/italy_serie-a/2016-2017/2016-11-06 - 17-00 Palermo 1 - 2 AC Milan/2_baidu_soccer_embeddings.npy\n",
      "/scratch/users/mdelabrassinne/Database/italy_serie-a/2016-2017/2016-11-06_-_17-00_Palermo_1_-_2_AC_Milan/Labels-v2.json\n",
      "/scratch/users/mdelabrassinne/Database/italy_serie-a/2016-2017/2016-11-06 - 22-45 AS Roma 3 - 0 Bologna/1_baidu_soccer_embeddings.npy\n",
      "/scratch/users/mdelabrassinne/Database/italy_serie-a/2016-2017/2016-11-06 - 22-45 AS Roma 3 - 0 Bologna/2_baidu_soccer_embeddings.npy\n",
      "/scratch/users/mdelabrassinne/Database/italy_serie-a/2016-2017/2016-11-06_-_22-45_AS_Roma_3_-_0_Bologna/Labels-v2.json\n"
     ]
    },
    {
     "name": "stderr",
     "output_type": "stream",
     "text": [
      "63305it [00:46, 1338.74it/s]"
     ]
    },
    {
     "name": "stdout",
     "output_type": "stream",
     "text": [
      "/scratch/users/mdelabrassinne/Database/italy_serie-a/2016-2017/2016-11-20 - 22-45 AC Milan 2 - 2 Inter/1_baidu_soccer_embeddings.npy\n",
      "/scratch/users/mdelabrassinne/Database/italy_serie-a/2016-2017/2016-11-20 - 22-45 AC Milan 2 - 2 Inter/2_baidu_soccer_embeddings.npy\n",
      "/scratch/users/mdelabrassinne/Database/italy_serie-a/2016-2017/2016-11-20_-_22-45_AC_Milan_2_-_2_Inter/Labels-v2.json\n",
      "/scratch/users/mdelabrassinne/Database/italy_serie-a/2016-2017/2016-11-27 - 22-45 AS Roma 3 - 2 Pescara/1_baidu_soccer_embeddings.npy\n",
      "/scratch/users/mdelabrassinne/Database/italy_serie-a/2016-2017/2016-11-27 - 22-45 AS Roma 3 - 2 Pescara/2_baidu_soccer_embeddings.npy\n",
      "/scratch/users/mdelabrassinne/Database/italy_serie-a/2016-2017/2016-11-27_-_22-45_AS_Roma_3_-_2_Pescara/Labels-v2.json\n"
     ]
    },
    {
     "name": "stderr",
     "output_type": "stream",
     "text": [
      "63860it [00:46, 1363.72it/s]"
     ]
    },
    {
     "name": "stdout",
     "output_type": "stream",
     "text": [
      "/scratch/users/mdelabrassinne/Database/italy_serie-a/2016-2017/2016-12-04 - 14-30 AC Milan 2 - 1 Crotone/1_baidu_soccer_embeddings.npy\n",
      "/scratch/users/mdelabrassinne/Database/italy_serie-a/2016-2017/2016-12-04 - 14-30 AC Milan 2 - 1 Crotone/2_baidu_soccer_embeddings.npy\n",
      "/scratch/users/mdelabrassinne/Database/italy_serie-a/2016-2017/2016-12-04_-_14-30_AC_Milan_2_-_1_Crotone/Labels-v2.json\n",
      "/scratch/users/mdelabrassinne/Database/italy_serie-a/2016-2017/2016-12-17 - 20-00 AC Milan 0 - 0 Atalanta/1_baidu_soccer_embeddings.npy\n",
      "/scratch/users/mdelabrassinne/Database/italy_serie-a/2016-2017/2016-12-17 - 20-00 AC Milan 0 - 0 Atalanta/2_baidu_soccer_embeddings.npy\n",
      "/scratch/users/mdelabrassinne/Database/italy_serie-a/2016-2017/2016-12-17_-_20-00_AC_Milan_0_-_0_Atalanta/Labels-v2.json\n"
     ]
    },
    {
     "name": "stderr",
     "output_type": "stream",
     "text": [
      "64287it [00:46, 1398.44it/s]"
     ]
    },
    {
     "name": "stdout",
     "output_type": "stream",
     "text": [
      "/scratch/users/mdelabrassinne/Database/italy_serie-a/2016-2017/2016-12-22 - 22-45 AS Roma 3 - 1 Chievo/1_baidu_soccer_embeddings.npy\n",
      "/scratch/users/mdelabrassinne/Database/italy_serie-a/2016-2017/2016-12-22 - 22-45 AS Roma 3 - 1 Chievo/2_baidu_soccer_embeddings.npy\n",
      "/scratch/users/mdelabrassinne/Database/italy_serie-a/2016-2017/2016-12-22_-_22-45_AS_Roma_3_-_1_Chievo/Labels-v2.json\n",
      "/scratch/users/mdelabrassinne/Database/italy_serie-a/2016-2017/2017-01-08 - 20-00 AC Milan 1 - 0 Cagliari/1_baidu_soccer_embeddings.npy\n",
      "/scratch/users/mdelabrassinne/Database/italy_serie-a/2016-2017/2017-01-08 - 20-00 AC Milan 1 - 0 Cagliari/2_baidu_soccer_embeddings.npy\n",
      "/scratch/users/mdelabrassinne/Database/italy_serie-a/2016-2017/2017-01-08_-_20-00_AC_Milan_1_-_0_Cagliari/Labels-v2.json\n"
     ]
    },
    {
     "name": "stderr",
     "output_type": "stream",
     "text": [
      "64713it [00:47, 1376.52it/s]"
     ]
    },
    {
     "name": "stdout",
     "output_type": "stream",
     "text": [
      "/scratch/users/mdelabrassinne/Database/italy_serie-a/2016-2017/2017-01-15 - 17-00 Napoli 3 - 1 Pescara/1_baidu_soccer_embeddings.npy\n",
      "/scratch/users/mdelabrassinne/Database/italy_serie-a/2016-2017/2017-01-15 - 17-00 Napoli 3 - 1 Pescara/2_baidu_soccer_embeddings.npy\n",
      "/scratch/users/mdelabrassinne/Database/italy_serie-a/2016-2017/2017-01-15_-_17-00_Napoli_3_-_1_Pescara/Labels-v2.json\n",
      "/scratch/users/mdelabrassinne/Database/italy_serie-a/2016-2017/2017-01-15 - 17-00 Udinese 0 - 1 AS Roma/1_baidu_soccer_embeddings.npy\n",
      "/scratch/users/mdelabrassinne/Database/italy_serie-a/2016-2017/2017-01-15 - 17-00 Udinese 0 - 1 AS Roma/2_baidu_soccer_embeddings.npy\n",
      "/scratch/users/mdelabrassinne/Database/italy_serie-a/2016-2017/2017-01-15_-_17-00_Udinese_0_-_1_AS_Roma/Labels-v2.json\n"
     ]
    },
    {
     "name": "stderr",
     "output_type": "stream",
     "text": [
      "65146it [00:47, 1420.94it/s]"
     ]
    },
    {
     "name": "stdout",
     "output_type": "stream",
     "text": [
      "/scratch/users/mdelabrassinne/Database/italy_serie-a/2016-2017/2017-01-21 - 22-45 AC Milan 1 - 2 Napoli/1_baidu_soccer_embeddings.npy\n",
      "/scratch/users/mdelabrassinne/Database/italy_serie-a/2016-2017/2017-01-21 - 22-45 AC Milan 1 - 2 Napoli/2_baidu_soccer_embeddings.npy\n",
      "/scratch/users/mdelabrassinne/Database/italy_serie-a/2016-2017/2017-01-21_-_22-45_AC_Milan_1_-_2_Napoli/Labels-v2.json\n",
      "/scratch/users/mdelabrassinne/Database/italy_serie-a/2016-2017/2017-02-04 - 22-45 Bologna 1 - 7 Napoli/1_baidu_soccer_embeddings.npy\n",
      "/scratch/users/mdelabrassinne/Database/italy_serie-a/2016-2017/2017-02-04 - 22-45 Bologna 1 - 7 Napoli/2_baidu_soccer_embeddings.npy\n",
      "/scratch/users/mdelabrassinne/Database/italy_serie-a/2016-2017/2017-02-04_-_22-45_Bologna_1_-_7_Napoli/Labels-v2.json\n"
     ]
    },
    {
     "name": "stderr",
     "output_type": "stream",
     "text": [
      "65568it [00:47, 1369.91it/s]"
     ]
    },
    {
     "name": "stdout",
     "output_type": "stream",
     "text": [
      "/scratch/users/mdelabrassinne/Database/italy_serie-a/2016-2017/2017-02-10 - 22-45 Napoli 2 - 0 Genoa/1_baidu_soccer_embeddings.npy\n",
      "/scratch/users/mdelabrassinne/Database/italy_serie-a/2016-2017/2017-02-10 - 22-45 Napoli 2 - 0 Genoa/2_baidu_soccer_embeddings.npy\n",
      "/scratch/users/mdelabrassinne/Database/italy_serie-a/2016-2017/2017-02-10_-_22-45_Napoli_2_-_0_Genoa/Labels-v2.json\n",
      "/scratch/users/mdelabrassinne/Database/italy_serie-a/2016-2017/2017-02-12 - 14-30 Crotone 0 - 2 AS Roma/1_baidu_soccer_embeddings.npy\n",
      "/scratch/users/mdelabrassinne/Database/italy_serie-a/2016-2017/2017-02-12 - 14-30 Crotone 0 - 2 AS Roma/2_baidu_soccer_embeddings.npy\n",
      "/scratch/users/mdelabrassinne/Database/italy_serie-a/2016-2017/2017-02-12_-_14-30_Crotone_0_-_2_AS_Roma/Labels-v2.json\n"
     ]
    },
    {
     "name": "stderr",
     "output_type": "stream",
     "text": [
      "65980it [00:48, 1353.11it/s]"
     ]
    },
    {
     "name": "stdout",
     "output_type": "stream",
     "text": [
      "/scratch/users/mdelabrassinne/Database/italy_serie-a/2016-2017/2017-02-19 - 20-00 AS Roma 4 - 1 Torino/1_baidu_soccer_embeddings.npy\n",
      "/scratch/users/mdelabrassinne/Database/italy_serie-a/2016-2017/2017-02-19 - 20-00 AS Roma 4 - 1 Torino/2_baidu_soccer_embeddings.npy\n",
      "/scratch/users/mdelabrassinne/Database/italy_serie-a/2016-2017/2017-02-19_-_20-00_AS_Roma_4_-_1_Torino/Labels-v2.json\n",
      "/scratch/users/mdelabrassinne/Database/italy_serie-a/2016-2017/2017-03-04 - 17-00 AS Roma 1 - 2 Napoli/1_baidu_soccer_embeddings.npy\n",
      "/scratch/users/mdelabrassinne/Database/italy_serie-a/2016-2017/2017-03-04 - 17-00 AS Roma 1 - 2 Napoli/2_baidu_soccer_embeddings.npy\n",
      "/scratch/users/mdelabrassinne/Database/italy_serie-a/2016-2017/2017-03-04_-_17-00_AS_Roma_1_-_2_Napoli/Labels-v2.json\n"
     ]
    },
    {
     "name": "stderr",
     "output_type": "stream",
     "text": [
      "66394it [00:48, 1345.23it/s]"
     ]
    },
    {
     "name": "stdout",
     "output_type": "stream",
     "text": [
      "/scratch/users/mdelabrassinne/Database/italy_serie-a/2016-2017/2017-03-12 - 17-00 Napoli 3 - 0 Crotone/1_baidu_soccer_embeddings.npy\n",
      "/scratch/users/mdelabrassinne/Database/italy_serie-a/2016-2017/2017-03-12 - 17-00 Napoli 3 - 0 Crotone/2_baidu_soccer_embeddings.npy\n",
      "/scratch/users/mdelabrassinne/Database/italy_serie-a/2016-2017/2017-03-12_-_17-00_Napoli_3_-_0_Crotone/Labels-v2.json\n",
      "/scratch/users/mdelabrassinne/Database/italy_serie-a/2016-2017/2017-03-19 - 14-30 Empoli 2 - 3 Napoli/1_baidu_soccer_embeddings.npy\n",
      "/scratch/users/mdelabrassinne/Database/italy_serie-a/2016-2017/2017-03-19 - 14-30 Empoli 2 - 3 Napoli/2_baidu_soccer_embeddings.npy\n",
      "/scratch/users/mdelabrassinne/Database/italy_serie-a/2016-2017/2017-03-19_-_14-30_Empoli_2_-_3_Napoli/Labels-v2.json\n"
     ]
    },
    {
     "name": "stderr",
     "output_type": "stream",
     "text": [
      "66810it [00:48, 1366.36it/s]"
     ]
    },
    {
     "name": "stdout",
     "output_type": "stream",
     "text": [
      "/scratch/users/mdelabrassinne/Database/italy_serie-a/2016-2017/2017-03-19 - 22-45 AS Roma 3 - 1 Sassuolo/1_baidu_soccer_embeddings.npy\n",
      "/scratch/users/mdelabrassinne/Database/italy_serie-a/2016-2017/2017-03-19 - 22-45 AS Roma 3 - 1 Sassuolo/2_baidu_soccer_embeddings.npy\n",
      "/scratch/users/mdelabrassinne/Database/italy_serie-a/2016-2017/2017-03-19_-_22-45_AS_Roma_3_-_1_Sassuolo/Labels-v2.json\n",
      "/scratch/users/mdelabrassinne/Database/italy_serie-a/2016-2017/2017-04-09 - 16-00 Bologna 0 - 3 AS Roma/1_baidu_soccer_embeddings.npy\n",
      "/scratch/users/mdelabrassinne/Database/italy_serie-a/2016-2017/2017-04-09 - 16-00 Bologna 0 - 3 AS Roma/2_baidu_soccer_embeddings.npy\n",
      "/scratch/users/mdelabrassinne/Database/italy_serie-a/2016-2017/2017-04-09_-_16-00_Bologna_0_-_3_AS_Roma/Labels-v2.json\n"
     ]
    },
    {
     "name": "stderr",
     "output_type": "stream",
     "text": [
      "67231it [00:48, 1380.51it/s]"
     ]
    },
    {
     "name": "stdout",
     "output_type": "stream",
     "text": [
      "/scratch/users/mdelabrassinne/Database/italy_serie-a/2016-2017/2017-04-09 - 21-45 Lazio 0 - 3 Napoli/1_baidu_soccer_embeddings.npy\n",
      "/scratch/users/mdelabrassinne/Database/italy_serie-a/2016-2017/2017-04-09 - 21-45 Lazio 0 - 3 Napoli/2_baidu_soccer_embeddings.npy\n",
      "/scratch/users/mdelabrassinne/Database/italy_serie-a/2016-2017/2017-04-09_-_21-45_Lazio_0_-_3_Napoli/Labels-v2.json\n",
      "/scratch/users/mdelabrassinne/Database/italy_serie-a/2016-2017/2017-04-15 - 16-00 AS Roma 1 - 1 Atalanta/1_baidu_soccer_embeddings.npy\n",
      "/scratch/users/mdelabrassinne/Database/italy_serie-a/2016-2017/2017-04-15 - 16-00 AS Roma 1 - 1 Atalanta/2_baidu_soccer_embeddings.npy\n",
      "/scratch/users/mdelabrassinne/Database/italy_serie-a/2016-2017/2017-04-15_-_16-00_AS_Roma_1_-_1_Atalanta/Labels-v2.json\n"
     ]
    },
    {
     "name": "stderr",
     "output_type": "stream",
     "text": [
      "67641it [00:49, 1319.12it/s]"
     ]
    },
    {
     "name": "stdout",
     "output_type": "stream",
     "text": [
      "/scratch/users/mdelabrassinne/Database/italy_serie-a/2016-2017/2017-04-23 - 13-30 Sassuolo 2 - 2 Napoli/1_baidu_soccer_embeddings.npy\n",
      "/scratch/users/mdelabrassinne/Database/italy_serie-a/2016-2017/2017-04-23 - 13-30 Sassuolo 2 - 2 Napoli/2_baidu_soccer_embeddings.npy\n",
      "/scratch/users/mdelabrassinne/Database/italy_serie-a/2016-2017/2017-04-23_-_13-30_Sassuolo_2_-_2_Napoli/Labels-v2.json\n",
      "/scratch/users/mdelabrassinne/Database/italy_serie-a/2016-2017/2017-04-24 - 21-45 Pescara 1 - 4 AS Roma/1_baidu_soccer_embeddings.npy\n",
      "/scratch/users/mdelabrassinne/Database/italy_serie-a/2016-2017/2017-04-24 - 21-45 Pescara 1 - 4 AS Roma/2_baidu_soccer_embeddings.npy\n",
      "/scratch/users/mdelabrassinne/Database/italy_serie-a/2016-2017/2017-04-24_-_21-45_Pescara_1_-_4_AS_Roma/Labels-v2.json\n"
     ]
    },
    {
     "name": "stderr",
     "output_type": "stream",
     "text": [
      "68046it [00:49, 1335.40it/s]"
     ]
    },
    {
     "name": "stdout",
     "output_type": "stream",
     "text": [
      "/scratch/users/mdelabrassinne/Database/italy_serie-a/2016-2017/2017-05-07 - 21-45 AC Milan 1 - 4 AS Roma/1_baidu_soccer_embeddings.npy\n",
      "/scratch/users/mdelabrassinne/Database/italy_serie-a/2016-2017/2017-05-07 - 21-45 AC Milan 1 - 4 AS Roma/2_baidu_soccer_embeddings.npy\n",
      "/scratch/users/mdelabrassinne/Database/italy_serie-a/2016-2017/2017-05-07_-_21-45_AC_Milan_1_-_4_AS_Roma/Labels-v2.json\n",
      "/scratch/users/mdelabrassinne/Database/italy_serie-a/2016-2017/2017-05-14 - 16-00 Torino 0 - 5 Napoli/1_baidu_soccer_embeddings.npy\n",
      "/scratch/users/mdelabrassinne/Database/italy_serie-a/2016-2017/2017-05-14 - 16-00 Torino 0 - 5 Napoli/2_baidu_soccer_embeddings.npy\n",
      "/scratch/users/mdelabrassinne/Database/italy_serie-a/2016-2017/2017-05-14_-_16-00_Torino_0_-_5_Napoli/Labels-v2.json\n"
     ]
    },
    {
     "name": "stderr",
     "output_type": "stream",
     "text": [
      "68453it [00:49, 1334.16it/s]"
     ]
    },
    {
     "name": "stdout",
     "output_type": "stream",
     "text": [
      "/scratch/users/mdelabrassinne/Database/italy_serie-a/2016-2017/2017-05-14 - 21-45 AS Roma 3 - 1 Juventus/1_baidu_soccer_embeddings.npy\n",
      "/scratch/users/mdelabrassinne/Database/italy_serie-a/2016-2017/2017-05-14 - 21-45 AS Roma 3 - 1 Juventus/2_baidu_soccer_embeddings.npy\n",
      "/scratch/users/mdelabrassinne/Database/italy_serie-a/2016-2017/2017-05-14_-_21-45_AS_Roma_3_-_1_Juventus/Labels-v2.json\n",
      "/scratch/users/mdelabrassinne/Database/italy_serie-a/2016-2017/2017-05-20 - 19-00 Chievo 3 - 5 AS Roma/1_baidu_soccer_embeddings.npy\n",
      "/scratch/users/mdelabrassinne/Database/italy_serie-a/2016-2017/2017-05-20 - 19-00 Chievo 3 - 5 AS Roma/2_baidu_soccer_embeddings.npy\n",
      "/scratch/users/mdelabrassinne/Database/italy_serie-a/2016-2017/2017-05-20_-_19-00_Chievo_3_-_5_AS_Roma/Labels-v2.json\n"
     ]
    },
    {
     "name": "stderr",
     "output_type": "stream",
     "text": [
      "68860it [00:50, 1328.04it/s]"
     ]
    },
    {
     "name": "stdout",
     "output_type": "stream",
     "text": [
      "/scratch/users/mdelabrassinne/Database/italy_serie-a/2016-2017/2017-05-28 - 19-00 AS Roma 3 - 2 Genoa/1_baidu_soccer_embeddings.npy\n",
      "/scratch/users/mdelabrassinne/Database/italy_serie-a/2016-2017/2017-05-28 - 19-00 AS Roma 3 - 2 Genoa/2_baidu_soccer_embeddings.npy\n",
      "/scratch/users/mdelabrassinne/Database/italy_serie-a/2016-2017/2017-05-28_-_19-00_AS_Roma_3_-_2_Genoa/Labels-v2.json\n",
      "/scratch/users/mdelabrassinne/Database/italy_serie-a/2016-2017/2017-05-28 - 19-00 Sampdoria 2 - 4 Napoli/1_baidu_soccer_embeddings.npy\n",
      "/scratch/users/mdelabrassinne/Database/italy_serie-a/2016-2017/2017-05-28 - 19-00 Sampdoria 2 - 4 Napoli/2_baidu_soccer_embeddings.npy\n",
      "/scratch/users/mdelabrassinne/Database/italy_serie-a/2016-2017/2017-05-28_-_19-00_Sampdoria_2_-_4_Napoli/Labels-v2.json\n"
     ]
    },
    {
     "name": "stderr",
     "output_type": "stream",
     "text": [
      "69268it [00:50, 1317.89it/s]"
     ]
    },
    {
     "name": "stdout",
     "output_type": "stream",
     "text": [
      "/scratch/users/mdelabrassinne/Database/italy_serie-a/2016-2017/2016-08-20 - 19-00 AS Roma 4 - 0 Udinese/1_baidu_soccer_embeddings.npy\n",
      "/scratch/users/mdelabrassinne/Database/italy_serie-a/2016-2017/2016-08-20 - 19-00 AS Roma 4 - 0 Udinese/2_baidu_soccer_embeddings.npy\n",
      "/scratch/users/mdelabrassinne/Database/italy_serie-a/2016-2017/2016-08-20_-_19-00_AS_Roma_4_-_0_Udinese/Labels-v2.json\n",
      "/scratch/users/mdelabrassinne/Database/italy_serie-a/2016-2017/2016-09-18 - 21-45 Fiorentina 1 - 0 AS Roma/1_baidu_soccer_embeddings.npy\n",
      "/scratch/users/mdelabrassinne/Database/italy_serie-a/2016-2017/2016-09-18 - 21-45 Fiorentina 1 - 0 AS Roma/2_baidu_soccer_embeddings.npy\n",
      "/scratch/users/mdelabrassinne/Database/italy_serie-a/2016-2017/2016-09-18_-_21-45_Fiorentina_1_-_0_AS_Roma/Labels-v2.json\n"
     ]
    },
    {
     "name": "stderr",
     "output_type": "stream",
     "text": [
      "69690it [00:50, 1381.13it/s]"
     ]
    },
    {
     "name": "stdout",
     "output_type": "stream",
     "text": [
      "/scratch/users/mdelabrassinne/Database/italy_serie-a/2016-2017/2016-09-21 - 21-45 Genoa 0 - 0 Napoli/1_baidu_soccer_embeddings.npy\n",
      "/scratch/users/mdelabrassinne/Database/italy_serie-a/2016-2017/2016-09-21 - 21-45 Genoa 0 - 0 Napoli/2_baidu_soccer_embeddings.npy\n",
      "/scratch/users/mdelabrassinne/Database/italy_serie-a/2016-2017/2016-09-21_-_21-45_Genoa_0_-_0_Napoli/Labels-v2.json\n",
      "/scratch/users/mdelabrassinne/Database/italy_serie-a/2016-2017/2016-10-02 - 19-00 AC Milan 4 - 3 Sassuolo/1_baidu_soccer_embeddings.npy\n",
      "/scratch/users/mdelabrassinne/Database/italy_serie-a/2016-2017/2016-10-02 - 19-00 AC Milan 4 - 3 Sassuolo/2_baidu_soccer_embeddings.npy\n",
      "/scratch/users/mdelabrassinne/Database/italy_serie-a/2016-2017/2016-10-02_-_19-00_AC_Milan_4_-_3_Sassuolo/Labels-v2.json\n"
     ]
    },
    {
     "name": "stderr",
     "output_type": "stream",
     "text": [
      "70108it [00:51, 1375.12it/s]"
     ]
    },
    {
     "name": "stdout",
     "output_type": "stream",
     "text": [
      "/scratch/users/mdelabrassinne/Database/italy_serie-a/2016-2017/2016-10-29 - 21-45 Juventus 2 - 1 Napoli/1_baidu_soccer_embeddings.npy\n",
      "/scratch/users/mdelabrassinne/Database/italy_serie-a/2016-2017/2016-10-29 - 21-45 Juventus 2 - 1 Napoli/2_baidu_soccer_embeddings.npy\n",
      "/scratch/users/mdelabrassinne/Database/italy_serie-a/2016-2017/2016-10-29_-_21-45_Juventus_2_-_1_Napoli/Labels-v2.json\n",
      "/scratch/users/mdelabrassinne/Database/italy_serie-a/2016-2017/2016-11-05 - 22-45 Napoli 1 - 1 Lazio/1_baidu_soccer_embeddings.npy\n",
      "/scratch/users/mdelabrassinne/Database/italy_serie-a/2016-2017/2016-11-05 - 22-45 Napoli 1 - 1 Lazio/2_baidu_soccer_embeddings.npy\n",
      "/scratch/users/mdelabrassinne/Database/italy_serie-a/2016-2017/2016-11-05_-_22-45_Napoli_1_-_1_Lazio/Labels-v2.json\n"
     ]
    },
    {
     "name": "stderr",
     "output_type": "stream",
     "text": [
      "70397it [00:51, 1404.22it/s]"
     ]
    },
    {
     "name": "stdout",
     "output_type": "stream",
     "text": [
      "/scratch/users/mdelabrassinne/Database/italy_serie-a/2016-2017/2016-12-12 - 23-00 AS Roma 1 - 0 AC Milan/1_baidu_soccer_embeddings.npy\n",
      "/scratch/users/mdelabrassinne/Database/italy_serie-a/2016-2017/2016-12-12 - 23-00 AS Roma 1 - 0 AC Milan/2_baidu_soccer_embeddings.npy\n",
      "/scratch/users/mdelabrassinne/Database/italy_serie-a/2016-2017/2016-12-12_-_23-00_AS_Roma_1_-_0_AC_Milan/Labels-v2.json\n",
      "/scratch/users/mdelabrassinne/Database/italy_serie-a/2016-2017/2017-01-22 - 22-45 AS Roma 1 - 0 Cagliari/1_baidu_soccer_embeddings.npy\n",
      "/scratch/users/mdelabrassinne/Database/italy_serie-a/2016-2017/2017-01-22 - 22-45 AS Roma 1 - 0 Cagliari/2_baidu_soccer_embeddings.npy\n",
      "/scratch/users/mdelabrassinne/Database/italy_serie-a/2016-2017/2017-01-22_-_22-45_AS_Roma_1_-_0_Cagliari/Labels-v2.json\n"
     ]
    },
    {
     "name": "stderr",
     "output_type": "stream",
     "text": [
      "70944it [00:51, 1284.65it/s]"
     ]
    },
    {
     "name": "stdout",
     "output_type": "stream",
     "text": [
      "/scratch/users/mdelabrassinne/Database/italy_serie-a/2016-2017/2017-02-19 - 17-00 Chievo 1 - 3 Napoli/1_baidu_soccer_embeddings.npy\n",
      "/scratch/users/mdelabrassinne/Database/italy_serie-a/2016-2017/2017-02-19 - 17-00 Chievo 1 - 3 Napoli/2_baidu_soccer_embeddings.npy\n",
      "/scratch/users/mdelabrassinne/Database/italy_serie-a/2016-2017/2017-02-19_-_17-00_Chievo_1_-_3_Napoli/Labels-v2.json\n",
      "/scratch/users/mdelabrassinne/Database/italy_serie-a/2016-2017/2017-03-12 - 22-45 Palermo 0 - 3 AS Roma/1_baidu_soccer_embeddings.npy\n",
      "/scratch/users/mdelabrassinne/Database/italy_serie-a/2016-2017/2017-03-12 - 22-45 Palermo 0 - 3 AS Roma/2_baidu_soccer_embeddings.npy\n",
      "/scratch/users/mdelabrassinne/Database/italy_serie-a/2016-2017/2017-03-12_-_22-45_Palermo_0_-_3_AS_Roma/Labels-v2.json\n"
     ]
    },
    {
     "name": "stderr",
     "output_type": "stream",
     "text": [
      "71329it [00:52, 1265.49it/s]"
     ]
    },
    {
     "name": "stdout",
     "output_type": "stream",
     "text": [
      "/scratch/users/mdelabrassinne/Database/italy_serie-a/2016-2017/2017-04-02 - 21-45 Napoli 1 - 1 Juventus/1_baidu_soccer_embeddings.npy\n",
      "/scratch/users/mdelabrassinne/Database/italy_serie-a/2016-2017/2017-04-02 - 21-45 Napoli 1 - 1 Juventus/2_baidu_soccer_embeddings.npy\n",
      "/scratch/users/mdelabrassinne/Database/italy_serie-a/2016-2017/2017-04-02_-_21-45_Napoli_1_-_1_Juventus/Labels-v2.json\n",
      "/scratch/users/mdelabrassinne/Database/italy_serie-a/2016-2017/2017-04-15 - 21-45 Napoli 3 - 0 Udinese/1_baidu_soccer_embeddings.npy\n",
      "/scratch/users/mdelabrassinne/Database/italy_serie-a/2016-2017/2017-04-15 - 21-45 Napoli 3 - 0 Udinese/2_baidu_soccer_embeddings.npy\n",
      "/scratch/users/mdelabrassinne/Database/italy_serie-a/2016-2017/2017-04-15_-_21-45_Napoli_3_-_0_Udinese/Labels-v2.json\n"
     ]
    },
    {
     "name": "stderr",
     "output_type": "stream",
     "text": [
      "71727it [00:52, 1302.15it/s]"
     ]
    },
    {
     "name": "stdout",
     "output_type": "stream",
     "text": [
      "/scratch/users/mdelabrassinne/Database/italy_serie-a/2016-2017/2017-04-30 - 13-30 AS Roma 1 - 3 Lazio/1_baidu_soccer_embeddings.npy\n",
      "/scratch/users/mdelabrassinne/Database/italy_serie-a/2016-2017/2017-04-30 - 13-30 AS Roma 1 - 3 Lazio/2_baidu_soccer_embeddings.npy\n",
      "/scratch/users/mdelabrassinne/Database/italy_serie-a/2016-2017/2017-04-30_-_13-30_AS_Roma_1_-_3_Lazio/Labels-v2.json\n",
      "/scratch/users/mdelabrassinne/Database/italy_serie-a/2016-2017/2017-05-06 - 19-00 Napoli 3 - 1 Cagliari/1_baidu_soccer_embeddings.npy\n",
      "/scratch/users/mdelabrassinne/Database/italy_serie-a/2016-2017/2017-05-06 - 19-00 Napoli 3 - 1 Cagliari/2_baidu_soccer_embeddings.npy\n",
      "/scratch/users/mdelabrassinne/Database/italy_serie-a/2016-2017/2017-05-06_-_19-00_Napoli_3_-_1_Cagliari/Labels-v2.json\n"
     ]
    },
    {
     "name": "stderr",
     "output_type": "stream",
     "text": [
      "72137it [00:52, 1345.75it/s]"
     ]
    },
    {
     "name": "stdout",
     "output_type": "stream",
     "text": [
      "/scratch/users/mdelabrassinne/Database/italy_serie-a/2016-2017/2016-08-27 - 21-45 Napoli 4 - 2 AC Milan/1_baidu_soccer_embeddings.npy\n",
      "/scratch/users/mdelabrassinne/Database/italy_serie-a/2016-2017/2016-08-27 - 21-45 Napoli 4 - 2 AC Milan/2_baidu_soccer_embeddings.npy\n",
      "/scratch/users/mdelabrassinne/Database/italy_serie-a/2016-2017/2016-08-27_-_21-45_Napoli_4_-_2_AC_Milan/Labels-v2.json\n",
      "/scratch/users/mdelabrassinne/Database/italy_serie-a/2016-2017/2016-09-11 - 16-00 AC Milan 0 - 1 Udinese/1_baidu_soccer_embeddings.npy\n",
      "/scratch/users/mdelabrassinne/Database/italy_serie-a/2016-2017/2016-09-11 - 16-00 AC Milan 0 - 1 Udinese/2_baidu_soccer_embeddings.npy\n",
      "/scratch/users/mdelabrassinne/Database/italy_serie-a/2016-2017/2016-09-11_-_16-00_AC_Milan_0_-_1_Udinese/Labels-v2.json\n"
     ]
    },
    {
     "name": "stderr",
     "output_type": "stream",
     "text": [
      "72554it [00:52, 1358.02it/s]"
     ]
    },
    {
     "name": "stdout",
     "output_type": "stream",
     "text": [
      "/scratch/users/mdelabrassinne/Database/italy_serie-a/2016-2017/2016-09-20 - 21-45 AC Milan 2 - 0 Lazio/1_baidu_soccer_embeddings.npy\n",
      "/scratch/users/mdelabrassinne/Database/italy_serie-a/2016-2017/2016-09-20 - 21-45 AC Milan 2 - 0 Lazio/2_baidu_soccer_embeddings.npy\n",
      "/scratch/users/mdelabrassinne/Database/italy_serie-a/2016-2017/2016-09-20_-_21-45_AC_Milan_2_-_0_Lazio/Labels-v2.json\n",
      "/scratch/users/mdelabrassinne/Database/italy_serie-a/2016-2017/2016-09-24 - 21-45 Napoli 2 - 0 Chievo/1_baidu_soccer_embeddings.npy\n",
      "/scratch/users/mdelabrassinne/Database/italy_serie-a/2016-2017/2016-09-24 - 21-45 Napoli 2 - 0 Chievo/2_baidu_soccer_embeddings.npy\n",
      "/scratch/users/mdelabrassinne/Database/italy_serie-a/2016-2017/2016-09-24_-_21-45_Napoli_2_-_0_Chievo/Labels-v2.json\n"
     ]
    },
    {
     "name": "stderr",
     "output_type": "stream",
     "text": [
      "72972it [00:53, 1367.49it/s]"
     ]
    },
    {
     "name": "stdout",
     "output_type": "stream",
     "text": [
      "/scratch/users/mdelabrassinne/Database/italy_serie-a/2016-2017/2016-09-25 - 13-30 Torino 3 - 1 AS Roma/1_baidu_soccer_embeddings.npy\n",
      "/scratch/users/mdelabrassinne/Database/italy_serie-a/2016-2017/2016-09-25 - 13-30 Torino 3 - 1 AS Roma/2_baidu_soccer_embeddings.npy\n",
      "/scratch/users/mdelabrassinne/Database/italy_serie-a/2016-2017/2016-09-25_-_13-30_Torino_3_-_1_AS_Roma/Labels-v2.json\n",
      "/scratch/users/mdelabrassinne/Database/italy_serie-a/2016-2017/2016-09-25 - 21-45 Fiorentina 0 - 0 AC Milan/1_baidu_soccer_embeddings.npy\n",
      "/scratch/users/mdelabrassinne/Database/italy_serie-a/2016-2017/2016-09-25 - 21-45 Fiorentina 0 - 0 AC Milan/2_baidu_soccer_embeddings.npy\n",
      "/scratch/users/mdelabrassinne/Database/italy_serie-a/2016-2017/2016-09-25_-_21-45_Fiorentina_0_-_0_AC_Milan/Labels-v2.json\n"
     ]
    },
    {
     "name": "stderr",
     "output_type": "stream",
     "text": [
      "73386it [00:53, 1344.66it/s]"
     ]
    },
    {
     "name": "stdout",
     "output_type": "stream",
     "text": [
      "/scratch/users/mdelabrassinne/Database/italy_serie-a/2016-2017/2016-10-02 - 21-45 AS Roma 2 - 1 Inter/1_baidu_soccer_embeddings.npy\n",
      "/scratch/users/mdelabrassinne/Database/italy_serie-a/2016-2017/2016-10-02 - 21-45 AS Roma 2 - 1 Inter/2_baidu_soccer_embeddings.npy\n",
      "/scratch/users/mdelabrassinne/Database/italy_serie-a/2016-2017/2016-10-02_-_21-45_AS_Roma_2_-_1_Inter/Labels-v2.json\n",
      "/scratch/users/mdelabrassinne/Database/italy_serie-a/2016-2017/2016-11-20 - 17-00 Atalanta 2 - 1 AS Roma/1_baidu_soccer_embeddings.npy\n",
      "/scratch/users/mdelabrassinne/Database/italy_serie-a/2016-2017/2016-11-20 - 17-00 Atalanta 2 - 1 AS Roma/2_baidu_soccer_embeddings.npy\n",
      "/scratch/users/mdelabrassinne/Database/italy_serie-a/2016-2017/2016-11-20_-_17-00_Atalanta_2_-_1_AS_Roma/Labels-v2.json\n"
     ]
    },
    {
     "name": "stderr",
     "output_type": "stream",
     "text": [
      "73804it [00:53, 1382.13it/s]"
     ]
    },
    {
     "name": "stdout",
     "output_type": "stream",
     "text": [
      "/scratch/users/mdelabrassinne/Database/italy_serie-a/2016-2017/2016-11-26 - 22-45 Empoli 1 - 4 AC Milan/1_baidu_soccer_embeddings.npy\n",
      "/scratch/users/mdelabrassinne/Database/italy_serie-a/2016-2017/2016-11-26 - 22-45 Empoli 1 - 4 AC Milan/2_baidu_soccer_embeddings.npy\n",
      "/scratch/users/mdelabrassinne/Database/italy_serie-a/2016-2017/2016-11-26_-_22-45_Empoli_1_-_4_AC_Milan/Labels-v2.json\n",
      "/scratch/users/mdelabrassinne/Database/italy_serie-a/2016-2017/2016-12-04 - 17-00 Lazio 0 - 2 AS Roma/1_baidu_soccer_embeddings.npy\n",
      "/scratch/users/mdelabrassinne/Database/italy_serie-a/2016-2017/2016-12-04 - 17-00 Lazio 0 - 2 AS Roma/2_baidu_soccer_embeddings.npy\n",
      "/scratch/users/mdelabrassinne/Database/italy_serie-a/2016-2017/2016-12-04_-_17-00_Lazio_0_-_2_AS_Roma/Labels-v2.json\n"
     ]
    },
    {
     "name": "stderr",
     "output_type": "stream",
     "text": [
      "74354it [00:54, 1336.50it/s]"
     ]
    },
    {
     "name": "stdout",
     "output_type": "stream",
     "text": [
      "/scratch/users/mdelabrassinne/Database/italy_serie-a/2016-2017/2017-01-08 - 17-00 Genoa 0 - 1 AS Roma/1_baidu_soccer_embeddings.npy\n",
      "/scratch/users/mdelabrassinne/Database/italy_serie-a/2016-2017/2017-01-08 - 17-00 Genoa 0 - 1 AS Roma/2_baidu_soccer_embeddings.npy\n",
      "/scratch/users/mdelabrassinne/Database/italy_serie-a/2016-2017/2017-01-08_-_17-00_Genoa_0_-_1_AS_Roma/Labels-v2.json\n",
      "/scratch/users/mdelabrassinne/Database/italy_serie-a/2016-2017/2017-01-29 - 17-00 Sampdoria 3 - 2 AS Roma/1_baidu_soccer_embeddings.npy\n",
      "/scratch/users/mdelabrassinne/Database/italy_serie-a/2016-2017/2017-01-29 - 17-00 Sampdoria 3 - 2 AS Roma/2_baidu_soccer_embeddings.npy\n",
      "/scratch/users/mdelabrassinne/Database/italy_serie-a/2016-2017/2017-01-29_-_17-00_Sampdoria_3_-_2_AS_Roma/Labels-v2.json\n"
     ]
    },
    {
     "name": "stderr",
     "output_type": "stream",
     "text": [
      "74755it [00:54, 1308.34it/s]"
     ]
    },
    {
     "name": "stdout",
     "output_type": "stream",
     "text": [
      "/scratch/users/mdelabrassinne/Database/italy_serie-a/2016-2017/2017-02-07 - 22-45 AS Roma 4 - 0 Fiorentina/1_baidu_soccer_embeddings.npy\n",
      "/scratch/users/mdelabrassinne/Database/italy_serie-a/2016-2017/2017-02-07 - 22-45 AS Roma 4 - 0 Fiorentina/2_baidu_soccer_embeddings.npy\n",
      "/scratch/users/mdelabrassinne/Database/italy_serie-a/2016-2017/2017-02-07_-_22-45_AS_Roma_4_-_0_Fiorentina/Labels-v2.json\n",
      "/scratch/users/mdelabrassinne/Database/italy_serie-a/2016-2017/2017-02-25 - 20-00 Napoli 0 - 2 Atalanta/1_baidu_soccer_embeddings.npy\n",
      "/scratch/users/mdelabrassinne/Database/italy_serie-a/2016-2017/2017-02-25 - 20-00 Napoli 0 - 2 Atalanta/2_baidu_soccer_embeddings.npy\n",
      "/scratch/users/mdelabrassinne/Database/italy_serie-a/2016-2017/2017-02-25_-_20-00_Napoli_0_-_2_Atalanta/Labels-v2.json\n"
     ]
    },
    {
     "name": "stderr",
     "output_type": "stream",
     "text": [
      "75158it [00:54, 1333.32it/s]"
     ]
    },
    {
     "name": "stdout",
     "output_type": "stream",
     "text": [
      "/scratch/users/mdelabrassinne/Database/italy_serie-a/2016-2017/2016-08-21 - 21-45 Pescara 2 - 2 Napoli/1_baidu_soccer_embeddings.npy\n",
      "/scratch/users/mdelabrassinne/Database/italy_serie-a/2016-2017/2016-08-21 - 21-45 Pescara 2 - 2 Napoli/2_baidu_soccer_embeddings.npy\n",
      "/scratch/users/mdelabrassinne/Database/italy_serie-a/2016-2017/2016-08-21_-_21-45_Pescara_2_-_2_Napoli/Labels-v2.json\n",
      "/scratch/users/mdelabrassinne/Database/italy_serie-a/2016-2017/2017-02-26 - 22-45 Inter 1 - 3 AS Roma/1_baidu_soccer_embeddings.npy\n",
      "/scratch/users/mdelabrassinne/Database/italy_serie-a/2016-2017/2017-02-26 - 22-45 Inter 1 - 3 AS Roma/2_baidu_soccer_embeddings.npy\n",
      "/scratch/users/mdelabrassinne/Database/italy_serie-a/2016-2017/2017-02-26_-_22-45_Inter_1_-_3_AS_Roma/Labels-v2.json\n"
     ]
    },
    {
     "name": "stderr",
     "output_type": "stream",
     "text": [
      "75575it [00:55, 1371.69it/s]"
     ]
    },
    {
     "name": "stdout",
     "output_type": "stream",
     "text": [
      "/scratch/users/mdelabrassinne/Database/italy_serie-a/2016-2017/2017-04-01 - 21-45 AS Roma 2 - 0 Empoli/1_baidu_soccer_embeddings.npy\n",
      "/scratch/users/mdelabrassinne/Database/italy_serie-a/2016-2017/2017-04-01 - 21-45 AS Roma 2 - 0 Empoli/2_baidu_soccer_embeddings.npy\n",
      "/scratch/users/mdelabrassinne/Database/italy_serie-a/2016-2017/2017-04-01_-_21-45_AS_Roma_2_-_0_Empoli/Labels-v2.json\n",
      "/scratch/users/mdelabrassinne/Database/italy_serie-a/2016-2017/2017-04-30 - 21-45 Inter 0 - 1 Napoli/1_baidu_soccer_embeddings.npy\n",
      "/scratch/users/mdelabrassinne/Database/italy_serie-a/2016-2017/2017-04-30 - 21-45 Inter 0 - 1 Napoli/2_baidu_soccer_embeddings.npy\n",
      "/scratch/users/mdelabrassinne/Database/italy_serie-a/2016-2017/2017-04-30_-_21-45_Inter_0_-_1_Napoli/Labels-v2.json\n"
     ]
    },
    {
     "name": "stderr",
     "output_type": "stream",
     "text": [
      "75984it [00:55, 1341.99it/s]"
     ]
    },
    {
     "name": "stdout",
     "output_type": "stream",
     "text": [
      "/scratch/users/mdelabrassinne/Database/italy_serie-a/2016-2017/2017-05-20 - 21-45 Napoli 4 - 1 Fiorentina/1_baidu_soccer_embeddings.npy\n",
      "/scratch/users/mdelabrassinne/Database/italy_serie-a/2016-2017/2017-05-20 - 21-45 Napoli 4 - 1 Fiorentina/2_baidu_soccer_embeddings.npy\n",
      "/scratch/users/mdelabrassinne/Database/italy_serie-a/2016-2017/2017-05-20_-_21-45_Napoli_4_-_1_Fiorentina/Labels-v2.json\n",
      "/scratch/users/mdelabrassinne/Database/spain_laliga/2014-2015/2015-02-21 - 18-00 Barcelona 0 - 1 Malaga/1_baidu_soccer_embeddings.npy\n",
      "/scratch/users/mdelabrassinne/Database/spain_laliga/2014-2015/2015-02-21 - 18-00 Barcelona 0 - 1 Malaga/2_baidu_soccer_embeddings.npy\n",
      "/scratch/users/mdelabrassinne/Database/spain_laliga/2014-2015/2015-02-21_-_18-00_Barcelona_0_-_1_Malaga/Labels-v2.json\n"
     ]
    },
    {
     "name": "stderr",
     "output_type": "stream",
     "text": [
      "76567it [00:55, 1357.18it/s]"
     ]
    },
    {
     "name": "stdout",
     "output_type": "stream",
     "text": [
      "/scratch/users/mdelabrassinne/Database/spain_laliga/2014-2015/2015-02-22 - 23-00 Elche 0 - 2 Real Madrid/1_baidu_soccer_embeddings.npy\n",
      "/scratch/users/mdelabrassinne/Database/spain_laliga/2014-2015/2015-02-22 - 23-00 Elche 0 - 2 Real Madrid/2_baidu_soccer_embeddings.npy\n",
      "/scratch/users/mdelabrassinne/Database/spain_laliga/2014-2015/2015-02-22_-_23-00_Elche_0_-_2_Real_Madrid/Labels-v2.json\n",
      "/scratch/users/mdelabrassinne/Database/spain_laliga/2014-2015/2015-05-09 - 21-00 Real Madrid 2 - 2 Valencia/1_baidu_soccer_embeddings.npy\n",
      "/scratch/users/mdelabrassinne/Database/spain_laliga/2014-2015/2015-05-09 - 21-00 Real Madrid 2 - 2 Valencia/2_baidu_soccer_embeddings.npy\n",
      "/scratch/users/mdelabrassinne/Database/spain_laliga/2014-2015/2015-05-09_-_21-00_Real_Madrid_2_-_2_Valencia/Labels-v2.json\n"
     ]
    },
    {
     "name": "stderr",
     "output_type": "stream",
     "text": [
      "76974it [00:56, 1314.71it/s]"
     ]
    },
    {
     "name": "stdout",
     "output_type": "stream",
     "text": [
      "/scratch/users/mdelabrassinne/Database/spain_laliga/2014-2015/2015-05-17 - 20-00 Atl. Madrid 0 - 1 Barcelona/1_baidu_soccer_embeddings.npy\n",
      "/scratch/users/mdelabrassinne/Database/spain_laliga/2014-2015/2015-05-17 - 20-00 Atl. Madrid 0 - 1 Barcelona/2_baidu_soccer_embeddings.npy\n",
      "/scratch/users/mdelabrassinne/Database/spain_laliga/2014-2015/2015-05-17_-_20-00_Atl._Madrid_0_-_1_Barcelona/Labels-v2.json\n",
      "/scratch/users/mdelabrassinne/Database/spain_laliga/2014-2015/2015-05-17 - 20-00 Espanyol 1 - 4 Real Madrid/1_baidu_soccer_embeddings.npy\n",
      "/scratch/users/mdelabrassinne/Database/spain_laliga/2014-2015/2015-05-17 - 20-00 Espanyol 1 - 4 Real Madrid/2_baidu_soccer_embeddings.npy\n",
      "/scratch/users/mdelabrassinne/Database/spain_laliga/2014-2015/2015-05-17_-_20-00_Espanyol_1_-_4_Real_Madrid/Labels-v2.json\n"
     ]
    },
    {
     "name": "stderr",
     "output_type": "stream",
     "text": [
      "77376it [00:56, 1324.00it/s]"
     ]
    },
    {
     "name": "stdout",
     "output_type": "stream",
     "text": [
      "/scratch/users/mdelabrassinne/Database/spain_laliga/2014-2015/2015-05-23 - 19-30 Barcelona 2 - 2 Dep. La Coruna/1_baidu_soccer_embeddings.npy\n",
      "/scratch/users/mdelabrassinne/Database/spain_laliga/2014-2015/2015-05-23 - 19-30 Barcelona 2 - 2 Dep. La Coruna/2_baidu_soccer_embeddings.npy\n",
      "/scratch/users/mdelabrassinne/Database/spain_laliga/2014-2015/2015-05-23_-_19-30_Barcelona_2_-_2_Dep._La_Coruna/Labels-v2.json\n",
      "/scratch/users/mdelabrassinne/Database/spain_laliga/2014-2015/2015-04-11 - 17-00 Real Madrid 3 - 0 Eibar/1_baidu_soccer_embeddings.npy\n",
      "/scratch/users/mdelabrassinne/Database/spain_laliga/2014-2015/2015-04-11 - 17-00 Real Madrid 3 - 0 Eibar/2_baidu_soccer_embeddings.npy\n",
      "/scratch/users/mdelabrassinne/Database/spain_laliga/2014-2015/2015-04-11_-_17-00_Real_Madrid_3_-_0_Eibar/Labels-v2.json\n"
     ]
    },
    {
     "name": "stderr",
     "output_type": "stream",
     "text": [
      "77648it [00:56, 1341.29it/s]"
     ]
    },
    {
     "name": "stdout",
     "output_type": "stream",
     "text": [
      "/scratch/users/mdelabrassinne/Database/spain_laliga/2014-2015/2015-04-11 - 21-00 Sevilla 2 - 2 Barcelona/1_baidu_soccer_embeddings.npy\n",
      "/scratch/users/mdelabrassinne/Database/spain_laliga/2014-2015/2015-04-11 - 21-00 Sevilla 2 - 2 Barcelona/2_baidu_soccer_embeddings.npy\n",
      "/scratch/users/mdelabrassinne/Database/spain_laliga/2014-2015/2015-04-11_-_21-00_Sevilla_2_-_2_Barcelona/Labels-v2.json\n",
      "/scratch/users/mdelabrassinne/Database/spain_laliga/2014-2015/2015-04-28 - 21-00 Barcelona 6 - 0 Getafe/1_baidu_soccer_embeddings.npy\n",
      "/scratch/users/mdelabrassinne/Database/spain_laliga/2014-2015/2015-04-28 - 21-00 Barcelona 6 - 0 Getafe/2_baidu_soccer_embeddings.npy\n",
      "/scratch/users/mdelabrassinne/Database/spain_laliga/2014-2015/2015-04-28_-_21-00_Barcelona_6_-_0_Getafe/Labels-v2.json\n"
     ]
    },
    {
     "name": "stderr",
     "output_type": "stream",
     "text": [
      "78050it [00:57, 1324.59it/s]"
     ]
    },
    {
     "name": "stdout",
     "output_type": "stream",
     "text": [
      "/scratch/users/mdelabrassinne/Database/spain_laliga/2014-2015/2015-05-02 - 19-00 Atl. Madrid 0 - 0 Ath Bilbao/1_baidu_soccer_embeddings.npy\n",
      "/scratch/users/mdelabrassinne/Database/spain_laliga/2014-2015/2015-05-02 - 19-00 Atl. Madrid 0 - 0 Ath Bilbao/2_baidu_soccer_embeddings.npy\n",
      "/scratch/users/mdelabrassinne/Database/spain_laliga/2014-2015/2015-05-02_-_19-00_Atl._Madrid_0_-_0_Ath_Bilbao/Labels-v2.json\n",
      "/scratch/users/mdelabrassinne/Database/spain_laliga/2014-2015/2015-05-02 - 21-00 Sevilla 2 - 3 Real Madrid/1_baidu_soccer_embeddings.npy\n",
      "/scratch/users/mdelabrassinne/Database/spain_laliga/2014-2015/2015-05-02 - 21-00 Sevilla 2 - 3 Real Madrid/2_baidu_soccer_embeddings.npy\n",
      "/scratch/users/mdelabrassinne/Database/spain_laliga/2014-2015/2015-05-02_-_21-00_Sevilla_2_-_3_Real_Madrid/Labels-v2.json\n"
     ]
    },
    {
     "name": "stderr",
     "output_type": "stream",
     "text": [
      "78454it [00:57, 1327.17it/s]"
     ]
    },
    {
     "name": "stdout",
     "output_type": "stream",
     "text": [
      "/scratch/users/mdelabrassinne/Database/spain_laliga/2014-2015/2015-05-23 - 21-30 Real Madrid 7 - 3 Getafe/1_baidu_soccer_embeddings.npy\n",
      "/scratch/users/mdelabrassinne/Database/spain_laliga/2014-2015/2015-05-23 - 21-30 Real Madrid 7 - 3 Getafe/2_baidu_soccer_embeddings.npy\n",
      "/scratch/users/mdelabrassinne/Database/spain_laliga/2014-2015/2015-05-23_-_21-30_Real_Madrid_7_-_3_Getafe/Labels-v2.json\n",
      "/scratch/users/mdelabrassinne/Database/spain_laliga/2014-2015/2015-02-14 - 20-00 Real Madrid 2 - 0 Dep. La Coruna/1_baidu_soccer_embeddings.npy\n",
      "/scratch/users/mdelabrassinne/Database/spain_laliga/2014-2015/2015-02-14 - 20-00 Real Madrid 2 - 0 Dep. La Coruna/2_baidu_soccer_embeddings.npy\n",
      "/scratch/users/mdelabrassinne/Database/spain_laliga/2014-2015/2015-02-14_-_20-00_Real_Madrid_2_-_0_Dep._La_Coruna/Labels-v2.json\n"
     ]
    },
    {
     "name": "stderr",
     "output_type": "stream",
     "text": [
      "78881it [00:57, 1396.98it/s]"
     ]
    },
    {
     "name": "stdout",
     "output_type": "stream",
     "text": [
      "/scratch/users/mdelabrassinne/Database/spain_laliga/2014-2015/2015-04-18 - 21-00 Real Madrid 3 - 1 Malaga/1_baidu_soccer_embeddings.npy\n",
      "/scratch/users/mdelabrassinne/Database/spain_laliga/2014-2015/2015-04-18 - 21-00 Real Madrid 3 - 1 Malaga/2_baidu_soccer_embeddings.npy\n",
      "/scratch/users/mdelabrassinne/Database/spain_laliga/2014-2015/2015-04-18_-_21-00_Real_Madrid_3_-_1_Malaga/Labels-v2.json\n",
      "/scratch/users/mdelabrassinne/Database/spain_laliga/2014-2015/2015-04-25 - 17-00 Espanyol 0 - 2 Barcelona/1_baidu_soccer_embeddings.npy\n",
      "/scratch/users/mdelabrassinne/Database/spain_laliga/2014-2015/2015-04-25 - 17-00 Espanyol 0 - 2 Barcelona/2_baidu_soccer_embeddings.npy\n",
      "/scratch/users/mdelabrassinne/Database/spain_laliga/2014-2015/2015-04-25_-_17-00_Espanyol_0_-_2_Barcelona/Labels-v2.json\n"
     ]
    },
    {
     "name": "stderr",
     "output_type": "stream",
     "text": [
      "79308it [00:57, 1409.55it/s]"
     ]
    },
    {
     "name": "stdout",
     "output_type": "stream",
     "text": [
      "/scratch/users/mdelabrassinne/Database/spain_laliga/2014-2015/2015-04-29 - 21-00 Real Madrid 3 - 0 Almeria/1_baidu_soccer_embeddings.npy\n",
      "/scratch/users/mdelabrassinne/Database/spain_laliga/2014-2015/2015-04-29 - 21-00 Real Madrid 3 - 0 Almeria/2_baidu_soccer_embeddings.npy\n",
      "/scratch/users/mdelabrassinne/Database/spain_laliga/2014-2015/2015-04-29_-_21-00_Real_Madrid_3_-_0_Almeria/Labels-v2.json\n",
      "/scratch/users/mdelabrassinne/Database/spain_laliga/2014-2015/2015-05-02 - 17-00 Cordoba 0 - 8 Barcelona/1_baidu_soccer_embeddings.npy\n",
      "/scratch/users/mdelabrassinne/Database/spain_laliga/2014-2015/2015-05-02 - 17-00 Cordoba 0 - 8 Barcelona/2_baidu_soccer_embeddings.npy\n",
      "/scratch/users/mdelabrassinne/Database/spain_laliga/2014-2015/2015-05-02_-_17-00_Cordoba_0_-_8_Barcelona/Labels-v2.json\n"
     ]
    },
    {
     "name": "stderr",
     "output_type": "stream",
     "text": [
      "79740it [00:58, 1425.94it/s]"
     ]
    },
    {
     "name": "stdout",
     "output_type": "stream",
     "text": [
      "/scratch/users/mdelabrassinne/Database/spain_laliga/2014-2015/2015-05-09 - 19-00 Barcelona 2 - 0 Real Sociedad/1_baidu_soccer_embeddings.npy\n",
      "/scratch/users/mdelabrassinne/Database/spain_laliga/2014-2015/2015-05-09 - 19-00 Barcelona 2 - 0 Real Sociedad/2_baidu_soccer_embeddings.npy\n",
      "/scratch/users/mdelabrassinne/Database/spain_laliga/2014-2015/2015-05-09_-_19-00_Barcelona_2_-_0_Real_Sociedad/Labels-v2.json\n",
      "/scratch/users/mdelabrassinne/Database/spain_laliga/2015-2016/2016-04-02 - 21-30 Barcelona 1 - 2 Real Madrid/1_baidu_soccer_embeddings.npy\n",
      "/scratch/users/mdelabrassinne/Database/spain_laliga/2015-2016/2016-04-02 - 21-30 Barcelona 1 - 2 Real Madrid/2_baidu_soccer_embeddings.npy\n",
      "/scratch/users/mdelabrassinne/Database/spain_laliga/2015-2016/2016-04-02_-_21-30_Barcelona_1_-_2_Real_Madrid/Labels-v2.json\n"
     ]
    },
    {
     "name": "stderr",
     "output_type": "stream",
     "text": [
      "80172it [00:58, 1416.75it/s]"
     ]
    },
    {
     "name": "stdout",
     "output_type": "stream",
     "text": [
      "/scratch/users/mdelabrassinne/Database/spain_laliga/2015-2016/2016-04-09 - 17-00 Real Madrid 4 - 0 Eibar/1_baidu_soccer_embeddings.npy\n",
      "/scratch/users/mdelabrassinne/Database/spain_laliga/2015-2016/2016-04-09 - 17-00 Real Madrid 4 - 0 Eibar/2_baidu_soccer_embeddings.npy\n",
      "/scratch/users/mdelabrassinne/Database/spain_laliga/2015-2016/2016-04-09_-_17-00_Real_Madrid_4_-_0_Eibar/Labels-v2.json\n",
      "/scratch/users/mdelabrassinne/Database/spain_laliga/2015-2016/2016-04-16 - 17-00 Getafe 1 - 5 Real Madrid/1_baidu_soccer_embeddings.npy\n",
      "/scratch/users/mdelabrassinne/Database/spain_laliga/2015-2016/2016-04-16 - 17-00 Getafe 1 - 5 Real Madrid/2_baidu_soccer_embeddings.npy\n",
      "/scratch/users/mdelabrassinne/Database/spain_laliga/2015-2016/2016-04-16_-_17-00_Getafe_1_-_5_Real_Madrid/Labels-v2.json\n"
     ]
    },
    {
     "name": "stderr",
     "output_type": "stream",
     "text": [
      "80456it [00:58, 1407.22it/s]"
     ]
    },
    {
     "name": "stdout",
     "output_type": "stream",
     "text": [
      "/scratch/users/mdelabrassinne/Database/spain_laliga/2015-2016/2016-04-20 - 23-00 Real Madrid 3 - 0 Villarreal/1_baidu_soccer_embeddings.npy\n",
      "/scratch/users/mdelabrassinne/Database/spain_laliga/2015-2016/2016-04-20 - 23-00 Real Madrid 3 - 0 Villarreal/2_baidu_soccer_embeddings.npy\n",
      "/scratch/users/mdelabrassinne/Database/spain_laliga/2015-2016/2016-04-20_-_23-00_Real_Madrid_3_-_0_Villarreal/Labels-v2.json\n",
      "/scratch/users/mdelabrassinne/Database/spain_laliga/2015-2016/2016-04-30 - 17-00 Real Sociedad 0 - 1 Real Madrid/1_baidu_soccer_embeddings.npy\n",
      "/scratch/users/mdelabrassinne/Database/spain_laliga/2015-2016/2016-04-30 - 17-00 Real Sociedad 0 - 1 Real Madrid/2_baidu_soccer_embeddings.npy\n",
      "/scratch/users/mdelabrassinne/Database/spain_laliga/2015-2016/2016-04-30_-_17-00_Real_Sociedad_0_-_1_Real_Madrid/Labels-v2.json\n"
     ]
    },
    {
     "name": "stderr",
     "output_type": "stream",
     "text": [
      "80882it [00:59, 1376.47it/s]"
     ]
    },
    {
     "name": "stdout",
     "output_type": "stream",
     "text": [
      "/scratch/users/mdelabrassinne/Database/spain_laliga/2015-2016/2015-09-12 - 21-30 Atl. Madrid 1 - 2 Barcelona/1_baidu_soccer_embeddings.npy\n",
      "/scratch/users/mdelabrassinne/Database/spain_laliga/2015-2016/2015-09-12 - 21-30 Atl. Madrid 1 - 2 Barcelona/2_baidu_soccer_embeddings.npy\n",
      "/scratch/users/mdelabrassinne/Database/spain_laliga/2015-2016/2015-09-12_-_21-30_Atl._Madrid_1_-_2_Barcelona/Labels-v2.json\n",
      "/scratch/users/mdelabrassinne/Database/spain_laliga/2015-2016/2015-09-26 - 17-00 Barcelona 2 - 1 Las Palmas/1_baidu_soccer_embeddings.npy\n",
      "/scratch/users/mdelabrassinne/Database/spain_laliga/2015-2016/2015-09-26 - 17-00 Barcelona 2 - 1 Las Palmas/2_baidu_soccer_embeddings.npy\n",
      "/scratch/users/mdelabrassinne/Database/spain_laliga/2015-2016/2015-09-26_-_17-00_Barcelona_2_-_1_Las_Palmas/Labels-v2.json\n"
     ]
    },
    {
     "name": "stderr",
     "output_type": "stream",
     "text": [
      "81159it [00:59, 1354.41it/s]"
     ]
    },
    {
     "name": "stdout",
     "output_type": "stream",
     "text": [
      "/scratch/users/mdelabrassinne/Database/spain_laliga/2015-2016/2015-10-24 - 17-00 Celta Vigo 1 - 3 Real Madrid/1_baidu_soccer_embeddings.npy\n",
      "/scratch/users/mdelabrassinne/Database/spain_laliga/2015-2016/2015-10-24 - 17-00 Celta Vigo 1 - 3 Real Madrid/2_baidu_soccer_embeddings.npy\n",
      "/scratch/users/mdelabrassinne/Database/spain_laliga/2015-2016/2015-10-24_-_17-00_Celta_Vigo_1_-_3_Real_Madrid/Labels-v2.json\n",
      "/scratch/users/mdelabrassinne/Database/spain_laliga/2015-2016/2015-12-13 - 22-30 Villarreal 1 - 0 Real Madrid/1_baidu_soccer_embeddings.npy\n",
      "/scratch/users/mdelabrassinne/Database/spain_laliga/2015-2016/2015-12-13 - 22-30 Villarreal 1 - 0 Real Madrid/2_baidu_soccer_embeddings.npy\n",
      "/scratch/users/mdelabrassinne/Database/spain_laliga/2015-2016/2015-12-13_-_22-30_Villarreal_1_-_0_Real_Madrid/Labels-v2.json\n"
     ]
    },
    {
     "name": "stderr",
     "output_type": "stream",
     "text": [
      "81571it [00:59, 1347.82it/s]"
     ]
    },
    {
     "name": "stdout",
     "output_type": "stream",
     "text": [
      "/scratch/users/mdelabrassinne/Database/spain_laliga/2015-2016/2015-12-20 - 18-00 Real Madrid 1 - 0 Rayo Vallecano/1_baidu_soccer_embeddings.npy\n",
      "/scratch/users/mdelabrassinne/Database/spain_laliga/2015-2016/2015-12-20 - 18-00 Real Madrid 1 - 0 Rayo Vallecano/2_baidu_soccer_embeddings.npy\n",
      "/scratch/users/mdelabrassinne/Database/spain_laliga/2015-2016/2015-12-20_-_18-00_Real_Madrid_1_-_0_Rayo_Vallecano/Labels-v2.json\n",
      "/scratch/users/mdelabrassinne/Database/spain_laliga/2015-2016/2016-01-03 - 22-30 Valencia 2 - 2 Real Madrid/1_baidu_soccer_embeddings.npy\n",
      "/scratch/users/mdelabrassinne/Database/spain_laliga/2015-2016/2016-01-03 - 22-30 Valencia 2 - 2 Real Madrid/2_baidu_soccer_embeddings.npy\n",
      "/scratch/users/mdelabrassinne/Database/spain_laliga/2015-2016/2016-01-03_-_22-30_Valencia_2_-_2_Real_Madrid/Labels-v2.json\n"
     ]
    },
    {
     "name": "stderr",
     "output_type": "stream",
     "text": [
      "81981it [00:59, 1352.32it/s]"
     ]
    },
    {
     "name": "stdout",
     "output_type": "stream",
     "text": [
      "/scratch/users/mdelabrassinne/Database/spain_laliga/2015-2016/2016-01-09 - 22-30 Real Madrid 5 - 0 Dep. La Coruna/1_baidu_soccer_embeddings.npy\n",
      "/scratch/users/mdelabrassinne/Database/spain_laliga/2015-2016/2016-01-09 - 22-30 Real Madrid 5 - 0 Dep. La Coruna/2_baidu_soccer_embeddings.npy\n",
      "/scratch/users/mdelabrassinne/Database/spain_laliga/2015-2016/2016-01-09_-_22-30_Real_Madrid_5_-_0_Dep._La_Coruna/Labels-v2.json\n",
      "/scratch/users/mdelabrassinne/Database/spain_laliga/2015-2016/2016-02-13 - 18-00 Real Madrid 4 - 2 Ath Bilbao/1_baidu_soccer_embeddings.npy\n",
      "/scratch/users/mdelabrassinne/Database/spain_laliga/2015-2016/2016-02-13 - 18-00 Real Madrid 4 - 2 Ath Bilbao/2_baidu_soccer_embeddings.npy\n",
      "/scratch/users/mdelabrassinne/Database/spain_laliga/2015-2016/2016-02-13_-_18-00_Real_Madrid_4_-_2_Ath_Bilbao/Labels-v2.json\n"
     ]
    },
    {
     "name": "stderr",
     "output_type": "stream",
     "text": [
      "82398it [01:00, 1348.29it/s]"
     ]
    },
    {
     "name": "stdout",
     "output_type": "stream",
     "text": [
      "/scratch/users/mdelabrassinne/Database/spain_laliga/2015-2016/2016-03-20 - 22-30 Real Madrid 4 - 0 Sevilla/1_baidu_soccer_embeddings.npy\n",
      "/scratch/users/mdelabrassinne/Database/spain_laliga/2015-2016/2016-03-20 - 22-30 Real Madrid 4 - 0 Sevilla/2_baidu_soccer_embeddings.npy\n",
      "/scratch/users/mdelabrassinne/Database/spain_laliga/2015-2016/2016-03-20_-_22-30_Real_Madrid_4_-_0_Sevilla/Labels-v2.json\n",
      "/scratch/users/mdelabrassinne/Database/spain_laliga/2015-2016/2015-08-29 - 23-30 Real Madrid 5 - 0 Betis/1_baidu_soccer_embeddings.npy\n",
      "/scratch/users/mdelabrassinne/Database/spain_laliga/2015-2016/2015-08-29 - 23-30 Real Madrid 5 - 0 Betis/2_baidu_soccer_embeddings.npy\n",
      "/scratch/users/mdelabrassinne/Database/spain_laliga/2015-2016/2015-08-29_-_23-30_Real_Madrid_5_-_0_Betis/Labels-v2.json\n"
     ]
    },
    {
     "name": "stderr",
     "output_type": "stream",
     "text": [
      "82816it [01:00, 1355.01it/s]"
     ]
    },
    {
     "name": "stdout",
     "output_type": "stream",
     "text": [
      "/scratch/users/mdelabrassinne/Database/spain_laliga/2015-2016/2015-09-19 - 17-00 Real Madrid 1 - 0 Granada CF/1_baidu_soccer_embeddings.npy\n",
      "/scratch/users/mdelabrassinne/Database/spain_laliga/2015-2016/2015-09-19 - 17-00 Real Madrid 1 - 0 Granada CF/2_baidu_soccer_embeddings.npy\n",
      "/scratch/users/mdelabrassinne/Database/spain_laliga/2015-2016/2015-09-19_-_17-00_Real_Madrid_1_-_0_Granada_CF/Labels-v2.json\n",
      "/scratch/users/mdelabrassinne/Database/spain_laliga/2015-2016/2015-11-08 - 18-00 Barcelona 3 - 0 Villarreal/1_baidu_soccer_embeddings.npy\n",
      "/scratch/users/mdelabrassinne/Database/spain_laliga/2015-2016/2015-11-08 - 18-00 Barcelona 3 - 0 Villarreal/2_baidu_soccer_embeddings.npy\n",
      "/scratch/users/mdelabrassinne/Database/spain_laliga/2015-2016/2015-11-08_-_18-00_Barcelona_3_-_0_Villarreal/Labels-v2.json\n"
     ]
    },
    {
     "name": "stderr",
     "output_type": "stream",
     "text": [
      "83230it [01:00, 1340.71it/s]"
     ]
    },
    {
     "name": "stdout",
     "output_type": "stream",
     "text": [
      "/scratch/users/mdelabrassinne/Database/spain_laliga/2015-2016/2015-12-05 - 18-00 Real Madrid 4 - 1 Getafe/1_baidu_soccer_embeddings.npy\n",
      "/scratch/users/mdelabrassinne/Database/spain_laliga/2015-2016/2015-12-05 - 18-00 Real Madrid 4 - 1 Getafe/2_baidu_soccer_embeddings.npy\n",
      "/scratch/users/mdelabrassinne/Database/spain_laliga/2015-2016/2015-12-05_-_18-00_Real_Madrid_4_-_1_Getafe/Labels-v2.json\n",
      "/scratch/users/mdelabrassinne/Database/spain_laliga/2015-2016/2015-12-30 - 18-00 Real Madrid 3 - 1 Real Sociedad/1_baidu_soccer_embeddings.npy\n",
      "/scratch/users/mdelabrassinne/Database/spain_laliga/2015-2016/2015-12-30 - 18-00 Real Madrid 3 - 1 Real Sociedad/2_baidu_soccer_embeddings.npy\n",
      "/scratch/users/mdelabrassinne/Database/spain_laliga/2015-2016/2015-12-30_-_18-00_Real_Madrid_3_-_1_Real_Sociedad/Labels-v2.json\n"
     ]
    },
    {
     "name": "stderr",
     "output_type": "stream",
     "text": [
      "83510it [01:01, 1368.62it/s]"
     ]
    },
    {
     "name": "stdout",
     "output_type": "stream",
     "text": [
      "/scratch/users/mdelabrassinne/Database/spain_laliga/2015-2016/2016-02-27 - 18-00 Real Madrid 0 - 1 Atl. Madrid/1_baidu_soccer_embeddings.npy\n",
      "/scratch/users/mdelabrassinne/Database/spain_laliga/2015-2016/2016-02-27 - 18-00 Real Madrid 0 - 1 Atl. Madrid/2_baidu_soccer_embeddings.npy\n",
      "/scratch/users/mdelabrassinne/Database/spain_laliga/2015-2016/2016-02-27_-_18-00_Real_Madrid_0_-_1_Atl._Madrid/Labels-v2.json\n",
      "/scratch/users/mdelabrassinne/Database/spain_laliga/2015-2016/2016-03-02 - 23-00 Levante 1 - 3 Real Madrid/1_baidu_soccer_embeddings.npy\n",
      "/scratch/users/mdelabrassinne/Database/spain_laliga/2015-2016/2016-03-02 - 23-00 Levante 1 - 3 Real Madrid/2_baidu_soccer_embeddings.npy\n",
      "/scratch/users/mdelabrassinne/Database/spain_laliga/2015-2016/2016-03-02_-_23-00_Levante_1_-_3_Real_Madrid/Labels-v2.json\n"
     ]
    },
    {
     "name": "stderr",
     "output_type": "stream",
     "text": [
      "83938it [01:01, 1397.82it/s]"
     ]
    },
    {
     "name": "stdout",
     "output_type": "stream",
     "text": [
      "/scratch/users/mdelabrassinne/Database/spain_laliga/2015-2016/2016-05-08 - 18-00 Real Madrid 3 - 2 Valencia/1_baidu_soccer_embeddings.npy\n",
      "/scratch/users/mdelabrassinne/Database/spain_laliga/2015-2016/2016-05-08 - 18-00 Real Madrid 3 - 2 Valencia/2_baidu_soccer_embeddings.npy\n",
      "/scratch/users/mdelabrassinne/Database/spain_laliga/2015-2016/2016-05-08_-_18-00_Real_Madrid_3_-_2_Valencia/Labels-v2.json\n",
      "/scratch/users/mdelabrassinne/Database/spain_laliga/2015-2016/2016-05-14 - 18-00 Dep. La Coruna 0 - 2 Real Madrid/1_baidu_soccer_embeddings.npy\n",
      "/scratch/users/mdelabrassinne/Database/spain_laliga/2015-2016/2016-05-14 - 18-00 Dep. La Coruna 0 - 2 Real Madrid/2_baidu_soccer_embeddings.npy\n",
      "/scratch/users/mdelabrassinne/Database/spain_laliga/2015-2016/2016-05-14_-_18-00_Dep._La_Coruna_0_-_2_Real_Madrid/Labels-v2.json\n"
     ]
    },
    {
     "name": "stderr",
     "output_type": "stream",
     "text": [
      "84225it [01:01, 1398.26it/s]"
     ]
    },
    {
     "name": "stdout",
     "output_type": "stream",
     "text": [
      "/scratch/users/mdelabrassinne/Database/spain_laliga/2015-2016/2015-08-29 - 21-30 Barcelona 1 - 0 Malaga/1_baidu_soccer_embeddings.npy\n",
      "/scratch/users/mdelabrassinne/Database/spain_laliga/2015-2016/2015-08-29 - 21-30 Barcelona 1 - 0 Malaga/2_baidu_soccer_embeddings.npy\n",
      "/scratch/users/mdelabrassinne/Database/spain_laliga/2015-2016/2015-08-29_-_21-30_Barcelona_1_-_0_Malaga/Labels-v2.json\n",
      "/scratch/users/mdelabrassinne/Database/spain_laliga/2015-2016/2015-09-12 - 17-00 Espanyol 0 - 6 Real Madrid/1_baidu_soccer_embeddings.npy\n",
      "/scratch/users/mdelabrassinne/Database/spain_laliga/2015-2016/2015-09-12 - 17-00 Espanyol 0 - 6 Real Madrid/2_baidu_soccer_embeddings.npy\n",
      "/scratch/users/mdelabrassinne/Database/spain_laliga/2015-2016/2015-09-12_-_17-00_Espanyol_0_-_6_Real_Madrid/Labels-v2.json\n"
     ]
    },
    {
     "name": "stderr",
     "output_type": "stream",
     "text": [
      "84644it [01:01, 1386.55it/s]"
     ]
    },
    {
     "name": "stdout",
     "output_type": "stream",
     "text": [
      "/scratch/users/mdelabrassinne/Database/spain_laliga/2015-2016/2015-09-23 - 22-00 Ath Bilbao 1 - 2 Real Madrid/1_baidu_soccer_embeddings.npy\n",
      "/scratch/users/mdelabrassinne/Database/spain_laliga/2015-2016/2015-09-23 - 22-00 Ath Bilbao 1 - 2 Real Madrid/2_baidu_soccer_embeddings.npy\n",
      "/scratch/users/mdelabrassinne/Database/spain_laliga/2015-2016/2015-09-23_-_22-00_Ath_Bilbao_1_-_2_Real_Madrid/Labels-v2.json\n",
      "/scratch/users/mdelabrassinne/Database/spain_laliga/2015-2016/2015-09-26 - 19-15 Real Madrid 0 - 0 Malaga/1_baidu_soccer_embeddings.npy\n",
      "/scratch/users/mdelabrassinne/Database/spain_laliga/2015-2016/2015-09-26 - 19-15 Real Madrid 0 - 0 Malaga/2_baidu_soccer_embeddings.npy\n",
      "/scratch/users/mdelabrassinne/Database/spain_laliga/2015-2016/2015-09-26_-_19-15_Real_Madrid_0_-_0_Malaga/Labels-v2.json\n"
     ]
    },
    {
     "name": "stderr",
     "output_type": "stream",
     "text": [
      "85063it [01:02, 1376.55it/s]"
     ]
    },
    {
     "name": "stdout",
     "output_type": "stream",
     "text": [
      "/scratch/users/mdelabrassinne/Database/spain_laliga/2015-2016/2015-10-04 - 21-30 Atl. Madrid 1 - 1 Real Madrid/1_baidu_soccer_embeddings.npy\n",
      "/scratch/users/mdelabrassinne/Database/spain_laliga/2015-2016/2015-10-04 - 21-30 Atl. Madrid 1 - 1 Real Madrid/2_baidu_soccer_embeddings.npy\n",
      "/scratch/users/mdelabrassinne/Database/spain_laliga/2015-2016/2015-10-04_-_21-30_Atl._Madrid_1_-_1_Real_Madrid/Labels-v2.json\n",
      "/scratch/users/mdelabrassinne/Database/spain_laliga/2015-2016/2015-11-21 - 20-15 Real Madrid 0 - 4 Barcelona/1_baidu_soccer_embeddings.npy\n",
      "/scratch/users/mdelabrassinne/Database/spain_laliga/2015-2016/2015-11-21 - 20-15 Real Madrid 0 - 4 Barcelona/2_baidu_soccer_embeddings.npy\n",
      "/scratch/users/mdelabrassinne/Database/spain_laliga/2015-2016/2015-11-21_-_20-15_Real_Madrid_0_-_4_Barcelona/Labels-v2.json\n"
     ]
    },
    {
     "name": "stderr",
     "output_type": "stream",
     "text": [
      "85487it [01:02, 1391.43it/s]"
     ]
    },
    {
     "name": "stdout",
     "output_type": "stream",
     "text": [
      "/scratch/users/mdelabrassinne/Database/spain_laliga/2015-2016/2015-11-29 - 18-00 Eibar 0 - 2 Real Madrid/1_baidu_soccer_embeddings.npy\n",
      "/scratch/users/mdelabrassinne/Database/spain_laliga/2015-2016/2015-11-29 - 18-00 Eibar 0 - 2 Real Madrid/2_baidu_soccer_embeddings.npy\n",
      "/scratch/users/mdelabrassinne/Database/spain_laliga/2015-2016/2015-11-29_-_18-00_Eibar_0_-_2_Real_Madrid/Labels-v2.json\n",
      "/scratch/users/mdelabrassinne/Database/spain_laliga/2015-2016/2016-01-24 - 22-30 Betis 1 - 1 Real Madrid/1_baidu_soccer_embeddings.npy\n",
      "/scratch/users/mdelabrassinne/Database/spain_laliga/2015-2016/2016-01-24 - 22-30 Betis 1 - 1 Real Madrid/2_baidu_soccer_embeddings.npy\n",
      "/scratch/users/mdelabrassinne/Database/spain_laliga/2015-2016/2016-01-24_-_22-30_Betis_1_-_1_Real_Madrid/Labels-v2.json\n"
     ]
    },
    {
     "name": "stderr",
     "output_type": "stream",
     "text": [
      "85904it [01:02, 1366.64it/s]"
     ]
    },
    {
     "name": "stdout",
     "output_type": "stream",
     "text": [
      "/scratch/users/mdelabrassinne/Database/spain_laliga/2015-2016/2016-01-31 - 22-30 Real Madrid 6 - 0 Espanyol/1_baidu_soccer_embeddings.npy\n",
      "/scratch/users/mdelabrassinne/Database/spain_laliga/2015-2016/2016-01-31 - 22-30 Real Madrid 6 - 0 Espanyol/2_baidu_soccer_embeddings.npy\n",
      "/scratch/users/mdelabrassinne/Database/spain_laliga/2015-2016/2016-01-31_-_22-30_Real_Madrid_6_-_0_Espanyol/Labels-v2.json\n",
      "/scratch/users/mdelabrassinne/Database/spain_laliga/2015-2016/2016-02-07 - 22-30 Granada CF 1 - 2 Real Madrid/1_baidu_soccer_embeddings.npy\n",
      "/scratch/users/mdelabrassinne/Database/spain_laliga/2015-2016/2016-02-07 - 22-30 Granada CF 1 - 2 Real Madrid/2_baidu_soccer_embeddings.npy\n",
      "/scratch/users/mdelabrassinne/Database/spain_laliga/2015-2016/2016-02-07_-_22-30_Granada_CF_1_-_2_Real_Madrid/Labels-v2.json\n"
     ]
    },
    {
     "name": "stderr",
     "output_type": "stream",
     "text": [
      "86314it [01:03, 1347.84it/s]"
     ]
    },
    {
     "name": "stdout",
     "output_type": "stream",
     "text": [
      "/scratch/users/mdelabrassinne/Database/spain_laliga/2015-2016/2016-02-21 - 18-00 Malaga 1 - 1 Real Madrid/1_baidu_soccer_embeddings.npy\n",
      "/scratch/users/mdelabrassinne/Database/spain_laliga/2015-2016/2016-02-21 - 18-00 Malaga 1 - 1 Real Madrid/2_baidu_soccer_embeddings.npy\n",
      "/scratch/users/mdelabrassinne/Database/spain_laliga/2015-2016/2016-02-21_-_18-00_Malaga_1_-_1_Real_Madrid/Labels-v2.json\n",
      "/scratch/users/mdelabrassinne/Database/spain_laliga/2015-2016/2016-03-05 - 18-00 Real Madrid 7 - 1 Celta Vigo/1_baidu_soccer_embeddings.npy\n",
      "/scratch/users/mdelabrassinne/Database/spain_laliga/2015-2016/2016-03-05 - 18-00 Real Madrid 7 - 1 Celta Vigo/2_baidu_soccer_embeddings.npy\n",
      "/scratch/users/mdelabrassinne/Database/spain_laliga/2015-2016/2016-03-05_-_18-00_Real_Madrid_7_-_1_Celta_Vigo/Labels-v2.json\n"
     ]
    },
    {
     "name": "stderr",
     "output_type": "stream",
     "text": [
      "86605it [01:03, 1394.96it/s]"
     ]
    },
    {
     "name": "stdout",
     "output_type": "stream",
     "text": [
      "/scratch/users/mdelabrassinne/Database/spain_laliga/2015-2016/2016-03-13 - 22-30 Las Palmas 1 - 2 Real Madrid/1_baidu_soccer_embeddings.npy\n",
      "/scratch/users/mdelabrassinne/Database/spain_laliga/2015-2016/2016-03-13 - 22-30 Las Palmas 1 - 2 Real Madrid/2_baidu_soccer_embeddings.npy\n",
      "/scratch/users/mdelabrassinne/Database/spain_laliga/2015-2016/2016-03-13_-_22-30_Las_Palmas_1_-_2_Real_Madrid/Labels-v2.json\n",
      "/scratch/users/mdelabrassinne/Database/spain_laliga/2016-2017/2016-08-28 - 21-15 Ath Bilbao 0 - 1 Barcelona/1_baidu_soccer_embeddings.npy\n",
      "/scratch/users/mdelabrassinne/Database/spain_laliga/2016-2017/2016-08-28 - 21-15 Ath Bilbao 0 - 1 Barcelona/2_baidu_soccer_embeddings.npy\n",
      "/scratch/users/mdelabrassinne/Database/spain_laliga/2016-2017/2016-08-28_-_21-15_Ath_Bilbao_0_-_1_Barcelona/Labels-v2.json\n"
     ]
    },
    {
     "name": "stderr",
     "output_type": "stream",
     "text": [
      "87167it [01:03, 1389.71it/s]"
     ]
    },
    {
     "name": "stdout",
     "output_type": "stream",
     "text": [
      "/scratch/users/mdelabrassinne/Database/spain_laliga/2016-2017/2016-09-18 - 21-45 Espanyol 0 - 2 Real Madrid/1_baidu_soccer_embeddings.npy\n",
      "/scratch/users/mdelabrassinne/Database/spain_laliga/2016-2017/2016-09-18 - 21-45 Espanyol 0 - 2 Real Madrid/2_baidu_soccer_embeddings.npy\n",
      "/scratch/users/mdelabrassinne/Database/spain_laliga/2016-2017/2016-09-18_-_21-45_Espanyol_0_-_2_Real_Madrid/Labels-v2.json\n",
      "/scratch/users/mdelabrassinne/Database/spain_laliga/2016-2017/2016-09-21 - 23-00 Barcelona 1 - 1 Atl. Madrid/1_baidu_soccer_embeddings.npy\n",
      "/scratch/users/mdelabrassinne/Database/spain_laliga/2016-2017/2016-09-21 - 23-00 Barcelona 1 - 1 Atl. Madrid/2_baidu_soccer_embeddings.npy\n",
      "/scratch/users/mdelabrassinne/Database/spain_laliga/2016-2017/2016-09-21_-_23-00_Barcelona_1_-_1_Atl._Madrid/Labels-v2.json\n"
     ]
    },
    {
     "name": "stderr",
     "output_type": "stream",
     "text": [
      "87449it [01:03, 1390.84it/s]"
     ]
    },
    {
     "name": "stdout",
     "output_type": "stream",
     "text": [
      "/scratch/users/mdelabrassinne/Database/spain_laliga/2016-2017/2016-10-02 - 17-15 Real Madrid 1 - 1 Eibar/1_baidu_soccer_embeddings.npy\n",
      "/scratch/users/mdelabrassinne/Database/spain_laliga/2016-2017/2016-10-02 - 17-15 Real Madrid 1 - 1 Eibar/2_baidu_soccer_embeddings.npy\n",
      "/scratch/users/mdelabrassinne/Database/spain_laliga/2016-2017/2016-10-02_-_17-15_Real_Madrid_1_-_1_Eibar/Labels-v2.json\n",
      "/scratch/users/mdelabrassinne/Database/spain_laliga/2016-2017/2016-10-15 - 21-45 Betis 1 - 6 Real Madrid/1_baidu_soccer_embeddings.npy\n",
      "/scratch/users/mdelabrassinne/Database/spain_laliga/2016-2017/2016-10-15 - 21-45 Betis 1 - 6 Real Madrid/2_baidu_soccer_embeddings.npy\n",
      "/scratch/users/mdelabrassinne/Database/spain_laliga/2016-2017/2016-10-15_-_21-45_Betis_1_-_6_Real_Madrid/Labels-v2.json\n"
     ]
    },
    {
     "name": "stderr",
     "output_type": "stream",
     "text": [
      "87858it [01:04, 1304.30it/s]"
     ]
    },
    {
     "name": "stdout",
     "output_type": "stream",
     "text": [
      "/scratch/users/mdelabrassinne/Database/spain_laliga/2016-2017/2016-10-22 - 17-15 Valencia 2 - 3 Barcelona/1_baidu_soccer_embeddings.npy\n",
      "/scratch/users/mdelabrassinne/Database/spain_laliga/2016-2017/2016-10-22 - 17-15 Valencia 2 - 3 Barcelona/2_baidu_soccer_embeddings.npy\n",
      "/scratch/users/mdelabrassinne/Database/spain_laliga/2016-2017/2016-10-22_-_17-15_Valencia_2_-_3_Barcelona/Labels-v2.json\n",
      "/scratch/users/mdelabrassinne/Database/spain_laliga/2016-2017/2016-10-29 - 17-15 Alaves 1 - 4 Real Madrid/1_baidu_soccer_embeddings.npy\n",
      "/scratch/users/mdelabrassinne/Database/spain_laliga/2016-2017/2016-10-29 - 17-15 Alaves 1 - 4 Real Madrid/2_baidu_soccer_embeddings.npy\n",
      "/scratch/users/mdelabrassinne/Database/spain_laliga/2016-2017/2016-10-29_-_17-15_Alaves_1_-_4_Real_Madrid/Labels-v2.json\n"
     ]
    },
    {
     "name": "stderr",
     "output_type": "stream",
     "text": [
      "88249it [01:04, 1289.45it/s]"
     ]
    },
    {
     "name": "stdout",
     "output_type": "stream",
     "text": [
      "/scratch/users/mdelabrassinne/Database/spain_laliga/2016-2017/2016-10-29 - 21-45 Barcelona 1 - 0 Granada CF/1_baidu_soccer_embeddings.npy\n",
      "/scratch/users/mdelabrassinne/Database/spain_laliga/2016-2017/2016-10-29 - 21-45 Barcelona 1 - 0 Granada CF/2_baidu_soccer_embeddings.npy\n",
      "/scratch/users/mdelabrassinne/Database/spain_laliga/2016-2017/2016-10-29_-_21-45_Barcelona_1_-_0_Granada_CF/Labels-v2.json\n",
      "/scratch/users/mdelabrassinne/Database/spain_laliga/2016-2017/2016-11-06 - 14-00 Real Madrid 3 - 0 Leganes/1_baidu_soccer_embeddings.npy\n",
      "/scratch/users/mdelabrassinne/Database/spain_laliga/2016-2017/2016-11-06 - 14-00 Real Madrid 3 - 0 Leganes/2_baidu_soccer_embeddings.npy\n",
      "/scratch/users/mdelabrassinne/Database/spain_laliga/2016-2017/2016-11-06_-_14-00_Real_Madrid_3_-_0_Leganes/Labels-v2.json\n"
     ]
    },
    {
     "name": "stderr",
     "output_type": "stream",
     "text": [
      "88639it [01:04, 1286.24it/s]"
     ]
    },
    {
     "name": "stdout",
     "output_type": "stream",
     "text": [
      "/scratch/users/mdelabrassinne/Database/spain_laliga/2016-2017/2016-11-19 - 18-15 Barcelona 0 - 0 Malaga/1_baidu_soccer_embeddings.npy\n",
      "/scratch/users/mdelabrassinne/Database/spain_laliga/2016-2017/2016-11-19 - 18-15 Barcelona 0 - 0 Malaga/2_baidu_soccer_embeddings.npy\n",
      "/scratch/users/mdelabrassinne/Database/spain_laliga/2016-2017/2016-11-19_-_18-15_Barcelona_0_-_0_Malaga/Labels-v2.json\n",
      "/scratch/users/mdelabrassinne/Database/spain_laliga/2016-2017/2016-11-19 - 22-45 Atl. Madrid 0 - 3 Real Madrid/1_baidu_soccer_embeddings.npy\n",
      "/scratch/users/mdelabrassinne/Database/spain_laliga/2016-2017/2016-11-19 - 22-45 Atl. Madrid 0 - 3 Real Madrid/2_baidu_soccer_embeddings.npy\n",
      "/scratch/users/mdelabrassinne/Database/spain_laliga/2016-2017/2016-11-19_-_22-45_Atl._Madrid_0_-_3_Real_Madrid/Labels-v2.json\n"
     ]
    },
    {
     "name": "stderr",
     "output_type": "stream",
     "text": [
      "89024it [01:05, 1261.00it/s]"
     ]
    },
    {
     "name": "stdout",
     "output_type": "stream",
     "text": [
      "/scratch/users/mdelabrassinne/Database/spain_laliga/2016-2017/2016-11-27 - 22-45 Real Sociedad 1 - 1 Barcelona/1_baidu_soccer_embeddings.npy\n",
      "/scratch/users/mdelabrassinne/Database/spain_laliga/2016-2017/2016-11-27 - 22-45 Real Sociedad 1 - 1 Barcelona/2_baidu_soccer_embeddings.npy\n",
      "/scratch/users/mdelabrassinne/Database/spain_laliga/2016-2017/2016-11-27_-_22-45_Real_Sociedad_1_-_1_Barcelona/Labels-v2.json\n",
      "/scratch/users/mdelabrassinne/Database/spain_laliga/2016-2017/2016-12-03 - 18-15 Barcelona 1 - 1 Real Madrid/1_baidu_soccer_embeddings.npy\n",
      "/scratch/users/mdelabrassinne/Database/spain_laliga/2016-2017/2016-12-03 - 18-15 Barcelona 1 - 1 Real Madrid/2_baidu_soccer_embeddings.npy\n",
      "/scratch/users/mdelabrassinne/Database/spain_laliga/2016-2017/2016-12-03_-_18-15_Barcelona_1_-_1_Real_Madrid/Labels-v2.json\n"
     ]
    },
    {
     "name": "stderr",
     "output_type": "stream",
     "text": [
      "89543it [01:05, 1264.74it/s]"
     ]
    },
    {
     "name": "stdout",
     "output_type": "stream",
     "text": [
      "/scratch/users/mdelabrassinne/Database/spain_laliga/2016-2017/2016-12-10 - 22-45 Real Madrid 3 - 2 Dep. La Coruna/1_baidu_soccer_embeddings.npy\n",
      "/scratch/users/mdelabrassinne/Database/spain_laliga/2016-2017/2016-12-10 - 22-45 Real Madrid 3 - 2 Dep. La Coruna/2_baidu_soccer_embeddings.npy\n",
      "/scratch/users/mdelabrassinne/Database/spain_laliga/2016-2017/2016-12-10_-_22-45_Real_Madrid_3_-_2_Dep._La_Coruna/Labels-v2.json\n",
      "/scratch/users/mdelabrassinne/Database/spain_laliga/2016-2017/2017-01-08 - 22-45 Villarreal 1 - 1 Barcelona/1_baidu_soccer_embeddings.npy\n",
      "/scratch/users/mdelabrassinne/Database/spain_laliga/2016-2017/2017-01-08 - 22-45 Villarreal 1 - 1 Barcelona/2_baidu_soccer_embeddings.npy\n",
      "/scratch/users/mdelabrassinne/Database/spain_laliga/2016-2017/2017-01-08_-_22-45_Villarreal_1_-_1_Barcelona/Labels-v2.json\n"
     ]
    },
    {
     "name": "stderr",
     "output_type": "stream",
     "text": [
      "89794it [01:05, 1216.51it/s]"
     ]
    },
    {
     "name": "stdout",
     "output_type": "stream",
     "text": [
      "/scratch/users/mdelabrassinne/Database/spain_laliga/2016-2017/2017-01-14 - 18-15 Barcelona 5 - 0 Las Palmas/1_baidu_soccer_embeddings.npy\n",
      "/scratch/users/mdelabrassinne/Database/spain_laliga/2016-2017/2017-01-14 - 18-15 Barcelona 5 - 0 Las Palmas/2_baidu_soccer_embeddings.npy\n",
      "/scratch/users/mdelabrassinne/Database/spain_laliga/2016-2017/2017-01-14_-_18-15_Barcelona_5_-_0_Las_Palmas/Labels-v2.json\n",
      "/scratch/users/mdelabrassinne/Database/spain_laliga/2016-2017/2017-01-15 - 22-45 Sevilla 2 - 1 Real Madrid/1_baidu_soccer_embeddings.npy\n",
      "/scratch/users/mdelabrassinne/Database/spain_laliga/2016-2017/2017-01-15 - 22-45 Sevilla 2 - 1 Real Madrid/2_baidu_soccer_embeddings.npy\n",
      "/scratch/users/mdelabrassinne/Database/spain_laliga/2016-2017/2017-01-15_-_22-45_Sevilla_2_-_1_Real_Madrid/Labels-v2.json\n"
     ]
    },
    {
     "name": "stderr",
     "output_type": "stream",
     "text": [
      "90285it [01:06, 1208.66it/s]"
     ]
    },
    {
     "name": "stdout",
     "output_type": "stream",
     "text": [
      "/scratch/users/mdelabrassinne/Database/spain_laliga/2016-2017/2017-01-29 - 14-00 Betis 1 - 1 Barcelona/1_baidu_soccer_embeddings.npy\n",
      "/scratch/users/mdelabrassinne/Database/spain_laliga/2016-2017/2017-01-29 - 14-00 Betis 1 - 1 Barcelona/2_baidu_soccer_embeddings.npy\n",
      "/scratch/users/mdelabrassinne/Database/spain_laliga/2016-2017/2017-01-29_-_14-00_Betis_1_-_1_Barcelona/Labels-v2.json\n",
      "/scratch/users/mdelabrassinne/Database/spain_laliga/2016-2017/2017-01-29 - 22-45 Real Madrid 3 - 0 Real Sociedad/1_baidu_soccer_embeddings.npy\n",
      "/scratch/users/mdelabrassinne/Database/spain_laliga/2016-2017/2017-01-29 - 22-45 Real Madrid 3 - 0 Real Sociedad/2_baidu_soccer_embeddings.npy\n",
      "/scratch/users/mdelabrassinne/Database/spain_laliga/2016-2017/2017-01-29_-_22-45_Real_Madrid_3_-_0_Real_Sociedad/Labels-v2.json\n"
     ]
    },
    {
     "name": "stderr",
     "output_type": "stream",
     "text": [
      "90694it [01:06, 1309.64it/s]"
     ]
    },
    {
     "name": "stdout",
     "output_type": "stream",
     "text": [
      "/scratch/users/mdelabrassinne/Database/spain_laliga/2016-2017/2017-02-19 - 22-45 Barcelona 2 - 1 Leganes/1_baidu_soccer_embeddings.npy\n",
      "/scratch/users/mdelabrassinne/Database/spain_laliga/2016-2017/2017-02-19 - 22-45 Barcelona 2 - 1 Leganes/2_baidu_soccer_embeddings.npy\n",
      "/scratch/users/mdelabrassinne/Database/spain_laliga/2016-2017/2017-02-19_-_22-45_Barcelona_2_-_1_Leganes/Labels-v2.json\n",
      "/scratch/users/mdelabrassinne/Database/spain_laliga/2016-2017/2017-02-26 - 18-15 Atl. Madrid 1 - 2 Barcelona/1_baidu_soccer_embeddings.npy\n",
      "/scratch/users/mdelabrassinne/Database/spain_laliga/2016-2017/2017-02-26 - 18-15 Atl. Madrid 1 - 2 Barcelona/2_baidu_soccer_embeddings.npy\n",
      "/scratch/users/mdelabrassinne/Database/spain_laliga/2016-2017/2017-02-26_-_18-15_Atl._Madrid_1_-_2_Barcelona/Labels-v2.json\n"
     ]
    },
    {
     "name": "stderr",
     "output_type": "stream",
     "text": [
      "91111it [01:06, 1351.98it/s]"
     ]
    },
    {
     "name": "stdout",
     "output_type": "stream",
     "text": [
      "/scratch/users/mdelabrassinne/Database/spain_laliga/2016-2017/2017-02-26 - 22-45 Villarreal 2 - 3 Real Madrid/1_baidu_soccer_embeddings.npy\n",
      "/scratch/users/mdelabrassinne/Database/spain_laliga/2016-2017/2017-02-26 - 22-45 Villarreal 2 - 3 Real Madrid/2_baidu_soccer_embeddings.npy\n",
      "/scratch/users/mdelabrassinne/Database/spain_laliga/2016-2017/2017-02-26_-_22-45_Villarreal_2_-_3_Real_Madrid/Labels-v2.json\n",
      "/scratch/users/mdelabrassinne/Database/spain_laliga/2016-2017/2017-03-01 - 21-30 Barcelona 6 - 1 Gijon/1_baidu_soccer_embeddings.npy\n",
      "/scratch/users/mdelabrassinne/Database/spain_laliga/2016-2017/2017-03-01 - 21-30 Barcelona 6 - 1 Gijon/2_baidu_soccer_embeddings.npy\n",
      "/scratch/users/mdelabrassinne/Database/spain_laliga/2016-2017/2017-03-01_-_21-30_Barcelona_6_-_1_Gijon/Labels-v2.json\n"
     ]
    },
    {
     "name": "stderr",
     "output_type": "stream",
     "text": [
      "91381it [01:07, 1310.17it/s]"
     ]
    },
    {
     "name": "stdout",
     "output_type": "stream",
     "text": [
      "/scratch/users/mdelabrassinne/Database/spain_laliga/2016-2017/2017-03-01 - 23-30 Real Madrid 3 - 3 Las Palmas/1_baidu_soccer_embeddings.npy\n",
      "/scratch/users/mdelabrassinne/Database/spain_laliga/2016-2017/2017-03-01 - 23-30 Real Madrid 3 - 3 Las Palmas/2_baidu_soccer_embeddings.npy\n",
      "/scratch/users/mdelabrassinne/Database/spain_laliga/2016-2017/2017-03-01_-_23-30_Real_Madrid_3_-_3_Las_Palmas/Labels-v2.json\n",
      "/scratch/users/mdelabrassinne/Database/spain_laliga/2016-2017/2017-03-04 - 18-15 Eibar 1 - 4 Real Madrid/1_baidu_soccer_embeddings.npy\n",
      "/scratch/users/mdelabrassinne/Database/spain_laliga/2016-2017/2017-03-04 - 18-15 Eibar 1 - 4 Real Madrid/2_baidu_soccer_embeddings.npy\n",
      "/scratch/users/mdelabrassinne/Database/spain_laliga/2016-2017/2017-03-04_-_18-15_Eibar_1_-_4_Real_Madrid/Labels-v2.json\n"
     ]
    },
    {
     "name": "stderr",
     "output_type": "stream",
     "text": [
      "91908it [01:07, 1306.58it/s]"
     ]
    },
    {
     "name": "stdout",
     "output_type": "stream",
     "text": [
      "/scratch/users/mdelabrassinne/Database/spain_laliga/2016-2017/2017-03-04 - 22-45 Barcelona 5 - 0 Celta Vigo/1_baidu_soccer_embeddings.npy\n",
      "/scratch/users/mdelabrassinne/Database/spain_laliga/2016-2017/2017-03-04 - 22-45 Barcelona 5 - 0 Celta Vigo/2_baidu_soccer_embeddings.npy\n",
      "/scratch/users/mdelabrassinne/Database/spain_laliga/2016-2017/2017-03-04_-_22-45_Barcelona_5_-_0_Celta_Vigo/Labels-v2.json\n",
      "/scratch/users/mdelabrassinne/Database/spain_laliga/2016-2017/2017-03-12 - 18-15 Dep. La Coruna 2 - 1 Barcelona/1_baidu_soccer_embeddings.npy\n",
      "/scratch/users/mdelabrassinne/Database/spain_laliga/2016-2017/2017-03-12 - 18-15 Dep. La Coruna 2 - 1 Barcelona/2_baidu_soccer_embeddings.npy\n",
      "/scratch/users/mdelabrassinne/Database/spain_laliga/2016-2017/2017-03-12_-_18-15_Dep._La_Coruna_2_-_1_Barcelona/Labels-v2.json\n"
     ]
    },
    {
     "name": "stderr",
     "output_type": "stream",
     "text": [
      "92333it [01:07, 1387.94it/s]"
     ]
    },
    {
     "name": "stdout",
     "output_type": "stream",
     "text": [
      "/scratch/users/mdelabrassinne/Database/spain_laliga/2016-2017/2017-03-18 - 18-15 Ath Bilbao 1 - 2 Real Madrid/1_baidu_soccer_embeddings.npy\n",
      "/scratch/users/mdelabrassinne/Database/spain_laliga/2016-2017/2017-03-18 - 18-15 Ath Bilbao 1 - 2 Real Madrid/2_baidu_soccer_embeddings.npy\n",
      "/scratch/users/mdelabrassinne/Database/spain_laliga/2016-2017/2017-03-18_-_18-15_Ath_Bilbao_1_-_2_Real_Madrid/Labels-v2.json\n",
      "/scratch/users/mdelabrassinne/Database/spain_laliga/2016-2017/2017-03-19 - 22-45 Barcelona 4 - 2 Valencia/1_baidu_soccer_embeddings.npy\n",
      "/scratch/users/mdelabrassinne/Database/spain_laliga/2016-2017/2017-03-19 - 22-45 Barcelona 4 - 2 Valencia/2_baidu_soccer_embeddings.npy\n",
      "/scratch/users/mdelabrassinne/Database/spain_laliga/2016-2017/2017-03-19_-_22-45_Barcelona_4_-_2_Valencia/Labels-v2.json\n"
     ]
    },
    {
     "name": "stderr",
     "output_type": "stream",
     "text": [
      "92618it [01:07, 1404.29it/s]"
     ]
    },
    {
     "name": "stdout",
     "output_type": "stream",
     "text": [
      "/scratch/users/mdelabrassinne/Database/spain_laliga/2016-2017/2017-04-02 - 21-45 Granada CF 1 - 4 Barcelona/1_baidu_soccer_embeddings.npy\n",
      "/scratch/users/mdelabrassinne/Database/spain_laliga/2016-2017/2017-04-02 - 21-45 Granada CF 1 - 4 Barcelona/2_baidu_soccer_embeddings.npy\n",
      "/scratch/users/mdelabrassinne/Database/spain_laliga/2016-2017/2017-04-02_-_21-45_Granada_CF_1_-_4_Barcelona/Labels-v2.json\n",
      "/scratch/users/mdelabrassinne/Database/spain_laliga/2016-2017/2017-04-05 - 22-30 Leganes 2 - 4 Real Madrid/1_baidu_soccer_embeddings.npy\n",
      "/scratch/users/mdelabrassinne/Database/spain_laliga/2016-2017/2017-04-05 - 22-30 Leganes 2 - 4 Real Madrid/2_baidu_soccer_embeddings.npy\n",
      "/scratch/users/mdelabrassinne/Database/spain_laliga/2016-2017/2017-04-05_-_22-30_Leganes_2_-_4_Real_Madrid/Labels-v2.json\n"
     ]
    },
    {
     "name": "stderr",
     "output_type": "stream",
     "text": [
      "93041it [01:08, 1390.98it/s]"
     ]
    },
    {
     "name": "stdout",
     "output_type": "stream",
     "text": [
      "/scratch/users/mdelabrassinne/Database/spain_laliga/2016-2017/2017-04-15 - 17-15 Gijon 2 - 3 Real Madrid/1_baidu_soccer_embeddings.npy\n",
      "/scratch/users/mdelabrassinne/Database/spain_laliga/2016-2017/2017-04-15 - 17-15 Gijon 2 - 3 Real Madrid/2_baidu_soccer_embeddings.npy\n",
      "/scratch/users/mdelabrassinne/Database/spain_laliga/2016-2017/2017-04-15_-_17-15_Gijon_2_-_3_Real_Madrid/Labels-v2.json\n",
      "/scratch/users/mdelabrassinne/Database/spain_laliga/2016-2017/2017-04-15 - 21-45 Barcelona 3 - 2 Real Sociedad/1_baidu_soccer_embeddings.npy\n",
      "/scratch/users/mdelabrassinne/Database/spain_laliga/2016-2017/2017-04-15 - 21-45 Barcelona 3 - 2 Real Sociedad/2_baidu_soccer_embeddings.npy\n",
      "/scratch/users/mdelabrassinne/Database/spain_laliga/2016-2017/2017-04-15_-_21-45_Barcelona_3_-_2_Real_Sociedad/Labels-v2.json\n"
     ]
    },
    {
     "name": "stderr",
     "output_type": "stream",
     "text": [
      "93459it [01:08, 1375.64it/s]"
     ]
    },
    {
     "name": "stdout",
     "output_type": "stream",
     "text": [
      "/scratch/users/mdelabrassinne/Database/spain_laliga/2016-2017/2017-04-26 - 22-30 Dep. La Coruna 2 - 6 Real Madrid/1_baidu_soccer_embeddings.npy\n",
      "/scratch/users/mdelabrassinne/Database/spain_laliga/2016-2017/2017-04-26 - 22-30 Dep. La Coruna 2 - 6 Real Madrid/2_baidu_soccer_embeddings.npy\n",
      "/scratch/users/mdelabrassinne/Database/spain_laliga/2016-2017/2017-04-26_-_22-30_Dep._La_Coruna_2_-_6_Real_Madrid/Labels-v2.json\n",
      "/scratch/users/mdelabrassinne/Database/spain_laliga/2016-2017/2017-05-06 - 19-30 Barcelona 4 - 1 Villarreal/1_baidu_soccer_embeddings.npy\n",
      "/scratch/users/mdelabrassinne/Database/spain_laliga/2016-2017/2017-05-06 - 19-30 Barcelona 4 - 1 Villarreal/2_baidu_soccer_embeddings.npy\n",
      "/scratch/users/mdelabrassinne/Database/spain_laliga/2016-2017/2017-05-06_-_19-30_Barcelona_4_-_1_Villarreal/Labels-v2.json\n"
     ]
    },
    {
     "name": "stderr",
     "output_type": "stream",
     "text": [
      "93739it [01:08, 1374.66it/s]"
     ]
    },
    {
     "name": "stdout",
     "output_type": "stream",
     "text": [
      "/scratch/users/mdelabrassinne/Database/spain_laliga/2016-2017/2017-05-06 - 21-45 Granada CF 0 - 4 Real Madrid/1_baidu_soccer_embeddings.npy\n",
      "/scratch/users/mdelabrassinne/Database/spain_laliga/2016-2017/2017-05-06 - 21-45 Granada CF 0 - 4 Real Madrid/2_baidu_soccer_embeddings.npy\n",
      "/scratch/users/mdelabrassinne/Database/spain_laliga/2016-2017/2017-05-06_-_21-45_Granada_CF_0_-_4_Real_Madrid/Labels-v2.json\n",
      "/scratch/users/mdelabrassinne/Database/spain_laliga/2016-2017/2017-05-14 - 21-00 Real Madrid 4 - 1 Sevilla/1_baidu_soccer_embeddings.npy\n",
      "/scratch/users/mdelabrassinne/Database/spain_laliga/2016-2017/2017-05-14 - 21-00 Real Madrid 4 - 1 Sevilla/2_baidu_soccer_embeddings.npy\n",
      "/scratch/users/mdelabrassinne/Database/spain_laliga/2016-2017/2017-05-14_-_21-00_Real_Madrid_4_-_1_Sevilla/Labels-v2.json\n"
     ]
    },
    {
     "name": "stderr",
     "output_type": "stream",
     "text": [
      "94013it [01:08, 1316.06it/s]"
     ]
    },
    {
     "name": "stdout",
     "output_type": "stream",
     "text": [
      "/scratch/users/mdelabrassinne/Database/spain_laliga/2016-2017/2017-05-17 - 22-00 Celta Vigo 1 - 4 Real Madrid/1_baidu_soccer_embeddings.npy\n",
      "/scratch/users/mdelabrassinne/Database/spain_laliga/2016-2017/2017-05-17 - 22-00 Celta Vigo 1 - 4 Real Madrid/2_baidu_soccer_embeddings.npy\n",
      "/scratch/users/mdelabrassinne/Database/spain_laliga/2016-2017/2017-05-17_-_22-00_Celta_Vigo_1_-_4_Real_Madrid/Labels-v2.json\n",
      "/scratch/users/mdelabrassinne/Database/spain_laliga/2016-2017/2017-05-21 - 21-00 Barcelona 4 - 2 Eibar/1_baidu_soccer_embeddings.npy\n",
      "/scratch/users/mdelabrassinne/Database/spain_laliga/2016-2017/2017-05-21 - 21-00 Barcelona 4 - 2 Eibar/2_baidu_soccer_embeddings.npy\n",
      "/scratch/users/mdelabrassinne/Database/spain_laliga/2016-2017/2017-05-21_-_21-00_Barcelona_4_-_2_Eibar/Labels-v2.json\n"
     ]
    },
    {
     "name": "stderr",
     "output_type": "stream",
     "text": [
      "94411it [01:09, 1295.87it/s]"
     ]
    },
    {
     "name": "stdout",
     "output_type": "stream",
     "text": [
      "/scratch/users/mdelabrassinne/Database/spain_laliga/2016-2017/2017-05-21 - 21-00 Malaga 0 - 2 Real Madrid/1_baidu_soccer_embeddings.npy\n",
      "/scratch/users/mdelabrassinne/Database/spain_laliga/2016-2017/2017-05-21 - 21-00 Malaga 0 - 2 Real Madrid/2_baidu_soccer_embeddings.npy\n",
      "/scratch/users/mdelabrassinne/Database/spain_laliga/2016-2017/2017-05-21_-_21-00_Malaga_0_-_2_Real_Madrid/Labels-v2.json\n",
      "/scratch/users/mdelabrassinne/Database/spain_laliga/2016-2017/2016-08-21 - 21-15 Real Sociedad 0 - 3 Real Madrid/1_baidu_soccer_embeddings.npy\n",
      "/scratch/users/mdelabrassinne/Database/spain_laliga/2016-2017/2016-08-21 - 21-15 Real Sociedad 0 - 3 Real Madrid/2_baidu_soccer_embeddings.npy\n",
      "/scratch/users/mdelabrassinne/Database/spain_laliga/2016-2017/2016-08-21_-_21-15_Real_Sociedad_0_-_3_Real_Madrid/Labels-v2.json\n"
     ]
    },
    {
     "name": "stderr",
     "output_type": "stream",
     "text": [
      "94808it [01:09, 1294.64it/s]"
     ]
    },
    {
     "name": "stdout",
     "output_type": "stream",
     "text": [
      "/scratch/users/mdelabrassinne/Database/spain_laliga/2016-2017/2016-09-17 - 14-00 Leganes 1 - 5 Barcelona/1_baidu_soccer_embeddings.npy\n",
      "/scratch/users/mdelabrassinne/Database/spain_laliga/2016-2017/2016-09-17 - 14-00 Leganes 1 - 5 Barcelona/2_baidu_soccer_embeddings.npy\n",
      "/scratch/users/mdelabrassinne/Database/spain_laliga/2016-2017/2016-09-17_-_14-00_Leganes_1_-_5_Barcelona/Labels-v2.json\n",
      "/scratch/users/mdelabrassinne/Database/spain_laliga/2016-2017/2016-10-02 - 21-45 Celta Vigo 4 - 3 Barcelona/1_baidu_soccer_embeddings.npy\n",
      "/scratch/users/mdelabrassinne/Database/spain_laliga/2016-2017/2016-10-02 - 21-45 Celta Vigo 4 - 3 Barcelona/2_baidu_soccer_embeddings.npy\n",
      "/scratch/users/mdelabrassinne/Database/spain_laliga/2016-2017/2016-10-02_-_21-45_Celta_Vigo_4_-_3_Barcelona/Labels-v2.json\n"
     ]
    },
    {
     "name": "stderr",
     "output_type": "stream",
     "text": [
      "95204it [01:09, 1305.91it/s]"
     ]
    },
    {
     "name": "stdout",
     "output_type": "stream",
     "text": [
      "/scratch/users/mdelabrassinne/Database/spain_laliga/2016-2017/2016-10-15 - 17-15 Barcelona 4 - 0 Dep. La Coruna/1_baidu_soccer_embeddings.npy\n",
      "/scratch/users/mdelabrassinne/Database/spain_laliga/2016-2017/2016-10-15 - 17-15 Barcelona 4 - 0 Dep. La Coruna/2_baidu_soccer_embeddings.npy\n",
      "/scratch/users/mdelabrassinne/Database/spain_laliga/2016-2017/2016-10-15_-_17-15_Barcelona_4_-_0_Dep._La_Coruna/Labels-v2.json\n",
      "/scratch/users/mdelabrassinne/Database/spain_laliga/2016-2017/2017-01-07 - 15-00 Real Madrid 5 - 0 Granada CF/1_baidu_soccer_embeddings.npy\n",
      "/scratch/users/mdelabrassinne/Database/spain_laliga/2016-2017/2017-01-07 - 15-00 Real Madrid 5 - 0 Granada CF/2_baidu_soccer_embeddings.npy\n",
      "/scratch/users/mdelabrassinne/Database/spain_laliga/2016-2017/2017-01-07_-_15-00_Real_Madrid_5_-_0_Granada_CF/Labels-v2.json\n"
     ]
    },
    {
     "name": "stderr",
     "output_type": "stream",
     "text": [
      "95467it [01:10, 1288.56it/s]"
     ]
    },
    {
     "name": "stdout",
     "output_type": "stream",
     "text": [
      "/scratch/users/mdelabrassinne/Database/spain_laliga/2016-2017/2017-01-21 - 18-15 Real Madrid 2 - 1 Malaga/1_baidu_soccer_embeddings.npy\n",
      "/scratch/users/mdelabrassinne/Database/spain_laliga/2016-2017/2017-01-21 - 18-15 Real Madrid 2 - 1 Malaga/2_baidu_soccer_embeddings.npy\n",
      "/scratch/users/mdelabrassinne/Database/spain_laliga/2016-2017/2017-01-21_-_18-15_Real_Madrid_2_-_1_Malaga/Labels-v2.json\n",
      "/scratch/users/mdelabrassinne/Database/spain_laliga/2016-2017/2017-02-18 - 18-15 Real Madrid 2 - 0 Espanyol/1_baidu_soccer_embeddings.npy\n",
      "/scratch/users/mdelabrassinne/Database/spain_laliga/2016-2017/2017-02-18 - 18-15 Real Madrid 2 - 0 Espanyol/2_baidu_soccer_embeddings.npy\n",
      "/scratch/users/mdelabrassinne/Database/spain_laliga/2016-2017/2017-02-18_-_18-15_Real_Madrid_2_-_0_Espanyol/Labels-v2.json\n"
     ]
    },
    {
     "name": "stderr",
     "output_type": "stream",
     "text": [
      "95995it [01:10, 1290.77it/s]"
     ]
    },
    {
     "name": "stdout",
     "output_type": "stream",
     "text": [
      "/scratch/users/mdelabrassinne/Database/spain_laliga/2016-2017/2017-04-23 - 21-45 Real Madrid 2 - 3 Barcelona/1_baidu_soccer_embeddings.npy\n",
      "/scratch/users/mdelabrassinne/Database/spain_laliga/2016-2017/2017-04-23 - 21-45 Real Madrid 2 - 3 Barcelona/2_baidu_soccer_embeddings.npy\n",
      "/scratch/users/mdelabrassinne/Database/spain_laliga/2016-2017/2017-04-23_-_21-45_Real_Madrid_2_-_3_Barcelona/Labels-v2.json\n",
      "/scratch/users/mdelabrassinne/Database/spain_laliga/2016-2017/2017-04-29 - 17-15 Real Madrid 2 - 1 Valencia/1_baidu_soccer_embeddings.npy\n",
      "/scratch/users/mdelabrassinne/Database/spain_laliga/2016-2017/2017-04-29 - 17-15 Real Madrid 2 - 1 Valencia/2_baidu_soccer_embeddings.npy\n",
      "/scratch/users/mdelabrassinne/Database/spain_laliga/2016-2017/2017-04-29_-_17-15_Real_Madrid_2_-_1_Valencia/Labels-v2.json\n"
     ]
    },
    {
     "name": "stderr",
     "output_type": "stream",
     "text": [
      "96260it [01:10, 1299.39it/s]"
     ]
    },
    {
     "name": "stdout",
     "output_type": "stream",
     "text": [
      "/scratch/users/mdelabrassinne/Database/spain_laliga/2016-2017/2017-04-29 - 21-45 Espanyol 0 - 3 Barcelona/1_baidu_soccer_embeddings.npy\n",
      "/scratch/users/mdelabrassinne/Database/spain_laliga/2016-2017/2017-04-29 - 21-45 Espanyol 0 - 3 Barcelona/2_baidu_soccer_embeddings.npy\n",
      "/scratch/users/mdelabrassinne/Database/spain_laliga/2016-2017/2017-04-29_-_21-45_Espanyol_0_-_3_Barcelona/Labels-v2.json\n",
      "/scratch/users/mdelabrassinne/Database/spain_laliga/2016-2017/2017-05-14 - 21-00 Las Palmas 1 - 4 Barcelona/1_baidu_soccer_embeddings.npy\n",
      "/scratch/users/mdelabrassinne/Database/spain_laliga/2016-2017/2017-05-14 - 21-00 Las Palmas 1 - 4 Barcelona/2_baidu_soccer_embeddings.npy\n",
      "/scratch/users/mdelabrassinne/Database/spain_laliga/2016-2017/2017-05-14_-_21-00_Las_Palmas_1_-_4_Barcelona/Labels-v2.json\n"
     ]
    },
    {
     "name": "stderr",
     "output_type": "stream",
     "text": [
      "96525it [01:10, 1299.70it/s]"
     ]
    },
    {
     "name": "stdout",
     "output_type": "stream",
     "text": [
      "/scratch/users/mdelabrassinne/Database/spain_laliga/2016-2017/2016-09-10 - 21-30 Barcelona 1 - 2 Alaves/1_baidu_soccer_embeddings.npy\n",
      "/scratch/users/mdelabrassinne/Database/spain_laliga/2016-2017/2016-09-10 - 21-30 Barcelona 1 - 2 Alaves/2_baidu_soccer_embeddings.npy\n",
      "/scratch/users/mdelabrassinne/Database/spain_laliga/2016-2017/2016-09-10_-_21-30_Barcelona_1_-_2_Alaves/Labels-v2.json\n",
      "/scratch/users/mdelabrassinne/Database/spain_laliga/2016-2017/2016-09-21 - 21-00 Real Madrid 1 - 1 Villarreal/1_baidu_soccer_embeddings.npy\n",
      "/scratch/users/mdelabrassinne/Database/spain_laliga/2016-2017/2016-09-21 - 21-00 Real Madrid 1 - 1 Villarreal/2_baidu_soccer_embeddings.npy\n",
      "/scratch/users/mdelabrassinne/Database/spain_laliga/2016-2017/2016-09-21_-_21-00_Real_Madrid_1_-_1_Villarreal/Labels-v2.json\n"
     ]
    },
    {
     "name": "stderr",
     "output_type": "stream",
     "text": [
      "96925it [01:11, 1314.51it/s]"
     ]
    },
    {
     "name": "stdout",
     "output_type": "stream",
     "text": [
      "/scratch/users/mdelabrassinne/Database/spain_laliga/2016-2017/2016-09-24 - 21-45 Las Palmas 2 - 2 Real Madrid/1_baidu_soccer_embeddings.npy\n",
      "/scratch/users/mdelabrassinne/Database/spain_laliga/2016-2017/2016-09-24 - 21-45 Las Palmas 2 - 2 Real Madrid/2_baidu_soccer_embeddings.npy\n",
      "/scratch/users/mdelabrassinne/Database/spain_laliga/2016-2017/2016-09-24_-_21-45_Las_Palmas_2_-_2_Real_Madrid/Labels-v2.json\n",
      "/scratch/users/mdelabrassinne/Database/spain_laliga/2016-2017/2016-11-26 - 18-15 Real Madrid 2 - 1 Gijon/1_baidu_soccer_embeddings.npy\n",
      "/scratch/users/mdelabrassinne/Database/spain_laliga/2016-2017/2016-11-26 - 18-15 Real Madrid 2 - 1 Gijon/2_baidu_soccer_embeddings.npy\n",
      "/scratch/users/mdelabrassinne/Database/spain_laliga/2016-2017/2016-11-26_-_18-15_Real_Madrid_2_-_1_Gijon/Labels-v2.json\n"
     ]
    },
    {
     "name": "stderr",
     "output_type": "stream",
     "text": [
      "97339it [01:11, 1357.50it/s]"
     ]
    },
    {
     "name": "stdout",
     "output_type": "stream",
     "text": [
      "/scratch/users/mdelabrassinne/Database/spain_laliga/2016-2017/2016-12-18 - 22-45 Barcelona 4 - 1 Espanyol/1_baidu_soccer_embeddings.npy\n",
      "/scratch/users/mdelabrassinne/Database/spain_laliga/2016-2017/2016-12-18 - 22-45 Barcelona 4 - 1 Espanyol/2_baidu_soccer_embeddings.npy\n",
      "/scratch/users/mdelabrassinne/Database/spain_laliga/2016-2017/2016-12-18_-_22-45_Barcelona_4_-_1_Espanyol/Labels-v2.json\n",
      "/scratch/users/mdelabrassinne/Database/spain_laliga/2016-2017/2017-02-11 - 22-45 Osasuna 1 - 3 Real Madrid/1_baidu_soccer_embeddings.npy\n",
      "/scratch/users/mdelabrassinne/Database/spain_laliga/2016-2017/2017-02-11 - 22-45 Osasuna 1 - 3 Real Madrid/2_baidu_soccer_embeddings.npy\n",
      "/scratch/users/mdelabrassinne/Database/spain_laliga/2016-2017/2017-02-11_-_22-45_Osasuna_1_-_3_Real_Madrid/Labels-v2.json\n"
     ]
    },
    {
     "name": "stderr",
     "output_type": "stream",
     "text": [
      "97765it [01:11, 1387.29it/s]"
     ]
    },
    {
     "name": "stdout",
     "output_type": "stream",
     "text": [
      "/scratch/users/mdelabrassinne/Database/spain_laliga/2016-2017/2017-03-12 - 22-45 Real Madrid 2 - 1 Betis/1_baidu_soccer_embeddings.npy\n",
      "/scratch/users/mdelabrassinne/Database/spain_laliga/2016-2017/2017-03-12 - 22-45 Real Madrid 2 - 1 Betis/2_baidu_soccer_embeddings.npy\n",
      "/scratch/users/mdelabrassinne/Database/spain_laliga/2016-2017/2017-03-12_-_22-45_Real_Madrid_2_-_1_Betis/Labels-v2.json\n",
      "/scratch/users/mdelabrassinne/Database/spain_laliga/2016-2017/2017-04-02 - 17-15 Real Madrid 3 - 0 Alaves/1_baidu_soccer_embeddings.npy\n",
      "/scratch/users/mdelabrassinne/Database/spain_laliga/2016-2017/2017-04-02 - 17-15 Real Madrid 3 - 0 Alaves/2_baidu_soccer_embeddings.npy\n",
      "/scratch/users/mdelabrassinne/Database/spain_laliga/2016-2017/2017-04-02_-_17-15_Real_Madrid_3_-_0_Alaves/Labels-v2.json\n"
     ]
    },
    {
     "name": "stderr",
     "output_type": "stream",
     "text": [
      "98059it [01:12, 1430.87it/s]"
     ]
    },
    {
     "name": "stdout",
     "output_type": "stream",
     "text": [
      "/scratch/users/mdelabrassinne/Database/spain_laliga/2016-2017/2017-04-08 - 21-45 Malaga 2 - 0 Barcelona/1_baidu_soccer_embeddings.npy\n",
      "/scratch/users/mdelabrassinne/Database/spain_laliga/2016-2017/2017-04-08 - 21-45 Malaga 2 - 0 Barcelona/2_baidu_soccer_embeddings.npy\n",
      "/scratch/users/mdelabrassinne/Database/spain_laliga/2016-2017/2017-04-08_-_21-45_Malaga_2_-_0_Barcelona/Labels-v2.json\n",
      "/scratch/users/mdelabrassinne/Database/spain_laliga/2016-2017/2017-04-26 - 20-30 Barcelona 7 - 1 Osasuna/1_baidu_soccer_embeddings.npy\n",
      "/scratch/users/mdelabrassinne/Database/spain_laliga/2016-2017/2017-04-26 - 20-30 Barcelona 7 - 1 Osasuna/2_baidu_soccer_embeddings.npy\n",
      "/scratch/users/mdelabrassinne/Database/spain_laliga/2016-2017/2017-04-26_-_20-30_Barcelona_7_-_1_Osasuna/Labels-v2.json\n"
     ]
    },
    {
     "name": "stderr",
     "output_type": "stream",
     "text": [
      "98493it [01:12, 1421.61it/s]"
     ]
    },
    {
     "name": "stdout",
     "output_type": "stream",
     "text": [
      "/scratch/users/mdelabrassinne/Database/spain_laliga/2016-2017/2016-08-20 - 19-15 Barcelona 6 - 2 Betis/1_baidu_soccer_embeddings.npy\n",
      "/scratch/users/mdelabrassinne/Database/spain_laliga/2016-2017/2016-08-20 - 19-15 Barcelona 6 - 2 Betis/2_baidu_soccer_embeddings.npy\n",
      "/scratch/users/mdelabrassinne/Database/spain_laliga/2016-2017/2016-08-20_-_19-15_Barcelona_6_-_2_Betis/Labels-v2.json\n",
      "/scratch/users/mdelabrassinne/Database/spain_laliga/2016-2017/2016-08-27 - 21-15 Real Madrid 2 - 1 Celta Vigo/1_baidu_soccer_embeddings.npy\n",
      "/scratch/users/mdelabrassinne/Database/spain_laliga/2016-2017/2016-08-27 - 21-15 Real Madrid 2 - 1 Celta Vigo/2_baidu_soccer_embeddings.npy\n",
      "/scratch/users/mdelabrassinne/Database/spain_laliga/2016-2017/2016-08-27_-_21-15_Real_Madrid_2_-_1_Celta_Vigo/Labels-v2.json\n"
     ]
    },
    {
     "name": "stderr",
     "output_type": "stream",
     "text": [
      "98714it [01:12, 1362.46it/s]\n"
     ]
    }
   ],
   "source": [
    "features =[]\n",
    "labels = []\n",
    "timeLabel = []\n",
    "\n",
    "path = '/scratch/users/mdelabrassinne/Database/'\n",
    "\n",
    "\n",
    "for root, dirs, files in tqdm(os.walk(path)):\n",
    "    #print(files)\n",
    "    for file in files:\n",
    "            \n",
    "        if file.endswith(\"Labels-v2.json\"):\n",
    "            \n",
    "            p = os.path.dirname(os.path.join(root, file))\n",
    "            dire = os.path.basename(p).replace('_', ' ')\n",
    "            p = os.path.join(os.path.dirname(p), dire)\n",
    "            \n",
    "            for r, d, fs in os.walk(p):\n",
    "                for f in fs:\n",
    "                    if f.endswith(\"baidu_soccer_embeddings.npy\"):\n",
    "                        p_current = os.path.join(r, f)\n",
    "                        features.append(p_current)\n",
    "                        print(p_current)\n",
    "\n",
    "            \n",
    "            jsonPath =(os.path.join(root, file))\n",
    "            #print(jsonPath)\n",
    "            f = open(jsonPath)\n",
    "            d = json.load(f)\n",
    "            \n",
    "            print(jsonPath)\n",
    "            \n",
    "            try:\n",
    "                #print('test')\n",
    "                lab = [d['annotations'][i]['label'] for i in range(len(d['annotations'])) if d['annotations'][i]['gameTime'][0] ==  '1']         # 1fps, don't know if keep \n",
    "                time = [60 * int(d['annotations'][i]['gameTime'].split(':')[0][-2:]) + int(d['annotations'][i]['gameTime'].split(':')[1][:2]) for i in range(len(d['annotations'])) if d['annotations'][i]['gameTime'][0] ==  '1']\n",
    "                #print([d['annotations'][i]['gameTime'] for i in range(len(d['annotations']))])\n",
    "                \n",
    "                labels.append(lab)\n",
    "                timeLabel.append(time)\n",
    "                \n",
    "                lab = [d['annotations'][i]['label'] for i in range(len(d['annotations'])) if d['annotations'][i]['gameTime'][0] ==  '2']         # 1fps, don't know if keep \n",
    "                time = [60 * int(d['annotations'][i]['gameTime'].split(':')[0][-2:]) + int(d['annotations'][i]['gameTime'].split(':')[1][:2]) for i in range(len(d['annotations'])) if d['annotations'][i]['gameTime'][0] ==  '2']\n",
    "                \n",
    "                labels.append(lab)\n",
    "                timeLabel.append(time)\n",
    "                \n",
    "            except:\n",
    "                #print(d)\n",
    "                lab = [d['predictions'][i]['label'] for i in range(len(d['predictions'])) if d['predictions'][i]['gameTime'][0] == '1']         # 1fps, don't know if keep \n",
    "                time = [60 * int(d['predictions'][i]['gameTime'].split(':')[0][-2:]) + int(d['predictions'][i]['gameTime'].split(':')[1][:2]) for i in range(len(d['predictions'])) if d['predictions'][i]['gameTime'][0] == '1']\n",
    "                \n",
    "                labels.append(lab)\n",
    "                timeLabel.append(time)\n",
    "                \n",
    "                lab = [d['predictions'][i]['label'] for i in range(len(d['predictions'])) if d['predictions'][i]['gameTime'][0] == '2']         # 1fps, don't know if keep \n",
    "                time = [60 * int(d['predictions'][i]['gameTime'].split(':')[0][-2:]) + int(d['predictions'][i]['gameTime'].split(':')[1][:2]) for i in range(len(d['predictions'])) if d['predictions'][i]['gameTime'][0] == '2']\n",
    "                \n",
    "                labels.append(lab)\n",
    "                timeLabel.append(time)\n",
    "            \n",
    "\n",
    "            \n",
    "data_l = list(zip(features, labels, timeLabel))"
   ]
  },
  {
   "cell_type": "code",
   "execution_count": 83,
   "metadata": {},
   "outputs": [
    {
     "name": "stdout",
     "output_type": "stream",
     "text": [
      "500\n",
      "('/scratch/users/mdelabrassinne/Database/england_epl/2014-2015/2015-02-21 - 18-00 Chelsea 1 - 1 Burnley/1_baidu_soccer_embeddings.npy', ['Kick-off', 'Ball out of play', 'Throw-in', 'Ball out of play', 'Corner', 'Ball out of play', 'Throw-in', 'Shots on target', 'Ball out of play', 'Corner', 'Offside', 'Shots on target', 'Offside', 'Ball out of play', 'Throw-in', 'Ball out of play', 'Throw-in', 'Shots off target', 'Ball out of play', 'Clearance', 'Ball out of play', 'Throw-in', 'Ball out of play', 'Throw-in', 'Ball out of play', 'Throw-in', 'Ball out of play', 'Corner', 'Ball out of play', 'Clearance', 'Ball out of play', 'Goal', 'Kick-off', 'Shots on target', 'Ball out of play', 'Corner', 'Ball out of play', 'Throw-in', 'Ball out of play', 'Corner', 'Ball out of play', 'Corner', 'Shots off target', 'Clearance', 'Ball out of play', 'Clearance', 'Ball out of play', 'Clearance', 'Ball out of play', 'Throw-in', 'Ball out of play', 'Throw-in', 'Shots on target', 'Foul', 'Shots off target', 'Throw-in', 'Ball out of play', 'Clearance', 'Ball out of play', 'Throw-in', 'Foul', 'Foul', 'Foul', 'Ball out of play', 'Throw-in', 'Ball out of play', 'Throw-in', 'Ball out of play', 'Throw-in', 'Foul', 'Foul', 'Ball out of play', 'Corner', 'Ball out of play', 'Throw-in', 'Ball out of play', 'Throw-in', 'Ball out of play', 'Clearance', 'Ball out of play', 'Clearance', 'Ball out of play', 'Throw-in', 'Ball out of play', 'Throw-in', 'Foul', 'Foul', 'Foul', 'Yellow card', 'Ball out of play', 'Throw-in', 'Ball out of play', 'Corner', 'Ball out of play', 'Throw-in', 'Ball out of play', 'Clearance', 'Kick-off', 'Ball out of play', 'Throw-in', 'Foul', 'Ball out of play', 'Clearance', 'Ball out of play', 'Clearance', 'Foul', 'Indirect free-kick', 'Shots on target', 'Ball out of play', 'Corner', 'Ball out of play', 'Throw-in', 'Shots off target', 'Clearance', 'Ball out of play', 'Corner', 'Ball out of play', 'Clearance', 'Ball out of play', 'Throw-in', 'Shots on target', 'Foul', 'Direct free-kick', 'Foul', 'Ball out of play', 'Clearance', 'Foul', 'Ball out of play', 'Clearance', 'Ball out of play', 'Throw-in', 'Foul', 'Yellow card', 'Substitution', 'Ball out of play', 'Throw-in', 'Ball out of play', 'Corner', 'Shots on target', 'Ball out of play', 'Throw-in', 'Ball out of play', 'Throw-in', 'Ball out of play', 'Red card', 'Yellow card', 'Substitution', 'Throw-in', 'Ball out of play', 'Throw-in', 'Ball out of play', 'Throw-in', 'Foul', 'Offside', 'Ball out of play', 'Clearance', 'Ball out of play', 'Throw-in', 'Ball out of play', 'Throw-in', 'Shots off target', 'Clearance', 'Shots off target', 'Substitution', 'Clearance', 'Ball out of play', 'Corner', 'Shots on target', 'Ball out of play', 'Corner', 'Goal', 'Kick-off', 'Ball out of play', 'Throw-in', 'Ball out of play', 'Throw-in', 'Ball out of play', 'Substitution', 'Corner', 'Ball out of play', 'Throw-in', 'Ball out of play', 'Throw-in', 'Ball out of play', 'Clearance', 'Ball out of play', 'Throw-in', 'Shots off target', 'Clearance', 'Ball out of play'], [0, 133, 149, 156, 182, 246, 258, 270, 271, 292, 319, 347, 395, 421, 440, 455, 462, 467, 539, 562, 568, 585, 587, 602, 607, 624, 660, 667, 688, 713, 749, 790, 843, 866, 869, 880, 896, 903, 949, 971, 1008, 1031, 1033, 1057, 1096, 1126, 1191, 1216, 1232, 1235, 1257, 1272, 1323, 1345, 1440, 1465, 1516, 1544, 1548, 1565, 1632, 1730, 1788, 1826, 1830, 1836, 1856, 1864, 1877, 1916, 1961, 1991, 2021, 2030, 2038, 2054, 2076, 2078, 2101, 2157, 2187, 2209, 2297, 2334, 2344, 2347, 2361, 2400, 2408, 2433, 2440, 2526, 2545, 2604, 2606, 2654, 2689, 0, 27, 41, 57, 102, 135, 171, 193, 206, 291, 296, 297, 326, 341, 355, 359, 390, 430, 449, 453, 485, 496, 504, 559, 586, 621, 633, 750, 783, 786, 818, 842, 872, 888, 1012, 1021, 1039, 1152, 1172, 1242, 1264, 1324, 1389, 1408, 1434, 1440, 1446, 1465, 1505, 1570, 1585, 1622, 1638, 1646, 1657, 1686, 1717, 1740, 1763, 1775, 1788, 1806, 1822, 1844, 1869, 1977, 2005, 2008, 2043, 2069, 2076, 2078, 2119, 2121, 2177, 2203, 2206, 2235, 2252, 2368, 2394, 2416, 2420, 2439, 2497, 2524, 2531, 2546, 2584, 2585, 2601, 2639, 2682])\n"
     ]
    }
   ],
   "source": [
    "print(len(data))\n",
    "print(data[0])"
   ]
  },
  {
   "cell_type": "code",
   "execution_count": 87,
   "metadata": {},
   "outputs": [],
   "source": [
    "class BaiduDataset(Dataset):    #modifiable\n",
    "    \"\"\"\n",
    "    Class to prepare the data for a neural network in pyTorch. The database is composed of 3 tables:\n",
    "    - Video: to save the video information\n",
    "    - Sequence: to save the sequence information labelled with the soccer actions and record the sound of the sequence\n",
    "    - Image: to save the image information of the sequence\n",
    "    \"\"\"\n",
    "    def __init__(self, data_list, transform=None):\n",
    "        self.data_list = data_list\n",
    "        self.transform = transform\n",
    "        \n",
    "    def __len__(self):\n",
    "        return len(self.data_list)\n",
    "    \n",
    "    def __getitem__(self, idx):\n",
    "        feat_path = self.data_list[idx][0]       # path towards Baidu features\n",
    "        label_list = self.data_list[idx][1]      # list of labels\n",
    "        time_list = self.data_list[idx][2]       # list of timecodes\n",
    "        \n",
    "        features = np.load(feat_path)\n",
    "        \n",
    "        \n",
    "        return features, label_list, time_list"
   ]
  },
  {
   "cell_type": "code",
   "execution_count": 80,
   "metadata": {},
   "outputs": [
    {
     "name": "stdout",
     "output_type": "stream",
     "text": [
      "(array([   0,    1,    2,    3,  179,  180,  181,  182,  183,  184,  185,\n",
      "        289,  290,  291,  292,  293,  294,  295,  664,  665,  666,  667,\n",
      "        668,  669,  670,  787,  788,  789,  790,  791,  792,  793,  840,\n",
      "        841,  842,  843,  844,  845,  846,  877,  878,  879,  880,  881,\n",
      "        882,  883,  968,  969,  970,  971,  972,  973,  974, 1028, 1029,\n",
      "       1030, 1031, 1032, 1033, 1034, 2018, 2019, 2020, 2021, 2022, 2023,\n",
      "       2024, 2405, 2406, 2407, 2408, 2409, 2410, 2411, 2542, 2543, 2544,\n",
      "       2545, 2546, 2547, 2548, 2697, 2698, 2699]), array([3, 3, 3, 3, 0, 0, 0, 0, 0, 0, 0, 0, 0, 0, 0, 0, 0, 0, 0, 0, 0, 0,\n",
      "       0, 0, 0, 1, 1, 1, 1, 1, 1, 1, 3, 3, 3, 3, 3, 3, 3, 0, 0, 0, 0, 0,\n",
      "       0, 0, 0, 0, 0, 0, 0, 0, 0, 0, 0, 0, 0, 0, 0, 0, 0, 0, 0, 0, 0, 0,\n",
      "       0, 4, 4, 4, 4, 4, 4, 4, 0, 0, 0, 0, 0, 0, 0, 3, 3, 3]))\n",
      "(array([   1,    2,    3,    4,    5,    6,  176,  177,  178,  179,  180,\n",
      "        181,  183,  184,  185,  186,  187,  188,  286,  287,  288,  289,\n",
      "        290,  291,  293,  294,  295,  296,  297,  298,  661,  662,  663,\n",
      "        664,  665,  666,  668,  669,  670,  671,  672,  673,  784,  785,\n",
      "        786,  787,  788,  789,  791,  792,  793,  794,  795,  796,  837,\n",
      "        838,  839,  840,  841,  842,  844,  845,  846,  847,  848,  849,\n",
      "        874,  875,  876,  877,  878,  879,  881,  882,  883,  884,  885,\n",
      "        886,  965,  966,  967,  968,  969,  970,  972,  973,  974,  975,\n",
      "        976,  977, 1025, 1026, 1027, 1028, 1029, 1030, 1032, 1033, 1034,\n",
      "       1035, 1036, 1037, 2015, 2016, 2017, 2018, 2019, 2020, 2022, 2023,\n",
      "       2024, 2025, 2026, 2027, 2402, 2403, 2404, 2405, 2406, 2407, 2409,\n",
      "       2410, 2411, 2412, 2413, 2414, 2539, 2540, 2541, 2542, 2543, 2544,\n",
      "       2546, 2547, 2548, 2549, 2550, 2551]), array([3, 3, 3, 3, 3, 3, 0, 0, 0, 0, 0, 0, 0, 0, 0, 0, 0, 0, 0, 0, 0, 0,\n",
      "       0, 0, 0, 0, 0, 0, 0, 0, 0, 0, 0, 0, 0, 0, 0, 0, 0, 0, 0, 0, 1, 1,\n",
      "       1, 1, 1, 1, 1, 1, 1, 1, 1, 1, 3, 3, 3, 3, 3, 3, 3, 3, 3, 3, 3, 3,\n",
      "       0, 0, 0, 0, 0, 0, 0, 0, 0, 0, 0, 0, 0, 0, 0, 0, 0, 0, 0, 0, 0, 0,\n",
      "       0, 0, 0, 0, 0, 0, 0, 0, 0, 0, 0, 0, 0, 0, 0, 0, 0, 0, 0, 0, 0, 0,\n",
      "       0, 0, 0, 0, 4, 4, 4, 4, 4, 4, 4, 4, 4, 4, 4, 4, 0, 0, 0, 0, 0, 0,\n",
      "       0, 0, 0, 0, 0, 0]))\n",
      "(2700, 7)\n",
      "(2700, 7)\n"
     ]
    }
   ],
   "source": [
    "cL = ['Corner', 'Goal', 'Penalty', 'Kick-off', 'Yellow card', 'Red card', 'Yellow->red card']\n",
    "\n",
    "def getTrueCoef(label, timeCodes, T, nbClasses, r_c = 3, f = 1, r_d = 6):\n",
    "    C = []      #confidence as a 2D np array instead of a list of tupes\n",
    "\n",
    "    res_conf = np.zeros((T, nbClasses))\n",
    "    res_disp = np.zeros((T, nbClasses))\n",
    "    \n",
    "    dictClasses = {}\n",
    "\n",
    "    for c in range(nbClasses):\n",
    "        dictClasses[c] = []\n",
    "\n",
    "\n",
    "    for i in range(len(timeCodes)):        #loop over obtained labels\n",
    "        t = timeCodes[i]\n",
    "        c = label[i]\n",
    "        \n",
    "        if(c in cL):                           # focus on wanted classes\n",
    "            c = cL.index(label[i])\n",
    "\n",
    "            tmin = t - r_c * f\n",
    "            tmax = t + r_c * f\n",
    "            inds = np.arange(tmin, tmax+1)\n",
    "            res_conf[inds, c] = 1\n",
    "            \n",
    "            dictClasses[c].append(t)\n",
    "            \n",
    "        if(t > T):\n",
    "            print('\\n\\naie => t = {} -- T = {}\\n\\n'.format(t, T))\n",
    "            \n",
    "        if(i == 2700):\n",
    "            print(\"possible issue \")\n",
    "\n",
    "    for c in range(nbClasses):\n",
    "        ind = np.array(dictClasses[c])\n",
    "        if(len(ind) > 0):\n",
    "            for t in range(T):\n",
    "\n",
    "                try:\n",
    "                    closestInd = np.argmin(np.abs(ind - t))         #take the one that is the most on the left if draw\n",
    "                except:\n",
    "                    print(ind)\n",
    "                    print(t)\n",
    "                    print(len(ind))\n",
    "\n",
    "                if(np.abs(t - ind[closestInd]) <= r_d * f):\n",
    "                    res_disp[t, c] = t - ind[closestInd]\n",
    "            \n",
    "        \n",
    "    return res_conf, res_disp\n",
    "\n",
    "test_C, test_D = getTrueCoef(data_l[0][1],data_l[0][2], np.load(data_l[0][0]).shape[0], len(cL) )\n",
    "\n",
    "print(np.where(test_C != 0))\n",
    "print(np.where(test_D != 0))\n",
    "\n",
    "print(test_C.shape)\n",
    "print(test_D.shape)"
   ]
  },
  {
   "cell_type": "code",
   "execution_count": 177,
   "metadata": {},
   "outputs": [],
   "source": [
    "cL = ['Corner', 'Goal', 'Penalty', 'Kick-off', 'Yellow card', 'Red card', 'Yellow->red card']\n",
    "\n",
    "class BaiduDataset(Dataset):    #modifiable\n",
    "    \"\"\"\n",
    "    Class to prepare the data for a neural network in pyTorch. The database is composed of 3 tables:\n",
    "    - Video: to save the video information\n",
    "    - Sequence: to save the sequence information labelled with the soccer actions and record the sound of the sequence\n",
    "    - Image: to save the image information of the sequence\n",
    "    \"\"\"\n",
    "    def __init__(self, data_list, transform=None):\n",
    "        self.data_list = data_list\n",
    "        self.transform = transform\n",
    "        self.seq_length = 112\n",
    "        \n",
    "    def __len__(self):\n",
    "        return len(self.data_list)\n",
    "    \n",
    "    def __getitem__(self, idx):\n",
    "        feat_path = self.data_list[idx][0]       # path towards Baidu features\n",
    "        label_list = self.data_list[idx][1]      # list of labels\n",
    "        time_list = self.data_list[idx][2]       # list of timecodes\n",
    "\n",
    "        features = np.load(feat_path)\n",
    "        \n",
    "        print(features.shape)\n",
    "        indStart = np.ceil(np.random.uniform(0, features.shape[0]-self.seq_length))\n",
    "        ind = np.array([True if (i >= indStart and i < indStart + self.seq_length) else False for i in range(features.shape[0])])\n",
    "        \n",
    "        print(features[ind,:].shape)\n",
    "        print(label_list)\n",
    "        print(time_list)\n",
    "        print(\"trsfndsjn\")\n",
    "        return features[ind,:], label_list, time_list   #not of equal size => issue"
   ]
  },
  {
   "cell_type": "code",
   "execution_count": 81,
   "metadata": {},
   "outputs": [],
   "source": [
    "cL = ['Corner', 'Goal', 'Penalty', 'Kick-off', 'Yellow card', 'Red card', 'Yellow->red card']\n",
    "\n",
    "class BaiduDataset(Dataset):    #modifiable\n",
    "    \"\"\"\n",
    "    Class to prepare the data for a neural network in pyTorch. The database is composed of 3 tables:\n",
    "    - Video: to save the video information\n",
    "    - Sequence: to save the sequence information labelled with the soccer actions and record the sound of the sequence\n",
    "    - Image: to save the image information of the sequence\n",
    "    \"\"\"\n",
    "    def __init__(self, data_list, transform=None):\n",
    "        self.data_list = data_list\n",
    "        self.transform = transform\n",
    "        self.seq_length = 112\n",
    "        \n",
    "    def __len__(self):\n",
    "        return len(self.data_list)\n",
    "    \n",
    "    def __getitem__(self, idx):\n",
    "        feat_path = self.data_list[idx][0]       # path towards Baidu features\n",
    "        label_list = self.data_list[idx][1]      # list of labels\n",
    "        time_list = self.data_list[idx][2]       # list of timecodes\n",
    "\n",
    "        features = np.load(feat_path)\n",
    "        \n",
    "        print(features.shape)\n",
    "        indStart = np.ceil(np.random.uniform(0, features.shape[0]-self.seq_length))\n",
    "        ind = np.array([True if (i >= indStart and i < indStart + self.seq_length) else False for i in range(features.shape[0])])\n",
    "        \n",
    "        \n",
    "        coef_c, coef_d = getTrueCoef(label_list, time_list, features.shape[0], len(cL) )\n",
    "        print(coef_c.shape)\n",
    "        print(coef_d.shape)\n",
    "        print(\"\\n\")\n",
    "        return (features[ind,:], coef_c[ind, :], coef_d[ind, :])   #not of equal size => issue"
   ]
  },
  {
   "cell_type": "code",
   "execution_count": 63,
   "metadata": {},
   "outputs": [],
   "source": [
    "cL = ['Corner', 'Goal', 'Penalty', 'Kick-off', 'Yellow card', 'Red card', 'Yellow->red card']\n",
    "\n",
    "class BaiduDataset2(Dataset):    #modifiable\n",
    "    \"\"\"\n",
    "    Class to prepare the data for a neural network in pyTorch. The database is composed of 3 tables:\n",
    "    - Video: to save the video information\n",
    "    - Sequence: to save the sequence information labelled with the soccer actions and record the sound of the sequence\n",
    "    - Image: to save the image information of the sequence\n",
    "    \"\"\"\n",
    "    def __init__(self, data_list, transform=None):\n",
    "        self.data_list = data_list\n",
    "        self.transform = transform\n",
    "        self.seq_length = 112\n",
    "        \n",
    "    def __len__(self):\n",
    "        return len(self.data_list)\n",
    "    \n",
    "    def __getitem__(self, idx):\n",
    "        feat_path = self.data_list[idx][0]       # path towards Baidu features\n",
    "        label_list = self.data_list[idx][1]      # list of labels\n",
    "        time_list = self.data_list[idx][2]       # list of timecodes\n",
    "\n",
    "        features = np.load(feat_path)\n",
    "        \n",
    "        #print(features.shape)\n",
    "        indStart = np.ceil(np.random.uniform(0, features.shape[0]-self.seq_length))\n",
    "        ind = np.array([True if (i >= indStart and i < indStart + self.seq_length) else False for i in range(features.shape[0])])\n",
    "        \n",
    "        \n",
    "        \n",
    "        lab, t = getTrueCoef(label_list, time_list, features.shape[0], len(cL) )\n",
    "        return (feat_path, label_list, time_list)   #not of equal size => issue"
   ]
  },
  {
   "cell_type": "code",
   "execution_count": 170,
   "metadata": {},
   "outputs": [
    {
     "name": "stdout",
     "output_type": "stream",
     "text": [
      "181\n",
      "181\n",
      "2700\n"
     ]
    }
   ],
   "source": [
    "idx = 10\n",
    "feat_path = data_l[idx][0]       # path towards Baidu features\n",
    "label_list = data_l[idx][1]      # list of labels\n",
    "time_list = data_l[idx][2]       # list of timecodes\n",
    "features = np.load(feat_path)\n",
    "\n",
    "print(len(time_list))\n",
    "print(len(label_list))\n",
    "print(features.shape[0])"
   ]
  },
  {
   "cell_type": "code",
   "execution_count": 84,
   "metadata": {},
   "outputs": [
    {
     "name": "stdout",
     "output_type": "stream",
     "text": [
      "(2700, 8576)\n",
      "(2700, 7)\n",
      "(2700, 7)\n",
      "\n",
      "\n",
      "(2700, 8576)\n",
      "(2700, 7)\n",
      "(2700, 7)\n",
      "\n",
      "\n",
      "(2700, 8576)\n",
      "(2700, 7)\n",
      "(2700, 7)\n",
      "\n",
      "\n",
      "(2700, 8576)\n",
      "(2700, 7)\n",
      "(2700, 7)\n",
      "\n",
      "\n",
      "(2700, 8576)\n",
      "(2700, 7)\n",
      "(2700, 7)\n",
      "\n",
      "\n",
      "(2700, 8576)\n",
      "(2700, 7)\n",
      "(2700, 7)\n",
      "\n",
      "\n",
      "(2700, 8576)\n",
      "(2700, 7)\n",
      "(2700, 7)\n",
      "\n",
      "\n",
      "(2919, 8576)\n"
     ]
    },
    {
     "ename": "IndexError",
     "evalue": "Caught IndexError in DataLoader worker process 0.\nOriginal Traceback (most recent call last):\n  File \"/home/mdelabrassinne/anaconda3/envs/envDeepLearning/lib/python3.9/site-packages/torch/utils/data/_utils/worker.py\", line 302, in _worker_loop\n    data = fetcher.fetch(index)\n  File \"/home/mdelabrassinne/anaconda3/envs/envDeepLearning/lib/python3.9/site-packages/torch/utils/data/_utils/fetch.py\", line 58, in fetch\n    data = [self.dataset[idx] for idx in possibly_batched_index]\n  File \"/home/mdelabrassinne/anaconda3/envs/envDeepLearning/lib/python3.9/site-packages/torch/utils/data/_utils/fetch.py\", line 58, in <listcomp>\n    data = [self.dataset[idx] for idx in possibly_batched_index]\n  File \"/tmp/ipykernel_1028044/3003076598.py\", line 30, in __getitem__\n    coef_c, coef_d = getTrueCoef(label_list, time_list, features.shape[0], len(cL) )\n  File \"/tmp/ipykernel_1028044/4275206083.py\", line 25, in getTrueCoef\n    res_conf[inds, c] = 1\nIndexError: index 2919 is out of bounds for axis 0 with size 2919\n",
     "output_type": "error",
     "traceback": [
      "\u001b[0;31m---------------------------------------------------------------------------\u001b[0m",
      "\u001b[0;31mIndexError\u001b[0m                                Traceback (most recent call last)",
      "Cell \u001b[0;32mIn[84], line 3\u001b[0m\n\u001b[1;32m      1\u001b[0m dataLearning \u001b[38;5;241m=\u001b[39m BaiduDataset(data_l)\n\u001b[1;32m      2\u001b[0m loaderLearning \u001b[38;5;241m=\u001b[39m data\u001b[38;5;241m.\u001b[39mDataLoader(dataLearning, batch_size \u001b[38;5;241m=\u001b[39m \u001b[38;5;241m20\u001b[39m, shuffle\u001b[38;5;241m=\u001b[39m \u001b[38;5;28;01mTrue\u001b[39;00m, num_workers \u001b[38;5;241m=\u001b[39m \u001b[38;5;241m1\u001b[39m)\n\u001b[0;32m----> 3\u001b[0m feat, lab, t \u001b[38;5;241m=\u001b[39m \u001b[38;5;28;43mnext\u001b[39;49m\u001b[43m(\u001b[49m\u001b[38;5;28;43miter\u001b[39;49m\u001b[43m(\u001b[49m\u001b[43mloaderLearning\u001b[49m\u001b[43m)\u001b[49m\u001b[43m)\u001b[49m\n",
      "File \u001b[0;32m~/anaconda3/envs/envDeepLearning/lib/python3.9/site-packages/torch/utils/data/dataloader.py:628\u001b[0m, in \u001b[0;36m_BaseDataLoaderIter.__next__\u001b[0;34m(self)\u001b[0m\n\u001b[1;32m    625\u001b[0m \u001b[38;5;28;01mif\u001b[39;00m \u001b[38;5;28mself\u001b[39m\u001b[38;5;241m.\u001b[39m_sampler_iter \u001b[38;5;129;01mis\u001b[39;00m \u001b[38;5;28;01mNone\u001b[39;00m:\n\u001b[1;32m    626\u001b[0m     \u001b[38;5;66;03m# TODO(https://github.com/pytorch/pytorch/issues/76750)\u001b[39;00m\n\u001b[1;32m    627\u001b[0m     \u001b[38;5;28mself\u001b[39m\u001b[38;5;241m.\u001b[39m_reset()  \u001b[38;5;66;03m# type: ignore[call-arg]\u001b[39;00m\n\u001b[0;32m--> 628\u001b[0m data \u001b[38;5;241m=\u001b[39m \u001b[38;5;28;43mself\u001b[39;49m\u001b[38;5;241;43m.\u001b[39;49m\u001b[43m_next_data\u001b[49m\u001b[43m(\u001b[49m\u001b[43m)\u001b[49m\n\u001b[1;32m    629\u001b[0m \u001b[38;5;28mself\u001b[39m\u001b[38;5;241m.\u001b[39m_num_yielded \u001b[38;5;241m+\u001b[39m\u001b[38;5;241m=\u001b[39m \u001b[38;5;241m1\u001b[39m\n\u001b[1;32m    630\u001b[0m \u001b[38;5;28;01mif\u001b[39;00m \u001b[38;5;28mself\u001b[39m\u001b[38;5;241m.\u001b[39m_dataset_kind \u001b[38;5;241m==\u001b[39m _DatasetKind\u001b[38;5;241m.\u001b[39mIterable \u001b[38;5;129;01mand\u001b[39;00m \\\n\u001b[1;32m    631\u001b[0m         \u001b[38;5;28mself\u001b[39m\u001b[38;5;241m.\u001b[39m_IterableDataset_len_called \u001b[38;5;129;01mis\u001b[39;00m \u001b[38;5;129;01mnot\u001b[39;00m \u001b[38;5;28;01mNone\u001b[39;00m \u001b[38;5;129;01mand\u001b[39;00m \\\n\u001b[1;32m    632\u001b[0m         \u001b[38;5;28mself\u001b[39m\u001b[38;5;241m.\u001b[39m_num_yielded \u001b[38;5;241m>\u001b[39m \u001b[38;5;28mself\u001b[39m\u001b[38;5;241m.\u001b[39m_IterableDataset_len_called:\n",
      "File \u001b[0;32m~/anaconda3/envs/envDeepLearning/lib/python3.9/site-packages/torch/utils/data/dataloader.py:1333\u001b[0m, in \u001b[0;36m_MultiProcessingDataLoaderIter._next_data\u001b[0;34m(self)\u001b[0m\n\u001b[1;32m   1331\u001b[0m \u001b[38;5;28;01melse\u001b[39;00m:\n\u001b[1;32m   1332\u001b[0m     \u001b[38;5;28;01mdel\u001b[39;00m \u001b[38;5;28mself\u001b[39m\u001b[38;5;241m.\u001b[39m_task_info[idx]\n\u001b[0;32m-> 1333\u001b[0m     \u001b[38;5;28;01mreturn\u001b[39;00m \u001b[38;5;28;43mself\u001b[39;49m\u001b[38;5;241;43m.\u001b[39;49m\u001b[43m_process_data\u001b[49m\u001b[43m(\u001b[49m\u001b[43mdata\u001b[49m\u001b[43m)\u001b[49m\n",
      "File \u001b[0;32m~/anaconda3/envs/envDeepLearning/lib/python3.9/site-packages/torch/utils/data/dataloader.py:1359\u001b[0m, in \u001b[0;36m_MultiProcessingDataLoaderIter._process_data\u001b[0;34m(self, data)\u001b[0m\n\u001b[1;32m   1357\u001b[0m \u001b[38;5;28mself\u001b[39m\u001b[38;5;241m.\u001b[39m_try_put_index()\n\u001b[1;32m   1358\u001b[0m \u001b[38;5;28;01mif\u001b[39;00m \u001b[38;5;28misinstance\u001b[39m(data, ExceptionWrapper):\n\u001b[0;32m-> 1359\u001b[0m     \u001b[43mdata\u001b[49m\u001b[38;5;241;43m.\u001b[39;49m\u001b[43mreraise\u001b[49m\u001b[43m(\u001b[49m\u001b[43m)\u001b[49m\n\u001b[1;32m   1360\u001b[0m \u001b[38;5;28;01mreturn\u001b[39;00m data\n",
      "File \u001b[0;32m~/anaconda3/envs/envDeepLearning/lib/python3.9/site-packages/torch/_utils.py:543\u001b[0m, in \u001b[0;36mExceptionWrapper.reraise\u001b[0;34m(self)\u001b[0m\n\u001b[1;32m    539\u001b[0m \u001b[38;5;28;01mexcept\u001b[39;00m \u001b[38;5;167;01mTypeError\u001b[39;00m:\n\u001b[1;32m    540\u001b[0m     \u001b[38;5;66;03m# If the exception takes multiple arguments, don't try to\u001b[39;00m\n\u001b[1;32m    541\u001b[0m     \u001b[38;5;66;03m# instantiate since we don't know how to\u001b[39;00m\n\u001b[1;32m    542\u001b[0m     \u001b[38;5;28;01mraise\u001b[39;00m \u001b[38;5;167;01mRuntimeError\u001b[39;00m(msg) \u001b[38;5;28;01mfrom\u001b[39;00m \u001b[38;5;28mNone\u001b[39m\n\u001b[0;32m--> 543\u001b[0m \u001b[38;5;28;01mraise\u001b[39;00m exception\n",
      "\u001b[0;31mIndexError\u001b[0m: Caught IndexError in DataLoader worker process 0.\nOriginal Traceback (most recent call last):\n  File \"/home/mdelabrassinne/anaconda3/envs/envDeepLearning/lib/python3.9/site-packages/torch/utils/data/_utils/worker.py\", line 302, in _worker_loop\n    data = fetcher.fetch(index)\n  File \"/home/mdelabrassinne/anaconda3/envs/envDeepLearning/lib/python3.9/site-packages/torch/utils/data/_utils/fetch.py\", line 58, in fetch\n    data = [self.dataset[idx] for idx in possibly_batched_index]\n  File \"/home/mdelabrassinne/anaconda3/envs/envDeepLearning/lib/python3.9/site-packages/torch/utils/data/_utils/fetch.py\", line 58, in <listcomp>\n    data = [self.dataset[idx] for idx in possibly_batched_index]\n  File \"/tmp/ipykernel_1028044/3003076598.py\", line 30, in __getitem__\n    coef_c, coef_d = getTrueCoef(label_list, time_list, features.shape[0], len(cL) )\n  File \"/tmp/ipykernel_1028044/4275206083.py\", line 25, in getTrueCoef\n    res_conf[inds, c] = 1\nIndexError: index 2919 is out of bounds for axis 0 with size 2919\n"
     ]
    },
    {
     "name": "stdout",
     "output_type": "stream",
     "text": [
      "(2700, 8576)\n",
      "(2700, 7)\n",
      "(2700, 7)\n",
      "\n",
      "\n",
      "(2811, 8576)\n",
      "(2811, 7)\n",
      "(2811, 7)\n",
      "\n",
      "\n",
      "(2700, 8576)\n",
      "(2700, 7)\n",
      "(2700, 7)\n",
      "\n",
      "\n",
      "(2700, 8576)\n",
      "(2700, 7)\n",
      "(2700, 7)\n",
      "\n",
      "\n",
      "(2700, 8576)\n",
      "(2700, 7)\n",
      "(2700, 7)\n",
      "\n",
      "\n",
      "(2797, 8576)\n",
      "(2797, 7)\n",
      "(2797, 7)\n",
      "\n",
      "\n",
      "(2700, 8576)\n",
      "(2700, 7)\n",
      "(2700, 7)\n",
      "\n",
      "\n",
      "(2933, 8576)\n",
      "(2933, 7)\n",
      "(2933, 7)\n",
      "\n",
      "\n",
      "(2700, 8576)\n",
      "(2700, 7)\n",
      "(2700, 7)\n",
      "\n",
      "\n",
      "(2700, 8576)\n",
      "(2700, 7)\n",
      "(2700, 7)\n",
      "\n",
      "\n",
      "(2700, 8576)\n",
      "(2700, 7)\n",
      "(2700, 7)\n",
      "\n",
      "\n",
      "(2720, 8576)\n",
      "(2720, 7)\n",
      "(2720, 7)\n",
      "\n",
      "\n",
      "(2700, 8576)\n",
      "(2700, 7)\n",
      "(2700, 7)\n",
      "\n",
      "\n",
      "(2700, 8576)\n",
      "(2700, 7)\n",
      "(2700, 7)\n",
      "\n",
      "\n",
      "(2700, 8576)\n",
      "(2700, 7)\n",
      "(2700, 7)\n",
      "\n",
      "\n",
      "(2700, 8576)\n",
      "(2700, 7)\n",
      "(2700, 7)\n",
      "\n",
      "\n",
      "(2819, 8576)\n",
      "(2819, 7)\n",
      "(2819, 7)\n",
      "\n",
      "\n",
      "(2700, 8576)\n",
      "(2700, 7)\n",
      "(2700, 7)\n",
      "\n",
      "\n",
      "(2911, 8576)\n",
      "(2911, 7)\n",
      "(2911, 7)\n",
      "\n",
      "\n",
      "(2712, 8576)\n",
      "(2712, 7)\n",
      "(2712, 7)\n",
      "\n",
      "\n",
      "(2700, 8576)\n",
      "(2700, 7)\n",
      "(2700, 7)\n",
      "\n",
      "\n",
      "(3036, 8576)\n",
      "(3036, 7)\n",
      "(3036, 7)\n",
      "\n",
      "\n",
      "(2700, 8576)\n",
      "(2700, 7)\n",
      "(2700, 7)\n",
      "\n",
      "\n",
      "(2839, 8576)\n",
      "(2839, 7)\n",
      "(2839, 7)\n",
      "\n",
      "\n",
      "(2700, 8576)\n",
      "(2700, 7)\n",
      "(2700, 7)\n",
      "\n",
      "\n",
      "(2821, 8576)\n",
      "(2821, 7)\n",
      "(2821, 7)\n",
      "\n",
      "\n",
      "(2700, 8576)\n",
      "(2700, 7)\n",
      "(2700, 7)\n",
      "\n",
      "\n",
      "(2803, 8576)\n",
      "(2803, 7)\n",
      "(2803, 7)\n",
      "\n",
      "\n",
      "(2700, 8576)\n",
      "(2700, 7)\n",
      "(2700, 7)\n",
      "\n",
      "\n",
      "(2766, 8576)\n",
      "(2766, 7)\n",
      "(2766, 7)\n",
      "\n",
      "\n",
      "(2700, 8576)\n",
      "(2700, 7)\n",
      "(2700, 7)\n",
      "\n",
      "\n",
      "(2700, 8576)\n",
      "(2700, 7)\n",
      "(2700, 7)\n",
      "\n",
      "\n",
      "(2700, 8576)\n",
      "(2700, 7)\n",
      "(2700, 7)\n",
      "\n",
      "\n",
      "(2700, 8576)\n",
      "(2700, 7)\n",
      "(2700, 7)\n",
      "\n",
      "\n",
      "(2700, 8576)\n",
      "(2700, 7)\n",
      "(2700, 7)\n",
      "\n",
      "\n",
      "(2700, 8576)\n",
      "(2700, 7)\n",
      "(2700, 7)\n",
      "\n",
      "\n",
      "(2700, 8576)\n"
     ]
    }
   ],
   "source": [
    "dataLearning = BaiduDataset(data_l)\n",
    "loaderLearning = data.DataLoader(dataLearning, batch_size = 20, shuffle= True, num_workers = 1)\n",
    "feat, lab, t = next(iter(loaderLearning))"
   ]
  },
  {
   "cell_type": "code",
   "execution_count": 118,
   "metadata": {},
   "outputs": [
    {
     "name": "stdout",
     "output_type": "stream",
     "text": [
      "[False False False False False False False False False False False False\n",
      " False False False False False False False False  True  True  True  True\n",
      "  True  True  True  True  True  True  True  True  True  True  True False\n",
      " False False False False False False False False False False False False\n",
      " False False False False False False False False False False False False\n",
      " False False False False False False False False False False False False\n",
      " False False False False False False False False False False False False\n",
      " False False False False False False False False False False False False\n",
      " False False False False]\n",
      "[0.25329134 0.62364651 0.5522916  0.26783181 0.65075275 0.38129595\n",
      " 0.93924415 0.28977164 0.35033819 0.83425069 0.26552837 0.98298266\n",
      " 0.35538832 0.45862694 0.64324909 0.34391024 0.56295715 0.89339315\n",
      " 0.73759986 0.88861315 0.51528868 0.46544004 0.2395967  0.53255697\n",
      " 0.39856292 0.67898395 0.35864691 0.08793207 0.03769187 0.48948458\n",
      " 0.94847351 0.49793608 0.27777819 0.2431348  0.95590225 0.76843715\n",
      " 0.31425719 0.85215932 0.74237762 0.59166815 0.25084848 0.95429455\n",
      " 0.97943971 0.31167445 0.02639285 0.28782154 0.11104862 0.40966827\n",
      " 0.30922439 0.0157834  0.34339552 0.76737144 0.23794622 0.38096089\n",
      " 0.8768409  0.73757692 0.06946745 0.21132073 0.85835952 0.44842281\n",
      " 0.56062198 0.23794409 0.91639364 0.29723362 0.68907335 0.02919494\n",
      " 0.99997068 0.96361689 0.65988952 0.78795655 0.95990803 0.41114616\n",
      " 0.74421774 0.72612292 0.0216774  0.78109943 0.34222465 0.72054882\n",
      " 0.37580007 0.36538703 0.38528982 0.43778035 0.16205677 0.31656555\n",
      " 0.33226971 0.40411987 0.27262309 0.27374604 0.50791747 0.09436914\n",
      " 0.05892055 0.77263279 0.96133624 0.13032223 0.36353762 0.65175052\n",
      " 0.41229441 0.62142997 0.32718439 0.45417768]\n",
      "0.51528867500061\n",
      "[0.51528868 0.46544004 0.2395967  0.53255697 0.39856292 0.67898395\n",
      " 0.35864691 0.08793207 0.03769187 0.48948458 0.94847351 0.49793608\n",
      " 0.27777819 0.2431348  0.95590225]\n"
     ]
    }
   ],
   "source": [
    "ind = np.array([True if (i >= 20 and i < 20 + 15) else False for i in range(100)])\n",
    "print(ind)\n",
    "\n",
    "val = np.random.uniform(size = 100)\n",
    "print(val)\n",
    "print(val[20])\n",
    "print(val[ind])"
   ]
  }
 ],
 "metadata": {
  "kernelspec": {
   "display_name": "Python [conda env:envDeepLearning]",
   "language": "python",
   "name": "conda-env-envDeepLearning-py"
  },
  "language_info": {
   "codemirror_mode": {
    "name": "ipython",
    "version": 3
   },
   "file_extension": ".py",
   "mimetype": "text/x-python",
   "name": "python",
   "nbconvert_exporter": "python",
   "pygments_lexer": "ipython3",
   "version": "3.9.16"
  }
 },
 "nbformat": 4,
 "nbformat_minor": 4
}
