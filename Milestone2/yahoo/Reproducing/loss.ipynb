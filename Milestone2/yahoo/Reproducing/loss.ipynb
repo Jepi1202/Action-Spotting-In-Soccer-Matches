{
 "cells": [
  {
   "cell_type": "code",
   "execution_count": 1,
   "metadata": {},
   "outputs": [],
   "source": [
    "def huberLoss(pred, gTruth, treshold=0.5):\n",
    "    res = pred - gTruth\n",
    "    \n",
    "    abs_res = np.abs(res)\n",
    "    quadratic_loss = 0.5 * np.square(res)\n",
    "    linear_loss = treshold * (abs_res - 0.5 * treshold)\n",
    "    \n",
    "    loss = np.where(abs_res <= treshold, quadratic_loss, linear_loss)\n",
    "    return loss"
   ]
  },
  {
   "cell_type": "code",
   "execution_count": 2,
   "metadata": {},
   "outputs": [
    {
     "ename": "SyntaxError",
     "evalue": "invalid syntax (251546954.py, line 17)",
     "output_type": "error",
     "traceback": [
      "\u001b[0;36m  Cell \u001b[0;32mIn[2], line 17\u001b[0;36m\u001b[0m\n\u001b[0;31m    t = # get timestep\u001b[0m\n\u001b[0m        ^\u001b[0m\n\u001b[0;31mSyntaxError\u001b[0m\u001b[0;31m:\u001b[0m invalid syntax\n"
     ]
    }
   ],
   "source": [
    "# confidence loss\n",
    "\n",
    "def getTrueCoef(T, nbClasses, info, r_c, f, r_d):\n",
    "    C = []      #confidence as a 2D np array instead of a list of tupes\n",
    "\n",
    "    res_conf = np.zeros((T, nbClasses))\n",
    "    res_disp = np.zeros((T, nbClasses))\n",
    "    dictClasses = {}\n",
    "    dictDisp = {}\n",
    "\n",
    "    for c in range(nbClasses):\n",
    "        dictClasses[c] = []\n",
    "        dictDisp[c] = []\n",
    "\n",
    "\n",
    "    for inf in info:        #loop over obtained labels\n",
    "        t = # get timestep\n",
    "        c = # get class\n",
    "\n",
    "        tmin = t - r_c * f\n",
    "        tmax = t + r_c * f\n",
    "        inds = np.arange(tmin, tmax+1)\n",
    "        res_conf[inds, c] = 1\n",
    "\n",
    "        dictClasses[c].append(t)\n",
    "\n",
    "    for c in range(nbClasses):\n",
    "        ind = np.array(dictClasses[c])\n",
    "        for t in range(T):\n",
    "            closestInd = np.argmin(np.abs(ind - t))         #take the one that is the most on the left if draw\n",
    "\n",
    "            res_disp[t, c] = t - ind[closestInd]\n",
    "\n",
    "            if(np.abs(t - ind[closestInd]) <= r_d * f):\n",
    "                dictDisp[c].append((t, res_disp[t, c]))\n",
    "            \n",
    "        \n",
    "    return res_conf, res_disp, dictDisp\n",
    "\n",
    "def tunDict2VectDISP(dPred, dTrue, di, nbClasses):\n",
    "\n",
    "    resPred = []\n",
    "    resTrue = []\n",
    "    for c in range(nbClasses):\n",
    "        v = di[c]\n",
    "        for elem in v:\n",
    "            t = elem[0]\n",
    "            trueVal = elem[1]\n",
    "            resPred.append(dPred[t, c])\n",
    "            resTrue.append(trueVal)\n",
    "\n",
    "\n",
    "\n",
    "def confLoss(c_preds, c_truths, classes, T):\n",
    "    res = 0\n",
    "    criterion = nn.CrossEntropyLoss()\n",
    "    for c in classes:\n",
    "        for time in range(T):\n",
    "            res += criterion(c_preds[time, c], c_truths[time, c])\n",
    "\n",
    "    return res\n",
    "\n",
    "\n",
    "def confLoss2(c_preds, c_truths, T):\n",
    "    if(c_preds.shape[0] != T):\n",
    "        c_preds = c_preds.reshape(-1)\n",
    "\n",
    "    if(c_truths.shape[0] != T):\n",
    "        c_truths = c_truths.reshape(-1)\n",
    "\n",
    "    criterion = nn.CrossEntropyLoss()       \n",
    "\n",
    "    return criterion(c_preds, c_truths)\n",
    "\n",
    "\n",
    "def dispLoss(d_preds, d_truths,classes, T):\n",
    "    res = 0\n",
    "    for c in classes:\n",
    "        for time in range(T):\n",
    "            if ...                                                  # CHECK SI ON EST DANS LE BON TIME\n",
    "            res += huberLoss(d_preds[time, c], d_truths[time, c])\n",
    "\n",
    "    return res\n",
    "\n",
    "\n",
    "def dispLoss2(d_preds, d_truths, T):\n",
    "    if(d_preds.shape[0] != T):\n",
    "        d_preds = d_preds.reshape(-1)\n",
    "\n",
    "    if(d_truths.shape[0] != T):\n",
    "        d_truths = d_truths.reshape(-1)\n",
    "\n",
    "    return huberLoss(d_preds, d_truths)"
   ]
  },
  {
   "cell_type": "code",
   "execution_count": null,
   "metadata": {},
   "outputs": [],
   "source": []
  },
  {
   "cell_type": "code",
   "execution_count": null,
   "metadata": {},
   "outputs": [],
   "source": [
    "C_test = np.random.ranndn()"
   ]
  }
 ],
 "metadata": {
  "kernelspec": {
   "display_name": "Python [conda env:envDeepLearning]",
   "language": "python",
   "name": "conda-env-envDeepLearning-py"
  },
  "language_info": {
   "codemirror_mode": {
    "name": "ipython",
    "version": 3
   },
   "file_extension": ".py",
   "mimetype": "text/x-python",
   "name": "python",
   "nbconvert_exporter": "python",
   "pygments_lexer": "ipython3",
   "version": "3.9.16"
  }
 },
 "nbformat": 4,
 "nbformat_minor": 4
}
